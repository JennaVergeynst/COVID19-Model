{
 "cells": [
  {
   "cell_type": "code",
   "execution_count": 1,
   "metadata": {
    "ExecuteTime": {
     "end_time": "2021-01-28T13:53:15.143895Z",
     "start_time": "2021-01-28T13:53:11.572610Z"
    }
   },
   "outputs": [],
   "source": [
    "import numpy as np\n",
    "%matplotlib notebook\n",
    "import matplotlib\n",
    "import matplotlib.pyplot as plt\n",
    "import matplotlib.dates as mdates\n",
    "import pandas as pd\n",
    "import datetime\n",
    "import scipy\n",
    "import json\n",
    "import random\n",
    "from math import floor\n",
    "\n",
    "from covid19model.optimization import objective_fcns\n",
    "from covid19model.models import models\n",
    "from covid19model.models.utils import draw_sample_COVID19_SEIRD\n",
    "from covid19model.models.time_dependant_parameter_fncs import ramp_fun, google_lockdown\n",
    "from covid19model.data import mobility, sciensano, model_parameters\n",
    "from covid19model.visualization.output import population_status, infected, _apply_tick_locator\n",
    "from covid19model.visualization.optimization import plot_fit, traceplot\n",
    "\n",
    "plt.rcParams.update({'font.size': 12, 'axes.grid':True, 'grid.linewidth':0.3})\n",
    "pd.plotting.register_matplotlib_converters()\n",
    "\n",
    "# OPTIONAL: Load the \"autoreload\" extension so that package code can change\n",
    "%load_ext autoreload\n",
    "# OPTIONAL: always reload modules so that as you change code in src, it gets loaded\n",
    "%autoreload 2"
   ]
  },
  {
   "cell_type": "code",
   "execution_count": 2,
   "metadata": {
    "ExecuteTime": {
     "end_time": "2021-01-28T13:53:15.233339Z",
     "start_time": "2021-01-28T13:53:15.150680Z"
    }
   },
   "outputs": [],
   "source": [
    "%load_ext snakeviz"
   ]
  },
  {
   "cell_type": "code",
   "execution_count": 3,
   "metadata": {
    "ExecuteTime": {
     "end_time": "2021-01-28T13:53:15.701497Z",
     "start_time": "2021-01-28T13:53:15.236684Z"
    }
   },
   "outputs": [],
   "source": [
    "initN, Nc_home, Nc_work, Nc_schools, Nc_transport, Nc_leisure, Nc_others, Nc_total = model_parameters.get_interaction_matrices(dataset='willem_2012', spatial='arr')"
   ]
  },
  {
   "cell_type": "code",
   "execution_count": 4,
   "metadata": {
    "ExecuteTime": {
     "end_time": "2021-01-28T13:53:15.750361Z",
     "start_time": "2021-01-28T13:53:15.703613Z"
    }
   },
   "outputs": [],
   "source": [
    "# Need to initiate I also with the co-infection model, otherwise divison by zero occurs\n",
    "initial_states = {'S': initN, 'E': np.ones(initN.shape), 'I': np.ones(initN.shape)}"
   ]
  },
  {
   "cell_type": "code",
   "execution_count": 5,
   "metadata": {
    "ExecuteTime": {
     "end_time": "2021-01-28T13:53:16.497229Z",
     "start_time": "2021-01-28T13:53:15.752425Z"
    }
   },
   "outputs": [],
   "source": [
    "params = model_parameters.get_COVID19_SEIRD_parameters(spatial='arr')\n",
    "dummy_spatial_model = models.COVID19_SEIRD_spatial(initial_states, params, spatial='arr')\n"
   ]
  },
  {
   "cell_type": "code",
   "execution_count": 6,
   "metadata": {
    "ExecuteTime": {
     "end_time": "2021-01-28T13:53:16.566600Z",
     "start_time": "2021-01-28T13:53:16.499578Z"
    }
   },
   "outputs": [],
   "source": [
    "start_calibration = '2021-01-01'\n",
    "#end_calibration = '2020-11-12'\n",
    "end_sim = '2021-09-01'"
   ]
  },
  {
   "cell_type": "code",
   "execution_count": null,
   "metadata": {
    "ExecuteTime": {
     "end_time": "2021-01-28T09:58:43.895054Z",
     "start_time": "2021-01-28T09:58:43.840267Z"
    }
   },
   "outputs": [],
   "source": [
    "#dummy_spatial_model.sim(time=end_sim, start_date=start_calibration)"
   ]
  },
  {
   "cell_type": "code",
   "execution_count": 7,
   "metadata": {
    "ExecuteTime": {
     "end_time": "2021-01-28T13:53:16.636230Z",
     "start_time": "2021-01-28T13:53:16.569135Z"
    }
   },
   "outputs": [],
   "source": [
    "pi = params['pi']\n",
    "place = params['place']\n",
    "Nc = params['Nc']\n",
    "G = place.shape[0] # spatial stratification\n",
    "N = Nc.shape[0] # age stratification\n",
    "area = params['area']\n",
    "xi = params['xi']\n",
    "beta = params['beta']\n",
    "K = params['K']\n",
    "s = params['s']"
   ]
  },
  {
   "cell_type": "code",
   "execution_count": 8,
   "metadata": {
    "ExecuteTime": {
     "end_time": "2021-01-28T13:53:16.936569Z",
     "start_time": "2021-01-28T13:53:16.856191Z"
    }
   },
   "outputs": [],
   "source": [
    "T = np.ones([G,N])\n",
    "A = np.ones([G,N])\n",
    "I = np.ones([G,N])\n",
    "S = initial_states['S']\n",
    "V = np.ones([G,N]) \n",
    "alpha = np.ones([G,N]) "
   ]
  },
  {
   "cell_type": "markdown",
   "metadata": {},
   "source": [
    "# Loop 1"
   ]
  },
  {
   "cell_type": "code",
   "execution_count": 9,
   "metadata": {
    "ExecuteTime": {
     "end_time": "2021-01-28T13:53:19.273977Z",
     "start_time": "2021-01-28T13:53:19.055100Z"
    }
   },
   "outputs": [],
   "source": [
    "#%%timeit\n",
    "T_eff = np.zeros([G,N]) # initialise\n",
    "A_eff = np.zeros([G,N])\n",
    "I_eff = np.zeros([G,N])\n",
    "for g in range(G):\n",
    "    for i in range(N):\n",
    "        sumT = 0\n",
    "        sumA = 0\n",
    "        sumI = 0\n",
    "        sumAlpha = 0\n",
    "        # patch h is taken, so iterator for a sum is gg\n",
    "        for gg in range(G):\n",
    "            term1 = (1 - pi[i]) * np.identity(G)[gg][g]\n",
    "            term2 = pi[i] * place[gg][g]\n",
    "            sumT += (term1 + term2) * T[gg][i]\n",
    "            sumA += (term1 + term2) * A[gg][i]\n",
    "            sumI += (term1 + term2) * I[gg][i]\n",
    "        T_eff[g][i] = sumT\n",
    "        A_eff[g][i] = sumA\n",
    "        I_eff[g][i] = sumI\n"
   ]
  },
  {
   "cell_type": "code",
   "execution_count": 10,
   "metadata": {
    "ExecuteTime": {
     "end_time": "2021-01-28T13:53:28.698304Z",
     "start_time": "2021-01-28T13:53:19.343310Z"
    }
   },
   "outputs": [
    {
     "name": "stdout",
     "output_type": "stream",
     "text": [
      "113 µs ± 6.82 µs per loop (mean ± std. dev. of 7 runs, 10000 loops each)\n"
     ]
    }
   ],
   "source": [
    "%%timeit\n",
    "result_T = (1-pi)*np.matmul(np.identity(G),T) + pi*np.matmul(np.transpose(place),T)\n",
    "result_A = (1-pi)*np.matmul(np.identity(G),A) + pi*np.matmul(np.transpose(place),A)\n",
    "result_I = (1-pi)*np.matmul(np.identity(G),I) + pi*np.matmul(np.transpose(place),I)"
   ]
  },
  {
   "cell_type": "code",
   "execution_count": null,
   "metadata": {
    "ExecuteTime": {
     "end_time": "2021-01-28T07:39:38.369537Z",
     "start_time": "2021-01-28T07:39:38.323364Z"
    }
   },
   "outputs": [],
   "source": [
    "133000/93"
   ]
  },
  {
   "cell_type": "code",
   "execution_count": null,
   "metadata": {
    "ExecuteTime": {
     "end_time": "2021-01-28T07:39:20.326744Z",
     "start_time": "2021-01-28T07:39:20.275779Z"
    },
    "scrolled": true
   },
   "outputs": [],
   "source": [
    "result_A.round(9)==A_eff.round(9)"
   ]
  },
  {
   "cell_type": "markdown",
   "metadata": {},
   "source": [
    "# Loop 2"
   ]
  },
  {
   "cell_type": "code",
   "execution_count": null,
   "metadata": {},
   "outputs": [],
   "source": [
    "# np.outer gebruiken om extra dimensie te maken??"
   ]
  },
  {
   "cell_type": "code",
   "execution_count": 384,
   "metadata": {
    "ExecuteTime": {
     "end_time": "2021-01-29T18:47:15.539716Z",
     "start_time": "2021-01-29T18:47:13.320215Z"
    }
   },
   "outputs": [
    {
     "name": "stdout",
     "output_type": "stream",
     "text": [
      "272 ms ± 9.3 ms per loop (mean ± std. dev. of 7 runs, 1 loop each)\n"
     ]
    }
   ],
   "source": [
    "%%timeit\n",
    "Susc = np.zeros([G,G,N])\n",
    "V_Susc = np.zeros([G,G,N]) # vaccinated people that did not reach immunity\n",
    "for gg in range(G):\n",
    "    for hh in range(G):\n",
    "        for i in range(N):\n",
    "            Susc[gg][hh][i] = pi[i] * place[gg][hh] * S[gg][i] + (1 - pi[i]) * np.identity(G)[gg][hh] * S[gg][i]       \n",
    "            V_Susc[gg][hh][i] = pi[i] * place[gg][hh] * V[gg][i] + (1 - pi[i]) * np.identity(G)[gg][hh] * V[gg][i] "
   ]
  },
  {
   "cell_type": "code",
   "execution_count": 389,
   "metadata": {
    "ExecuteTime": {
     "end_time": "2021-01-29T18:50:29.983371Z",
     "start_time": "2021-01-29T18:50:25.536725Z"
    }
   },
   "outputs": [
    {
     "name": "stdout",
     "output_type": "stream",
     "text": [
      "537 µs ± 52.2 µs per loop (mean ± std. dev. of 7 runs, 1000 loops each)\n"
     ]
    }
   ],
   "source": [
    "%%timeit\n",
    "Susc = np.zeros([G,G,N])\n",
    "#V_Susc = np.zeros([G,G,N])\n",
    "for i in range(N):\n",
    "    Susc[:,:,i] =  pi[i]*place*S[:,[i]] + (1 - pi[i])*np.identity(G)*S[:,[i]]\n",
    "#    V_Susc[:,:,i] =  pi[i]*place*V[:,[i]] + (1 - pi[i])*np.identity(G)*V[:,[i]]\n"
   ]
  },
  {
   "cell_type": "code",
   "execution_count": 381,
   "metadata": {
    "ExecuteTime": {
     "end_time": "2021-01-29T18:47:01.339134Z",
     "start_time": "2021-01-29T18:47:01.288789Z"
    }
   },
   "outputs": [],
   "source": [
    "#Susc.round(6)==Susc2.round(6)"
   ]
  },
  {
   "cell_type": "code",
   "execution_count": 386,
   "metadata": {
    "ExecuteTime": {
     "end_time": "2021-01-29T18:47:21.870401Z",
     "start_time": "2021-01-29T18:47:19.709771Z"
    }
   },
   "outputs": [
    {
     "name": "stdout",
     "output_type": "stream",
     "text": [
      "239 µs ± 3.87 µs per loop (mean ± std. dev. of 7 runs, 1000 loops each)\n"
     ]
    }
   ],
   "source": [
    "%%timeit\n",
    "Susc3 = (pi[np.newaxis, np.newaxis,:]*place[:,:,np.newaxis]*S[:,np.newaxis,:] + \n",
    "         (1-pi[np.newaxis, np.newaxis,:])*np.identity(G)[:,:,np.newaxis]*S[:,np.newaxis,:])"
   ]
  },
  {
   "cell_type": "code",
   "execution_count": 387,
   "metadata": {
    "ExecuteTime": {
     "end_time": "2021-01-29T18:47:34.511523Z",
     "start_time": "2021-01-29T18:47:34.466453Z"
    }
   },
   "outputs": [
    {
     "data": {
      "text/plain": [
       "1138.0753138075313"
      ]
     },
     "execution_count": 387,
     "metadata": {},
     "output_type": "execute_result"
    }
   ],
   "source": [
    "272000/239"
   ]
  },
  {
   "cell_type": "code",
   "execution_count": 366,
   "metadata": {
    "ExecuteTime": {
     "end_time": "2021-01-29T18:41:36.205962Z",
     "start_time": "2021-01-29T18:41:36.165967Z"
    },
    "scrolled": true
   },
   "outputs": [],
   "source": [
    "### This is what happens under the hood in previous cell\n",
    "\n",
    "# place_3D = np.repeat(place[:, :, np.newaxis], 9, axis=2)\n",
    "# S_3D = np.repeat(S[:, np.newaxis, :], 43, axis=1)\n",
    "# pi_2D = np.repeat(pi[np.newaxis, :], 43, axis=0)\n",
    "# pi_3D = np.repeat(pi_2D[np.newaxis, :, :], 43, axis=0)\n",
    "# Susc_3D = pi_3D * place_3D * S_3D"
   ]
  },
  {
   "cell_type": "code",
   "execution_count": 383,
   "metadata": {
    "ExecuteTime": {
     "end_time": "2021-01-29T18:47:07.470429Z",
     "start_time": "2021-01-29T18:47:07.417877Z"
    }
   },
   "outputs": [],
   "source": [
    "#Susc.round(6)==Susc3.round(6)"
   ]
  },
  {
   "cell_type": "markdown",
   "metadata": {},
   "source": [
    "# Loop 3"
   ]
  },
  {
   "cell_type": "code",
   "execution_count": 12,
   "metadata": {
    "ExecuteTime": {
     "end_time": "2021-01-28T13:53:33.843839Z",
     "start_time": "2021-01-28T13:53:33.791463Z"
    }
   },
   "outputs": [],
   "source": [
    "T_eff = (1-pi)*np.matmul(np.identity(G),T) + pi*np.matmul(np.transpose(place),T)\n"
   ]
  },
  {
   "cell_type": "code",
   "execution_count": 13,
   "metadata": {
    "ExecuteTime": {
     "end_time": "2021-01-28T13:53:34.564805Z",
     "start_time": "2021-01-28T13:53:34.517330Z"
    }
   },
   "outputs": [],
   "source": [
    "# Density dependence per patch: f[patch]\n",
    "T_eff_total = T_eff.sum(axis=1)\n",
    "rho = T_eff_total / area\n",
    "f = 1 + (1 - np.exp(-xi * rho))"
   ]
  },
  {
   "cell_type": "code",
   "execution_count": 18,
   "metadata": {
    "ExecuteTime": {
     "end_time": "2021-01-28T13:54:08.246955Z",
     "start_time": "2021-01-28T13:54:08.194932Z"
    }
   },
   "outputs": [],
   "source": [
    "#%%timeit\n",
    "Ti = T.sum(axis=0)\n",
    "denom = np.zeros(N)\n",
    "for gg in range(G):\n",
    "    value = f[gg] * T_eff[gg]\n",
    "    denom += value\n",
    "zi = Ti / denom"
   ]
  },
  {
   "cell_type": "code",
   "execution_count": 19,
   "metadata": {
    "ExecuteTime": {
     "end_time": "2021-01-28T13:54:10.604253Z",
     "start_time": "2021-01-28T13:54:10.553350Z"
    }
   },
   "outputs": [],
   "source": [
    "#%%timeit\n",
    "Ti = T.sum(axis=0)\n",
    "zi1 = Ti / np.matmul(np.transpose(T_eff),f)"
   ]
  },
  {
   "cell_type": "code",
   "execution_count": null,
   "metadata": {
    "ExecuteTime": {
     "end_time": "2021-01-28T10:01:00.735376Z",
     "start_time": "2021-01-28T10:01:00.671252Z"
    }
   },
   "outputs": [],
   "source": [
    "162/10"
   ]
  },
  {
   "cell_type": "code",
   "execution_count": 20,
   "metadata": {
    "ExecuteTime": {
     "end_time": "2021-01-28T13:54:12.210052Z",
     "start_time": "2021-01-28T13:54:12.161140Z"
    }
   },
   "outputs": [
    {
     "data": {
      "text/plain": [
       "array([ True,  True,  True,  True,  True,  True,  True,  True,  True])"
      ]
     },
     "execution_count": 20,
     "metadata": {},
     "output_type": "execute_result"
    }
   ],
   "source": [
    "zi1.round(8) == zi1.round(8)"
   ]
  },
  {
   "cell_type": "markdown",
   "metadata": {},
   "source": [
    "# Loop 4"
   ]
  },
  {
   "cell_type": "code",
   "execution_count": 21,
   "metadata": {
    "ExecuteTime": {
     "end_time": "2021-01-28T13:54:16.382952Z",
     "start_time": "2021-01-28T13:54:16.331021Z"
    }
   },
   "outputs": [],
   "source": [
    "alpha_eff = (1-pi)*np.matmul(np.identity(G),alpha) + pi*np.matmul(np.transpose(place),alpha)"
   ]
  },
  {
   "cell_type": "code",
   "execution_count": 29,
   "metadata": {
    "ExecuteTime": {
     "end_time": "2021-01-28T13:56:37.744561Z",
     "start_time": "2021-01-28T13:56:37.646108Z"
    }
   },
   "outputs": [],
   "source": [
    "#%%timeit\n",
    "B = np.zeros([G,N])\n",
    "for gg in range(G):\n",
    "    for i in range(N):\n",
    "        sumj = 0\n",
    "        for j in range(N):\n",
    "            beta_weighted_av = (1-alpha_eff[gg,j])*beta + alpha_eff[gg,j]*K*beta\n",
    "            term = beta_weighted_av * s[i] * zi[i] * f[gg] * Nc[i,j] * (I_eff[gg,j] + A_eff[gg,j]) / T_eff[gg,j]\n",
    "            #term = beta * s[i] * Nc[i,j] * (I_eff[gg,j] + A_eff[gg,j]) / T_eff[gg,j]\n",
    "            sumj += term\n",
    "        B[gg][i] = sumj"
   ]
  },
  {
   "cell_type": "code",
   "execution_count": 30,
   "metadata": {
    "ExecuteTime": {
     "end_time": "2021-01-28T13:56:52.691742Z",
     "start_time": "2021-01-28T13:56:52.640248Z"
    }
   },
   "outputs": [],
   "source": [
    "#%%timeit\n",
    "beta_weighted_av = (1-alpha_eff)*beta + alpha_eff*K*beta\n",
    "multip = np.outer(f, s*zi)*(I_eff + A_eff) / T_eff\n",
    "B2 = beta_weighted_av*np.matmul(multip, np.transpose(Nc))"
   ]
  },
  {
   "cell_type": "code",
   "execution_count": 27,
   "metadata": {
    "ExecuteTime": {
     "end_time": "2021-01-28T13:54:51.972602Z",
     "start_time": "2021-01-28T13:54:51.910058Z"
    }
   },
   "outputs": [
    {
     "data": {
      "text/plain": [
       "750.0"
      ]
     },
     "execution_count": 27,
     "metadata": {},
     "output_type": "execute_result"
    }
   ],
   "source": [
    "21000/28"
   ]
  },
  {
   "cell_type": "code",
   "execution_count": 31,
   "metadata": {
    "ExecuteTime": {
     "end_time": "2021-01-28T13:56:54.395965Z",
     "start_time": "2021-01-28T13:56:54.341601Z"
    },
    "collapsed": true
   },
   "outputs": [
    {
     "data": {
      "text/plain": [
       "array([[ True,  True,  True,  True,  True,  True,  True,  True,  True],\n",
       "       [ True,  True,  True,  True,  True,  True,  True,  True,  True],\n",
       "       [ True,  True,  True,  True,  True,  True,  True,  True,  True],\n",
       "       [ True,  True,  True,  True,  True,  True,  True,  True,  True],\n",
       "       [ True,  True,  True,  True,  True,  True,  True,  True,  True],\n",
       "       [ True,  True,  True,  True,  True,  True,  True,  True,  True],\n",
       "       [ True,  True,  True,  True,  True,  True,  True,  True,  True],\n",
       "       [ True,  True,  True,  True,  True,  True,  True,  True,  True],\n",
       "       [ True,  True,  True,  True,  True,  True,  True,  True,  True],\n",
       "       [ True,  True,  True,  True,  True,  True,  True,  True,  True],\n",
       "       [ True,  True,  True,  True,  True,  True,  True,  True,  True],\n",
       "       [ True,  True,  True,  True,  True,  True,  True,  True,  True],\n",
       "       [ True,  True,  True,  True,  True,  True,  True,  True,  True],\n",
       "       [ True,  True,  True,  True,  True,  True,  True,  True,  True],\n",
       "       [ True,  True,  True,  True,  True,  True,  True,  True,  True],\n",
       "       [ True,  True,  True,  True,  True,  True,  True,  True,  True],\n",
       "       [ True,  True,  True,  True,  True,  True,  True,  True,  True],\n",
       "       [ True,  True,  True,  True,  True,  True,  True,  True,  True],\n",
       "       [ True,  True,  True,  True,  True,  True,  True,  True,  True],\n",
       "       [ True,  True,  True,  True,  True,  True,  True,  True,  True],\n",
       "       [ True,  True,  True,  True,  True,  True,  True,  True,  True],\n",
       "       [ True,  True,  True,  True,  True,  True,  True,  True,  True],\n",
       "       [ True,  True,  True,  True,  True,  True,  True,  True,  True],\n",
       "       [ True,  True,  True,  True,  True,  True,  True,  True,  True],\n",
       "       [ True,  True,  True,  True,  True,  True,  True,  True,  True],\n",
       "       [ True,  True,  True,  True,  True,  True,  True,  True,  True],\n",
       "       [ True,  True,  True,  True,  True,  True,  True,  True,  True],\n",
       "       [ True,  True,  True,  True,  True,  True,  True,  True,  True],\n",
       "       [ True,  True,  True,  True,  True,  True,  True,  True,  True],\n",
       "       [ True,  True,  True,  True,  True,  True,  True,  True,  True],\n",
       "       [ True,  True,  True,  True,  True,  True,  True,  True,  True],\n",
       "       [ True,  True,  True,  True,  True,  True,  True,  True,  True],\n",
       "       [ True,  True,  True,  True,  True,  True,  True,  True,  True],\n",
       "       [ True,  True,  True,  True,  True,  True,  True,  True,  True],\n",
       "       [ True,  True,  True,  True,  True,  True,  True,  True,  True],\n",
       "       [ True,  True,  True,  True,  True,  True,  True,  True,  True],\n",
       "       [ True,  True,  True,  True,  True,  True,  True,  True,  True],\n",
       "       [ True,  True,  True,  True,  True,  True,  True,  True,  True],\n",
       "       [ True,  True,  True,  True,  True,  True,  True,  True,  True],\n",
       "       [ True,  True,  True,  True,  True,  True,  True,  True,  True],\n",
       "       [ True,  True,  True,  True,  True,  True,  True,  True,  True],\n",
       "       [ True,  True,  True,  True,  True,  True,  True,  True,  True],\n",
       "       [ True,  True,  True,  True,  True,  True,  True,  True,  True]])"
      ]
     },
     "execution_count": 31,
     "metadata": {},
     "output_type": "execute_result"
    }
   ],
   "source": [
    "B.round(6)==B2.round(6)"
   ]
  },
  {
   "cell_type": "markdown",
   "metadata": {},
   "source": [
    "# Loop 5"
   ]
  },
  {
   "cell_type": "code",
   "execution_count": 86,
   "metadata": {
    "ExecuteTime": {
     "end_time": "2021-01-28T16:17:59.455958Z",
     "start_time": "2021-01-28T16:17:55.790613Z"
    }
   },
   "outputs": [
    {
     "name": "stdout",
     "output_type": "stream",
     "text": [
      "44 ms ± 3.31 ms per loop (mean ± std. dev. of 7 runs, 10 loops each)\n"
     ]
    }
   ],
   "source": [
    "%%timeit\n",
    "# Infection from sum over all patches\n",
    "dS_inf = np.zeros([G,N])\n",
    "dV_inf = np.zeros([G,N])\n",
    "for gg in range(G):\n",
    "    for i in range(N):\n",
    "        sumhh = 0\n",
    "        sumhh_V = 0\n",
    "        for hh in range(G):\n",
    "            term = Susc[gg][hh][i] * B[hh][i]\n",
    "            sumhh += term\n",
    "            term_V = V_Susc[gg][hh][i] * B[hh][i]\n",
    "            sumhh_V += term_V                    \n",
    "        dS_inf[gg][i] = sumhh\n",
    "        dV_inf[gg][i] = sumhh_V"
   ]
  },
  {
   "cell_type": "code",
   "execution_count": 87,
   "metadata": {
    "ExecuteTime": {
     "end_time": "2021-01-28T16:18:11.625513Z",
     "start_time": "2021-01-28T16:18:00.069573Z"
    }
   },
   "outputs": [
    {
     "name": "stdout",
     "output_type": "stream",
     "text": [
      "141 µs ± 2.91 µs per loop (mean ± std. dev. of 7 runs, 10000 loops each)\n"
     ]
    }
   ],
   "source": [
    "%%timeit\n",
    "dS_inf2 = (Susc*B).sum(axis=1)\n",
    "dV_inf2 = (V_Susc*B).sum(axis=1)"
   ]
  },
  {
   "cell_type": "code",
   "execution_count": 88,
   "metadata": {
    "ExecuteTime": {
     "end_time": "2021-01-28T16:18:14.872690Z",
     "start_time": "2021-01-28T16:18:14.806118Z"
    }
   },
   "outputs": [
    {
     "data": {
      "text/plain": [
       "312.0567375886525"
      ]
     },
     "execution_count": 88,
     "metadata": {},
     "output_type": "execute_result"
    }
   ],
   "source": [
    "44000/141"
   ]
  },
  {
   "cell_type": "code",
   "execution_count": 84,
   "metadata": {
    "ExecuteTime": {
     "end_time": "2021-01-28T16:17:28.651565Z",
     "start_time": "2021-01-28T16:17:28.586266Z"
    },
    "collapsed": true
   },
   "outputs": [
    {
     "data": {
      "text/plain": [
       "array([[ True,  True,  True,  True,  True,  True,  True,  True,  True],\n",
       "       [ True,  True,  True,  True,  True,  True,  True,  True,  True],\n",
       "       [ True,  True,  True,  True,  True,  True,  True,  True,  True],\n",
       "       [ True,  True,  True,  True,  True,  True,  True,  True,  True],\n",
       "       [ True,  True,  True,  True,  True,  True,  True,  True,  True],\n",
       "       [ True,  True,  True,  True,  True,  True,  True,  True,  True],\n",
       "       [ True,  True,  True,  True,  True,  True,  True,  True,  True],\n",
       "       [ True,  True,  True,  True,  True,  True,  True,  True,  True],\n",
       "       [ True,  True,  True,  True,  True,  True,  True,  True,  True],\n",
       "       [ True,  True,  True,  True,  True,  True,  True,  True,  True],\n",
       "       [ True,  True,  True,  True,  True,  True,  True,  True,  True],\n",
       "       [ True,  True,  True,  True,  True,  True,  True,  True,  True],\n",
       "       [ True,  True,  True,  True,  True,  True,  True,  True,  True],\n",
       "       [ True,  True,  True,  True,  True,  True,  True,  True,  True],\n",
       "       [ True,  True,  True,  True,  True,  True,  True,  True,  True],\n",
       "       [ True,  True,  True,  True,  True,  True,  True,  True,  True],\n",
       "       [ True,  True,  True,  True,  True,  True,  True,  True,  True],\n",
       "       [ True,  True,  True,  True,  True,  True,  True,  True,  True],\n",
       "       [ True,  True,  True,  True,  True,  True,  True,  True,  True],\n",
       "       [ True,  True,  True,  True,  True,  True,  True,  True,  True],\n",
       "       [ True,  True,  True,  True,  True,  True,  True,  True,  True],\n",
       "       [ True,  True,  True,  True,  True,  True,  True,  True,  True],\n",
       "       [ True,  True,  True,  True,  True,  True,  True,  True,  True],\n",
       "       [ True,  True,  True,  True,  True,  True,  True,  True,  True],\n",
       "       [ True,  True,  True,  True,  True,  True,  True,  True,  True],\n",
       "       [ True,  True,  True,  True,  True,  True,  True,  True,  True],\n",
       "       [ True,  True,  True,  True,  True,  True,  True,  True,  True],\n",
       "       [ True,  True,  True,  True,  True,  True,  True,  True,  True],\n",
       "       [ True,  True,  True,  True,  True,  True,  True,  True,  True],\n",
       "       [ True,  True,  True,  True,  True,  True,  True,  True,  True],\n",
       "       [ True,  True,  True,  True,  True,  True,  True,  True,  True],\n",
       "       [ True,  True,  True,  True,  True,  True,  True,  True,  True],\n",
       "       [ True,  True,  True,  True,  True,  True,  True,  True,  True],\n",
       "       [ True,  True,  True,  True,  True,  True,  True,  True,  True],\n",
       "       [ True,  True,  True,  True,  True,  True,  True,  True,  True],\n",
       "       [ True,  True,  True,  True,  True,  True,  True,  True,  True],\n",
       "       [ True,  True,  True,  True,  True,  True,  True,  True,  True],\n",
       "       [ True,  True,  True,  True,  True,  True,  True,  True,  True],\n",
       "       [ True,  True,  True,  True,  True,  True,  True,  True,  True],\n",
       "       [ True,  True,  True,  True,  True,  True,  True,  True,  True],\n",
       "       [ True,  True,  True,  True,  True,  True,  True,  True,  True],\n",
       "       [ True,  True,  True,  True,  True,  True,  True,  True,  True],\n",
       "       [ True,  True,  True,  True,  True,  True,  True,  True,  True]])"
      ]
     },
     "execution_count": 84,
     "metadata": {},
     "output_type": "execute_result"
    }
   ],
   "source": [
    "dS_inf==dS_inf2"
   ]
  },
  {
   "cell_type": "code",
   "execution_count": 85,
   "metadata": {
    "ExecuteTime": {
     "end_time": "2021-01-28T16:17:42.163604Z",
     "start_time": "2021-01-28T16:17:42.109930Z"
    },
    "collapsed": true
   },
   "outputs": [
    {
     "data": {
      "text/plain": [
       "array([[ True,  True,  True,  True,  True,  True,  True,  True,  True],\n",
       "       [ True,  True,  True,  True,  True,  True,  True,  True,  True],\n",
       "       [ True,  True,  True,  True,  True,  True,  True,  True,  True],\n",
       "       [ True,  True,  True,  True,  True,  True,  True,  True,  True],\n",
       "       [ True,  True,  True,  True,  True,  True,  True,  True,  True],\n",
       "       [ True,  True,  True,  True,  True,  True,  True,  True,  True],\n",
       "       [ True,  True,  True,  True,  True,  True,  True,  True,  True],\n",
       "       [ True,  True,  True,  True,  True,  True,  True,  True,  True],\n",
       "       [ True,  True,  True,  True,  True,  True,  True,  True,  True],\n",
       "       [ True,  True,  True,  True,  True,  True,  True,  True,  True],\n",
       "       [ True,  True,  True,  True,  True,  True,  True,  True,  True],\n",
       "       [ True,  True,  True,  True,  True,  True,  True,  True,  True],\n",
       "       [ True,  True,  True,  True,  True,  True,  True,  True,  True],\n",
       "       [ True,  True,  True,  True,  True,  True,  True,  True,  True],\n",
       "       [ True,  True,  True,  True,  True,  True,  True,  True,  True],\n",
       "       [ True,  True,  True,  True,  True,  True,  True,  True,  True],\n",
       "       [ True,  True,  True,  True,  True,  True,  True,  True,  True],\n",
       "       [ True,  True,  True,  True,  True,  True,  True,  True,  True],\n",
       "       [ True,  True,  True,  True,  True,  True,  True,  True,  True],\n",
       "       [ True,  True,  True,  True,  True,  True,  True,  True,  True],\n",
       "       [ True,  True,  True,  True,  True,  True,  True,  True,  True],\n",
       "       [ True,  True,  True,  True,  True,  True,  True,  True,  True],\n",
       "       [ True,  True,  True,  True,  True,  True,  True,  True,  True],\n",
       "       [ True,  True,  True,  True,  True,  True,  True,  True,  True],\n",
       "       [ True,  True,  True,  True,  True,  True,  True,  True,  True],\n",
       "       [ True,  True,  True,  True,  True,  True,  True,  True,  True],\n",
       "       [ True,  True,  True,  True,  True,  True,  True,  True,  True],\n",
       "       [ True,  True,  True,  True,  True,  True,  True,  True,  True],\n",
       "       [ True,  True,  True,  True,  True,  True,  True,  True,  True],\n",
       "       [ True,  True,  True,  True,  True,  True,  True,  True,  True],\n",
       "       [ True,  True,  True,  True,  True,  True,  True,  True,  True],\n",
       "       [ True,  True,  True,  True,  True,  True,  True,  True,  True],\n",
       "       [ True,  True,  True,  True,  True,  True,  True,  True,  True],\n",
       "       [ True,  True,  True,  True,  True,  True,  True,  True,  True],\n",
       "       [ True,  True,  True,  True,  True,  True,  True,  True,  True],\n",
       "       [ True,  True,  True,  True,  True,  True,  True,  True,  True],\n",
       "       [ True,  True,  True,  True,  True,  True,  True,  True,  True],\n",
       "       [ True,  True,  True,  True,  True,  True,  True,  True,  True],\n",
       "       [ True,  True,  True,  True,  True,  True,  True,  True,  True],\n",
       "       [ True,  True,  True,  True,  True,  True,  True,  True,  True],\n",
       "       [ True,  True,  True,  True,  True,  True,  True,  True,  True],\n",
       "       [ True,  True,  True,  True,  True,  True,  True,  True,  True],\n",
       "       [ True,  True,  True,  True,  True,  True,  True,  True,  True]])"
      ]
     },
     "execution_count": 85,
     "metadata": {},
     "output_type": "execute_result"
    }
   ],
   "source": [
    "dV_inf==dV_inf2"
   ]
  }
 ],
 "metadata": {
  "kernelspec": {
   "display_name": "Python 3",
   "language": "python",
   "name": "python3"
  },
  "language_info": {
   "codemirror_mode": {
    "name": "ipython",
    "version": 3
   },
   "file_extension": ".py",
   "mimetype": "text/x-python",
   "name": "python",
   "nbconvert_exporter": "python",
   "pygments_lexer": "ipython3",
   "version": "3.8.2"
  },
  "toc": {
   "base_numbering": 1,
   "nav_menu": {},
   "number_sections": true,
   "sideBar": true,
   "skip_h1_title": false,
   "title_cell": "Table of Contents",
   "title_sidebar": "Contents",
   "toc_cell": false,
   "toc_position": {},
   "toc_section_display": true,
   "toc_window_display": false
  }
 },
 "nbformat": 4,
 "nbformat_minor": 4
}
