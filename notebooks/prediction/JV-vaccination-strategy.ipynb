{
 "cells": [
  {
   "cell_type": "markdown",
   "metadata": {
    "toc": true
   },
   "source": [
    "<h1>Table of Contents<span class=\"tocSkip\"></span></h1>\n",
    "<div class=\"toc\"><ul class=\"toc-item\"><li><span><a href=\"#Data,-policy-and-model-initialization\" data-toc-modified-id=\"Data,-policy-and-model-initialization-1\"><span class=\"toc-item-num\">1&nbsp;&nbsp;</span>Data, policy and model initialization</a></span><ul class=\"toc-item\"><li><span><a href=\"#Load-contact-data\" data-toc-modified-id=\"Load-contact-data-1.1\"><span class=\"toc-item-num\">1.1&nbsp;&nbsp;</span>Load contact data</a></span></li><li><span><a href=\"#Load-publically-available-data-from-Sciensano\" data-toc-modified-id=\"Load-publically-available-data-from-Sciensano-1.2\"><span class=\"toc-item-num\">1.2&nbsp;&nbsp;</span>Load publically available data from Sciensano</a></span></li><li><span><a href=\"#Load-posterior-parameter-distributions-of-calibrated-parameters\" data-toc-modified-id=\"Load-posterior-parameter-distributions-of-calibrated-parameters-1.3\"><span class=\"toc-item-num\">1.3&nbsp;&nbsp;</span>Load posterior parameter distributions of calibrated parameters</a></span></li><li><span><a href=\"#Settings\" data-toc-modified-id=\"Settings-1.4\"><span class=\"toc-item-num\">1.4&nbsp;&nbsp;</span>Settings</a></span></li></ul></li><li><span><a href=\"#Helpfunctions-vaccination\" data-toc-modified-id=\"Helpfunctions-vaccination-2\"><span class=\"toc-item-num\">2&nbsp;&nbsp;</span>Helpfunctions vaccination</a></span></li><li><span><a href=\"#Vaccination-functions\" data-toc-modified-id=\"Vaccination-functions-3\"><span class=\"toc-item-num\">3&nbsp;&nbsp;</span>Vaccination functions</a></span><ul class=\"toc-item\"><li><span><a href=\"#Equal-divide-after-elderly\" data-toc-modified-id=\"Equal-divide-after-elderly-3.1\"><span class=\"toc-item-num\">3.1&nbsp;&nbsp;</span>Equal divide after elderly</a></span></li><li><span><a href=\"#Prioritise-after-elderly\" data-toc-modified-id=\"Prioritise-after-elderly-3.2\"><span class=\"toc-item-num\">3.2&nbsp;&nbsp;</span>Prioritise after elderly</a></span></li></ul></li><li><span><a href=\"#Functions\" data-toc-modified-id=\"Functions-4\"><span class=\"toc-item-num\">4&nbsp;&nbsp;</span>Functions</a></span></li><li><span><a href=\"#Time-dep-functions\" data-toc-modified-id=\"Time-dep-functions-5\"><span class=\"toc-item-num\">5&nbsp;&nbsp;</span>Time-dep functions</a></span></li><li><span><a href=\"#Test-model\" data-toc-modified-id=\"Test-model-6\"><span class=\"toc-item-num\">6&nbsp;&nbsp;</span>Test model</a></span></li><li><span><a href=\"#Test-vacc-strategy\" data-toc-modified-id=\"Test-vacc-strategy-7\"><span class=\"toc-item-num\">7&nbsp;&nbsp;</span>Test vacc strategy</a></span></li><li><span><a href=\"#Test-UK-injection\" data-toc-modified-id=\"Test-UK-injection-8\"><span class=\"toc-item-num\">8&nbsp;&nbsp;</span>Test UK injection</a></span></li><li><span><a href=\"#Verify-vaccination-function\" data-toc-modified-id=\"Verify-vaccination-function-9\"><span class=\"toc-item-num\">9&nbsp;&nbsp;</span>Verify vaccination function</a></span><ul class=\"toc-item\"><li><span><a href=\"#Overall\" data-toc-modified-id=\"Overall-9.1\"><span class=\"toc-item-num\">9.1&nbsp;&nbsp;</span>Overall</a></span></li><li><span><a href=\"#Per-age-group\" data-toc-modified-id=\"Per-age-group-9.2\"><span class=\"toc-item-num\">9.2&nbsp;&nbsp;</span>Per age group</a></span></li></ul></li><li><span><a href=\"#Test-spatial-model\" data-toc-modified-id=\"Test-spatial-model-10\"><span class=\"toc-item-num\">10&nbsp;&nbsp;</span>Test spatial model</a></span></li><li><span><a href=\"#Scenarios\" data-toc-modified-id=\"Scenarios-11\"><span class=\"toc-item-num\">11&nbsp;&nbsp;</span>Scenarios</a></span><ul class=\"toc-item\"><li><span><a href=\"#Run-and-save-all-scenarios\" data-toc-modified-id=\"Run-and-save-all-scenarios-11.1\"><span class=\"toc-item-num\">11.1&nbsp;&nbsp;</span>Run and save all scenarios</a></span></li><li><span><a href=\"#Scenarios-S1-(current-behaviour)\" data-toc-modified-id=\"Scenarios-S1-(current-behaviour)-11.2\"><span class=\"toc-item-num\">11.2&nbsp;&nbsp;</span>Scenarios S1 (current behaviour)</a></span><ul class=\"toc-item\"><li><span><a href=\"#S1a---K-=-1.3\" data-toc-modified-id=\"S1a---K-=-1.3-11.2.1\"><span class=\"toc-item-num\">11.2.1&nbsp;&nbsp;</span>S1a - K = 1.3</a></span></li><li><span><a href=\"#S1b---K-=-1.5\" data-toc-modified-id=\"S1b---K-=-1.5-11.2.2\"><span class=\"toc-item-num\">11.2.2&nbsp;&nbsp;</span>S1b - K = 1.5</a></span></li><li><span><a href=\"#S1c---K-=-1.7\" data-toc-modified-id=\"S1c---K-=-1.7-11.2.3\"><span class=\"toc-item-num\">11.2.3&nbsp;&nbsp;</span>S1c - K = 1.7</a></span></li></ul></li><li><span><a href=\"#Scenarios-S2-(september-behaviour-March-1)\" data-toc-modified-id=\"Scenarios-S2-(september-behaviour-March-1)-11.3\"><span class=\"toc-item-num\">11.3&nbsp;&nbsp;</span>Scenarios S2 (september behaviour March 1)</a></span><ul class=\"toc-item\"><li><span><a href=\"#S2a---K-=-1.3\" data-toc-modified-id=\"S2a---K-=-1.3-11.3.1\"><span class=\"toc-item-num\">11.3.1&nbsp;&nbsp;</span>S2a - K = 1.3</a></span></li><li><span><a href=\"#S2b---K-=-1.5\" data-toc-modified-id=\"S2b---K-=-1.5-11.3.2\"><span class=\"toc-item-num\">11.3.2&nbsp;&nbsp;</span>S2b - K = 1.5</a></span></li></ul></li><li><span><a href=\"#Scenarios-SNV1-(vaccination-effect)\" data-toc-modified-id=\"Scenarios-SNV1-(vaccination-effect)-11.4\"><span class=\"toc-item-num\">11.4&nbsp;&nbsp;</span>Scenarios SNV1 (vaccination effect)</a></span><ul class=\"toc-item\"><li><span><a href=\"#S3a-(S2b-without-vaccination)\" data-toc-modified-id=\"S3a-(S2b-without-vaccination)-11.4.1\"><span class=\"toc-item-num\">11.4.1&nbsp;&nbsp;</span>S3a (S2b without vaccination)</a></span></li><li><span><a href=\"#S4a-(S1b-without-vaccination)\" data-toc-modified-id=\"S4a-(S1b-without-vaccination)-11.4.2\"><span class=\"toc-item-num\">11.4.2&nbsp;&nbsp;</span>S4a (S1b without vaccination)</a></span></li></ul></li></ul></li><li><span><a href=\"#Visualise\" data-toc-modified-id=\"Visualise-12\"><span class=\"toc-item-num\">12&nbsp;&nbsp;</span>Visualise</a></span><ul class=\"toc-item\"><li><span><a href=\"#S1-and-S2\" data-toc-modified-id=\"S1-and-S2-12.1\"><span class=\"toc-item-num\">12.1&nbsp;&nbsp;</span>S1 and S2</a></span></li><li><span><a href=\"#Vaccination-effect\" data-toc-modified-id=\"Vaccination-effect-12.2\"><span class=\"toc-item-num\">12.2&nbsp;&nbsp;</span>Vaccination effect</a></span></li></ul></li><li><span><a href=\"#Alternative-scenarios-A1\" data-toc-modified-id=\"Alternative-scenarios-A1-13\"><span class=\"toc-item-num\">13&nbsp;&nbsp;</span>Alternative scenarios A1</a></span><ul class=\"toc-item\"><li><span><a href=\"#A1a---vacc---old-strain\" data-toc-modified-id=\"A1a---vacc---old-strain-13.1\"><span class=\"toc-item-num\">13.1&nbsp;&nbsp;</span>A1a - vacc - old strain</a></span></li><li><span><a href=\"#A1b---no-vacc---new-strain\" data-toc-modified-id=\"A1b---no-vacc---new-strain-13.2\"><span class=\"toc-item-num\">13.2&nbsp;&nbsp;</span>A1b - no vacc - new strain</a></span></li><li><span><a href=\"#A1c---vaccination---old-strain\" data-toc-modified-id=\"A1c---vaccination---old-strain-13.3\"><span class=\"toc-item-num\">13.3&nbsp;&nbsp;</span>A1c - vaccination - old strain</a></span></li><li><span><a href=\"#A1d---vaccination---new-strain\" data-toc-modified-id=\"A1d---vaccination---new-strain-13.4\"><span class=\"toc-item-num\">13.4&nbsp;&nbsp;</span>A1d - vaccination - new strain</a></span></li><li><span><a href=\"#Visualise\" data-toc-modified-id=\"Visualise-13.5\"><span class=\"toc-item-num\">13.5&nbsp;&nbsp;</span>Visualise</a></span></li></ul></li><li><span><a href=\"#Alternative-scenarios-A2\" data-toc-modified-id=\"Alternative-scenarios-A2-14\"><span class=\"toc-item-num\">14&nbsp;&nbsp;</span>Alternative scenarios A2</a></span><ul class=\"toc-item\"><li><span><a href=\"#A2a---no-vacc---old-strain\" data-toc-modified-id=\"A2a---no-vacc---old-strain-14.1\"><span class=\"toc-item-num\">14.1&nbsp;&nbsp;</span>A2a - no vacc - old strain</a></span></li><li><span><a href=\"#A2b---no-vacc---new-strain\" data-toc-modified-id=\"A2b---no-vacc---new-strain-14.2\"><span class=\"toc-item-num\">14.2&nbsp;&nbsp;</span>A2b - no vacc - new strain</a></span></li><li><span><a href=\"#A2c---vaccination---old-strain\" data-toc-modified-id=\"A2c---vaccination---old-strain-14.3\"><span class=\"toc-item-num\">14.3&nbsp;&nbsp;</span>A2c - vaccination - old strain</a></span></li><li><span><a href=\"#A2d---vaccination---new-strain\" data-toc-modified-id=\"A2d---vaccination---new-strain-14.4\"><span class=\"toc-item-num\">14.4&nbsp;&nbsp;</span>A2d - vaccination - new strain</a></span></li><li><span><a href=\"#Visualise\" data-toc-modified-id=\"Visualise-14.5\"><span class=\"toc-item-num\">14.5&nbsp;&nbsp;</span>Visualise</a></span></li></ul></li><li><span><a href=\"#Save-data\" data-toc-modified-id=\"Save-data-15\"><span class=\"toc-item-num\">15&nbsp;&nbsp;</span>Save data</a></span></li><li><span><a href=\"#Plot-saved-data\" data-toc-modified-id=\"Plot-saved-data-16\"><span class=\"toc-item-num\">16&nbsp;&nbsp;</span>Plot saved data</a></span></li></ul></div>"
   ]
  },
  {
   "cell_type": "markdown",
   "metadata": {},
   "source": [
    "\n",
    "*Authored by J. Vergeynst*\n",
    "\n",
    "Copyright (c) 2021 by J. Vergeynst, BIOMATH, Ghent University. All Rights Reserved."
   ]
  },
  {
   "cell_type": "code",
   "execution_count": 1,
   "metadata": {
    "ExecuteTime": {
     "end_time": "2021-03-11T07:47:13.267481Z",
     "start_time": "2021-03-11T07:46:26.689422Z"
    }
   },
   "outputs": [],
   "source": [
    "import numpy as np\n",
    "%matplotlib notebook\n",
    "import matplotlib\n",
    "import matplotlib.pyplot as plt\n",
    "import matplotlib.dates as mdates\n",
    "import pandas as pd\n",
    "import datetime\n",
    "import scipy\n",
    "import json\n",
    "import random\n",
    "from math import floor, ceil\n",
    "\n",
    "from covid19model.optimization import objective_fcns\n",
    "from covid19model.models import models\n",
    "from covid19model.models.utils import draw_sample_COVID19_SEIRD\n",
    "from covid19model.models.time_dependant_parameter_fncs import ramp_fun, google_lockdown\n",
    "from covid19model.data import mobility, sciensano, model_parameters\n",
    "from covid19model.visualization.output import population_status, infected, _apply_tick_locator\n",
    "from covid19model.visualization.optimization import plot_fit, traceplot\n",
    "\n",
    "plt.rcParams.update({'font.size': 12, 'axes.grid':True, 'grid.linewidth':0.3})\n",
    "pd.plotting.register_matplotlib_converters()\n",
    "\n",
    "# OPTIONAL: Load the \"autoreload\" extension so that package code can change\n",
    "%load_ext autoreload\n",
    "# OPTIONAL: always reload modules so that as you change code in src, it gets loaded\n",
    "%autoreload 2"
   ]
  },
  {
   "cell_type": "code",
   "execution_count": null,
   "metadata": {
    "ExecuteTime": {
     "end_time": "2021-03-09T07:21:21.246927Z",
     "start_time": "2021-03-09T07:21:21.093839Z"
    }
   },
   "outputs": [],
   "source": [
    "%load_ext snakeviz"
   ]
  },
  {
   "cell_type": "code",
   "execution_count": null,
   "metadata": {
    "ExecuteTime": {
     "end_time": "2021-02-11T09:24:42.853982Z",
     "start_time": "2021-02-11T09:24:42.793204Z"
    }
   },
   "outputs": [],
   "source": [
    "plt.rcParams.update({\n",
    "    \"lines.linewidth\" : 3,\n",
    "    \"axes.spines.top\": True,\n",
    "    \"axes.spines.right\": True,\n",
    "    \"ytick.major.left\": True,\n",
    "    \"axes.grid\": True\n",
    "})"
   ]
  },
  {
   "cell_type": "markdown",
   "metadata": {},
   "source": [
    "# Data, policy and model initialization"
   ]
  },
  {
   "cell_type": "markdown",
   "metadata": {},
   "source": [
    "## Load contact data"
   ]
  },
  {
   "cell_type": "code",
   "execution_count": 2,
   "metadata": {
    "ExecuteTime": {
     "end_time": "2021-03-11T07:47:15.312747Z",
     "start_time": "2021-03-11T07:47:13.278495Z"
    }
   },
   "outputs": [],
   "source": [
    "# Load the interaction matrices (size: 9x9)\n",
    "initN, Nc_home, Nc_work, Nc_schools, Nc_transport, Nc_leisure, Nc_others, Nc_total = model_parameters.get_interaction_matrices(dataset='willem_2012',intensity='all')\n",
    "# Define the number of age categories\n",
    "levels = initN.size\n",
    "\n",
    "initN, Nc_home_15, Nc_work_15, Nc_schools_15, Nc_transport_15, Nc_leisure_15, Nc_others_15, Nc_total_15 = model_parameters.get_interaction_matrices(dataset='willem_2012',intensity='more_15_min')\n",
    "initN, Nc_home_1hr, Nc_work_1hr, Nc_schools_1hr, Nc_transport_1hr, Nc_leisure_1hr, Nc_others_1hr, Nc_total_1hr = model_parameters.get_interaction_matrices(dataset='willem_2012',intensity='more_one_hour')"
   ]
  },
  {
   "cell_type": "code",
   "execution_count": 3,
   "metadata": {
    "ExecuteTime": {
     "end_time": "2021-03-11T07:47:15.415883Z",
     "start_time": "2021-03-11T07:47:15.320786Z"
    }
   },
   "outputs": [],
   "source": [
    "Nc_all = {'total': Nc_total, 'home':Nc_home, 'work': Nc_work, 'schools': Nc_schools, 'transport': Nc_transport, 'leisure': Nc_leisure, 'others': Nc_others}\n",
    "Nc_15min = {'total': Nc_total_15, 'home': Nc_home_15, 'work': Nc_work_15, 'schools': Nc_schools_15, 'transport': Nc_transport_15, 'leisure': Nc_leisure_15, 'others': Nc_others_15}\n",
    "Nc_1hr = {'total': Nc_total_1hr, 'home': Nc_home_1hr, 'work': Nc_work_1hr, 'schools': Nc_schools_1hr, 'transport': Nc_transport_1hr, 'leisure': Nc_leisure_1hr, 'others': Nc_others_1hr}"
   ]
  },
  {
   "cell_type": "markdown",
   "metadata": {},
   "source": [
    "## Load publically available data from Sciensano"
   ]
  },
  {
   "cell_type": "code",
   "execution_count": 4,
   "metadata": {
    "ExecuteTime": {
     "end_time": "2021-03-11T07:47:16.047062Z",
     "start_time": "2021-03-11T07:47:15.441911Z"
    }
   },
   "outputs": [],
   "source": [
    "df_sciensano = sciensano.get_sciensano_COVID19_data(update=False)\n",
    "df_sciensano['D_cum'] = df_sciensano.D_tot.cumsum()"
   ]
  },
  {
   "cell_type": "code",
   "execution_count": 5,
   "metadata": {
    "ExecuteTime": {
     "end_time": "2021-03-11T07:47:16.223751Z",
     "start_time": "2021-03-11T07:47:16.052724Z"
    }
   },
   "outputs": [],
   "source": [
    "df_google = mobility.get_google_mobility_data(update=False, plot=False)"
   ]
  },
  {
   "cell_type": "markdown",
   "metadata": {},
   "source": [
    "## Load posterior parameter distributions of calibrated parameters"
   ]
  },
  {
   "cell_type": "code",
   "execution_count": 6,
   "metadata": {
    "ExecuteTime": {
     "end_time": "2021-03-11T07:47:17.866973Z",
     "start_time": "2021-03-11T07:47:16.227337Z"
    }
   },
   "outputs": [],
   "source": [
    "# Load samples dictionaries\n",
    "with open('../../data/interim/model_parameters/COVID19_SEIRD/calibrations/national/BE_4_prev_full_2021-01-30_WAVE2_GOOGLE.json', 'r') as fp:\n",
    "    samples_dict = json.load(fp)\n",
    "\n",
    "with open('../../data/interim/model_parameters/COVID19_SEIRD/calibrations/national/initial_states_2020-09-01.json', 'r') as fp:\n",
    "    initial_states_sept = json.load(fp) \n",
    "    \n",
    "# Set initial states of VE (vaccine elegible)\n",
    "initial_states_sept['VE'] = (np.array(initial_states_sept['S'])+\n",
    "                             np.array(initial_states_sept['R'])+\n",
    "                             np.array(initial_states_sept['E'])+\n",
    "                             np.array(initial_states_sept['I'])+\n",
    "                             np.array(initial_states_sept['A'])).squeeze()"
   ]
  },
  {
   "cell_type": "code",
   "execution_count": null,
   "metadata": {
    "ExecuteTime": {
     "end_time": "2020-12-02T10:14:49.867274Z",
     "start_time": "2020-12-02T10:14:49.825611Z"
    }
   },
   "outputs": [],
   "source": [
    "# fig,ax = plt.subplots()\n",
    "# pd.Series(samples_dict['beta']).hist()\n",
    "# pd.Series(samples_dict['tau']).hist()"
   ]
  },
  {
   "cell_type": "markdown",
   "metadata": {},
   "source": [
    "## Settings"
   ]
  },
  {
   "cell_type": "code",
   "execution_count": 7,
   "metadata": {
    "ExecuteTime": {
     "end_time": "2021-03-11T07:47:17.955055Z",
     "start_time": "2021-03-11T07:47:17.871816Z"
    }
   },
   "outputs": [],
   "source": [
    "UL = 0.975\n",
    "LL = 0.025"
   ]
  },
  {
   "cell_type": "code",
   "execution_count": 8,
   "metadata": {
    "ExecuteTime": {
     "end_time": "2021-03-11T07:47:18.110837Z",
     "start_time": "2021-03-11T07:47:17.972647Z"
    }
   },
   "outputs": [],
   "source": [
    "start_calibration = '2021-01-01'\n",
    "end_sim = '2021-09-01'"
   ]
  },
  {
   "cell_type": "markdown",
   "metadata": {},
   "source": [
    "Alle vaccins twee dosissen nodig (Pfizer, Moderna, AstraZeneca, Curevac) behalve Johnson&Johnson (pas vanaf mei)"
   ]
  },
  {
   "cell_type": "code",
   "execution_count": 212,
   "metadata": {
    "ExecuteTime": {
     "end_time": "2021-03-11T12:24:44.726074Z",
     "start_time": "2021-03-11T12:24:44.681403Z"
    }
   },
   "outputs": [],
   "source": [
    "# doses per day (Regeringscommissariaat Corona, published by De Tijd)\n",
    "d = {}\n",
    "d['jan'] = np.array(31765)[np.newaxis][np.newaxis]\n",
    "d['feb'] = np.array(45897)[np.newaxis][np.newaxis]\n",
    "d['mar-apr'] = np.array(128499)[np.newaxis][np.newaxis]\n",
    "d['may-aug'] = np.array(78358)[np.newaxis][np.newaxis]\n",
    "\n",
    "# proportion of age group living in nursing homes\n",
    "# for simplicity we will use the data for respectively age groups 60+, 70+ and 80+\n",
    "NH = {}\n",
    "NH['65+'] = 0.007\n",
    "NH['75+'] = (0.05+0.029)/2\n",
    "NH['85+'] = (0.137+0.267)/2\n",
    "\n",
    "NH_to_vacc = {}\n",
    "NH_to_vacc[8] = NH['85+']*initial_states_sept['VE'][8][np.newaxis][np.newaxis]\n",
    "NH_to_vacc[7] = NH['75+']*initial_states_sept['VE'][7][np.newaxis][np.newaxis]\n",
    "NH_to_vacc[6]= NH['65+']*initial_states_sept['VE'][6][np.newaxis][np.newaxis]"
   ]
  },
  {
   "cell_type": "markdown",
   "metadata": {},
   "source": [
    "# Helpfunctions vaccination"
   ]
  },
  {
   "cell_type": "code",
   "execution_count": null,
   "metadata": {
    "ExecuteTime": {
     "end_time": "2021-03-10T07:09:52.881057Z",
     "start_time": "2021-03-10T07:09:52.803955Z"
    }
   },
   "outputs": [],
   "source": [
    "# def sigmoid(x,mi, mx): \n",
    "#     return mi + (mx-mi)*(lambda t: (1+200**(-t+0.5))**(-1) )( (x-mi)/(mx-mi) )"
   ]
  },
  {
   "cell_type": "code",
   "execution_count": 10,
   "metadata": {
    "ExecuteTime": {
     "end_time": "2021-03-11T07:47:18.334140Z",
     "start_time": "2021-03-11T07:47:18.237103Z"
    }
   },
   "outputs": [],
   "source": [
    "def smoothclamp(x, mi, mx): \n",
    "    return mi + (mx-mi)*(lambda t: np.where(t < 0 , 0, np.where( t <= 1 , 3*t**2-2*t**3, 1 ) ) )( (x-mi)/(mx-mi) )"
   ]
  },
  {
   "cell_type": "code",
   "execution_count": null,
   "metadata": {
    "ExecuteTime": {
     "end_time": "2021-03-04T16:33:54.793484Z",
     "start_time": "2021-03-04T16:33:54.735511Z"
    }
   },
   "outputs": [],
   "source": [
    "# dose=1000\n",
    "# fig, ax = plt.subplots(1, 1)\n",
    "# x = np.linspace(0, dose)\n",
    "# ax.plot(x, np.clip(x, 0, dose),'k-', lw=2, alpha=0.8, label='clamp')\n",
    "# ax.plot(x, smoothclamp(x, 0, dose),'g-', lw=3, alpha=0.5, label='smoothclamp')\n",
    "# ax.plot(x, sigmoid(x, 0, dose),'b-', lw=3, alpha=0.5, label='sigmoid')\n",
    "# plt.legend(loc='upper left')\n",
    "# plt.show()"
   ]
  },
  {
   "cell_type": "code",
   "execution_count": 296,
   "metadata": {
    "ExecuteTime": {
     "end_time": "2021-03-11T12:40:20.613297Z",
     "start_time": "2021-03-11T12:40:20.566626Z"
    }
   },
   "outputs": [],
   "source": [
    "def smooth_dose(dose, sense, start_dose=0, end_dose=0, N=1000):\n",
    "    if sense == 'up':\n",
    "        x = np.linspace(start_dose, dose.squeeze(), num=N).transpose()\n",
    "        return smoothclamp(x, start_dose, dose)\n",
    "    elif sense == 'down':\n",
    "        x = np.linspace(dose.squeeze(), end_dose, num=N).transpose()\n",
    "        return smoothclamp(x, dose, end_dose)\n",
    "    else:\n",
    "        raise ValueError(\n",
    "                \"sense must be 'up' or 'down' \"\n",
    "            )"
   ]
  },
  {
   "cell_type": "code",
   "execution_count": 297,
   "metadata": {
    "ExecuteTime": {
     "end_time": "2021-03-11T12:40:20.805310Z",
     "start_time": "2021-03-11T12:40:20.761921Z"
    }
   },
   "outputs": [],
   "source": [
    "def smooth_dose_ts(daily_dose, start_t, end_t, spread, start_dose=0, end_dose=0, N=1000):\n",
    "    \"\"\"\n",
    "    max_to_vacc : max number to vaccinate\n",
    "    daily_dose : daily number of vaccinations\n",
    "    spread : number of days at start and end to spread out step function\n",
    "    N : resolution of the smoothed step function\n",
    "    start_dose : level to start smoothing from (0 or previous daily dose)\n",
    "    \n",
    "    \"\"\"\n",
    "    constant_period = np.linspace(start_t+spread, end_t-spread, num=ceil(end_t))\n",
    "    \n",
    "    ts = np.concatenate((np.linspace(start_t, start_t+spread, num=N), \n",
    "                         constant_period,\n",
    "                         np.linspace(end_t-spread, end_t, num=N)  \n",
    "                         )) \n",
    "    \n",
    "    doses = np.concatenate((smooth_dose(daily_dose, 'up', start_dose=start_dose, N=N),\n",
    "                    np.repeat(np.array(daily_dose), len(constant_period), axis=1),\n",
    "                    smooth_dose(daily_dose, 'down', end_dose=end_dose, N=N)), axis=1)\n",
    "    return ts, doses"
   ]
  },
  {
   "cell_type": "code",
   "execution_count": 352,
   "metadata": {
    "ExecuteTime": {
     "end_time": "2021-03-11T13:02:56.256447Z",
     "start_time": "2021-03-11T13:02:56.194796Z"
    }
   },
   "outputs": [],
   "source": [
    "def smooth_dose_ts_open_end(daily_dose, start_t, spread, start_dose=0, N_days=100, N=1000):\n",
    "    \"\"\"\n",
    "    max_to_vacc : max number to vaccinate\n",
    "    daily_dose : daily number of vaccinations\n",
    "    N_days : number of days to spread out open end\n",
    "    spread : number of days at start/end to spread out step function\n",
    "    N : resolution of the smoothed step function\n",
    "    \n",
    "    \"\"\"\n",
    "    constant_period = np.linspace(start_t+spread, N_days, num=N)\n",
    "    \n",
    "    ts = np.concatenate((np.linspace(start_t, start_t+spread, num=N), \n",
    "                         constant_period\n",
    "                         )) \n",
    "    \n",
    "    doses = np.concatenate((smooth_dose(daily_dose, 'up', start_dose=start_dose, N=N),\n",
    "                            np.repeat(np.array(daily_dose), len(constant_period), axis=1)\n",
    "                            ), axis=1)\n",
    "    return ts, doses"
   ]
  },
  {
   "cell_type": "code",
   "execution_count": 14,
   "metadata": {
    "ExecuteTime": {
     "end_time": "2021-03-11T07:47:18.817501Z",
     "start_time": "2021-03-11T07:47:18.729347Z"
    }
   },
   "outputs": [],
   "source": [
    "def find_nearest_idx(array, value):\n",
    "    array = np.asarray(array)\n",
    "    idx = (np.abs(array - value)).argmin()\n",
    "    return idx"
   ]
  },
  {
   "cell_type": "code",
   "execution_count": 15,
   "metadata": {
    "ExecuteTime": {
     "end_time": "2021-03-11T07:47:18.955614Z",
     "start_time": "2021-03-11T07:47:18.822038Z"
    }
   },
   "outputs": [],
   "source": [
    "def calc_N_vacc(N_vacc, age, prev_age, VE_states, dose, leftover, flag):\n",
    "    if (VE_states[:,[age]] > leftover) and flag:\n",
    "        dose = dose-N_vacc[:,[prev_age]]\n",
    "        N_vacc[:,[age]] = dose \n",
    "        flag=False\n",
    "        if (VE_states[:,[age]]-leftover) <= dose:\n",
    "            N_vacc[:,[age]] = VE_states[:,[age]]-leftover \n",
    "            flag=True\n",
    "    return N_vacc[:,[age]], flag"
   ]
  },
  {
   "cell_type": "code",
   "execution_count": 324,
   "metadata": {
    "ExecuteTime": {
     "end_time": "2021-03-11T12:54:54.214488Z",
     "start_time": "2021-03-11T12:54:54.158458Z"
    }
   },
   "outputs": [],
   "source": [
    "daily_dose = d_spatial['jan']/2\n",
    "end_t = (NH_8_to_vacc/daily_dose)[0][0]\n",
    "end_t2 = end_t+NH_7_to_vacc/daily_dose[0][0]\n",
    "end_t3 = end_t2 + NH_6_to_vacc/daily_dose[0][0]\n",
    "end = 30"
   ]
  },
  {
   "cell_type": "code",
   "execution_count": 317,
   "metadata": {
    "ExecuteTime": {
     "end_time": "2021-03-11T12:53:16.997107Z",
     "start_time": "2021-03-11T12:53:16.931541Z"
    }
   },
   "outputs": [],
   "source": [
    "N_days = 100\n",
    "start_dose=8000\n",
    "end_dose=12000\n",
    "constant_period = np.linspace(start_t+spread, N_days, num=N)"
   ]
  },
  {
   "cell_type": "code",
   "execution_count": 314,
   "metadata": {
    "ExecuteTime": {
     "end_time": "2021-03-11T12:47:42.781295Z",
     "start_time": "2021-03-11T12:47:42.728609Z"
    }
   },
   "outputs": [
    {
     "data": {
      "text/plain": [
       "(1000,)"
      ]
     },
     "execution_count": 314,
     "metadata": {},
     "output_type": "execute_result"
    }
   ],
   "source": [
    "constant_period.shape"
   ]
  },
  {
   "cell_type": "code",
   "execution_count": 325,
   "metadata": {
    "ExecuteTime": {
     "end_time": "2021-03-11T12:54:56.864231Z",
     "start_time": "2021-03-11T12:54:56.781401Z"
    },
    "scrolled": false
   },
   "outputs": [],
   "source": [
    "ts1, doses1 = smooth_dose_ts(daily_dose, 0, end_t, spread=2)\n",
    "ts2, doses2 = smooth_dose_ts(daily_dose, end_t, end_t2, spread=1)\n",
    "ts3, doses3 = smooth_dose_ts(daily_dose, end_t2, end_t3, spread=0.3)\n",
    "ts4, doses4 = smooth_dose_ts(daily_dose, end_t3, end, spread=2, start_dose=8000, end_dose=12000)\n",
    "\n",
    "# fig,ax = plt.subplots()\n",
    "# ax.plot(ts1,doses1[0,:])\n",
    "# ax.plot(ts2,doses2[0,:])\n",
    "# ax.plot(ts3,doses3[0,:])\n",
    "# ax.plot(ts4,doses4[0,:])"
   ]
  },
  {
   "cell_type": "code",
   "execution_count": 350,
   "metadata": {
    "ExecuteTime": {
     "end_time": "2021-03-11T13:02:23.510100Z",
     "start_time": "2021-03-11T13:02:23.423609Z"
    }
   },
   "outputs": [
    {
     "name": "stdout",
     "output_type": "stream",
     "text": [
      "(2000,)\n",
      "(43, 2000)\n"
     ]
    },
    {
     "data": {
      "application/javascript": [
       "/* Put everything inside the global mpl namespace */\n",
       "window.mpl = {};\n",
       "\n",
       "\n",
       "mpl.get_websocket_type = function() {\n",
       "    if (typeof(WebSocket) !== 'undefined') {\n",
       "        return WebSocket;\n",
       "    } else if (typeof(MozWebSocket) !== 'undefined') {\n",
       "        return MozWebSocket;\n",
       "    } else {\n",
       "        alert('Your browser does not have WebSocket support. ' +\n",
       "              'Please try Chrome, Safari or Firefox ≥ 6. ' +\n",
       "              'Firefox 4 and 5 are also supported but you ' +\n",
       "              'have to enable WebSockets in about:config.');\n",
       "    };\n",
       "}\n",
       "\n",
       "mpl.figure = function(figure_id, websocket, ondownload, parent_element) {\n",
       "    this.id = figure_id;\n",
       "\n",
       "    this.ws = websocket;\n",
       "\n",
       "    this.supports_binary = (this.ws.binaryType != undefined);\n",
       "\n",
       "    if (!this.supports_binary) {\n",
       "        var warnings = document.getElementById(\"mpl-warnings\");\n",
       "        if (warnings) {\n",
       "            warnings.style.display = 'block';\n",
       "            warnings.textContent = (\n",
       "                \"This browser does not support binary websocket messages. \" +\n",
       "                    \"Performance may be slow.\");\n",
       "        }\n",
       "    }\n",
       "\n",
       "    this.imageObj = new Image();\n",
       "\n",
       "    this.context = undefined;\n",
       "    this.message = undefined;\n",
       "    this.canvas = undefined;\n",
       "    this.rubberband_canvas = undefined;\n",
       "    this.rubberband_context = undefined;\n",
       "    this.format_dropdown = undefined;\n",
       "\n",
       "    this.image_mode = 'full';\n",
       "\n",
       "    this.root = $('<div/>');\n",
       "    this._root_extra_style(this.root)\n",
       "    this.root.attr('style', 'display: inline-block');\n",
       "\n",
       "    $(parent_element).append(this.root);\n",
       "\n",
       "    this._init_header(this);\n",
       "    this._init_canvas(this);\n",
       "    this._init_toolbar(this);\n",
       "\n",
       "    var fig = this;\n",
       "\n",
       "    this.waiting = false;\n",
       "\n",
       "    this.ws.onopen =  function () {\n",
       "            fig.send_message(\"supports_binary\", {value: fig.supports_binary});\n",
       "            fig.send_message(\"send_image_mode\", {});\n",
       "            if (mpl.ratio != 1) {\n",
       "                fig.send_message(\"set_dpi_ratio\", {'dpi_ratio': mpl.ratio});\n",
       "            }\n",
       "            fig.send_message(\"refresh\", {});\n",
       "        }\n",
       "\n",
       "    this.imageObj.onload = function() {\n",
       "            if (fig.image_mode == 'full') {\n",
       "                // Full images could contain transparency (where diff images\n",
       "                // almost always do), so we need to clear the canvas so that\n",
       "                // there is no ghosting.\n",
       "                fig.context.clearRect(0, 0, fig.canvas.width, fig.canvas.height);\n",
       "            }\n",
       "            fig.context.drawImage(fig.imageObj, 0, 0);\n",
       "        };\n",
       "\n",
       "    this.imageObj.onunload = function() {\n",
       "        fig.ws.close();\n",
       "    }\n",
       "\n",
       "    this.ws.onmessage = this._make_on_message_function(this);\n",
       "\n",
       "    this.ondownload = ondownload;\n",
       "}\n",
       "\n",
       "mpl.figure.prototype._init_header = function() {\n",
       "    var titlebar = $(\n",
       "        '<div class=\"ui-dialog-titlebar ui-widget-header ui-corner-all ' +\n",
       "        'ui-helper-clearfix\"/>');\n",
       "    var titletext = $(\n",
       "        '<div class=\"ui-dialog-title\" style=\"width: 100%; ' +\n",
       "        'text-align: center; padding: 3px;\"/>');\n",
       "    titlebar.append(titletext)\n",
       "    this.root.append(titlebar);\n",
       "    this.header = titletext[0];\n",
       "}\n",
       "\n",
       "\n",
       "\n",
       "mpl.figure.prototype._canvas_extra_style = function(canvas_div) {\n",
       "\n",
       "}\n",
       "\n",
       "\n",
       "mpl.figure.prototype._root_extra_style = function(canvas_div) {\n",
       "\n",
       "}\n",
       "\n",
       "mpl.figure.prototype._init_canvas = function() {\n",
       "    var fig = this;\n",
       "\n",
       "    var canvas_div = $('<div/>');\n",
       "\n",
       "    canvas_div.attr('style', 'position: relative; clear: both; outline: 0');\n",
       "\n",
       "    function canvas_keyboard_event(event) {\n",
       "        return fig.key_event(event, event['data']);\n",
       "    }\n",
       "\n",
       "    canvas_div.keydown('key_press', canvas_keyboard_event);\n",
       "    canvas_div.keyup('key_release', canvas_keyboard_event);\n",
       "    this.canvas_div = canvas_div\n",
       "    this._canvas_extra_style(canvas_div)\n",
       "    this.root.append(canvas_div);\n",
       "\n",
       "    var canvas = $('<canvas/>');\n",
       "    canvas.addClass('mpl-canvas');\n",
       "    canvas.attr('style', \"left: 0; top: 0; z-index: 0; outline: 0\")\n",
       "\n",
       "    this.canvas = canvas[0];\n",
       "    this.context = canvas[0].getContext(\"2d\");\n",
       "\n",
       "    var backingStore = this.context.backingStorePixelRatio ||\n",
       "\tthis.context.webkitBackingStorePixelRatio ||\n",
       "\tthis.context.mozBackingStorePixelRatio ||\n",
       "\tthis.context.msBackingStorePixelRatio ||\n",
       "\tthis.context.oBackingStorePixelRatio ||\n",
       "\tthis.context.backingStorePixelRatio || 1;\n",
       "\n",
       "    mpl.ratio = (window.devicePixelRatio || 1) / backingStore;\n",
       "\n",
       "    var rubberband = $('<canvas/>');\n",
       "    rubberband.attr('style', \"position: absolute; left: 0; top: 0; z-index: 1;\")\n",
       "\n",
       "    var pass_mouse_events = true;\n",
       "\n",
       "    canvas_div.resizable({\n",
       "        start: function(event, ui) {\n",
       "            pass_mouse_events = false;\n",
       "        },\n",
       "        resize: function(event, ui) {\n",
       "            fig.request_resize(ui.size.width, ui.size.height);\n",
       "        },\n",
       "        stop: function(event, ui) {\n",
       "            pass_mouse_events = true;\n",
       "            fig.request_resize(ui.size.width, ui.size.height);\n",
       "        },\n",
       "    });\n",
       "\n",
       "    function mouse_event_fn(event) {\n",
       "        if (pass_mouse_events)\n",
       "            return fig.mouse_event(event, event['data']);\n",
       "    }\n",
       "\n",
       "    rubberband.mousedown('button_press', mouse_event_fn);\n",
       "    rubberband.mouseup('button_release', mouse_event_fn);\n",
       "    // Throttle sequential mouse events to 1 every 20ms.\n",
       "    rubberband.mousemove('motion_notify', mouse_event_fn);\n",
       "\n",
       "    rubberband.mouseenter('figure_enter', mouse_event_fn);\n",
       "    rubberband.mouseleave('figure_leave', mouse_event_fn);\n",
       "\n",
       "    canvas_div.on(\"wheel\", function (event) {\n",
       "        event = event.originalEvent;\n",
       "        event['data'] = 'scroll'\n",
       "        if (event.deltaY < 0) {\n",
       "            event.step = 1;\n",
       "        } else {\n",
       "            event.step = -1;\n",
       "        }\n",
       "        mouse_event_fn(event);\n",
       "    });\n",
       "\n",
       "    canvas_div.append(canvas);\n",
       "    canvas_div.append(rubberband);\n",
       "\n",
       "    this.rubberband = rubberband;\n",
       "    this.rubberband_canvas = rubberband[0];\n",
       "    this.rubberband_context = rubberband[0].getContext(\"2d\");\n",
       "    this.rubberband_context.strokeStyle = \"#000000\";\n",
       "\n",
       "    this._resize_canvas = function(width, height) {\n",
       "        // Keep the size of the canvas, canvas container, and rubber band\n",
       "        // canvas in synch.\n",
       "        canvas_div.css('width', width)\n",
       "        canvas_div.css('height', height)\n",
       "\n",
       "        canvas.attr('width', width * mpl.ratio);\n",
       "        canvas.attr('height', height * mpl.ratio);\n",
       "        canvas.attr('style', 'width: ' + width + 'px; height: ' + height + 'px;');\n",
       "\n",
       "        rubberband.attr('width', width);\n",
       "        rubberband.attr('height', height);\n",
       "    }\n",
       "\n",
       "    // Set the figure to an initial 600x600px, this will subsequently be updated\n",
       "    // upon first draw.\n",
       "    this._resize_canvas(600, 600);\n",
       "\n",
       "    // Disable right mouse context menu.\n",
       "    $(this.rubberband_canvas).bind(\"contextmenu\",function(e){\n",
       "        return false;\n",
       "    });\n",
       "\n",
       "    function set_focus () {\n",
       "        canvas.focus();\n",
       "        canvas_div.focus();\n",
       "    }\n",
       "\n",
       "    window.setTimeout(set_focus, 100);\n",
       "}\n",
       "\n",
       "mpl.figure.prototype._init_toolbar = function() {\n",
       "    var fig = this;\n",
       "\n",
       "    var nav_element = $('<div/>');\n",
       "    nav_element.attr('style', 'width: 100%');\n",
       "    this.root.append(nav_element);\n",
       "\n",
       "    // Define a callback function for later on.\n",
       "    function toolbar_event(event) {\n",
       "        return fig.toolbar_button_onclick(event['data']);\n",
       "    }\n",
       "    function toolbar_mouse_event(event) {\n",
       "        return fig.toolbar_button_onmouseover(event['data']);\n",
       "    }\n",
       "\n",
       "    for(var toolbar_ind in mpl.toolbar_items) {\n",
       "        var name = mpl.toolbar_items[toolbar_ind][0];\n",
       "        var tooltip = mpl.toolbar_items[toolbar_ind][1];\n",
       "        var image = mpl.toolbar_items[toolbar_ind][2];\n",
       "        var method_name = mpl.toolbar_items[toolbar_ind][3];\n",
       "\n",
       "        if (!name) {\n",
       "            // put a spacer in here.\n",
       "            continue;\n",
       "        }\n",
       "        var button = $('<button/>');\n",
       "        button.addClass('ui-button ui-widget ui-state-default ui-corner-all ' +\n",
       "                        'ui-button-icon-only');\n",
       "        button.attr('role', 'button');\n",
       "        button.attr('aria-disabled', 'false');\n",
       "        button.click(method_name, toolbar_event);\n",
       "        button.mouseover(tooltip, toolbar_mouse_event);\n",
       "\n",
       "        var icon_img = $('<span/>');\n",
       "        icon_img.addClass('ui-button-icon-primary ui-icon');\n",
       "        icon_img.addClass(image);\n",
       "        icon_img.addClass('ui-corner-all');\n",
       "\n",
       "        var tooltip_span = $('<span/>');\n",
       "        tooltip_span.addClass('ui-button-text');\n",
       "        tooltip_span.html(tooltip);\n",
       "\n",
       "        button.append(icon_img);\n",
       "        button.append(tooltip_span);\n",
       "\n",
       "        nav_element.append(button);\n",
       "    }\n",
       "\n",
       "    var fmt_picker_span = $('<span/>');\n",
       "\n",
       "    var fmt_picker = $('<select/>');\n",
       "    fmt_picker.addClass('mpl-toolbar-option ui-widget ui-widget-content');\n",
       "    fmt_picker_span.append(fmt_picker);\n",
       "    nav_element.append(fmt_picker_span);\n",
       "    this.format_dropdown = fmt_picker[0];\n",
       "\n",
       "    for (var ind in mpl.extensions) {\n",
       "        var fmt = mpl.extensions[ind];\n",
       "        var option = $(\n",
       "            '<option/>', {selected: fmt === mpl.default_extension}).html(fmt);\n",
       "        fmt_picker.append(option);\n",
       "    }\n",
       "\n",
       "    // Add hover states to the ui-buttons\n",
       "    $( \".ui-button\" ).hover(\n",
       "        function() { $(this).addClass(\"ui-state-hover\");},\n",
       "        function() { $(this).removeClass(\"ui-state-hover\");}\n",
       "    );\n",
       "\n",
       "    var status_bar = $('<span class=\"mpl-message\"/>');\n",
       "    nav_element.append(status_bar);\n",
       "    this.message = status_bar[0];\n",
       "}\n",
       "\n",
       "mpl.figure.prototype.request_resize = function(x_pixels, y_pixels) {\n",
       "    // Request matplotlib to resize the figure. Matplotlib will then trigger a resize in the client,\n",
       "    // which will in turn request a refresh of the image.\n",
       "    this.send_message('resize', {'width': x_pixels, 'height': y_pixels});\n",
       "}\n",
       "\n",
       "mpl.figure.prototype.send_message = function(type, properties) {\n",
       "    properties['type'] = type;\n",
       "    properties['figure_id'] = this.id;\n",
       "    this.ws.send(JSON.stringify(properties));\n",
       "}\n",
       "\n",
       "mpl.figure.prototype.send_draw_message = function() {\n",
       "    if (!this.waiting) {\n",
       "        this.waiting = true;\n",
       "        this.ws.send(JSON.stringify({type: \"draw\", figure_id: this.id}));\n",
       "    }\n",
       "}\n",
       "\n",
       "\n",
       "mpl.figure.prototype.handle_save = function(fig, msg) {\n",
       "    var format_dropdown = fig.format_dropdown;\n",
       "    var format = format_dropdown.options[format_dropdown.selectedIndex].value;\n",
       "    fig.ondownload(fig, format);\n",
       "}\n",
       "\n",
       "\n",
       "mpl.figure.prototype.handle_resize = function(fig, msg) {\n",
       "    var size = msg['size'];\n",
       "    if (size[0] != fig.canvas.width || size[1] != fig.canvas.height) {\n",
       "        fig._resize_canvas(size[0], size[1]);\n",
       "        fig.send_message(\"refresh\", {});\n",
       "    };\n",
       "}\n",
       "\n",
       "mpl.figure.prototype.handle_rubberband = function(fig, msg) {\n",
       "    var x0 = msg['x0'] / mpl.ratio;\n",
       "    var y0 = (fig.canvas.height - msg['y0']) / mpl.ratio;\n",
       "    var x1 = msg['x1'] / mpl.ratio;\n",
       "    var y1 = (fig.canvas.height - msg['y1']) / mpl.ratio;\n",
       "    x0 = Math.floor(x0) + 0.5;\n",
       "    y0 = Math.floor(y0) + 0.5;\n",
       "    x1 = Math.floor(x1) + 0.5;\n",
       "    y1 = Math.floor(y1) + 0.5;\n",
       "    var min_x = Math.min(x0, x1);\n",
       "    var min_y = Math.min(y0, y1);\n",
       "    var width = Math.abs(x1 - x0);\n",
       "    var height = Math.abs(y1 - y0);\n",
       "\n",
       "    fig.rubberband_context.clearRect(\n",
       "        0, 0, fig.canvas.width / mpl.ratio, fig.canvas.height / mpl.ratio);\n",
       "\n",
       "    fig.rubberband_context.strokeRect(min_x, min_y, width, height);\n",
       "}\n",
       "\n",
       "mpl.figure.prototype.handle_figure_label = function(fig, msg) {\n",
       "    // Updates the figure title.\n",
       "    fig.header.textContent = msg['label'];\n",
       "}\n",
       "\n",
       "mpl.figure.prototype.handle_cursor = function(fig, msg) {\n",
       "    var cursor = msg['cursor'];\n",
       "    switch(cursor)\n",
       "    {\n",
       "    case 0:\n",
       "        cursor = 'pointer';\n",
       "        break;\n",
       "    case 1:\n",
       "        cursor = 'default';\n",
       "        break;\n",
       "    case 2:\n",
       "        cursor = 'crosshair';\n",
       "        break;\n",
       "    case 3:\n",
       "        cursor = 'move';\n",
       "        break;\n",
       "    }\n",
       "    fig.rubberband_canvas.style.cursor = cursor;\n",
       "}\n",
       "\n",
       "mpl.figure.prototype.handle_message = function(fig, msg) {\n",
       "    fig.message.textContent = msg['message'];\n",
       "}\n",
       "\n",
       "mpl.figure.prototype.handle_draw = function(fig, msg) {\n",
       "    // Request the server to send over a new figure.\n",
       "    fig.send_draw_message();\n",
       "}\n",
       "\n",
       "mpl.figure.prototype.handle_image_mode = function(fig, msg) {\n",
       "    fig.image_mode = msg['mode'];\n",
       "}\n",
       "\n",
       "mpl.figure.prototype.updated_canvas_event = function() {\n",
       "    // Called whenever the canvas gets updated.\n",
       "    this.send_message(\"ack\", {});\n",
       "}\n",
       "\n",
       "// A function to construct a web socket function for onmessage handling.\n",
       "// Called in the figure constructor.\n",
       "mpl.figure.prototype._make_on_message_function = function(fig) {\n",
       "    return function socket_on_message(evt) {\n",
       "        if (evt.data instanceof Blob) {\n",
       "            /* FIXME: We get \"Resource interpreted as Image but\n",
       "             * transferred with MIME type text/plain:\" errors on\n",
       "             * Chrome.  But how to set the MIME type?  It doesn't seem\n",
       "             * to be part of the websocket stream */\n",
       "            evt.data.type = \"image/png\";\n",
       "\n",
       "            /* Free the memory for the previous frames */\n",
       "            if (fig.imageObj.src) {\n",
       "                (window.URL || window.webkitURL).revokeObjectURL(\n",
       "                    fig.imageObj.src);\n",
       "            }\n",
       "\n",
       "            fig.imageObj.src = (window.URL || window.webkitURL).createObjectURL(\n",
       "                evt.data);\n",
       "            fig.updated_canvas_event();\n",
       "            fig.waiting = false;\n",
       "            return;\n",
       "        }\n",
       "        else if (typeof evt.data === 'string' && evt.data.slice(0, 21) == \"data:image/png;base64\") {\n",
       "            fig.imageObj.src = evt.data;\n",
       "            fig.updated_canvas_event();\n",
       "            fig.waiting = false;\n",
       "            return;\n",
       "        }\n",
       "\n",
       "        var msg = JSON.parse(evt.data);\n",
       "        var msg_type = msg['type'];\n",
       "\n",
       "        // Call the  \"handle_{type}\" callback, which takes\n",
       "        // the figure and JSON message as its only arguments.\n",
       "        try {\n",
       "            var callback = fig[\"handle_\" + msg_type];\n",
       "        } catch (e) {\n",
       "            console.log(\"No handler for the '\" + msg_type + \"' message type: \", msg);\n",
       "            return;\n",
       "        }\n",
       "\n",
       "        if (callback) {\n",
       "            try {\n",
       "                // console.log(\"Handling '\" + msg_type + \"' message: \", msg);\n",
       "                callback(fig, msg);\n",
       "            } catch (e) {\n",
       "                console.log(\"Exception inside the 'handler_\" + msg_type + \"' callback:\", e, e.stack, msg);\n",
       "            }\n",
       "        }\n",
       "    };\n",
       "}\n",
       "\n",
       "// from http://stackoverflow.com/questions/1114465/getting-mouse-location-in-canvas\n",
       "mpl.findpos = function(e) {\n",
       "    //this section is from http://www.quirksmode.org/js/events_properties.html\n",
       "    var targ;\n",
       "    if (!e)\n",
       "        e = window.event;\n",
       "    if (e.target)\n",
       "        targ = e.target;\n",
       "    else if (e.srcElement)\n",
       "        targ = e.srcElement;\n",
       "    if (targ.nodeType == 3) // defeat Safari bug\n",
       "        targ = targ.parentNode;\n",
       "\n",
       "    // jQuery normalizes the pageX and pageY\n",
       "    // pageX,Y are the mouse positions relative to the document\n",
       "    // offset() returns the position of the element relative to the document\n",
       "    var x = e.pageX - $(targ).offset().left;\n",
       "    var y = e.pageY - $(targ).offset().top;\n",
       "\n",
       "    return {\"x\": x, \"y\": y};\n",
       "};\n",
       "\n",
       "/*\n",
       " * return a copy of an object with only non-object keys\n",
       " * we need this to avoid circular references\n",
       " * http://stackoverflow.com/a/24161582/3208463\n",
       " */\n",
       "function simpleKeys (original) {\n",
       "  return Object.keys(original).reduce(function (obj, key) {\n",
       "    if (typeof original[key] !== 'object')\n",
       "        obj[key] = original[key]\n",
       "    return obj;\n",
       "  }, {});\n",
       "}\n",
       "\n",
       "mpl.figure.prototype.mouse_event = function(event, name) {\n",
       "    var canvas_pos = mpl.findpos(event)\n",
       "\n",
       "    if (name === 'button_press')\n",
       "    {\n",
       "        this.canvas.focus();\n",
       "        this.canvas_div.focus();\n",
       "    }\n",
       "\n",
       "    var x = canvas_pos.x * mpl.ratio;\n",
       "    var y = canvas_pos.y * mpl.ratio;\n",
       "\n",
       "    this.send_message(name, {x: x, y: y, button: event.button,\n",
       "                             step: event.step,\n",
       "                             guiEvent: simpleKeys(event)});\n",
       "\n",
       "    /* This prevents the web browser from automatically changing to\n",
       "     * the text insertion cursor when the button is pressed.  We want\n",
       "     * to control all of the cursor setting manually through the\n",
       "     * 'cursor' event from matplotlib */\n",
       "    event.preventDefault();\n",
       "    return false;\n",
       "}\n",
       "\n",
       "mpl.figure.prototype._key_event_extra = function(event, name) {\n",
       "    // Handle any extra behaviour associated with a key event\n",
       "}\n",
       "\n",
       "mpl.figure.prototype.key_event = function(event, name) {\n",
       "\n",
       "    // Prevent repeat events\n",
       "    if (name == 'key_press')\n",
       "    {\n",
       "        if (event.which === this._key)\n",
       "            return;\n",
       "        else\n",
       "            this._key = event.which;\n",
       "    }\n",
       "    if (name == 'key_release')\n",
       "        this._key = null;\n",
       "\n",
       "    var value = '';\n",
       "    if (event.ctrlKey && event.which != 17)\n",
       "        value += \"ctrl+\";\n",
       "    if (event.altKey && event.which != 18)\n",
       "        value += \"alt+\";\n",
       "    if (event.shiftKey && event.which != 16)\n",
       "        value += \"shift+\";\n",
       "\n",
       "    value += 'k';\n",
       "    value += event.which.toString();\n",
       "\n",
       "    this._key_event_extra(event, name);\n",
       "\n",
       "    this.send_message(name, {key: value,\n",
       "                             guiEvent: simpleKeys(event)});\n",
       "    return false;\n",
       "}\n",
       "\n",
       "mpl.figure.prototype.toolbar_button_onclick = function(name) {\n",
       "    if (name == 'download') {\n",
       "        this.handle_save(this, null);\n",
       "    } else {\n",
       "        this.send_message(\"toolbar_button\", {name: name});\n",
       "    }\n",
       "};\n",
       "\n",
       "mpl.figure.prototype.toolbar_button_onmouseover = function(tooltip) {\n",
       "    this.message.textContent = tooltip;\n",
       "};\n",
       "mpl.toolbar_items = [[\"Home\", \"Reset original view\", \"fa fa-home icon-home\", \"home\"], [\"Back\", \"Back to previous view\", \"fa fa-arrow-left icon-arrow-left\", \"back\"], [\"Forward\", \"Forward to next view\", \"fa fa-arrow-right icon-arrow-right\", \"forward\"], [\"\", \"\", \"\", \"\"], [\"Pan\", \"Pan axes with left mouse, zoom with right\", \"fa fa-arrows icon-move\", \"pan\"], [\"Zoom\", \"Zoom to rectangle\", \"fa fa-square-o icon-check-empty\", \"zoom\"], [\"\", \"\", \"\", \"\"], [\"Download\", \"Download plot\", \"fa fa-floppy-o icon-save\", \"download\"]];\n",
       "\n",
       "mpl.extensions = [\"eps\", \"jpeg\", \"pdf\", \"png\", \"ps\", \"raw\", \"svg\", \"tif\"];\n",
       "\n",
       "mpl.default_extension = \"png\";var comm_websocket_adapter = function(comm) {\n",
       "    // Create a \"websocket\"-like object which calls the given IPython comm\n",
       "    // object with the appropriate methods. Currently this is a non binary\n",
       "    // socket, so there is still some room for performance tuning.\n",
       "    var ws = {};\n",
       "\n",
       "    ws.close = function() {\n",
       "        comm.close()\n",
       "    };\n",
       "    ws.send = function(m) {\n",
       "        //console.log('sending', m);\n",
       "        comm.send(m);\n",
       "    };\n",
       "    // Register the callback with on_msg.\n",
       "    comm.on_msg(function(msg) {\n",
       "        //console.log('receiving', msg['content']['data'], msg);\n",
       "        // Pass the mpl event to the overridden (by mpl) onmessage function.\n",
       "        ws.onmessage(msg['content']['data'])\n",
       "    });\n",
       "    return ws;\n",
       "}\n",
       "\n",
       "mpl.mpl_figure_comm = function(comm, msg) {\n",
       "    // This is the function which gets called when the mpl process\n",
       "    // starts-up an IPython Comm through the \"matplotlib\" channel.\n",
       "\n",
       "    var id = msg.content.data.id;\n",
       "    // Get hold of the div created by the display call when the Comm\n",
       "    // socket was opened in Python.\n",
       "    var element = $(\"#\" + id);\n",
       "    var ws_proxy = comm_websocket_adapter(comm)\n",
       "\n",
       "    function ondownload(figure, format) {\n",
       "        window.open(figure.imageObj.src);\n",
       "    }\n",
       "\n",
       "    var fig = new mpl.figure(id, ws_proxy,\n",
       "                           ondownload,\n",
       "                           element.get(0));\n",
       "\n",
       "    // Call onopen now - mpl needs it, as it is assuming we've passed it a real\n",
       "    // web socket which is closed, not our websocket->open comm proxy.\n",
       "    ws_proxy.onopen();\n",
       "\n",
       "    fig.parent_element = element.get(0);\n",
       "    fig.cell_info = mpl.find_output_cell(\"<div id='\" + id + \"'></div>\");\n",
       "    if (!fig.cell_info) {\n",
       "        console.error(\"Failed to find cell for figure\", id, fig);\n",
       "        return;\n",
       "    }\n",
       "\n",
       "    var output_index = fig.cell_info[2]\n",
       "    var cell = fig.cell_info[0];\n",
       "\n",
       "};\n",
       "\n",
       "mpl.figure.prototype.handle_close = function(fig, msg) {\n",
       "    var width = fig.canvas.width/mpl.ratio\n",
       "    fig.root.unbind('remove')\n",
       "\n",
       "    // Update the output cell to use the data from the current canvas.\n",
       "    fig.push_to_output();\n",
       "    var dataURL = fig.canvas.toDataURL();\n",
       "    // Re-enable the keyboard manager in IPython - without this line, in FF,\n",
       "    // the notebook keyboard shortcuts fail.\n",
       "    IPython.keyboard_manager.enable()\n",
       "    $(fig.parent_element).html('<img src=\"' + dataURL + '\" width=\"' + width + '\">');\n",
       "    fig.close_ws(fig, msg);\n",
       "}\n",
       "\n",
       "mpl.figure.prototype.close_ws = function(fig, msg){\n",
       "    fig.send_message('closing', msg);\n",
       "    // fig.ws.close()\n",
       "}\n",
       "\n",
       "mpl.figure.prototype.push_to_output = function(remove_interactive) {\n",
       "    // Turn the data on the canvas into data in the output cell.\n",
       "    var width = this.canvas.width/mpl.ratio\n",
       "    var dataURL = this.canvas.toDataURL();\n",
       "    this.cell_info[1]['text/html'] = '<img src=\"' + dataURL + '\" width=\"' + width + '\">';\n",
       "}\n",
       "\n",
       "mpl.figure.prototype.updated_canvas_event = function() {\n",
       "    // Tell IPython that the notebook contents must change.\n",
       "    IPython.notebook.set_dirty(true);\n",
       "    this.send_message(\"ack\", {});\n",
       "    var fig = this;\n",
       "    // Wait a second, then push the new image to the DOM so\n",
       "    // that it is saved nicely (might be nice to debounce this).\n",
       "    setTimeout(function () { fig.push_to_output() }, 1000);\n",
       "}\n",
       "\n",
       "mpl.figure.prototype._init_toolbar = function() {\n",
       "    var fig = this;\n",
       "\n",
       "    var nav_element = $('<div/>');\n",
       "    nav_element.attr('style', 'width: 100%');\n",
       "    this.root.append(nav_element);\n",
       "\n",
       "    // Define a callback function for later on.\n",
       "    function toolbar_event(event) {\n",
       "        return fig.toolbar_button_onclick(event['data']);\n",
       "    }\n",
       "    function toolbar_mouse_event(event) {\n",
       "        return fig.toolbar_button_onmouseover(event['data']);\n",
       "    }\n",
       "\n",
       "    for(var toolbar_ind in mpl.toolbar_items){\n",
       "        var name = mpl.toolbar_items[toolbar_ind][0];\n",
       "        var tooltip = mpl.toolbar_items[toolbar_ind][1];\n",
       "        var image = mpl.toolbar_items[toolbar_ind][2];\n",
       "        var method_name = mpl.toolbar_items[toolbar_ind][3];\n",
       "\n",
       "        if (!name) { continue; };\n",
       "\n",
       "        var button = $('<button class=\"btn btn-default\" href=\"#\" title=\"' + name + '\"><i class=\"fa ' + image + ' fa-lg\"></i></button>');\n",
       "        button.click(method_name, toolbar_event);\n",
       "        button.mouseover(tooltip, toolbar_mouse_event);\n",
       "        nav_element.append(button);\n",
       "    }\n",
       "\n",
       "    // Add the status bar.\n",
       "    var status_bar = $('<span class=\"mpl-message\" style=\"text-align:right; float: right;\"/>');\n",
       "    nav_element.append(status_bar);\n",
       "    this.message = status_bar[0];\n",
       "\n",
       "    // Add the close button to the window.\n",
       "    var buttongrp = $('<div class=\"btn-group inline pull-right\"></div>');\n",
       "    var button = $('<button class=\"btn btn-mini btn-primary\" href=\"#\" title=\"Stop Interaction\"><i class=\"fa fa-power-off icon-remove icon-large\"></i></button>');\n",
       "    button.click(function (evt) { fig.handle_close(fig, {}); } );\n",
       "    button.mouseover('Stop Interaction', toolbar_mouse_event);\n",
       "    buttongrp.append(button);\n",
       "    var titlebar = this.root.find($('.ui-dialog-titlebar'));\n",
       "    titlebar.prepend(buttongrp);\n",
       "}\n",
       "\n",
       "mpl.figure.prototype._root_extra_style = function(el){\n",
       "    var fig = this\n",
       "    el.on(\"remove\", function(){\n",
       "\tfig.close_ws(fig, {});\n",
       "    });\n",
       "}\n",
       "\n",
       "mpl.figure.prototype._canvas_extra_style = function(el){\n",
       "    // this is important to make the div 'focusable\n",
       "    el.attr('tabindex', 0)\n",
       "    // reach out to IPython and tell the keyboard manager to turn it's self\n",
       "    // off when our div gets focus\n",
       "\n",
       "    // location in version 3\n",
       "    if (IPython.notebook.keyboard_manager) {\n",
       "        IPython.notebook.keyboard_manager.register_events(el);\n",
       "    }\n",
       "    else {\n",
       "        // location in version 2\n",
       "        IPython.keyboard_manager.register_events(el);\n",
       "    }\n",
       "\n",
       "}\n",
       "\n",
       "mpl.figure.prototype._key_event_extra = function(event, name) {\n",
       "    var manager = IPython.notebook.keyboard_manager;\n",
       "    if (!manager)\n",
       "        manager = IPython.keyboard_manager;\n",
       "\n",
       "    // Check for shift+enter\n",
       "    if (event.shiftKey && event.which == 13) {\n",
       "        this.canvas_div.blur();\n",
       "        // select the cell after this one\n",
       "        var index = IPython.notebook.find_cell_index(this.cell_info[0]);\n",
       "        IPython.notebook.select(index + 1);\n",
       "    }\n",
       "}\n",
       "\n",
       "mpl.figure.prototype.handle_save = function(fig, msg) {\n",
       "    fig.ondownload(fig, null);\n",
       "}\n",
       "\n",
       "\n",
       "mpl.find_output_cell = function(html_output) {\n",
       "    // Return the cell and output element which can be found *uniquely* in the notebook.\n",
       "    // Note - this is a bit hacky, but it is done because the \"notebook_saving.Notebook\"\n",
       "    // IPython event is triggered only after the cells have been serialised, which for\n",
       "    // our purposes (turning an active figure into a static one), is too late.\n",
       "    var cells = IPython.notebook.get_cells();\n",
       "    var ncells = cells.length;\n",
       "    for (var i=0; i<ncells; i++) {\n",
       "        var cell = cells[i];\n",
       "        if (cell.cell_type === 'code'){\n",
       "            for (var j=0; j<cell.output_area.outputs.length; j++) {\n",
       "                var data = cell.output_area.outputs[j];\n",
       "                if (data.data) {\n",
       "                    // IPython >= 3 moved mimebundle to data attribute of output\n",
       "                    data = data.data;\n",
       "                }\n",
       "                if (data['text/html'] == html_output) {\n",
       "                    return [cell, data, j];\n",
       "                }\n",
       "            }\n",
       "        }\n",
       "    }\n",
       "}\n",
       "\n",
       "// Register the function which deals with the matplotlib target/channel.\n",
       "// The kernel may be null if the page has been refreshed.\n",
       "if (IPython.notebook.kernel != null) {\n",
       "    IPython.notebook.kernel.comm_manager.register_target('matplotlib', mpl.mpl_figure_comm);\n",
       "}\n"
      ],
      "text/plain": [
       "<IPython.core.display.Javascript object>"
      ]
     },
     "metadata": {},
     "output_type": "display_data"
    },
    {
     "data": {
      "text/html": [
       "<img src=\"data:image/png;base64,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\" width=\"640\">"
      ],
      "text/plain": [
       "<IPython.core.display.HTML object>"
      ]
     },
     "metadata": {},
     "output_type": "display_data"
    },
    {
     "data": {
      "text/plain": [
       "[<matplotlib.lines.Line2D at 0x11a872d60>]"
      ]
     },
     "execution_count": 350,
     "metadata": {},
     "output_type": "execute_result"
    }
   ],
   "source": [
    "ts_open, doses_open = smooth_dose_ts_open_end(daily_dose=daily_dose, start_t=0, spread=1, N=1000)\n",
    "fig,ax = plt.subplots()\n",
    "ax.plot(ts_open,doses_open[0,:])"
   ]
  },
  {
   "cell_type": "markdown",
   "metadata": {},
   "source": [
    "# Vaccination functions"
   ]
  },
  {
   "cell_type": "code",
   "execution_count": 17,
   "metadata": {
    "ExecuteTime": {
     "end_time": "2021-03-11T07:47:19.136145Z",
     "start_time": "2021-03-11T07:47:19.045365Z"
    }
   },
   "outputs": [
    {
     "data": {
      "text/plain": [
       "[3, 4, 1, 2, 5, 0, 6, 7, 8]"
      ]
     },
     "execution_count": 17,
     "metadata": {},
     "output_type": "execute_result"
    }
   ],
   "source": [
    "# Which age group has most contacts with all other age groups?\n",
    "contact_sums = Nc_total.sum(axis=1)\n",
    "contact_sums = pd.DataFrame({'contacts':Nc_total.sum(axis=1), 'age_group':[0,1,2,3,4,5,6,7,8]})\n",
    "list(contact_sums.sort_values('contacts', ascending=False).age_group)"
   ]
  },
  {
   "cell_type": "markdown",
   "metadata": {},
   "source": [
    "## Equal divide after elderly"
   ]
  },
  {
   "cell_type": "code",
   "execution_count": 370,
   "metadata": {
    "ExecuteTime": {
     "end_time": "2021-03-11T13:19:51.826538Z",
     "start_time": "2021-03-11T13:19:51.782970Z"
    },
    "scrolled": true
   },
   "outputs": [
    {
     "data": {
      "text/plain": [
       "array([[102.98574164]])"
      ]
     },
     "execution_count": 370,
     "metadata": {},
     "output_type": "execute_result"
    }
   ],
   "source": [
    "NH_to_vacc[8]/d_spatial['jan'][2][0]"
   ]
  },
  {
   "cell_type": "markdown",
   "metadata": {},
   "source": [
    "**bezig met spatiaal modaal hierop testen!!**"
   ]
  },
  {
   "cell_type": "code",
   "execution_count": 372,
   "metadata": {
    "ExecuteTime": {
     "end_time": "2021-03-11T13:22:08.846235Z",
     "start_time": "2021-03-11T13:22:08.803170Z"
    },
    "collapsed": true
   },
   "outputs": [
    {
     "data": {
      "text/plain": [
       "array([[4.16569862],\n",
       "       [4.16569862],\n",
       "       [4.16569862],\n",
       "       [4.16569862],\n",
       "       [4.16569862],\n",
       "       [4.16569862],\n",
       "       [4.16569862],\n",
       "       [4.16569862],\n",
       "       [4.16569862],\n",
       "       [4.16569862],\n",
       "       [4.16569862],\n",
       "       [4.16569862],\n",
       "       [4.16569862],\n",
       "       [4.16569862],\n",
       "       [4.16569862],\n",
       "       [4.16569862],\n",
       "       [4.16569862],\n",
       "       [4.16569862],\n",
       "       [4.16569862],\n",
       "       [4.16569862],\n",
       "       [4.16569862],\n",
       "       [4.16569862],\n",
       "       [4.16569862],\n",
       "       [4.16569862],\n",
       "       [4.16569862],\n",
       "       [4.16569862],\n",
       "       [4.16569862],\n",
       "       [4.16569862],\n",
       "       [4.16569862],\n",
       "       [4.16569862],\n",
       "       [4.16569862],\n",
       "       [4.16569862],\n",
       "       [4.16569862],\n",
       "       [4.16569862],\n",
       "       [4.16569862],\n",
       "       [4.16569862],\n",
       "       [4.16569862],\n",
       "       [4.16569862],\n",
       "       [4.16569862],\n",
       "       [4.16569862],\n",
       "       [4.16569862],\n",
       "       [4.16569862],\n",
       "       [4.16569862]])"
      ]
     },
     "execution_count": 372,
     "metadata": {},
     "output_type": "execute_result"
    }
   ],
   "source": [
    "NH_to_vacc_spatial[8]/d_spatial['jan']"
   ]
  },
  {
   "cell_type": "code",
   "execution_count": 382,
   "metadata": {
    "ExecuteTime": {
     "end_time": "2021-03-11T14:42:33.717291Z",
     "start_time": "2021-03-11T14:42:33.658727Z"
    }
   },
   "outputs": [],
   "source": [
    "def vacc_strategy(t, states, param, d, NH_to_vacc, order, elder):\n",
    "    \"\"\"\n",
    "    time-dependent function for vaccination strategy\n",
    "    \n",
    "    states : dictionary\n",
    "        model states, VE = vaccine eligible states = S+R+E+I+A\n",
    "    d : dictionary\n",
    "        daily number of doses for that month\n",
    "        daily vaccinated persons on immunity date = daily dose on vaccination date / 2\n",
    "    NH_to_vacc : dictionary\n",
    "        keys = 3 age groups\n",
    "        elements = number of nursing homes residents to vaccinate (per spatial unit)\n",
    "    \n",
    "    \"\"\"\n",
    "    \n",
    "    leftover = 100\n",
    "    \n",
    "    VE_states = states['VE'].copy()\n",
    "    \n",
    "    if VE_states.ndim == 1:\n",
    "        VE_states = VE_states[np.newaxis]\n",
    "\n",
    "    N_vacc = np.zeros(VE_states.shape)\n",
    "\n",
    "    delay = pd.Timedelta('30D')\n",
    "    \n",
    "    t1 = pd.Timestamp('2021-01-01') + delay\n",
    "    t2 = pd.Timestamp('2021-02-01') + delay\n",
    "    t3 = pd.Timestamp('2021-03-01') + delay\n",
    "    t4 = pd.Timestamp('2021-05-01') + delay\n",
    "    daily_dose_jan = d['jan']/2\n",
    "    daily_dose_feb = d['feb']/2\n",
    "    daily_dose_ma_ap = d['mar-apr']/2\n",
    "    daily_dose_may_aug = d['may-aug']/2\n",
    "    \n",
    "    if t < t1:\n",
    "        N_vacc = N_vacc\n",
    "    \n",
    "    elif t1 <= t < t2: # January : nursing homes + part of care personnel\n",
    "        t_num = (t-t1)/pd.Timedelta('1D')\n",
    "        end_phase1 = (NH_to_vacc[8]/daily_dose_jan)[0][0]\n",
    "        end_phase2 = (end_phase1 + NH_to_vacc[7]/daily_dose_jan)[0][0]\n",
    "        end_phase3 = (end_phase2 + NH_to_vacc[6]/daily_dose_jan)[0][0]\n",
    "        end_t2 = (t2-t1)/pd.Timedelta('1D')\n",
    "        if t_num < end_phase1:\n",
    "            ts, doses = smooth_dose_ts(daily_dose_jan, 0, end_phase1, spread=2)\n",
    "            N_vacc[:,[8]] = doses[:,[find_nearest_idx(ts, t_num)]]\n",
    "            print('8')\n",
    "            print(VE_states[:,[8]] )\n",
    "        elif t_num < end_phase2:\n",
    "            ts, doses = smooth_dose_ts(daily_dose_jan, end_phase1, end_phase2, spread=1)\n",
    "            N_vacc[:,[7]] = doses[:,[find_nearest_idx(ts, t_num)]]\n",
    "        elif t_num < end_phase3:\n",
    "            ts, doses = smooth_dose_ts(daily_dose_jan, end_phase2, end_phase3, spread=0.3)\n",
    "            N_vacc[:,[6]] = doses[:,[find_nearest_idx(ts, t_num)]]\n",
    "        else: \n",
    "            ts, doses = smooth_dose_ts(daily_dose_jan, end_phase3, end_t2, spread=4, end_dose=daily_dose_feb[0][0])\n",
    "            N_vacc[:,[5,4,3,2]] = doses[:,[find_nearest_idx(ts, t_num)]]/4\n",
    "\n",
    "#     elif t2 <= t < t3: # February : care personnel\n",
    "#         t_num = (t-t2)/pd.Timedelta('1D')\n",
    "#         end_t3 = (t3-t2)/pd.Timedelta('1D')\n",
    "#         ts, doses = smooth_dose_ts(daily_dose_feb, 0, end_t3, spread=4, start_dose=daily_dose_jan[0][0])\n",
    "#         N_vacc[:,[5,4,3,2]] = doses[:,[find_nearest_idx(ts, t_num)]]/4\n",
    "        \n",
    "#     elif t3 <= t < t4: # March-April : 65+ and risk patients\n",
    "#         t_num = (t-t3)/pd.Timedelta('1D')\n",
    "#         if VE_states[:,[elder[0]]] > leftover:\n",
    "#             ts, doses = smooth_dose_ts_open_end(daily_dose_ma_ap, 0, spread=2)\n",
    "#             N_vacc[:,[elder[0]]] = doses[:,[find_nearest_idx(ts, t_num)]]\n",
    "#             ## One daily dose before all 80+ are vaccinated, start building down\n",
    "#             if (VE_states[:,[elder[0]]]-leftover) <= daily_dose_ma_ap:\n",
    "#                 N_vacc[:,[elder[0]]] = VE_states[:,[elder[0]]]-leftover\n",
    "                \n",
    "#                 flag = True\n",
    "#                 N_vacc[:,[elder[1]]],flag = calc_N_vacc(N_vacc, elder[1], elder[0], VE_states, daily_dose_ma_ap, leftover,flag)\n",
    "#                 N_vacc[:,[elder[2]]],flag = calc_N_vacc(N_vacc, elder[2], elder[1], VE_states, daily_dose_ma_ap, leftover,flag)\n",
    "#                 if flag==True and len(np.unique(elder))==3:\n",
    "#                     N_vacc[:,[5,4,3,2]] = (daily_dose_ma_ap - N_vacc[:,[elder[2]]])/4\n",
    "#                 if flag==True and len(np.unique(elder))==2:\n",
    "#                     N_vacc[:,[6,5,4,3,2]] = (daily_dose_ma_ap - N_vacc[:,[elder[2]]])/5\n",
    "                                \n",
    "\n",
    "#     else: # May-August : all 18+ \n",
    "#         t_num = (t-t4)/pd.Timedelta('1D')\n",
    "#         ts, doses = smooth_dose_ts_open_end(daily_dose_may_aug, 0, spread=3)#, start_dose=daily_dose_ma_ap/4\n",
    "#         if len(np.unique(elder))==3:\n",
    "#             N_vacc[:,[5,4,3,2]] = doses[:,[find_nearest_idx(ts, t_num)]]/4\n",
    "#         elif len(np.unique(elder))==2:\n",
    "#             N_vacc[:,[6,5,4,3,2]] = doses[:,[find_nearest_idx(ts, t_num)]]/5\n",
    "            \n",
    "    return N_vacc.squeeze()"
   ]
  },
  {
   "cell_type": "markdown",
   "metadata": {},
   "source": [
    "## Prioritise after elderly"
   ]
  },
  {
   "cell_type": "code",
   "execution_count": 71,
   "metadata": {
    "ExecuteTime": {
     "end_time": "2021-03-11T08:54:09.224933Z",
     "start_time": "2021-03-11T08:54:09.153532Z"
    }
   },
   "outputs": [],
   "source": [
    "def vacc_strategy_priors(t, states, param, d, NH_to_vacc, order, elder):\n",
    "    \"\"\"\n",
    "    time-dependent function for vaccination strategy\n",
    "    \n",
    "    states : dictionary\n",
    "        model states, VE = vaccine eligible states = S+R+E+I+A\n",
    "    d : dictionary\n",
    "        daily number of doses for that month\n",
    "        daily vaccinated persons on immunity date = daily dose on vaccination date / 2\n",
    "    NH_to_vacc : dictionary\n",
    "        keys = 3 age groups\n",
    "        elements = number of nursing homes residents to vaccinate (per spatial unit)\n",
    "    order : list\n",
    "        order of age categories to be vaccinated after the elderly\n",
    "    elder : list\n",
    "        order of elderly age categories ([8,7,6] or if 60+ not prioritised [8,7,7])\n",
    "    \n",
    "    \"\"\"\n",
    "    if len(order)!=7:\n",
    "        raise ValueError(\n",
    "                \"order must have length 7\"\n",
    "            )\n",
    "    if len(elder)!=3:\n",
    "        raise ValueError(\n",
    "                \"elder must have length 3\"\n",
    "            )        \n",
    "    \n",
    "    leftover = 100\n",
    "    \n",
    "    VE_states = states['VE'].copy()\n",
    "    if VE_states.ndim == 1:\n",
    "        VE_states = VE_states[np.newaxis]\n",
    "\n",
    "    N_vacc = np.zeros(VE_states.shape)\n",
    "\n",
    "    delay = pd.Timedelta('30D')\n",
    "    \n",
    "    t1 = pd.Timestamp('2021-01-01') + delay\n",
    "    t2 = pd.Timestamp('2021-02-01') + delay\n",
    "    t3 = pd.Timestamp('2021-03-01') + delay\n",
    "    t4 = pd.Timestamp('2021-05-01') + delay\n",
    "    daily_dose_jan = d['jan']/2\n",
    "    daily_dose_feb = d['feb']/2\n",
    "    daily_dose_ma_ap = d['mar-apr']/2\n",
    "    daily_dose_may_aug = d['may-aug']/2\n",
    "    \n",
    "    if t < t1:\n",
    "        N_vacc = N_vacc\n",
    "    \n",
    "    elif t1 <= t < t2: # January : nursing homes + part of care personnel\n",
    "        t_num = (t-t1)/pd.Timedelta('1D')\n",
    "        end_phase1 = NH_to_vacc[8]/daily_dose_jan\n",
    "        end_phase2 = end_phase1 + NH_to_vacc[7]/daily_dose_jan\n",
    "        end_phase3 = end_phase2 + NH_to_vacc[6]/daily_dose_jan\n",
    "        end_t2 = (t2-t1)/pd.Timedelta('1D')\n",
    "        if t_num < end_phase1:\n",
    "            ts, doses = smooth_dose_ts(daily_dose_jan, 0, end_phase1, spread=2)\n",
    "            N_vacc[:,[8]] = doses[find_nearest_idx(ts, t_num)]\n",
    "        elif t_num < end_phase2:\n",
    "            ts, doses = smooth_dose_ts(daily_dose_jan, end_phase1, end_phase2, spread=1)\n",
    "            N_vacc[:,[7]] = doses[find_nearest_idx(ts, t_num)]\n",
    "        elif t_num < end_phase3:\n",
    "            ts, doses = smooth_dose_ts(daily_dose_jan, end_phase2, end_phase3, spread=0.3)\n",
    "            N_vacc[:,[6]] = doses[find_nearest_idx(ts, t_num)]\n",
    "        else: \n",
    "            ts, doses = smooth_dose_ts(daily_dose_jan, end_phase3, end_t2, spread=4, end_dose=daily_dose_feb)\n",
    "            N_vacc[:,[5,4,3,2]] = doses[find_nearest_idx(ts, t_num)]/4\n",
    "\n",
    "    elif t2 <= t < t3: # February : care personnel\n",
    "        t_num = (t-t2)/pd.Timedelta('1D')\n",
    "        end_t3 = (t3-t2)/pd.Timedelta('1D')\n",
    "        ts, doses = smooth_dose_ts(daily_dose_feb, 0, end_t3, spread=4, start_dose=daily_dose_jan)\n",
    "        N_vacc[:,[5,4,3,2]] = doses[find_nearest_idx(ts, t_num)]/4\n",
    "         \n",
    "    elif t3 <= t < t4: # March-April : 65+ and risk patients\n",
    "        t_num = (t-t3)/pd.Timedelta('1D')\n",
    "        if VE_states[:,[elder[0]]] > leftover:\n",
    "            ts, doses = smooth_dose_ts_open_end(daily_dose_ma_ap, 0, spread=2)\n",
    "            N_vacc[:,[elder[0]]] = doses[find_nearest_idx(ts, t_num)]\n",
    "            ## One daily dose before all 80+ are vaccinated, start building down\n",
    "            if (VE_states[:,[elder[0]]]-leftover) <= daily_dose_ma_ap:\n",
    "                N_vacc[:,[elder[0]]] = VE_states[:,[elder[0]]]-leftover\n",
    "                \n",
    "                flag = True\n",
    "                N_vacc[:,[elder[1]]],flag = calc_N_vacc(N_vacc, elder[1], elder[0], VE_states, daily_dose_ma_ap, leftover,flag)\n",
    "                N_vacc[:,[elder[2]]],flag = calc_N_vacc(N_vacc, elder[2], elder[1], VE_states, daily_dose_ma_ap, leftover,flag)\n",
    "                N_vacc[:,[order[0]]],flag = calc_N_vacc(N_vacc, order[0], elder[2], VE_states, daily_dose_ma_ap, leftover,flag)\n",
    "                N_vacc[:,[order[1]]],flag = calc_N_vacc(N_vacc, order[1], order[0], VE_states, daily_dose_ma_ap, leftover,flag)\n",
    "                N_vacc[:,[order[2]]],flag = calc_N_vacc(N_vacc, order[2], order[1], VE_states, daily_dose_ma_ap, leftover,flag)          \n",
    "                \n",
    "    else: # May-August : all 18+\n",
    "        \n",
    "        t_num = (t-t4)/pd.Timedelta('1D')\n",
    "        if VE_states[:,[order[0]]] > leftover:\n",
    "            ts, doses = smooth_dose_ts_open_end(daily_dose_may_aug, 0, spread=2)\n",
    "            N_vacc[:,[order[0]]] = doses[find_nearest_idx(ts, t_num)]\n",
    "            ## One daily dose before all 80+ are vaccinated, start building down\n",
    "            if (VE_states[:,[order[0]]]-leftover) <= daily_dose_may_aug:\n",
    "                N_vacc[:,[order[0]]] = VE_states[:,[order[0]]]-leftover  \n",
    "                \n",
    "                flag = True\n",
    "                N_vacc[:,[order[1]]],flag = calc_N_vacc(N_vacc, order[1], order[0], VE_states, daily_dose_may_aug, leftover,flag)\n",
    "                N_vacc[:,[order[2]]],flag = calc_N_vacc(N_vacc, order[2], order[1], VE_states, daily_dose_may_aug, leftover,flag)\n",
    "                N_vacc[:,[order[3]]],flag = calc_N_vacc(N_vacc, order[3], order[2], VE_states, daily_dose_may_aug, leftover,flag)\n",
    "                N_vacc[:,[order[4]]],flag = calc_N_vacc(N_vacc, order[4], order[3], VE_states, daily_dose_may_aug, leftover,flag)\n",
    "                N_vacc[:,[order[5]]],flag = calc_N_vacc(N_vacc, order[5], order[4], VE_states, daily_dose_may_aug, leftover,flag)\n",
    "                N_vacc[:,[order[6]]],flag = calc_N_vacc(N_vacc, order[6], order[5], VE_states, daily_dose_may_aug, leftover,flag)\n",
    "\n",
    "                \n",
    "    return N_vacc.squeeze()"
   ]
  },
  {
   "cell_type": "markdown",
   "metadata": {},
   "source": [
    "# Functions"
   ]
  },
  {
   "cell_type": "code",
   "execution_count": null,
   "metadata": {
    "ExecuteTime": {
     "end_time": "2021-03-10T08:36:25.891462Z",
     "start_time": "2021-03-10T08:36:25.822713Z"
    }
   },
   "outputs": [],
   "source": [
    " def plot_band_saved_data(ax, df, mean_col, LL_col, UL_col, color, label):\n",
    "    ax.fill_between(df['time'],df[LL_col], df[UL_col],alpha=0.30, facecolor = color)\n",
    "    ax.plot(df['time'], df[mean_col], color=color, label=label, lw=2)\n",
    "    return"
   ]
  },
  {
   "cell_type": "code",
   "execution_count": null,
   "metadata": {
    "ExecuteTime": {
     "end_time": "2021-03-10T08:36:26.077285Z",
     "start_time": "2021-03-10T08:36:25.993110Z"
    }
   },
   "outputs": [],
   "source": [
    "def plot_band_age(ax, y_model, age_group, var, color, label):\n",
    "    ax.fill_between(pd.to_datetime(y_model['time'].values),y_model[var].quantile(LL,dim=\"draws\").sel(Nc=age_group), \n",
    "                    y_model[var].quantile(UL,dim=\"draws\").sel(Nc=age_group),alpha=0.30, facecolor = color)\n",
    "    ax.plot(y_model['time'],y_model[var].mean(dim=\"draws\").sel(Nc=age_group), color=color, label=label, lw=2)\n",
    "    return"
   ]
  },
  {
   "cell_type": "code",
   "execution_count": null,
   "metadata": {
    "ExecuteTime": {
     "end_time": "2021-03-10T08:36:26.214931Z",
     "start_time": "2021-03-10T08:36:26.153170Z"
    }
   },
   "outputs": [],
   "source": [
    "def check_overtake_duration(sim, dims):\n",
    "    \"\"\"\n",
    "    sim : data array resulting from simulation\n",
    "    dims : list of dimensions over which to average\n",
    "    \n",
    "    Returns\n",
    "    -------\n",
    "    N_days : number of days before new strain takes over (99%)\n",
    "    \"\"\"\n",
    "    end = sim['alpha'].mean(dim=dims)[sim['alpha'].mean(dim=dims)<0.99]['time'][-1].values\n",
    "    start = sim['alpha'].mean(dim=dims)[sim['alpha'].mean(dim=dims)<0.99]['time'][0].values\n",
    "    \n",
    "    N_days = (pd.to_datetime(end)-pd.to_datetime(start))/pd.Timedelta('1D')\n",
    "    \n",
    "    return N_days"
   ]
  },
  {
   "cell_type": "code",
   "execution_count": null,
   "metadata": {
    "ExecuteTime": {
     "end_time": "2021-03-10T08:36:26.393759Z",
     "start_time": "2021-03-10T08:36:26.331085Z"
    }
   },
   "outputs": [],
   "source": [
    "def get_date_of_exceeding_alpha(sim, dims, alpha_limit):\n",
    "    \"\"\"\n",
    "    sim : data array resulting from simulation\n",
    "    dims : list of dimensions over which to average\n",
    "    \"\"\"\n",
    "    return pd.Timestamp(sim['alpha'].mean(dim=dims)[sim['alpha'].mean(dim=dims)>alpha_limit]['time'][0].values)"
   ]
  },
  {
   "cell_type": "code",
   "execution_count": null,
   "metadata": {
    "ExecuteTime": {
     "end_time": "2021-03-10T08:36:26.568243Z",
     "start_time": "2021-03-10T08:36:26.499712Z"
    }
   },
   "outputs": [],
   "source": [
    "def sample_from_binomial(sim_result, variable, n_draws_per_sample, n_samples,\n",
    "                         Y0_new=None):\n",
    "                         #Y0_mean=[], Y0_median=[], Y0_LL=[], Y0_UL=[]):\n",
    "    \"\"\"\n",
    "    Function to sample from binomial, and add the result to an existing list (if given)\n",
    "    \"\"\"\n",
    "    \n",
    "    \n",
    "    Y = sim_result[variable].sum(dim=\"Nc\").values\n",
    "    # Initialize vectors\n",
    "    Y_new = np.zeros((Y.shape[1],n_draws_per_sample*n_samples))\n",
    "    # Loop over dimension draws\n",
    "    for n in range(Y.shape[0]):\n",
    "        binomial_draw = np.random.poisson( np.expand_dims(Y[n,:],axis=1),size = (Y.shape[1],n_draws_per_sample))\n",
    "        Y_new[:,n*n_draws_per_sample:(n+1)*n_draws_per_sample] = binomial_draw\n",
    "    # Compute mean and median\n",
    "    if Y0_new is None:\n",
    "        Y_new = Y_new\n",
    "    else:\n",
    "        Y_new = np.append(Y0_new, Y_new, axis=0)\n",
    "\n",
    "    return Y_new\n",
    "    \n",
    "    "
   ]
  },
  {
   "cell_type": "code",
   "execution_count": null,
   "metadata": {
    "ExecuteTime": {
     "end_time": "2021-03-10T08:36:26.746321Z",
     "start_time": "2021-03-10T08:36:26.684950Z"
    }
   },
   "outputs": [],
   "source": [
    "def plot_band_binom(ax, time, Y_binom, color, label, axis=1):\n",
    "    ax.fill_between(time, np.quantile(Y_binom, q = LL, axis = axis), \n",
    "                    np.quantile(Y_binom, q = UL, axis = axis),alpha=0.30, facecolor = color)\n",
    "    ax.plot(time,np.mean(Y_binom,axis=axis), color=color, label=label, lw=2, linestyle='--')\n",
    "    return"
   ]
  },
  {
   "cell_type": "code",
   "execution_count": null,
   "metadata": {
    "ExecuteTime": {
     "end_time": "2021-03-10T08:36:27.220296Z",
     "start_time": "2021-03-10T08:36:27.159302Z"
    }
   },
   "outputs": [],
   "source": [
    "def draw_fcn(param_dict,samples_dict):\n",
    "    # Sample\n",
    "    idx, param_dict['beta'] = random.choice(list(enumerate(samples_dict['beta'])))\n",
    "    param_dict['l'] = samples_dict['l'][idx] \n",
    "    param_dict['tau'] = samples_dict['tau'][idx]    \n",
    "    param_dict['prev_home'] = samples_dict['prev_home'][idx] \n",
    "    param_dict['prev_schools'] = samples_dict['prev_schools'][idx]    \n",
    "    param_dict['prev_work'] = samples_dict['prev_work'][idx]       \n",
    "    param_dict['prev_rest'] = samples_dict['prev_rest'][idx] \n",
    "    #param_dict['K'] = np.random.uniform(infectivity_gain_lower,infectivity_gain_upper)\n",
    "    return param_dict"
   ]
  },
  {
   "cell_type": "code",
   "execution_count": null,
   "metadata": {
    "ExecuteTime": {
     "end_time": "2021-03-10T08:36:27.594693Z",
     "start_time": "2021-03-10T08:36:27.526470Z"
    }
   },
   "outputs": [],
   "source": [
    "def plot_band(ax, y_model, var, color, label):\n",
    "    ax.fill_between(pd.to_datetime(y_model['time'].values),\n",
    "                    y_model[var].sum(dim=\"Nc\").quantile(LL,dim=\"draws\"), \n",
    "                    y_model[var].sum(dim=\"Nc\").quantile(UL,dim=\"draws\"),alpha=0.30, facecolor = color)\n",
    "    ax.plot(y_model['time'],y_model[var].sum(dim=\"Nc\").mean(dim=\"draws\"), color=color, label=label, lw=2)\n",
    "    return"
   ]
  },
  {
   "cell_type": "markdown",
   "metadata": {},
   "source": [
    "# Time-dep functions"
   ]
  },
  {
   "cell_type": "code",
   "execution_count": null,
   "metadata": {
    "ExecuteTime": {
     "end_time": "2021-03-10T08:34:11.847359Z",
     "start_time": "2021-03-10T08:34:11.733069Z"
    }
   },
   "outputs": [],
   "source": [
    "from covid19model.models.time_dependant_parameter_fncs import make_contact_matrix_function\n",
    "contact_matrix_4prev, all_contact, all_contact_no_schools = make_contact_matrix_function(df_google, Nc_all)"
   ]
  },
  {
   "cell_type": "code",
   "execution_count": null,
   "metadata": {
    "ExecuteTime": {
     "end_time": "2021-03-10T08:34:12.080910Z",
     "start_time": "2021-03-10T08:34:11.976086Z"
    }
   },
   "outputs": [],
   "source": [
    "def report7_policy_function(t, states, param, l , tau, prev_home, prev_schools, prev_work, prev_rest,scenario='1'):\n",
    "    \"\"\"\n",
    "    Scenario's:\n",
    "        '1' : current behaviour\n",
    "        '2' : opening March 1\n",
    "        '3' : opening April 1\n",
    "        '4' : opening May 1\n",
    "    \"\"\"\n",
    "    # Convert tau and l to dates\n",
    "    tau_days = pd.Timedelta(tau, unit='D')\n",
    "    l_days = pd.Timedelta(l, unit='D')\n",
    "\n",
    "    # Define key policy dates\n",
    "    t1 = pd.Timestamp('2020-03-15') # start of lockdown\n",
    "    t2 = pd.Timestamp('2020-05-15') # gradual re-opening of schools (assume 50% of nominal scenario)\n",
    "    t3 = pd.Timestamp('2020-07-01') # start of summer: COVID-urgency very low\n",
    "    t4 = pd.Timestamp('2020-08-01')\n",
    "    t5 = pd.Timestamp('2020-09-01') # september: lockdown relaxation narrative in newspapers reduces sense of urgency\n",
    "    t6 = pd.Timestamp('2020-10-19') # lockdown\n",
    "    t7 = pd.Timestamp('2020-11-16') # schools re-open\n",
    "    t8 = pd.Timestamp('2020-12-18') # start Christmas holidays (schools close)\n",
    "    t13 = pd.Timestamp('2020-01-04') # end Christmas holidays (schools open)\n",
    "    #t14 = pd.Timestamp('2021-01-18') # start of alternative policies\n",
    "    t15 = pd.Timestamp('2021-02-15') # Start of Krokus holidays (schools close)\n",
    "    t16 = pd.Timestamp('2021-02-21') # End of Krokus holidays (schools open)\n",
    "    t17 = pd.Timestamp('2021-03-01') # release to SB March 1\n",
    "    t18 = pd.Timestamp('2021-04-01') # release to SB April 1\n",
    "    t19 = pd.Timestamp('2021-04-05') # start Eastern Holidays (schools close)\n",
    "    t20 = pd.Timestamp('2021-04-19') # end Eastern Holidays (schools open)\n",
    "    t21 = pd.Timestamp('2021-05-01') # release to SB May 1\n",
    "\n",
    "    # Average out september mobility\n",
    "\n",
    "    if t5 < t <= t6 + tau_days:\n",
    "        t = pd.Timestamp(t.date())\n",
    "        return contact_matrix_4prev(t, school=1)\n",
    "    elif t6 + tau_days < t <= t6 + tau_days + l_days:\n",
    "        t = pd.Timestamp(t.date())\n",
    "        policy_old = contact_matrix_4prev(t, school=1)\n",
    "        policy_new = contact_matrix_4prev(t, prev_home, prev_schools, prev_work, prev_rest, \n",
    "                                    school=0)\n",
    "        return ramp_fun(policy_old, policy_new, t, tau_days, l, t6)\n",
    "    elif t6 + tau_days + l_days < t <= t7:\n",
    "        t = pd.Timestamp(t.date())\n",
    "        return contact_matrix_4prev(t, prev_home, prev_schools, prev_work, prev_rest, \n",
    "                              school=0)\n",
    "    elif t7 < t <= t8:\n",
    "        t = pd.Timestamp(t.date())\n",
    "        return contact_matrix_4prev(t, prev_home, prev_schools, prev_work, prev_rest, \n",
    "                              school=1)\n",
    "    elif t8 < t <= t13:\n",
    "        t = pd.Timestamp(t.date())\n",
    "        return contact_matrix_4prev(t, prev_home, prev_schools, prev_work, prev_rest, \n",
    "                              school=0)\n",
    "    elif t13 < t <= t15:\n",
    "        t = pd.Timestamp(t.date())\n",
    "        return contact_matrix_4prev(t, prev_home, prev_schools, prev_work, prev_rest, \n",
    "                        school=0.6)\n",
    "    elif t15 < t <= t16:\n",
    "        t = pd.Timestamp(t.date())\n",
    "        return contact_matrix_4prev(t, prev_home, prev_schools, prev_work, prev_rest, \n",
    "                        school=0)    \n",
    "    else:\n",
    "        # Scenario 1: Current contact behaviour\n",
    "        if scenario == '1':\n",
    "            if t16 < t <= t19:\n",
    "                t = pd.Timestamp(t.date())\n",
    "                return contact_matrix_4prev(t, prev_home, prev_schools, prev_work, prev_rest, \n",
    "                                school=0.6)\n",
    "            elif t19 < t <= t20:\n",
    "                t = pd.Timestamp(t.date())\n",
    "                return contact_matrix_4prev(t, prev_home, prev_schools, prev_work, prev_rest, \n",
    "                                school=0)\n",
    "            elif t20 < t:\n",
    "                t = pd.Timestamp(t.date())\n",
    "                return contact_matrix_4prev(t, prev_home, prev_schools, prev_work, prev_rest, \n",
    "                                school=0.6)\n",
    "            else:\n",
    "                raise Exception ('scenario '+scenario+' t:'+str(t))\n",
    "                    \n",
    "        # Scenario 2: increases in work or leisure mobility on March 1\n",
    "        elif scenario == '2':\n",
    "            if t16 < t <= t17:\n",
    "                t = pd.Timestamp(t.date())\n",
    "                return contact_matrix_4prev(t, prev_home, prev_schools, prev_work, prev_rest, \n",
    "                                school=0.6)  \n",
    "            elif t17 < t <= t19:\n",
    "                t = pd.Timestamp(t.date())\n",
    "                return contact_matrix_4prev(t, 1, 1, 1, 1, \n",
    "                                school=0.6,SB='2a')\n",
    "            elif t19 < t <= t20:\n",
    "                t = pd.Timestamp(t.date())\n",
    "                return contact_matrix_4prev(t, 1, 1, 1, 1, \n",
    "                                school=0,SB='2a')\n",
    "            elif t20 < t:\n",
    "                t = pd.Timestamp(t.date())\n",
    "                return contact_matrix_4prev(t, 1, 1, 1, 1, \n",
    "                                school=0.6,SB='2a')\n",
    "            else:\n",
    "                raise Exception ('scenario '+scenario+' t:'+str(t))\n",
    "        # Scenario 3: increases in work or leisure mobility on April 1\n",
    "        elif scenario == '3':\n",
    "            if t16 < t <= t18:\n",
    "                t = pd.Timestamp(t.date())\n",
    "                return contact_matrix_4prev(t, prev_home, prev_schools, prev_work, prev_rest, \n",
    "                                school=0.6)  \n",
    "            elif t18 < t <= t19:\n",
    "                t = pd.Timestamp(t.date())\n",
    "                return contact_matrix_4prev(t, 1, 1, 1, 1, \n",
    "                                school=0.6,SB='2a')\n",
    "            elif t19 < t <= t20:\n",
    "                t = pd.Timestamp(t.date())\n",
    "                return contact_matrix_4prev(t, 1, 1, 1, 1, \n",
    "                                school=0,SB='2a')\n",
    "            elif t20 < t:\n",
    "                t = pd.Timestamp(t.date())\n",
    "                return contact_matrix_4prev(t, 1, 1, 1, 1, \n",
    "                                school=0.6,SB='2a')\n",
    "            \n",
    "            else:\n",
    "                raise Exception ('scenario '+scenario+' t:'+str(t))\n",
    "        # Scenario 4: increases in work or leisure mobility on May 1\n",
    "        elif scenario == '4':\n",
    "            \n",
    "            if t16 < t <= t19:\n",
    "                t = pd.Timestamp(t.date())\n",
    "                return contact_matrix_4prev(t, prev_home, prev_schools, prev_work, prev_rest, \n",
    "                                school=0.6)  \n",
    "            elif t19 < t <= t20:\n",
    "                t = pd.Timestamp(t.date())\n",
    "                return contact_matrix_4prev(t, prev_home, prev_schools, prev_work, prev_rest, \n",
    "                                school=0)  \n",
    "            elif t20 < t <= t21:\n",
    "                t = pd.Timestamp(t.date())\n",
    "                return contact_matrix_4prev(t, prev_home, prev_schools, prev_work, prev_rest, \n",
    "                                school=0.6) \n",
    "            elif t > t21:\n",
    "                t = pd.Timestamp(t.date())\n",
    "                return contact_matrix_4prev(t, 1, 1, 1, 1, \n",
    "                                school=0.6,SB='2a')\n",
    "            else:\n",
    "                raise Exception ('scenario '+scenario+' t:'+str(t))\n",
    "        else:\n",
    "            raise Exception ('scenario '+scenario+' non-existing')"
   ]
  },
  {
   "cell_type": "code",
   "execution_count": null,
   "metadata": {
    "ExecuteTime": {
     "end_time": "2021-03-10T08:35:13.303490Z",
     "start_time": "2021-03-10T08:35:13.257219Z"
    }
   },
   "outputs": [],
   "source": [
    "def vaccin_model(initial_states, scenario, order=None, elder=None, effectivity=None, injection_day=0, injection_ratio=0,\n",
    "                 Nc_fun=None, N_vacc_fun=vacc_strategy, levels=levels):\n",
    "    \"\"\"\n",
    "    Function to initialize the model given a certain vaccination strategy\n",
    "    \"\"\"\n",
    "    params = model_parameters.get_COVID19_SEIRD_parameters()\n",
    "    params.update({\n",
    "            'l' : 5,\n",
    "            'tau' : 5,\n",
    "            'prev_home': 0.5,\n",
    "            'prev_schools': 0.5,\n",
    "            'prev_work': 0.5,\n",
    "            'prev_rest': 0.5,\n",
    "            'scenario': scenario,\n",
    "            'injection_day' : injection_day,\n",
    "            'injection_ratio' : injection_ratio\n",
    "                  })\n",
    "    \n",
    "    tdp = {}\n",
    "    \n",
    "    if Nc_fun is not None:\n",
    "        tdp.update({'Nc': Nc_fun})\n",
    "    if N_vacc_fun is not None:\n",
    "        tdp.update({'N_vacc':N_vacc_fun})\n",
    "        params.update({\n",
    "            'd' : d,\n",
    "            'NH_to_vacc' : NH_to_vacc,\n",
    "            'e' : np.array([effectivity]*levels),\n",
    "            'order': order,\n",
    "            'elder': elder\n",
    "        })\n",
    "    return models.COVID19_SEIRD(initial_states, params, time_dependent_parameters=tdp)"
   ]
  },
  {
   "cell_type": "markdown",
   "metadata": {
    "heading_collapsed": true
   },
   "source": [
    "# Test model"
   ]
  },
  {
   "cell_type": "code",
   "execution_count": null,
   "metadata": {
    "ExecuteTime": {
     "end_time": "2021-02-24T15:49:00.384520Z",
     "start_time": "2021-02-24T15:49:00.345089Z"
    },
    "hidden": true
   },
   "outputs": [],
   "source": [
    "# Need to initiate I also with the co-infection model, otherwise divison by zero occurs\n",
    "initial_states = {'S': initN, 'E': np.ones(levels), 'I': np.ones(levels), 'alpha':np.zeros(9)}"
   ]
  },
  {
   "cell_type": "code",
   "execution_count": null,
   "metadata": {
    "ExecuteTime": {
     "end_time": "2021-02-25T06:36:54.889390Z",
     "start_time": "2021-02-25T06:36:54.444851Z"
    },
    "hidden": true
   },
   "outputs": [],
   "source": [
    "params = model_parameters.get_COVID19_SEIRD_parameters()\n",
    "dummy_model_no_vacc = models.COVID19_SEIRD(initial_states, params)\n",
    "sim_dummy_model_no_vacc = dummy_model_no_vacc.sim(time=end_sim, start_date=start_calibration)"
   ]
  },
  {
   "cell_type": "markdown",
   "metadata": {
    "heading_collapsed": true
   },
   "source": [
    "# Test vacc strategy"
   ]
  },
  {
   "cell_type": "code",
   "execution_count": null,
   "metadata": {
    "ExecuteTime": {
     "end_time": "2021-03-03T07:48:14.120595Z",
     "start_time": "2021-03-03T07:48:14.066915Z"
    },
    "hidden": true
   },
   "outputs": [],
   "source": [
    "end_sim = '2021-09-01'"
   ]
  },
  {
   "cell_type": "code",
   "execution_count": null,
   "metadata": {
    "ExecuteTime": {
     "end_time": "2021-03-03T07:29:52.962971Z",
     "start_time": "2021-03-03T07:29:37.561021Z"
    },
    "hidden": true
   },
   "outputs": [],
   "source": [
    "%%snakeviz\n",
    "params = model_parameters.get_COVID19_SEIRD_parameters()\n",
    "params.update({'d' : d,\n",
    "               'NH_to_vacc' : NH_to_vacc,\n",
    "               'e' : np.array([0.9]*levels),\n",
    "              'order':[6,5,4,3,2]})\n",
    "dummy_model_vacc = models.COVID19_SEIRD(initial_states_sept, params, time_dependent_parameters={'N_vacc': vacc_strategy_70})\n",
    "sim_dummy_model_vacc = dummy_model_vacc.sim(time=end_sim, start_date=start_calibration)"
   ]
  },
  {
   "cell_type": "markdown",
   "metadata": {
    "heading_collapsed": true
   },
   "source": [
    "# Test UK injection"
   ]
  },
  {
   "cell_type": "code",
   "execution_count": null,
   "metadata": {
    "ExecuteTime": {
     "end_time": "2021-02-10T15:22:49.614655Z",
     "start_time": "2021-02-10T15:22:48.756818Z"
    },
    "hidden": true
   },
   "outputs": [],
   "source": [
    "injection_day = (pd.Timestamp('2021-01-01') - pd.Timestamp(start_calibration))/pd.Timedelta('1D')\n",
    "params = model_parameters.get_COVID19_SEIRD_parameters()\n",
    "params.update({'d' : d,\n",
    "               'NH' : NH,\n",
    "               'e' : np.array([0.9]*levels),\n",
    "               'K' : 1.6,\n",
    "               'initN' : initN[np.newaxis],\n",
    "               'injection_day': injection_day,\n",
    "               'injection_ratio':0.1,\n",
    "              })\n",
    "\n",
    "dummy_model_vacc_UK = models.COVID19_SEIRD(initial_states, params, time_dependent_parameters={'N_vacc': vacc_strategy})\n",
    "sim_dummy_model_vacc_UK = dummy_model_vacc_UK.sim(time=end_sim, start_date=start_calibration)"
   ]
  },
  {
   "cell_type": "code",
   "execution_count": null,
   "metadata": {
    "ExecuteTime": {
     "end_time": "2021-02-04T14:48:17.563579Z",
     "start_time": "2021-02-04T14:48:16.512345Z"
    },
    "hidden": true
   },
   "outputs": [],
   "source": [
    "fig,ax = plt.subplots(figsize=(11,5))\n",
    "ax.plot('date', 'N_cum', data=test_df, c='black')\n",
    "ax2 = ax.twinx()\n",
    "ax2.plot('date', 'N_vacc', data=test_df, c='gray', linestyle='--')\n",
    "ax.set_ylabel('Total number of people vaccinated')\n",
    "ax2.set_ylabel('Number of people vaccinated daily')\n",
    "ax.grid(False)\n",
    "ax2.grid(False)\n",
    "ax.set_xlabel('Time')\n",
    "ax.set_ylim(0,)\n",
    "ax2.set_ylim(0,)\n",
    "ax2.set_axis_on()\n",
    "yticks = [2,4,6,8]\n",
    "ax.set_yticks([0]+[i*10**6 for i in yticks])\n",
    "ax.set_yticklabels(['0']+[str(i)+'*10$^6$' for i in yticks])\n",
    "yticks2 = [2,4,6]\n",
    "ax2.set_yticks([0]+[i*10**4 for i in yticks2])\n",
    "ax2.set_yticklabels(['0']+[str(i)+'*10$^4$' for i in yticks2])\n",
    "fig.savefig('../../results/predictions/national/restore_v7.0/vacc_strategy', dpi=400)"
   ]
  },
  {
   "cell_type": "code",
   "execution_count": null,
   "metadata": {
    "ExecuteTime": {
     "end_time": "2021-01-25T07:50:42.993565Z",
     "start_time": "2021-01-25T07:50:42.949539Z"
    },
    "hidden": true
   },
   "outputs": [],
   "source": [
    "N = d['jan']/2*31+d['feb']/2*28+d['mar-apr']/2*(31+30)+d['may-aug']/2*(31+30)\n",
    "print('Approximate total number of vaccinations by august 1: {}'.format(N))\n",
    "#pd.to_datetime(end_sim) - pd.to_datetime(start_calibration)\n",
    "V_pool_aug = sim_dummy_model_vacc['V'].sum(dim='Nc').values[-1]\n",
    "print('Number of persons in vaccinated pool by end of simulation: {}'.format(V_pool_aug))\n",
    "V_new_sum = sim_dummy_model_vacc['V_new'].sum(dim='Nc').sum(dim='time').values\n",
    "print('Total number of people vaccinated by end of simulation: {}'.format(V_new_sum))"
   ]
  },
  {
   "cell_type": "code",
   "execution_count": null,
   "metadata": {
    "ExecuteTime": {
     "end_time": "2021-02-03T08:35:43.270898Z",
     "start_time": "2021-02-03T08:35:43.088811Z"
    },
    "hidden": true
   },
   "outputs": [],
   "source": [
    "population_status(sim_dummy_model_no_vacc)"
   ]
  },
  {
   "cell_type": "code",
   "execution_count": null,
   "metadata": {
    "ExecuteTime": {
     "end_time": "2021-02-03T08:35:48.462941Z",
     "start_time": "2021-02-03T08:35:48.320619Z"
    },
    "hidden": true
   },
   "outputs": [],
   "source": [
    "population_status(sim_dummy_model_vacc)"
   ]
  },
  {
   "cell_type": "code",
   "execution_count": null,
   "metadata": {
    "ExecuteTime": {
     "end_time": "2021-02-03T08:35:52.207649Z",
     "start_time": "2021-02-03T08:35:52.060325Z"
    },
    "hidden": true
   },
   "outputs": [],
   "source": [
    "population_status(sim_dummy_model_vacc_UK)"
   ]
  },
  {
   "cell_type": "code",
   "execution_count": null,
   "metadata": {
    "ExecuteTime": {
     "end_time": "2021-02-03T12:29:46.340982Z",
     "start_time": "2021-02-03T12:29:46.157315Z"
    },
    "hidden": true
   },
   "outputs": [],
   "source": [
    "population_status(sim_dummy_model_vacc_UK)"
   ]
  },
  {
   "cell_type": "code",
   "execution_count": null,
   "metadata": {
    "ExecuteTime": {
     "end_time": "2021-01-22T11:36:23.480169Z",
     "start_time": "2021-01-22T11:36:23.261684Z"
    },
    "hidden": true
   },
   "outputs": [],
   "source": [
    "# check evolutie van alpha\n",
    "fig,ax = plt.subplots()\n",
    "sim_dummy_model_vacc_UK['alpha'].mean(dim='Nc').plot(ax=ax)"
   ]
  },
  {
   "cell_type": "code",
   "execution_count": null,
   "metadata": {
    "ExecuteTime": {
     "end_time": "2021-01-25T09:12:46.338422Z",
     "start_time": "2021-01-25T09:12:46.295280Z"
    },
    "hidden": true
   },
   "outputs": [],
   "source": [
    "N_days = check_overtake_duration(sim_dummy_model_vacc_UK, dims='Nc')\n",
    "N_days"
   ]
  },
  {
   "cell_type": "markdown",
   "metadata": {
    "hidden": true
   },
   "source": [
    "duurt altijd ong. 100 dagen..., onafhankelijk van hoeveel je initialiseert. Ws omdat in deze test het virus nog niet verspreid is (en iedereen susceptible), dus de verspreiding wordt direct volledig overgenomen door besmettelijke variant."
   ]
  },
  {
   "cell_type": "markdown",
   "metadata": {},
   "source": [
    "# Verify vaccination function"
   ]
  },
  {
   "cell_type": "code",
   "execution_count": 68,
   "metadata": {
    "ExecuteTime": {
     "end_time": "2021-03-11T08:53:48.806891Z",
     "start_time": "2021-03-11T08:53:48.765155Z"
    }
   },
   "outputs": [],
   "source": [
    "timerange = pd.date_range(start_calibration,'2021-12-01')\n",
    "start_fig = '2021-01-01'\n",
    "end_sim = '2021-12-01'"
   ]
  },
  {
   "cell_type": "code",
   "execution_count": 69,
   "metadata": {
    "ExecuteTime": {
     "end_time": "2021-03-11T08:53:49.971905Z",
     "start_time": "2021-03-11T08:53:49.932002Z"
    }
   },
   "outputs": [],
   "source": [
    "order = [6,4,3,2,1,0,0]\n",
    "elder = [8,7,6]"
   ]
  },
  {
   "cell_type": "code",
   "execution_count": 362,
   "metadata": {
    "ExecuteTime": {
     "end_time": "2021-03-11T13:11:41.255361Z",
     "start_time": "2021-03-11T13:11:39.878889Z"
    },
    "scrolled": true
   },
   "outputs": [],
   "source": [
    "params = model_parameters.get_COVID19_SEIRD_parameters()\n",
    "params.update({'d' : d,\n",
    "               'NH_to_vacc' : NH_to_vacc,\n",
    "               'e' : np.array([0.9]*levels),\n",
    "               'order':order,\n",
    "               'elder':elder})\n",
    "dummy_model_vacc = models.COVID19_SEIRD(initial_states_sept, params, time_dependent_parameters={'N_vacc': vacc_strategy})\n",
    "sim_dummy_model_vacc = dummy_model_vacc.sim(time=end_sim, start_date=start_calibration)"
   ]
  },
  {
   "cell_type": "markdown",
   "metadata": {
    "heading_collapsed": true
   },
   "source": [
    "## Overall"
   ]
  },
  {
   "cell_type": "code",
   "execution_count": 38,
   "metadata": {
    "ExecuteTime": {
     "end_time": "2021-03-11T07:56:11.141886Z",
     "start_time": "2021-03-11T07:56:10.924688Z"
    },
    "hidden": true
   },
   "outputs": [],
   "source": [
    "test_dict = {}\n",
    "for t in timerange:\n",
    "    test_dict[t] = np.sum(vacc_strategy_priors(t=t, states=initial_states_sept, param=None, d=d, NH=NH, order=order, elder=elder))\n",
    "test_df = pd.DataFrame.from_dict(test_dict, orient='index').reset_index()\n",
    "test_df.columns = ['date','N_vacc']\n",
    "test_df['N_cum'] = test_df.N_vacc.cumsum()"
   ]
  },
  {
   "cell_type": "code",
   "execution_count": null,
   "metadata": {
    "ExecuteTime": {
     "end_time": "2021-02-25T08:57:29.800307Z",
     "start_time": "2021-02-25T08:57:29.612698Z"
    },
    "hidden": true,
    "scrolled": false
   },
   "outputs": [],
   "source": [
    "fig,ax = plt.subplots()\n",
    "sim_dummy_model_vacc['VE'].plot.line(ax=ax, x='time')"
   ]
  },
  {
   "cell_type": "code",
   "execution_count": 39,
   "metadata": {
    "ExecuteTime": {
     "end_time": "2021-03-11T07:56:13.567100Z",
     "start_time": "2021-03-11T07:56:13.365198Z"
    },
    "hidden": true
   },
   "outputs": [
    {
     "data": {
      "application/javascript": [
       "/* Put everything inside the global mpl namespace */\n",
       "window.mpl = {};\n",
       "\n",
       "\n",
       "mpl.get_websocket_type = function() {\n",
       "    if (typeof(WebSocket) !== 'undefined') {\n",
       "        return WebSocket;\n",
       "    } else if (typeof(MozWebSocket) !== 'undefined') {\n",
       "        return MozWebSocket;\n",
       "    } else {\n",
       "        alert('Your browser does not have WebSocket support. ' +\n",
       "              'Please try Chrome, Safari or Firefox ≥ 6. ' +\n",
       "              'Firefox 4 and 5 are also supported but you ' +\n",
       "              'have to enable WebSockets in about:config.');\n",
       "    };\n",
       "}\n",
       "\n",
       "mpl.figure = function(figure_id, websocket, ondownload, parent_element) {\n",
       "    this.id = figure_id;\n",
       "\n",
       "    this.ws = websocket;\n",
       "\n",
       "    this.supports_binary = (this.ws.binaryType != undefined);\n",
       "\n",
       "    if (!this.supports_binary) {\n",
       "        var warnings = document.getElementById(\"mpl-warnings\");\n",
       "        if (warnings) {\n",
       "            warnings.style.display = 'block';\n",
       "            warnings.textContent = (\n",
       "                \"This browser does not support binary websocket messages. \" +\n",
       "                    \"Performance may be slow.\");\n",
       "        }\n",
       "    }\n",
       "\n",
       "    this.imageObj = new Image();\n",
       "\n",
       "    this.context = undefined;\n",
       "    this.message = undefined;\n",
       "    this.canvas = undefined;\n",
       "    this.rubberband_canvas = undefined;\n",
       "    this.rubberband_context = undefined;\n",
       "    this.format_dropdown = undefined;\n",
       "\n",
       "    this.image_mode = 'full';\n",
       "\n",
       "    this.root = $('<div/>');\n",
       "    this._root_extra_style(this.root)\n",
       "    this.root.attr('style', 'display: inline-block');\n",
       "\n",
       "    $(parent_element).append(this.root);\n",
       "\n",
       "    this._init_header(this);\n",
       "    this._init_canvas(this);\n",
       "    this._init_toolbar(this);\n",
       "\n",
       "    var fig = this;\n",
       "\n",
       "    this.waiting = false;\n",
       "\n",
       "    this.ws.onopen =  function () {\n",
       "            fig.send_message(\"supports_binary\", {value: fig.supports_binary});\n",
       "            fig.send_message(\"send_image_mode\", {});\n",
       "            if (mpl.ratio != 1) {\n",
       "                fig.send_message(\"set_dpi_ratio\", {'dpi_ratio': mpl.ratio});\n",
       "            }\n",
       "            fig.send_message(\"refresh\", {});\n",
       "        }\n",
       "\n",
       "    this.imageObj.onload = function() {\n",
       "            if (fig.image_mode == 'full') {\n",
       "                // Full images could contain transparency (where diff images\n",
       "                // almost always do), so we need to clear the canvas so that\n",
       "                // there is no ghosting.\n",
       "                fig.context.clearRect(0, 0, fig.canvas.width, fig.canvas.height);\n",
       "            }\n",
       "            fig.context.drawImage(fig.imageObj, 0, 0);\n",
       "        };\n",
       "\n",
       "    this.imageObj.onunload = function() {\n",
       "        fig.ws.close();\n",
       "    }\n",
       "\n",
       "    this.ws.onmessage = this._make_on_message_function(this);\n",
       "\n",
       "    this.ondownload = ondownload;\n",
       "}\n",
       "\n",
       "mpl.figure.prototype._init_header = function() {\n",
       "    var titlebar = $(\n",
       "        '<div class=\"ui-dialog-titlebar ui-widget-header ui-corner-all ' +\n",
       "        'ui-helper-clearfix\"/>');\n",
       "    var titletext = $(\n",
       "        '<div class=\"ui-dialog-title\" style=\"width: 100%; ' +\n",
       "        'text-align: center; padding: 3px;\"/>');\n",
       "    titlebar.append(titletext)\n",
       "    this.root.append(titlebar);\n",
       "    this.header = titletext[0];\n",
       "}\n",
       "\n",
       "\n",
       "\n",
       "mpl.figure.prototype._canvas_extra_style = function(canvas_div) {\n",
       "\n",
       "}\n",
       "\n",
       "\n",
       "mpl.figure.prototype._root_extra_style = function(canvas_div) {\n",
       "\n",
       "}\n",
       "\n",
       "mpl.figure.prototype._init_canvas = function() {\n",
       "    var fig = this;\n",
       "\n",
       "    var canvas_div = $('<div/>');\n",
       "\n",
       "    canvas_div.attr('style', 'position: relative; clear: both; outline: 0');\n",
       "\n",
       "    function canvas_keyboard_event(event) {\n",
       "        return fig.key_event(event, event['data']);\n",
       "    }\n",
       "\n",
       "    canvas_div.keydown('key_press', canvas_keyboard_event);\n",
       "    canvas_div.keyup('key_release', canvas_keyboard_event);\n",
       "    this.canvas_div = canvas_div\n",
       "    this._canvas_extra_style(canvas_div)\n",
       "    this.root.append(canvas_div);\n",
       "\n",
       "    var canvas = $('<canvas/>');\n",
       "    canvas.addClass('mpl-canvas');\n",
       "    canvas.attr('style', \"left: 0; top: 0; z-index: 0; outline: 0\")\n",
       "\n",
       "    this.canvas = canvas[0];\n",
       "    this.context = canvas[0].getContext(\"2d\");\n",
       "\n",
       "    var backingStore = this.context.backingStorePixelRatio ||\n",
       "\tthis.context.webkitBackingStorePixelRatio ||\n",
       "\tthis.context.mozBackingStorePixelRatio ||\n",
       "\tthis.context.msBackingStorePixelRatio ||\n",
       "\tthis.context.oBackingStorePixelRatio ||\n",
       "\tthis.context.backingStorePixelRatio || 1;\n",
       "\n",
       "    mpl.ratio = (window.devicePixelRatio || 1) / backingStore;\n",
       "\n",
       "    var rubberband = $('<canvas/>');\n",
       "    rubberband.attr('style', \"position: absolute; left: 0; top: 0; z-index: 1;\")\n",
       "\n",
       "    var pass_mouse_events = true;\n",
       "\n",
       "    canvas_div.resizable({\n",
       "        start: function(event, ui) {\n",
       "            pass_mouse_events = false;\n",
       "        },\n",
       "        resize: function(event, ui) {\n",
       "            fig.request_resize(ui.size.width, ui.size.height);\n",
       "        },\n",
       "        stop: function(event, ui) {\n",
       "            pass_mouse_events = true;\n",
       "            fig.request_resize(ui.size.width, ui.size.height);\n",
       "        },\n",
       "    });\n",
       "\n",
       "    function mouse_event_fn(event) {\n",
       "        if (pass_mouse_events)\n",
       "            return fig.mouse_event(event, event['data']);\n",
       "    }\n",
       "\n",
       "    rubberband.mousedown('button_press', mouse_event_fn);\n",
       "    rubberband.mouseup('button_release', mouse_event_fn);\n",
       "    // Throttle sequential mouse events to 1 every 20ms.\n",
       "    rubberband.mousemove('motion_notify', mouse_event_fn);\n",
       "\n",
       "    rubberband.mouseenter('figure_enter', mouse_event_fn);\n",
       "    rubberband.mouseleave('figure_leave', mouse_event_fn);\n",
       "\n",
       "    canvas_div.on(\"wheel\", function (event) {\n",
       "        event = event.originalEvent;\n",
       "        event['data'] = 'scroll'\n",
       "        if (event.deltaY < 0) {\n",
       "            event.step = 1;\n",
       "        } else {\n",
       "            event.step = -1;\n",
       "        }\n",
       "        mouse_event_fn(event);\n",
       "    });\n",
       "\n",
       "    canvas_div.append(canvas);\n",
       "    canvas_div.append(rubberband);\n",
       "\n",
       "    this.rubberband = rubberband;\n",
       "    this.rubberband_canvas = rubberband[0];\n",
       "    this.rubberband_context = rubberband[0].getContext(\"2d\");\n",
       "    this.rubberband_context.strokeStyle = \"#000000\";\n",
       "\n",
       "    this._resize_canvas = function(width, height) {\n",
       "        // Keep the size of the canvas, canvas container, and rubber band\n",
       "        // canvas in synch.\n",
       "        canvas_div.css('width', width)\n",
       "        canvas_div.css('height', height)\n",
       "\n",
       "        canvas.attr('width', width * mpl.ratio);\n",
       "        canvas.attr('height', height * mpl.ratio);\n",
       "        canvas.attr('style', 'width: ' + width + 'px; height: ' + height + 'px;');\n",
       "\n",
       "        rubberband.attr('width', width);\n",
       "        rubberband.attr('height', height);\n",
       "    }\n",
       "\n",
       "    // Set the figure to an initial 600x600px, this will subsequently be updated\n",
       "    // upon first draw.\n",
       "    this._resize_canvas(600, 600);\n",
       "\n",
       "    // Disable right mouse context menu.\n",
       "    $(this.rubberband_canvas).bind(\"contextmenu\",function(e){\n",
       "        return false;\n",
       "    });\n",
       "\n",
       "    function set_focus () {\n",
       "        canvas.focus();\n",
       "        canvas_div.focus();\n",
       "    }\n",
       "\n",
       "    window.setTimeout(set_focus, 100);\n",
       "}\n",
       "\n",
       "mpl.figure.prototype._init_toolbar = function() {\n",
       "    var fig = this;\n",
       "\n",
       "    var nav_element = $('<div/>');\n",
       "    nav_element.attr('style', 'width: 100%');\n",
       "    this.root.append(nav_element);\n",
       "\n",
       "    // Define a callback function for later on.\n",
       "    function toolbar_event(event) {\n",
       "        return fig.toolbar_button_onclick(event['data']);\n",
       "    }\n",
       "    function toolbar_mouse_event(event) {\n",
       "        return fig.toolbar_button_onmouseover(event['data']);\n",
       "    }\n",
       "\n",
       "    for(var toolbar_ind in mpl.toolbar_items) {\n",
       "        var name = mpl.toolbar_items[toolbar_ind][0];\n",
       "        var tooltip = mpl.toolbar_items[toolbar_ind][1];\n",
       "        var image = mpl.toolbar_items[toolbar_ind][2];\n",
       "        var method_name = mpl.toolbar_items[toolbar_ind][3];\n",
       "\n",
       "        if (!name) {\n",
       "            // put a spacer in here.\n",
       "            continue;\n",
       "        }\n",
       "        var button = $('<button/>');\n",
       "        button.addClass('ui-button ui-widget ui-state-default ui-corner-all ' +\n",
       "                        'ui-button-icon-only');\n",
       "        button.attr('role', 'button');\n",
       "        button.attr('aria-disabled', 'false');\n",
       "        button.click(method_name, toolbar_event);\n",
       "        button.mouseover(tooltip, toolbar_mouse_event);\n",
       "\n",
       "        var icon_img = $('<span/>');\n",
       "        icon_img.addClass('ui-button-icon-primary ui-icon');\n",
       "        icon_img.addClass(image);\n",
       "        icon_img.addClass('ui-corner-all');\n",
       "\n",
       "        var tooltip_span = $('<span/>');\n",
       "        tooltip_span.addClass('ui-button-text');\n",
       "        tooltip_span.html(tooltip);\n",
       "\n",
       "        button.append(icon_img);\n",
       "        button.append(tooltip_span);\n",
       "\n",
       "        nav_element.append(button);\n",
       "    }\n",
       "\n",
       "    var fmt_picker_span = $('<span/>');\n",
       "\n",
       "    var fmt_picker = $('<select/>');\n",
       "    fmt_picker.addClass('mpl-toolbar-option ui-widget ui-widget-content');\n",
       "    fmt_picker_span.append(fmt_picker);\n",
       "    nav_element.append(fmt_picker_span);\n",
       "    this.format_dropdown = fmt_picker[0];\n",
       "\n",
       "    for (var ind in mpl.extensions) {\n",
       "        var fmt = mpl.extensions[ind];\n",
       "        var option = $(\n",
       "            '<option/>', {selected: fmt === mpl.default_extension}).html(fmt);\n",
       "        fmt_picker.append(option);\n",
       "    }\n",
       "\n",
       "    // Add hover states to the ui-buttons\n",
       "    $( \".ui-button\" ).hover(\n",
       "        function() { $(this).addClass(\"ui-state-hover\");},\n",
       "        function() { $(this).removeClass(\"ui-state-hover\");}\n",
       "    );\n",
       "\n",
       "    var status_bar = $('<span class=\"mpl-message\"/>');\n",
       "    nav_element.append(status_bar);\n",
       "    this.message = status_bar[0];\n",
       "}\n",
       "\n",
       "mpl.figure.prototype.request_resize = function(x_pixels, y_pixels) {\n",
       "    // Request matplotlib to resize the figure. Matplotlib will then trigger a resize in the client,\n",
       "    // which will in turn request a refresh of the image.\n",
       "    this.send_message('resize', {'width': x_pixels, 'height': y_pixels});\n",
       "}\n",
       "\n",
       "mpl.figure.prototype.send_message = function(type, properties) {\n",
       "    properties['type'] = type;\n",
       "    properties['figure_id'] = this.id;\n",
       "    this.ws.send(JSON.stringify(properties));\n",
       "}\n",
       "\n",
       "mpl.figure.prototype.send_draw_message = function() {\n",
       "    if (!this.waiting) {\n",
       "        this.waiting = true;\n",
       "        this.ws.send(JSON.stringify({type: \"draw\", figure_id: this.id}));\n",
       "    }\n",
       "}\n",
       "\n",
       "\n",
       "mpl.figure.prototype.handle_save = function(fig, msg) {\n",
       "    var format_dropdown = fig.format_dropdown;\n",
       "    var format = format_dropdown.options[format_dropdown.selectedIndex].value;\n",
       "    fig.ondownload(fig, format);\n",
       "}\n",
       "\n",
       "\n",
       "mpl.figure.prototype.handle_resize = function(fig, msg) {\n",
       "    var size = msg['size'];\n",
       "    if (size[0] != fig.canvas.width || size[1] != fig.canvas.height) {\n",
       "        fig._resize_canvas(size[0], size[1]);\n",
       "        fig.send_message(\"refresh\", {});\n",
       "    };\n",
       "}\n",
       "\n",
       "mpl.figure.prototype.handle_rubberband = function(fig, msg) {\n",
       "    var x0 = msg['x0'] / mpl.ratio;\n",
       "    var y0 = (fig.canvas.height - msg['y0']) / mpl.ratio;\n",
       "    var x1 = msg['x1'] / mpl.ratio;\n",
       "    var y1 = (fig.canvas.height - msg['y1']) / mpl.ratio;\n",
       "    x0 = Math.floor(x0) + 0.5;\n",
       "    y0 = Math.floor(y0) + 0.5;\n",
       "    x1 = Math.floor(x1) + 0.5;\n",
       "    y1 = Math.floor(y1) + 0.5;\n",
       "    var min_x = Math.min(x0, x1);\n",
       "    var min_y = Math.min(y0, y1);\n",
       "    var width = Math.abs(x1 - x0);\n",
       "    var height = Math.abs(y1 - y0);\n",
       "\n",
       "    fig.rubberband_context.clearRect(\n",
       "        0, 0, fig.canvas.width / mpl.ratio, fig.canvas.height / mpl.ratio);\n",
       "\n",
       "    fig.rubberband_context.strokeRect(min_x, min_y, width, height);\n",
       "}\n",
       "\n",
       "mpl.figure.prototype.handle_figure_label = function(fig, msg) {\n",
       "    // Updates the figure title.\n",
       "    fig.header.textContent = msg['label'];\n",
       "}\n",
       "\n",
       "mpl.figure.prototype.handle_cursor = function(fig, msg) {\n",
       "    var cursor = msg['cursor'];\n",
       "    switch(cursor)\n",
       "    {\n",
       "    case 0:\n",
       "        cursor = 'pointer';\n",
       "        break;\n",
       "    case 1:\n",
       "        cursor = 'default';\n",
       "        break;\n",
       "    case 2:\n",
       "        cursor = 'crosshair';\n",
       "        break;\n",
       "    case 3:\n",
       "        cursor = 'move';\n",
       "        break;\n",
       "    }\n",
       "    fig.rubberband_canvas.style.cursor = cursor;\n",
       "}\n",
       "\n",
       "mpl.figure.prototype.handle_message = function(fig, msg) {\n",
       "    fig.message.textContent = msg['message'];\n",
       "}\n",
       "\n",
       "mpl.figure.prototype.handle_draw = function(fig, msg) {\n",
       "    // Request the server to send over a new figure.\n",
       "    fig.send_draw_message();\n",
       "}\n",
       "\n",
       "mpl.figure.prototype.handle_image_mode = function(fig, msg) {\n",
       "    fig.image_mode = msg['mode'];\n",
       "}\n",
       "\n",
       "mpl.figure.prototype.updated_canvas_event = function() {\n",
       "    // Called whenever the canvas gets updated.\n",
       "    this.send_message(\"ack\", {});\n",
       "}\n",
       "\n",
       "// A function to construct a web socket function for onmessage handling.\n",
       "// Called in the figure constructor.\n",
       "mpl.figure.prototype._make_on_message_function = function(fig) {\n",
       "    return function socket_on_message(evt) {\n",
       "        if (evt.data instanceof Blob) {\n",
       "            /* FIXME: We get \"Resource interpreted as Image but\n",
       "             * transferred with MIME type text/plain:\" errors on\n",
       "             * Chrome.  But how to set the MIME type?  It doesn't seem\n",
       "             * to be part of the websocket stream */\n",
       "            evt.data.type = \"image/png\";\n",
       "\n",
       "            /* Free the memory for the previous frames */\n",
       "            if (fig.imageObj.src) {\n",
       "                (window.URL || window.webkitURL).revokeObjectURL(\n",
       "                    fig.imageObj.src);\n",
       "            }\n",
       "\n",
       "            fig.imageObj.src = (window.URL || window.webkitURL).createObjectURL(\n",
       "                evt.data);\n",
       "            fig.updated_canvas_event();\n",
       "            fig.waiting = false;\n",
       "            return;\n",
       "        }\n",
       "        else if (typeof evt.data === 'string' && evt.data.slice(0, 21) == \"data:image/png;base64\") {\n",
       "            fig.imageObj.src = evt.data;\n",
       "            fig.updated_canvas_event();\n",
       "            fig.waiting = false;\n",
       "            return;\n",
       "        }\n",
       "\n",
       "        var msg = JSON.parse(evt.data);\n",
       "        var msg_type = msg['type'];\n",
       "\n",
       "        // Call the  \"handle_{type}\" callback, which takes\n",
       "        // the figure and JSON message as its only arguments.\n",
       "        try {\n",
       "            var callback = fig[\"handle_\" + msg_type];\n",
       "        } catch (e) {\n",
       "            console.log(\"No handler for the '\" + msg_type + \"' message type: \", msg);\n",
       "            return;\n",
       "        }\n",
       "\n",
       "        if (callback) {\n",
       "            try {\n",
       "                // console.log(\"Handling '\" + msg_type + \"' message: \", msg);\n",
       "                callback(fig, msg);\n",
       "            } catch (e) {\n",
       "                console.log(\"Exception inside the 'handler_\" + msg_type + \"' callback:\", e, e.stack, msg);\n",
       "            }\n",
       "        }\n",
       "    };\n",
       "}\n",
       "\n",
       "// from http://stackoverflow.com/questions/1114465/getting-mouse-location-in-canvas\n",
       "mpl.findpos = function(e) {\n",
       "    //this section is from http://www.quirksmode.org/js/events_properties.html\n",
       "    var targ;\n",
       "    if (!e)\n",
       "        e = window.event;\n",
       "    if (e.target)\n",
       "        targ = e.target;\n",
       "    else if (e.srcElement)\n",
       "        targ = e.srcElement;\n",
       "    if (targ.nodeType == 3) // defeat Safari bug\n",
       "        targ = targ.parentNode;\n",
       "\n",
       "    // jQuery normalizes the pageX and pageY\n",
       "    // pageX,Y are the mouse positions relative to the document\n",
       "    // offset() returns the position of the element relative to the document\n",
       "    var x = e.pageX - $(targ).offset().left;\n",
       "    var y = e.pageY - $(targ).offset().top;\n",
       "\n",
       "    return {\"x\": x, \"y\": y};\n",
       "};\n",
       "\n",
       "/*\n",
       " * return a copy of an object with only non-object keys\n",
       " * we need this to avoid circular references\n",
       " * http://stackoverflow.com/a/24161582/3208463\n",
       " */\n",
       "function simpleKeys (original) {\n",
       "  return Object.keys(original).reduce(function (obj, key) {\n",
       "    if (typeof original[key] !== 'object')\n",
       "        obj[key] = original[key]\n",
       "    return obj;\n",
       "  }, {});\n",
       "}\n",
       "\n",
       "mpl.figure.prototype.mouse_event = function(event, name) {\n",
       "    var canvas_pos = mpl.findpos(event)\n",
       "\n",
       "    if (name === 'button_press')\n",
       "    {\n",
       "        this.canvas.focus();\n",
       "        this.canvas_div.focus();\n",
       "    }\n",
       "\n",
       "    var x = canvas_pos.x * mpl.ratio;\n",
       "    var y = canvas_pos.y * mpl.ratio;\n",
       "\n",
       "    this.send_message(name, {x: x, y: y, button: event.button,\n",
       "                             step: event.step,\n",
       "                             guiEvent: simpleKeys(event)});\n",
       "\n",
       "    /* This prevents the web browser from automatically changing to\n",
       "     * the text insertion cursor when the button is pressed.  We want\n",
       "     * to control all of the cursor setting manually through the\n",
       "     * 'cursor' event from matplotlib */\n",
       "    event.preventDefault();\n",
       "    return false;\n",
       "}\n",
       "\n",
       "mpl.figure.prototype._key_event_extra = function(event, name) {\n",
       "    // Handle any extra behaviour associated with a key event\n",
       "}\n",
       "\n",
       "mpl.figure.prototype.key_event = function(event, name) {\n",
       "\n",
       "    // Prevent repeat events\n",
       "    if (name == 'key_press')\n",
       "    {\n",
       "        if (event.which === this._key)\n",
       "            return;\n",
       "        else\n",
       "            this._key = event.which;\n",
       "    }\n",
       "    if (name == 'key_release')\n",
       "        this._key = null;\n",
       "\n",
       "    var value = '';\n",
       "    if (event.ctrlKey && event.which != 17)\n",
       "        value += \"ctrl+\";\n",
       "    if (event.altKey && event.which != 18)\n",
       "        value += \"alt+\";\n",
       "    if (event.shiftKey && event.which != 16)\n",
       "        value += \"shift+\";\n",
       "\n",
       "    value += 'k';\n",
       "    value += event.which.toString();\n",
       "\n",
       "    this._key_event_extra(event, name);\n",
       "\n",
       "    this.send_message(name, {key: value,\n",
       "                             guiEvent: simpleKeys(event)});\n",
       "    return false;\n",
       "}\n",
       "\n",
       "mpl.figure.prototype.toolbar_button_onclick = function(name) {\n",
       "    if (name == 'download') {\n",
       "        this.handle_save(this, null);\n",
       "    } else {\n",
       "        this.send_message(\"toolbar_button\", {name: name});\n",
       "    }\n",
       "};\n",
       "\n",
       "mpl.figure.prototype.toolbar_button_onmouseover = function(tooltip) {\n",
       "    this.message.textContent = tooltip;\n",
       "};\n",
       "mpl.toolbar_items = [[\"Home\", \"Reset original view\", \"fa fa-home icon-home\", \"home\"], [\"Back\", \"Back to previous view\", \"fa fa-arrow-left icon-arrow-left\", \"back\"], [\"Forward\", \"Forward to next view\", \"fa fa-arrow-right icon-arrow-right\", \"forward\"], [\"\", \"\", \"\", \"\"], [\"Pan\", \"Pan axes with left mouse, zoom with right\", \"fa fa-arrows icon-move\", \"pan\"], [\"Zoom\", \"Zoom to rectangle\", \"fa fa-square-o icon-check-empty\", \"zoom\"], [\"\", \"\", \"\", \"\"], [\"Download\", \"Download plot\", \"fa fa-floppy-o icon-save\", \"download\"]];\n",
       "\n",
       "mpl.extensions = [\"eps\", \"jpeg\", \"pdf\", \"png\", \"ps\", \"raw\", \"svg\", \"tif\"];\n",
       "\n",
       "mpl.default_extension = \"png\";var comm_websocket_adapter = function(comm) {\n",
       "    // Create a \"websocket\"-like object which calls the given IPython comm\n",
       "    // object with the appropriate methods. Currently this is a non binary\n",
       "    // socket, so there is still some room for performance tuning.\n",
       "    var ws = {};\n",
       "\n",
       "    ws.close = function() {\n",
       "        comm.close()\n",
       "    };\n",
       "    ws.send = function(m) {\n",
       "        //console.log('sending', m);\n",
       "        comm.send(m);\n",
       "    };\n",
       "    // Register the callback with on_msg.\n",
       "    comm.on_msg(function(msg) {\n",
       "        //console.log('receiving', msg['content']['data'], msg);\n",
       "        // Pass the mpl event to the overridden (by mpl) onmessage function.\n",
       "        ws.onmessage(msg['content']['data'])\n",
       "    });\n",
       "    return ws;\n",
       "}\n",
       "\n",
       "mpl.mpl_figure_comm = function(comm, msg) {\n",
       "    // This is the function which gets called when the mpl process\n",
       "    // starts-up an IPython Comm through the \"matplotlib\" channel.\n",
       "\n",
       "    var id = msg.content.data.id;\n",
       "    // Get hold of the div created by the display call when the Comm\n",
       "    // socket was opened in Python.\n",
       "    var element = $(\"#\" + id);\n",
       "    var ws_proxy = comm_websocket_adapter(comm)\n",
       "\n",
       "    function ondownload(figure, format) {\n",
       "        window.open(figure.imageObj.src);\n",
       "    }\n",
       "\n",
       "    var fig = new mpl.figure(id, ws_proxy,\n",
       "                           ondownload,\n",
       "                           element.get(0));\n",
       "\n",
       "    // Call onopen now - mpl needs it, as it is assuming we've passed it a real\n",
       "    // web socket which is closed, not our websocket->open comm proxy.\n",
       "    ws_proxy.onopen();\n",
       "\n",
       "    fig.parent_element = element.get(0);\n",
       "    fig.cell_info = mpl.find_output_cell(\"<div id='\" + id + \"'></div>\");\n",
       "    if (!fig.cell_info) {\n",
       "        console.error(\"Failed to find cell for figure\", id, fig);\n",
       "        return;\n",
       "    }\n",
       "\n",
       "    var output_index = fig.cell_info[2]\n",
       "    var cell = fig.cell_info[0];\n",
       "\n",
       "};\n",
       "\n",
       "mpl.figure.prototype.handle_close = function(fig, msg) {\n",
       "    var width = fig.canvas.width/mpl.ratio\n",
       "    fig.root.unbind('remove')\n",
       "\n",
       "    // Update the output cell to use the data from the current canvas.\n",
       "    fig.push_to_output();\n",
       "    var dataURL = fig.canvas.toDataURL();\n",
       "    // Re-enable the keyboard manager in IPython - without this line, in FF,\n",
       "    // the notebook keyboard shortcuts fail.\n",
       "    IPython.keyboard_manager.enable()\n",
       "    $(fig.parent_element).html('<img src=\"' + dataURL + '\" width=\"' + width + '\">');\n",
       "    fig.close_ws(fig, msg);\n",
       "}\n",
       "\n",
       "mpl.figure.prototype.close_ws = function(fig, msg){\n",
       "    fig.send_message('closing', msg);\n",
       "    // fig.ws.close()\n",
       "}\n",
       "\n",
       "mpl.figure.prototype.push_to_output = function(remove_interactive) {\n",
       "    // Turn the data on the canvas into data in the output cell.\n",
       "    var width = this.canvas.width/mpl.ratio\n",
       "    var dataURL = this.canvas.toDataURL();\n",
       "    this.cell_info[1]['text/html'] = '<img src=\"' + dataURL + '\" width=\"' + width + '\">';\n",
       "}\n",
       "\n",
       "mpl.figure.prototype.updated_canvas_event = function() {\n",
       "    // Tell IPython that the notebook contents must change.\n",
       "    IPython.notebook.set_dirty(true);\n",
       "    this.send_message(\"ack\", {});\n",
       "    var fig = this;\n",
       "    // Wait a second, then push the new image to the DOM so\n",
       "    // that it is saved nicely (might be nice to debounce this).\n",
       "    setTimeout(function () { fig.push_to_output() }, 1000);\n",
       "}\n",
       "\n",
       "mpl.figure.prototype._init_toolbar = function() {\n",
       "    var fig = this;\n",
       "\n",
       "    var nav_element = $('<div/>');\n",
       "    nav_element.attr('style', 'width: 100%');\n",
       "    this.root.append(nav_element);\n",
       "\n",
       "    // Define a callback function for later on.\n",
       "    function toolbar_event(event) {\n",
       "        return fig.toolbar_button_onclick(event['data']);\n",
       "    }\n",
       "    function toolbar_mouse_event(event) {\n",
       "        return fig.toolbar_button_onmouseover(event['data']);\n",
       "    }\n",
       "\n",
       "    for(var toolbar_ind in mpl.toolbar_items){\n",
       "        var name = mpl.toolbar_items[toolbar_ind][0];\n",
       "        var tooltip = mpl.toolbar_items[toolbar_ind][1];\n",
       "        var image = mpl.toolbar_items[toolbar_ind][2];\n",
       "        var method_name = mpl.toolbar_items[toolbar_ind][3];\n",
       "\n",
       "        if (!name) { continue; };\n",
       "\n",
       "        var button = $('<button class=\"btn btn-default\" href=\"#\" title=\"' + name + '\"><i class=\"fa ' + image + ' fa-lg\"></i></button>');\n",
       "        button.click(method_name, toolbar_event);\n",
       "        button.mouseover(tooltip, toolbar_mouse_event);\n",
       "        nav_element.append(button);\n",
       "    }\n",
       "\n",
       "    // Add the status bar.\n",
       "    var status_bar = $('<span class=\"mpl-message\" style=\"text-align:right; float: right;\"/>');\n",
       "    nav_element.append(status_bar);\n",
       "    this.message = status_bar[0];\n",
       "\n",
       "    // Add the close button to the window.\n",
       "    var buttongrp = $('<div class=\"btn-group inline pull-right\"></div>');\n",
       "    var button = $('<button class=\"btn btn-mini btn-primary\" href=\"#\" title=\"Stop Interaction\"><i class=\"fa fa-power-off icon-remove icon-large\"></i></button>');\n",
       "    button.click(function (evt) { fig.handle_close(fig, {}); } );\n",
       "    button.mouseover('Stop Interaction', toolbar_mouse_event);\n",
       "    buttongrp.append(button);\n",
       "    var titlebar = this.root.find($('.ui-dialog-titlebar'));\n",
       "    titlebar.prepend(buttongrp);\n",
       "}\n",
       "\n",
       "mpl.figure.prototype._root_extra_style = function(el){\n",
       "    var fig = this\n",
       "    el.on(\"remove\", function(){\n",
       "\tfig.close_ws(fig, {});\n",
       "    });\n",
       "}\n",
       "\n",
       "mpl.figure.prototype._canvas_extra_style = function(el){\n",
       "    // this is important to make the div 'focusable\n",
       "    el.attr('tabindex', 0)\n",
       "    // reach out to IPython and tell the keyboard manager to turn it's self\n",
       "    // off when our div gets focus\n",
       "\n",
       "    // location in version 3\n",
       "    if (IPython.notebook.keyboard_manager) {\n",
       "        IPython.notebook.keyboard_manager.register_events(el);\n",
       "    }\n",
       "    else {\n",
       "        // location in version 2\n",
       "        IPython.keyboard_manager.register_events(el);\n",
       "    }\n",
       "\n",
       "}\n",
       "\n",
       "mpl.figure.prototype._key_event_extra = function(event, name) {\n",
       "    var manager = IPython.notebook.keyboard_manager;\n",
       "    if (!manager)\n",
       "        manager = IPython.keyboard_manager;\n",
       "\n",
       "    // Check for shift+enter\n",
       "    if (event.shiftKey && event.which == 13) {\n",
       "        this.canvas_div.blur();\n",
       "        // select the cell after this one\n",
       "        var index = IPython.notebook.find_cell_index(this.cell_info[0]);\n",
       "        IPython.notebook.select(index + 1);\n",
       "    }\n",
       "}\n",
       "\n",
       "mpl.figure.prototype.handle_save = function(fig, msg) {\n",
       "    fig.ondownload(fig, null);\n",
       "}\n",
       "\n",
       "\n",
       "mpl.find_output_cell = function(html_output) {\n",
       "    // Return the cell and output element which can be found *uniquely* in the notebook.\n",
       "    // Note - this is a bit hacky, but it is done because the \"notebook_saving.Notebook\"\n",
       "    // IPython event is triggered only after the cells have been serialised, which for\n",
       "    // our purposes (turning an active figure into a static one), is too late.\n",
       "    var cells = IPython.notebook.get_cells();\n",
       "    var ncells = cells.length;\n",
       "    for (var i=0; i<ncells; i++) {\n",
       "        var cell = cells[i];\n",
       "        if (cell.cell_type === 'code'){\n",
       "            for (var j=0; j<cell.output_area.outputs.length; j++) {\n",
       "                var data = cell.output_area.outputs[j];\n",
       "                if (data.data) {\n",
       "                    // IPython >= 3 moved mimebundle to data attribute of output\n",
       "                    data = data.data;\n",
       "                }\n",
       "                if (data['text/html'] == html_output) {\n",
       "                    return [cell, data, j];\n",
       "                }\n",
       "            }\n",
       "        }\n",
       "    }\n",
       "}\n",
       "\n",
       "// Register the function which deals with the matplotlib target/channel.\n",
       "// The kernel may be null if the page has been refreshed.\n",
       "if (IPython.notebook.kernel != null) {\n",
       "    IPython.notebook.kernel.comm_manager.register_target('matplotlib', mpl.mpl_figure_comm);\n",
       "}\n"
      ],
      "text/plain": [
       "<IPython.core.display.Javascript object>"
      ]
     },
     "metadata": {},
     "output_type": "display_data"
    },
    {
     "data": {
      "text/html": [
       "<img src=\"data:image/png;base64,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\" width=\"900\">"
      ],
      "text/plain": [
       "<IPython.core.display.HTML object>"
      ]
     },
     "metadata": {},
     "output_type": "display_data"
    },
    {
     "data": {
      "text/plain": [
       "Text(0, 0.5, 'Daily vaccination number')"
      ]
     },
     "execution_count": 39,
     "metadata": {},
     "output_type": "execute_result"
    }
   ],
   "source": [
    "fig,ax = plt.subplots(figsize=(9,5))\n",
    "ax.plot('date', 'N_vacc', data=test_df, c='green', label='time-dep function')\n",
    "ax.plot(sim_dummy_model_vacc['time'], sim_dummy_model_vacc['V_new'].sum(dim='Nc'), c='blue', linestyle='--', label='model')\n",
    "ax.legend()\n",
    "ax.set_ylabel('Daily vaccination number')"
   ]
  },
  {
   "cell_type": "markdown",
   "metadata": {},
   "source": [
    "## Per age group"
   ]
  },
  {
   "cell_type": "markdown",
   "metadata": {},
   "source": [
    "**Note: in test_df, the used states remain initial_states on every timestep, instead of the real model state at every timestep, so results will never fully correspond with the model.**"
   ]
  },
  {
   "cell_type": "code",
   "execution_count": null,
   "metadata": {
    "ExecuteTime": {
     "end_time": "2021-03-04T14:56:56.044913Z",
     "start_time": "2021-03-04T14:56:56.003027Z"
    },
    "scrolled": false
   },
   "outputs": [],
   "source": [
    "# age_groups = [str(x) for x in range(9)]\n",
    "# test_df = pd.DataFrame(columns=['date'] + age_groups)\n",
    "# test_df['date'] = timerange\n",
    "# test_df = test_df.set_index('date')\n",
    "# for t in timerange:\n",
    "#     for i in age_groups:\n",
    "#         test_df.loc[t,i] = vacc_strategy_prev(t=t, states=initial_states_sept, param=None, d=d, NH=NH, order=order)[int(i)]\n",
    "# test_df = test_df.reset_index()"
   ]
  },
  {
   "cell_type": "code",
   "execution_count": 113,
   "metadata": {
    "ExecuteTime": {
     "end_time": "2021-03-11T09:53:03.779969Z",
     "start_time": "2021-03-11T09:53:03.740353Z"
    }
   },
   "outputs": [],
   "source": [
    "out_single = sim_dummy_model_vacc\n",
    "#out_single = out_S2b#.sel(draws=1)"
   ]
  },
  {
   "cell_type": "code",
   "execution_count": 114,
   "metadata": {
    "ExecuteTime": {
     "end_time": "2021-03-11T09:53:04.457079Z",
     "start_time": "2021-03-11T09:53:04.198070Z"
    },
    "scrolled": false
   },
   "outputs": [
    {
     "data": {
      "application/javascript": [
       "/* Put everything inside the global mpl namespace */\n",
       "window.mpl = {};\n",
       "\n",
       "\n",
       "mpl.get_websocket_type = function() {\n",
       "    if (typeof(WebSocket) !== 'undefined') {\n",
       "        return WebSocket;\n",
       "    } else if (typeof(MozWebSocket) !== 'undefined') {\n",
       "        return MozWebSocket;\n",
       "    } else {\n",
       "        alert('Your browser does not have WebSocket support. ' +\n",
       "              'Please try Chrome, Safari or Firefox ≥ 6. ' +\n",
       "              'Firefox 4 and 5 are also supported but you ' +\n",
       "              'have to enable WebSockets in about:config.');\n",
       "    };\n",
       "}\n",
       "\n",
       "mpl.figure = function(figure_id, websocket, ondownload, parent_element) {\n",
       "    this.id = figure_id;\n",
       "\n",
       "    this.ws = websocket;\n",
       "\n",
       "    this.supports_binary = (this.ws.binaryType != undefined);\n",
       "\n",
       "    if (!this.supports_binary) {\n",
       "        var warnings = document.getElementById(\"mpl-warnings\");\n",
       "        if (warnings) {\n",
       "            warnings.style.display = 'block';\n",
       "            warnings.textContent = (\n",
       "                \"This browser does not support binary websocket messages. \" +\n",
       "                    \"Performance may be slow.\");\n",
       "        }\n",
       "    }\n",
       "\n",
       "    this.imageObj = new Image();\n",
       "\n",
       "    this.context = undefined;\n",
       "    this.message = undefined;\n",
       "    this.canvas = undefined;\n",
       "    this.rubberband_canvas = undefined;\n",
       "    this.rubberband_context = undefined;\n",
       "    this.format_dropdown = undefined;\n",
       "\n",
       "    this.image_mode = 'full';\n",
       "\n",
       "    this.root = $('<div/>');\n",
       "    this._root_extra_style(this.root)\n",
       "    this.root.attr('style', 'display: inline-block');\n",
       "\n",
       "    $(parent_element).append(this.root);\n",
       "\n",
       "    this._init_header(this);\n",
       "    this._init_canvas(this);\n",
       "    this._init_toolbar(this);\n",
       "\n",
       "    var fig = this;\n",
       "\n",
       "    this.waiting = false;\n",
       "\n",
       "    this.ws.onopen =  function () {\n",
       "            fig.send_message(\"supports_binary\", {value: fig.supports_binary});\n",
       "            fig.send_message(\"send_image_mode\", {});\n",
       "            if (mpl.ratio != 1) {\n",
       "                fig.send_message(\"set_dpi_ratio\", {'dpi_ratio': mpl.ratio});\n",
       "            }\n",
       "            fig.send_message(\"refresh\", {});\n",
       "        }\n",
       "\n",
       "    this.imageObj.onload = function() {\n",
       "            if (fig.image_mode == 'full') {\n",
       "                // Full images could contain transparency (where diff images\n",
       "                // almost always do), so we need to clear the canvas so that\n",
       "                // there is no ghosting.\n",
       "                fig.context.clearRect(0, 0, fig.canvas.width, fig.canvas.height);\n",
       "            }\n",
       "            fig.context.drawImage(fig.imageObj, 0, 0);\n",
       "        };\n",
       "\n",
       "    this.imageObj.onunload = function() {\n",
       "        fig.ws.close();\n",
       "    }\n",
       "\n",
       "    this.ws.onmessage = this._make_on_message_function(this);\n",
       "\n",
       "    this.ondownload = ondownload;\n",
       "}\n",
       "\n",
       "mpl.figure.prototype._init_header = function() {\n",
       "    var titlebar = $(\n",
       "        '<div class=\"ui-dialog-titlebar ui-widget-header ui-corner-all ' +\n",
       "        'ui-helper-clearfix\"/>');\n",
       "    var titletext = $(\n",
       "        '<div class=\"ui-dialog-title\" style=\"width: 100%; ' +\n",
       "        'text-align: center; padding: 3px;\"/>');\n",
       "    titlebar.append(titletext)\n",
       "    this.root.append(titlebar);\n",
       "    this.header = titletext[0];\n",
       "}\n",
       "\n",
       "\n",
       "\n",
       "mpl.figure.prototype._canvas_extra_style = function(canvas_div) {\n",
       "\n",
       "}\n",
       "\n",
       "\n",
       "mpl.figure.prototype._root_extra_style = function(canvas_div) {\n",
       "\n",
       "}\n",
       "\n",
       "mpl.figure.prototype._init_canvas = function() {\n",
       "    var fig = this;\n",
       "\n",
       "    var canvas_div = $('<div/>');\n",
       "\n",
       "    canvas_div.attr('style', 'position: relative; clear: both; outline: 0');\n",
       "\n",
       "    function canvas_keyboard_event(event) {\n",
       "        return fig.key_event(event, event['data']);\n",
       "    }\n",
       "\n",
       "    canvas_div.keydown('key_press', canvas_keyboard_event);\n",
       "    canvas_div.keyup('key_release', canvas_keyboard_event);\n",
       "    this.canvas_div = canvas_div\n",
       "    this._canvas_extra_style(canvas_div)\n",
       "    this.root.append(canvas_div);\n",
       "\n",
       "    var canvas = $('<canvas/>');\n",
       "    canvas.addClass('mpl-canvas');\n",
       "    canvas.attr('style', \"left: 0; top: 0; z-index: 0; outline: 0\")\n",
       "\n",
       "    this.canvas = canvas[0];\n",
       "    this.context = canvas[0].getContext(\"2d\");\n",
       "\n",
       "    var backingStore = this.context.backingStorePixelRatio ||\n",
       "\tthis.context.webkitBackingStorePixelRatio ||\n",
       "\tthis.context.mozBackingStorePixelRatio ||\n",
       "\tthis.context.msBackingStorePixelRatio ||\n",
       "\tthis.context.oBackingStorePixelRatio ||\n",
       "\tthis.context.backingStorePixelRatio || 1;\n",
       "\n",
       "    mpl.ratio = (window.devicePixelRatio || 1) / backingStore;\n",
       "\n",
       "    var rubberband = $('<canvas/>');\n",
       "    rubberband.attr('style', \"position: absolute; left: 0; top: 0; z-index: 1;\")\n",
       "\n",
       "    var pass_mouse_events = true;\n",
       "\n",
       "    canvas_div.resizable({\n",
       "        start: function(event, ui) {\n",
       "            pass_mouse_events = false;\n",
       "        },\n",
       "        resize: function(event, ui) {\n",
       "            fig.request_resize(ui.size.width, ui.size.height);\n",
       "        },\n",
       "        stop: function(event, ui) {\n",
       "            pass_mouse_events = true;\n",
       "            fig.request_resize(ui.size.width, ui.size.height);\n",
       "        },\n",
       "    });\n",
       "\n",
       "    function mouse_event_fn(event) {\n",
       "        if (pass_mouse_events)\n",
       "            return fig.mouse_event(event, event['data']);\n",
       "    }\n",
       "\n",
       "    rubberband.mousedown('button_press', mouse_event_fn);\n",
       "    rubberband.mouseup('button_release', mouse_event_fn);\n",
       "    // Throttle sequential mouse events to 1 every 20ms.\n",
       "    rubberband.mousemove('motion_notify', mouse_event_fn);\n",
       "\n",
       "    rubberband.mouseenter('figure_enter', mouse_event_fn);\n",
       "    rubberband.mouseleave('figure_leave', mouse_event_fn);\n",
       "\n",
       "    canvas_div.on(\"wheel\", function (event) {\n",
       "        event = event.originalEvent;\n",
       "        event['data'] = 'scroll'\n",
       "        if (event.deltaY < 0) {\n",
       "            event.step = 1;\n",
       "        } else {\n",
       "            event.step = -1;\n",
       "        }\n",
       "        mouse_event_fn(event);\n",
       "    });\n",
       "\n",
       "    canvas_div.append(canvas);\n",
       "    canvas_div.append(rubberband);\n",
       "\n",
       "    this.rubberband = rubberband;\n",
       "    this.rubberband_canvas = rubberband[0];\n",
       "    this.rubberband_context = rubberband[0].getContext(\"2d\");\n",
       "    this.rubberband_context.strokeStyle = \"#000000\";\n",
       "\n",
       "    this._resize_canvas = function(width, height) {\n",
       "        // Keep the size of the canvas, canvas container, and rubber band\n",
       "        // canvas in synch.\n",
       "        canvas_div.css('width', width)\n",
       "        canvas_div.css('height', height)\n",
       "\n",
       "        canvas.attr('width', width * mpl.ratio);\n",
       "        canvas.attr('height', height * mpl.ratio);\n",
       "        canvas.attr('style', 'width: ' + width + 'px; height: ' + height + 'px;');\n",
       "\n",
       "        rubberband.attr('width', width);\n",
       "        rubberband.attr('height', height);\n",
       "    }\n",
       "\n",
       "    // Set the figure to an initial 600x600px, this will subsequently be updated\n",
       "    // upon first draw.\n",
       "    this._resize_canvas(600, 600);\n",
       "\n",
       "    // Disable right mouse context menu.\n",
       "    $(this.rubberband_canvas).bind(\"contextmenu\",function(e){\n",
       "        return false;\n",
       "    });\n",
       "\n",
       "    function set_focus () {\n",
       "        canvas.focus();\n",
       "        canvas_div.focus();\n",
       "    }\n",
       "\n",
       "    window.setTimeout(set_focus, 100);\n",
       "}\n",
       "\n",
       "mpl.figure.prototype._init_toolbar = function() {\n",
       "    var fig = this;\n",
       "\n",
       "    var nav_element = $('<div/>');\n",
       "    nav_element.attr('style', 'width: 100%');\n",
       "    this.root.append(nav_element);\n",
       "\n",
       "    // Define a callback function for later on.\n",
       "    function toolbar_event(event) {\n",
       "        return fig.toolbar_button_onclick(event['data']);\n",
       "    }\n",
       "    function toolbar_mouse_event(event) {\n",
       "        return fig.toolbar_button_onmouseover(event['data']);\n",
       "    }\n",
       "\n",
       "    for(var toolbar_ind in mpl.toolbar_items) {\n",
       "        var name = mpl.toolbar_items[toolbar_ind][0];\n",
       "        var tooltip = mpl.toolbar_items[toolbar_ind][1];\n",
       "        var image = mpl.toolbar_items[toolbar_ind][2];\n",
       "        var method_name = mpl.toolbar_items[toolbar_ind][3];\n",
       "\n",
       "        if (!name) {\n",
       "            // put a spacer in here.\n",
       "            continue;\n",
       "        }\n",
       "        var button = $('<button/>');\n",
       "        button.addClass('ui-button ui-widget ui-state-default ui-corner-all ' +\n",
       "                        'ui-button-icon-only');\n",
       "        button.attr('role', 'button');\n",
       "        button.attr('aria-disabled', 'false');\n",
       "        button.click(method_name, toolbar_event);\n",
       "        button.mouseover(tooltip, toolbar_mouse_event);\n",
       "\n",
       "        var icon_img = $('<span/>');\n",
       "        icon_img.addClass('ui-button-icon-primary ui-icon');\n",
       "        icon_img.addClass(image);\n",
       "        icon_img.addClass('ui-corner-all');\n",
       "\n",
       "        var tooltip_span = $('<span/>');\n",
       "        tooltip_span.addClass('ui-button-text');\n",
       "        tooltip_span.html(tooltip);\n",
       "\n",
       "        button.append(icon_img);\n",
       "        button.append(tooltip_span);\n",
       "\n",
       "        nav_element.append(button);\n",
       "    }\n",
       "\n",
       "    var fmt_picker_span = $('<span/>');\n",
       "\n",
       "    var fmt_picker = $('<select/>');\n",
       "    fmt_picker.addClass('mpl-toolbar-option ui-widget ui-widget-content');\n",
       "    fmt_picker_span.append(fmt_picker);\n",
       "    nav_element.append(fmt_picker_span);\n",
       "    this.format_dropdown = fmt_picker[0];\n",
       "\n",
       "    for (var ind in mpl.extensions) {\n",
       "        var fmt = mpl.extensions[ind];\n",
       "        var option = $(\n",
       "            '<option/>', {selected: fmt === mpl.default_extension}).html(fmt);\n",
       "        fmt_picker.append(option);\n",
       "    }\n",
       "\n",
       "    // Add hover states to the ui-buttons\n",
       "    $( \".ui-button\" ).hover(\n",
       "        function() { $(this).addClass(\"ui-state-hover\");},\n",
       "        function() { $(this).removeClass(\"ui-state-hover\");}\n",
       "    );\n",
       "\n",
       "    var status_bar = $('<span class=\"mpl-message\"/>');\n",
       "    nav_element.append(status_bar);\n",
       "    this.message = status_bar[0];\n",
       "}\n",
       "\n",
       "mpl.figure.prototype.request_resize = function(x_pixels, y_pixels) {\n",
       "    // Request matplotlib to resize the figure. Matplotlib will then trigger a resize in the client,\n",
       "    // which will in turn request a refresh of the image.\n",
       "    this.send_message('resize', {'width': x_pixels, 'height': y_pixels});\n",
       "}\n",
       "\n",
       "mpl.figure.prototype.send_message = function(type, properties) {\n",
       "    properties['type'] = type;\n",
       "    properties['figure_id'] = this.id;\n",
       "    this.ws.send(JSON.stringify(properties));\n",
       "}\n",
       "\n",
       "mpl.figure.prototype.send_draw_message = function() {\n",
       "    if (!this.waiting) {\n",
       "        this.waiting = true;\n",
       "        this.ws.send(JSON.stringify({type: \"draw\", figure_id: this.id}));\n",
       "    }\n",
       "}\n",
       "\n",
       "\n",
       "mpl.figure.prototype.handle_save = function(fig, msg) {\n",
       "    var format_dropdown = fig.format_dropdown;\n",
       "    var format = format_dropdown.options[format_dropdown.selectedIndex].value;\n",
       "    fig.ondownload(fig, format);\n",
       "}\n",
       "\n",
       "\n",
       "mpl.figure.prototype.handle_resize = function(fig, msg) {\n",
       "    var size = msg['size'];\n",
       "    if (size[0] != fig.canvas.width || size[1] != fig.canvas.height) {\n",
       "        fig._resize_canvas(size[0], size[1]);\n",
       "        fig.send_message(\"refresh\", {});\n",
       "    };\n",
       "}\n",
       "\n",
       "mpl.figure.prototype.handle_rubberband = function(fig, msg) {\n",
       "    var x0 = msg['x0'] / mpl.ratio;\n",
       "    var y0 = (fig.canvas.height - msg['y0']) / mpl.ratio;\n",
       "    var x1 = msg['x1'] / mpl.ratio;\n",
       "    var y1 = (fig.canvas.height - msg['y1']) / mpl.ratio;\n",
       "    x0 = Math.floor(x0) + 0.5;\n",
       "    y0 = Math.floor(y0) + 0.5;\n",
       "    x1 = Math.floor(x1) + 0.5;\n",
       "    y1 = Math.floor(y1) + 0.5;\n",
       "    var min_x = Math.min(x0, x1);\n",
       "    var min_y = Math.min(y0, y1);\n",
       "    var width = Math.abs(x1 - x0);\n",
       "    var height = Math.abs(y1 - y0);\n",
       "\n",
       "    fig.rubberband_context.clearRect(\n",
       "        0, 0, fig.canvas.width / mpl.ratio, fig.canvas.height / mpl.ratio);\n",
       "\n",
       "    fig.rubberband_context.strokeRect(min_x, min_y, width, height);\n",
       "}\n",
       "\n",
       "mpl.figure.prototype.handle_figure_label = function(fig, msg) {\n",
       "    // Updates the figure title.\n",
       "    fig.header.textContent = msg['label'];\n",
       "}\n",
       "\n",
       "mpl.figure.prototype.handle_cursor = function(fig, msg) {\n",
       "    var cursor = msg['cursor'];\n",
       "    switch(cursor)\n",
       "    {\n",
       "    case 0:\n",
       "        cursor = 'pointer';\n",
       "        break;\n",
       "    case 1:\n",
       "        cursor = 'default';\n",
       "        break;\n",
       "    case 2:\n",
       "        cursor = 'crosshair';\n",
       "        break;\n",
       "    case 3:\n",
       "        cursor = 'move';\n",
       "        break;\n",
       "    }\n",
       "    fig.rubberband_canvas.style.cursor = cursor;\n",
       "}\n",
       "\n",
       "mpl.figure.prototype.handle_message = function(fig, msg) {\n",
       "    fig.message.textContent = msg['message'];\n",
       "}\n",
       "\n",
       "mpl.figure.prototype.handle_draw = function(fig, msg) {\n",
       "    // Request the server to send over a new figure.\n",
       "    fig.send_draw_message();\n",
       "}\n",
       "\n",
       "mpl.figure.prototype.handle_image_mode = function(fig, msg) {\n",
       "    fig.image_mode = msg['mode'];\n",
       "}\n",
       "\n",
       "mpl.figure.prototype.updated_canvas_event = function() {\n",
       "    // Called whenever the canvas gets updated.\n",
       "    this.send_message(\"ack\", {});\n",
       "}\n",
       "\n",
       "// A function to construct a web socket function for onmessage handling.\n",
       "// Called in the figure constructor.\n",
       "mpl.figure.prototype._make_on_message_function = function(fig) {\n",
       "    return function socket_on_message(evt) {\n",
       "        if (evt.data instanceof Blob) {\n",
       "            /* FIXME: We get \"Resource interpreted as Image but\n",
       "             * transferred with MIME type text/plain:\" errors on\n",
       "             * Chrome.  But how to set the MIME type?  It doesn't seem\n",
       "             * to be part of the websocket stream */\n",
       "            evt.data.type = \"image/png\";\n",
       "\n",
       "            /* Free the memory for the previous frames */\n",
       "            if (fig.imageObj.src) {\n",
       "                (window.URL || window.webkitURL).revokeObjectURL(\n",
       "                    fig.imageObj.src);\n",
       "            }\n",
       "\n",
       "            fig.imageObj.src = (window.URL || window.webkitURL).createObjectURL(\n",
       "                evt.data);\n",
       "            fig.updated_canvas_event();\n",
       "            fig.waiting = false;\n",
       "            return;\n",
       "        }\n",
       "        else if (typeof evt.data === 'string' && evt.data.slice(0, 21) == \"data:image/png;base64\") {\n",
       "            fig.imageObj.src = evt.data;\n",
       "            fig.updated_canvas_event();\n",
       "            fig.waiting = false;\n",
       "            return;\n",
       "        }\n",
       "\n",
       "        var msg = JSON.parse(evt.data);\n",
       "        var msg_type = msg['type'];\n",
       "\n",
       "        // Call the  \"handle_{type}\" callback, which takes\n",
       "        // the figure and JSON message as its only arguments.\n",
       "        try {\n",
       "            var callback = fig[\"handle_\" + msg_type];\n",
       "        } catch (e) {\n",
       "            console.log(\"No handler for the '\" + msg_type + \"' message type: \", msg);\n",
       "            return;\n",
       "        }\n",
       "\n",
       "        if (callback) {\n",
       "            try {\n",
       "                // console.log(\"Handling '\" + msg_type + \"' message: \", msg);\n",
       "                callback(fig, msg);\n",
       "            } catch (e) {\n",
       "                console.log(\"Exception inside the 'handler_\" + msg_type + \"' callback:\", e, e.stack, msg);\n",
       "            }\n",
       "        }\n",
       "    };\n",
       "}\n",
       "\n",
       "// from http://stackoverflow.com/questions/1114465/getting-mouse-location-in-canvas\n",
       "mpl.findpos = function(e) {\n",
       "    //this section is from http://www.quirksmode.org/js/events_properties.html\n",
       "    var targ;\n",
       "    if (!e)\n",
       "        e = window.event;\n",
       "    if (e.target)\n",
       "        targ = e.target;\n",
       "    else if (e.srcElement)\n",
       "        targ = e.srcElement;\n",
       "    if (targ.nodeType == 3) // defeat Safari bug\n",
       "        targ = targ.parentNode;\n",
       "\n",
       "    // jQuery normalizes the pageX and pageY\n",
       "    // pageX,Y are the mouse positions relative to the document\n",
       "    // offset() returns the position of the element relative to the document\n",
       "    var x = e.pageX - $(targ).offset().left;\n",
       "    var y = e.pageY - $(targ).offset().top;\n",
       "\n",
       "    return {\"x\": x, \"y\": y};\n",
       "};\n",
       "\n",
       "/*\n",
       " * return a copy of an object with only non-object keys\n",
       " * we need this to avoid circular references\n",
       " * http://stackoverflow.com/a/24161582/3208463\n",
       " */\n",
       "function simpleKeys (original) {\n",
       "  return Object.keys(original).reduce(function (obj, key) {\n",
       "    if (typeof original[key] !== 'object')\n",
       "        obj[key] = original[key]\n",
       "    return obj;\n",
       "  }, {});\n",
       "}\n",
       "\n",
       "mpl.figure.prototype.mouse_event = function(event, name) {\n",
       "    var canvas_pos = mpl.findpos(event)\n",
       "\n",
       "    if (name === 'button_press')\n",
       "    {\n",
       "        this.canvas.focus();\n",
       "        this.canvas_div.focus();\n",
       "    }\n",
       "\n",
       "    var x = canvas_pos.x * mpl.ratio;\n",
       "    var y = canvas_pos.y * mpl.ratio;\n",
       "\n",
       "    this.send_message(name, {x: x, y: y, button: event.button,\n",
       "                             step: event.step,\n",
       "                             guiEvent: simpleKeys(event)});\n",
       "\n",
       "    /* This prevents the web browser from automatically changing to\n",
       "     * the text insertion cursor when the button is pressed.  We want\n",
       "     * to control all of the cursor setting manually through the\n",
       "     * 'cursor' event from matplotlib */\n",
       "    event.preventDefault();\n",
       "    return false;\n",
       "}\n",
       "\n",
       "mpl.figure.prototype._key_event_extra = function(event, name) {\n",
       "    // Handle any extra behaviour associated with a key event\n",
       "}\n",
       "\n",
       "mpl.figure.prototype.key_event = function(event, name) {\n",
       "\n",
       "    // Prevent repeat events\n",
       "    if (name == 'key_press')\n",
       "    {\n",
       "        if (event.which === this._key)\n",
       "            return;\n",
       "        else\n",
       "            this._key = event.which;\n",
       "    }\n",
       "    if (name == 'key_release')\n",
       "        this._key = null;\n",
       "\n",
       "    var value = '';\n",
       "    if (event.ctrlKey && event.which != 17)\n",
       "        value += \"ctrl+\";\n",
       "    if (event.altKey && event.which != 18)\n",
       "        value += \"alt+\";\n",
       "    if (event.shiftKey && event.which != 16)\n",
       "        value += \"shift+\";\n",
       "\n",
       "    value += 'k';\n",
       "    value += event.which.toString();\n",
       "\n",
       "    this._key_event_extra(event, name);\n",
       "\n",
       "    this.send_message(name, {key: value,\n",
       "                             guiEvent: simpleKeys(event)});\n",
       "    return false;\n",
       "}\n",
       "\n",
       "mpl.figure.prototype.toolbar_button_onclick = function(name) {\n",
       "    if (name == 'download') {\n",
       "        this.handle_save(this, null);\n",
       "    } else {\n",
       "        this.send_message(\"toolbar_button\", {name: name});\n",
       "    }\n",
       "};\n",
       "\n",
       "mpl.figure.prototype.toolbar_button_onmouseover = function(tooltip) {\n",
       "    this.message.textContent = tooltip;\n",
       "};\n",
       "mpl.toolbar_items = [[\"Home\", \"Reset original view\", \"fa fa-home icon-home\", \"home\"], [\"Back\", \"Back to previous view\", \"fa fa-arrow-left icon-arrow-left\", \"back\"], [\"Forward\", \"Forward to next view\", \"fa fa-arrow-right icon-arrow-right\", \"forward\"], [\"\", \"\", \"\", \"\"], [\"Pan\", \"Pan axes with left mouse, zoom with right\", \"fa fa-arrows icon-move\", \"pan\"], [\"Zoom\", \"Zoom to rectangle\", \"fa fa-square-o icon-check-empty\", \"zoom\"], [\"\", \"\", \"\", \"\"], [\"Download\", \"Download plot\", \"fa fa-floppy-o icon-save\", \"download\"]];\n",
       "\n",
       "mpl.extensions = [\"eps\", \"jpeg\", \"pdf\", \"png\", \"ps\", \"raw\", \"svg\", \"tif\"];\n",
       "\n",
       "mpl.default_extension = \"png\";var comm_websocket_adapter = function(comm) {\n",
       "    // Create a \"websocket\"-like object which calls the given IPython comm\n",
       "    // object with the appropriate methods. Currently this is a non binary\n",
       "    // socket, so there is still some room for performance tuning.\n",
       "    var ws = {};\n",
       "\n",
       "    ws.close = function() {\n",
       "        comm.close()\n",
       "    };\n",
       "    ws.send = function(m) {\n",
       "        //console.log('sending', m);\n",
       "        comm.send(m);\n",
       "    };\n",
       "    // Register the callback with on_msg.\n",
       "    comm.on_msg(function(msg) {\n",
       "        //console.log('receiving', msg['content']['data'], msg);\n",
       "        // Pass the mpl event to the overridden (by mpl) onmessage function.\n",
       "        ws.onmessage(msg['content']['data'])\n",
       "    });\n",
       "    return ws;\n",
       "}\n",
       "\n",
       "mpl.mpl_figure_comm = function(comm, msg) {\n",
       "    // This is the function which gets called when the mpl process\n",
       "    // starts-up an IPython Comm through the \"matplotlib\" channel.\n",
       "\n",
       "    var id = msg.content.data.id;\n",
       "    // Get hold of the div created by the display call when the Comm\n",
       "    // socket was opened in Python.\n",
       "    var element = $(\"#\" + id);\n",
       "    var ws_proxy = comm_websocket_adapter(comm)\n",
       "\n",
       "    function ondownload(figure, format) {\n",
       "        window.open(figure.imageObj.src);\n",
       "    }\n",
       "\n",
       "    var fig = new mpl.figure(id, ws_proxy,\n",
       "                           ondownload,\n",
       "                           element.get(0));\n",
       "\n",
       "    // Call onopen now - mpl needs it, as it is assuming we've passed it a real\n",
       "    // web socket which is closed, not our websocket->open comm proxy.\n",
       "    ws_proxy.onopen();\n",
       "\n",
       "    fig.parent_element = element.get(0);\n",
       "    fig.cell_info = mpl.find_output_cell(\"<div id='\" + id + \"'></div>\");\n",
       "    if (!fig.cell_info) {\n",
       "        console.error(\"Failed to find cell for figure\", id, fig);\n",
       "        return;\n",
       "    }\n",
       "\n",
       "    var output_index = fig.cell_info[2]\n",
       "    var cell = fig.cell_info[0];\n",
       "\n",
       "};\n",
       "\n",
       "mpl.figure.prototype.handle_close = function(fig, msg) {\n",
       "    var width = fig.canvas.width/mpl.ratio\n",
       "    fig.root.unbind('remove')\n",
       "\n",
       "    // Update the output cell to use the data from the current canvas.\n",
       "    fig.push_to_output();\n",
       "    var dataURL = fig.canvas.toDataURL();\n",
       "    // Re-enable the keyboard manager in IPython - without this line, in FF,\n",
       "    // the notebook keyboard shortcuts fail.\n",
       "    IPython.keyboard_manager.enable()\n",
       "    $(fig.parent_element).html('<img src=\"' + dataURL + '\" width=\"' + width + '\">');\n",
       "    fig.close_ws(fig, msg);\n",
       "}\n",
       "\n",
       "mpl.figure.prototype.close_ws = function(fig, msg){\n",
       "    fig.send_message('closing', msg);\n",
       "    // fig.ws.close()\n",
       "}\n",
       "\n",
       "mpl.figure.prototype.push_to_output = function(remove_interactive) {\n",
       "    // Turn the data on the canvas into data in the output cell.\n",
       "    var width = this.canvas.width/mpl.ratio\n",
       "    var dataURL = this.canvas.toDataURL();\n",
       "    this.cell_info[1]['text/html'] = '<img src=\"' + dataURL + '\" width=\"' + width + '\">';\n",
       "}\n",
       "\n",
       "mpl.figure.prototype.updated_canvas_event = function() {\n",
       "    // Tell IPython that the notebook contents must change.\n",
       "    IPython.notebook.set_dirty(true);\n",
       "    this.send_message(\"ack\", {});\n",
       "    var fig = this;\n",
       "    // Wait a second, then push the new image to the DOM so\n",
       "    // that it is saved nicely (might be nice to debounce this).\n",
       "    setTimeout(function () { fig.push_to_output() }, 1000);\n",
       "}\n",
       "\n",
       "mpl.figure.prototype._init_toolbar = function() {\n",
       "    var fig = this;\n",
       "\n",
       "    var nav_element = $('<div/>');\n",
       "    nav_element.attr('style', 'width: 100%');\n",
       "    this.root.append(nav_element);\n",
       "\n",
       "    // Define a callback function for later on.\n",
       "    function toolbar_event(event) {\n",
       "        return fig.toolbar_button_onclick(event['data']);\n",
       "    }\n",
       "    function toolbar_mouse_event(event) {\n",
       "        return fig.toolbar_button_onmouseover(event['data']);\n",
       "    }\n",
       "\n",
       "    for(var toolbar_ind in mpl.toolbar_items){\n",
       "        var name = mpl.toolbar_items[toolbar_ind][0];\n",
       "        var tooltip = mpl.toolbar_items[toolbar_ind][1];\n",
       "        var image = mpl.toolbar_items[toolbar_ind][2];\n",
       "        var method_name = mpl.toolbar_items[toolbar_ind][3];\n",
       "\n",
       "        if (!name) { continue; };\n",
       "\n",
       "        var button = $('<button class=\"btn btn-default\" href=\"#\" title=\"' + name + '\"><i class=\"fa ' + image + ' fa-lg\"></i></button>');\n",
       "        button.click(method_name, toolbar_event);\n",
       "        button.mouseover(tooltip, toolbar_mouse_event);\n",
       "        nav_element.append(button);\n",
       "    }\n",
       "\n",
       "    // Add the status bar.\n",
       "    var status_bar = $('<span class=\"mpl-message\" style=\"text-align:right; float: right;\"/>');\n",
       "    nav_element.append(status_bar);\n",
       "    this.message = status_bar[0];\n",
       "\n",
       "    // Add the close button to the window.\n",
       "    var buttongrp = $('<div class=\"btn-group inline pull-right\"></div>');\n",
       "    var button = $('<button class=\"btn btn-mini btn-primary\" href=\"#\" title=\"Stop Interaction\"><i class=\"fa fa-power-off icon-remove icon-large\"></i></button>');\n",
       "    button.click(function (evt) { fig.handle_close(fig, {}); } );\n",
       "    button.mouseover('Stop Interaction', toolbar_mouse_event);\n",
       "    buttongrp.append(button);\n",
       "    var titlebar = this.root.find($('.ui-dialog-titlebar'));\n",
       "    titlebar.prepend(buttongrp);\n",
       "}\n",
       "\n",
       "mpl.figure.prototype._root_extra_style = function(el){\n",
       "    var fig = this\n",
       "    el.on(\"remove\", function(){\n",
       "\tfig.close_ws(fig, {});\n",
       "    });\n",
       "}\n",
       "\n",
       "mpl.figure.prototype._canvas_extra_style = function(el){\n",
       "    // this is important to make the div 'focusable\n",
       "    el.attr('tabindex', 0)\n",
       "    // reach out to IPython and tell the keyboard manager to turn it's self\n",
       "    // off when our div gets focus\n",
       "\n",
       "    // location in version 3\n",
       "    if (IPython.notebook.keyboard_manager) {\n",
       "        IPython.notebook.keyboard_manager.register_events(el);\n",
       "    }\n",
       "    else {\n",
       "        // location in version 2\n",
       "        IPython.keyboard_manager.register_events(el);\n",
       "    }\n",
       "\n",
       "}\n",
       "\n",
       "mpl.figure.prototype._key_event_extra = function(event, name) {\n",
       "    var manager = IPython.notebook.keyboard_manager;\n",
       "    if (!manager)\n",
       "        manager = IPython.keyboard_manager;\n",
       "\n",
       "    // Check for shift+enter\n",
       "    if (event.shiftKey && event.which == 13) {\n",
       "        this.canvas_div.blur();\n",
       "        // select the cell after this one\n",
       "        var index = IPython.notebook.find_cell_index(this.cell_info[0]);\n",
       "        IPython.notebook.select(index + 1);\n",
       "    }\n",
       "}\n",
       "\n",
       "mpl.figure.prototype.handle_save = function(fig, msg) {\n",
       "    fig.ondownload(fig, null);\n",
       "}\n",
       "\n",
       "\n",
       "mpl.find_output_cell = function(html_output) {\n",
       "    // Return the cell and output element which can be found *uniquely* in the notebook.\n",
       "    // Note - this is a bit hacky, but it is done because the \"notebook_saving.Notebook\"\n",
       "    // IPython event is triggered only after the cells have been serialised, which for\n",
       "    // our purposes (turning an active figure into a static one), is too late.\n",
       "    var cells = IPython.notebook.get_cells();\n",
       "    var ncells = cells.length;\n",
       "    for (var i=0; i<ncells; i++) {\n",
       "        var cell = cells[i];\n",
       "        if (cell.cell_type === 'code'){\n",
       "            for (var j=0; j<cell.output_area.outputs.length; j++) {\n",
       "                var data = cell.output_area.outputs[j];\n",
       "                if (data.data) {\n",
       "                    // IPython >= 3 moved mimebundle to data attribute of output\n",
       "                    data = data.data;\n",
       "                }\n",
       "                if (data['text/html'] == html_output) {\n",
       "                    return [cell, data, j];\n",
       "                }\n",
       "            }\n",
       "        }\n",
       "    }\n",
       "}\n",
       "\n",
       "// Register the function which deals with the matplotlib target/channel.\n",
       "// The kernel may be null if the page has been refreshed.\n",
       "if (IPython.notebook.kernel != null) {\n",
       "    IPython.notebook.kernel.comm_manager.register_target('matplotlib', mpl.mpl_figure_comm);\n",
       "}\n"
      ],
      "text/plain": [
       "<IPython.core.display.Javascript object>"
      ]
     },
     "metadata": {},
     "output_type": "display_data"
    },
    {
     "data": {
      "text/html": [
       "<img src=\"data:image/png;base64,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\" width=\"900\">"
      ],
      "text/plain": [
       "<IPython.core.display.HTML object>"
      ]
     },
     "metadata": {},
     "output_type": "display_data"
    },
    {
     "data": {
      "text/plain": [
       "(737791.0, 738125.0)"
      ]
     },
     "execution_count": 114,
     "metadata": {},
     "output_type": "execute_result"
    }
   ],
   "source": [
    "fig,ax = plt.subplots(figsize=(9,15), nrows=9, sharex=True)\n",
    "for i in range(9):\n",
    "    #ax[i].plot('date', str(i), data=test_df, c='green', label='time-dep function', alpha=0.5)\n",
    "    ax[i].plot(out_single['time'], out_single['V_new'].sel(Nc=i), c='blue', label='model')#, linestyle='--'\n",
    "    ax[i].set_ylabel('Age '+str(i))\n",
    "ax[0].set_title('Daily vaccination number')\n",
    "#ax[0].legend(loc='upper center', bbox_to_anchor=(0.5, 1.9), ncol=2)\n",
    "dates = pd.date_range(start_fig, end_sim, periods=5)\n",
    "ax[0].set_xticks(dates)\n",
    "ax[0].set_xlim(start_fig, end_sim)\n",
    "#fig_path =  '../../results/predictions/national/restore_v7.0/'\n",
    "#fig.savefig(fig_path+'Scenarios'+'.jpg', dpi=400, bbox_inches='tight')"
   ]
  },
  {
   "cell_type": "code",
   "execution_count": null,
   "metadata": {
    "ExecuteTime": {
     "end_time": "2021-03-09T11:38:33.001764Z",
     "start_time": "2021-03-09T11:38:32.697179Z"
    },
    "scrolled": false
   },
   "outputs": [],
   "source": [
    "fig,ax = plt.subplots(figsize=(12,15), nrows=9, sharex=True)\n",
    "for i in range(9):\n",
    "    ax[i].plot(out_single['time'], out_single['VE'].sel(Nc=i), c='blue', label='model')\n",
    "    #ax[i].legend()\n",
    "    ax[i].set_ylabel('Age '+str(i))\n",
    "ax[0].set_title('VE state')"
   ]
  },
  {
   "cell_type": "code",
   "execution_count": null,
   "metadata": {
    "ExecuteTime": {
     "end_time": "2021-03-04T08:20:58.517503Z",
     "start_time": "2021-03-04T08:20:58.094215Z"
    },
    "scrolled": false
   },
   "outputs": [],
   "source": [
    "fig,ax = plt.subplots(figsize=(12,15), nrows=9, sharex=True)\n",
    "for i in range(9):\n",
    "    ax[i].plot(out_single['time'], out_single['VE'].sel(Nc=i), c='blue', label='model')\n",
    "    #ax[i].legend()\n",
    "    ax[i].set_ylabel('Age '+str(i))\n",
    "ax[0].set_title('VE state')"
   ]
  },
  {
   "cell_type": "markdown",
   "metadata": {},
   "source": [
    "# Test spatial model"
   ]
  },
  {
   "cell_type": "markdown",
   "metadata": {},
   "source": [
    "N_vacc uit vaccination function moet hier 2D zijn! Geo unit x age class!"
   ]
  },
  {
   "cell_type": "code",
   "execution_count": 376,
   "metadata": {
    "ExecuteTime": {
     "end_time": "2021-03-11T14:29:32.349857Z",
     "start_time": "2021-03-11T14:29:31.986438Z"
    }
   },
   "outputs": [],
   "source": [
    "geo_unit = 'prov'\n",
    "initN_spatial, Nc_home, Nc_work, Nc_schools, Nc_transport, Nc_leisure, Nc_others, Nc_total = model_parameters.get_interaction_matrices(dataset='willem_2012', spatial=geo_unit)\n",
    "shape = initN_spatial.shape"
   ]
  },
  {
   "cell_type": "code",
   "execution_count": 377,
   "metadata": {
    "ExecuteTime": {
     "end_time": "2021-03-11T14:29:32.538825Z",
     "start_time": "2021-03-11T14:29:32.404177Z"
    }
   },
   "outputs": [],
   "source": [
    "# divide daily vaccinations over spatial units according to population fraction in unit\n",
    "fraction_per_arr = initN_spatial.sum(axis=1)/initN_spatial.sum().sum()\n",
    "d_spatial = {key:el*fraction_per_arr[:,np.newaxis] for key,el in d.items()}"
   ]
  },
  {
   "cell_type": "code",
   "execution_count": 378,
   "metadata": {
    "ExecuteTime": {
     "end_time": "2021-03-11T14:29:32.708218Z",
     "start_time": "2021-03-11T14:29:32.552342Z"
    }
   },
   "outputs": [],
   "source": [
    "# Need to initiate I also with the co-infection model, otherwise divison by zero occurs\n",
    "initial_states = {'S': initN_spatial, 'E': np.ones(shape), 'I': np.ones(shape), 'alpha':np.zeros(shape)}"
   ]
  },
  {
   "cell_type": "code",
   "execution_count": 379,
   "metadata": {
    "ExecuteTime": {
     "end_time": "2021-03-11T14:29:35.330690Z",
     "start_time": "2021-03-11T14:29:34.262984Z"
    }
   },
   "outputs": [],
   "source": [
    "params = model_parameters.get_COVID19_SEIRD_parameters(spatial=geo_unit)\n",
    "dummy_spatial_model = models.COVID19_SEIRD_spatial(initial_states, params, spatial=geo_unit)\n",
    "sim_dummy_spatial_model = dummy_spatial_model.sim(time=end_sim, start_date=start_calibration)"
   ]
  },
  {
   "cell_type": "code",
   "execution_count": 380,
   "metadata": {
    "ExecuteTime": {
     "end_time": "2021-03-11T14:29:35.405123Z",
     "start_time": "2021-03-11T14:29:35.333427Z"
    }
   },
   "outputs": [],
   "source": [
    "# NH_to_vacc_spatial = {}\n",
    "# NH_to_vacc_spatial[8] = NH_to_vacc[8]*fraction_per_arr[:,np.newaxis]\n",
    "# NH_to_vacc_spatial[7] = NH_to_vacc[7]*fraction_per_arr[:,np.newaxis]\n",
    "# NH_to_vacc_spatial[6]= NH_to_vacc[6]*fraction_per_arr[:,np.newaxis]"
   ]
  },
  {
   "cell_type": "markdown",
   "metadata": {},
   "source": [
    "**!! IN March-April zijn alle VE_States (voor alle spatial units) van de 80+'ers al negatief... dus ws worden er voordien ergens teveel gevaccineerd...)**"
   ]
  },
  {
   "cell_type": "markdown",
   "metadata": {},
   "source": [
    "**al vanaf begin teveel gevaccineerd: VE-pool van 80+ wordt bijna direct negatief...**\n",
    "**OMDAT VE_STATES O is door initial_states! => spatiaal model eerst laten runnen to september, dan vaccinatie uitproberen!**"
   ]
  },
  {
   "cell_type": "markdown",
   "metadata": {},
   "source": [
    "**dit hieronder berekenen vanaf spatial states sept, gebaseerd op NH-fracties!**"
   ]
  },
  {
   "cell_type": "code",
   "execution_count": null,
   "metadata": {},
   "outputs": [],
   "source": [
    "NH_to_vacc_spatial = {}\n",
    "NH_to_vacc_spatial[8] = NH['85+']*initial_states_sept['VE'][8]\n",
    "NH_to_vacc_spatial[7] = NH['75+']*initial_states_sept['VE'][7]\n",
    "NH_to_vacc_spatial[6]= NH['65+']*initial_states_sept['VE'][6]"
   ]
  },
  {
   "cell_type": "code",
   "execution_count": 383,
   "metadata": {
    "ExecuteTime": {
     "end_time": "2021-03-11T14:42:44.521941Z",
     "start_time": "2021-03-11T14:42:39.185495Z"
    },
    "scrolled": true
   },
   "outputs": [
    {
     "name": "stdout",
     "output_type": "stream",
     "text": [
      "8\n",
      "[[-159.41810318]\n",
      " [-103.18966335]\n",
      " [ -32.76856874]\n",
      " [ -73.40921849]\n",
      " [-126.81606427]\n",
      " [-135.855837  ]\n",
      " [-101.01199224]\n",
      " [ -84.04647363]\n",
      " [ -76.10627999]\n",
      " [ -13.89516884]\n",
      " [ -32.22020585]]\n",
      "8\n",
      "[[1633.08801012]\n",
      " [1004.63532523]\n",
      " [ 356.88995827]\n",
      " [1098.48416399]\n",
      " [1021.78170747]\n",
      " [1325.81545199]\n",
      " [1192.36883368]\n",
      " [ 981.7438407 ]\n",
      " [ 765.15598507]\n",
      " [ 262.5613897 ]\n",
      " [ 444.6277634 ]]\n",
      "8\n",
      "[[395.04181916]\n",
      " [239.0155485 ]\n",
      " [ 88.36518811]\n",
      " [295.16290671]\n",
      " [224.17379694]\n",
      " [315.33754207]\n",
      " [302.2909351 ]\n",
      " [248.30399875]\n",
      " [184.27215486]\n",
      " [ 73.89313059]\n",
      " [117.48877212]]\n",
      "8\n",
      "[[-2810.58633548]\n",
      " [-1742.58634649]\n",
      " [ -607.93495594]\n",
      " [-1795.15935737]\n",
      " [-1833.74265342]\n",
      " [-2299.46893087]\n",
      " [-2007.79504885]\n",
      " [-1655.24722482]\n",
      " [-1320.05563709]\n",
      " [ -418.38773869]\n",
      " [ -733.24152887]]\n",
      "8\n",
      "[[-122.13937855]\n",
      " [ -79.48743153]\n",
      " [ -25.40069172]\n",
      " [ -56.65864525]\n",
      " [ -97.48233759]\n",
      " [-104.26185141]\n",
      " [ -78.12566674]\n",
      " [ -65.19973759]\n",
      " [ -58.75273089]\n",
      " [ -11.08137375]\n",
      " [ -25.12313053]]\n",
      "8\n",
      "[[-119.98374889]\n",
      " [ -78.29653691]\n",
      " [ -24.76029315]\n",
      " [ -53.51304641]\n",
      " [ -97.3300469 ]\n",
      " [-102.77155898]\n",
      " [ -75.64329054]\n",
      " [ -63.14605857]\n",
      " [ -57.70042931]\n",
      " [ -10.07653489]\n",
      " [ -23.90255461]]\n",
      "8\n",
      "[[-3.23141630e+01]\n",
      " [-2.42605634e+01]\n",
      " [-5.56659075e+00]\n",
      " [ 5.28627404e+00]\n",
      " [-4.22343903e+01]\n",
      " [-3.15242724e+01]\n",
      " [-1.16279591e+01]\n",
      " [-1.04023692e+01]\n",
      " [-1.65423704e+01]\n",
      " [ 4.00994397e+00]\n",
      " [-3.97086456e-02]]\n",
      "8\n",
      "[[-203.23248114]\n",
      " [-129.89852772]\n",
      " [ -42.74554956]\n",
      " [-106.62339707]\n",
      " [-151.65887729]\n",
      " [-170.88049929]\n",
      " [-135.06779103]\n",
      " [-112.13160368]\n",
      " [ -96.77787605]\n",
      " [ -22.42111675]\n",
      " [ -45.57842813]]\n",
      "8\n",
      "[[-132.26927242]\n",
      " [ -85.9496835 ]\n",
      " [ -27.41438783]\n",
      " [ -61.2305334 ]\n",
      " [-105.46718201]\n",
      " [-112.85558884]\n",
      " [ -84.38617836]\n",
      " [ -70.36775175]\n",
      " [ -63.48847648]\n",
      " [ -11.8618618 ]\n",
      " [ -27.06989575]]\n",
      "8\n",
      "[[ -5.48674013]\n",
      " [ -7.64556089]\n",
      " [  0.19908961]\n",
      " [ 22.21911014]\n",
      " [-24.63344691]\n",
      " [ -9.56237523]\n",
      " [  7.38643802]\n",
      " [  5.25582335]\n",
      " [ -3.9785341 ]\n",
      " [  7.90700514]\n",
      " [  6.86384083]]\n",
      "8\n",
      "[[-80.06006237]\n",
      " [-53.83265569]\n",
      " [-15.90442197]\n",
      " [-25.41614543]\n",
      " [-73.21967461]\n",
      " [-70.54829458]\n",
      " [-45.83538098]\n",
      " [-38.60017447]\n",
      " [-38.95762382]\n",
      " [ -3.16553588]\n",
      " [-12.56228136]]\n",
      "8\n",
      "[[-346.13569044]\n",
      " [-218.3137618 ]\n",
      " [ -73.69865067]\n",
      " [-198.90541417]\n",
      " [-244.04288238]\n",
      " [-287.5869914 ]\n",
      " [-237.57455098]\n",
      " [-196.59808986]\n",
      " [-163.82179273]\n",
      " [ -44.02173134]\n",
      " [ -83.17119596]]\n",
      "8\n",
      "[[-565.98221324]\n",
      " [-354.38543871]\n",
      " [-121.26231087]\n",
      " [-340.29764442]\n",
      " [-386.58226209]\n",
      " [-467.22252075]\n",
      " [-394.97023072]\n",
      " [-326.29242614]\n",
      " [-266.95399749]\n",
      " [ -77.02883714]\n",
      " [-140.79041272]]\n",
      "8\n",
      "[[-839.98526088]\n",
      " [-523.85958311]\n",
      " [-180.65904661]\n",
      " [-517.76283769]\n",
      " [-563.33576325]\n",
      " [-690.9096778 ]\n",
      " [-591.78116933]\n",
      " [-488.46249513]\n",
      " [-395.5071444 ]\n",
      " [-118.64344801]\n",
      " [-213.05986718]]\n",
      "8\n",
      "[[-2410.53867165]\n",
      " [-1495.20682936]\n",
      " [ -521.15396642]\n",
      " [-1535.43246805]\n",
      " [-1576.12585217]\n",
      " [-1972.98052624]\n",
      " [-1720.1148678 ]\n",
      " [-1418.19813369]\n",
      " [-1132.35459205]\n",
      " [ -357.38059954]\n",
      " [ -627.4892867 ]]\n",
      "8\n",
      "[[-2947.61292251]\n",
      " [-1827.30227093]\n",
      " [ -637.65623832]\n",
      " [-1884.13472823]\n",
      " [-1921.96284255]\n",
      " [-2411.2921976 ]\n",
      " [-2106.33165866]\n",
      " [-1736.44022191]\n",
      " [-1384.3366562 ]\n",
      " [ -439.31202043]\n",
      " [ -769.48299516]]\n",
      "8\n",
      "[[-3380.96548436]\n",
      " [-2095.30196733]\n",
      " [ -731.62190807]\n",
      " [-2165.10430058]\n",
      " [-2201.28950731]\n",
      " [-2765.0172347 ]\n",
      " [-2417.75036029]\n",
      " [-1993.04429156]\n",
      " [-1587.65069813]\n",
      " [ -505.24819949]\n",
      " [ -883.89425064]]\n",
      "8\n",
      "[[-3056.09631004]\n",
      " [-1894.47330822]\n",
      " [ -661.09755531]\n",
      " [-1953.62466434]\n",
      " [-1992.49219703]\n",
      " [-2499.97500805]\n",
      " [-2183.83553217]\n",
      " [-1800.29417356]\n",
      " [-1435.22105581]\n",
      " [ -455.45804414]\n",
      " [ -797.78634896]]\n",
      "8\n",
      "[[-4074.43693862]\n",
      " [-2524.26929132]\n",
      " [ -881.87080399]\n",
      " [-2613.51886802]\n",
      " [-2649.13437395]\n",
      " [-3331.25053426]\n",
      " [-2915.44675676]\n",
      " [-2403.12813047]\n",
      " [-1912.97666851]\n",
      " [ -610.27668913]\n",
      " [-1066.51739332]]\n",
      "8\n",
      "[[-4585.10691658]\n",
      " [-2840.10728206]\n",
      " [ -992.54014613]\n",
      " [-2944.06409678]\n",
      " [-2978.67249474]\n",
      " [-3748.16340112]\n",
      " [-3282.11750598]\n",
      " [-2705.25229488]\n",
      " [-2152.53616672]\n",
      " [ -687.78453963]\n",
      " [-1201.14748357]]\n",
      "8\n",
      "[[-7142.92935098]\n",
      " [-4422.08663273]\n",
      " [-1546.73568197]\n",
      " [-4598.68696914]\n",
      " [-4629.90057302]\n",
      " [-5836.50744571]\n",
      " [-5118.08312535]\n",
      " [-4217.99228489]\n",
      " [-3352.36360068]\n",
      " [-1075.62325447]\n",
      " [-1875.09804478]]\n",
      "8\n",
      "[[-7601.05342768]\n",
      " [-4705.44687901]\n",
      " [-1645.90685797]\n",
      " [-4894.30966089]\n",
      " [-4926.1223011 ]\n",
      " [-6210.63789616]\n",
      " [-5446.47348501]\n",
      " [-4488.54210352]\n",
      " [-3567.21079074]\n",
      " [-1144.80176817]\n",
      " [-1995.52335933]]\n",
      "8\n",
      "[[-8171.00237644]\n",
      " [-5057.96434352]\n",
      " [-1769.35471003]\n",
      " [-5262.64670059]\n",
      " [-5294.29299175]\n",
      " [-6676.02213092]\n",
      " [-5855.36699933]\n",
      " [-4825.44074943]\n",
      " [-3834.54139665]\n",
      " [-1231.09095724]\n",
      " [-2145.56571756]]\n",
      "8\n",
      "[[-8167.7568511 ]\n",
      " [-5055.94462024]\n",
      " [-1768.73291521]\n",
      " [-5261.19590891]\n",
      " [-5291.78300871]\n",
      " [-6673.29214092]\n",
      " [-5853.44276928]\n",
      " [-4823.88557271]\n",
      " [-3833.06601632]\n",
      " [-1230.86906822]\n",
      " [-2144.97555614]]\n",
      "8\n",
      "[[-10355.63291926]\n",
      " [ -6409.17380485]\n",
      " [ -2242.54100089]\n",
      " [ -6674.5194164 ]\n",
      " [ -6705.49847184]\n",
      " [ -8459.85422732]\n",
      " [ -7422.70619709]\n",
      " [ -6116.82882534]\n",
      " [ -4859.23140743]\n",
      " [ -1561.89268369]\n",
      " [ -2720.7251232 ]]\n",
      "8\n",
      "[[-11461.34226405]\n",
      " [ -7093.13411509]\n",
      " [ -2481.68146532]\n",
      " [ -7386.1810463 ]\n",
      " [ -7421.65684442]\n",
      " [ -9363.08137888]\n",
      " [ -8214.21947434]\n",
      " [ -6768.88510825]\n",
      " [ -5377.65723765]\n",
      " [ -1728.19221822]\n",
      " [ -3010.70668337]]\n",
      "8\n",
      "[[-17048.06612706]\n",
      " [-10549.06201089]\n",
      " [ -3688.50460194]\n",
      " [-10970.59453365]\n",
      " [-11047.15719925]\n",
      " [-13928.04800965]\n",
      " [-12206.14707783]\n",
      " [-10056.81743353]\n",
      " [ -7996.10555366]\n",
      " [ -2563.63943995]\n",
      " [ -4471.14284678]]\n",
      "8\n",
      "[[-19658.02340446]\n",
      " [-12162.95418118]\n",
      " [ -4253.03837432]\n",
      " [-12652.85732827]\n",
      " [-12735.4981698 ]\n",
      " [-16059.51242634]\n",
      " [-14075.10393952]\n",
      " [-11596.19702032]\n",
      " [ -9219.64485756]\n",
      " [ -2956.64007519]\n",
      " [ -5156.08458832]]\n",
      "8\n",
      "[[-20086.26440529]\n",
      " [-12428.19923807]\n",
      " [ -4344.15967369]\n",
      " [-12916.732985  ]\n",
      " [-13020.21794103]\n",
      " [-16410.72814412]\n",
      " [-14374.01227908]\n",
      " [-11841.6895579 ]\n",
      " [ -9419.56364647]\n",
      " [ -3015.41060554]\n",
      " [ -5263.03561132]]\n",
      "8\n",
      "[[-17053.72977048]\n",
      " [-10553.71111612]\n",
      " [ -3686.83127926]\n",
      " [-10949.0114044 ]\n",
      " [-11067.18088728]\n",
      " [-13935.92584752]\n",
      " [-12195.10537673]\n",
      " [-10046.70256105]\n",
      " [ -7997.14717828]\n",
      " [ -2554.07348047]\n",
      " [ -4462.5031734 ]]\n",
      "8\n",
      "[[-17091.65329567]\n",
      " [-10577.39373459]\n",
      " [ -3694.3670276 ]\n",
      " [-10967.79455591]\n",
      " [-11095.34808446]\n",
      " [-13967.60755794]\n",
      " [-12218.79707839]\n",
      " [-10065.94452473]\n",
      " [ -8014.53347419]\n",
      " [ -2557.37647406]\n",
      " [ -4470.12208628]]\n"
     ]
    },
    {
     "ename": "KeyboardInterrupt",
     "evalue": "",
     "output_type": "error",
     "traceback": [
      "\u001b[0;31m---------------------------------------------------------------------------\u001b[0m",
      "\u001b[0;31mKeyboardInterrupt\u001b[0m                         Traceback (most recent call last)",
      "\u001b[0;32m<ipython-input-383-f811d482c155>\u001b[0m in \u001b[0;36m<module>\u001b[0;34m\u001b[0m\n\u001b[1;32m      7\u001b[0m               })\n\u001b[1;32m      8\u001b[0m \u001b[0mdummy_spatial_model_vacc\u001b[0m \u001b[0;34m=\u001b[0m \u001b[0mmodels\u001b[0m\u001b[0;34m.\u001b[0m\u001b[0mCOVID19_SEIRD_spatial\u001b[0m\u001b[0;34m(\u001b[0m\u001b[0minitial_states\u001b[0m\u001b[0;34m,\u001b[0m \u001b[0mparams\u001b[0m\u001b[0;34m,\u001b[0m \u001b[0mspatial\u001b[0m\u001b[0;34m=\u001b[0m\u001b[0mgeo_unit\u001b[0m\u001b[0;34m,\u001b[0m \u001b[0mtime_dependent_parameters\u001b[0m\u001b[0;34m=\u001b[0m\u001b[0;34m{\u001b[0m\u001b[0;34m'N_vacc'\u001b[0m\u001b[0;34m:\u001b[0m \u001b[0mvacc_strategy\u001b[0m\u001b[0;34m}\u001b[0m\u001b[0;34m)\u001b[0m\u001b[0;34m\u001b[0m\u001b[0;34m\u001b[0m\u001b[0m\n\u001b[0;32m----> 9\u001b[0;31m \u001b[0msim_dummy_spatial_model_vacc\u001b[0m \u001b[0;34m=\u001b[0m \u001b[0mdummy_spatial_model_vacc\u001b[0m\u001b[0;34m.\u001b[0m\u001b[0msim\u001b[0m\u001b[0;34m(\u001b[0m\u001b[0mtime\u001b[0m\u001b[0;34m=\u001b[0m\u001b[0mend_sim\u001b[0m\u001b[0;34m,\u001b[0m \u001b[0mstart_date\u001b[0m\u001b[0;34m=\u001b[0m\u001b[0mstart_calibration\u001b[0m\u001b[0;34m)\u001b[0m\u001b[0;34m\u001b[0m\u001b[0;34m\u001b[0m\u001b[0m\n\u001b[0m",
      "\u001b[0;32m~/OneDrive - UGent/Corona_Postdoc/COVID19-Model/src/covid19model/models/base.py\u001b[0m in \u001b[0;36msim\u001b[0;34m(self, time, warmup, start_date, N, draw_fcn, samples, to_sample, verbose)\u001b[0m\n\u001b[1;32m    455\u001b[0m         \u001b[0;32mif\u001b[0m \u001b[0mdraw_fcn\u001b[0m\u001b[0;34m:\u001b[0m\u001b[0;34m\u001b[0m\u001b[0;34m\u001b[0m\u001b[0m\n\u001b[1;32m    456\u001b[0m             \u001b[0mself\u001b[0m\u001b[0;34m.\u001b[0m\u001b[0mparameters\u001b[0m \u001b[0;34m=\u001b[0m \u001b[0mdraw_fcn\u001b[0m\u001b[0;34m(\u001b[0m\u001b[0mself\u001b[0m\u001b[0;34m.\u001b[0m\u001b[0mparameters\u001b[0m\u001b[0;34m,\u001b[0m\u001b[0msamples\u001b[0m\u001b[0;34m)\u001b[0m\u001b[0;34m\u001b[0m\u001b[0;34m\u001b[0m\u001b[0m\n\u001b[0;32m--> 457\u001b[0;31m         \u001b[0mout\u001b[0m \u001b[0;34m=\u001b[0m \u001b[0mself\u001b[0m\u001b[0;34m.\u001b[0m\u001b[0m_sim_single\u001b[0m\u001b[0;34m(\u001b[0m\u001b[0mtime\u001b[0m\u001b[0;34m,\u001b[0m \u001b[0mactual_start_date\u001b[0m\u001b[0;34m)\u001b[0m\u001b[0;34m\u001b[0m\u001b[0;34m\u001b[0m\u001b[0m\n\u001b[0m\u001b[1;32m    458\u001b[0m         \u001b[0;31m# Repeat N - 1 times and concatenate\u001b[0m\u001b[0;34m\u001b[0m\u001b[0;34m\u001b[0m\u001b[0;34m\u001b[0m\u001b[0m\n\u001b[1;32m    459\u001b[0m         \u001b[0;32mfor\u001b[0m \u001b[0mn\u001b[0m \u001b[0;32min\u001b[0m \u001b[0mrange\u001b[0m\u001b[0;34m(\u001b[0m\u001b[0mN\u001b[0m\u001b[0;34m-\u001b[0m\u001b[0;36m1\u001b[0m\u001b[0;34m)\u001b[0m\u001b[0;34m:\u001b[0m\u001b[0;34m\u001b[0m\u001b[0;34m\u001b[0m\u001b[0m\n",
      "\u001b[0;32m~/OneDrive - UGent/Corona_Postdoc/COVID19-Model/src/covid19model/models/base.py\u001b[0m in \u001b[0;36m_sim_single\u001b[0;34m(self, time, actual_start_date)\u001b[0m\n\u001b[1;32m    341\u001b[0m \u001b[0;34m\u001b[0m\u001b[0m\n\u001b[1;32m    342\u001b[0m         \u001b[0;32mif\u001b[0m \u001b[0mself\u001b[0m\u001b[0;34m.\u001b[0m\u001b[0mdiscrete\u001b[0m \u001b[0;34m==\u001b[0m \u001b[0;32mFalse\u001b[0m\u001b[0;34m:\u001b[0m\u001b[0;34m\u001b[0m\u001b[0;34m\u001b[0m\u001b[0m\n\u001b[0;32m--> 343\u001b[0;31m             output = solve_ivp(fun, time,\n\u001b[0m\u001b[1;32m    344\u001b[0m                            \u001b[0my0\u001b[0m\u001b[0;34m,\u001b[0m\u001b[0;34m\u001b[0m\u001b[0;34m\u001b[0m\u001b[0m\n\u001b[1;32m    345\u001b[0m                            args=[self.parameters], t_eval=t_eval)\n",
      "\u001b[0;32m/Applications/miniconda3/envs/work/lib/python3.8/site-packages/scipy/integrate/_ivp/ivp.py\u001b[0m in \u001b[0;36msolve_ivp\u001b[0;34m(fun, t_span, y0, method, t_eval, dense_output, events, vectorized, args, **options)\u001b[0m\n\u001b[1;32m    575\u001b[0m     \u001b[0mstatus\u001b[0m \u001b[0;34m=\u001b[0m \u001b[0;32mNone\u001b[0m\u001b[0;34m\u001b[0m\u001b[0;34m\u001b[0m\u001b[0m\n\u001b[1;32m    576\u001b[0m     \u001b[0;32mwhile\u001b[0m \u001b[0mstatus\u001b[0m \u001b[0;32mis\u001b[0m \u001b[0;32mNone\u001b[0m\u001b[0;34m:\u001b[0m\u001b[0;34m\u001b[0m\u001b[0;34m\u001b[0m\u001b[0m\n\u001b[0;32m--> 577\u001b[0;31m         \u001b[0mmessage\u001b[0m \u001b[0;34m=\u001b[0m \u001b[0msolver\u001b[0m\u001b[0;34m.\u001b[0m\u001b[0mstep\u001b[0m\u001b[0;34m(\u001b[0m\u001b[0;34m)\u001b[0m\u001b[0;34m\u001b[0m\u001b[0;34m\u001b[0m\u001b[0m\n\u001b[0m\u001b[1;32m    578\u001b[0m \u001b[0;34m\u001b[0m\u001b[0m\n\u001b[1;32m    579\u001b[0m         \u001b[0;32mif\u001b[0m \u001b[0msolver\u001b[0m\u001b[0;34m.\u001b[0m\u001b[0mstatus\u001b[0m \u001b[0;34m==\u001b[0m \u001b[0;34m'finished'\u001b[0m\u001b[0;34m:\u001b[0m\u001b[0;34m\u001b[0m\u001b[0;34m\u001b[0m\u001b[0m\n",
      "\u001b[0;32m/Applications/miniconda3/envs/work/lib/python3.8/site-packages/scipy/integrate/_ivp/base.py\u001b[0m in \u001b[0;36mstep\u001b[0;34m(self)\u001b[0m\n\u001b[1;32m    180\u001b[0m         \u001b[0;32melse\u001b[0m\u001b[0;34m:\u001b[0m\u001b[0;34m\u001b[0m\u001b[0;34m\u001b[0m\u001b[0m\n\u001b[1;32m    181\u001b[0m             \u001b[0mt\u001b[0m \u001b[0;34m=\u001b[0m \u001b[0mself\u001b[0m\u001b[0;34m.\u001b[0m\u001b[0mt\u001b[0m\u001b[0;34m\u001b[0m\u001b[0;34m\u001b[0m\u001b[0m\n\u001b[0;32m--> 182\u001b[0;31m             \u001b[0msuccess\u001b[0m\u001b[0;34m,\u001b[0m \u001b[0mmessage\u001b[0m \u001b[0;34m=\u001b[0m \u001b[0mself\u001b[0m\u001b[0;34m.\u001b[0m\u001b[0m_step_impl\u001b[0m\u001b[0;34m(\u001b[0m\u001b[0;34m)\u001b[0m\u001b[0;34m\u001b[0m\u001b[0;34m\u001b[0m\u001b[0m\n\u001b[0m\u001b[1;32m    183\u001b[0m \u001b[0;34m\u001b[0m\u001b[0m\n\u001b[1;32m    184\u001b[0m             \u001b[0;32mif\u001b[0m \u001b[0;32mnot\u001b[0m \u001b[0msuccess\u001b[0m\u001b[0;34m:\u001b[0m\u001b[0;34m\u001b[0m\u001b[0;34m\u001b[0m\u001b[0m\n",
      "\u001b[0;32m/Applications/miniconda3/envs/work/lib/python3.8/site-packages/scipy/integrate/_ivp/rk.py\u001b[0m in \u001b[0;36m_step_impl\u001b[0;34m(self)\u001b[0m\n\u001b[1;32m    143\u001b[0m             \u001b[0mh_abs\u001b[0m \u001b[0;34m=\u001b[0m \u001b[0mnp\u001b[0m\u001b[0;34m.\u001b[0m\u001b[0mabs\u001b[0m\u001b[0;34m(\u001b[0m\u001b[0mh\u001b[0m\u001b[0;34m)\u001b[0m\u001b[0;34m\u001b[0m\u001b[0;34m\u001b[0m\u001b[0m\n\u001b[1;32m    144\u001b[0m \u001b[0;34m\u001b[0m\u001b[0m\n\u001b[0;32m--> 145\u001b[0;31m             y_new, f_new = rk_step(self.fun, t, y, self.f, h, self.A,\n\u001b[0m\u001b[1;32m    146\u001b[0m                                    self.B, self.C, self.K)\n\u001b[1;32m    147\u001b[0m             \u001b[0mscale\u001b[0m \u001b[0;34m=\u001b[0m \u001b[0matol\u001b[0m \u001b[0;34m+\u001b[0m \u001b[0mnp\u001b[0m\u001b[0;34m.\u001b[0m\u001b[0mmaximum\u001b[0m\u001b[0;34m(\u001b[0m\u001b[0mnp\u001b[0m\u001b[0;34m.\u001b[0m\u001b[0mabs\u001b[0m\u001b[0;34m(\u001b[0m\u001b[0my\u001b[0m\u001b[0;34m)\u001b[0m\u001b[0;34m,\u001b[0m \u001b[0mnp\u001b[0m\u001b[0;34m.\u001b[0m\u001b[0mabs\u001b[0m\u001b[0;34m(\u001b[0m\u001b[0my_new\u001b[0m\u001b[0;34m)\u001b[0m\u001b[0;34m)\u001b[0m \u001b[0;34m*\u001b[0m \u001b[0mrtol\u001b[0m\u001b[0;34m\u001b[0m\u001b[0;34m\u001b[0m\u001b[0m\n",
      "\u001b[0;32m/Applications/miniconda3/envs/work/lib/python3.8/site-packages/scipy/integrate/_ivp/rk.py\u001b[0m in \u001b[0;36mrk_step\u001b[0;34m(fun, t, y, f, h, A, B, C, K)\u001b[0m\n\u001b[1;32m     66\u001b[0m \u001b[0;34m\u001b[0m\u001b[0m\n\u001b[1;32m     67\u001b[0m     \u001b[0my_new\u001b[0m \u001b[0;34m=\u001b[0m \u001b[0my\u001b[0m \u001b[0;34m+\u001b[0m \u001b[0mh\u001b[0m \u001b[0;34m*\u001b[0m \u001b[0mnp\u001b[0m\u001b[0;34m.\u001b[0m\u001b[0mdot\u001b[0m\u001b[0;34m(\u001b[0m\u001b[0mK\u001b[0m\u001b[0;34m[\u001b[0m\u001b[0;34m:\u001b[0m\u001b[0;34m-\u001b[0m\u001b[0;36m1\u001b[0m\u001b[0;34m]\u001b[0m\u001b[0;34m.\u001b[0m\u001b[0mT\u001b[0m\u001b[0;34m,\u001b[0m \u001b[0mB\u001b[0m\u001b[0;34m)\u001b[0m\u001b[0;34m\u001b[0m\u001b[0;34m\u001b[0m\u001b[0m\n\u001b[0;32m---> 68\u001b[0;31m     \u001b[0mf_new\u001b[0m \u001b[0;34m=\u001b[0m \u001b[0mfun\u001b[0m\u001b[0;34m(\u001b[0m\u001b[0mt\u001b[0m \u001b[0;34m+\u001b[0m \u001b[0mh\u001b[0m\u001b[0;34m,\u001b[0m \u001b[0my_new\u001b[0m\u001b[0;34m)\u001b[0m\u001b[0;34m\u001b[0m\u001b[0;34m\u001b[0m\u001b[0m\n\u001b[0m\u001b[1;32m     69\u001b[0m \u001b[0;34m\u001b[0m\u001b[0m\n\u001b[1;32m     70\u001b[0m     \u001b[0mK\u001b[0m\u001b[0;34m[\u001b[0m\u001b[0;34m-\u001b[0m\u001b[0;36m1\u001b[0m\u001b[0;34m]\u001b[0m \u001b[0;34m=\u001b[0m \u001b[0mf_new\u001b[0m\u001b[0;34m\u001b[0m\u001b[0;34m\u001b[0m\u001b[0m\n",
      "\u001b[0;32m/Applications/miniconda3/envs/work/lib/python3.8/site-packages/scipy/integrate/_ivp/base.py\u001b[0m in \u001b[0;36mfun\u001b[0;34m(t, y)\u001b[0m\n\u001b[1;32m    137\u001b[0m         \u001b[0;32mdef\u001b[0m \u001b[0mfun\u001b[0m\u001b[0;34m(\u001b[0m\u001b[0mt\u001b[0m\u001b[0;34m,\u001b[0m \u001b[0my\u001b[0m\u001b[0;34m)\u001b[0m\u001b[0;34m:\u001b[0m\u001b[0;34m\u001b[0m\u001b[0;34m\u001b[0m\u001b[0m\n\u001b[1;32m    138\u001b[0m             \u001b[0mself\u001b[0m\u001b[0;34m.\u001b[0m\u001b[0mnfev\u001b[0m \u001b[0;34m+=\u001b[0m \u001b[0;36m1\u001b[0m\u001b[0;34m\u001b[0m\u001b[0;34m\u001b[0m\u001b[0m\n\u001b[0;32m--> 139\u001b[0;31m             \u001b[0;32mreturn\u001b[0m \u001b[0mself\u001b[0m\u001b[0;34m.\u001b[0m\u001b[0mfun_single\u001b[0m\u001b[0;34m(\u001b[0m\u001b[0mt\u001b[0m\u001b[0;34m,\u001b[0m \u001b[0my\u001b[0m\u001b[0;34m)\u001b[0m\u001b[0;34m\u001b[0m\u001b[0;34m\u001b[0m\u001b[0m\n\u001b[0m\u001b[1;32m    140\u001b[0m \u001b[0;34m\u001b[0m\u001b[0m\n\u001b[1;32m    141\u001b[0m         \u001b[0mself\u001b[0m\u001b[0;34m.\u001b[0m\u001b[0mfun\u001b[0m \u001b[0;34m=\u001b[0m \u001b[0mfun\u001b[0m\u001b[0;34m\u001b[0m\u001b[0;34m\u001b[0m\u001b[0m\n",
      "\u001b[0;32m/Applications/miniconda3/envs/work/lib/python3.8/site-packages/scipy/integrate/_ivp/base.py\u001b[0m in \u001b[0;36mfun_wrapped\u001b[0;34m(t, y)\u001b[0m\n\u001b[1;32m     19\u001b[0m \u001b[0;34m\u001b[0m\u001b[0m\n\u001b[1;32m     20\u001b[0m     \u001b[0;32mdef\u001b[0m \u001b[0mfun_wrapped\u001b[0m\u001b[0;34m(\u001b[0m\u001b[0mt\u001b[0m\u001b[0;34m,\u001b[0m \u001b[0my\u001b[0m\u001b[0;34m)\u001b[0m\u001b[0;34m:\u001b[0m\u001b[0;34m\u001b[0m\u001b[0;34m\u001b[0m\u001b[0m\n\u001b[0;32m---> 21\u001b[0;31m         \u001b[0;32mreturn\u001b[0m \u001b[0mnp\u001b[0m\u001b[0;34m.\u001b[0m\u001b[0masarray\u001b[0m\u001b[0;34m(\u001b[0m\u001b[0mfun\u001b[0m\u001b[0;34m(\u001b[0m\u001b[0mt\u001b[0m\u001b[0;34m,\u001b[0m \u001b[0my\u001b[0m\u001b[0;34m)\u001b[0m\u001b[0;34m,\u001b[0m \u001b[0mdtype\u001b[0m\u001b[0;34m=\u001b[0m\u001b[0mdtype\u001b[0m\u001b[0;34m)\u001b[0m\u001b[0;34m\u001b[0m\u001b[0;34m\u001b[0m\u001b[0m\n\u001b[0m\u001b[1;32m     22\u001b[0m \u001b[0;34m\u001b[0m\u001b[0m\n\u001b[1;32m     23\u001b[0m     \u001b[0;32mreturn\u001b[0m \u001b[0mfun_wrapped\u001b[0m\u001b[0;34m,\u001b[0m \u001b[0my0\u001b[0m\u001b[0;34m\u001b[0m\u001b[0;34m\u001b[0m\u001b[0m\n",
      "\u001b[0;32m/Applications/miniconda3/envs/work/lib/python3.8/site-packages/scipy/integrate/_ivp/ivp.py\u001b[0m in \u001b[0;36m<lambda>\u001b[0;34m(t, x, fun)\u001b[0m\n\u001b[1;32m    513\u001b[0m         \u001b[0;31m# additional parameters.  Pass in the original fun as a keyword\u001b[0m\u001b[0;34m\u001b[0m\u001b[0;34m\u001b[0m\u001b[0;34m\u001b[0m\u001b[0m\n\u001b[1;32m    514\u001b[0m         \u001b[0;31m# argument to keep it in the scope of the lambda.\u001b[0m\u001b[0;34m\u001b[0m\u001b[0;34m\u001b[0m\u001b[0;34m\u001b[0m\u001b[0m\n\u001b[0;32m--> 515\u001b[0;31m         \u001b[0mfun\u001b[0m \u001b[0;34m=\u001b[0m \u001b[0;32mlambda\u001b[0m \u001b[0mt\u001b[0m\u001b[0;34m,\u001b[0m \u001b[0mx\u001b[0m\u001b[0;34m,\u001b[0m \u001b[0mfun\u001b[0m\u001b[0;34m=\u001b[0m\u001b[0mfun\u001b[0m\u001b[0;34m:\u001b[0m \u001b[0mfun\u001b[0m\u001b[0;34m(\u001b[0m\u001b[0mt\u001b[0m\u001b[0;34m,\u001b[0m \u001b[0mx\u001b[0m\u001b[0;34m,\u001b[0m \u001b[0;34m*\u001b[0m\u001b[0margs\u001b[0m\u001b[0;34m)\u001b[0m\u001b[0;34m\u001b[0m\u001b[0;34m\u001b[0m\u001b[0m\n\u001b[0m\u001b[1;32m    516\u001b[0m         \u001b[0mjac\u001b[0m \u001b[0;34m=\u001b[0m \u001b[0moptions\u001b[0m\u001b[0;34m.\u001b[0m\u001b[0mget\u001b[0m\u001b[0;34m(\u001b[0m\u001b[0;34m'jac'\u001b[0m\u001b[0;34m)\u001b[0m\u001b[0;34m\u001b[0m\u001b[0;34m\u001b[0m\u001b[0m\n\u001b[1;32m    517\u001b[0m         \u001b[0;32mif\u001b[0m \u001b[0mcallable\u001b[0m\u001b[0;34m(\u001b[0m\u001b[0mjac\u001b[0m\u001b[0;34m)\u001b[0m\u001b[0;34m:\u001b[0m\u001b[0;34m\u001b[0m\u001b[0;34m\u001b[0m\u001b[0m\n",
      "\u001b[0;32m~/OneDrive - UGent/Corona_Postdoc/COVID19-Model/src/covid19model/models/base.py\u001b[0m in \u001b[0;36mfunc\u001b[0;34m(t, y, pars)\u001b[0m\n\u001b[1;32m    308\u001b[0m             \u001b[0;32mif\u001b[0m \u001b[0mself\u001b[0m\u001b[0;34m.\u001b[0m\u001b[0mtime_dependent_parameters\u001b[0m\u001b[0;34m:\u001b[0m\u001b[0;34m\u001b[0m\u001b[0;34m\u001b[0m\u001b[0m\n\u001b[1;32m    309\u001b[0m                 \u001b[0;32mif\u001b[0m \u001b[0mactual_start_date\u001b[0m \u001b[0;32mis\u001b[0m \u001b[0;32mnot\u001b[0m \u001b[0;32mNone\u001b[0m\u001b[0;34m:\u001b[0m\u001b[0;34m\u001b[0m\u001b[0;34m\u001b[0m\u001b[0m\n\u001b[0;32m--> 310\u001b[0;31m                     \u001b[0mdate\u001b[0m \u001b[0;34m=\u001b[0m \u001b[0mself\u001b[0m\u001b[0;34m.\u001b[0m\u001b[0mint_to_date\u001b[0m\u001b[0;34m(\u001b[0m\u001b[0mactual_start_date\u001b[0m\u001b[0;34m,\u001b[0m \u001b[0mt\u001b[0m\u001b[0;34m)\u001b[0m\u001b[0;34m\u001b[0m\u001b[0;34m\u001b[0m\u001b[0m\n\u001b[0m\u001b[1;32m    311\u001b[0m                 \u001b[0;32melse\u001b[0m\u001b[0;34m:\u001b[0m\u001b[0;34m\u001b[0m\u001b[0;34m\u001b[0m\u001b[0m\n\u001b[1;32m    312\u001b[0m                     \u001b[0mdate\u001b[0m \u001b[0;34m=\u001b[0m \u001b[0mt\u001b[0m\u001b[0;34m\u001b[0m\u001b[0;34m\u001b[0m\u001b[0m\n",
      "\u001b[0;32m~/OneDrive - UGent/Corona_Postdoc/COVID19-Model/src/covid19model/models/base.py\u001b[0m in \u001b[0;36mint_to_date\u001b[0;34m(self, actual_start_date, t)\u001b[0m\n\u001b[1;32m    381\u001b[0m \u001b[0;34m\u001b[0m\u001b[0m\n\u001b[1;32m    382\u001b[0m     \u001b[0;32mdef\u001b[0m \u001b[0mint_to_date\u001b[0m\u001b[0;34m(\u001b[0m\u001b[0mself\u001b[0m\u001b[0;34m,\u001b[0m \u001b[0mactual_start_date\u001b[0m\u001b[0;34m,\u001b[0m \u001b[0mt\u001b[0m\u001b[0;34m)\u001b[0m\u001b[0;34m:\u001b[0m\u001b[0;34m\u001b[0m\u001b[0;34m\u001b[0m\u001b[0m\n\u001b[0;32m--> 383\u001b[0;31m         \u001b[0mdate\u001b[0m \u001b[0;34m=\u001b[0m \u001b[0mactual_start_date\u001b[0m \u001b[0;34m+\u001b[0m \u001b[0mpd\u001b[0m\u001b[0;34m.\u001b[0m\u001b[0mTimedelta\u001b[0m\u001b[0;34m(\u001b[0m\u001b[0mt\u001b[0m\u001b[0;34m,\u001b[0m \u001b[0munit\u001b[0m\u001b[0;34m=\u001b[0m\u001b[0;34m'D'\u001b[0m\u001b[0;34m)\u001b[0m\u001b[0;34m\u001b[0m\u001b[0;34m\u001b[0m\u001b[0m\n\u001b[0m\u001b[1;32m    384\u001b[0m         \u001b[0;32mreturn\u001b[0m \u001b[0mdate\u001b[0m\u001b[0;34m\u001b[0m\u001b[0;34m\u001b[0m\u001b[0m\n\u001b[1;32m    385\u001b[0m \u001b[0;34m\u001b[0m\u001b[0m\n",
      "\u001b[0;32mpandas/_libs/tslibs/c_timestamp.pyx\u001b[0m in \u001b[0;36mpandas._libs.tslibs.c_timestamp._Timestamp.__add__\u001b[0;34m()\u001b[0m\n",
      "\u001b[0;32mpandas/_libs/tslibs/timestamps.pyx\u001b[0m in \u001b[0;36mpandas._libs.tslibs.timestamps.Timestamp.__new__\u001b[0;34m()\u001b[0m\n",
      "\u001b[0;32mpandas/_libs/tslibs/conversion.pyx\u001b[0m in \u001b[0;36mpandas._libs.tslibs.conversion.convert_to_tsobject\u001b[0;34m()\u001b[0m\n",
      "\u001b[0;31mKeyboardInterrupt\u001b[0m: "
     ]
    }
   ],
   "source": [
    "params = model_parameters.get_COVID19_SEIRD_parameters(spatial=geo_unit)\n",
    "params.update({'d' : d_spatial,\n",
    "               'NH_to_vacc' : NH_to_vacc_spatial,\n",
    "               'e' : np.ones(levels)*0.9,\n",
    "               'order':None,\n",
    "               'elder':[8,7,6]\n",
    "              })\n",
    "dummy_spatial_model_vacc = models.COVID19_SEIRD_spatial(initial_states, params, spatial=geo_unit, time_dependent_parameters={'N_vacc': vacc_strategy})\n",
    "sim_dummy_spatial_model_vacc = dummy_spatial_model_vacc.sim(time=end_sim, start_date=start_calibration)"
   ]
  },
  {
   "cell_type": "code",
   "execution_count": null,
   "metadata": {},
   "outputs": [],
   "source": [
    "out_single = sim_dummy_spatial_model_vacc"
   ]
  },
  {
   "cell_type": "code",
   "execution_count": null,
   "metadata": {},
   "outputs": [],
   "source": [
    "fig,ax = plt.subplots(figsize=(9,15), nrows=9, sharex=True)\n",
    "for i in range(9):\n",
    "    #ax[i].plot('date', str(i), data=test_df, c='green', label='time-dep function', alpha=0.5)\n",
    "    ax[i].plot(out_single['time'], out_single['V_new'].sel(Nc=i), c='blue', label='model')#, linestyle='--'\n",
    "    ax[i].set_ylabel('Age '+str(i))\n",
    "ax[0].set_title('Daily vaccination number')\n",
    "#ax[0].legend(loc='upper center', bbox_to_anchor=(0.5, 1.9), ncol=2)\n",
    "dates = pd.date_range(start_fig, end_sim, periods=5)\n",
    "ax[0].set_xticks(dates)\n",
    "ax[0].set_xlim(start_fig, end_sim)"
   ]
  },
  {
   "cell_type": "code",
   "execution_count": null,
   "metadata": {},
   "outputs": [],
   "source": []
  },
  {
   "cell_type": "code",
   "execution_count": null,
   "metadata": {
    "ExecuteTime": {
     "end_time": "2021-02-10T07:50:18.231677Z",
     "start_time": "2021-02-10T07:50:18.178076Z"
    }
   },
   "outputs": [],
   "source": [
    "vacc_strategy(t=t, param=None, d=d, NH=NH, initN=initN_spatial).shape"
   ]
  },
  {
   "cell_type": "code",
   "execution_count": null,
   "metadata": {
    "ExecuteTime": {
     "end_time": "2021-02-12T12:23:38.266232Z",
     "start_time": "2021-02-12T12:23:37.065834Z"
    },
    "scrolled": true
   },
   "outputs": [],
   "source": [
    "params = model_parameters.get_COVID19_SEIRD_parameters(spatial=geo_unit)\n",
    "params.update({\n",
    "               'e' : np.ones(levels)*0.9,\n",
    "               'N_vacc': np.ones(shape)*50,\n",
    "              })\n",
    "dummy_spatial_model_vacc = models.COVID19_SEIRD_spatial(initial_states, params, spatial=geo_unit)#, time_dependent_parameters={'N_vacc': vacc_strategy}\n",
    "sim_dummy_spatial_model_vacc = dummy_spatial_model_vacc.sim(time=end_sim, start_date=start_calibration)"
   ]
  },
  {
   "cell_type": "markdown",
   "metadata": {},
   "source": [
    "**double stratified parameters toevoegen?**"
   ]
  },
  {
   "cell_type": "code",
   "execution_count": null,
   "metadata": {
    "ExecuteTime": {
     "end_time": "2021-02-12T09:24:00.301809Z",
     "start_time": "2021-02-12T09:24:00.228872Z"
    }
   },
   "outputs": [],
   "source": [
    "sim_dummy_spatial_model_vacc['V'].sum(dim=['place','Nc'])"
   ]
  },
  {
   "cell_type": "code",
   "execution_count": null,
   "metadata": {
    "ExecuteTime": {
     "end_time": "2021-02-12T09:24:04.459605Z",
     "start_time": "2021-02-12T09:24:04.409178Z"
    },
    "scrolled": true
   },
   "outputs": [],
   "source": [
    "sim_dummy_spatial_model_vacc['V_new'].sum(dim=['place','Nc']).values"
   ]
  },
  {
   "cell_type": "code",
   "execution_count": null,
   "metadata": {
    "ExecuteTime": {
     "end_time": "2021-02-12T09:24:45.843772Z",
     "start_time": "2021-02-12T09:24:45.715351Z"
    }
   },
   "outputs": [],
   "source": [
    "fig,ax = plt.subplots(figsize=(9,5))\n",
    "#ax.plot('date', 'N_vacc', data=test_df, c='green', label='time-dep function')\n",
    "ax.plot(sim_dummy_spatial_model_vacc['time'], sim_dummy_spatial_model_vacc['V_new'].sum(dim=['place','Nc']), c='blue', linestyle='--', label='model')\n",
    "ax.legend()\n",
    "ax.set_ylabel('Daily vaccination number')"
   ]
  },
  {
   "cell_type": "code",
   "execution_count": null,
   "metadata": {
    "ExecuteTime": {
     "end_time": "2021-02-08T18:39:34.049593Z",
     "start_time": "2021-02-08T18:39:33.830437Z"
    }
   },
   "outputs": [],
   "source": [
    "population_status(sim_dummy_spatial_model.mean(dim='place'))"
   ]
  },
  {
   "cell_type": "code",
   "execution_count": null,
   "metadata": {
    "ExecuteTime": {
     "end_time": "2021-02-04T06:25:13.533280Z",
     "start_time": "2021-02-04T06:25:13.277966Z"
    }
   },
   "outputs": [],
   "source": [
    "sim_dummy_spatial_model_vacc.mean(dim='place')"
   ]
  },
  {
   "cell_type": "code",
   "execution_count": null,
   "metadata": {
    "ExecuteTime": {
     "end_time": "2021-02-12T09:23:29.904725Z",
     "start_time": "2021-02-12T09:23:29.541794Z"
    }
   },
   "outputs": [],
   "source": [
    "population_status(sim_dummy_spatial_model_vacc.mean(dim='place'))"
   ]
  },
  {
   "cell_type": "markdown",
   "metadata": {},
   "source": [
    "# Scenarios"
   ]
  },
  {
   "cell_type": "code",
   "execution_count": null,
   "metadata": {
    "ExecuteTime": {
     "end_time": "2021-03-10T08:37:30.483285Z",
     "start_time": "2021-03-10T08:37:30.411801Z"
    }
   },
   "outputs": [],
   "source": [
    "start_sim = '2020-09-01'\n",
    "end_sim = '2021-07-01'\n",
    "warmup = 0\n",
    "n_samples = 3#100\n",
    "n_draws_per_sample = 100#1000\n",
    "effectivity = 0.9"
   ]
  },
  {
   "cell_type": "code",
   "execution_count": null,
   "metadata": {
    "ExecuteTime": {
     "end_time": "2021-03-10T08:37:32.114616Z",
     "start_time": "2021-03-10T08:37:32.054347Z"
    }
   },
   "outputs": [],
   "source": [
    "Re_1feb = 0.958*1.4\n",
    "# current estimation of UK prevalence between 20 and 40% => take 30%\n",
    "current_UK = 0.3\n",
    "# 5-6 days incubation\n",
    "incubation_period = 5\n",
    "n_periods = 30/incubation_period"
   ]
  },
  {
   "cell_type": "code",
   "execution_count": null,
   "metadata": {
    "ExecuteTime": {
     "end_time": "2021-03-10T08:37:32.285551Z",
     "start_time": "2021-03-10T08:37:32.218163Z"
    }
   },
   "outputs": [],
   "source": [
    "# How much on January 1? (30 days ago)\n",
    "portion_new_strain_introduced = current_UK/(Re_1feb**n_periods) #0.001\n",
    "injection_day = (pd.Timestamp('2021-01-01') - pd.Timestamp(start_sim))/pd.Timedelta('1D')"
   ]
  },
  {
   "cell_type": "code",
   "execution_count": null,
   "metadata": {
    "ExecuteTime": {
     "end_time": "2021-03-10T08:37:32.429861Z",
     "start_time": "2021-03-10T08:37:32.383122Z"
    }
   },
   "outputs": [],
   "source": [
    "order=None# [6,5,4,3,2,2,2]\n",
    "elder=None#[8,7,7]"
   ]
  },
  {
   "cell_type": "markdown",
   "metadata": {},
   "source": [
    "## Run and save all scenarios"
   ]
  },
  {
   "cell_type": "markdown",
   "metadata": {},
   "source": [
    "See python file"
   ]
  },
  {
   "cell_type": "code",
   "execution_count": null,
   "metadata": {
    "ExecuteTime": {
     "end_time": "2021-03-10T13:20:24.169814Z",
     "start_time": "2021-03-10T13:20:23.896142Z"
    }
   },
   "outputs": [],
   "source": [
    "scenario_settings = pd.DataFrame({\n",
    "    'Scenario_name':['S1a','S1b','S1c','S1d','S1e',\n",
    "                     'S2a','S2b','S2c','S2d','S2e',\n",
    "                     'S3a','S3b','S3c','S3d','S3e',\n",
    "                     'S4a','S4b','S4c','S4d','S4e'],\n",
    "    'opening':(5*['3']+5*['4']+5*['3']+5*['4']),\n",
    "    'effectivity':20*[0.7],\n",
    "    'K':20*[1.5],\n",
    "    'order':2*[None,[5,4,3,2,2,2,2],[2,3,4,5,5,5,5],[3,4,2,5,5,5,5],[0,1,2,3,4,5,5]]+2*[None,[6,5,4,3,2,2,2],[2,3,4,5,6,6,6],[3,4,2,5,6,6,6],[0,1,2,3,4,5,6]],\n",
    "    'elder': 10*[[8,7,6]]+10*[[8,7,7]],\n",
    "    'vacc_fun':4*([vacc_strategy]+4*[vacc_strategy_priors])\n",
    "})"
   ]
  },
  {
   "cell_type": "code",
   "execution_count": null,
   "metadata": {
    "ExecuteTime": {
     "end_time": "2021-03-10T13:20:24.935637Z",
     "start_time": "2021-03-10T13:20:24.731588Z"
    }
   },
   "outputs": [],
   "source": [
    "scenario_settings"
   ]
  },
  {
   "cell_type": "markdown",
   "metadata": {},
   "source": [
    "## Scenarios S1 (current behaviour)"
   ]
  },
  {
   "cell_type": "code",
   "execution_count": null,
   "metadata": {
    "ExecuteTime": {
     "end_time": "2021-03-10T08:37:35.120394Z",
     "start_time": "2021-03-10T08:37:35.054151Z"
    }
   },
   "outputs": [],
   "source": [
    "scenario = '1'"
   ]
  },
  {
   "cell_type": "markdown",
   "metadata": {},
   "source": [
    "### S1a - K = 1.3"
   ]
  },
  {
   "cell_type": "code",
   "execution_count": null,
   "metadata": {
    "ExecuteTime": {
     "end_time": "2021-03-10T08:37:36.463327Z",
     "start_time": "2021-03-10T08:37:36.398225Z"
    }
   },
   "outputs": [],
   "source": [
    "K=1.3"
   ]
  },
  {
   "cell_type": "code",
   "execution_count": null,
   "metadata": {
    "ExecuteTime": {
     "end_time": "2021-03-10T08:38:13.054130Z",
     "start_time": "2021-03-10T08:38:07.156342Z"
    }
   },
   "outputs": [],
   "source": [
    "model_S1a = vaccin_model(initial_states_sept, scenario=scenario, order=order, elder=elder, effectivity=effectivity, \n",
    "                         injection_day=injection_day, injection_ratio=portion_new_strain_introduced,\n",
    "                         Nc_fun=report7_policy_function, N_vacc_fun=vacc_strategy)\n",
    "model_S1a.parameters.update({'K':K})\n",
    "out_S1a = model_S1a.sim(end_sim,start_date=start_sim,warmup=warmup,N=n_samples,draw_fcn=draw_fcn,samples=samples_dict,verbose=True)\n"
   ]
  },
  {
   "cell_type": "code",
   "execution_count": null,
   "metadata": {
    "ExecuteTime": {
     "end_time": "2021-03-10T08:38:13.363879Z",
     "start_time": "2021-03-10T08:38:13.062059Z"
    }
   },
   "outputs": [],
   "source": [
    "S1a_H_in_binom = sample_from_binomial(out_S1a, 'H_in', n_draws_per_sample, n_samples)\n",
    "S1a_H_tot_binom = sample_from_binomial(out_S1a, 'H_tot', n_draws_per_sample, n_samples)\n",
    "S1a_time = out_S1a[\"time\"].values\n",
    "S1a_alpha = out_S1a['alpha'].mean(dim=\"Nc\").values"
   ]
  },
  {
   "cell_type": "markdown",
   "metadata": {},
   "source": [
    "### S1b - K = 1.5"
   ]
  },
  {
   "cell_type": "code",
   "execution_count": null,
   "metadata": {
    "ExecuteTime": {
     "end_time": "2021-03-10T08:38:13.467062Z",
     "start_time": "2021-03-10T08:38:13.375116Z"
    }
   },
   "outputs": [],
   "source": [
    "K=1.5"
   ]
  },
  {
   "cell_type": "code",
   "execution_count": null,
   "metadata": {
    "ExecuteTime": {
     "end_time": "2021-03-10T08:38:21.752030Z",
     "start_time": "2021-03-10T08:38:15.249776Z"
    },
    "scrolled": false
   },
   "outputs": [],
   "source": [
    "model_S1b = vaccin_model(initial_states_sept, scenario=scenario, order=order, elder=elder, effectivity=effectivity, \n",
    "                         injection_day=injection_day, injection_ratio=portion_new_strain_introduced,\n",
    "                         Nc_fun=report7_policy_function, N_vacc_fun=vacc_strategy)\n",
    "model_S1b.parameters.update({'K':K})\n",
    "out_S1b = model_S1b.sim(end_sim,start_date=start_sim,warmup=warmup,N=n_samples,draw_fcn=draw_fcn,samples=samples_dict,verbose=True)\n"
   ]
  },
  {
   "cell_type": "code",
   "execution_count": null,
   "metadata": {
    "ExecuteTime": {
     "end_time": "2021-03-10T08:38:21.875779Z",
     "start_time": "2021-03-10T08:38:21.759849Z"
    }
   },
   "outputs": [],
   "source": [
    "S1b_H_in_binom = sample_from_binomial(out_S1b, 'H_in', n_draws_per_sample, n_samples)\n",
    "S1b_H_tot_binom = sample_from_binomial(out_S1b, 'H_tot', n_draws_per_sample, n_samples)\n",
    "S1b_time = out_S1b[\"time\"].values\n",
    "S1b_alpha = out_S1b['alpha'].mean(dim=\"Nc\").values"
   ]
  },
  {
   "cell_type": "markdown",
   "metadata": {},
   "source": [
    "### S1c - K = 1.7"
   ]
  },
  {
   "cell_type": "code",
   "execution_count": null,
   "metadata": {
    "ExecuteTime": {
     "end_time": "2021-03-10T08:38:22.033658Z",
     "start_time": "2021-03-10T08:38:21.891453Z"
    }
   },
   "outputs": [],
   "source": [
    "K=1.7\n",
    "infectivity_gain_lower=K\n",
    "infectivity_gain_upper=K\n"
   ]
  },
  {
   "cell_type": "code",
   "execution_count": null,
   "metadata": {
    "ExecuteTime": {
     "end_time": "2021-03-10T08:38:28.984554Z",
     "start_time": "2021-03-10T08:38:22.037624Z"
    }
   },
   "outputs": [],
   "source": [
    "model_S1c = vaccin_model(initial_states_sept, scenario=scenario, order=order, elder=elder, effectivity=effectivity, \n",
    "                         injection_day=injection_day, injection_ratio=portion_new_strain_introduced,\n",
    "                         Nc_fun=report7_policy_function, N_vacc_fun=vacc_strategy)\n",
    "model_S1c.parameters.update({'K':K})\n",
    "out_S1c = model_S1c.sim(end_sim,start_date=start_sim,warmup=warmup,N=n_samples,draw_fcn=draw_fcn,samples=samples_dict,verbose=True)\n"
   ]
  },
  {
   "cell_type": "code",
   "execution_count": null,
   "metadata": {
    "ExecuteTime": {
     "end_time": "2021-03-10T08:38:29.097907Z",
     "start_time": "2021-03-10T08:38:28.986901Z"
    }
   },
   "outputs": [],
   "source": [
    "S1c_H_in_binom = sample_from_binomial(out_S1c, 'H_in', n_draws_per_sample, n_samples)\n",
    "S1c_H_tot_binom = sample_from_binomial(out_S1c, 'H_tot', n_draws_per_sample, n_samples)\n",
    "S1c_time = out_S1c[\"time\"].values\n",
    "S1c_alpha = out_S1c['alpha'].mean(dim=\"Nc\").values"
   ]
  },
  {
   "cell_type": "markdown",
   "metadata": {},
   "source": [
    "## Scenarios S2 (september behaviour March 1)"
   ]
  },
  {
   "cell_type": "code",
   "execution_count": null,
   "metadata": {
    "ExecuteTime": {
     "end_time": "2021-03-10T08:38:29.256070Z",
     "start_time": "2021-03-10T08:38:29.121684Z"
    }
   },
   "outputs": [],
   "source": [
    "scenario = '2'"
   ]
  },
  {
   "cell_type": "markdown",
   "metadata": {},
   "source": [
    "### S2a - K = 1.3"
   ]
  },
  {
   "cell_type": "code",
   "execution_count": null,
   "metadata": {
    "ExecuteTime": {
     "end_time": "2021-03-10T08:38:29.355483Z",
     "start_time": "2021-03-10T08:38:29.261630Z"
    }
   },
   "outputs": [],
   "source": [
    "K=1.3\n",
    "infectivity_gain_lower=K\n",
    "infectivity_gain_upper=K"
   ]
  },
  {
   "cell_type": "code",
   "execution_count": null,
   "metadata": {
    "ExecuteTime": {
     "end_time": "2021-03-10T08:38:39.066764Z",
     "start_time": "2021-03-10T08:38:32.118443Z"
    }
   },
   "outputs": [],
   "source": [
    "model_S2a = vaccin_model(initial_states_sept, scenario=scenario, effectivity=effectivity, \n",
    "                         injection_day=injection_day, injection_ratio=portion_new_strain_introduced,\n",
    "                         Nc_fun=report7_policy_function, N_vacc_fun=vacc_strategy)\n",
    "model_S2a.parameters.update({'K':K})\n",
    "out_S2a = model_S2a.sim(end_sim,start_date=start_sim,warmup=warmup,N=n_samples,draw_fcn=draw_fcn,samples=samples_dict,verbose=True)\n"
   ]
  },
  {
   "cell_type": "code",
   "execution_count": null,
   "metadata": {
    "ExecuteTime": {
     "end_time": "2021-03-10T08:38:39.157968Z",
     "start_time": "2021-03-10T08:38:39.069408Z"
    }
   },
   "outputs": [],
   "source": [
    "S2a_H_in_binom = sample_from_binomial(out_S2a, 'H_in', n_draws_per_sample, n_samples)\n",
    "S2a_H_tot_binom = sample_from_binomial(out_S2a, 'H_tot', n_draws_per_sample, n_samples)\n",
    "S2a_time = out_S2a[\"time\"].values\n",
    "S2a_alpha = out_S2a['alpha'].mean(dim=\"Nc\").values\n"
   ]
  },
  {
   "cell_type": "markdown",
   "metadata": {},
   "source": [
    "### S2b - K = 1.5"
   ]
  },
  {
   "cell_type": "code",
   "execution_count": null,
   "metadata": {
    "ExecuteTime": {
     "end_time": "2021-03-10T08:38:39.287838Z",
     "start_time": "2021-03-10T08:38:39.170719Z"
    }
   },
   "outputs": [],
   "source": [
    "K=1.5\n",
    "infectivity_gain_lower=K\n",
    "infectivity_gain_upper=K"
   ]
  },
  {
   "cell_type": "code",
   "execution_count": null,
   "metadata": {
    "ExecuteTime": {
     "end_time": "2021-03-10T08:38:46.172450Z",
     "start_time": "2021-03-10T08:38:39.296855Z"
    }
   },
   "outputs": [],
   "source": [
    "#%%snakeviz\n",
    "model_S2b = vaccin_model(initial_states_sept, scenario=scenario, effectivity=effectivity, \n",
    "                         injection_day=injection_day, injection_ratio=portion_new_strain_introduced,\n",
    "                         Nc_fun=report7_policy_function, N_vacc_fun=vacc_strategy)\n",
    "model_S2b.parameters.update({'K':K})\n",
    "out_S2b = model_S2b.sim(end_sim,start_date=start_sim,warmup=warmup,N=n_samples,draw_fcn=draw_fcn,samples=samples_dict,verbose=True)\n"
   ]
  },
  {
   "cell_type": "code",
   "execution_count": null,
   "metadata": {
    "ExecuteTime": {
     "end_time": "2021-03-10T08:38:46.268545Z",
     "start_time": "2021-03-10T08:38:46.174945Z"
    }
   },
   "outputs": [],
   "source": [
    "S2b_H_in_binom = sample_from_binomial(out_S2b, 'H_in', n_draws_per_sample, n_samples)\n",
    "S2b_H_tot_binom = sample_from_binomial(out_S2b, 'H_tot', n_draws_per_sample, n_samples)\n",
    "S2b_time = out_S2b[\"time\"].values\n",
    "S2b_alpha = out_S2b['alpha'].mean(dim=\"Nc\").values"
   ]
  },
  {
   "cell_type": "markdown",
   "metadata": {},
   "source": [
    "## Scenarios SNV1 (vaccination effect)"
   ]
  },
  {
   "cell_type": "markdown",
   "metadata": {},
   "source": [
    "### S3a (S2b without vaccination)"
   ]
  },
  {
   "cell_type": "code",
   "execution_count": null,
   "metadata": {
    "ExecuteTime": {
     "end_time": "2021-02-11T09:34:55.955732Z",
     "start_time": "2021-02-11T09:34:55.898175Z"
    }
   },
   "outputs": [],
   "source": [
    "scenario = '2'"
   ]
  },
  {
   "cell_type": "code",
   "execution_count": null,
   "metadata": {
    "ExecuteTime": {
     "end_time": "2021-02-11T09:34:56.371052Z",
     "start_time": "2021-02-11T09:34:56.318257Z"
    }
   },
   "outputs": [],
   "source": [
    "K=1.5\n",
    "infectivity_gain_lower=K\n",
    "infectivity_gain_upper=K"
   ]
  },
  {
   "cell_type": "code",
   "execution_count": null,
   "metadata": {
    "ExecuteTime": {
     "end_time": "2021-02-11T09:35:02.390052Z",
     "start_time": "2021-02-11T09:34:56.864938Z"
    }
   },
   "outputs": [],
   "source": [
    "model_S3a = vaccin_model(initial_states_sept, scenario=scenario, effectivity=effectivity, \n",
    "                         injection_day=injection_day, injection_ratio=portion_new_strain_introduced,\n",
    "                         Nc_fun=report7_policy_function, N_vacc_fun=None)\n",
    "model_S3a.parameters.update({'K':K})\n",
    "\n",
    "out_S3a = model_S3a.sim(end_sim,start_date=start_sim,warmup=warmup,N=n_samples,draw_fcn=draw_fcn,samples=samples_dict,verbose=True)\n"
   ]
  },
  {
   "cell_type": "code",
   "execution_count": null,
   "metadata": {
    "ExecuteTime": {
     "end_time": "2021-02-11T09:35:02.951938Z",
     "start_time": "2021-02-11T09:35:02.392845Z"
    }
   },
   "outputs": [],
   "source": [
    "S3a_H_in_binom = sample_from_binomial(out_S3a, 'H_in', n_draws_per_sample, n_samples)\n",
    "S3a_H_tot_binom = sample_from_binomial(out_S3a, 'H_tot', n_draws_per_sample, n_samples)\n",
    "S3a_time = out_S3a[\"time\"].values\n",
    "S3a_alpha = out_S3a['alpha'].mean(dim=\"Nc\").values\n"
   ]
  },
  {
   "cell_type": "markdown",
   "metadata": {},
   "source": [
    "### S4a (S1b without vaccination)"
   ]
  },
  {
   "cell_type": "code",
   "execution_count": null,
   "metadata": {
    "ExecuteTime": {
     "end_time": "2021-02-11T09:35:03.071904Z",
     "start_time": "2021-02-11T09:35:02.973490Z"
    }
   },
   "outputs": [],
   "source": [
    "scenario = '1'"
   ]
  },
  {
   "cell_type": "code",
   "execution_count": null,
   "metadata": {
    "ExecuteTime": {
     "end_time": "2021-02-11T09:35:03.179573Z",
     "start_time": "2021-02-11T09:35:03.080098Z"
    }
   },
   "outputs": [],
   "source": [
    "K=1.5\n",
    "infectivity_gain_lower=K\n",
    "infectivity_gain_upper=K"
   ]
  },
  {
   "cell_type": "code",
   "execution_count": null,
   "metadata": {
    "ExecuteTime": {
     "end_time": "2021-02-11T09:35:07.736299Z",
     "start_time": "2021-02-11T09:35:03.190687Z"
    }
   },
   "outputs": [],
   "source": [
    "model_S4a = vaccin_model(initial_states_sept, scenario=scenario, effectivity=effectivity, \n",
    "                         injection_day=injection_day, injection_ratio=portion_new_strain_introduced,\n",
    "                         Nc_fun=report7_policy_function, N_vacc_fun=None)\n",
    "model_S4a.parameters.update({'K':K})\n",
    "\n",
    "out_S4a = model_S4a.sim(end_sim,start_date=start_sim,warmup=warmup,N=n_samples,draw_fcn=draw_fcn,samples=samples_dict,verbose=True)\n"
   ]
  },
  {
   "cell_type": "code",
   "execution_count": null,
   "metadata": {
    "ExecuteTime": {
     "end_time": "2021-02-11T09:35:08.056022Z",
     "start_time": "2021-02-11T09:35:07.739707Z"
    }
   },
   "outputs": [],
   "source": [
    "S4a_H_in_binom = sample_from_binomial(out_S4a, 'H_in', n_draws_per_sample, n_samples)\n",
    "S4a_H_tot_binom = sample_from_binomial(out_S4a, 'H_tot', n_draws_per_sample, n_samples)\n",
    "S4a_time = out_S4a[\"time\"].values\n",
    "S4a_alpha = out_S4a['alpha'].mean(dim=\"Nc\").values\n"
   ]
  },
  {
   "cell_type": "markdown",
   "metadata": {},
   "source": [
    "# Visualise"
   ]
  },
  {
   "cell_type": "markdown",
   "metadata": {},
   "source": [
    "## S1 and S2"
   ]
  },
  {
   "cell_type": "code",
   "execution_count": null,
   "metadata": {
    "ExecuteTime": {
     "end_time": "2021-03-10T08:39:49.437874Z",
     "start_time": "2021-03-10T08:39:48.890734Z"
    },
    "scrolled": false
   },
   "outputs": [],
   "source": [
    "# ----------------\n",
    "# Visualize result\n",
    "# ----------------\n",
    "# Plot\n",
    "fig,(ax1, ax2, ax3) = plt.subplots(3,sharex=True,figsize=(10,15))\n",
    "legend_pos = (0.5, 1.35)\n",
    "legend_col = 2\n",
    "\n",
    "label1 = 'current behaviour - +30%'\n",
    "label2 = 'current behaviour - +50%'\n",
    "label3 = 'SB March 1 - +30%'\n",
    "label4 = 'SB March 1 - +50%'\n",
    "label5 = 'SB May 1 - +50% '\n",
    "\n",
    "# Incidence\n",
    "plot_band_binom(ax1, S1a_time, S1a_H_in_binom, 'green', label=label1)\n",
    "plot_band_binom(ax1, S1b_time, S1b_H_in_binom, 'blue', label=label2)\n",
    "plot_band_binom(ax1, S2a_time, S2a_H_in_binom, 'orange', label=label3)\n",
    "plot_band_binom(ax1, S2b_time, S2b_H_in_binom, 'red', label=label4)\n",
    "#plot_band_binom(ax1, S5b_time, S5b_H_in_binom, 'lightblue', label=label5)\n",
    "\n",
    "ax1.scatter(df_sciensano[start_sim:end_sim].index,df_sciensano['H_in'][start_sim:end_sim],color='black',alpha=0.4,linestyle='None',facecolors='none')\n",
    "ax1.legend(loc='upper center', bbox_to_anchor=legend_pos, ncol=legend_col)\n",
    "\n",
    "# Load\n",
    "plot_band_binom(ax2, S1a_time, S1a_H_tot_binom, 'green', label=label1)\n",
    "plot_band_binom(ax2, S1b_time, S1b_H_tot_binom, 'blue', label=label2)\n",
    "plot_band_binom(ax2, S2a_time, S2a_H_tot_binom, 'orange', label=label3)\n",
    "plot_band_binom(ax2, S2b_time, S2b_H_tot_binom, 'red', label=label4)\n",
    "#plot_band_binom(ax2, S5b_time, S5b_H_tot_binom, 'lightblue', label=label5)\n",
    "\n",
    "\n",
    "ax2.scatter(df_sciensano[start_sim:end_sim].index,df_sciensano['H_tot'][start_sim:end_sim],color='black',alpha=0.4,linestyle='None',facecolors='none')\n",
    "\n",
    "# British variant\n",
    "plot_band_binom(ax3, S1a_time, S1a_alpha*100, 'green', label=label1, axis=0)\n",
    "plot_band_binom(ax3, S1b_time, S1b_alpha*100, 'blue', label=label2, axis=0)\n",
    "plot_band_binom(ax3, S2a_time, S2a_alpha*100, 'orange', label=label3, axis=0)\n",
    "plot_band_binom(ax3, S2b_time, S2b_alpha*100, 'red', label=label4, axis=0)\n",
    "#plot_band_binom(ax3, S5b_time, S5b_alpha*100, 'lightblue', label=label5, axis=0)\n",
    "\n",
    "# Format\n",
    "ax1.set_title('New hospitalizations')\n",
    "ax1.set_ylabel('$H_{in} $(-)')\n",
    "ax1.set_xlim('2020-09-01',end_sim)\n",
    "ax1.axvline(x=pd.to_datetime('2021-01-15'),color='black')\n",
    "ax1.text(pd.Timestamp('2021-01-16'),750, ' introduction \\n new strain', fontsize=10)\n",
    "ax1 = _apply_tick_locator(ax1)\n",
    "ax2.set_title('Total patients in hospital')\n",
    "ax2.set_ylabel('$H_{tot}$ (-)')\n",
    "ax2.set_xlim('2020-09-01',end_sim)\n",
    "ax2.axvline(x=pd.to_datetime('2021-01-15'),color='red')\n",
    "ax2 = _apply_tick_locator(ax2)\n",
    "ax3.set_title('Prevalence of new strain')\n",
    "ax3.set_ylabel('$\\\\alpha$ (%)')\n",
    "ax3.axvline(x=pd.to_datetime('2021-01-15'),color='black')\n",
    "ax3.set_xlim('2020-09-01',end_sim)\n",
    "ax3.set_ylim(0,100)\n",
    "ax3 = _apply_tick_locator(ax3)\n",
    "# date_exceed = get_date_of_exceeding_alpha(out_S1a, ['Nc', 'draws'], 0.25)\n",
    "# ax3.axvline(x=date_exceed, color='gray')\n",
    "# ax3.text(date_exceed+pd.Timedelta('1D'),10, ' exceeding \\n 25% on {}/{}'.format(date_exceed.day, date_exceed.month), \n",
    "#          fontsize=10, color='gray')\n",
    "\n",
    "\n",
    "fig.suptitle('Scenarios current contact behaviour')\n",
    "\n",
    "fig_path =  '../../results/predictions/national/restore_v7.0/'\n",
    "#fig.savefig(fig_path+'Scenarios'+'.jpg', dpi=400, bbox_inches='tight')"
   ]
  },
  {
   "cell_type": "code",
   "execution_count": null,
   "metadata": {
    "ExecuteTime": {
     "end_time": "2021-02-11T09:46:13.421859Z",
     "start_time": "2021-02-11T09:46:13.372532Z"
    }
   },
   "outputs": [],
   "source": [
    "get_date_of_exceeding_alpha(out_S1b, ['Nc', 'draws'], 0.45)"
   ]
  },
  {
   "cell_type": "code",
   "execution_count": null,
   "metadata": {
    "ExecuteTime": {
     "end_time": "2021-02-03T15:01:37.993108Z",
     "start_time": "2021-02-03T15:01:37.728002Z"
    }
   },
   "outputs": [],
   "source": [
    "check_overtake_duration(out_S1a, ['Nc', 'draws'])"
   ]
  },
  {
   "cell_type": "markdown",
   "metadata": {},
   "source": [
    "## Vaccination effect"
   ]
  },
  {
   "cell_type": "code",
   "execution_count": null,
   "metadata": {
    "ExecuteTime": {
     "end_time": "2021-02-11T09:35:11.282400Z",
     "start_time": "2021-02-11T09:35:10.178995Z"
    },
    "scrolled": false
   },
   "outputs": [],
   "source": [
    "# ----------------\n",
    "# Visualize result\n",
    "# ----------------\n",
    "# Plot\n",
    "fig,(ax1, ax2, ax3) = plt.subplots(3,sharex=True,figsize=(10,15))\n",
    "legend_pos = (0.5, 1.35)\n",
    "legend_col = 2\n",
    "\n",
    "label1 = 'current behaviour - +50% - no vaccination'\n",
    "label2 = 'current behaviour - +50%'\n",
    "label3 = 'september behaviour - +30 - no vaccination%'\n",
    "label4 = 'september behaviour - +50%'\n",
    "\n",
    "# Incidence\n",
    "plot_band_binom(ax1, S4a_time, S4a_H_in_binom, 'green', label=label1)\n",
    "plot_band_binom(ax1, S1b_time, S1b_H_in_binom, 'blue', label=label2)\n",
    "plot_band_binom(ax1, S3a_time, S3a_H_in_binom, 'orange', label=label3)\n",
    "plot_band_binom(ax1, S2b_time, S2b_H_in_binom, 'red', label=label4)\n",
    "\n",
    "ax1.scatter(df_sciensano[start_sim:end_sim].index,df_sciensano['H_in'][start_sim:end_sim],color='black',alpha=0.4,linestyle='None',facecolors='none')\n",
    "ax1.legend(loc='upper center', bbox_to_anchor=legend_pos, ncol=legend_col)\n",
    "\n",
    "# Load\n",
    "plot_band_binom(ax2, S4a_time, S4a_H_tot_binom, 'green', label=label1)\n",
    "plot_band_binom(ax2, S1b_time, S1b_H_tot_binom, 'blue', label=label2)\n",
    "plot_band_binom(ax2, S3a_time, S3a_H_tot_binom, 'orange', label=label3)\n",
    "plot_band_binom(ax2, S2b_time, S2b_H_tot_binom, 'red', label=label4)\n",
    "\n",
    "ax2.scatter(df_sciensano[start_sim:end_sim].index,df_sciensano['H_tot'][start_sim:end_sim],color='black',alpha=0.4,linestyle='None',facecolors='none')\n",
    "\n",
    "# British variant\n",
    "plot_band_binom(ax3, S4a_time, S4a_alpha*100, 'green', label=label1, axis=0)\n",
    "plot_band_binom(ax3, S1b_time, S1b_alpha*100, 'blue', label=label2, axis=0)\n",
    "plot_band_binom(ax3, S3a_time, S3a_alpha*100, 'orange', label=label3, axis=0)\n",
    "plot_band_binom(ax3, S2b_time, S2b_alpha*100, 'red', label=label4, axis=0)\n",
    "\n",
    "# Format\n",
    "ax1.set_title('New hospitalizations')\n",
    "ax1.set_ylabel('$H_{in} $(-)')\n",
    "ax1.set_xlim('2020-09-01',end_sim)\n",
    "ax1.axvline(x=pd.to_datetime('2021-01-15'),color='black')\n",
    "ax1.text(pd.Timestamp('2021-01-16'),750, ' introduction \\n new strain', fontsize=10)\n",
    "ax1 = _apply_tick_locator(ax1)\n",
    "ax2.set_title('Total patients in hospital')\n",
    "ax2.set_ylabel('$H_{tot}$ (-)')\n",
    "ax2.set_xlim('2020-09-01',end_sim)\n",
    "ax2.axvline(x=pd.to_datetime('2021-01-15'),color='red')\n",
    "ax2 = _apply_tick_locator(ax2)\n",
    "ax3.set_title('Prevalence of new strain')\n",
    "ax3.set_ylabel('$\\\\alpha$ (%)')\n",
    "ax3.axvline(x=pd.to_datetime('2021-01-15'),color='black')\n",
    "ax3.set_xlim('2020-09-01',end_sim)\n",
    "ax3.set_ylim(0,100)\n",
    "ax3 = _apply_tick_locator(ax3)\n",
    "# date_exceed = get_date_of_exceeding_alpha(out_S4a, ['Nc', 'draws'], 0.25)\n",
    "# ax3.axvline(x=date_exceed, color='gray')\n",
    "# ax3.text(date_exceed+pd.Timedelta('1D'),10, ' exceeding \\n 25% on {}/{}'.format(date_exceed.day, date_exceed.month), \n",
    "#          fontsize=10, color='gray')\n",
    "\n",
    "\n",
    "fig.suptitle('Scenarios current contact behaviour')\n",
    "\n",
    "fig_path =  '../../results/predictions/national/restore_v7.0/'\n",
    "#fig.savefig(fig_path+'Scenarios_vaccination'+'.jpg', dpi=400, bbox_inches='tight')"
   ]
  },
  {
   "cell_type": "markdown",
   "metadata": {
    "heading_collapsed": true
   },
   "source": [
    "# Alternative scenarios A1"
   ]
  },
  {
   "cell_type": "code",
   "execution_count": null,
   "metadata": {
    "ExecuteTime": {
     "end_time": "2021-01-27T09:32:33.725372Z",
     "start_time": "2021-01-27T09:32:33.685124Z"
    },
    "hidden": true
   },
   "outputs": [],
   "source": [
    "start_sim1 = '2020-09-01'\n",
    "end_sim1 = '2021-01-15' # Initiate new strain on 15 Jan\n",
    "end_sim2 = '2021-05-01'\n",
    "warmup = 0\n",
    "n_samples = 5\n",
    "n_draws_per_sample = 50\n",
    "effectivity = 0.9\n",
    "portion_new_strain_introduced = 0.001\n",
    "scenario = '1'"
   ]
  },
  {
   "cell_type": "markdown",
   "metadata": {
    "heading_collapsed": true,
    "hidden": true
   },
   "source": [
    "## A1a - vacc - old strain"
   ]
  },
  {
   "cell_type": "code",
   "execution_count": null,
   "metadata": {
    "ExecuteTime": {
     "end_time": "2021-01-25T12:04:35.340868Z",
     "start_time": "2021-01-25T12:04:25.177737Z"
    },
    "hidden": true
   },
   "outputs": [],
   "source": [
    "model_A1a = vaccin_model(initial_states_sept, scenario=scenario,Nc_fun=report7_policy_function, N_vacc_fun=None)\n",
    "out_A1a = model_A1a.sim(end_sim2,start_date=start_sim1,warmup=warmup,N=n_samples,draw_fcn=draw_fcn,samples=samples_dict,verbose=True)"
   ]
  },
  {
   "cell_type": "code",
   "execution_count": null,
   "metadata": {
    "ExecuteTime": {
     "end_time": "2021-01-25T12:04:35.482019Z",
     "start_time": "2021-01-25T12:04:35.345674Z"
    },
    "hidden": true
   },
   "outputs": [],
   "source": [
    "A1a_H_in_binom = sample_from_binomial(out_A1a, 'H_in', n_draws_per_sample, n_samples, LL, UL)\n",
    "A1a_time = out_A1a[\"time\"].values\n",
    "A1a_alpha = out_A1a['alpha'].mean(dim=\"Nc\").values"
   ]
  },
  {
   "cell_type": "markdown",
   "metadata": {
    "heading_collapsed": true,
    "hidden": true
   },
   "source": [
    "## A1b - no vacc - new strain"
   ]
  },
  {
   "cell_type": "code",
   "execution_count": null,
   "metadata": {
    "ExecuteTime": {
     "end_time": "2021-01-25T12:04:50.728468Z",
     "start_time": "2021-01-25T12:04:35.490290Z"
    },
    "hidden": true
   },
   "outputs": [],
   "source": [
    "model_A1b = vaccin_model(initial_states_sept, scenario=scenario,Nc_fun=report7_policy_function, N_vacc_fun=None)\n",
    "out_A1b = model_A1b.sim(end_sim1,start_date=start_sim1,warmup=warmup,N=n_samples,draw_fcn=draw_fcn,samples=samples_dict,verbose=True)\n",
    "\n",
    "# Average and pass on state variables\n",
    "initial_states_2 = out_A1b.sel(time=end_sim1).mean(dim=\"draws\")\n",
    "# One promille of British variant on January 15th 2021\n",
    "initial_states_2['alpha'].values = portion_new_strain_introduced*np.ones(9)\n",
    "# Re-Initialize\n",
    "model_A1b_part2 = vaccin_model(initial_states_2, scenario=scenario,Nc_fun=report7_policy_function, N_vacc_fun=None)\n",
    "out_A1b_part2 = model_A1b_part2.sim(end_sim2,start_date=end_sim1,warmup=warmup,N=n_samples,draw_fcn=draw_fcn,samples=samples_dict,verbose=True)"
   ]
  },
  {
   "cell_type": "code",
   "execution_count": null,
   "metadata": {
    "ExecuteTime": {
     "end_time": "2021-01-25T12:04:50.835779Z",
     "start_time": "2021-01-25T12:04:50.733020Z"
    },
    "hidden": true
   },
   "outputs": [],
   "source": [
    "A1b_H_in_binom = sample_from_binomial(out_A1b, 'H_in', n_draws_per_sample, n_samples, LL, UL)\n",
    "A1b_H_in_binom = sample_from_binomial(out_A1b_part2, 'H_in', n_draws_per_sample, n_samples, LL, UL, A1b_H_in_binom)"
   ]
  },
  {
   "cell_type": "code",
   "execution_count": null,
   "metadata": {
    "ExecuteTime": {
     "end_time": "2021-01-25T12:01:05.771064Z",
     "start_time": "2021-01-25T12:01:05.672339Z"
    },
    "hidden": true
   },
   "outputs": [],
   "source": [
    "# A1b_H_tot_binom = sample_from_binomial(out_A1b, 'H_tot', n_draws_per_sample, n_samples, LL, UL)\n",
    "# A1b_H_tot_binom = sample_from_binomial(out_A1b_part2, 'H_tot', n_draws_per_sample, n_samples, LL, UL, A1b_H_tot_binom)"
   ]
  },
  {
   "cell_type": "code",
   "execution_count": null,
   "metadata": {
    "ExecuteTime": {
     "end_time": "2021-01-25T12:04:50.960164Z",
     "start_time": "2021-01-25T12:04:50.840293Z"
    },
    "hidden": true
   },
   "outputs": [],
   "source": [
    "A1b_time = out_A1b[\"time\"].values\n",
    "A1b_alpha = out_A1b['alpha'].mean(dim=\"Nc\").values\n",
    "A1b_time = np.append(A1b_time, out_A1b_part2['time'].values)\n",
    "A1b_alpha = np.append(A1b_alpha,out_A1b_part2['alpha'].mean(dim=\"Nc\").values,axis=1)"
   ]
  },
  {
   "cell_type": "markdown",
   "metadata": {
    "heading_collapsed": true,
    "hidden": true
   },
   "source": [
    "## A1c - vaccination - old strain"
   ]
  },
  {
   "cell_type": "code",
   "execution_count": null,
   "metadata": {
    "ExecuteTime": {
     "end_time": "2021-01-25T12:05:01.855812Z",
     "start_time": "2021-01-25T12:04:50.967256Z"
    },
    "hidden": true
   },
   "outputs": [],
   "source": [
    "model_A1c = vaccin_model(initial_states_sept, scenario=scenario, effectivity=effectivity, Nc_fun=report7_policy_function, N_vacc_fun=vacc_strategy)\n",
    "out_A1c = model_A1c.sim(end_sim2,start_date=start_sim1,warmup=warmup,N=n_samples,draw_fcn=draw_fcn,samples=samples_dict,verbose=True)"
   ]
  },
  {
   "cell_type": "code",
   "execution_count": null,
   "metadata": {
    "ExecuteTime": {
     "end_time": "2021-01-25T12:05:01.993746Z",
     "start_time": "2021-01-25T12:05:01.860836Z"
    },
    "hidden": true
   },
   "outputs": [],
   "source": [
    "A1c_H_in_binom = sample_from_binomial(out_A1c, 'H_in', n_draws_per_sample, n_samples, LL, UL)\n",
    "A1c_time = out_A1c[\"time\"].values\n",
    "A1c_alpha = out_A1c['alpha'].mean(dim=\"Nc\").values"
   ]
  },
  {
   "cell_type": "markdown",
   "metadata": {
    "hidden": true
   },
   "source": [
    "## A1d - vaccination - new strain"
   ]
  },
  {
   "cell_type": "code",
   "execution_count": null,
   "metadata": {
    "ExecuteTime": {
     "end_time": "2021-01-27T09:32:51.030056Z",
     "start_time": "2021-01-27T09:32:43.494305Z"
    },
    "hidden": true
   },
   "outputs": [],
   "source": [
    "model_A1d = vaccin_model(initial_states_sept, scenario=scenario, effectivity=effectivity, Nc_fun=report7_policy_function, N_vacc_fun=vacc_strategy)\n",
    "out_A1d = model_A1d.sim(end_sim1,start_date=start_sim1,warmup=warmup,N=n_samples,draw_fcn=draw_fcn,samples=samples_dict,verbose=True)\n",
    "\n",
    "# Average and pass on state variables\n",
    "initial_states_2 = out_A1d.sel(time=end_sim1).mean(dim=\"draws\")\n",
    "# One promille of British variant on January 15th 2021\n",
    "initial_states_2['alpha'].values = portion_new_strain_introduced*np.ones(9)\n",
    "# Re-Initialize\n",
    "model_A1d_part2 = vaccin_model(initial_states_2, scenario=scenario, effectivity=effectivity, Nc_fun=report7_policy_function, N_vacc_fun=vacc_strategy)\n",
    "out_A1d_part2 = model_A1d_part2.sim(end_sim2,start_date=end_sim1,warmup=warmup,N=n_samples,draw_fcn=draw_fcn,samples=samples_dict,verbose=True)"
   ]
  },
  {
   "cell_type": "code",
   "execution_count": null,
   "metadata": {
    "ExecuteTime": {
     "end_time": "2021-01-27T08:49:43.164360Z",
     "start_time": "2021-01-27T08:49:43.112541Z"
    },
    "hidden": true
   },
   "outputs": [],
   "source": [
    "model_A1d_part2.parameters['beta']"
   ]
  },
  {
   "cell_type": "code",
   "execution_count": null,
   "metadata": {
    "ExecuteTime": {
     "end_time": "2021-01-27T09:32:55.404626Z",
     "start_time": "2021-01-27T09:32:55.355098Z"
    },
    "hidden": true
   },
   "outputs": [],
   "source": [
    "A1d_H_in_binom = sample_from_binomial(out_A1d, 'H_in', n_draws_per_sample, n_samples)\n",
    "A1d_H_in_binom = sample_from_binomial(out_A1d_part2, 'H_in', n_draws_per_sample, n_samples, A1d_H_in_binom)"
   ]
  },
  {
   "cell_type": "code",
   "execution_count": null,
   "metadata": {
    "ExecuteTime": {
     "end_time": "2021-01-25T12:02:49.523011Z",
     "start_time": "2021-01-25T12:02:49.403700Z"
    },
    "hidden": true
   },
   "outputs": [],
   "source": [
    "# A1d_H_tot_binom = sample_from_binomial(out_A1d, 'H_tot', n_draws_per_sample, n_samples)\n",
    "# A1d_H_tot_binom = sample_from_binomial(out_A1d_part2, 'H_tot', n_draws_per_sample, n_samples, A1d_H_tot_binom)"
   ]
  },
  {
   "cell_type": "code",
   "execution_count": null,
   "metadata": {
    "ExecuteTime": {
     "end_time": "2021-01-25T12:05:17.785145Z",
     "start_time": "2021-01-25T12:05:17.546313Z"
    },
    "hidden": true
   },
   "outputs": [],
   "source": [
    "A1d_time = out_A1d[\"time\"].values\n",
    "A1d_alpha = out_A1d['alpha'].mean(dim=\"Nc\").values\n",
    "A1d_time = np.append(A1d_time, out_A1d_part2['time'].values)\n",
    "A1d_alpha = np.append(A1d_alpha,out_A1d_part2['alpha'].mean(dim=\"Nc\").values,axis=1)"
   ]
  },
  {
   "cell_type": "markdown",
   "metadata": {
    "hidden": true
   },
   "source": [
    "## Visualise"
   ]
  },
  {
   "cell_type": "code",
   "execution_count": null,
   "metadata": {
    "ExecuteTime": {
     "end_time": "2021-01-25T12:08:36.932017Z",
     "start_time": "2021-01-25T12:08:33.890888Z"
    },
    "hidden": true,
    "scrolled": false
   },
   "outputs": [],
   "source": [
    "# ----------------\n",
    "# Visualize result\n",
    "# ----------------\n",
    "# Plot\n",
    "fig,(ax1, ax3) = plt.subplots(2,sharex=True,figsize=(10,10))\n",
    "legend_pos = (0.5, 1.25)\n",
    "legend_col = 2\n",
    "\n",
    "# Incidence\n",
    "plot_band_binom(ax1, A1a_time, A1a_H_in_binom, 'green', label='no new strain')\n",
    "plot_band_binom(ax1, A1b_time, A1b_H_in_binom, 'blue', label='new strain on 15/1')\n",
    "plot_band_binom(ax1, A1c_time, A1c_H_in_binom, 'orange', label='no new strain - vacc')\n",
    "plot_band_binom(ax1, A1d_time, A1d_H_in_binom, 'red', label='new strain on 15/1 - vacc')\n",
    "\n",
    "ax1.scatter(df_sciensano[start_sim1:end_sim1].index,df_sciensano['H_in'][start_sim1:end_sim1],color='black',alpha=0.4,linestyle='None',facecolors='none')\n",
    "ax1.legend(loc='upper center', bbox_to_anchor=legend_pos, ncol=legend_col)\n",
    "\n",
    "# Load\n",
    "# plot_band_binom(ax2, A1b_time, A1b_H_tot_binom, 'blue', label='H_in')\n",
    "# ax2.scatter(df_sciensano[start_sim1:end_sim1].index,df_sciensano['H_tot'][start_sim1:end_sim1],color='black',alpha=0.4,linestyle='None',facecolors='none')\n",
    "\n",
    "# British variant\n",
    "# ax3.plot(A1a_time,np.mean(A1a_alpha,axis=0)*100,'--', color='green', label='no new strain')\n",
    "# ax3.plot(A1b_time,np.mean(A1b_alpha,axis=0)*100,'--', color='blue', label='new strain on 15/1')\n",
    "# ax3.fill_between(A1b_time,np.quantile(A1b_alpha,UL,axis=0)*100, np.quantile(A1b_alpha,LL,axis=0)*100,alpha=0.20, color = 'blue')\n",
    "plot_band_binom(ax3, A1a_time, A1a_alpha*100, 'green', label='no new strain', axis=0)\n",
    "plot_band_binom(ax3, A1b_time, A1b_alpha*100, 'blue', label='new strain on 15/1', axis=0)\n",
    "plot_band_binom(ax3, A1c_time, A1c_alpha*100, 'orange', label='no new strain - vacc', axis=0)\n",
    "plot_band_binom(ax3, A1d_time, A1d_alpha*100, 'red', label='new strain on 15/1 - vacc', axis=0)\n",
    "\n",
    "# Format\n",
    "ax1.set_title('New hospitalizations')\n",
    "ax1.set_ylabel('$H_{in} $(-)')\n",
    "ax1.set_xlim('2020-09-01',end_sim2)\n",
    "ax1.axvline(x=pd.to_datetime('2021-01-15'),color='black')\n",
    "ax1.text(pd.Timestamp('2021-01-16'),750, ' introduction \\n new strain', fontsize=10)\n",
    "ax1 = _apply_tick_locator(ax1)\n",
    "# ax2.set_title('Total patients in hospital')\n",
    "# ax2.set_ylabel('$H_{tot}$ (-)')\n",
    "# ax2.set_xlim('2020-09-01',end_sim2)\n",
    "# ax2.axvline(x=pd.to_datetime('2021-01-15'),color='red')\n",
    "# ax2 = _apply_tick_locator(ax2)\n",
    "ax3.set_title('Prevalence of new strain')\n",
    "ax3.set_ylabel('$\\\\alpha$ (%)')\n",
    "ax3.axvline(x=pd.to_datetime('2021-01-15'),color='black')\n",
    "ax3.set_xlim('2020-09-01',end_sim2)\n",
    "ax3.set_ylim(0,100)\n",
    "ax3 = _apply_tick_locator(ax3)\n",
    "date_exceed = get_date_of_exceeding_alpha(out_A1b_part2, ['Nc', 'draws'], 0.25)\n",
    "ax3.axvline(x=date_exceed, color='gray')\n",
    "ax3.text(date_exceed+pd.Timedelta('1D'),10, ' exceeding \\n 25% on {}/{}'.format(date_exceed.day, date_exceed.month), \n",
    "         fontsize=10, color='gray')\n",
    "\n",
    "\n",
    "fig.suptitle('Scenarios current contact behaviour')\n",
    "\n",
    "fig_path =  '../../results/predictions/national/restore_v7.0/'\n",
    "#fig.savefig(fig_path+'restore_v7.0_'+'British_variant'+'.pdf', dpi=400, bbox_inches='tight')\n",
    "fig.savefig(fig_path+'A1'+'.jpg', dpi=400, bbox_inches='tight')"
   ]
  },
  {
   "cell_type": "code",
   "execution_count": null,
   "metadata": {
    "ExecuteTime": {
     "end_time": "2021-01-25T10:38:47.401074Z",
     "start_time": "2021-01-25T10:38:47.355453Z"
    },
    "hidden": true,
    "scrolled": false
   },
   "outputs": [],
   "source": [
    "date_exceed = get_date_of_exceeding_alpha(out_A1b_part2, ['Nc', 'draws'], 0.25)"
   ]
  },
  {
   "cell_type": "code",
   "execution_count": null,
   "metadata": {
    "ExecuteTime": {
     "end_time": "2021-01-25T10:35:58.631558Z",
     "start_time": "2021-01-25T10:35:58.585829Z"
    },
    "hidden": true
   },
   "outputs": [],
   "source": [
    "check_overtake_duration(out_A1b_part2, ['Nc', 'draws'])"
   ]
  },
  {
   "cell_type": "markdown",
   "metadata": {
    "heading_collapsed": true
   },
   "source": [
    "# Alternative scenarios A2"
   ]
  },
  {
   "cell_type": "code",
   "execution_count": null,
   "metadata": {
    "ExecuteTime": {
     "end_time": "2021-01-25T12:13:52.125261Z",
     "start_time": "2021-01-25T12:13:52.012131Z"
    },
    "hidden": true
   },
   "outputs": [],
   "source": [
    "start_sim1 = '2020-09-01'\n",
    "end_sim1 = '2021-01-15' # Initiate new strain on 15 Jan\n",
    "end_sim2 = '2021-07-01'\n",
    "warmup = 0\n",
    "n_samples = 5\n",
    "n_draws_per_sample = 50\n",
    "effectivity = 0.9\n",
    "portion_new_strain_introduced = 0.001\n",
    "scenario = '2a'"
   ]
  },
  {
   "cell_type": "markdown",
   "metadata": {
    "heading_collapsed": true,
    "hidden": true
   },
   "source": [
    "## A2a - no vacc - old strain"
   ]
  },
  {
   "cell_type": "code",
   "execution_count": null,
   "metadata": {
    "ExecuteTime": {
     "end_time": "2021-01-25T12:14:06.961439Z",
     "start_time": "2021-01-25T12:13:53.844958Z"
    },
    "hidden": true
   },
   "outputs": [],
   "source": [
    "model_A2a = vaccin_model(initial_states_sept, scenario=scenario,Nc_fun=report7_policy_function, N_vacc_fun=None)\n",
    "out_A2a = model_A2a.sim(end_sim2,start_date=start_sim1,warmup=warmup,N=n_samples,draw_fcn=draw_fcn,samples=samples_dict,verbose=True)"
   ]
  },
  {
   "cell_type": "code",
   "execution_count": null,
   "metadata": {
    "ExecuteTime": {
     "end_time": "2021-01-25T12:14:07.118005Z",
     "start_time": "2021-01-25T12:14:06.965858Z"
    },
    "hidden": true
   },
   "outputs": [],
   "source": [
    "A2a_H_in_binom = sample_from_binomial(out_A2a, 'H_in', n_draws_per_sample, n_samples, LL, UL)\n",
    "A2a_time = out_A2a[\"time\"].values\n",
    "A2a_alpha = out_A2a['alpha'].mean(dim=\"Nc\").values"
   ]
  },
  {
   "cell_type": "markdown",
   "metadata": {
    "heading_collapsed": true,
    "hidden": true
   },
   "source": [
    "## A2b - no vacc - new strain"
   ]
  },
  {
   "cell_type": "code",
   "execution_count": null,
   "metadata": {
    "ExecuteTime": {
     "end_time": "2021-01-25T12:14:26.001631Z",
     "start_time": "2021-01-25T12:14:07.135775Z"
    },
    "hidden": true
   },
   "outputs": [],
   "source": [
    "model_A2b = vaccin_model(initial_states_sept, scenario=scenario,Nc_fun=report7_policy_function, N_vacc_fun=None)\n",
    "out_A2b = model_A2b.sim(end_sim1,start_date=start_sim1,warmup=warmup,N=n_samples,draw_fcn=draw_fcn,samples=samples_dict,verbose=True)\n",
    "\n",
    "# Average and pass on state variables\n",
    "initial_states_2 = out_A2b.sel(time=end_sim1).mean(dim=\"draws\")\n",
    "# One promille of British variant on January 15th 2021\n",
    "initial_states_2['alpha'].values = portion_new_strain_introduced*np.ones(9)\n",
    "# Re-Initialize\n",
    "model_A2b_part2 = vaccin_model(initial_states_2, scenario=scenario,Nc_fun=report7_policy_function, N_vacc_fun=None)\n",
    "out_A2b_part2 = model_A2b_part2.sim(end_sim2,start_date=end_sim1,warmup=warmup,N=n_samples,draw_fcn=draw_fcn,samples=samples_dict,verbose=True)"
   ]
  },
  {
   "cell_type": "code",
   "execution_count": null,
   "metadata": {
    "ExecuteTime": {
     "end_time": "2021-01-25T12:14:26.129311Z",
     "start_time": "2021-01-25T12:14:26.005934Z"
    },
    "hidden": true
   },
   "outputs": [],
   "source": [
    "A2b_H_in_binom = sample_from_binomial(out_A2b, 'H_in', n_draws_per_sample, n_samples, LL, UL)\n",
    "A2b_H_in_binom = sample_from_binomial(out_A2b_part2, 'H_in', n_draws_per_sample, n_samples, LL, UL, A2b_H_in_binom)"
   ]
  },
  {
   "cell_type": "code",
   "execution_count": null,
   "metadata": {
    "ExecuteTime": {
     "end_time": "2021-01-25T12:14:26.274264Z",
     "start_time": "2021-01-25T12:14:26.134697Z"
    },
    "hidden": true
   },
   "outputs": [],
   "source": [
    "# A2b_H_tot_binom = sample_from_binomial(out_A2b, 'H_tot', n_draws_per_sample, n_samples, LL, UL)\n",
    "# A2b_H_tot_binom = sample_from_binomial(out_A2b_part2, 'H_tot', n_draws_per_sample, n_samples, LL, UL, A2b_H_tot_binom)"
   ]
  },
  {
   "cell_type": "code",
   "execution_count": null,
   "metadata": {
    "ExecuteTime": {
     "end_time": "2021-01-25T12:14:26.385523Z",
     "start_time": "2021-01-25T12:14:26.286805Z"
    },
    "hidden": true
   },
   "outputs": [],
   "source": [
    "A2b_time = out_A2b[\"time\"].values\n",
    "A2b_alpha = out_A2b['alpha'].mean(dim=\"Nc\").values\n",
    "A2b_time = np.append(A2b_time, out_A2b_part2['time'].values)\n",
    "A2b_alpha = np.append(A2b_alpha,out_A2b_part2['alpha'].mean(dim=\"Nc\").values,axis=1)"
   ]
  },
  {
   "cell_type": "markdown",
   "metadata": {
    "heading_collapsed": true,
    "hidden": true
   },
   "source": [
    "## A2c - vaccination - old strain"
   ]
  },
  {
   "cell_type": "code",
   "execution_count": null,
   "metadata": {
    "ExecuteTime": {
     "end_time": "2021-01-25T12:14:44.705845Z",
     "start_time": "2021-01-25T12:14:26.394481Z"
    },
    "hidden": true
   },
   "outputs": [],
   "source": [
    "model_A2c = vaccin_model(initial_states_sept, scenario=scenario, effectivity=effectivity, Nc_fun=report7_policy_function, N_vacc_fun=vacc_strategy)\n",
    "out_A2c = model_A2c.sim(end_sim2,start_date=start_sim1,warmup=warmup,N=n_samples,draw_fcn=draw_fcn,samples=samples_dict,verbose=True)"
   ]
  },
  {
   "cell_type": "code",
   "execution_count": null,
   "metadata": {
    "ExecuteTime": {
     "end_time": "2021-01-25T12:14:44.953711Z",
     "start_time": "2021-01-25T12:14:44.716075Z"
    },
    "hidden": true
   },
   "outputs": [],
   "source": [
    "A2c_H_in_binom = sample_from_binomial(out_A2c, 'H_in', n_draws_per_sample, n_samples, LL, UL)\n",
    "A2c_time = out_A2c[\"time\"].values\n",
    "A2c_alpha = out_A2c['alpha'].mean(dim=\"Nc\").values"
   ]
  },
  {
   "cell_type": "markdown",
   "metadata": {
    "heading_collapsed": true,
    "hidden": true
   },
   "source": [
    "## A2d - vaccination - new strain"
   ]
  },
  {
   "cell_type": "code",
   "execution_count": null,
   "metadata": {
    "ExecuteTime": {
     "end_time": "2021-01-25T12:15:07.170053Z",
     "start_time": "2021-01-25T12:14:44.967453Z"
    },
    "hidden": true
   },
   "outputs": [],
   "source": [
    "model_A2d = vaccin_model(initial_states_sept, scenario=scenario, effectivity=effectivity, Nc_fun=report7_policy_function, N_vacc_fun=vacc_strategy)\n",
    "out_A2d = model_A2d.sim(end_sim1,start_date=start_sim1,warmup=warmup,N=n_samples,draw_fcn=draw_fcn,samples=samples_dict,verbose=True)\n",
    "\n",
    "# Average and pass on state variables\n",
    "initial_states_2 = out_A2d.sel(time=end_sim1).mean(dim=\"draws\")\n",
    "# One promille of British variant on January 15th 2021\n",
    "initial_states_2['alpha'].values = portion_new_strain_introduced*np.ones(9)\n",
    "# Re-Initialize\n",
    "model_A2d_part2 = vaccin_model(initial_states_2, scenario=scenario, effectivity=effectivity, Nc_fun=report7_policy_function, N_vacc_fun=vacc_strategy)\n",
    "out_A2d_part2 = model_A2d_part2.sim(end_sim2,start_date=end_sim1,warmup=warmup,N=n_samples,draw_fcn=draw_fcn,samples=samples_dict,verbose=True)"
   ]
  },
  {
   "cell_type": "code",
   "execution_count": null,
   "metadata": {
    "ExecuteTime": {
     "end_time": "2021-01-25T12:15:07.285448Z",
     "start_time": "2021-01-25T12:15:07.173834Z"
    },
    "hidden": true
   },
   "outputs": [],
   "source": [
    "A2d_H_in_binom = sample_from_binomial(out_A2d, 'H_in', n_draws_per_sample, n_samples, LL, UL)\n",
    "A2d_H_in_binom = sample_from_binomial(out_A2d_part2, 'H_in', n_draws_per_sample, n_samples, LL, UL, A2d_H_in_binom)"
   ]
  },
  {
   "cell_type": "code",
   "execution_count": null,
   "metadata": {
    "ExecuteTime": {
     "end_time": "2021-01-25T12:15:07.403353Z",
     "start_time": "2021-01-25T12:15:07.289869Z"
    },
    "hidden": true
   },
   "outputs": [],
   "source": [
    "# A2d_H_tot_binom = sample_from_binomial(out_A2d, 'H_tot', n_draws_per_sample, n_samples, LL, UL)\n",
    "# A2d_H_tot_binom = sample_from_binomial(out_A2d_part2, 'H_tot', n_draws_per_sample, n_samples, LL, UL, A2d_H_tot_binom)"
   ]
  },
  {
   "cell_type": "code",
   "execution_count": null,
   "metadata": {
    "ExecuteTime": {
     "end_time": "2021-01-25T12:15:07.501189Z",
     "start_time": "2021-01-25T12:15:07.407898Z"
    },
    "hidden": true
   },
   "outputs": [],
   "source": [
    "A2d_time = out_A2d[\"time\"].values\n",
    "A2d_alpha = out_A2d['alpha'].mean(dim=\"Nc\").values\n",
    "A2d_time = np.append(A2d_time, out_A2d_part2['time'].values)\n",
    "A2d_alpha = np.append(A2d_alpha,out_A2d_part2['alpha'].mean(dim=\"Nc\").values,axis=1)"
   ]
  },
  {
   "cell_type": "markdown",
   "metadata": {
    "heading_collapsed": true,
    "hidden": true
   },
   "source": [
    "## Visualise"
   ]
  },
  {
   "cell_type": "code",
   "execution_count": null,
   "metadata": {
    "ExecuteTime": {
     "end_time": "2021-01-25T12:15:09.921321Z",
     "start_time": "2021-01-25T12:15:07.510719Z"
    },
    "hidden": true,
    "scrolled": false
   },
   "outputs": [],
   "source": [
    "# ----------------\n",
    "# Visualize result\n",
    "# ----------------\n",
    "# Plot\n",
    "fig,(ax1, ax3) = plt.subplots(2,sharex=True,figsize=(10,10))\n",
    "legend_pos = (0.5, 1.25)\n",
    "legend_col = 2\n",
    "\n",
    "# Incidence\n",
    "plot_band_binom(ax1, A2a_time, A2a_H_in_binom, 'green', label='no new strain')\n",
    "plot_band_binom(ax1, A2b_time, A2b_H_in_binom, 'blue', label='new strain on 15/1')\n",
    "plot_band_binom(ax1, A2c_time, A2c_H_in_binom, 'orange', label='no new strain - vacc')\n",
    "plot_band_binom(ax1, A2d_time, A2d_H_in_binom, 'red', label='new strain on 15/1 - vacc')\n",
    "\n",
    "ax1.scatter(df_sciensano[start_sim1:end_sim1].index,df_sciensano['H_in'][start_sim1:end_sim1],color='black',alpha=0.4,linestyle='None',facecolors='none')\n",
    "ax1.legend(loc='upper center', bbox_to_anchor=legend_pos, ncol=legend_col)\n",
    "\n",
    "# Load\n",
    "# plot_band_binom(ax2, A2b_time, A2b_H_tot_binom, 'blue', label='H_in')\n",
    "# ax2.scatter(df_sciensano[start_sim1:end_sim1].index,df_sciensano['H_tot'][start_sim1:end_sim1],color='black',alpha=0.4,linestyle='None',facecolors='none')\n",
    "\n",
    "# British variant\n",
    "# ax3.plot(A2a_time,np.mean(A2a_alpha,axis=0)*100,'--', color='green', label='no new strain')\n",
    "# ax3.plot(A2b_time,np.mean(A2b_alpha,axis=0)*100,'--', color='blue', label='new strain on 15/1')\n",
    "# ax3.fill_between(A2b_time,np.quantile(A2b_alpha,UL,axis=0)*100, np.quantile(A2b_alpha,LL,axis=0)*100,alpha=0.20, color = 'blue')\n",
    "plot_band_binom(ax3, A2a_time, A2a_alpha*100, 'green', label='no new strain', axis=0)\n",
    "plot_band_binom(ax3, A2b_time, A2b_alpha*100, 'blue', label='new strain on 15/1', axis=0)\n",
    "plot_band_binom(ax3, A2c_time, A2c_alpha*100, 'orange', label='no new strain - vacc', axis=0)\n",
    "plot_band_binom(ax3, A2d_time, A2d_alpha*100, 'red', label='new strain on 15/1 - vacc', axis=0)\n",
    "\n",
    "# Format\n",
    "ax1.set_title('New hospitalizations')\n",
    "ax1.set_ylabel('$H_{in} $(-)')\n",
    "ax1.set_xlim('2020-09-01',end_sim2)\n",
    "ax1.axvline(x=pd.to_datetime('2021-01-15'),color='black')\n",
    "ax1.text(pd.Timestamp('2021-01-16'),750, ' introduction \\n new strain', fontsize=10)\n",
    "ax1 = _apply_tick_locator(ax1)\n",
    "# ax2.set_title('Total patients in hospital')\n",
    "# ax2.set_ylabel('$H_{tot}$ (-)')\n",
    "# ax2.set_xlim('2020-09-01',end_sim2)\n",
    "# ax2.axvline(x=pd.to_datetime('2021-01-15'),color='red')\n",
    "# ax2 = _apply_tick_locator(ax2)\n",
    "ax3.set_title('Prevalence of new strain')\n",
    "ax3.set_ylabel('$\\\\alpha$ (%)')\n",
    "ax3.axvline(x=pd.to_datetime('2021-01-15'),color='black')\n",
    "ax3.set_xlim('2020-09-01',end_sim2)\n",
    "ax3.set_ylim(0,100)\n",
    "ax3 = _apply_tick_locator(ax3)\n",
    "date_exceed = get_date_of_exceeding_alpha(out_A2b_part2, ['Nc', 'draws'], 0.25)\n",
    "ax3.axvline(x=date_exceed, color='gray')\n",
    "ax3.text(date_exceed+pd.Timedelta('1D'),10, ' exceeding \\n 25% on {}/{}'.format(date_exceed.day, date_exceed.month), \n",
    "         fontsize=10, color='gray')\n",
    "\n",
    "\n",
    "fig.suptitle('Scenarios release on  March 1')\n",
    "\n",
    "fig_path =  '../../results/predictions/national/restore_v7.0/'\n",
    "#fig.savefig(fig_path+'restore_v7.0_'+'British_variant'+'.pdf', dpi=400, bbox_inches='tight')\n",
    "fig.savefig(fig_path+'A2'+'.jpg', dpi=400, bbox_inches='tight')"
   ]
  },
  {
   "cell_type": "markdown",
   "metadata": {},
   "source": [
    "# Save data"
   ]
  },
  {
   "cell_type": "code",
   "execution_count": null,
   "metadata": {
    "ExecuteTime": {
     "end_time": "2021-02-08T10:19:25.425795Z",
     "start_time": "2021-02-08T10:18:39.298432Z"
    }
   },
   "outputs": [],
   "source": [
    "results = pd.DataFrame()\n",
    "results['Date'] =  out_S1a['time']\n",
    "for x in ['S1a', 'S1b', 'S2a', 'S2b', 'S3a', 'S4a', 'S5a', 'S5b']:\n",
    "    for var in ['H_in', 'H_tot']:\n",
    "        binom = eval(x+'_'+var+'_binom')\n",
    "        if var == 'H_in':\n",
    "            results[x+'_incidences_mean'] = np.mean(binom, axis=1)\n",
    "            results[x+'_incidences_median'] = np.median(binom, axis=1)\n",
    "            results[x+'_incidences_LL'] = np.quantile(binom, q = LL, axis = 1)\n",
    "            results[x+'_incidences_UL'] = np.quantile(binom, q = UL, axis = 1)\n",
    "        if var == 'H_tot':\n",
    "            results[x+'_load_mean'] = np.mean(binom, axis=1)\n",
    "            results[x+'_load_median'] = np.median(binom, axis=1)\n",
    "            results[x+'_load_LL'] = np.quantile(binom, q = LL, axis = 1)\n",
    "            results[x+'_load_UL'] = np.quantile(binom, q = UL, axis = 1)\n",
    "            \n",
    "results.to_csv('../../results/predictions/national/restore_v7.0/UGent_restore_v7.csv')"
   ]
  },
  {
   "cell_type": "markdown",
   "metadata": {
    "ExecuteTime": {
     "end_time": "2020-12-02T09:47:36.607419Z",
     "start_time": "2020-12-02T09:47:33.398902Z"
    },
    "heading_collapsed": true
   },
   "source": [
    "# Plot saved data"
   ]
  },
  {
   "cell_type": "code",
   "execution_count": null,
   "metadata": {
    "ExecuteTime": {
     "end_time": "2020-12-02T12:05:19.070053Z",
     "start_time": "2020-12-02T12:05:19.026546Z"
    },
    "hidden": true
   },
   "outputs": [],
   "source": [
    "S_results_H_in = pd.read_csv('../../results/vaccinations/national/S_results_H_in.csv', parse_dates=['time'])"
   ]
  },
  {
   "cell_type": "code",
   "execution_count": null,
   "metadata": {
    "hidden": true
   },
   "outputs": [],
   "source": [
    "plot_band_saved_data(ax3, S_results_H_in, 'S1', 'S1_LL', 'S1_UL', 'gray', 'no vaccination')\n"
   ]
  },
  {
   "cell_type": "code",
   "execution_count": null,
   "metadata": {
    "ExecuteTime": {
     "end_time": "2020-12-02T12:05:22.288309Z",
     "start_time": "2020-12-02T12:05:22.083028Z"
    },
    "hidden": true
   },
   "outputs": [],
   "source": [
    "fig,(ax3,ax4) = plt.subplots(figsize=(10,5), nrows=1, ncols=2, sharex=True, sharey=True)\n",
    "\n",
    "ax3.plot('DATE','H_in',data=df_sciensano[start_calibration:end_sim].reset_index(), marker='.', \n",
    "         c='gray', label='data', lw=0, markersize=9, alpha=0.3, markeredgecolor='none')\n",
    "plot_band_saved_data(ax3, S_results_H_in, 'S1', 'S1_LL', 'S1_UL', 'gray', 'no vaccination')\n",
    "plot_band_saved_data(ax3, S_results_H_in, 'S1', 'S1_LL', 'S1_UL', 'gray', 'no vaccination')\n",
    "\n",
    "# plot_band(ax3, y_model_S4a, 'H_in', 'C0', '0% at start')\n",
    "# plot_band(ax3, y_model_S4b, 'H_in', 'C1', '10% at start')\n",
    "# plot_band(ax3, y_model_S4c, 'H_in', 'C2', '30% at start')\n",
    "# plot_band(ax3, y_model_S4d, 'H_in', 'C3', '50% at start')\n",
    "\n",
    "ax3.set_xlim(start_x, end_x)\n",
    "ax3.set_xticks(pd.date_range(start_x, end_grid, periods=4))\n",
    "ax3.xaxis.set_tick_params(which='both', labelbottom=True)\n",
    "ax3.set_title('Vaccination according to age')\n",
    "\n",
    "ax4.plot('DATE','H_in',data=df_sciensano[start_calibration:end_sim].reset_index(), marker='.', \n",
    "         c='gray', label='data', lw=0, markersize=9, alpha=0.3, markeredgecolor='none')\n",
    "# plot_band(ax4, y_model_S1, 'H_in', 'gray', 'no vaccination')\n",
    "# plot_band(ax4, y_model_S5a, 'H_in', 'C0', '0% at start')\n",
    "# plot_band(ax4, y_model_S5b, 'H_in', 'C1', '10% at start')\n",
    "# plot_band(ax4, y_model_S5c, 'H_in', 'C2', '30% at start')\n",
    "# plot_band(ax4, y_model_S5d, 'H_in', 'C3', '50% at start')\n",
    "\n",
    "ax4.set_xlim(start_x, end_x)\n",
    "ax4.set_xticks(pd.date_range(start_x, end_grid, periods=4))\n",
    "ax4.xaxis.set_tick_params(which='both', labelbottom=True)\n",
    "ax4.set_title('Vaccination according to number of contacts')\n",
    "\n",
    "\n",
    "ax3.legend(loc='upper center', bbox_to_anchor=(1, 1.35), ncol=3)\n",
    "ax3.set_ylim(0,800)\n",
    "fig.text(0, 0.5, 'Number of new hospitalizations', va='center', rotation='vertical')\n",
    "fig.text(0.5, 0.01, 'Time', va='center', rotation='horizontal')\n"
   ]
  },
  {
   "cell_type": "code",
   "execution_count": null,
   "metadata": {
    "hidden": true
   },
   "outputs": [],
   "source": []
  },
  {
   "cell_type": "code",
   "execution_count": null,
   "metadata": {
    "hidden": true
   },
   "outputs": [],
   "source": []
  }
 ],
 "metadata": {
  "kernelspec": {
   "display_name": "Python 3",
   "language": "python",
   "name": "python3"
  },
  "language_info": {
   "codemirror_mode": {
    "name": "ipython",
    "version": 3
   },
   "file_extension": ".py",
   "mimetype": "text/x-python",
   "name": "python",
   "nbconvert_exporter": "python",
   "pygments_lexer": "ipython3",
   "version": "3.8.2"
  },
  "nav_menu": {},
  "toc": {
   "base_numbering": 1,
   "nav_menu": {},
   "number_sections": true,
   "sideBar": true,
   "skip_h1_title": false,
   "title_cell": "Table of Contents",
   "title_sidebar": "Contents",
   "toc_cell": true,
   "toc_position": {
    "height": "calc(100% - 180px)",
    "left": "10px",
    "top": "150px",
    "width": "327px"
   },
   "toc_section_display": "block",
   "toc_window_display": true
  }
 },
 "nbformat": 4,
 "nbformat_minor": 4
}
