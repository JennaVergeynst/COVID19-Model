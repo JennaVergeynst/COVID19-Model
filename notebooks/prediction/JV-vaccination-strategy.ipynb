{
 "cells": [
  {
   "cell_type": "markdown",
   "metadata": {
    "toc": true
   },
   "source": [
    "<h1>Table of Contents<span class=\"tocSkip\"></span></h1>\n",
    "<div class=\"toc\"><ul class=\"toc-item\"><li><span><a href=\"#Data,-policy-and-model-initialization\" data-toc-modified-id=\"Data,-policy-and-model-initialization-1\"><span class=\"toc-item-num\">1&nbsp;&nbsp;</span>Data, policy and model initialization</a></span><ul class=\"toc-item\"><li><span><a href=\"#Load-contact-data\" data-toc-modified-id=\"Load-contact-data-1.1\"><span class=\"toc-item-num\">1.1&nbsp;&nbsp;</span>Load contact data</a></span></li><li><span><a href=\"#Load-publically-available-data-from-Sciensano\" data-toc-modified-id=\"Load-publically-available-data-from-Sciensano-1.2\"><span class=\"toc-item-num\">1.2&nbsp;&nbsp;</span>Load publically available data from Sciensano</a></span></li><li><span><a href=\"#Load-posterior-parameter-distributions-of-calibrated-parameters\" data-toc-modified-id=\"Load-posterior-parameter-distributions-of-calibrated-parameters-1.3\"><span class=\"toc-item-num\">1.3&nbsp;&nbsp;</span>Load posterior parameter distributions of calibrated parameters</a></span></li><li><span><a href=\"#Settings\" data-toc-modified-id=\"Settings-1.4\"><span class=\"toc-item-num\">1.4&nbsp;&nbsp;</span>Settings</a></span></li></ul></li><li><span><a href=\"#Helpfunctions-vaccination\" data-toc-modified-id=\"Helpfunctions-vaccination-2\"><span class=\"toc-item-num\">2&nbsp;&nbsp;</span>Helpfunctions vaccination</a></span></li><li><span><a href=\"#Vaccination-functions\" data-toc-modified-id=\"Vaccination-functions-3\"><span class=\"toc-item-num\">3&nbsp;&nbsp;</span>Vaccination functions</a></span><ul class=\"toc-item\"><li><span><a href=\"#Equal-divide-after-elderly\" data-toc-modified-id=\"Equal-divide-after-elderly-3.1\"><span class=\"toc-item-num\">3.1&nbsp;&nbsp;</span>Equal divide after elderly</a></span></li><li><span><a href=\"#Prioritise-after-elderly\" data-toc-modified-id=\"Prioritise-after-elderly-3.2\"><span class=\"toc-item-num\">3.2&nbsp;&nbsp;</span>Prioritise after elderly</a></span></li></ul></li><li><span><a href=\"#Functions\" data-toc-modified-id=\"Functions-4\"><span class=\"toc-item-num\">4&nbsp;&nbsp;</span>Functions</a></span></li><li><span><a href=\"#Time-dep-functions\" data-toc-modified-id=\"Time-dep-functions-5\"><span class=\"toc-item-num\">5&nbsp;&nbsp;</span>Time-dep functions</a></span></li><li><span><a href=\"#Test-model\" data-toc-modified-id=\"Test-model-6\"><span class=\"toc-item-num\">6&nbsp;&nbsp;</span>Test model</a></span></li><li><span><a href=\"#Test-vacc-strategy\" data-toc-modified-id=\"Test-vacc-strategy-7\"><span class=\"toc-item-num\">7&nbsp;&nbsp;</span>Test vacc strategy</a></span></li><li><span><a href=\"#Test-UK-injection\" data-toc-modified-id=\"Test-UK-injection-8\"><span class=\"toc-item-num\">8&nbsp;&nbsp;</span>Test UK injection</a></span></li><li><span><a href=\"#Verify-vaccination-function\" data-toc-modified-id=\"Verify-vaccination-function-9\"><span class=\"toc-item-num\">9&nbsp;&nbsp;</span>Verify vaccination function</a></span><ul class=\"toc-item\"><li><span><a href=\"#Overall\" data-toc-modified-id=\"Overall-9.1\"><span class=\"toc-item-num\">9.1&nbsp;&nbsp;</span>Overall</a></span></li><li><span><a href=\"#Per-age-group\" data-toc-modified-id=\"Per-age-group-9.2\"><span class=\"toc-item-num\">9.2&nbsp;&nbsp;</span>Per age group</a></span></li></ul></li><li><span><a href=\"#Test-spatial-model\" data-toc-modified-id=\"Test-spatial-model-10\"><span class=\"toc-item-num\">10&nbsp;&nbsp;</span>Test spatial model</a></span></li><li><span><a href=\"#Scenarios\" data-toc-modified-id=\"Scenarios-11\"><span class=\"toc-item-num\">11&nbsp;&nbsp;</span>Scenarios</a></span><ul class=\"toc-item\"><li><span><a href=\"#Run-and-save-all-scenarios\" data-toc-modified-id=\"Run-and-save-all-scenarios-11.1\"><span class=\"toc-item-num\">11.1&nbsp;&nbsp;</span>Run and save all scenarios</a></span></li><li><span><a href=\"#Scenarios-S1-(current-behaviour)\" data-toc-modified-id=\"Scenarios-S1-(current-behaviour)-11.2\"><span class=\"toc-item-num\">11.2&nbsp;&nbsp;</span>Scenarios S1 (current behaviour)</a></span><ul class=\"toc-item\"><li><span><a href=\"#S1a---K-=-1.3\" data-toc-modified-id=\"S1a---K-=-1.3-11.2.1\"><span class=\"toc-item-num\">11.2.1&nbsp;&nbsp;</span>S1a - K = 1.3</a></span></li><li><span><a href=\"#S1b---K-=-1.5\" data-toc-modified-id=\"S1b---K-=-1.5-11.2.2\"><span class=\"toc-item-num\">11.2.2&nbsp;&nbsp;</span>S1b - K = 1.5</a></span></li><li><span><a href=\"#S1c---K-=-1.7\" data-toc-modified-id=\"S1c---K-=-1.7-11.2.3\"><span class=\"toc-item-num\">11.2.3&nbsp;&nbsp;</span>S1c - K = 1.7</a></span></li></ul></li><li><span><a href=\"#Scenarios-S2-(september-behaviour-March-1)\" data-toc-modified-id=\"Scenarios-S2-(september-behaviour-March-1)-11.3\"><span class=\"toc-item-num\">11.3&nbsp;&nbsp;</span>Scenarios S2 (september behaviour March 1)</a></span><ul class=\"toc-item\"><li><span><a href=\"#S2a---K-=-1.3\" data-toc-modified-id=\"S2a---K-=-1.3-11.3.1\"><span class=\"toc-item-num\">11.3.1&nbsp;&nbsp;</span>S2a - K = 1.3</a></span></li><li><span><a href=\"#S2b---K-=-1.5\" data-toc-modified-id=\"S2b---K-=-1.5-11.3.2\"><span class=\"toc-item-num\">11.3.2&nbsp;&nbsp;</span>S2b - K = 1.5</a></span></li></ul></li><li><span><a href=\"#Scenarios-SNV1-(vaccination-effect)\" data-toc-modified-id=\"Scenarios-SNV1-(vaccination-effect)-11.4\"><span class=\"toc-item-num\">11.4&nbsp;&nbsp;</span>Scenarios SNV1 (vaccination effect)</a></span><ul class=\"toc-item\"><li><span><a href=\"#S3a-(S2b-without-vaccination)\" data-toc-modified-id=\"S3a-(S2b-without-vaccination)-11.4.1\"><span class=\"toc-item-num\">11.4.1&nbsp;&nbsp;</span>S3a (S2b without vaccination)</a></span></li><li><span><a href=\"#S4a-(S1b-without-vaccination)\" data-toc-modified-id=\"S4a-(S1b-without-vaccination)-11.4.2\"><span class=\"toc-item-num\">11.4.2&nbsp;&nbsp;</span>S4a (S1b without vaccination)</a></span></li></ul></li></ul></li><li><span><a href=\"#Visualise\" data-toc-modified-id=\"Visualise-12\"><span class=\"toc-item-num\">12&nbsp;&nbsp;</span>Visualise</a></span><ul class=\"toc-item\"><li><span><a href=\"#S1-and-S2\" data-toc-modified-id=\"S1-and-S2-12.1\"><span class=\"toc-item-num\">12.1&nbsp;&nbsp;</span>S1 and S2</a></span></li><li><span><a href=\"#Vaccination-effect\" data-toc-modified-id=\"Vaccination-effect-12.2\"><span class=\"toc-item-num\">12.2&nbsp;&nbsp;</span>Vaccination effect</a></span></li></ul></li><li><span><a href=\"#Alternative-scenarios-A1\" data-toc-modified-id=\"Alternative-scenarios-A1-13\"><span class=\"toc-item-num\">13&nbsp;&nbsp;</span>Alternative scenarios A1</a></span><ul class=\"toc-item\"><li><span><a href=\"#A1a---vacc---old-strain\" data-toc-modified-id=\"A1a---vacc---old-strain-13.1\"><span class=\"toc-item-num\">13.1&nbsp;&nbsp;</span>A1a - vacc - old strain</a></span></li><li><span><a href=\"#A1b---no-vacc---new-strain\" data-toc-modified-id=\"A1b---no-vacc---new-strain-13.2\"><span class=\"toc-item-num\">13.2&nbsp;&nbsp;</span>A1b - no vacc - new strain</a></span></li><li><span><a href=\"#A1c---vaccination---old-strain\" data-toc-modified-id=\"A1c---vaccination---old-strain-13.3\"><span class=\"toc-item-num\">13.3&nbsp;&nbsp;</span>A1c - vaccination - old strain</a></span></li><li><span><a href=\"#A1d---vaccination---new-strain\" data-toc-modified-id=\"A1d---vaccination---new-strain-13.4\"><span class=\"toc-item-num\">13.4&nbsp;&nbsp;</span>A1d - vaccination - new strain</a></span></li><li><span><a href=\"#Visualise\" data-toc-modified-id=\"Visualise-13.5\"><span class=\"toc-item-num\">13.5&nbsp;&nbsp;</span>Visualise</a></span></li></ul></li><li><span><a href=\"#Alternative-scenarios-A2\" data-toc-modified-id=\"Alternative-scenarios-A2-14\"><span class=\"toc-item-num\">14&nbsp;&nbsp;</span>Alternative scenarios A2</a></span><ul class=\"toc-item\"><li><span><a href=\"#A2a---no-vacc---old-strain\" data-toc-modified-id=\"A2a---no-vacc---old-strain-14.1\"><span class=\"toc-item-num\">14.1&nbsp;&nbsp;</span>A2a - no vacc - old strain</a></span></li><li><span><a href=\"#A2b---no-vacc---new-strain\" data-toc-modified-id=\"A2b---no-vacc---new-strain-14.2\"><span class=\"toc-item-num\">14.2&nbsp;&nbsp;</span>A2b - no vacc - new strain</a></span></li><li><span><a href=\"#A2c---vaccination---old-strain\" data-toc-modified-id=\"A2c---vaccination---old-strain-14.3\"><span class=\"toc-item-num\">14.3&nbsp;&nbsp;</span>A2c - vaccination - old strain</a></span></li><li><span><a href=\"#A2d---vaccination---new-strain\" data-toc-modified-id=\"A2d---vaccination---new-strain-14.4\"><span class=\"toc-item-num\">14.4&nbsp;&nbsp;</span>A2d - vaccination - new strain</a></span></li><li><span><a href=\"#Visualise\" data-toc-modified-id=\"Visualise-14.5\"><span class=\"toc-item-num\">14.5&nbsp;&nbsp;</span>Visualise</a></span></li></ul></li><li><span><a href=\"#Save-data\" data-toc-modified-id=\"Save-data-15\"><span class=\"toc-item-num\">15&nbsp;&nbsp;</span>Save data</a></span></li><li><span><a href=\"#Plot-saved-data\" data-toc-modified-id=\"Plot-saved-data-16\"><span class=\"toc-item-num\">16&nbsp;&nbsp;</span>Plot saved data</a></span></li></ul></div>"
   ]
  },
  {
   "cell_type": "markdown",
   "metadata": {},
   "source": [
    "\n",
    "*Authored by J. Vergeynst*\n",
    "\n",
    "Copyright (c) 2021 by J. Vergeynst, BIOMATH, Ghent University. All Rights Reserved."
   ]
  },
  {
   "cell_type": "code",
   "execution_count": 1,
   "metadata": {
    "ExecuteTime": {
     "end_time": "2021-03-10T07:09:49.751367Z",
     "start_time": "2021-03-10T07:09:25.162562Z"
    }
   },
   "outputs": [],
   "source": [
    "import numpy as np\n",
    "%matplotlib notebook\n",
    "import matplotlib\n",
    "import matplotlib.pyplot as plt\n",
    "import matplotlib.dates as mdates\n",
    "import pandas as pd\n",
    "import datetime\n",
    "import scipy\n",
    "import json\n",
    "import random\n",
    "from math import floor, ceil\n",
    "\n",
    "from covid19model.optimization import objective_fcns\n",
    "from covid19model.models import models\n",
    "from covid19model.models.utils import draw_sample_COVID19_SEIRD\n",
    "from covid19model.models.time_dependant_parameter_fncs import ramp_fun, google_lockdown\n",
    "from covid19model.data import mobility, sciensano, model_parameters\n",
    "from covid19model.visualization.output import population_status, infected, _apply_tick_locator\n",
    "from covid19model.visualization.optimization import plot_fit, traceplot\n",
    "\n",
    "plt.rcParams.update({'font.size': 12, 'axes.grid':True, 'grid.linewidth':0.3})\n",
    "pd.plotting.register_matplotlib_converters()\n",
    "\n",
    "# OPTIONAL: Load the \"autoreload\" extension so that package code can change\n",
    "%load_ext autoreload\n",
    "# OPTIONAL: always reload modules so that as you change code in src, it gets loaded\n",
    "%autoreload 2"
   ]
  },
  {
   "cell_type": "code",
   "execution_count": null,
   "metadata": {
    "ExecuteTime": {
     "end_time": "2021-03-09T07:21:21.246927Z",
     "start_time": "2021-03-09T07:21:21.093839Z"
    }
   },
   "outputs": [],
   "source": [
    "%load_ext snakeviz"
   ]
  },
  {
   "cell_type": "code",
   "execution_count": null,
   "metadata": {
    "ExecuteTime": {
     "end_time": "2021-02-11T09:24:42.853982Z",
     "start_time": "2021-02-11T09:24:42.793204Z"
    }
   },
   "outputs": [],
   "source": [
    "plt.rcParams.update({\n",
    "    \"lines.linewidth\" : 3,\n",
    "    \"axes.spines.top\": True,\n",
    "    \"axes.spines.right\": True,\n",
    "    \"ytick.major.left\": True,\n",
    "    \"axes.grid\": True\n",
    "})"
   ]
  },
  {
   "cell_type": "markdown",
   "metadata": {},
   "source": [
    "# Data, policy and model initialization"
   ]
  },
  {
   "cell_type": "markdown",
   "metadata": {},
   "source": [
    "## Load contact data"
   ]
  },
  {
   "cell_type": "code",
   "execution_count": 2,
   "metadata": {
    "ExecuteTime": {
     "end_time": "2021-03-10T07:09:50.762980Z",
     "start_time": "2021-03-10T07:09:49.756552Z"
    }
   },
   "outputs": [],
   "source": [
    "# Load the interaction matrices (size: 9x9)\n",
    "initN, Nc_home, Nc_work, Nc_schools, Nc_transport, Nc_leisure, Nc_others, Nc_total = model_parameters.get_interaction_matrices(dataset='willem_2012',intensity='all')\n",
    "# Define the number of age categories\n",
    "levels = initN.size\n",
    "\n",
    "initN, Nc_home_15, Nc_work_15, Nc_schools_15, Nc_transport_15, Nc_leisure_15, Nc_others_15, Nc_total_15 = model_parameters.get_interaction_matrices(dataset='willem_2012',intensity='more_15_min')\n",
    "initN, Nc_home_1hr, Nc_work_1hr, Nc_schools_1hr, Nc_transport_1hr, Nc_leisure_1hr, Nc_others_1hr, Nc_total_1hr = model_parameters.get_interaction_matrices(dataset='willem_2012',intensity='more_one_hour')"
   ]
  },
  {
   "cell_type": "code",
   "execution_count": 3,
   "metadata": {
    "ExecuteTime": {
     "end_time": "2021-03-10T07:09:50.811018Z",
     "start_time": "2021-03-10T07:09:50.765194Z"
    }
   },
   "outputs": [],
   "source": [
    "Nc_all = {'total': Nc_total, 'home':Nc_home, 'work': Nc_work, 'schools': Nc_schools, 'transport': Nc_transport, 'leisure': Nc_leisure, 'others': Nc_others}\n",
    "Nc_15min = {'total': Nc_total_15, 'home': Nc_home_15, 'work': Nc_work_15, 'schools': Nc_schools_15, 'transport': Nc_transport_15, 'leisure': Nc_leisure_15, 'others': Nc_others_15}\n",
    "Nc_1hr = {'total': Nc_total_1hr, 'home': Nc_home_1hr, 'work': Nc_work_1hr, 'schools': Nc_schools_1hr, 'transport': Nc_transport_1hr, 'leisure': Nc_leisure_1hr, 'others': Nc_others_1hr}"
   ]
  },
  {
   "cell_type": "markdown",
   "metadata": {},
   "source": [
    "## Load publically available data from Sciensano"
   ]
  },
  {
   "cell_type": "code",
   "execution_count": 4,
   "metadata": {
    "ExecuteTime": {
     "end_time": "2021-03-10T07:09:51.185995Z",
     "start_time": "2021-03-10T07:09:50.813190Z"
    }
   },
   "outputs": [],
   "source": [
    "df_sciensano = sciensano.get_sciensano_COVID19_data(update=False)\n",
    "df_sciensano['D_cum'] = df_sciensano.D_tot.cumsum()"
   ]
  },
  {
   "cell_type": "code",
   "execution_count": 5,
   "metadata": {
    "ExecuteTime": {
     "end_time": "2021-03-10T07:09:51.261168Z",
     "start_time": "2021-03-10T07:09:51.187667Z"
    }
   },
   "outputs": [],
   "source": [
    "df_google = mobility.get_google_mobility_data(update=False, plot=False)"
   ]
  },
  {
   "cell_type": "markdown",
   "metadata": {},
   "source": [
    "## Load posterior parameter distributions of calibrated parameters"
   ]
  },
  {
   "cell_type": "code",
   "execution_count": 242,
   "metadata": {
    "ExecuteTime": {
     "end_time": "2021-03-10T09:04:18.666494Z",
     "start_time": "2021-03-10T09:04:17.440183Z"
    }
   },
   "outputs": [],
   "source": [
    "# Load samples dictionaries\n",
    "with open('../../data/interim/model_parameters/COVID19_SEIRD/calibrations/national/BE_4_prev_full_2021-01-30_WAVE2_GOOGLE.json', 'r') as fp:\n",
    "    samples_dict = json.load(fp)\n",
    "\n",
    "with open('../../data/interim/model_parameters/COVID19_SEIRD/calibrations/national/initial_states_2020-09-01.json', 'r') as fp:\n",
    "    initial_states_sept = json.load(fp) \n",
    "    \n",
    "# Set initial states of VE (vaccine elegible)\n",
    "initial_states_sept['VE'] = (np.array(initial_states_sept['S'])+\n",
    "                             np.array(initial_states_sept['R'])+\n",
    "                             np.array(initial_states_sept['E'])+\n",
    "                             np.array(initial_states_sept['I'])+\n",
    "                             np.array(initial_states_sept['A'])).squeeze()"
   ]
  },
  {
   "cell_type": "code",
   "execution_count": null,
   "metadata": {
    "ExecuteTime": {
     "end_time": "2020-12-02T10:14:49.867274Z",
     "start_time": "2020-12-02T10:14:49.825611Z"
    }
   },
   "outputs": [],
   "source": [
    "# fig,ax = plt.subplots()\n",
    "# pd.Series(samples_dict['beta']).hist()\n",
    "# pd.Series(samples_dict['tau']).hist()"
   ]
  },
  {
   "cell_type": "markdown",
   "metadata": {},
   "source": [
    "## Settings"
   ]
  },
  {
   "cell_type": "code",
   "execution_count": 7,
   "metadata": {
    "ExecuteTime": {
     "end_time": "2021-03-10T07:09:52.643607Z",
     "start_time": "2021-03-10T07:09:52.577273Z"
    }
   },
   "outputs": [],
   "source": [
    "UL = 0.975\n",
    "LL = 0.025"
   ]
  },
  {
   "cell_type": "code",
   "execution_count": 8,
   "metadata": {
    "ExecuteTime": {
     "end_time": "2021-03-10T07:09:52.713792Z",
     "start_time": "2021-03-10T07:09:52.648679Z"
    }
   },
   "outputs": [],
   "source": [
    "start_calibration = '2021-01-01'\n",
    "end_sim = '2021-09-01'"
   ]
  },
  {
   "cell_type": "markdown",
   "metadata": {},
   "source": [
    "Alle vaccins twee dosissen nodig (Pfizer, Moderna, AstraZeneca, Curevac) behalve Johnson&Johnson (pas vanaf mei)"
   ]
  },
  {
   "cell_type": "code",
   "execution_count": 9,
   "metadata": {
    "ExecuteTime": {
     "end_time": "2021-03-10T07:09:52.791987Z",
     "start_time": "2021-03-10T07:09:52.721924Z"
    }
   },
   "outputs": [],
   "source": [
    "# doses per day (Regeringscommissariaat Corona, published by De Tijd)\n",
    "d = {}\n",
    "d['jan'] = 31765\n",
    "d['feb'] = 45897\n",
    "d['mar-apr'] = 128499\n",
    "d['may-aug'] = 78358\n",
    "\n",
    "# proportion of age group living in nursing homes\n",
    "# for simplicity we will use the data for respectively age groups 60+, 70+ and 80+\n",
    "NH = {}\n",
    "NH['65+'] = 0.007\n",
    "NH['75+'] = (0.05+0.029)/2\n",
    "NH['85+'] = (0.137+0.267)/2\n"
   ]
  },
  {
   "cell_type": "markdown",
   "metadata": {},
   "source": [
    "# Helpfunctions vaccination"
   ]
  },
  {
   "cell_type": "code",
   "execution_count": 10,
   "metadata": {
    "ExecuteTime": {
     "end_time": "2021-03-10T07:09:52.881057Z",
     "start_time": "2021-03-10T07:09:52.803955Z"
    }
   },
   "outputs": [],
   "source": [
    "# def sigmoid(x,mi, mx): \n",
    "#     return mi + (mx-mi)*(lambda t: (1+200**(-t+0.5))**(-1) )( (x-mi)/(mx-mi) )"
   ]
  },
  {
   "cell_type": "code",
   "execution_count": 11,
   "metadata": {
    "ExecuteTime": {
     "end_time": "2021-03-10T07:09:52.964112Z",
     "start_time": "2021-03-10T07:09:52.893764Z"
    }
   },
   "outputs": [],
   "source": [
    "def smoothclamp(x, mi, mx): \n",
    "    return mi + (mx-mi)*(lambda t: np.where(t < 0 , 0, np.where( t <= 1 , 3*t**2-2*t**3, 1 ) ) )( (x-mi)/(mx-mi) )"
   ]
  },
  {
   "cell_type": "code",
   "execution_count": null,
   "metadata": {
    "ExecuteTime": {
     "end_time": "2021-03-04T16:33:54.793484Z",
     "start_time": "2021-03-04T16:33:54.735511Z"
    }
   },
   "outputs": [],
   "source": [
    "# dose=1000\n",
    "# fig, ax = plt.subplots(1, 1)\n",
    "# x = np.linspace(0, dose)\n",
    "# ax.plot(x, np.clip(x, 0, dose),'k-', lw=2, alpha=0.8, label='clamp')\n",
    "# ax.plot(x, smoothclamp(x, 0, dose),'g-', lw=3, alpha=0.5, label='smoothclamp')\n",
    "# ax.plot(x, sigmoid(x, 0, dose),'b-', lw=3, alpha=0.5, label='sigmoid')\n",
    "# plt.legend(loc='upper left')\n",
    "# plt.show()"
   ]
  },
  {
   "cell_type": "code",
   "execution_count": 12,
   "metadata": {
    "ExecuteTime": {
     "end_time": "2021-03-10T07:09:53.032223Z",
     "start_time": "2021-03-10T07:09:52.972466Z"
    }
   },
   "outputs": [],
   "source": [
    "def smooth_dose(dose, sense, start_dose=0, end_dose=0, N=1000):\n",
    "    if sense == 'up':\n",
    "        x = np.linspace(start_dose, dose, num=N)\n",
    "        return smoothclamp(x, start_dose, dose)\n",
    "    elif sense == 'down':\n",
    "        x = np.linspace(dose, end_dose, num=N)\n",
    "        return smoothclamp(x, dose, end_dose)\n",
    "    else:\n",
    "        raise ValueError(\n",
    "                \"sense must be 'up' or 'down' \"\n",
    "            )"
   ]
  },
  {
   "cell_type": "code",
   "execution_count": 14,
   "metadata": {
    "ExecuteTime": {
     "end_time": "2021-03-10T07:09:53.207788Z",
     "start_time": "2021-03-10T07:09:53.111202Z"
    }
   },
   "outputs": [],
   "source": [
    "def smooth_dose_ts(daily_dose, start_t, end_t, spread, start_dose=0, end_dose=0, N=1000):\n",
    "    \"\"\"\n",
    "    max_to_vacc : max number to vaccinate\n",
    "    daily_dose : daily number of vaccinations\n",
    "    spread : number of days at start and end to spread out step function\n",
    "    N : resolution of the smoothed step function\n",
    "    start_dose : level to start smoothing from (0 or previous daily dose)\n",
    "    \n",
    "    \"\"\"\n",
    "    constant_period = np.linspace(start_t+spread, end_t-spread, num=ceil(end_t))\n",
    "    \n",
    "    ts = np.concatenate((np.linspace(start_t, start_t+spread, num=N), \n",
    "                         constant_period,\n",
    "                         np.linspace(end_t-spread, end_t, num=N)  \n",
    "                         )) \n",
    "    \n",
    "    doses = np.concatenate((smooth_dose(daily_dose, 'up', start_dose=start_dose, N=N),\n",
    "                    np.repeat(np.array(daily_dose), len(constant_period)),\n",
    "                    smooth_dose(daily_dose, 'down', end_dose=end_dose, N=N)))\n",
    "    return ts, doses"
   ]
  },
  {
   "cell_type": "code",
   "execution_count": 44,
   "metadata": {
    "ExecuteTime": {
     "end_time": "2021-03-10T07:26:54.633506Z",
     "start_time": "2021-03-10T07:26:54.581169Z"
    }
   },
   "outputs": [],
   "source": [
    "def smooth_dose_ts_open_end(daily_dose, start_t, spread, start_dose=0, N_days=100, N=1000):\n",
    "    \"\"\"\n",
    "    max_to_vacc : max number to vaccinate\n",
    "    daily_dose : daily number of vaccinations\n",
    "    N_days : number of days to spread out open end\n",
    "    spread : number of days at start/end to spread out step function\n",
    "    N : resolution of the smoothed step function\n",
    "    \n",
    "    \"\"\"\n",
    "    constant_period = np.linspace(start_t+spread, 100, num=N_days)\n",
    "    \n",
    "    ts = np.concatenate((np.linspace(start_t, start_t+spread, num=N), \n",
    "                         constant_period\n",
    "                         )) \n",
    "    \n",
    "    doses = np.concatenate((smooth_dose(daily_dose, 'up', start_dose=start_dose, N=N),\n",
    "                            np.repeat(np.array(daily_dose), len(constant_period))\n",
    "                            ))\n",
    "    return ts, doses"
   ]
  },
  {
   "cell_type": "code",
   "execution_count": 16,
   "metadata": {
    "ExecuteTime": {
     "end_time": "2021-03-10T07:09:53.349357Z",
     "start_time": "2021-03-10T07:09:53.272094Z"
    }
   },
   "outputs": [],
   "source": [
    "def find_nearest_idx(array, value):\n",
    "    array = np.asarray(array)\n",
    "    idx = (np.abs(array - value)).argmin()\n",
    "    return idx"
   ]
  },
  {
   "cell_type": "code",
   "execution_count": 149,
   "metadata": {
    "ExecuteTime": {
     "end_time": "2021-03-10T08:22:40.374213Z",
     "start_time": "2021-03-10T08:22:40.303738Z"
    }
   },
   "outputs": [],
   "source": [
    "def calc_N_vacc(N_vacc, age, prev_age, VE_states, dose, leftover, flag):\n",
    "    if (VE_states[:,[age]] > leftover) and flag:\n",
    "        dose = dose-N_vacc[:,[prev_age]]\n",
    "        N_vacc[:,[age]] = dose \n",
    "        flag=False\n",
    "        if (VE_states[:,[age]]-leftover) <= dose:\n",
    "            N_vacc[:,[age]] = VE_states[:,[age]]-leftover \n",
    "            flag=True\n",
    "    return N_vacc[:,[age]], flag"
   ]
  },
  {
   "cell_type": "code",
   "execution_count": null,
   "metadata": {
    "ExecuteTime": {
     "end_time": "2021-03-09T07:34:51.603794Z",
     "start_time": "2021-03-09T07:34:51.563768Z"
    }
   },
   "outputs": [],
   "source": [
    "# daily_dose = d['jan']/2\n",
    "# end_t = NH_8_to_vacc/daily_dose\n",
    "# end_t2 = end_t+NH_7_to_vacc/daily_dose\n",
    "# end_t3 = end_t2 + NH_6_to_vacc/daily_dose\n",
    "# end = 30"
   ]
  },
  {
   "cell_type": "code",
   "execution_count": null,
   "metadata": {
    "ExecuteTime": {
     "end_time": "2021-03-09T07:54:58.107750Z",
     "start_time": "2021-03-09T07:54:57.986562Z"
    }
   },
   "outputs": [],
   "source": [
    "# ts1, doses1 = smooth_dose_ts(daily_dose, 0, end_t, spread=2)\n",
    "# ts2, doses2 = smooth_dose_ts(daily_dose, end_t, end_t2, spread=1)\n",
    "# ts3, doses3 = smooth_dose_ts(daily_dose, end_t2, end_t3, spread=0.3)\n",
    "# ts4, doses4 = smooth_dose_ts(daily_dose, end_t3, end, spread=2, start_dose=8000, end_dose=12000)\n",
    "\n",
    "# fig,ax = plt.subplots()\n",
    "# ax.plot(ts1,doses1)\n",
    "# ax.plot(ts2,doses2)\n",
    "# ax.plot(ts3,doses3)\n",
    "# ax.plot(ts4,doses4)"
   ]
  },
  {
   "cell_type": "code",
   "execution_count": 26,
   "metadata": {
    "ExecuteTime": {
     "end_time": "2021-03-10T07:19:18.866024Z",
     "start_time": "2021-03-10T07:19:18.802814Z"
    }
   },
   "outputs": [],
   "source": [
    "# ts_open, doses_open = smooth_dose_ts_open_end(daily_dose=1000, start_t=0, spread=1, N=1000)\n",
    "# fig,ax = plt.subplots()\n",
    "# ax.plot(ts_open,doses_open)"
   ]
  },
  {
   "cell_type": "markdown",
   "metadata": {},
   "source": [
    "# Vaccination functions"
   ]
  },
  {
   "cell_type": "code",
   "execution_count": 17,
   "metadata": {
    "ExecuteTime": {
     "end_time": "2021-03-10T07:10:04.889250Z",
     "start_time": "2021-03-10T07:10:04.845984Z"
    }
   },
   "outputs": [],
   "source": [
    "NH_8_to_vacc = NH['85+']*initial_states_sept['VE'][8]\n",
    "NH_7_to_vacc = NH['75+']*initial_states_sept['VE'][7]\n",
    "NH_6_to_vacc = NH['65+']*initial_states_sept['VE'][6]"
   ]
  },
  {
   "cell_type": "code",
   "execution_count": 18,
   "metadata": {
    "ExecuteTime": {
     "end_time": "2021-03-10T07:10:05.614606Z",
     "start_time": "2021-03-10T07:10:05.567403Z"
    }
   },
   "outputs": [
    {
     "data": {
      "text/plain": [
       "[3, 4, 1, 2, 5, 0, 6, 7, 8]"
      ]
     },
     "execution_count": 18,
     "metadata": {},
     "output_type": "execute_result"
    }
   ],
   "source": [
    "# Which age group has most contacts with all other age groups?\n",
    "contact_sums = Nc_total.sum(axis=1)\n",
    "contact_sums = pd.DataFrame({'contacts':Nc_total.sum(axis=1), 'age_group':[0,1,2,3,4,5,6,7,8]})\n",
    "list(contact_sums.sort_values('contacts', ascending=False).age_group)"
   ]
  },
  {
   "cell_type": "markdown",
   "metadata": {},
   "source": [
    "## Equal divide after elderly"
   ]
  },
  {
   "cell_type": "code",
   "execution_count": 251,
   "metadata": {
    "ExecuteTime": {
     "end_time": "2021-03-10T11:57:41.822281Z",
     "start_time": "2021-03-10T11:57:41.650333Z"
    }
   },
   "outputs": [],
   "source": [
    "def vacc_strategy(t, states, param, d, NH, order, elder):\n",
    "    \"\"\"\n",
    "    time-dependent function for vaccination strategy\n",
    "    \n",
    "    states : dictionary\n",
    "        model states, VE = vaccine eligible states = S+R+E+I+A\n",
    "    d : dictionary\n",
    "        daily number of doses for that month\n",
    "        daily vaccinated persons on immunity date = daily dose on vaccination date / 2\n",
    "    NH : dictionary\n",
    "        proportion of residents in nursing homes per age group\n",
    "    \n",
    "    \"\"\"\n",
    "    \n",
    "    leftover = 100\n",
    "    \n",
    "    VE_states = states['VE'].copy()\n",
    "    \n",
    "    if VE_states.ndim == 1:\n",
    "        VE_states = VE_states[np.newaxis]\n",
    "\n",
    "    N_vacc = np.zeros(VE_states.shape)\n",
    "\n",
    "    delay = pd.Timedelta('30D')\n",
    "    \n",
    "    t1 = pd.Timestamp('2021-01-01') + delay\n",
    "    t2 = pd.Timestamp('2021-02-01') + delay\n",
    "    t3 = pd.Timestamp('2021-03-01') + delay\n",
    "    t4 = pd.Timestamp('2021-05-01') + delay\n",
    "    daily_dose_jan = d['jan']/2\n",
    "    daily_dose_feb = d['feb']/2\n",
    "    daily_dose_ma_ap = d['mar-apr']/2\n",
    "    daily_dose_may_aug = d['may-aug']/2\n",
    "    \n",
    "    if t < t1:\n",
    "        N_vacc = N_vacc\n",
    "    \n",
    "    elif t1 <= t < t2: # January : nursing homes + part of care personnel\n",
    "        t_num = (t-t1)/pd.Timedelta('1D')\n",
    "        end_phase1 = NH_8_to_vacc/daily_dose_jan\n",
    "        end_phase2 = end_phase1 + NH_7_to_vacc/daily_dose_jan\n",
    "        end_phase3 = end_phase2 + NH_6_to_vacc/daily_dose_jan\n",
    "        end_t2 = (t2-t1)/pd.Timedelta('1D')\n",
    "        if t_num < end_phase1:\n",
    "            ts, doses = smooth_dose_ts(daily_dose_jan, 0, end_phase1, spread=2)\n",
    "            N_vacc[:,[8]] = doses[find_nearest_idx(ts, t_num)]\n",
    "        elif t_num < end_phase2:\n",
    "            ts, doses = smooth_dose_ts(daily_dose_jan, end_phase1, end_phase2, spread=1)\n",
    "            N_vacc[:,[7]] = doses[find_nearest_idx(ts, t_num)]\n",
    "        elif t_num < end_phase3:\n",
    "            ts, doses = smooth_dose_ts(daily_dose_jan, end_phase2, end_phase3, spread=0.3)\n",
    "            N_vacc[:,[6]] = doses[find_nearest_idx(ts, t_num)]\n",
    "        else: \n",
    "            ts, doses = smooth_dose_ts(daily_dose_jan, end_phase3, end_t2, spread=4, end_dose=daily_dose_feb)\n",
    "            N_vacc[:,[5,4,3,2]] = doses[find_nearest_idx(ts, t_num)]/4\n",
    "\n",
    "    elif t2 <= t < t3: # February : care personnel\n",
    "        t_num = (t-t2)/pd.Timedelta('1D')\n",
    "        end_t3 = (t3-t2)/pd.Timedelta('1D')\n",
    "        ts, doses = smooth_dose_ts(daily_dose_feb, 0, end_t3, spread=4, start_dose=daily_dose_jan)\n",
    "        N_vacc[:,[5,4,3,2]] = doses[find_nearest_idx(ts, t_num)]/4\n",
    "        \n",
    "    elif t3 <= t < t4: # March-April : 65+ and risk patients\n",
    "        t_num = (t-t3)/pd.Timedelta('1D')\n",
    "        if VE_states[:,[elder[0]]] > leftover:\n",
    "            ts, doses = smooth_dose_ts_open_end(daily_dose_ma_ap, 0, spread=2)\n",
    "            N_vacc[:,[elder[0]]] = doses[find_nearest_idx(ts, t_num)]\n",
    "            ## One daily dose before all 80+ are vaccinated, start building down\n",
    "            if (VE_states[:,[elder[0]]]-leftover) <= daily_dose_ma_ap:\n",
    "                N_vacc[:,[elder[0]]] = VE_states[:,[elder[0]]]-leftover\n",
    "                \n",
    "                flag = True\n",
    "                N_vacc[:,[elder[1]]],flag = calc_N_vacc(N_vacc, elder[1], elder[0], VE_states, daily_dose_ma_ap, leftover,flag)\n",
    "                N_vacc[:,[elder[2]]],flag = calc_N_vacc(N_vacc, elder[2], elder[1], VE_states, daily_dose_ma_ap, leftover,flag)\n",
    "                if flag==True and len(np.unique(elder))==3:\n",
    "                    N_vacc[:,[5,4,3,2]] = (daily_dose_ma_ap - N_vacc[:,[elder[2]]])/4\n",
    "                if flag==True and len(np.unique(elder))==2:\n",
    "                    N_vacc[:,[6,5,4,3,2]] = (daily_dose_ma_ap - N_vacc[:,[elder[2]]])/5\n",
    "                                \n",
    "\n",
    "    else: # May-August : all 18+ \n",
    "        t_num = (t-t4)/pd.Timedelta('1D')\n",
    "        ts, doses = smooth_dose_ts_open_end(daily_dose_may_aug, 0, spread=3)#, start_dose=daily_dose_ma_ap/4\n",
    "        if len(np.unique(elder))==3:\n",
    "            N_vacc[:,[5,4,3,2]] = doses[find_nearest_idx(ts, t_num)]/4\n",
    "        elif len(np.unique(elder))==2:\n",
    "            N_vacc[:,[6,5,4,3,2]] = doses[find_nearest_idx(ts, t_num)]/5\n",
    "    return N_vacc.squeeze()"
   ]
  },
  {
   "cell_type": "markdown",
   "metadata": {},
   "source": [
    "## Prioritise after elderly"
   ]
  },
  {
   "cell_type": "code",
   "execution_count": 161,
   "metadata": {
    "ExecuteTime": {
     "end_time": "2021-03-10T08:29:30.993508Z",
     "start_time": "2021-03-10T08:29:30.848120Z"
    }
   },
   "outputs": [],
   "source": [
    "def vacc_strategy_priors(t, states, param, d, NH, order, elder):\n",
    "    \"\"\"\n",
    "    time-dependent function for vaccination strategy\n",
    "    \n",
    "    states : dictionary\n",
    "        model states, VE = vaccine eligible states = S+R+E+I+A\n",
    "    d : dictionary\n",
    "        daily number of doses for that month\n",
    "        daily vaccinated persons on immunity date = daily dose on vaccination date / 2\n",
    "    NH : dictionary\n",
    "        proportion of residents in nursing homes per age group\n",
    "    order : list\n",
    "        order of age categories to be vaccinated after the elderly\n",
    "    elder : list\n",
    "        order of elderly age categories ([8,7,6] or if 60+ not prioritised [8,7,7])\n",
    "    \n",
    "    \"\"\"\n",
    "    if len(order)!=7:\n",
    "        raise ValueError(\n",
    "                \"order must have length 7\"\n",
    "            )\n",
    "    if len(elder)!=3:\n",
    "        raise ValueError(\n",
    "                \"elder must have length 3\"\n",
    "            )        \n",
    "    \n",
    "    leftover = 100\n",
    "    \n",
    "    VE_states = states['VE'].copy()\n",
    "    if VE_states.ndim == 1:\n",
    "        VE_states = VE_states[np.newaxis]\n",
    "\n",
    "    N_vacc = np.zeros(VE_states.shape)\n",
    "\n",
    "    delay = pd.Timedelta('30D')\n",
    "    \n",
    "    t1 = pd.Timestamp('2021-01-01') + delay\n",
    "    t2 = pd.Timestamp('2021-02-01') + delay\n",
    "    t3 = pd.Timestamp('2021-03-01') + delay\n",
    "    t4 = pd.Timestamp('2021-05-01') + delay\n",
    "    daily_dose_jan = d['jan']/2\n",
    "    daily_dose_feb = d['feb']/2\n",
    "    daily_dose_ma_ap = d['mar-apr']/2\n",
    "    daily_dose_may_aug = d['may-aug']/2\n",
    "    \n",
    "    if t < t1:\n",
    "        N_vacc = N_vacc\n",
    "    \n",
    "    elif t1 <= t < t2: # January : nursing homes + part of care personnel\n",
    "        t_num = (t-t1)/pd.Timedelta('1D')\n",
    "        end_phase1 = NH_8_to_vacc/daily_dose_jan\n",
    "        end_phase2 = end_phase1 + NH_7_to_vacc/daily_dose_jan\n",
    "        end_phase3 = end_phase2 + NH_6_to_vacc/daily_dose_jan\n",
    "        end_t2 = (t2-t1)/pd.Timedelta('1D')\n",
    "        if t_num < end_phase1:\n",
    "            ts, doses = smooth_dose_ts(daily_dose_jan, 0, end_phase1, spread=2)\n",
    "            N_vacc[:,[8]] = doses[find_nearest_idx(ts, t_num)]\n",
    "        elif t_num < end_phase2:\n",
    "            ts, doses = smooth_dose_ts(daily_dose_jan, end_phase1, end_phase2, spread=1)\n",
    "            N_vacc[:,[7]] = doses[find_nearest_idx(ts, t_num)]\n",
    "        elif t_num < end_phase3:\n",
    "            ts, doses = smooth_dose_ts(daily_dose_jan, end_phase2, end_phase3, spread=0.3)\n",
    "            N_vacc[:,[6]] = doses[find_nearest_idx(ts, t_num)]\n",
    "        else: \n",
    "            ts, doses = smooth_dose_ts(daily_dose_jan, end_phase3, end_t2, spread=4, end_dose=daily_dose_feb)\n",
    "            N_vacc[:,[5,4,3,2]] = doses[find_nearest_idx(ts, t_num)]/4\n",
    "\n",
    "    elif t2 <= t < t3: # February : care personnel\n",
    "        t_num = (t-t2)/pd.Timedelta('1D')\n",
    "        end_t3 = (t3-t2)/pd.Timedelta('1D')\n",
    "        ts, doses = smooth_dose_ts(daily_dose_feb, 0, end_t3, spread=4, start_dose=daily_dose_jan)\n",
    "        N_vacc[:,[5,4,3,2]] = doses[find_nearest_idx(ts, t_num)]/4\n",
    "         \n",
    "    elif t3 <= t < t4: # March-April : 65+ and risk patients\n",
    "        t_num = (t-t3)/pd.Timedelta('1D')\n",
    "        if VE_states[:,[elder[0]]] > leftover:\n",
    "            ts, doses = smooth_dose_ts_open_end(daily_dose_ma_ap, 0, spread=2)\n",
    "            N_vacc[:,[elder[0]]] = doses[find_nearest_idx(ts, t_num)]\n",
    "            ## One daily dose before all 80+ are vaccinated, start building down\n",
    "            if (VE_states[:,[elder[0]]]-leftover) <= daily_dose_ma_ap:\n",
    "                N_vacc[:,[elder[0]]] = VE_states[:,[elder[0]]]-leftover\n",
    "                \n",
    "                flag = True\n",
    "                N_vacc[:,[elder[1]]],flag = calc_N_vacc(N_vacc, elder[1], elder[0], VE_states, daily_dose_ma_ap, leftover,flag)\n",
    "                N_vacc[:,[elder[2]]],flag = calc_N_vacc(N_vacc, elder[2], elder[1], VE_states, daily_dose_ma_ap, leftover,flag)\n",
    "                N_vacc[:,[order[0]]],flag = calc_N_vacc(N_vacc, order[0], elder[2], VE_states, daily_dose_ma_ap, leftover,flag)\n",
    "                N_vacc[:,[order[1]]],flag = calc_N_vacc(N_vacc, order[1], order[0], VE_states, daily_dose_ma_ap, leftover,flag)\n",
    "                N_vacc[:,[order[2]]],flag = calc_N_vacc(N_vacc, order[2], order[1], VE_states, daily_dose_ma_ap, leftover,flag)          \n",
    "                \n",
    "    else: # May-August : all 18+\n",
    "        \n",
    "        t_num = (t-t4)/pd.Timedelta('1D')\n",
    "        if VE_states[:,[order[0]]] > leftover:\n",
    "            ts, doses = smooth_dose_ts_open_end(daily_dose_may_aug, 0, spread=2)\n",
    "            N_vacc[:,[order[0]]] = doses[find_nearest_idx(ts, t_num)]\n",
    "            ## One daily dose before all 80+ are vaccinated, start building down\n",
    "            if (VE_states[:,[order[0]]]-leftover) <= daily_dose_may_aug:\n",
    "                N_vacc[:,[order[0]]] = VE_states[:,[order[0]]]-leftover  \n",
    "                \n",
    "                flag = True\n",
    "                N_vacc[:,[order[1]]],flag = calc_N_vacc(N_vacc, order[1], order[0], VE_states, daily_dose_may_aug, leftover,flag)\n",
    "                N_vacc[:,[order[2]]],flag = calc_N_vacc(N_vacc, order[2], order[1], VE_states, daily_dose_may_aug, leftover,flag)\n",
    "                N_vacc[:,[order[3]]],flag = calc_N_vacc(N_vacc, order[3], order[2], VE_states, daily_dose_may_aug, leftover,flag)\n",
    "                N_vacc[:,[order[4]]],flag = calc_N_vacc(N_vacc, order[4], order[3], VE_states, daily_dose_may_aug, leftover,flag)\n",
    "                N_vacc[:,[order[5]]],flag = calc_N_vacc(N_vacc, order[5], order[4], VE_states, daily_dose_may_aug, leftover,flag)\n",
    "                N_vacc[:,[order[6]]],flag = calc_N_vacc(N_vacc, order[6], order[5], VE_states, daily_dose_may_aug, leftover,flag)\n",
    "\n",
    "                \n",
    "    return N_vacc.squeeze()"
   ]
  },
  {
   "cell_type": "markdown",
   "metadata": {},
   "source": [
    "# Functions"
   ]
  },
  {
   "cell_type": "code",
   "execution_count": 195,
   "metadata": {
    "ExecuteTime": {
     "end_time": "2021-03-10T08:36:25.891462Z",
     "start_time": "2021-03-10T08:36:25.822713Z"
    }
   },
   "outputs": [],
   "source": [
    " def plot_band_saved_data(ax, df, mean_col, LL_col, UL_col, color, label):\n",
    "    ax.fill_between(df['time'],df[LL_col], df[UL_col],alpha=0.30, facecolor = color)\n",
    "    ax.plot(df['time'], df[mean_col], color=color, label=label, lw=2)\n",
    "    return"
   ]
  },
  {
   "cell_type": "code",
   "execution_count": 196,
   "metadata": {
    "ExecuteTime": {
     "end_time": "2021-03-10T08:36:26.077285Z",
     "start_time": "2021-03-10T08:36:25.993110Z"
    }
   },
   "outputs": [],
   "source": [
    "def plot_band_age(ax, y_model, age_group, var, color, label):\n",
    "    ax.fill_between(pd.to_datetime(y_model['time'].values),y_model[var].quantile(LL,dim=\"draws\").sel(Nc=age_group), \n",
    "                    y_model[var].quantile(UL,dim=\"draws\").sel(Nc=age_group),alpha=0.30, facecolor = color)\n",
    "    ax.plot(y_model['time'],y_model[var].mean(dim=\"draws\").sel(Nc=age_group), color=color, label=label, lw=2)\n",
    "    return"
   ]
  },
  {
   "cell_type": "code",
   "execution_count": 197,
   "metadata": {
    "ExecuteTime": {
     "end_time": "2021-03-10T08:36:26.214931Z",
     "start_time": "2021-03-10T08:36:26.153170Z"
    }
   },
   "outputs": [],
   "source": [
    "def check_overtake_duration(sim, dims):\n",
    "    \"\"\"\n",
    "    sim : data array resulting from simulation\n",
    "    dims : list of dimensions over which to average\n",
    "    \n",
    "    Returns\n",
    "    -------\n",
    "    N_days : number of days before new strain takes over (99%)\n",
    "    \"\"\"\n",
    "    end = sim['alpha'].mean(dim=dims)[sim['alpha'].mean(dim=dims)<0.99]['time'][-1].values\n",
    "    start = sim['alpha'].mean(dim=dims)[sim['alpha'].mean(dim=dims)<0.99]['time'][0].values\n",
    "    \n",
    "    N_days = (pd.to_datetime(end)-pd.to_datetime(start))/pd.Timedelta('1D')\n",
    "    \n",
    "    return N_days"
   ]
  },
  {
   "cell_type": "code",
   "execution_count": 198,
   "metadata": {
    "ExecuteTime": {
     "end_time": "2021-03-10T08:36:26.393759Z",
     "start_time": "2021-03-10T08:36:26.331085Z"
    }
   },
   "outputs": [],
   "source": [
    "def get_date_of_exceeding_alpha(sim, dims, alpha_limit):\n",
    "    \"\"\"\n",
    "    sim : data array resulting from simulation\n",
    "    dims : list of dimensions over which to average\n",
    "    \"\"\"\n",
    "    return pd.Timestamp(sim['alpha'].mean(dim=dims)[sim['alpha'].mean(dim=dims)>alpha_limit]['time'][0].values)"
   ]
  },
  {
   "cell_type": "code",
   "execution_count": 199,
   "metadata": {
    "ExecuteTime": {
     "end_time": "2021-03-10T08:36:26.568243Z",
     "start_time": "2021-03-10T08:36:26.499712Z"
    }
   },
   "outputs": [],
   "source": [
    "def sample_from_binomial(sim_result, variable, n_draws_per_sample, n_samples,\n",
    "                         Y0_new=None):\n",
    "                         #Y0_mean=[], Y0_median=[], Y0_LL=[], Y0_UL=[]):\n",
    "    \"\"\"\n",
    "    Function to sample from binomial, and add the result to an existing list (if given)\n",
    "    \"\"\"\n",
    "    \n",
    "    \n",
    "    Y = sim_result[variable].sum(dim=\"Nc\").values\n",
    "    # Initialize vectors\n",
    "    Y_new = np.zeros((Y.shape[1],n_draws_per_sample*n_samples))\n",
    "    # Loop over dimension draws\n",
    "    for n in range(Y.shape[0]):\n",
    "        binomial_draw = np.random.poisson( np.expand_dims(Y[n,:],axis=1),size = (Y.shape[1],n_draws_per_sample))\n",
    "        Y_new[:,n*n_draws_per_sample:(n+1)*n_draws_per_sample] = binomial_draw\n",
    "    # Compute mean and median\n",
    "    if Y0_new is None:\n",
    "        Y_new = Y_new\n",
    "    else:\n",
    "        Y_new = np.append(Y0_new, Y_new, axis=0)\n",
    "\n",
    "    return Y_new\n",
    "    \n",
    "    "
   ]
  },
  {
   "cell_type": "code",
   "execution_count": 200,
   "metadata": {
    "ExecuteTime": {
     "end_time": "2021-03-10T08:36:26.746321Z",
     "start_time": "2021-03-10T08:36:26.684950Z"
    }
   },
   "outputs": [],
   "source": [
    "def plot_band_binom(ax, time, Y_binom, color, label, axis=1):\n",
    "    ax.fill_between(time, np.quantile(Y_binom, q = LL, axis = axis), \n",
    "                    np.quantile(Y_binom, q = UL, axis = axis),alpha=0.30, facecolor = color)\n",
    "    ax.plot(time,np.mean(Y_binom,axis=axis), color=color, label=label, lw=2, linestyle='--')\n",
    "    return"
   ]
  },
  {
   "cell_type": "code",
   "execution_count": 201,
   "metadata": {
    "ExecuteTime": {
     "end_time": "2021-03-10T08:36:27.220296Z",
     "start_time": "2021-03-10T08:36:27.159302Z"
    }
   },
   "outputs": [],
   "source": [
    "def draw_fcn(param_dict,samples_dict):\n",
    "    # Sample\n",
    "    idx, param_dict['beta'] = random.choice(list(enumerate(samples_dict['beta'])))\n",
    "    param_dict['l'] = samples_dict['l'][idx] \n",
    "    param_dict['tau'] = samples_dict['tau'][idx]    \n",
    "    param_dict['prev_home'] = samples_dict['prev_home'][idx] \n",
    "    param_dict['prev_schools'] = samples_dict['prev_schools'][idx]    \n",
    "    param_dict['prev_work'] = samples_dict['prev_work'][idx]       \n",
    "    param_dict['prev_rest'] = samples_dict['prev_rest'][idx] \n",
    "    #param_dict['K'] = np.random.uniform(infectivity_gain_lower,infectivity_gain_upper)\n",
    "    return param_dict"
   ]
  },
  {
   "cell_type": "code",
   "execution_count": 202,
   "metadata": {
    "ExecuteTime": {
     "end_time": "2021-03-10T08:36:27.594693Z",
     "start_time": "2021-03-10T08:36:27.526470Z"
    }
   },
   "outputs": [],
   "source": [
    "def plot_band(ax, y_model, var, color, label):\n",
    "    ax.fill_between(pd.to_datetime(y_model['time'].values),\n",
    "                    y_model[var].sum(dim=\"Nc\").quantile(LL,dim=\"draws\"), \n",
    "                    y_model[var].sum(dim=\"Nc\").quantile(UL,dim=\"draws\"),alpha=0.30, facecolor = color)\n",
    "    ax.plot(y_model['time'],y_model[var].sum(dim=\"Nc\").mean(dim=\"draws\"), color=color, label=label, lw=2)\n",
    "    return"
   ]
  },
  {
   "cell_type": "markdown",
   "metadata": {},
   "source": [
    "# Time-dep functions"
   ]
  },
  {
   "cell_type": "code",
   "execution_count": 183,
   "metadata": {
    "ExecuteTime": {
     "end_time": "2021-03-10T08:34:11.847359Z",
     "start_time": "2021-03-10T08:34:11.733069Z"
    }
   },
   "outputs": [],
   "source": [
    "from covid19model.models.time_dependant_parameter_fncs import make_contact_matrix_function\n",
    "contact_matrix_4prev, all_contact, all_contact_no_schools = make_contact_matrix_function(df_google, Nc_all)"
   ]
  },
  {
   "cell_type": "code",
   "execution_count": 184,
   "metadata": {
    "ExecuteTime": {
     "end_time": "2021-03-10T08:34:12.080910Z",
     "start_time": "2021-03-10T08:34:11.976086Z"
    }
   },
   "outputs": [],
   "source": [
    "def report7_policy_function(t, states, param, l , tau, prev_home, prev_schools, prev_work, prev_rest,scenario='1'):\n",
    "    \"\"\"\n",
    "    Scenario's:\n",
    "        '1' : current behaviour\n",
    "        '2' : opening March 1\n",
    "        '3' : opening April 1\n",
    "        '4' : opening May 1\n",
    "    \"\"\"\n",
    "    # Convert tau and l to dates\n",
    "    tau_days = pd.Timedelta(tau, unit='D')\n",
    "    l_days = pd.Timedelta(l, unit='D')\n",
    "\n",
    "    # Define key policy dates\n",
    "    t1 = pd.Timestamp('2020-03-15') # start of lockdown\n",
    "    t2 = pd.Timestamp('2020-05-15') # gradual re-opening of schools (assume 50% of nominal scenario)\n",
    "    t3 = pd.Timestamp('2020-07-01') # start of summer: COVID-urgency very low\n",
    "    t4 = pd.Timestamp('2020-08-01')\n",
    "    t5 = pd.Timestamp('2020-09-01') # september: lockdown relaxation narrative in newspapers reduces sense of urgency\n",
    "    t6 = pd.Timestamp('2020-10-19') # lockdown\n",
    "    t7 = pd.Timestamp('2020-11-16') # schools re-open\n",
    "    t8 = pd.Timestamp('2020-12-18') # start Christmas holidays (schools close)\n",
    "    t13 = pd.Timestamp('2020-01-04') # end Christmas holidays (schools open)\n",
    "    #t14 = pd.Timestamp('2021-01-18') # start of alternative policies\n",
    "    t15 = pd.Timestamp('2021-02-15') # Start of Krokus holidays (schools close)\n",
    "    t16 = pd.Timestamp('2021-02-21') # End of Krokus holidays (schools open)\n",
    "    t17 = pd.Timestamp('2021-03-01') # release to SB March 1\n",
    "    t18 = pd.Timestamp('2021-04-01') # release to SB April 1\n",
    "    t19 = pd.Timestamp('2021-04-05') # start Eastern Holidays (schools close)\n",
    "    t20 = pd.Timestamp('2021-04-19') # end Eastern Holidays (schools open)\n",
    "    t21 = pd.Timestamp('2021-05-01') # release to SB May 1\n",
    "\n",
    "    # Average out september mobility\n",
    "\n",
    "    if t5 < t <= t6 + tau_days:\n",
    "        t = pd.Timestamp(t.date())\n",
    "        return contact_matrix_4prev(t, school=1)\n",
    "    elif t6 + tau_days < t <= t6 + tau_days + l_days:\n",
    "        t = pd.Timestamp(t.date())\n",
    "        policy_old = contact_matrix_4prev(t, school=1)\n",
    "        policy_new = contact_matrix_4prev(t, prev_home, prev_schools, prev_work, prev_rest, \n",
    "                                    school=0)\n",
    "        return ramp_fun(policy_old, policy_new, t, tau_days, l, t6)\n",
    "    elif t6 + tau_days + l_days < t <= t7:\n",
    "        t = pd.Timestamp(t.date())\n",
    "        return contact_matrix_4prev(t, prev_home, prev_schools, prev_work, prev_rest, \n",
    "                              school=0)\n",
    "    elif t7 < t <= t8:\n",
    "        t = pd.Timestamp(t.date())\n",
    "        return contact_matrix_4prev(t, prev_home, prev_schools, prev_work, prev_rest, \n",
    "                              school=1)\n",
    "    elif t8 < t <= t13:\n",
    "        t = pd.Timestamp(t.date())\n",
    "        return contact_matrix_4prev(t, prev_home, prev_schools, prev_work, prev_rest, \n",
    "                              school=0)\n",
    "    elif t13 < t <= t15:\n",
    "        t = pd.Timestamp(t.date())\n",
    "        return contact_matrix_4prev(t, prev_home, prev_schools, prev_work, prev_rest, \n",
    "                        school=0.6)\n",
    "    elif t15 < t <= t16:\n",
    "        t = pd.Timestamp(t.date())\n",
    "        return contact_matrix_4prev(t, prev_home, prev_schools, prev_work, prev_rest, \n",
    "                        school=0)    \n",
    "    else:\n",
    "        # Scenario 1: Current contact behaviour\n",
    "        if scenario == '1':\n",
    "            if t16 < t <= t19:\n",
    "                t = pd.Timestamp(t.date())\n",
    "                return contact_matrix_4prev(t, prev_home, prev_schools, prev_work, prev_rest, \n",
    "                                school=0.6)\n",
    "            elif t19 < t <= t20:\n",
    "                t = pd.Timestamp(t.date())\n",
    "                return contact_matrix_4prev(t, prev_home, prev_schools, prev_work, prev_rest, \n",
    "                                school=0)\n",
    "            elif t20 < t:\n",
    "                t = pd.Timestamp(t.date())\n",
    "                return contact_matrix_4prev(t, prev_home, prev_schools, prev_work, prev_rest, \n",
    "                                school=0.6)\n",
    "            else:\n",
    "                raise Exception ('scenario '+scenario+' t:'+str(t))\n",
    "                    \n",
    "        # Scenario 2: increases in work or leisure mobility on March 1\n",
    "        elif scenario == '2':\n",
    "            if t16 < t <= t17:\n",
    "                t = pd.Timestamp(t.date())\n",
    "                return contact_matrix_4prev(t, prev_home, prev_schools, prev_work, prev_rest, \n",
    "                                school=0.6)  \n",
    "            elif t17 < t <= t19:\n",
    "                t = pd.Timestamp(t.date())\n",
    "                return contact_matrix_4prev(t, 1, 1, 1, 1, \n",
    "                                school=0.6,SB='2a')\n",
    "            elif t19 < t <= t20:\n",
    "                t = pd.Timestamp(t.date())\n",
    "                return contact_matrix_4prev(t, 1, 1, 1, 1, \n",
    "                                school=0,SB='2a')\n",
    "            elif t20 < t:\n",
    "                t = pd.Timestamp(t.date())\n",
    "                return contact_matrix_4prev(t, 1, 1, 1, 1, \n",
    "                                school=0.6,SB='2a')\n",
    "            else:\n",
    "                raise Exception ('scenario '+scenario+' t:'+str(t))\n",
    "        # Scenario 3: increases in work or leisure mobility on April 1\n",
    "        elif scenario == '3':\n",
    "            if t16 < t <= t18:\n",
    "                t = pd.Timestamp(t.date())\n",
    "                return contact_matrix_4prev(t, prev_home, prev_schools, prev_work, prev_rest, \n",
    "                                school=0.6)  \n",
    "            elif t18 < t <= t19:\n",
    "                t = pd.Timestamp(t.date())\n",
    "                return contact_matrix_4prev(t, 1, 1, 1, 1, \n",
    "                                school=0.6,SB='2a')\n",
    "            elif t19 < t <= t20:\n",
    "                t = pd.Timestamp(t.date())\n",
    "                return contact_matrix_4prev(t, 1, 1, 1, 1, \n",
    "                                school=0,SB='2a')\n",
    "            elif t20 < t:\n",
    "                t = pd.Timestamp(t.date())\n",
    "                return contact_matrix_4prev(t, 1, 1, 1, 1, \n",
    "                                school=0.6,SB='2a')\n",
    "            \n",
    "            else:\n",
    "                raise Exception ('scenario '+scenario+' t:'+str(t))\n",
    "        # Scenario 4: increases in work or leisure mobility on May 1\n",
    "        elif scenario == '4':\n",
    "            \n",
    "            if t16 < t <= t19:\n",
    "                t = pd.Timestamp(t.date())\n",
    "                return contact_matrix_4prev(t, prev_home, prev_schools, prev_work, prev_rest, \n",
    "                                school=0.6)  \n",
    "            elif t19 < t <= t20:\n",
    "                t = pd.Timestamp(t.date())\n",
    "                return contact_matrix_4prev(t, prev_home, prev_schools, prev_work, prev_rest, \n",
    "                                school=0)  \n",
    "            elif t20 < t <= t21:\n",
    "                t = pd.Timestamp(t.date())\n",
    "                return contact_matrix_4prev(t, prev_home, prev_schools, prev_work, prev_rest, \n",
    "                                school=0.6) \n",
    "            elif t > t21:\n",
    "                t = pd.Timestamp(t.date())\n",
    "                return contact_matrix_4prev(t, 1, 1, 1, 1, \n",
    "                                school=0.6,SB='2a')\n",
    "            else:\n",
    "                raise Exception ('scenario '+scenario+' t:'+str(t))\n",
    "        else:\n",
    "            raise Exception ('scenario '+scenario+' non-existing')"
   ]
  },
  {
   "cell_type": "code",
   "execution_count": 186,
   "metadata": {
    "ExecuteTime": {
     "end_time": "2021-03-10T08:35:13.303490Z",
     "start_time": "2021-03-10T08:35:13.257219Z"
    }
   },
   "outputs": [],
   "source": [
    "def vaccin_model(initial_states, scenario, order=None, elder=None, effectivity=None, injection_day=0, injection_ratio=0,\n",
    "                 Nc_fun=None, N_vacc_fun=vacc_strategy, levels=levels):\n",
    "    \"\"\"\n",
    "    Function to initialize the model given a certain vaccination strategy\n",
    "    \"\"\"\n",
    "    params = model_parameters.get_COVID19_SEIRD_parameters()\n",
    "    params.update({\n",
    "            'l' : 5,\n",
    "            'tau' : 5,\n",
    "            'prev_home': 0.5,\n",
    "            'prev_schools': 0.5,\n",
    "            'prev_work': 0.5,\n",
    "            'prev_rest': 0.5,\n",
    "            'scenario': scenario,\n",
    "            'injection_day' : injection_day,\n",
    "            'injection_ratio' : injection_ratio\n",
    "                  })\n",
    "    \n",
    "    tdp = {}\n",
    "    \n",
    "    if Nc_fun is not None:\n",
    "        tdp.update({'Nc': Nc_fun})\n",
    "    if N_vacc_fun is not None:\n",
    "        tdp.update({'N_vacc':N_vacc_fun})\n",
    "        params.update({\n",
    "            'd' : d,\n",
    "            'NH' : NH,\n",
    "            'e' : np.array([effectivity]*levels),\n",
    "            'order': order,\n",
    "            'elder': elder\n",
    "        })\n",
    "    return models.COVID19_SEIRD(initial_states, params, time_dependent_parameters=tdp)"
   ]
  },
  {
   "cell_type": "markdown",
   "metadata": {
    "heading_collapsed": true
   },
   "source": [
    "# Test model"
   ]
  },
  {
   "cell_type": "code",
   "execution_count": null,
   "metadata": {
    "ExecuteTime": {
     "end_time": "2021-02-24T15:49:00.384520Z",
     "start_time": "2021-02-24T15:49:00.345089Z"
    },
    "hidden": true
   },
   "outputs": [],
   "source": [
    "# Need to initiate I also with the co-infection model, otherwise divison by zero occurs\n",
    "initial_states = {'S': initN, 'E': np.ones(levels), 'I': np.ones(levels), 'alpha':np.zeros(9)}"
   ]
  },
  {
   "cell_type": "code",
   "execution_count": null,
   "metadata": {
    "ExecuteTime": {
     "end_time": "2021-02-25T06:36:54.889390Z",
     "start_time": "2021-02-25T06:36:54.444851Z"
    },
    "hidden": true
   },
   "outputs": [],
   "source": [
    "params = model_parameters.get_COVID19_SEIRD_parameters()\n",
    "dummy_model_no_vacc = models.COVID19_SEIRD(initial_states, params)\n",
    "sim_dummy_model_no_vacc = dummy_model_no_vacc.sim(time=end_sim, start_date=start_calibration)"
   ]
  },
  {
   "cell_type": "markdown",
   "metadata": {
    "heading_collapsed": true
   },
   "source": [
    "# Test vacc strategy"
   ]
  },
  {
   "cell_type": "code",
   "execution_count": null,
   "metadata": {
    "ExecuteTime": {
     "end_time": "2021-03-03T07:48:14.120595Z",
     "start_time": "2021-03-03T07:48:14.066915Z"
    },
    "hidden": true
   },
   "outputs": [],
   "source": [
    "end_sim = '2021-09-01'"
   ]
  },
  {
   "cell_type": "code",
   "execution_count": null,
   "metadata": {
    "ExecuteTime": {
     "end_time": "2021-03-03T07:29:52.962971Z",
     "start_time": "2021-03-03T07:29:37.561021Z"
    },
    "hidden": true
   },
   "outputs": [],
   "source": [
    "%%snakeviz\n",
    "params = model_parameters.get_COVID19_SEIRD_parameters()\n",
    "params.update({'d' : d,\n",
    "               'NH' : NH,\n",
    "               'e' : np.array([0.9]*levels),\n",
    "              'order':[6,5,4,3,2]})\n",
    "dummy_model_vacc = models.COVID19_SEIRD(initial_states_sept, params, time_dependent_parameters={'N_vacc': vacc_strategy_70})\n",
    "sim_dummy_model_vacc = dummy_model_vacc.sim(time=end_sim, start_date=start_calibration)"
   ]
  },
  {
   "cell_type": "code",
   "execution_count": null,
   "metadata": {
    "hidden": true
   },
   "outputs": [],
   "source": []
  },
  {
   "cell_type": "code",
   "execution_count": null,
   "metadata": {
    "ExecuteTime": {
     "end_time": "2021-03-03T09:12:50.282204Z",
     "start_time": "2021-03-03T09:11:53.578476Z"
    },
    "hidden": true,
    "scrolled": true
   },
   "outputs": [],
   "source": [
    "%%timeit ## default method / vacc_strategy70\n",
    "params = model_parameters.get_COVID19_SEIRD_parameters()\n",
    "params.update({'d' : d,\n",
    "               'NH' : NH,\n",
    "               'e' : np.array([0.9]*levels),\n",
    "              'order':[6,5,4,3,2]})\n",
    "dummy_model_vacc = models.COVID19_SEIRD(initial_states_sept, params, time_dependent_parameters={'N_vacc': vacc_strategy_70})\n",
    "sim_dummy_model_vacc = dummy_model_vacc.sim(time=end_sim, start_date=start_calibration)"
   ]
  },
  {
   "cell_type": "code",
   "execution_count": null,
   "metadata": {
    "ExecuteTime": {
     "end_time": "2021-03-03T10:02:59.904630Z",
     "start_time": "2021-03-03T10:00:00.193128Z"
    },
    "hidden": true,
    "scrolled": true
   },
   "outputs": [],
   "source": [
    "%%timeit ## default method / vacc_stragey\n",
    "params = model_parameters.get_COVID19_SEIRD_parameters()\n",
    "params.update({'d' : d,\n",
    "               'NH' : NH,\n",
    "               'e' : np.array([0.9]*levels),\n",
    "              'order':None})\n",
    "dummy_model_vacc = models.COVID19_SEIRD(initial_states_sept, params, time_dependent_parameters={'N_vacc': vacc_strategy})\n",
    "sim_dummy_model_vacc = dummy_model_vacc.sim(time=end_sim, start_date=start_calibration)"
   ]
  },
  {
   "cell_type": "code",
   "execution_count": null,
   "metadata": {
    "ExecuteTime": {
     "end_time": "2021-03-03T11:53:44.041340Z",
     "start_time": "2021-03-03T11:53:32.077657Z"
    },
    "hidden": true,
    "scrolled": true
   },
   "outputs": [],
   "source": [
    "%%snakeviz ## default method / vacc_strategy7_prev\n",
    "#params = model_parameters.get_COVID19_SEIRD_parameters()\n",
    "params.update({'d' : d,\n",
    "               'NH' : NH,\n",
    "               'e' : np.array([0.9]*levels),\n",
    "              'order':[6,5,4,3,2]})\n",
    "dummy_model_vacc = models.COVID19_SEIRD(initial_states_sept, params, time_dependent_parameters={'N_vacc': vacc_strategy_70})\n",
    "sim_dummy_model_vacc = dummy_model_vacc.sim(time=end_sim, start_date=start_calibration)"
   ]
  },
  {
   "cell_type": "code",
   "execution_count": null,
   "metadata": {
    "ExecuteTime": {
     "end_time": "2021-03-03T11:52:46.504658Z",
     "start_time": "2021-03-03T11:52:41.894975Z"
    },
    "hidden": true
   },
   "outputs": [],
   "source": [
    "%%snakeviz ## default method / vacc_strategy7\n",
    "#params = model_parameters.get_COVID19_SEIRD_parameters()\n",
    "params.update({'d' : d,\n",
    "               'NH' : NH,\n",
    "               'e' : np.array([0.9]*levels),\n",
    "              'order':[6,5,4,3,2]})\n",
    "dummy_model_vacc = models.COVID19_SEIRD(initial_states_sept, params, time_dependent_parameters={'N_vacc': vacc_strategy_prev})\n",
    "sim_dummy_model_vacc = dummy_model_vacc.sim(time=end_sim, start_date=start_calibration)"
   ]
  },
  {
   "cell_type": "markdown",
   "metadata": {
    "ExecuteTime": {
     "end_time": "2021-03-03T10:14:25.467682Z",
     "start_time": "2021-03-03T10:14:25.412240Z"
    },
    "hidden": true
   },
   "source": [
    "default method (op vacc_strategy_70): 7s per loop\n",
    "\n",
    "default method (op vacc_strategy): 22s per loop\n",
    "\n",
    "default method (op vacc_strategy_prev): 1s per loop\n",
    "\n",
    "\n",
    "Radau method: duurt langer dan 5 min\n",
    "\n",
    "BDF: idem\n",
    "\n",
    "LSODA zonder min_step: blijft eeuwig hangen op t=38.44...\n",
    "\n",
    "LSODA met min_step = 0.01: snel (320 ms), maar stopt op t=30.004 (ook bij vaccinatie strategie voorheen verandering)"
   ]
  },
  {
   "cell_type": "code",
   "execution_count": null,
   "metadata": {
    "ExecuteTime": {
     "end_time": "2021-03-03T15:21:53.726224Z",
     "start_time": "2021-03-03T15:20:58.018547Z"
    },
    "hidden": true,
    "scrolled": true
   },
   "outputs": [],
   "source": [
    "%%timeit ## default\n",
    "params = model_parameters.get_COVID19_SEIRD_parameters()\n",
    "params.update({'d' : d,\n",
    "               'NH' : NH,\n",
    "               'e' : np.array([0.9]*levels),\n",
    "              'order':[6,5,4,3,2]})\n",
    "dummy_model_vacc = models.COVID19_SEIRD(initial_states_sept, params, time_dependent_parameters={'N_vacc': vacc_strategy_70})\n",
    "sim_dummy_model_vacc = dummy_model_vacc.sim(time=end_sim, start_date=start_calibration)"
   ]
  },
  {
   "cell_type": "code",
   "execution_count": null,
   "metadata": {
    "ExecuteTime": {
     "end_time": "2021-03-03T10:03:31.815758Z",
     "start_time": "2021-03-03T10:03:31.688273Z"
    },
    "hidden": true,
    "scrolled": true
   },
   "outputs": [],
   "source": [
    "sim_dummy_model_vacc"
   ]
  },
  {
   "cell_type": "code",
   "execution_count": null,
   "metadata": {
    "ExecuteTime": {
     "end_time": "2021-03-03T11:49:21.272349Z",
     "start_time": "2021-03-03T11:49:21.080550Z"
    },
    "hidden": true
   },
   "outputs": [],
   "source": [
    "population_status(sim_dummy_model_vacc)"
   ]
  },
  {
   "cell_type": "code",
   "execution_count": null,
   "metadata": {
    "ExecuteTime": {
     "end_time": "2021-03-03T07:36:49.201065Z",
     "start_time": "2021-03-03T07:35:51.810251Z"
    },
    "hidden": true,
    "scrolled": false
   },
   "outputs": [],
   "source": [
    "%%timeit #default\n",
    "params = model_parameters.get_COVID19_SEIRD_parameters()\n",
    "params.update({'d' : d,\n",
    "               'NH' : NH,\n",
    "               'e' : np.array([0.9]*levels),\n",
    "              'order':[6,5,4,3,2]})\n",
    "dummy_model_vacc = models.COVID19_SEIRD(initial_states_sept, params, time_dependent_parameters={'N_vacc': vacc_strategy_70})\n",
    "sim_dummy_model_vacc = dummy_model_vacc.sim(time=end_sim, start_date=start_calibration)"
   ]
  },
  {
   "cell_type": "code",
   "execution_count": null,
   "metadata": {
    "ExecuteTime": {
     "end_time": "2021-03-03T07:36:49.201065Z",
     "start_time": "2021-03-03T07:35:51.810251Z"
    },
    "hidden": true,
    "scrolled": false
   },
   "outputs": [],
   "source": [
    "%%timeit #default\n",
    "params = model_parameters.get_COVID19_SEIRD_parameters()\n",
    "params.update({'d' : d,\n",
    "               'NH' : NH,\n",
    "               'e' : np.array([0.9]*levels),\n",
    "              'order':[6,5,4,3,2]})\n",
    "dummy_model_vacc = models.COVID19_SEIRD(initial_states_sept, params, time_dependent_parameters={'N_vacc': vacc_strategy_70})\n",
    "sim_dummy_model_vacc = dummy_model_vacc.sim(time=end_sim, start_date=start_calibration)"
   ]
  },
  {
   "cell_type": "code",
   "execution_count": null,
   "metadata": {
    "hidden": true
   },
   "outputs": [],
   "source": []
  },
  {
   "cell_type": "code",
   "execution_count": null,
   "metadata": {
    "hidden": true
   },
   "outputs": [],
   "source": []
  },
  {
   "cell_type": "markdown",
   "metadata": {
    "heading_collapsed": true
   },
   "source": [
    "# Test UK injection"
   ]
  },
  {
   "cell_type": "code",
   "execution_count": null,
   "metadata": {
    "ExecuteTime": {
     "end_time": "2021-02-10T15:22:49.614655Z",
     "start_time": "2021-02-10T15:22:48.756818Z"
    },
    "hidden": true
   },
   "outputs": [],
   "source": [
    "injection_day = (pd.Timestamp('2021-01-01') - pd.Timestamp(start_calibration))/pd.Timedelta('1D')\n",
    "params = model_parameters.get_COVID19_SEIRD_parameters()\n",
    "params.update({'d' : d,\n",
    "               'NH' : NH,\n",
    "               'e' : np.array([0.9]*levels),\n",
    "               'K' : 1.6,\n",
    "               'initN' : initN[np.newaxis],\n",
    "               'injection_day': injection_day,\n",
    "               'injection_ratio':0.1,\n",
    "              })\n",
    "\n",
    "dummy_model_vacc_UK = models.COVID19_SEIRD(initial_states, params, time_dependent_parameters={'N_vacc': vacc_strategy})\n",
    "sim_dummy_model_vacc_UK = dummy_model_vacc_UK.sim(time=end_sim, start_date=start_calibration)"
   ]
  },
  {
   "cell_type": "code",
   "execution_count": null,
   "metadata": {
    "ExecuteTime": {
     "end_time": "2021-02-04T14:48:17.563579Z",
     "start_time": "2021-02-04T14:48:16.512345Z"
    },
    "hidden": true
   },
   "outputs": [],
   "source": [
    "fig,ax = plt.subplots(figsize=(11,5))\n",
    "ax.plot('date', 'N_cum', data=test_df, c='black')\n",
    "ax2 = ax.twinx()\n",
    "ax2.plot('date', 'N_vacc', data=test_df, c='gray', linestyle='--')\n",
    "ax.set_ylabel('Total number of people vaccinated')\n",
    "ax2.set_ylabel('Number of people vaccinated daily')\n",
    "ax.grid(False)\n",
    "ax2.grid(False)\n",
    "ax.set_xlabel('Time')\n",
    "ax.set_ylim(0,)\n",
    "ax2.set_ylim(0,)\n",
    "ax2.set_axis_on()\n",
    "yticks = [2,4,6,8]\n",
    "ax.set_yticks([0]+[i*10**6 for i in yticks])\n",
    "ax.set_yticklabels(['0']+[str(i)+'*10$^6$' for i in yticks])\n",
    "yticks2 = [2,4,6]\n",
    "ax2.set_yticks([0]+[i*10**4 for i in yticks2])\n",
    "ax2.set_yticklabels(['0']+[str(i)+'*10$^4$' for i in yticks2])\n",
    "fig.savefig('../../results/predictions/national/restore_v7.0/vacc_strategy', dpi=400)"
   ]
  },
  {
   "cell_type": "code",
   "execution_count": null,
   "metadata": {
    "ExecuteTime": {
     "end_time": "2021-01-25T07:50:42.993565Z",
     "start_time": "2021-01-25T07:50:42.949539Z"
    },
    "hidden": true
   },
   "outputs": [],
   "source": [
    "N = d['jan']/2*31+d['feb']/2*28+d['mar-apr']/2*(31+30)+d['may-aug']/2*(31+30)\n",
    "print('Approximate total number of vaccinations by august 1: {}'.format(N))\n",
    "#pd.to_datetime(end_sim) - pd.to_datetime(start_calibration)\n",
    "V_pool_aug = sim_dummy_model_vacc['V'].sum(dim='Nc').values[-1]\n",
    "print('Number of persons in vaccinated pool by end of simulation: {}'.format(V_pool_aug))\n",
    "V_new_sum = sim_dummy_model_vacc['V_new'].sum(dim='Nc').sum(dim='time').values\n",
    "print('Total number of people vaccinated by end of simulation: {}'.format(V_new_sum))"
   ]
  },
  {
   "cell_type": "code",
   "execution_count": null,
   "metadata": {
    "ExecuteTime": {
     "end_time": "2021-02-03T08:35:43.270898Z",
     "start_time": "2021-02-03T08:35:43.088811Z"
    },
    "hidden": true
   },
   "outputs": [],
   "source": [
    "population_status(sim_dummy_model_no_vacc)"
   ]
  },
  {
   "cell_type": "code",
   "execution_count": null,
   "metadata": {
    "ExecuteTime": {
     "end_time": "2021-02-03T08:35:48.462941Z",
     "start_time": "2021-02-03T08:35:48.320619Z"
    },
    "hidden": true
   },
   "outputs": [],
   "source": [
    "population_status(sim_dummy_model_vacc)"
   ]
  },
  {
   "cell_type": "code",
   "execution_count": null,
   "metadata": {
    "ExecuteTime": {
     "end_time": "2021-02-03T08:35:52.207649Z",
     "start_time": "2021-02-03T08:35:52.060325Z"
    },
    "hidden": true
   },
   "outputs": [],
   "source": [
    "population_status(sim_dummy_model_vacc_UK)"
   ]
  },
  {
   "cell_type": "code",
   "execution_count": null,
   "metadata": {
    "ExecuteTime": {
     "end_time": "2021-02-03T12:29:46.340982Z",
     "start_time": "2021-02-03T12:29:46.157315Z"
    },
    "hidden": true
   },
   "outputs": [],
   "source": [
    "population_status(sim_dummy_model_vacc_UK)"
   ]
  },
  {
   "cell_type": "code",
   "execution_count": null,
   "metadata": {
    "ExecuteTime": {
     "end_time": "2021-01-22T11:36:23.480169Z",
     "start_time": "2021-01-22T11:36:23.261684Z"
    },
    "hidden": true
   },
   "outputs": [],
   "source": [
    "# check evolutie van alpha\n",
    "fig,ax = plt.subplots()\n",
    "sim_dummy_model_vacc_UK['alpha'].mean(dim='Nc').plot(ax=ax)"
   ]
  },
  {
   "cell_type": "code",
   "execution_count": null,
   "metadata": {
    "ExecuteTime": {
     "end_time": "2021-01-25T09:12:46.338422Z",
     "start_time": "2021-01-25T09:12:46.295280Z"
    },
    "hidden": true
   },
   "outputs": [],
   "source": [
    "N_days = check_overtake_duration(sim_dummy_model_vacc_UK, dims='Nc')\n",
    "N_days"
   ]
  },
  {
   "cell_type": "markdown",
   "metadata": {
    "hidden": true
   },
   "source": [
    "duurt altijd ong. 100 dagen..., onafhankelijk van hoeveel je initialiseert. Ws omdat in deze test het virus nog niet verspreid is (en iedereen susceptible), dus de verspreiding wordt direct volledig overgenomen door besmettelijke variant."
   ]
  },
  {
   "cell_type": "markdown",
   "metadata": {},
   "source": [
    "# Verify vaccination function"
   ]
  },
  {
   "cell_type": "code",
   "execution_count": null,
   "metadata": {
    "ExecuteTime": {
     "end_time": "2021-03-04T07:53:37.857480Z",
     "start_time": "2021-03-04T07:53:37.780762Z"
    }
   },
   "outputs": [],
   "source": [
    "timerange = pd.date_range(start_calibration,'2021-09-01')"
   ]
  },
  {
   "cell_type": "markdown",
   "metadata": {
    "heading_collapsed": true
   },
   "source": [
    "## Overall"
   ]
  },
  {
   "cell_type": "code",
   "execution_count": null,
   "metadata": {
    "ExecuteTime": {
     "end_time": "2021-02-25T08:57:29.513749Z",
     "start_time": "2021-02-25T08:57:29.414422Z"
    },
    "hidden": true
   },
   "outputs": [],
   "source": [
    "test_dict = {}\n",
    "for t in timerange:\n",
    "    test_dict[t] = np.sum(vacc_strategy(t=t, states=initial_states_sept, param=None, d=d, NH=NH))\n",
    "test_df = pd.DataFrame.from_dict(test_dict, orient='index').reset_index()\n",
    "test_df.columns = ['date','N_vacc']\n",
    "test_df['N_cum'] = test_df.N_vacc.cumsum()"
   ]
  },
  {
   "cell_type": "code",
   "execution_count": null,
   "metadata": {
    "ExecuteTime": {
     "end_time": "2021-02-25T08:57:29.800307Z",
     "start_time": "2021-02-25T08:57:29.612698Z"
    },
    "hidden": true,
    "scrolled": false
   },
   "outputs": [],
   "source": [
    "fig,ax = plt.subplots()\n",
    "sim_dummy_model_vacc['VE'].plot.line(ax=ax, x='time')"
   ]
  },
  {
   "cell_type": "code",
   "execution_count": null,
   "metadata": {
    "ExecuteTime": {
     "end_time": "2021-02-25T08:57:32.640408Z",
     "start_time": "2021-02-25T08:57:32.510102Z"
    },
    "hidden": true
   },
   "outputs": [],
   "source": [
    "fig,ax = plt.subplots(figsize=(9,5))\n",
    "ax.plot('date', 'N_vacc', data=test_df, c='green', label='time-dep function')\n",
    "ax.plot(sim_dummy_model_vacc['time'], sim_dummy_model_vacc['V_new'].sum(dim='Nc'), c='blue', linestyle='--', label='model')\n",
    "ax.legend()\n",
    "ax.set_ylabel('Daily vaccination number')"
   ]
  },
  {
   "cell_type": "markdown",
   "metadata": {},
   "source": [
    "## Per age group"
   ]
  },
  {
   "cell_type": "markdown",
   "metadata": {},
   "source": [
    "**Note: in test_df, the used states remain initial_states on every timestep, instead of the real model state at every timestep, so results will never fully correspond with the model.**"
   ]
  },
  {
   "cell_type": "code",
   "execution_count": 20,
   "metadata": {
    "ExecuteTime": {
     "end_time": "2021-03-10T07:15:48.418322Z",
     "start_time": "2021-03-10T07:15:48.345417Z"
    }
   },
   "outputs": [],
   "source": [
    "age_groups = [str(x) for x in range(9)]"
   ]
  },
  {
   "cell_type": "code",
   "execution_count": null,
   "metadata": {
    "ExecuteTime": {
     "end_time": "2021-03-04T14:56:56.044913Z",
     "start_time": "2021-03-04T14:56:56.003027Z"
    },
    "scrolled": false
   },
   "outputs": [],
   "source": [
    "# test_df = pd.DataFrame(columns=['date'] + age_groups)\n",
    "# test_df['date'] = timerange\n",
    "# test_df = test_df.set_index('date')\n",
    "# for t in timerange:\n",
    "#     for i in age_groups:\n",
    "#         test_df.loc[t,i] = vacc_strategy_prev(t=t, states=initial_states_sept, param=None, d=d, NH=NH, order=order)[int(i)]\n",
    "# test_df = test_df.reset_index()"
   ]
  },
  {
   "cell_type": "code",
   "execution_count": 171,
   "metadata": {
    "ExecuteTime": {
     "end_time": "2021-03-10T08:30:52.150604Z",
     "start_time": "2021-03-10T08:30:52.111182Z"
    }
   },
   "outputs": [],
   "source": [
    "end_sim = '2021-12-01'"
   ]
  },
  {
   "cell_type": "code",
   "execution_count": 255,
   "metadata": {
    "ExecuteTime": {
     "end_time": "2021-03-10T11:58:03.832708Z",
     "start_time": "2021-03-10T11:58:01.681006Z"
    },
    "scrolled": true
   },
   "outputs": [],
   "source": [
    "params = model_parameters.get_COVID19_SEIRD_parameters()\n",
    "params.update({'d' : d,\n",
    "               'NH' : NH,\n",
    "               'e' : np.array([0.9]*levels),\n",
    "               'order':[6,4,3,2,1,0,0],\n",
    "               'elder':[8,7,6]})\n",
    "dummy_model_vacc = models.COVID19_SEIRD(initial_states_sept, params, time_dependent_parameters={'N_vacc': vacc_strategy})\n",
    "sim_dummy_model_vacc = dummy_model_vacc.sim(time=end_sim, start_date=start_calibration)"
   ]
  },
  {
   "cell_type": "code",
   "execution_count": 256,
   "metadata": {
    "ExecuteTime": {
     "end_time": "2021-03-10T11:58:04.316414Z",
     "start_time": "2021-03-10T11:58:04.223730Z"
    }
   },
   "outputs": [],
   "source": [
    "out_single = sim_dummy_model_vacc\n",
    "#out_single = out_S2b#.sel(draws=1)"
   ]
  },
  {
   "cell_type": "code",
   "execution_count": 257,
   "metadata": {
    "ExecuteTime": {
     "end_time": "2021-03-10T11:58:04.406681Z",
     "start_time": "2021-03-10T11:58:04.323017Z"
    }
   },
   "outputs": [],
   "source": [
    "start_fig = '2021-01-01'"
   ]
  },
  {
   "cell_type": "code",
   "execution_count": 258,
   "metadata": {
    "ExecuteTime": {
     "end_time": "2021-03-10T11:58:05.760464Z",
     "start_time": "2021-03-10T11:58:05.158053Z"
    },
    "scrolled": false
   },
   "outputs": [
    {
     "data": {
      "application/javascript": [
       "/* Put everything inside the global mpl namespace */\n",
       "window.mpl = {};\n",
       "\n",
       "\n",
       "mpl.get_websocket_type = function() {\n",
       "    if (typeof(WebSocket) !== 'undefined') {\n",
       "        return WebSocket;\n",
       "    } else if (typeof(MozWebSocket) !== 'undefined') {\n",
       "        return MozWebSocket;\n",
       "    } else {\n",
       "        alert('Your browser does not have WebSocket support. ' +\n",
       "              'Please try Chrome, Safari or Firefox ≥ 6. ' +\n",
       "              'Firefox 4 and 5 are also supported but you ' +\n",
       "              'have to enable WebSockets in about:config.');\n",
       "    };\n",
       "}\n",
       "\n",
       "mpl.figure = function(figure_id, websocket, ondownload, parent_element) {\n",
       "    this.id = figure_id;\n",
       "\n",
       "    this.ws = websocket;\n",
       "\n",
       "    this.supports_binary = (this.ws.binaryType != undefined);\n",
       "\n",
       "    if (!this.supports_binary) {\n",
       "        var warnings = document.getElementById(\"mpl-warnings\");\n",
       "        if (warnings) {\n",
       "            warnings.style.display = 'block';\n",
       "            warnings.textContent = (\n",
       "                \"This browser does not support binary websocket messages. \" +\n",
       "                    \"Performance may be slow.\");\n",
       "        }\n",
       "    }\n",
       "\n",
       "    this.imageObj = new Image();\n",
       "\n",
       "    this.context = undefined;\n",
       "    this.message = undefined;\n",
       "    this.canvas = undefined;\n",
       "    this.rubberband_canvas = undefined;\n",
       "    this.rubberband_context = undefined;\n",
       "    this.format_dropdown = undefined;\n",
       "\n",
       "    this.image_mode = 'full';\n",
       "\n",
       "    this.root = $('<div/>');\n",
       "    this._root_extra_style(this.root)\n",
       "    this.root.attr('style', 'display: inline-block');\n",
       "\n",
       "    $(parent_element).append(this.root);\n",
       "\n",
       "    this._init_header(this);\n",
       "    this._init_canvas(this);\n",
       "    this._init_toolbar(this);\n",
       "\n",
       "    var fig = this;\n",
       "\n",
       "    this.waiting = false;\n",
       "\n",
       "    this.ws.onopen =  function () {\n",
       "            fig.send_message(\"supports_binary\", {value: fig.supports_binary});\n",
       "            fig.send_message(\"send_image_mode\", {});\n",
       "            if (mpl.ratio != 1) {\n",
       "                fig.send_message(\"set_dpi_ratio\", {'dpi_ratio': mpl.ratio});\n",
       "            }\n",
       "            fig.send_message(\"refresh\", {});\n",
       "        }\n",
       "\n",
       "    this.imageObj.onload = function() {\n",
       "            if (fig.image_mode == 'full') {\n",
       "                // Full images could contain transparency (where diff images\n",
       "                // almost always do), so we need to clear the canvas so that\n",
       "                // there is no ghosting.\n",
       "                fig.context.clearRect(0, 0, fig.canvas.width, fig.canvas.height);\n",
       "            }\n",
       "            fig.context.drawImage(fig.imageObj, 0, 0);\n",
       "        };\n",
       "\n",
       "    this.imageObj.onunload = function() {\n",
       "        fig.ws.close();\n",
       "    }\n",
       "\n",
       "    this.ws.onmessage = this._make_on_message_function(this);\n",
       "\n",
       "    this.ondownload = ondownload;\n",
       "}\n",
       "\n",
       "mpl.figure.prototype._init_header = function() {\n",
       "    var titlebar = $(\n",
       "        '<div class=\"ui-dialog-titlebar ui-widget-header ui-corner-all ' +\n",
       "        'ui-helper-clearfix\"/>');\n",
       "    var titletext = $(\n",
       "        '<div class=\"ui-dialog-title\" style=\"width: 100%; ' +\n",
       "        'text-align: center; padding: 3px;\"/>');\n",
       "    titlebar.append(titletext)\n",
       "    this.root.append(titlebar);\n",
       "    this.header = titletext[0];\n",
       "}\n",
       "\n",
       "\n",
       "\n",
       "mpl.figure.prototype._canvas_extra_style = function(canvas_div) {\n",
       "\n",
       "}\n",
       "\n",
       "\n",
       "mpl.figure.prototype._root_extra_style = function(canvas_div) {\n",
       "\n",
       "}\n",
       "\n",
       "mpl.figure.prototype._init_canvas = function() {\n",
       "    var fig = this;\n",
       "\n",
       "    var canvas_div = $('<div/>');\n",
       "\n",
       "    canvas_div.attr('style', 'position: relative; clear: both; outline: 0');\n",
       "\n",
       "    function canvas_keyboard_event(event) {\n",
       "        return fig.key_event(event, event['data']);\n",
       "    }\n",
       "\n",
       "    canvas_div.keydown('key_press', canvas_keyboard_event);\n",
       "    canvas_div.keyup('key_release', canvas_keyboard_event);\n",
       "    this.canvas_div = canvas_div\n",
       "    this._canvas_extra_style(canvas_div)\n",
       "    this.root.append(canvas_div);\n",
       "\n",
       "    var canvas = $('<canvas/>');\n",
       "    canvas.addClass('mpl-canvas');\n",
       "    canvas.attr('style', \"left: 0; top: 0; z-index: 0; outline: 0\")\n",
       "\n",
       "    this.canvas = canvas[0];\n",
       "    this.context = canvas[0].getContext(\"2d\");\n",
       "\n",
       "    var backingStore = this.context.backingStorePixelRatio ||\n",
       "\tthis.context.webkitBackingStorePixelRatio ||\n",
       "\tthis.context.mozBackingStorePixelRatio ||\n",
       "\tthis.context.msBackingStorePixelRatio ||\n",
       "\tthis.context.oBackingStorePixelRatio ||\n",
       "\tthis.context.backingStorePixelRatio || 1;\n",
       "\n",
       "    mpl.ratio = (window.devicePixelRatio || 1) / backingStore;\n",
       "\n",
       "    var rubberband = $('<canvas/>');\n",
       "    rubberband.attr('style', \"position: absolute; left: 0; top: 0; z-index: 1;\")\n",
       "\n",
       "    var pass_mouse_events = true;\n",
       "\n",
       "    canvas_div.resizable({\n",
       "        start: function(event, ui) {\n",
       "            pass_mouse_events = false;\n",
       "        },\n",
       "        resize: function(event, ui) {\n",
       "            fig.request_resize(ui.size.width, ui.size.height);\n",
       "        },\n",
       "        stop: function(event, ui) {\n",
       "            pass_mouse_events = true;\n",
       "            fig.request_resize(ui.size.width, ui.size.height);\n",
       "        },\n",
       "    });\n",
       "\n",
       "    function mouse_event_fn(event) {\n",
       "        if (pass_mouse_events)\n",
       "            return fig.mouse_event(event, event['data']);\n",
       "    }\n",
       "\n",
       "    rubberband.mousedown('button_press', mouse_event_fn);\n",
       "    rubberband.mouseup('button_release', mouse_event_fn);\n",
       "    // Throttle sequential mouse events to 1 every 20ms.\n",
       "    rubberband.mousemove('motion_notify', mouse_event_fn);\n",
       "\n",
       "    rubberband.mouseenter('figure_enter', mouse_event_fn);\n",
       "    rubberband.mouseleave('figure_leave', mouse_event_fn);\n",
       "\n",
       "    canvas_div.on(\"wheel\", function (event) {\n",
       "        event = event.originalEvent;\n",
       "        event['data'] = 'scroll'\n",
       "        if (event.deltaY < 0) {\n",
       "            event.step = 1;\n",
       "        } else {\n",
       "            event.step = -1;\n",
       "        }\n",
       "        mouse_event_fn(event);\n",
       "    });\n",
       "\n",
       "    canvas_div.append(canvas);\n",
       "    canvas_div.append(rubberband);\n",
       "\n",
       "    this.rubberband = rubberband;\n",
       "    this.rubberband_canvas = rubberband[0];\n",
       "    this.rubberband_context = rubberband[0].getContext(\"2d\");\n",
       "    this.rubberband_context.strokeStyle = \"#000000\";\n",
       "\n",
       "    this._resize_canvas = function(width, height) {\n",
       "        // Keep the size of the canvas, canvas container, and rubber band\n",
       "        // canvas in synch.\n",
       "        canvas_div.css('width', width)\n",
       "        canvas_div.css('height', height)\n",
       "\n",
       "        canvas.attr('width', width * mpl.ratio);\n",
       "        canvas.attr('height', height * mpl.ratio);\n",
       "        canvas.attr('style', 'width: ' + width + 'px; height: ' + height + 'px;');\n",
       "\n",
       "        rubberband.attr('width', width);\n",
       "        rubberband.attr('height', height);\n",
       "    }\n",
       "\n",
       "    // Set the figure to an initial 600x600px, this will subsequently be updated\n",
       "    // upon first draw.\n",
       "    this._resize_canvas(600, 600);\n",
       "\n",
       "    // Disable right mouse context menu.\n",
       "    $(this.rubberband_canvas).bind(\"contextmenu\",function(e){\n",
       "        return false;\n",
       "    });\n",
       "\n",
       "    function set_focus () {\n",
       "        canvas.focus();\n",
       "        canvas_div.focus();\n",
       "    }\n",
       "\n",
       "    window.setTimeout(set_focus, 100);\n",
       "}\n",
       "\n",
       "mpl.figure.prototype._init_toolbar = function() {\n",
       "    var fig = this;\n",
       "\n",
       "    var nav_element = $('<div/>');\n",
       "    nav_element.attr('style', 'width: 100%');\n",
       "    this.root.append(nav_element);\n",
       "\n",
       "    // Define a callback function for later on.\n",
       "    function toolbar_event(event) {\n",
       "        return fig.toolbar_button_onclick(event['data']);\n",
       "    }\n",
       "    function toolbar_mouse_event(event) {\n",
       "        return fig.toolbar_button_onmouseover(event['data']);\n",
       "    }\n",
       "\n",
       "    for(var toolbar_ind in mpl.toolbar_items) {\n",
       "        var name = mpl.toolbar_items[toolbar_ind][0];\n",
       "        var tooltip = mpl.toolbar_items[toolbar_ind][1];\n",
       "        var image = mpl.toolbar_items[toolbar_ind][2];\n",
       "        var method_name = mpl.toolbar_items[toolbar_ind][3];\n",
       "\n",
       "        if (!name) {\n",
       "            // put a spacer in here.\n",
       "            continue;\n",
       "        }\n",
       "        var button = $('<button/>');\n",
       "        button.addClass('ui-button ui-widget ui-state-default ui-corner-all ' +\n",
       "                        'ui-button-icon-only');\n",
       "        button.attr('role', 'button');\n",
       "        button.attr('aria-disabled', 'false');\n",
       "        button.click(method_name, toolbar_event);\n",
       "        button.mouseover(tooltip, toolbar_mouse_event);\n",
       "\n",
       "        var icon_img = $('<span/>');\n",
       "        icon_img.addClass('ui-button-icon-primary ui-icon');\n",
       "        icon_img.addClass(image);\n",
       "        icon_img.addClass('ui-corner-all');\n",
       "\n",
       "        var tooltip_span = $('<span/>');\n",
       "        tooltip_span.addClass('ui-button-text');\n",
       "        tooltip_span.html(tooltip);\n",
       "\n",
       "        button.append(icon_img);\n",
       "        button.append(tooltip_span);\n",
       "\n",
       "        nav_element.append(button);\n",
       "    }\n",
       "\n",
       "    var fmt_picker_span = $('<span/>');\n",
       "\n",
       "    var fmt_picker = $('<select/>');\n",
       "    fmt_picker.addClass('mpl-toolbar-option ui-widget ui-widget-content');\n",
       "    fmt_picker_span.append(fmt_picker);\n",
       "    nav_element.append(fmt_picker_span);\n",
       "    this.format_dropdown = fmt_picker[0];\n",
       "\n",
       "    for (var ind in mpl.extensions) {\n",
       "        var fmt = mpl.extensions[ind];\n",
       "        var option = $(\n",
       "            '<option/>', {selected: fmt === mpl.default_extension}).html(fmt);\n",
       "        fmt_picker.append(option);\n",
       "    }\n",
       "\n",
       "    // Add hover states to the ui-buttons\n",
       "    $( \".ui-button\" ).hover(\n",
       "        function() { $(this).addClass(\"ui-state-hover\");},\n",
       "        function() { $(this).removeClass(\"ui-state-hover\");}\n",
       "    );\n",
       "\n",
       "    var status_bar = $('<span class=\"mpl-message\"/>');\n",
       "    nav_element.append(status_bar);\n",
       "    this.message = status_bar[0];\n",
       "}\n",
       "\n",
       "mpl.figure.prototype.request_resize = function(x_pixels, y_pixels) {\n",
       "    // Request matplotlib to resize the figure. Matplotlib will then trigger a resize in the client,\n",
       "    // which will in turn request a refresh of the image.\n",
       "    this.send_message('resize', {'width': x_pixels, 'height': y_pixels});\n",
       "}\n",
       "\n",
       "mpl.figure.prototype.send_message = function(type, properties) {\n",
       "    properties['type'] = type;\n",
       "    properties['figure_id'] = this.id;\n",
       "    this.ws.send(JSON.stringify(properties));\n",
       "}\n",
       "\n",
       "mpl.figure.prototype.send_draw_message = function() {\n",
       "    if (!this.waiting) {\n",
       "        this.waiting = true;\n",
       "        this.ws.send(JSON.stringify({type: \"draw\", figure_id: this.id}));\n",
       "    }\n",
       "}\n",
       "\n",
       "\n",
       "mpl.figure.prototype.handle_save = function(fig, msg) {\n",
       "    var format_dropdown = fig.format_dropdown;\n",
       "    var format = format_dropdown.options[format_dropdown.selectedIndex].value;\n",
       "    fig.ondownload(fig, format);\n",
       "}\n",
       "\n",
       "\n",
       "mpl.figure.prototype.handle_resize = function(fig, msg) {\n",
       "    var size = msg['size'];\n",
       "    if (size[0] != fig.canvas.width || size[1] != fig.canvas.height) {\n",
       "        fig._resize_canvas(size[0], size[1]);\n",
       "        fig.send_message(\"refresh\", {});\n",
       "    };\n",
       "}\n",
       "\n",
       "mpl.figure.prototype.handle_rubberband = function(fig, msg) {\n",
       "    var x0 = msg['x0'] / mpl.ratio;\n",
       "    var y0 = (fig.canvas.height - msg['y0']) / mpl.ratio;\n",
       "    var x1 = msg['x1'] / mpl.ratio;\n",
       "    var y1 = (fig.canvas.height - msg['y1']) / mpl.ratio;\n",
       "    x0 = Math.floor(x0) + 0.5;\n",
       "    y0 = Math.floor(y0) + 0.5;\n",
       "    x1 = Math.floor(x1) + 0.5;\n",
       "    y1 = Math.floor(y1) + 0.5;\n",
       "    var min_x = Math.min(x0, x1);\n",
       "    var min_y = Math.min(y0, y1);\n",
       "    var width = Math.abs(x1 - x0);\n",
       "    var height = Math.abs(y1 - y0);\n",
       "\n",
       "    fig.rubberband_context.clearRect(\n",
       "        0, 0, fig.canvas.width / mpl.ratio, fig.canvas.height / mpl.ratio);\n",
       "\n",
       "    fig.rubberband_context.strokeRect(min_x, min_y, width, height);\n",
       "}\n",
       "\n",
       "mpl.figure.prototype.handle_figure_label = function(fig, msg) {\n",
       "    // Updates the figure title.\n",
       "    fig.header.textContent = msg['label'];\n",
       "}\n",
       "\n",
       "mpl.figure.prototype.handle_cursor = function(fig, msg) {\n",
       "    var cursor = msg['cursor'];\n",
       "    switch(cursor)\n",
       "    {\n",
       "    case 0:\n",
       "        cursor = 'pointer';\n",
       "        break;\n",
       "    case 1:\n",
       "        cursor = 'default';\n",
       "        break;\n",
       "    case 2:\n",
       "        cursor = 'crosshair';\n",
       "        break;\n",
       "    case 3:\n",
       "        cursor = 'move';\n",
       "        break;\n",
       "    }\n",
       "    fig.rubberband_canvas.style.cursor = cursor;\n",
       "}\n",
       "\n",
       "mpl.figure.prototype.handle_message = function(fig, msg) {\n",
       "    fig.message.textContent = msg['message'];\n",
       "}\n",
       "\n",
       "mpl.figure.prototype.handle_draw = function(fig, msg) {\n",
       "    // Request the server to send over a new figure.\n",
       "    fig.send_draw_message();\n",
       "}\n",
       "\n",
       "mpl.figure.prototype.handle_image_mode = function(fig, msg) {\n",
       "    fig.image_mode = msg['mode'];\n",
       "}\n",
       "\n",
       "mpl.figure.prototype.updated_canvas_event = function() {\n",
       "    // Called whenever the canvas gets updated.\n",
       "    this.send_message(\"ack\", {});\n",
       "}\n",
       "\n",
       "// A function to construct a web socket function for onmessage handling.\n",
       "// Called in the figure constructor.\n",
       "mpl.figure.prototype._make_on_message_function = function(fig) {\n",
       "    return function socket_on_message(evt) {\n",
       "        if (evt.data instanceof Blob) {\n",
       "            /* FIXME: We get \"Resource interpreted as Image but\n",
       "             * transferred with MIME type text/plain:\" errors on\n",
       "             * Chrome.  But how to set the MIME type?  It doesn't seem\n",
       "             * to be part of the websocket stream */\n",
       "            evt.data.type = \"image/png\";\n",
       "\n",
       "            /* Free the memory for the previous frames */\n",
       "            if (fig.imageObj.src) {\n",
       "                (window.URL || window.webkitURL).revokeObjectURL(\n",
       "                    fig.imageObj.src);\n",
       "            }\n",
       "\n",
       "            fig.imageObj.src = (window.URL || window.webkitURL).createObjectURL(\n",
       "                evt.data);\n",
       "            fig.updated_canvas_event();\n",
       "            fig.waiting = false;\n",
       "            return;\n",
       "        }\n",
       "        else if (typeof evt.data === 'string' && evt.data.slice(0, 21) == \"data:image/png;base64\") {\n",
       "            fig.imageObj.src = evt.data;\n",
       "            fig.updated_canvas_event();\n",
       "            fig.waiting = false;\n",
       "            return;\n",
       "        }\n",
       "\n",
       "        var msg = JSON.parse(evt.data);\n",
       "        var msg_type = msg['type'];\n",
       "\n",
       "        // Call the  \"handle_{type}\" callback, which takes\n",
       "        // the figure and JSON message as its only arguments.\n",
       "        try {\n",
       "            var callback = fig[\"handle_\" + msg_type];\n",
       "        } catch (e) {\n",
       "            console.log(\"No handler for the '\" + msg_type + \"' message type: \", msg);\n",
       "            return;\n",
       "        }\n",
       "\n",
       "        if (callback) {\n",
       "            try {\n",
       "                // console.log(\"Handling '\" + msg_type + \"' message: \", msg);\n",
       "                callback(fig, msg);\n",
       "            } catch (e) {\n",
       "                console.log(\"Exception inside the 'handler_\" + msg_type + \"' callback:\", e, e.stack, msg);\n",
       "            }\n",
       "        }\n",
       "    };\n",
       "}\n",
       "\n",
       "// from http://stackoverflow.com/questions/1114465/getting-mouse-location-in-canvas\n",
       "mpl.findpos = function(e) {\n",
       "    //this section is from http://www.quirksmode.org/js/events_properties.html\n",
       "    var targ;\n",
       "    if (!e)\n",
       "        e = window.event;\n",
       "    if (e.target)\n",
       "        targ = e.target;\n",
       "    else if (e.srcElement)\n",
       "        targ = e.srcElement;\n",
       "    if (targ.nodeType == 3) // defeat Safari bug\n",
       "        targ = targ.parentNode;\n",
       "\n",
       "    // jQuery normalizes the pageX and pageY\n",
       "    // pageX,Y are the mouse positions relative to the document\n",
       "    // offset() returns the position of the element relative to the document\n",
       "    var x = e.pageX - $(targ).offset().left;\n",
       "    var y = e.pageY - $(targ).offset().top;\n",
       "\n",
       "    return {\"x\": x, \"y\": y};\n",
       "};\n",
       "\n",
       "/*\n",
       " * return a copy of an object with only non-object keys\n",
       " * we need this to avoid circular references\n",
       " * http://stackoverflow.com/a/24161582/3208463\n",
       " */\n",
       "function simpleKeys (original) {\n",
       "  return Object.keys(original).reduce(function (obj, key) {\n",
       "    if (typeof original[key] !== 'object')\n",
       "        obj[key] = original[key]\n",
       "    return obj;\n",
       "  }, {});\n",
       "}\n",
       "\n",
       "mpl.figure.prototype.mouse_event = function(event, name) {\n",
       "    var canvas_pos = mpl.findpos(event)\n",
       "\n",
       "    if (name === 'button_press')\n",
       "    {\n",
       "        this.canvas.focus();\n",
       "        this.canvas_div.focus();\n",
       "    }\n",
       "\n",
       "    var x = canvas_pos.x * mpl.ratio;\n",
       "    var y = canvas_pos.y * mpl.ratio;\n",
       "\n",
       "    this.send_message(name, {x: x, y: y, button: event.button,\n",
       "                             step: event.step,\n",
       "                             guiEvent: simpleKeys(event)});\n",
       "\n",
       "    /* This prevents the web browser from automatically changing to\n",
       "     * the text insertion cursor when the button is pressed.  We want\n",
       "     * to control all of the cursor setting manually through the\n",
       "     * 'cursor' event from matplotlib */\n",
       "    event.preventDefault();\n",
       "    return false;\n",
       "}\n",
       "\n",
       "mpl.figure.prototype._key_event_extra = function(event, name) {\n",
       "    // Handle any extra behaviour associated with a key event\n",
       "}\n",
       "\n",
       "mpl.figure.prototype.key_event = function(event, name) {\n",
       "\n",
       "    // Prevent repeat events\n",
       "    if (name == 'key_press')\n",
       "    {\n",
       "        if (event.which === this._key)\n",
       "            return;\n",
       "        else\n",
       "            this._key = event.which;\n",
       "    }\n",
       "    if (name == 'key_release')\n",
       "        this._key = null;\n",
       "\n",
       "    var value = '';\n",
       "    if (event.ctrlKey && event.which != 17)\n",
       "        value += \"ctrl+\";\n",
       "    if (event.altKey && event.which != 18)\n",
       "        value += \"alt+\";\n",
       "    if (event.shiftKey && event.which != 16)\n",
       "        value += \"shift+\";\n",
       "\n",
       "    value += 'k';\n",
       "    value += event.which.toString();\n",
       "\n",
       "    this._key_event_extra(event, name);\n",
       "\n",
       "    this.send_message(name, {key: value,\n",
       "                             guiEvent: simpleKeys(event)});\n",
       "    return false;\n",
       "}\n",
       "\n",
       "mpl.figure.prototype.toolbar_button_onclick = function(name) {\n",
       "    if (name == 'download') {\n",
       "        this.handle_save(this, null);\n",
       "    } else {\n",
       "        this.send_message(\"toolbar_button\", {name: name});\n",
       "    }\n",
       "};\n",
       "\n",
       "mpl.figure.prototype.toolbar_button_onmouseover = function(tooltip) {\n",
       "    this.message.textContent = tooltip;\n",
       "};\n",
       "mpl.toolbar_items = [[\"Home\", \"Reset original view\", \"fa fa-home icon-home\", \"home\"], [\"Back\", \"Back to previous view\", \"fa fa-arrow-left icon-arrow-left\", \"back\"], [\"Forward\", \"Forward to next view\", \"fa fa-arrow-right icon-arrow-right\", \"forward\"], [\"\", \"\", \"\", \"\"], [\"Pan\", \"Pan axes with left mouse, zoom with right\", \"fa fa-arrows icon-move\", \"pan\"], [\"Zoom\", \"Zoom to rectangle\", \"fa fa-square-o icon-check-empty\", \"zoom\"], [\"\", \"\", \"\", \"\"], [\"Download\", \"Download plot\", \"fa fa-floppy-o icon-save\", \"download\"]];\n",
       "\n",
       "mpl.extensions = [\"eps\", \"jpeg\", \"pdf\", \"png\", \"ps\", \"raw\", \"svg\", \"tif\"];\n",
       "\n",
       "mpl.default_extension = \"png\";var comm_websocket_adapter = function(comm) {\n",
       "    // Create a \"websocket\"-like object which calls the given IPython comm\n",
       "    // object with the appropriate methods. Currently this is a non binary\n",
       "    // socket, so there is still some room for performance tuning.\n",
       "    var ws = {};\n",
       "\n",
       "    ws.close = function() {\n",
       "        comm.close()\n",
       "    };\n",
       "    ws.send = function(m) {\n",
       "        //console.log('sending', m);\n",
       "        comm.send(m);\n",
       "    };\n",
       "    // Register the callback with on_msg.\n",
       "    comm.on_msg(function(msg) {\n",
       "        //console.log('receiving', msg['content']['data'], msg);\n",
       "        // Pass the mpl event to the overridden (by mpl) onmessage function.\n",
       "        ws.onmessage(msg['content']['data'])\n",
       "    });\n",
       "    return ws;\n",
       "}\n",
       "\n",
       "mpl.mpl_figure_comm = function(comm, msg) {\n",
       "    // This is the function which gets called when the mpl process\n",
       "    // starts-up an IPython Comm through the \"matplotlib\" channel.\n",
       "\n",
       "    var id = msg.content.data.id;\n",
       "    // Get hold of the div created by the display call when the Comm\n",
       "    // socket was opened in Python.\n",
       "    var element = $(\"#\" + id);\n",
       "    var ws_proxy = comm_websocket_adapter(comm)\n",
       "\n",
       "    function ondownload(figure, format) {\n",
       "        window.open(figure.imageObj.src);\n",
       "    }\n",
       "\n",
       "    var fig = new mpl.figure(id, ws_proxy,\n",
       "                           ondownload,\n",
       "                           element.get(0));\n",
       "\n",
       "    // Call onopen now - mpl needs it, as it is assuming we've passed it a real\n",
       "    // web socket which is closed, not our websocket->open comm proxy.\n",
       "    ws_proxy.onopen();\n",
       "\n",
       "    fig.parent_element = element.get(0);\n",
       "    fig.cell_info = mpl.find_output_cell(\"<div id='\" + id + \"'></div>\");\n",
       "    if (!fig.cell_info) {\n",
       "        console.error(\"Failed to find cell for figure\", id, fig);\n",
       "        return;\n",
       "    }\n",
       "\n",
       "    var output_index = fig.cell_info[2]\n",
       "    var cell = fig.cell_info[0];\n",
       "\n",
       "};\n",
       "\n",
       "mpl.figure.prototype.handle_close = function(fig, msg) {\n",
       "    var width = fig.canvas.width/mpl.ratio\n",
       "    fig.root.unbind('remove')\n",
       "\n",
       "    // Update the output cell to use the data from the current canvas.\n",
       "    fig.push_to_output();\n",
       "    var dataURL = fig.canvas.toDataURL();\n",
       "    // Re-enable the keyboard manager in IPython - without this line, in FF,\n",
       "    // the notebook keyboard shortcuts fail.\n",
       "    IPython.keyboard_manager.enable()\n",
       "    $(fig.parent_element).html('<img src=\"' + dataURL + '\" width=\"' + width + '\">');\n",
       "    fig.close_ws(fig, msg);\n",
       "}\n",
       "\n",
       "mpl.figure.prototype.close_ws = function(fig, msg){\n",
       "    fig.send_message('closing', msg);\n",
       "    // fig.ws.close()\n",
       "}\n",
       "\n",
       "mpl.figure.prototype.push_to_output = function(remove_interactive) {\n",
       "    // Turn the data on the canvas into data in the output cell.\n",
       "    var width = this.canvas.width/mpl.ratio\n",
       "    var dataURL = this.canvas.toDataURL();\n",
       "    this.cell_info[1]['text/html'] = '<img src=\"' + dataURL + '\" width=\"' + width + '\">';\n",
       "}\n",
       "\n",
       "mpl.figure.prototype.updated_canvas_event = function() {\n",
       "    // Tell IPython that the notebook contents must change.\n",
       "    IPython.notebook.set_dirty(true);\n",
       "    this.send_message(\"ack\", {});\n",
       "    var fig = this;\n",
       "    // Wait a second, then push the new image to the DOM so\n",
       "    // that it is saved nicely (might be nice to debounce this).\n",
       "    setTimeout(function () { fig.push_to_output() }, 1000);\n",
       "}\n",
       "\n",
       "mpl.figure.prototype._init_toolbar = function() {\n",
       "    var fig = this;\n",
       "\n",
       "    var nav_element = $('<div/>');\n",
       "    nav_element.attr('style', 'width: 100%');\n",
       "    this.root.append(nav_element);\n",
       "\n",
       "    // Define a callback function for later on.\n",
       "    function toolbar_event(event) {\n",
       "        return fig.toolbar_button_onclick(event['data']);\n",
       "    }\n",
       "    function toolbar_mouse_event(event) {\n",
       "        return fig.toolbar_button_onmouseover(event['data']);\n",
       "    }\n",
       "\n",
       "    for(var toolbar_ind in mpl.toolbar_items){\n",
       "        var name = mpl.toolbar_items[toolbar_ind][0];\n",
       "        var tooltip = mpl.toolbar_items[toolbar_ind][1];\n",
       "        var image = mpl.toolbar_items[toolbar_ind][2];\n",
       "        var method_name = mpl.toolbar_items[toolbar_ind][3];\n",
       "\n",
       "        if (!name) { continue; };\n",
       "\n",
       "        var button = $('<button class=\"btn btn-default\" href=\"#\" title=\"' + name + '\"><i class=\"fa ' + image + ' fa-lg\"></i></button>');\n",
       "        button.click(method_name, toolbar_event);\n",
       "        button.mouseover(tooltip, toolbar_mouse_event);\n",
       "        nav_element.append(button);\n",
       "    }\n",
       "\n",
       "    // Add the status bar.\n",
       "    var status_bar = $('<span class=\"mpl-message\" style=\"text-align:right; float: right;\"/>');\n",
       "    nav_element.append(status_bar);\n",
       "    this.message = status_bar[0];\n",
       "\n",
       "    // Add the close button to the window.\n",
       "    var buttongrp = $('<div class=\"btn-group inline pull-right\"></div>');\n",
       "    var button = $('<button class=\"btn btn-mini btn-primary\" href=\"#\" title=\"Stop Interaction\"><i class=\"fa fa-power-off icon-remove icon-large\"></i></button>');\n",
       "    button.click(function (evt) { fig.handle_close(fig, {}); } );\n",
       "    button.mouseover('Stop Interaction', toolbar_mouse_event);\n",
       "    buttongrp.append(button);\n",
       "    var titlebar = this.root.find($('.ui-dialog-titlebar'));\n",
       "    titlebar.prepend(buttongrp);\n",
       "}\n",
       "\n",
       "mpl.figure.prototype._root_extra_style = function(el){\n",
       "    var fig = this\n",
       "    el.on(\"remove\", function(){\n",
       "\tfig.close_ws(fig, {});\n",
       "    });\n",
       "}\n",
       "\n",
       "mpl.figure.prototype._canvas_extra_style = function(el){\n",
       "    // this is important to make the div 'focusable\n",
       "    el.attr('tabindex', 0)\n",
       "    // reach out to IPython and tell the keyboard manager to turn it's self\n",
       "    // off when our div gets focus\n",
       "\n",
       "    // location in version 3\n",
       "    if (IPython.notebook.keyboard_manager) {\n",
       "        IPython.notebook.keyboard_manager.register_events(el);\n",
       "    }\n",
       "    else {\n",
       "        // location in version 2\n",
       "        IPython.keyboard_manager.register_events(el);\n",
       "    }\n",
       "\n",
       "}\n",
       "\n",
       "mpl.figure.prototype._key_event_extra = function(event, name) {\n",
       "    var manager = IPython.notebook.keyboard_manager;\n",
       "    if (!manager)\n",
       "        manager = IPython.keyboard_manager;\n",
       "\n",
       "    // Check for shift+enter\n",
       "    if (event.shiftKey && event.which == 13) {\n",
       "        this.canvas_div.blur();\n",
       "        // select the cell after this one\n",
       "        var index = IPython.notebook.find_cell_index(this.cell_info[0]);\n",
       "        IPython.notebook.select(index + 1);\n",
       "    }\n",
       "}\n",
       "\n",
       "mpl.figure.prototype.handle_save = function(fig, msg) {\n",
       "    fig.ondownload(fig, null);\n",
       "}\n",
       "\n",
       "\n",
       "mpl.find_output_cell = function(html_output) {\n",
       "    // Return the cell and output element which can be found *uniquely* in the notebook.\n",
       "    // Note - this is a bit hacky, but it is done because the \"notebook_saving.Notebook\"\n",
       "    // IPython event is triggered only after the cells have been serialised, which for\n",
       "    // our purposes (turning an active figure into a static one), is too late.\n",
       "    var cells = IPython.notebook.get_cells();\n",
       "    var ncells = cells.length;\n",
       "    for (var i=0; i<ncells; i++) {\n",
       "        var cell = cells[i];\n",
       "        if (cell.cell_type === 'code'){\n",
       "            for (var j=0; j<cell.output_area.outputs.length; j++) {\n",
       "                var data = cell.output_area.outputs[j];\n",
       "                if (data.data) {\n",
       "                    // IPython >= 3 moved mimebundle to data attribute of output\n",
       "                    data = data.data;\n",
       "                }\n",
       "                if (data['text/html'] == html_output) {\n",
       "                    return [cell, data, j];\n",
       "                }\n",
       "            }\n",
       "        }\n",
       "    }\n",
       "}\n",
       "\n",
       "// Register the function which deals with the matplotlib target/channel.\n",
       "// The kernel may be null if the page has been refreshed.\n",
       "if (IPython.notebook.kernel != null) {\n",
       "    IPython.notebook.kernel.comm_manager.register_target('matplotlib', mpl.mpl_figure_comm);\n",
       "}\n"
      ],
      "text/plain": [
       "<IPython.core.display.Javascript object>"
      ]
     },
     "metadata": {},
     "output_type": "display_data"
    },
    {
     "data": {
      "text/html": [
       "<img src=\"data:image/png;base64,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\" width=\"900\">"
      ],
      "text/plain": [
       "<IPython.core.display.HTML object>"
      ]
     },
     "metadata": {},
     "output_type": "display_data"
    },
    {
     "data": {
      "text/plain": [
       "(737791.0, 737972.0)"
      ]
     },
     "execution_count": 258,
     "metadata": {},
     "output_type": "execute_result"
    }
   ],
   "source": [
    "fig,ax = plt.subplots(figsize=(9,15), nrows=9, sharex=True)\n",
    "for i in range(9):\n",
    "    #ax[i].plot('date', str(i), data=test_df, c='green', label='time-dep function', alpha=0.5)\n",
    "    ax[i].plot(out_single['time'], out_single['V_new'].sel(Nc=i), c='blue', label='model')#, linestyle='--'\n",
    "    ax[i].set_ylabel('Age '+str(i))\n",
    "ax[0].set_title('Daily vaccination number')\n",
    "#ax[0].legend(loc='upper center', bbox_to_anchor=(0.5, 1.9), ncol=2)\n",
    "dates = pd.date_range(start_fig, end_sim, periods=5)\n",
    "ax[0].set_xticks(dates)\n",
    "ax[0].set_xlim(start_fig, end_sim)\n",
    "#fig_path =  '../../results/predictions/national/restore_v7.0/'\n",
    "#fig.savefig(fig_path+'Scenarios'+'.jpg', dpi=400, bbox_inches='tight')"
   ]
  },
  {
   "cell_type": "code",
   "execution_count": null,
   "metadata": {
    "ExecuteTime": {
     "end_time": "2021-03-09T11:38:33.001764Z",
     "start_time": "2021-03-09T11:38:32.697179Z"
    },
    "scrolled": false
   },
   "outputs": [],
   "source": [
    "fig,ax = plt.subplots(figsize=(12,15), nrows=9, sharex=True)\n",
    "for i in range(9):\n",
    "    ax[i].plot(out_single['time'], out_single['VE'].sel(Nc=i), c='blue', label='model')\n",
    "    #ax[i].legend()\n",
    "    ax[i].set_ylabel('Age '+str(i))\n",
    "ax[0].set_title('VE state')"
   ]
  },
  {
   "cell_type": "code",
   "execution_count": null,
   "metadata": {
    "ExecuteTime": {
     "end_time": "2021-03-04T08:20:58.517503Z",
     "start_time": "2021-03-04T08:20:58.094215Z"
    },
    "scrolled": false
   },
   "outputs": [],
   "source": [
    "fig,ax = plt.subplots(figsize=(12,15), nrows=9, sharex=True)\n",
    "for i in range(9):\n",
    "    ax[i].plot(out_single['time'], out_single['VE'].sel(Nc=i), c='blue', label='model')\n",
    "    #ax[i].legend()\n",
    "    ax[i].set_ylabel('Age '+str(i))\n",
    "ax[0].set_title('VE state')"
   ]
  },
  {
   "cell_type": "markdown",
   "metadata": {},
   "source": [
    "# Test spatial model"
   ]
  },
  {
   "cell_type": "markdown",
   "metadata": {},
   "source": [
    "N_vacc uit vaccination function moet hier 2D zijn! Geo unit x age class!"
   ]
  },
  {
   "cell_type": "code",
   "execution_count": null,
   "metadata": {
    "ExecuteTime": {
     "end_time": "2021-02-25T14:42:32.680340Z",
     "start_time": "2021-02-25T14:42:32.157407Z"
    }
   },
   "outputs": [],
   "source": [
    "geo_unit = 'prov'\n",
    "initN_spatial, Nc_home, Nc_work, Nc_schools, Nc_transport, Nc_leisure, Nc_others, Nc_total = model_parameters.get_interaction_matrices(dataset='willem_2012', spatial=geo_unit)\n",
    "shape = initN_spatial.shape"
   ]
  },
  {
   "cell_type": "code",
   "execution_count": null,
   "metadata": {
    "ExecuteTime": {
     "end_time": "2021-02-25T14:42:32.938402Z",
     "start_time": "2021-02-25T14:42:32.875648Z"
    }
   },
   "outputs": [],
   "source": [
    "# divide daily vaccinations over spatial units according to population fraction in unit\n",
    "fraction_per_arr = initN_spatial.sum(axis=1)/initN_spatial.sum().sum()\n",
    "d_spatial = {key:el*fraction_per_arr[:,np.newaxis] for key,el in d.items()}"
   ]
  },
  {
   "cell_type": "code",
   "execution_count": null,
   "metadata": {
    "ExecuteTime": {
     "end_time": "2021-02-25T14:42:33.653950Z",
     "start_time": "2021-02-25T14:42:33.593319Z"
    }
   },
   "outputs": [],
   "source": [
    "# Need to initiate I also with the co-infection model, otherwise divison by zero occurs\n",
    "initial_states = {'S': initN_spatial, 'E': np.ones(shape), 'I': np.ones(shape), 'alpha':np.zeros(shape)}"
   ]
  },
  {
   "cell_type": "code",
   "execution_count": null,
   "metadata": {
    "ExecuteTime": {
     "end_time": "2021-02-25T14:42:39.815346Z",
     "start_time": "2021-02-25T14:42:38.834740Z"
    }
   },
   "outputs": [],
   "source": [
    "params = model_parameters.get_COVID19_SEIRD_parameters(spatial=geo_unit)\n",
    "dummy_spatial_model = models.COVID19_SEIRD_spatial(initial_states, params, spatial=geo_unit)\n",
    "sim_dummy_spatial_model = dummy_spatial_model.sim(time=end_sim, start_date=start_calibration)"
   ]
  },
  {
   "cell_type": "code",
   "execution_count": null,
   "metadata": {
    "ExecuteTime": {
     "end_time": "2021-02-25T14:42:51.792300Z",
     "start_time": "2021-02-25T14:42:51.300122Z"
    }
   },
   "outputs": [],
   "source": [
    "params = model_parameters.get_COVID19_SEIRD_parameters(spatial=geo_unit)\n",
    "params.update({'d' : d_spatial,\n",
    "               'NH' : NH,\n",
    "               'e' : np.ones(levels)*0.9,\n",
    "               'order':None\n",
    "              })\n",
    "dummy_spatial_model_vacc = models.COVID19_SEIRD_spatial(initial_states, params, spatial=geo_unit, time_dependent_parameters={'N_vacc': vacc_strategy})\n",
    "sim_dummy_spatial_model_vacc = dummy_spatial_model_vacc.sim(time=end_sim, start_date=start_calibration)"
   ]
  },
  {
   "cell_type": "code",
   "execution_count": null,
   "metadata": {
    "ExecuteTime": {
     "end_time": "2021-02-25T14:43:40.300958Z",
     "start_time": "2021-02-25T14:43:04.660108Z"
    }
   },
   "outputs": [],
   "source": [
    "%debug"
   ]
  },
  {
   "cell_type": "code",
   "execution_count": null,
   "metadata": {
    "ExecuteTime": {
     "end_time": "2021-02-10T07:48:53.404751Z",
     "start_time": "2021-02-10T07:48:53.330911Z"
    },
    "scrolled": true
   },
   "outputs": [],
   "source": [
    "timerange = pd.date_range(start_calibration,'2021-09-01')\n",
    "test_dict = {}\n",
    "for t in timerange:\n",
    "    test_dict[t] = np.sum(vacc_strategy(t=t, param=None, d=d, NH=NH, initN=initN_spatial), axis=1)\n",
    "test_df = pd.DataFrame.from_dict(test_dict, orient='index').reset_index()\n",
    "# test_df.columns = ['date','N_vacc']\n",
    "# test_df['N_cum'] = test_df.N_vacc.cumsum()"
   ]
  },
  {
   "cell_type": "code",
   "execution_count": null,
   "metadata": {
    "ExecuteTime": {
     "end_time": "2021-02-10T07:50:18.231677Z",
     "start_time": "2021-02-10T07:50:18.178076Z"
    }
   },
   "outputs": [],
   "source": [
    "vacc_strategy(t=t, param=None, d=d, NH=NH, initN=initN_spatial).shape"
   ]
  },
  {
   "cell_type": "code",
   "execution_count": null,
   "metadata": {
    "ExecuteTime": {
     "end_time": "2021-02-12T12:23:38.266232Z",
     "start_time": "2021-02-12T12:23:37.065834Z"
    },
    "scrolled": true
   },
   "outputs": [],
   "source": [
    "params = model_parameters.get_COVID19_SEIRD_parameters(spatial=geo_unit)\n",
    "params.update({\n",
    "               'e' : np.ones(levels)*0.9,\n",
    "               'N_vacc': np.ones(shape)*50,\n",
    "              })\n",
    "dummy_spatial_model_vacc = models.COVID19_SEIRD_spatial(initial_states, params, spatial=geo_unit)#, time_dependent_parameters={'N_vacc': vacc_strategy}\n",
    "sim_dummy_spatial_model_vacc = dummy_spatial_model_vacc.sim(time=end_sim, start_date=start_calibration)"
   ]
  },
  {
   "cell_type": "markdown",
   "metadata": {},
   "source": [
    "**double stratified parameters toevoegen?**"
   ]
  },
  {
   "cell_type": "code",
   "execution_count": null,
   "metadata": {
    "ExecuteTime": {
     "end_time": "2021-02-12T09:24:00.301809Z",
     "start_time": "2021-02-12T09:24:00.228872Z"
    }
   },
   "outputs": [],
   "source": [
    "sim_dummy_spatial_model_vacc['V'].sum(dim=['place','Nc'])"
   ]
  },
  {
   "cell_type": "code",
   "execution_count": null,
   "metadata": {
    "ExecuteTime": {
     "end_time": "2021-02-12T09:24:04.459605Z",
     "start_time": "2021-02-12T09:24:04.409178Z"
    },
    "scrolled": true
   },
   "outputs": [],
   "source": [
    "sim_dummy_spatial_model_vacc['V_new'].sum(dim=['place','Nc']).values"
   ]
  },
  {
   "cell_type": "code",
   "execution_count": null,
   "metadata": {
    "ExecuteTime": {
     "end_time": "2021-02-12T09:24:45.843772Z",
     "start_time": "2021-02-12T09:24:45.715351Z"
    }
   },
   "outputs": [],
   "source": [
    "fig,ax = plt.subplots(figsize=(9,5))\n",
    "#ax.plot('date', 'N_vacc', data=test_df, c='green', label='time-dep function')\n",
    "ax.plot(sim_dummy_spatial_model_vacc['time'], sim_dummy_spatial_model_vacc['V_new'].sum(dim=['place','Nc']), c='blue', linestyle='--', label='model')\n",
    "ax.legend()\n",
    "ax.set_ylabel('Daily vaccination number')"
   ]
  },
  {
   "cell_type": "code",
   "execution_count": null,
   "metadata": {
    "ExecuteTime": {
     "end_time": "2021-02-08T18:39:34.049593Z",
     "start_time": "2021-02-08T18:39:33.830437Z"
    }
   },
   "outputs": [],
   "source": [
    "population_status(sim_dummy_spatial_model.mean(dim='place'))"
   ]
  },
  {
   "cell_type": "code",
   "execution_count": null,
   "metadata": {
    "ExecuteTime": {
     "end_time": "2021-02-04T06:25:13.533280Z",
     "start_time": "2021-02-04T06:25:13.277966Z"
    }
   },
   "outputs": [],
   "source": [
    "sim_dummy_spatial_model_vacc.mean(dim='place')"
   ]
  },
  {
   "cell_type": "code",
   "execution_count": null,
   "metadata": {
    "ExecuteTime": {
     "end_time": "2021-02-12T09:23:29.904725Z",
     "start_time": "2021-02-12T09:23:29.541794Z"
    }
   },
   "outputs": [],
   "source": [
    "population_status(sim_dummy_spatial_model_vacc.mean(dim='place'))"
   ]
  },
  {
   "cell_type": "markdown",
   "metadata": {},
   "source": [
    "# Scenarios"
   ]
  },
  {
   "cell_type": "code",
   "execution_count": 211,
   "metadata": {
    "ExecuteTime": {
     "end_time": "2021-03-10T08:37:30.483285Z",
     "start_time": "2021-03-10T08:37:30.411801Z"
    }
   },
   "outputs": [],
   "source": [
    "start_sim = '2020-09-01'\n",
    "end_sim = '2021-07-01'\n",
    "warmup = 0\n",
    "n_samples = 3#100\n",
    "n_draws_per_sample = 100#1000\n",
    "effectivity = 0.9"
   ]
  },
  {
   "cell_type": "code",
   "execution_count": 212,
   "metadata": {
    "ExecuteTime": {
     "end_time": "2021-03-10T08:37:32.114616Z",
     "start_time": "2021-03-10T08:37:32.054347Z"
    }
   },
   "outputs": [],
   "source": [
    "Re_1feb = 0.958*1.4\n",
    "# current estimation of UK prevalence between 20 and 40% => take 30%\n",
    "current_UK = 0.3\n",
    "# 5-6 days incubation\n",
    "incubation_period = 5\n",
    "n_periods = 30/incubation_period"
   ]
  },
  {
   "cell_type": "code",
   "execution_count": 213,
   "metadata": {
    "ExecuteTime": {
     "end_time": "2021-03-10T08:37:32.285551Z",
     "start_time": "2021-03-10T08:37:32.218163Z"
    }
   },
   "outputs": [],
   "source": [
    "# How much on January 1? (30 days ago)\n",
    "portion_new_strain_introduced = current_UK/(Re_1feb**n_periods) #0.001\n",
    "injection_day = (pd.Timestamp('2021-01-01') - pd.Timestamp(start_sim))/pd.Timedelta('1D')"
   ]
  },
  {
   "cell_type": "code",
   "execution_count": 214,
   "metadata": {
    "ExecuteTime": {
     "end_time": "2021-03-10T08:37:32.429861Z",
     "start_time": "2021-03-10T08:37:32.383122Z"
    }
   },
   "outputs": [],
   "source": [
    "order=None# [6,5,4,3,2,2,2]\n",
    "elder=None#[8,7,7]"
   ]
  },
  {
   "cell_type": "markdown",
   "metadata": {},
   "source": [
    "## Run and save all scenarios"
   ]
  },
  {
   "cell_type": "markdown",
   "metadata": {},
   "source": [
    "See python file"
   ]
  },
  {
   "cell_type": "code",
   "execution_count": 259,
   "metadata": {
    "ExecuteTime": {
     "end_time": "2021-03-10T13:20:24.169814Z",
     "start_time": "2021-03-10T13:20:23.896142Z"
    }
   },
   "outputs": [],
   "source": [
    "scenario_settings = pd.DataFrame({\n",
    "    'Scenario_name':['S1a','S1b','S1c','S1d','S1e',\n",
    "                     'S2a','S2b','S2c','S2d','S2e',\n",
    "                     'S3a','S3b','S3c','S3d','S3e',\n",
    "                     'S4a','S4b','S4c','S4d','S4e'],\n",
    "    'opening':(5*['3']+5*['4']+5*['3']+5*['4']),\n",
    "    'effectivity':20*[0.7],\n",
    "    'K':20*[1.5],\n",
    "    'order':2*[None,[5,4,3,2,2,2,2],[2,3,4,5,5,5,5],[3,4,2,5,5,5,5],[0,1,2,3,4,5,5]]+2*[None,[6,5,4,3,2,2,2],[2,3,4,5,6,6,6],[3,4,2,5,6,6,6],[0,1,2,3,4,5,6]],\n",
    "    'elder': 10*[[8,7,6]]+10*[[8,7,7]],\n",
    "    'vacc_fun':4*([vacc_strategy]+4*[vacc_strategy_priors])\n",
    "})"
   ]
  },
  {
   "cell_type": "code",
   "execution_count": 260,
   "metadata": {
    "ExecuteTime": {
     "end_time": "2021-03-10T13:20:24.935637Z",
     "start_time": "2021-03-10T13:20:24.731588Z"
    }
   },
   "outputs": [
    {
     "data": {
      "text/html": [
       "<div>\n",
       "<style scoped>\n",
       "    .dataframe tbody tr th:only-of-type {\n",
       "        vertical-align: middle;\n",
       "    }\n",
       "\n",
       "    .dataframe tbody tr th {\n",
       "        vertical-align: top;\n",
       "    }\n",
       "\n",
       "    .dataframe thead th {\n",
       "        text-align: right;\n",
       "    }\n",
       "</style>\n",
       "<table border=\"1\" class=\"dataframe\">\n",
       "  <thead>\n",
       "    <tr style=\"text-align: right;\">\n",
       "      <th></th>\n",
       "      <th>Scenario_name</th>\n",
       "      <th>opening</th>\n",
       "      <th>effectivity</th>\n",
       "      <th>K</th>\n",
       "      <th>order</th>\n",
       "      <th>elder</th>\n",
       "      <th>vacc_fun</th>\n",
       "    </tr>\n",
       "  </thead>\n",
       "  <tbody>\n",
       "    <tr>\n",
       "      <th>0</th>\n",
       "      <td>S1a</td>\n",
       "      <td>3</td>\n",
       "      <td>0.7</td>\n",
       "      <td>1.5</td>\n",
       "      <td>None</td>\n",
       "      <td>[8, 7, 6]</td>\n",
       "      <td>&lt;function vacc_strategy at 0x1235089d0&gt;</td>\n",
       "    </tr>\n",
       "    <tr>\n",
       "      <th>1</th>\n",
       "      <td>S1b</td>\n",
       "      <td>3</td>\n",
       "      <td>0.7</td>\n",
       "      <td>1.5</td>\n",
       "      <td>[5, 4, 3, 2, 2, 2, 2]</td>\n",
       "      <td>[8, 7, 6]</td>\n",
       "      <td>&lt;function vacc_strategy_priors at 0x114098b80&gt;</td>\n",
       "    </tr>\n",
       "    <tr>\n",
       "      <th>2</th>\n",
       "      <td>S1c</td>\n",
       "      <td>3</td>\n",
       "      <td>0.7</td>\n",
       "      <td>1.5</td>\n",
       "      <td>[2, 3, 4, 5, 5, 5, 5]</td>\n",
       "      <td>[8, 7, 6]</td>\n",
       "      <td>&lt;function vacc_strategy_priors at 0x114098b80&gt;</td>\n",
       "    </tr>\n",
       "    <tr>\n",
       "      <th>3</th>\n",
       "      <td>S1d</td>\n",
       "      <td>3</td>\n",
       "      <td>0.7</td>\n",
       "      <td>1.5</td>\n",
       "      <td>[3, 4, 2, 5, 5, 5, 5]</td>\n",
       "      <td>[8, 7, 6]</td>\n",
       "      <td>&lt;function vacc_strategy_priors at 0x114098b80&gt;</td>\n",
       "    </tr>\n",
       "    <tr>\n",
       "      <th>4</th>\n",
       "      <td>S1e</td>\n",
       "      <td>3</td>\n",
       "      <td>0.7</td>\n",
       "      <td>1.5</td>\n",
       "      <td>[0, 1, 2, 3, 4, 5, 5]</td>\n",
       "      <td>[8, 7, 6]</td>\n",
       "      <td>&lt;function vacc_strategy_priors at 0x114098b80&gt;</td>\n",
       "    </tr>\n",
       "    <tr>\n",
       "      <th>5</th>\n",
       "      <td>S2a</td>\n",
       "      <td>4</td>\n",
       "      <td>0.7</td>\n",
       "      <td>1.5</td>\n",
       "      <td>None</td>\n",
       "      <td>[8, 7, 6]</td>\n",
       "      <td>&lt;function vacc_strategy at 0x1235089d0&gt;</td>\n",
       "    </tr>\n",
       "    <tr>\n",
       "      <th>6</th>\n",
       "      <td>S2b</td>\n",
       "      <td>4</td>\n",
       "      <td>0.7</td>\n",
       "      <td>1.5</td>\n",
       "      <td>[5, 4, 3, 2, 2, 2, 2]</td>\n",
       "      <td>[8, 7, 6]</td>\n",
       "      <td>&lt;function vacc_strategy_priors at 0x114098b80&gt;</td>\n",
       "    </tr>\n",
       "    <tr>\n",
       "      <th>7</th>\n",
       "      <td>S2c</td>\n",
       "      <td>4</td>\n",
       "      <td>0.7</td>\n",
       "      <td>1.5</td>\n",
       "      <td>[2, 3, 4, 5, 5, 5, 5]</td>\n",
       "      <td>[8, 7, 6]</td>\n",
       "      <td>&lt;function vacc_strategy_priors at 0x114098b80&gt;</td>\n",
       "    </tr>\n",
       "    <tr>\n",
       "      <th>8</th>\n",
       "      <td>S2d</td>\n",
       "      <td>4</td>\n",
       "      <td>0.7</td>\n",
       "      <td>1.5</td>\n",
       "      <td>[3, 4, 2, 5, 5, 5, 5]</td>\n",
       "      <td>[8, 7, 6]</td>\n",
       "      <td>&lt;function vacc_strategy_priors at 0x114098b80&gt;</td>\n",
       "    </tr>\n",
       "    <tr>\n",
       "      <th>9</th>\n",
       "      <td>S2e</td>\n",
       "      <td>4</td>\n",
       "      <td>0.7</td>\n",
       "      <td>1.5</td>\n",
       "      <td>[0, 1, 2, 3, 4, 5, 5]</td>\n",
       "      <td>[8, 7, 6]</td>\n",
       "      <td>&lt;function vacc_strategy_priors at 0x114098b80&gt;</td>\n",
       "    </tr>\n",
       "    <tr>\n",
       "      <th>10</th>\n",
       "      <td>S3a</td>\n",
       "      <td>3</td>\n",
       "      <td>0.7</td>\n",
       "      <td>1.5</td>\n",
       "      <td>None</td>\n",
       "      <td>[8, 7, 7]</td>\n",
       "      <td>&lt;function vacc_strategy at 0x1235089d0&gt;</td>\n",
       "    </tr>\n",
       "    <tr>\n",
       "      <th>11</th>\n",
       "      <td>S3b</td>\n",
       "      <td>3</td>\n",
       "      <td>0.7</td>\n",
       "      <td>1.5</td>\n",
       "      <td>[6, 5, 4, 3, 2, 2, 2]</td>\n",
       "      <td>[8, 7, 7]</td>\n",
       "      <td>&lt;function vacc_strategy_priors at 0x114098b80&gt;</td>\n",
       "    </tr>\n",
       "    <tr>\n",
       "      <th>12</th>\n",
       "      <td>S3c</td>\n",
       "      <td>3</td>\n",
       "      <td>0.7</td>\n",
       "      <td>1.5</td>\n",
       "      <td>[2, 3, 4, 5, 6, 6, 6]</td>\n",
       "      <td>[8, 7, 7]</td>\n",
       "      <td>&lt;function vacc_strategy_priors at 0x114098b80&gt;</td>\n",
       "    </tr>\n",
       "    <tr>\n",
       "      <th>13</th>\n",
       "      <td>S3d</td>\n",
       "      <td>3</td>\n",
       "      <td>0.7</td>\n",
       "      <td>1.5</td>\n",
       "      <td>[3, 4, 2, 5, 6, 6, 6]</td>\n",
       "      <td>[8, 7, 7]</td>\n",
       "      <td>&lt;function vacc_strategy_priors at 0x114098b80&gt;</td>\n",
       "    </tr>\n",
       "    <tr>\n",
       "      <th>14</th>\n",
       "      <td>S3e</td>\n",
       "      <td>3</td>\n",
       "      <td>0.7</td>\n",
       "      <td>1.5</td>\n",
       "      <td>[0, 1, 2, 3, 4, 5, 6]</td>\n",
       "      <td>[8, 7, 7]</td>\n",
       "      <td>&lt;function vacc_strategy_priors at 0x114098b80&gt;</td>\n",
       "    </tr>\n",
       "    <tr>\n",
       "      <th>15</th>\n",
       "      <td>S4a</td>\n",
       "      <td>4</td>\n",
       "      <td>0.7</td>\n",
       "      <td>1.5</td>\n",
       "      <td>None</td>\n",
       "      <td>[8, 7, 7]</td>\n",
       "      <td>&lt;function vacc_strategy at 0x1235089d0&gt;</td>\n",
       "    </tr>\n",
       "    <tr>\n",
       "      <th>16</th>\n",
       "      <td>S4b</td>\n",
       "      <td>4</td>\n",
       "      <td>0.7</td>\n",
       "      <td>1.5</td>\n",
       "      <td>[6, 5, 4, 3, 2, 2, 2]</td>\n",
       "      <td>[8, 7, 7]</td>\n",
       "      <td>&lt;function vacc_strategy_priors at 0x114098b80&gt;</td>\n",
       "    </tr>\n",
       "    <tr>\n",
       "      <th>17</th>\n",
       "      <td>S4c</td>\n",
       "      <td>4</td>\n",
       "      <td>0.7</td>\n",
       "      <td>1.5</td>\n",
       "      <td>[2, 3, 4, 5, 6, 6, 6]</td>\n",
       "      <td>[8, 7, 7]</td>\n",
       "      <td>&lt;function vacc_strategy_priors at 0x114098b80&gt;</td>\n",
       "    </tr>\n",
       "    <tr>\n",
       "      <th>18</th>\n",
       "      <td>S4d</td>\n",
       "      <td>4</td>\n",
       "      <td>0.7</td>\n",
       "      <td>1.5</td>\n",
       "      <td>[3, 4, 2, 5, 6, 6, 6]</td>\n",
       "      <td>[8, 7, 7]</td>\n",
       "      <td>&lt;function vacc_strategy_priors at 0x114098b80&gt;</td>\n",
       "    </tr>\n",
       "    <tr>\n",
       "      <th>19</th>\n",
       "      <td>S4e</td>\n",
       "      <td>4</td>\n",
       "      <td>0.7</td>\n",
       "      <td>1.5</td>\n",
       "      <td>[0, 1, 2, 3, 4, 5, 6]</td>\n",
       "      <td>[8, 7, 7]</td>\n",
       "      <td>&lt;function vacc_strategy_priors at 0x114098b80&gt;</td>\n",
       "    </tr>\n",
       "  </tbody>\n",
       "</table>\n",
       "</div>"
      ],
      "text/plain": [
       "   Scenario_name opening  effectivity    K                  order      elder  \\\n",
       "0            S1a       3          0.7  1.5                   None  [8, 7, 6]   \n",
       "1            S1b       3          0.7  1.5  [5, 4, 3, 2, 2, 2, 2]  [8, 7, 6]   \n",
       "2            S1c       3          0.7  1.5  [2, 3, 4, 5, 5, 5, 5]  [8, 7, 6]   \n",
       "3            S1d       3          0.7  1.5  [3, 4, 2, 5, 5, 5, 5]  [8, 7, 6]   \n",
       "4            S1e       3          0.7  1.5  [0, 1, 2, 3, 4, 5, 5]  [8, 7, 6]   \n",
       "5            S2a       4          0.7  1.5                   None  [8, 7, 6]   \n",
       "6            S2b       4          0.7  1.5  [5, 4, 3, 2, 2, 2, 2]  [8, 7, 6]   \n",
       "7            S2c       4          0.7  1.5  [2, 3, 4, 5, 5, 5, 5]  [8, 7, 6]   \n",
       "8            S2d       4          0.7  1.5  [3, 4, 2, 5, 5, 5, 5]  [8, 7, 6]   \n",
       "9            S2e       4          0.7  1.5  [0, 1, 2, 3, 4, 5, 5]  [8, 7, 6]   \n",
       "10           S3a       3          0.7  1.5                   None  [8, 7, 7]   \n",
       "11           S3b       3          0.7  1.5  [6, 5, 4, 3, 2, 2, 2]  [8, 7, 7]   \n",
       "12           S3c       3          0.7  1.5  [2, 3, 4, 5, 6, 6, 6]  [8, 7, 7]   \n",
       "13           S3d       3          0.7  1.5  [3, 4, 2, 5, 6, 6, 6]  [8, 7, 7]   \n",
       "14           S3e       3          0.7  1.5  [0, 1, 2, 3, 4, 5, 6]  [8, 7, 7]   \n",
       "15           S4a       4          0.7  1.5                   None  [8, 7, 7]   \n",
       "16           S4b       4          0.7  1.5  [6, 5, 4, 3, 2, 2, 2]  [8, 7, 7]   \n",
       "17           S4c       4          0.7  1.5  [2, 3, 4, 5, 6, 6, 6]  [8, 7, 7]   \n",
       "18           S4d       4          0.7  1.5  [3, 4, 2, 5, 6, 6, 6]  [8, 7, 7]   \n",
       "19           S4e       4          0.7  1.5  [0, 1, 2, 3, 4, 5, 6]  [8, 7, 7]   \n",
       "\n",
       "                                          vacc_fun  \n",
       "0          <function vacc_strategy at 0x1235089d0>  \n",
       "1   <function vacc_strategy_priors at 0x114098b80>  \n",
       "2   <function vacc_strategy_priors at 0x114098b80>  \n",
       "3   <function vacc_strategy_priors at 0x114098b80>  \n",
       "4   <function vacc_strategy_priors at 0x114098b80>  \n",
       "5          <function vacc_strategy at 0x1235089d0>  \n",
       "6   <function vacc_strategy_priors at 0x114098b80>  \n",
       "7   <function vacc_strategy_priors at 0x114098b80>  \n",
       "8   <function vacc_strategy_priors at 0x114098b80>  \n",
       "9   <function vacc_strategy_priors at 0x114098b80>  \n",
       "10         <function vacc_strategy at 0x1235089d0>  \n",
       "11  <function vacc_strategy_priors at 0x114098b80>  \n",
       "12  <function vacc_strategy_priors at 0x114098b80>  \n",
       "13  <function vacc_strategy_priors at 0x114098b80>  \n",
       "14  <function vacc_strategy_priors at 0x114098b80>  \n",
       "15         <function vacc_strategy at 0x1235089d0>  \n",
       "16  <function vacc_strategy_priors at 0x114098b80>  \n",
       "17  <function vacc_strategy_priors at 0x114098b80>  \n",
       "18  <function vacc_strategy_priors at 0x114098b80>  \n",
       "19  <function vacc_strategy_priors at 0x114098b80>  "
      ]
     },
     "execution_count": 260,
     "metadata": {},
     "output_type": "execute_result"
    }
   ],
   "source": [
    "scenario_settings"
   ]
  },
  {
   "cell_type": "markdown",
   "metadata": {},
   "source": [
    "## Scenarios S1 (current behaviour)"
   ]
  },
  {
   "cell_type": "code",
   "execution_count": 215,
   "metadata": {
    "ExecuteTime": {
     "end_time": "2021-03-10T08:37:35.120394Z",
     "start_time": "2021-03-10T08:37:35.054151Z"
    }
   },
   "outputs": [],
   "source": [
    "scenario = '1'"
   ]
  },
  {
   "cell_type": "markdown",
   "metadata": {},
   "source": [
    "### S1a - K = 1.3"
   ]
  },
  {
   "cell_type": "code",
   "execution_count": 216,
   "metadata": {
    "ExecuteTime": {
     "end_time": "2021-03-10T08:37:36.463327Z",
     "start_time": "2021-03-10T08:37:36.398225Z"
    }
   },
   "outputs": [],
   "source": [
    "K=1.3"
   ]
  },
  {
   "cell_type": "code",
   "execution_count": 219,
   "metadata": {
    "ExecuteTime": {
     "end_time": "2021-03-10T08:38:13.054130Z",
     "start_time": "2021-03-10T08:38:07.156342Z"
    }
   },
   "outputs": [
    {
     "name": "stdout",
     "output_type": "stream",
     "text": [
      "Simulating draw 3/3\u001b[1K\r"
     ]
    }
   ],
   "source": [
    "model_S1a = vaccin_model(initial_states_sept, scenario=scenario, order=order, elder=elder, effectivity=effectivity, \n",
    "                         injection_day=injection_day, injection_ratio=portion_new_strain_introduced,\n",
    "                         Nc_fun=report7_policy_function, N_vacc_fun=vacc_strategy)\n",
    "model_S1a.parameters.update({'K':K})\n",
    "out_S1a = model_S1a.sim(end_sim,start_date=start_sim,warmup=warmup,N=n_samples,draw_fcn=draw_fcn,samples=samples_dict,verbose=True)\n"
   ]
  },
  {
   "cell_type": "code",
   "execution_count": 220,
   "metadata": {
    "ExecuteTime": {
     "end_time": "2021-03-10T08:38:13.363879Z",
     "start_time": "2021-03-10T08:38:13.062059Z"
    }
   },
   "outputs": [],
   "source": [
    "S1a_H_in_binom = sample_from_binomial(out_S1a, 'H_in', n_draws_per_sample, n_samples)\n",
    "S1a_H_tot_binom = sample_from_binomial(out_S1a, 'H_tot', n_draws_per_sample, n_samples)\n",
    "S1a_time = out_S1a[\"time\"].values\n",
    "S1a_alpha = out_S1a['alpha'].mean(dim=\"Nc\").values"
   ]
  },
  {
   "cell_type": "markdown",
   "metadata": {},
   "source": [
    "### S1b - K = 1.5"
   ]
  },
  {
   "cell_type": "code",
   "execution_count": 221,
   "metadata": {
    "ExecuteTime": {
     "end_time": "2021-03-10T08:38:13.467062Z",
     "start_time": "2021-03-10T08:38:13.375116Z"
    }
   },
   "outputs": [],
   "source": [
    "K=1.5"
   ]
  },
  {
   "cell_type": "code",
   "execution_count": 222,
   "metadata": {
    "ExecuteTime": {
     "end_time": "2021-03-10T08:38:21.752030Z",
     "start_time": "2021-03-10T08:38:15.249776Z"
    },
    "scrolled": false
   },
   "outputs": [
    {
     "name": "stdout",
     "output_type": "stream",
     "text": [
      "Simulating draw 3/3\u001b[1K\r"
     ]
    }
   ],
   "source": [
    "model_S1b = vaccin_model(initial_states_sept, scenario=scenario, order=order, elder=elder, effectivity=effectivity, \n",
    "                         injection_day=injection_day, injection_ratio=portion_new_strain_introduced,\n",
    "                         Nc_fun=report7_policy_function, N_vacc_fun=vacc_strategy)\n",
    "model_S1b.parameters.update({'K':K})\n",
    "out_S1b = model_S1b.sim(end_sim,start_date=start_sim,warmup=warmup,N=n_samples,draw_fcn=draw_fcn,samples=samples_dict,verbose=True)\n"
   ]
  },
  {
   "cell_type": "code",
   "execution_count": 223,
   "metadata": {
    "ExecuteTime": {
     "end_time": "2021-03-10T08:38:21.875779Z",
     "start_time": "2021-03-10T08:38:21.759849Z"
    }
   },
   "outputs": [],
   "source": [
    "S1b_H_in_binom = sample_from_binomial(out_S1b, 'H_in', n_draws_per_sample, n_samples)\n",
    "S1b_H_tot_binom = sample_from_binomial(out_S1b, 'H_tot', n_draws_per_sample, n_samples)\n",
    "S1b_time = out_S1b[\"time\"].values\n",
    "S1b_alpha = out_S1b['alpha'].mean(dim=\"Nc\").values"
   ]
  },
  {
   "cell_type": "markdown",
   "metadata": {},
   "source": [
    "### S1c - K = 1.7"
   ]
  },
  {
   "cell_type": "code",
   "execution_count": 224,
   "metadata": {
    "ExecuteTime": {
     "end_time": "2021-03-10T08:38:22.033658Z",
     "start_time": "2021-03-10T08:38:21.891453Z"
    }
   },
   "outputs": [],
   "source": [
    "K=1.7\n",
    "infectivity_gain_lower=K\n",
    "infectivity_gain_upper=K\n"
   ]
  },
  {
   "cell_type": "code",
   "execution_count": 225,
   "metadata": {
    "ExecuteTime": {
     "end_time": "2021-03-10T08:38:28.984554Z",
     "start_time": "2021-03-10T08:38:22.037624Z"
    }
   },
   "outputs": [
    {
     "name": "stdout",
     "output_type": "stream",
     "text": [
      "Simulating draw 3/3\u001b[1K\r"
     ]
    }
   ],
   "source": [
    "model_S1c = vaccin_model(initial_states_sept, scenario=scenario, order=order, elder=elder, effectivity=effectivity, \n",
    "                         injection_day=injection_day, injection_ratio=portion_new_strain_introduced,\n",
    "                         Nc_fun=report7_policy_function, N_vacc_fun=vacc_strategy)\n",
    "model_S1c.parameters.update({'K':K})\n",
    "out_S1c = model_S1c.sim(end_sim,start_date=start_sim,warmup=warmup,N=n_samples,draw_fcn=draw_fcn,samples=samples_dict,verbose=True)\n"
   ]
  },
  {
   "cell_type": "code",
   "execution_count": 226,
   "metadata": {
    "ExecuteTime": {
     "end_time": "2021-03-10T08:38:29.097907Z",
     "start_time": "2021-03-10T08:38:28.986901Z"
    }
   },
   "outputs": [],
   "source": [
    "S1c_H_in_binom = sample_from_binomial(out_S1c, 'H_in', n_draws_per_sample, n_samples)\n",
    "S1c_H_tot_binom = sample_from_binomial(out_S1c, 'H_tot', n_draws_per_sample, n_samples)\n",
    "S1c_time = out_S1c[\"time\"].values\n",
    "S1c_alpha = out_S1c['alpha'].mean(dim=\"Nc\").values"
   ]
  },
  {
   "cell_type": "markdown",
   "metadata": {},
   "source": [
    "## Scenarios S2 (september behaviour March 1)"
   ]
  },
  {
   "cell_type": "code",
   "execution_count": 227,
   "metadata": {
    "ExecuteTime": {
     "end_time": "2021-03-10T08:38:29.256070Z",
     "start_time": "2021-03-10T08:38:29.121684Z"
    }
   },
   "outputs": [],
   "source": [
    "scenario = '2'"
   ]
  },
  {
   "cell_type": "markdown",
   "metadata": {},
   "source": [
    "### S2a - K = 1.3"
   ]
  },
  {
   "cell_type": "code",
   "execution_count": 228,
   "metadata": {
    "ExecuteTime": {
     "end_time": "2021-03-10T08:38:29.355483Z",
     "start_time": "2021-03-10T08:38:29.261630Z"
    }
   },
   "outputs": [],
   "source": [
    "K=1.3\n",
    "infectivity_gain_lower=K\n",
    "infectivity_gain_upper=K"
   ]
  },
  {
   "cell_type": "code",
   "execution_count": 229,
   "metadata": {
    "ExecuteTime": {
     "end_time": "2021-03-10T08:38:39.066764Z",
     "start_time": "2021-03-10T08:38:32.118443Z"
    }
   },
   "outputs": [
    {
     "name": "stdout",
     "output_type": "stream",
     "text": [
      "Simulating draw 3/3\u001b[1K\r"
     ]
    }
   ],
   "source": [
    "model_S2a = vaccin_model(initial_states_sept, scenario=scenario, effectivity=effectivity, \n",
    "                         injection_day=injection_day, injection_ratio=portion_new_strain_introduced,\n",
    "                         Nc_fun=report7_policy_function, N_vacc_fun=vacc_strategy)\n",
    "model_S2a.parameters.update({'K':K})\n",
    "out_S2a = model_S2a.sim(end_sim,start_date=start_sim,warmup=warmup,N=n_samples,draw_fcn=draw_fcn,samples=samples_dict,verbose=True)\n"
   ]
  },
  {
   "cell_type": "code",
   "execution_count": 230,
   "metadata": {
    "ExecuteTime": {
     "end_time": "2021-03-10T08:38:39.157968Z",
     "start_time": "2021-03-10T08:38:39.069408Z"
    }
   },
   "outputs": [],
   "source": [
    "S2a_H_in_binom = sample_from_binomial(out_S2a, 'H_in', n_draws_per_sample, n_samples)\n",
    "S2a_H_tot_binom = sample_from_binomial(out_S2a, 'H_tot', n_draws_per_sample, n_samples)\n",
    "S2a_time = out_S2a[\"time\"].values\n",
    "S2a_alpha = out_S2a['alpha'].mean(dim=\"Nc\").values\n"
   ]
  },
  {
   "cell_type": "markdown",
   "metadata": {},
   "source": [
    "### S2b - K = 1.5"
   ]
  },
  {
   "cell_type": "code",
   "execution_count": 231,
   "metadata": {
    "ExecuteTime": {
     "end_time": "2021-03-10T08:38:39.287838Z",
     "start_time": "2021-03-10T08:38:39.170719Z"
    }
   },
   "outputs": [],
   "source": [
    "K=1.5\n",
    "infectivity_gain_lower=K\n",
    "infectivity_gain_upper=K"
   ]
  },
  {
   "cell_type": "code",
   "execution_count": 232,
   "metadata": {
    "ExecuteTime": {
     "end_time": "2021-03-10T08:38:46.172450Z",
     "start_time": "2021-03-10T08:38:39.296855Z"
    }
   },
   "outputs": [
    {
     "name": "stdout",
     "output_type": "stream",
     "text": [
      "Simulating draw 3/3\u001b[1K\r"
     ]
    }
   ],
   "source": [
    "#%%snakeviz\n",
    "model_S2b = vaccin_model(initial_states_sept, scenario=scenario, effectivity=effectivity, \n",
    "                         injection_day=injection_day, injection_ratio=portion_new_strain_introduced,\n",
    "                         Nc_fun=report7_policy_function, N_vacc_fun=vacc_strategy)\n",
    "model_S2b.parameters.update({'K':K})\n",
    "out_S2b = model_S2b.sim(end_sim,start_date=start_sim,warmup=warmup,N=n_samples,draw_fcn=draw_fcn,samples=samples_dict,verbose=True)\n"
   ]
  },
  {
   "cell_type": "code",
   "execution_count": 233,
   "metadata": {
    "ExecuteTime": {
     "end_time": "2021-03-10T08:38:46.268545Z",
     "start_time": "2021-03-10T08:38:46.174945Z"
    }
   },
   "outputs": [],
   "source": [
    "S2b_H_in_binom = sample_from_binomial(out_S2b, 'H_in', n_draws_per_sample, n_samples)\n",
    "S2b_H_tot_binom = sample_from_binomial(out_S2b, 'H_tot', n_draws_per_sample, n_samples)\n",
    "S2b_time = out_S2b[\"time\"].values\n",
    "S2b_alpha = out_S2b['alpha'].mean(dim=\"Nc\").values"
   ]
  },
  {
   "cell_type": "markdown",
   "metadata": {},
   "source": [
    "## Scenarios SNV1 (vaccination effect)"
   ]
  },
  {
   "cell_type": "markdown",
   "metadata": {},
   "source": [
    "### S3a (S2b without vaccination)"
   ]
  },
  {
   "cell_type": "code",
   "execution_count": null,
   "metadata": {
    "ExecuteTime": {
     "end_time": "2021-02-11T09:34:55.955732Z",
     "start_time": "2021-02-11T09:34:55.898175Z"
    }
   },
   "outputs": [],
   "source": [
    "scenario = '2'"
   ]
  },
  {
   "cell_type": "code",
   "execution_count": null,
   "metadata": {
    "ExecuteTime": {
     "end_time": "2021-02-11T09:34:56.371052Z",
     "start_time": "2021-02-11T09:34:56.318257Z"
    }
   },
   "outputs": [],
   "source": [
    "K=1.5\n",
    "infectivity_gain_lower=K\n",
    "infectivity_gain_upper=K"
   ]
  },
  {
   "cell_type": "code",
   "execution_count": null,
   "metadata": {
    "ExecuteTime": {
     "end_time": "2021-02-11T09:35:02.390052Z",
     "start_time": "2021-02-11T09:34:56.864938Z"
    }
   },
   "outputs": [],
   "source": [
    "model_S3a = vaccin_model(initial_states_sept, scenario=scenario, effectivity=effectivity, \n",
    "                         injection_day=injection_day, injection_ratio=portion_new_strain_introduced,\n",
    "                         Nc_fun=report7_policy_function, N_vacc_fun=None)\n",
    "model_S3a.parameters.update({'K':K})\n",
    "\n",
    "out_S3a = model_S3a.sim(end_sim,start_date=start_sim,warmup=warmup,N=n_samples,draw_fcn=draw_fcn,samples=samples_dict,verbose=True)\n"
   ]
  },
  {
   "cell_type": "code",
   "execution_count": null,
   "metadata": {
    "ExecuteTime": {
     "end_time": "2021-02-11T09:35:02.951938Z",
     "start_time": "2021-02-11T09:35:02.392845Z"
    }
   },
   "outputs": [],
   "source": [
    "S3a_H_in_binom = sample_from_binomial(out_S3a, 'H_in', n_draws_per_sample, n_samples)\n",
    "S3a_H_tot_binom = sample_from_binomial(out_S3a, 'H_tot', n_draws_per_sample, n_samples)\n",
    "S3a_time = out_S3a[\"time\"].values\n",
    "S3a_alpha = out_S3a['alpha'].mean(dim=\"Nc\").values\n"
   ]
  },
  {
   "cell_type": "markdown",
   "metadata": {},
   "source": [
    "### S4a (S1b without vaccination)"
   ]
  },
  {
   "cell_type": "code",
   "execution_count": null,
   "metadata": {
    "ExecuteTime": {
     "end_time": "2021-02-11T09:35:03.071904Z",
     "start_time": "2021-02-11T09:35:02.973490Z"
    }
   },
   "outputs": [],
   "source": [
    "scenario = '1'"
   ]
  },
  {
   "cell_type": "code",
   "execution_count": null,
   "metadata": {
    "ExecuteTime": {
     "end_time": "2021-02-11T09:35:03.179573Z",
     "start_time": "2021-02-11T09:35:03.080098Z"
    }
   },
   "outputs": [],
   "source": [
    "K=1.5\n",
    "infectivity_gain_lower=K\n",
    "infectivity_gain_upper=K"
   ]
  },
  {
   "cell_type": "code",
   "execution_count": null,
   "metadata": {
    "ExecuteTime": {
     "end_time": "2021-02-11T09:35:07.736299Z",
     "start_time": "2021-02-11T09:35:03.190687Z"
    }
   },
   "outputs": [],
   "source": [
    "model_S4a = vaccin_model(initial_states_sept, scenario=scenario, effectivity=effectivity, \n",
    "                         injection_day=injection_day, injection_ratio=portion_new_strain_introduced,\n",
    "                         Nc_fun=report7_policy_function, N_vacc_fun=None)\n",
    "model_S4a.parameters.update({'K':K})\n",
    "\n",
    "out_S4a = model_S4a.sim(end_sim,start_date=start_sim,warmup=warmup,N=n_samples,draw_fcn=draw_fcn,samples=samples_dict,verbose=True)\n"
   ]
  },
  {
   "cell_type": "code",
   "execution_count": null,
   "metadata": {
    "ExecuteTime": {
     "end_time": "2021-02-11T09:35:08.056022Z",
     "start_time": "2021-02-11T09:35:07.739707Z"
    }
   },
   "outputs": [],
   "source": [
    "S4a_H_in_binom = sample_from_binomial(out_S4a, 'H_in', n_draws_per_sample, n_samples)\n",
    "S4a_H_tot_binom = sample_from_binomial(out_S4a, 'H_tot', n_draws_per_sample, n_samples)\n",
    "S4a_time = out_S4a[\"time\"].values\n",
    "S4a_alpha = out_S4a['alpha'].mean(dim=\"Nc\").values\n"
   ]
  },
  {
   "cell_type": "markdown",
   "metadata": {},
   "source": [
    "# Visualise"
   ]
  },
  {
   "cell_type": "markdown",
   "metadata": {},
   "source": [
    "## S1 and S2"
   ]
  },
  {
   "cell_type": "code",
   "execution_count": 235,
   "metadata": {
    "ExecuteTime": {
     "end_time": "2021-03-10T08:39:49.437874Z",
     "start_time": "2021-03-10T08:39:48.890734Z"
    },
    "scrolled": false
   },
   "outputs": [
    {
     "data": {
      "application/javascript": [
       "/* Put everything inside the global mpl namespace */\n",
       "window.mpl = {};\n",
       "\n",
       "\n",
       "mpl.get_websocket_type = function() {\n",
       "    if (typeof(WebSocket) !== 'undefined') {\n",
       "        return WebSocket;\n",
       "    } else if (typeof(MozWebSocket) !== 'undefined') {\n",
       "        return MozWebSocket;\n",
       "    } else {\n",
       "        alert('Your browser does not have WebSocket support. ' +\n",
       "              'Please try Chrome, Safari or Firefox ≥ 6. ' +\n",
       "              'Firefox 4 and 5 are also supported but you ' +\n",
       "              'have to enable WebSockets in about:config.');\n",
       "    };\n",
       "}\n",
       "\n",
       "mpl.figure = function(figure_id, websocket, ondownload, parent_element) {\n",
       "    this.id = figure_id;\n",
       "\n",
       "    this.ws = websocket;\n",
       "\n",
       "    this.supports_binary = (this.ws.binaryType != undefined);\n",
       "\n",
       "    if (!this.supports_binary) {\n",
       "        var warnings = document.getElementById(\"mpl-warnings\");\n",
       "        if (warnings) {\n",
       "            warnings.style.display = 'block';\n",
       "            warnings.textContent = (\n",
       "                \"This browser does not support binary websocket messages. \" +\n",
       "                    \"Performance may be slow.\");\n",
       "        }\n",
       "    }\n",
       "\n",
       "    this.imageObj = new Image();\n",
       "\n",
       "    this.context = undefined;\n",
       "    this.message = undefined;\n",
       "    this.canvas = undefined;\n",
       "    this.rubberband_canvas = undefined;\n",
       "    this.rubberband_context = undefined;\n",
       "    this.format_dropdown = undefined;\n",
       "\n",
       "    this.image_mode = 'full';\n",
       "\n",
       "    this.root = $('<div/>');\n",
       "    this._root_extra_style(this.root)\n",
       "    this.root.attr('style', 'display: inline-block');\n",
       "\n",
       "    $(parent_element).append(this.root);\n",
       "\n",
       "    this._init_header(this);\n",
       "    this._init_canvas(this);\n",
       "    this._init_toolbar(this);\n",
       "\n",
       "    var fig = this;\n",
       "\n",
       "    this.waiting = false;\n",
       "\n",
       "    this.ws.onopen =  function () {\n",
       "            fig.send_message(\"supports_binary\", {value: fig.supports_binary});\n",
       "            fig.send_message(\"send_image_mode\", {});\n",
       "            if (mpl.ratio != 1) {\n",
       "                fig.send_message(\"set_dpi_ratio\", {'dpi_ratio': mpl.ratio});\n",
       "            }\n",
       "            fig.send_message(\"refresh\", {});\n",
       "        }\n",
       "\n",
       "    this.imageObj.onload = function() {\n",
       "            if (fig.image_mode == 'full') {\n",
       "                // Full images could contain transparency (where diff images\n",
       "                // almost always do), so we need to clear the canvas so that\n",
       "                // there is no ghosting.\n",
       "                fig.context.clearRect(0, 0, fig.canvas.width, fig.canvas.height);\n",
       "            }\n",
       "            fig.context.drawImage(fig.imageObj, 0, 0);\n",
       "        };\n",
       "\n",
       "    this.imageObj.onunload = function() {\n",
       "        fig.ws.close();\n",
       "    }\n",
       "\n",
       "    this.ws.onmessage = this._make_on_message_function(this);\n",
       "\n",
       "    this.ondownload = ondownload;\n",
       "}\n",
       "\n",
       "mpl.figure.prototype._init_header = function() {\n",
       "    var titlebar = $(\n",
       "        '<div class=\"ui-dialog-titlebar ui-widget-header ui-corner-all ' +\n",
       "        'ui-helper-clearfix\"/>');\n",
       "    var titletext = $(\n",
       "        '<div class=\"ui-dialog-title\" style=\"width: 100%; ' +\n",
       "        'text-align: center; padding: 3px;\"/>');\n",
       "    titlebar.append(titletext)\n",
       "    this.root.append(titlebar);\n",
       "    this.header = titletext[0];\n",
       "}\n",
       "\n",
       "\n",
       "\n",
       "mpl.figure.prototype._canvas_extra_style = function(canvas_div) {\n",
       "\n",
       "}\n",
       "\n",
       "\n",
       "mpl.figure.prototype._root_extra_style = function(canvas_div) {\n",
       "\n",
       "}\n",
       "\n",
       "mpl.figure.prototype._init_canvas = function() {\n",
       "    var fig = this;\n",
       "\n",
       "    var canvas_div = $('<div/>');\n",
       "\n",
       "    canvas_div.attr('style', 'position: relative; clear: both; outline: 0');\n",
       "\n",
       "    function canvas_keyboard_event(event) {\n",
       "        return fig.key_event(event, event['data']);\n",
       "    }\n",
       "\n",
       "    canvas_div.keydown('key_press', canvas_keyboard_event);\n",
       "    canvas_div.keyup('key_release', canvas_keyboard_event);\n",
       "    this.canvas_div = canvas_div\n",
       "    this._canvas_extra_style(canvas_div)\n",
       "    this.root.append(canvas_div);\n",
       "\n",
       "    var canvas = $('<canvas/>');\n",
       "    canvas.addClass('mpl-canvas');\n",
       "    canvas.attr('style', \"left: 0; top: 0; z-index: 0; outline: 0\")\n",
       "\n",
       "    this.canvas = canvas[0];\n",
       "    this.context = canvas[0].getContext(\"2d\");\n",
       "\n",
       "    var backingStore = this.context.backingStorePixelRatio ||\n",
       "\tthis.context.webkitBackingStorePixelRatio ||\n",
       "\tthis.context.mozBackingStorePixelRatio ||\n",
       "\tthis.context.msBackingStorePixelRatio ||\n",
       "\tthis.context.oBackingStorePixelRatio ||\n",
       "\tthis.context.backingStorePixelRatio || 1;\n",
       "\n",
       "    mpl.ratio = (window.devicePixelRatio || 1) / backingStore;\n",
       "\n",
       "    var rubberband = $('<canvas/>');\n",
       "    rubberband.attr('style', \"position: absolute; left: 0; top: 0; z-index: 1;\")\n",
       "\n",
       "    var pass_mouse_events = true;\n",
       "\n",
       "    canvas_div.resizable({\n",
       "        start: function(event, ui) {\n",
       "            pass_mouse_events = false;\n",
       "        },\n",
       "        resize: function(event, ui) {\n",
       "            fig.request_resize(ui.size.width, ui.size.height);\n",
       "        },\n",
       "        stop: function(event, ui) {\n",
       "            pass_mouse_events = true;\n",
       "            fig.request_resize(ui.size.width, ui.size.height);\n",
       "        },\n",
       "    });\n",
       "\n",
       "    function mouse_event_fn(event) {\n",
       "        if (pass_mouse_events)\n",
       "            return fig.mouse_event(event, event['data']);\n",
       "    }\n",
       "\n",
       "    rubberband.mousedown('button_press', mouse_event_fn);\n",
       "    rubberband.mouseup('button_release', mouse_event_fn);\n",
       "    // Throttle sequential mouse events to 1 every 20ms.\n",
       "    rubberband.mousemove('motion_notify', mouse_event_fn);\n",
       "\n",
       "    rubberband.mouseenter('figure_enter', mouse_event_fn);\n",
       "    rubberband.mouseleave('figure_leave', mouse_event_fn);\n",
       "\n",
       "    canvas_div.on(\"wheel\", function (event) {\n",
       "        event = event.originalEvent;\n",
       "        event['data'] = 'scroll'\n",
       "        if (event.deltaY < 0) {\n",
       "            event.step = 1;\n",
       "        } else {\n",
       "            event.step = -1;\n",
       "        }\n",
       "        mouse_event_fn(event);\n",
       "    });\n",
       "\n",
       "    canvas_div.append(canvas);\n",
       "    canvas_div.append(rubberband);\n",
       "\n",
       "    this.rubberband = rubberband;\n",
       "    this.rubberband_canvas = rubberband[0];\n",
       "    this.rubberband_context = rubberband[0].getContext(\"2d\");\n",
       "    this.rubberband_context.strokeStyle = \"#000000\";\n",
       "\n",
       "    this._resize_canvas = function(width, height) {\n",
       "        // Keep the size of the canvas, canvas container, and rubber band\n",
       "        // canvas in synch.\n",
       "        canvas_div.css('width', width)\n",
       "        canvas_div.css('height', height)\n",
       "\n",
       "        canvas.attr('width', width * mpl.ratio);\n",
       "        canvas.attr('height', height * mpl.ratio);\n",
       "        canvas.attr('style', 'width: ' + width + 'px; height: ' + height + 'px;');\n",
       "\n",
       "        rubberband.attr('width', width);\n",
       "        rubberband.attr('height', height);\n",
       "    }\n",
       "\n",
       "    // Set the figure to an initial 600x600px, this will subsequently be updated\n",
       "    // upon first draw.\n",
       "    this._resize_canvas(600, 600);\n",
       "\n",
       "    // Disable right mouse context menu.\n",
       "    $(this.rubberband_canvas).bind(\"contextmenu\",function(e){\n",
       "        return false;\n",
       "    });\n",
       "\n",
       "    function set_focus () {\n",
       "        canvas.focus();\n",
       "        canvas_div.focus();\n",
       "    }\n",
       "\n",
       "    window.setTimeout(set_focus, 100);\n",
       "}\n",
       "\n",
       "mpl.figure.prototype._init_toolbar = function() {\n",
       "    var fig = this;\n",
       "\n",
       "    var nav_element = $('<div/>');\n",
       "    nav_element.attr('style', 'width: 100%');\n",
       "    this.root.append(nav_element);\n",
       "\n",
       "    // Define a callback function for later on.\n",
       "    function toolbar_event(event) {\n",
       "        return fig.toolbar_button_onclick(event['data']);\n",
       "    }\n",
       "    function toolbar_mouse_event(event) {\n",
       "        return fig.toolbar_button_onmouseover(event['data']);\n",
       "    }\n",
       "\n",
       "    for(var toolbar_ind in mpl.toolbar_items) {\n",
       "        var name = mpl.toolbar_items[toolbar_ind][0];\n",
       "        var tooltip = mpl.toolbar_items[toolbar_ind][1];\n",
       "        var image = mpl.toolbar_items[toolbar_ind][2];\n",
       "        var method_name = mpl.toolbar_items[toolbar_ind][3];\n",
       "\n",
       "        if (!name) {\n",
       "            // put a spacer in here.\n",
       "            continue;\n",
       "        }\n",
       "        var button = $('<button/>');\n",
       "        button.addClass('ui-button ui-widget ui-state-default ui-corner-all ' +\n",
       "                        'ui-button-icon-only');\n",
       "        button.attr('role', 'button');\n",
       "        button.attr('aria-disabled', 'false');\n",
       "        button.click(method_name, toolbar_event);\n",
       "        button.mouseover(tooltip, toolbar_mouse_event);\n",
       "\n",
       "        var icon_img = $('<span/>');\n",
       "        icon_img.addClass('ui-button-icon-primary ui-icon');\n",
       "        icon_img.addClass(image);\n",
       "        icon_img.addClass('ui-corner-all');\n",
       "\n",
       "        var tooltip_span = $('<span/>');\n",
       "        tooltip_span.addClass('ui-button-text');\n",
       "        tooltip_span.html(tooltip);\n",
       "\n",
       "        button.append(icon_img);\n",
       "        button.append(tooltip_span);\n",
       "\n",
       "        nav_element.append(button);\n",
       "    }\n",
       "\n",
       "    var fmt_picker_span = $('<span/>');\n",
       "\n",
       "    var fmt_picker = $('<select/>');\n",
       "    fmt_picker.addClass('mpl-toolbar-option ui-widget ui-widget-content');\n",
       "    fmt_picker_span.append(fmt_picker);\n",
       "    nav_element.append(fmt_picker_span);\n",
       "    this.format_dropdown = fmt_picker[0];\n",
       "\n",
       "    for (var ind in mpl.extensions) {\n",
       "        var fmt = mpl.extensions[ind];\n",
       "        var option = $(\n",
       "            '<option/>', {selected: fmt === mpl.default_extension}).html(fmt);\n",
       "        fmt_picker.append(option);\n",
       "    }\n",
       "\n",
       "    // Add hover states to the ui-buttons\n",
       "    $( \".ui-button\" ).hover(\n",
       "        function() { $(this).addClass(\"ui-state-hover\");},\n",
       "        function() { $(this).removeClass(\"ui-state-hover\");}\n",
       "    );\n",
       "\n",
       "    var status_bar = $('<span class=\"mpl-message\"/>');\n",
       "    nav_element.append(status_bar);\n",
       "    this.message = status_bar[0];\n",
       "}\n",
       "\n",
       "mpl.figure.prototype.request_resize = function(x_pixels, y_pixels) {\n",
       "    // Request matplotlib to resize the figure. Matplotlib will then trigger a resize in the client,\n",
       "    // which will in turn request a refresh of the image.\n",
       "    this.send_message('resize', {'width': x_pixels, 'height': y_pixels});\n",
       "}\n",
       "\n",
       "mpl.figure.prototype.send_message = function(type, properties) {\n",
       "    properties['type'] = type;\n",
       "    properties['figure_id'] = this.id;\n",
       "    this.ws.send(JSON.stringify(properties));\n",
       "}\n",
       "\n",
       "mpl.figure.prototype.send_draw_message = function() {\n",
       "    if (!this.waiting) {\n",
       "        this.waiting = true;\n",
       "        this.ws.send(JSON.stringify({type: \"draw\", figure_id: this.id}));\n",
       "    }\n",
       "}\n",
       "\n",
       "\n",
       "mpl.figure.prototype.handle_save = function(fig, msg) {\n",
       "    var format_dropdown = fig.format_dropdown;\n",
       "    var format = format_dropdown.options[format_dropdown.selectedIndex].value;\n",
       "    fig.ondownload(fig, format);\n",
       "}\n",
       "\n",
       "\n",
       "mpl.figure.prototype.handle_resize = function(fig, msg) {\n",
       "    var size = msg['size'];\n",
       "    if (size[0] != fig.canvas.width || size[1] != fig.canvas.height) {\n",
       "        fig._resize_canvas(size[0], size[1]);\n",
       "        fig.send_message(\"refresh\", {});\n",
       "    };\n",
       "}\n",
       "\n",
       "mpl.figure.prototype.handle_rubberband = function(fig, msg) {\n",
       "    var x0 = msg['x0'] / mpl.ratio;\n",
       "    var y0 = (fig.canvas.height - msg['y0']) / mpl.ratio;\n",
       "    var x1 = msg['x1'] / mpl.ratio;\n",
       "    var y1 = (fig.canvas.height - msg['y1']) / mpl.ratio;\n",
       "    x0 = Math.floor(x0) + 0.5;\n",
       "    y0 = Math.floor(y0) + 0.5;\n",
       "    x1 = Math.floor(x1) + 0.5;\n",
       "    y1 = Math.floor(y1) + 0.5;\n",
       "    var min_x = Math.min(x0, x1);\n",
       "    var min_y = Math.min(y0, y1);\n",
       "    var width = Math.abs(x1 - x0);\n",
       "    var height = Math.abs(y1 - y0);\n",
       "\n",
       "    fig.rubberband_context.clearRect(\n",
       "        0, 0, fig.canvas.width / mpl.ratio, fig.canvas.height / mpl.ratio);\n",
       "\n",
       "    fig.rubberband_context.strokeRect(min_x, min_y, width, height);\n",
       "}\n",
       "\n",
       "mpl.figure.prototype.handle_figure_label = function(fig, msg) {\n",
       "    // Updates the figure title.\n",
       "    fig.header.textContent = msg['label'];\n",
       "}\n",
       "\n",
       "mpl.figure.prototype.handle_cursor = function(fig, msg) {\n",
       "    var cursor = msg['cursor'];\n",
       "    switch(cursor)\n",
       "    {\n",
       "    case 0:\n",
       "        cursor = 'pointer';\n",
       "        break;\n",
       "    case 1:\n",
       "        cursor = 'default';\n",
       "        break;\n",
       "    case 2:\n",
       "        cursor = 'crosshair';\n",
       "        break;\n",
       "    case 3:\n",
       "        cursor = 'move';\n",
       "        break;\n",
       "    }\n",
       "    fig.rubberband_canvas.style.cursor = cursor;\n",
       "}\n",
       "\n",
       "mpl.figure.prototype.handle_message = function(fig, msg) {\n",
       "    fig.message.textContent = msg['message'];\n",
       "}\n",
       "\n",
       "mpl.figure.prototype.handle_draw = function(fig, msg) {\n",
       "    // Request the server to send over a new figure.\n",
       "    fig.send_draw_message();\n",
       "}\n",
       "\n",
       "mpl.figure.prototype.handle_image_mode = function(fig, msg) {\n",
       "    fig.image_mode = msg['mode'];\n",
       "}\n",
       "\n",
       "mpl.figure.prototype.updated_canvas_event = function() {\n",
       "    // Called whenever the canvas gets updated.\n",
       "    this.send_message(\"ack\", {});\n",
       "}\n",
       "\n",
       "// A function to construct a web socket function for onmessage handling.\n",
       "// Called in the figure constructor.\n",
       "mpl.figure.prototype._make_on_message_function = function(fig) {\n",
       "    return function socket_on_message(evt) {\n",
       "        if (evt.data instanceof Blob) {\n",
       "            /* FIXME: We get \"Resource interpreted as Image but\n",
       "             * transferred with MIME type text/plain:\" errors on\n",
       "             * Chrome.  But how to set the MIME type?  It doesn't seem\n",
       "             * to be part of the websocket stream */\n",
       "            evt.data.type = \"image/png\";\n",
       "\n",
       "            /* Free the memory for the previous frames */\n",
       "            if (fig.imageObj.src) {\n",
       "                (window.URL || window.webkitURL).revokeObjectURL(\n",
       "                    fig.imageObj.src);\n",
       "            }\n",
       "\n",
       "            fig.imageObj.src = (window.URL || window.webkitURL).createObjectURL(\n",
       "                evt.data);\n",
       "            fig.updated_canvas_event();\n",
       "            fig.waiting = false;\n",
       "            return;\n",
       "        }\n",
       "        else if (typeof evt.data === 'string' && evt.data.slice(0, 21) == \"data:image/png;base64\") {\n",
       "            fig.imageObj.src = evt.data;\n",
       "            fig.updated_canvas_event();\n",
       "            fig.waiting = false;\n",
       "            return;\n",
       "        }\n",
       "\n",
       "        var msg = JSON.parse(evt.data);\n",
       "        var msg_type = msg['type'];\n",
       "\n",
       "        // Call the  \"handle_{type}\" callback, which takes\n",
       "        // the figure and JSON message as its only arguments.\n",
       "        try {\n",
       "            var callback = fig[\"handle_\" + msg_type];\n",
       "        } catch (e) {\n",
       "            console.log(\"No handler for the '\" + msg_type + \"' message type: \", msg);\n",
       "            return;\n",
       "        }\n",
       "\n",
       "        if (callback) {\n",
       "            try {\n",
       "                // console.log(\"Handling '\" + msg_type + \"' message: \", msg);\n",
       "                callback(fig, msg);\n",
       "            } catch (e) {\n",
       "                console.log(\"Exception inside the 'handler_\" + msg_type + \"' callback:\", e, e.stack, msg);\n",
       "            }\n",
       "        }\n",
       "    };\n",
       "}\n",
       "\n",
       "// from http://stackoverflow.com/questions/1114465/getting-mouse-location-in-canvas\n",
       "mpl.findpos = function(e) {\n",
       "    //this section is from http://www.quirksmode.org/js/events_properties.html\n",
       "    var targ;\n",
       "    if (!e)\n",
       "        e = window.event;\n",
       "    if (e.target)\n",
       "        targ = e.target;\n",
       "    else if (e.srcElement)\n",
       "        targ = e.srcElement;\n",
       "    if (targ.nodeType == 3) // defeat Safari bug\n",
       "        targ = targ.parentNode;\n",
       "\n",
       "    // jQuery normalizes the pageX and pageY\n",
       "    // pageX,Y are the mouse positions relative to the document\n",
       "    // offset() returns the position of the element relative to the document\n",
       "    var x = e.pageX - $(targ).offset().left;\n",
       "    var y = e.pageY - $(targ).offset().top;\n",
       "\n",
       "    return {\"x\": x, \"y\": y};\n",
       "};\n",
       "\n",
       "/*\n",
       " * return a copy of an object with only non-object keys\n",
       " * we need this to avoid circular references\n",
       " * http://stackoverflow.com/a/24161582/3208463\n",
       " */\n",
       "function simpleKeys (original) {\n",
       "  return Object.keys(original).reduce(function (obj, key) {\n",
       "    if (typeof original[key] !== 'object')\n",
       "        obj[key] = original[key]\n",
       "    return obj;\n",
       "  }, {});\n",
       "}\n",
       "\n",
       "mpl.figure.prototype.mouse_event = function(event, name) {\n",
       "    var canvas_pos = mpl.findpos(event)\n",
       "\n",
       "    if (name === 'button_press')\n",
       "    {\n",
       "        this.canvas.focus();\n",
       "        this.canvas_div.focus();\n",
       "    }\n",
       "\n",
       "    var x = canvas_pos.x * mpl.ratio;\n",
       "    var y = canvas_pos.y * mpl.ratio;\n",
       "\n",
       "    this.send_message(name, {x: x, y: y, button: event.button,\n",
       "                             step: event.step,\n",
       "                             guiEvent: simpleKeys(event)});\n",
       "\n",
       "    /* This prevents the web browser from automatically changing to\n",
       "     * the text insertion cursor when the button is pressed.  We want\n",
       "     * to control all of the cursor setting manually through the\n",
       "     * 'cursor' event from matplotlib */\n",
       "    event.preventDefault();\n",
       "    return false;\n",
       "}\n",
       "\n",
       "mpl.figure.prototype._key_event_extra = function(event, name) {\n",
       "    // Handle any extra behaviour associated with a key event\n",
       "}\n",
       "\n",
       "mpl.figure.prototype.key_event = function(event, name) {\n",
       "\n",
       "    // Prevent repeat events\n",
       "    if (name == 'key_press')\n",
       "    {\n",
       "        if (event.which === this._key)\n",
       "            return;\n",
       "        else\n",
       "            this._key = event.which;\n",
       "    }\n",
       "    if (name == 'key_release')\n",
       "        this._key = null;\n",
       "\n",
       "    var value = '';\n",
       "    if (event.ctrlKey && event.which != 17)\n",
       "        value += \"ctrl+\";\n",
       "    if (event.altKey && event.which != 18)\n",
       "        value += \"alt+\";\n",
       "    if (event.shiftKey && event.which != 16)\n",
       "        value += \"shift+\";\n",
       "\n",
       "    value += 'k';\n",
       "    value += event.which.toString();\n",
       "\n",
       "    this._key_event_extra(event, name);\n",
       "\n",
       "    this.send_message(name, {key: value,\n",
       "                             guiEvent: simpleKeys(event)});\n",
       "    return false;\n",
       "}\n",
       "\n",
       "mpl.figure.prototype.toolbar_button_onclick = function(name) {\n",
       "    if (name == 'download') {\n",
       "        this.handle_save(this, null);\n",
       "    } else {\n",
       "        this.send_message(\"toolbar_button\", {name: name});\n",
       "    }\n",
       "};\n",
       "\n",
       "mpl.figure.prototype.toolbar_button_onmouseover = function(tooltip) {\n",
       "    this.message.textContent = tooltip;\n",
       "};\n",
       "mpl.toolbar_items = [[\"Home\", \"Reset original view\", \"fa fa-home icon-home\", \"home\"], [\"Back\", \"Back to previous view\", \"fa fa-arrow-left icon-arrow-left\", \"back\"], [\"Forward\", \"Forward to next view\", \"fa fa-arrow-right icon-arrow-right\", \"forward\"], [\"\", \"\", \"\", \"\"], [\"Pan\", \"Pan axes with left mouse, zoom with right\", \"fa fa-arrows icon-move\", \"pan\"], [\"Zoom\", \"Zoom to rectangle\", \"fa fa-square-o icon-check-empty\", \"zoom\"], [\"\", \"\", \"\", \"\"], [\"Download\", \"Download plot\", \"fa fa-floppy-o icon-save\", \"download\"]];\n",
       "\n",
       "mpl.extensions = [\"eps\", \"jpeg\", \"pdf\", \"png\", \"ps\", \"raw\", \"svg\", \"tif\"];\n",
       "\n",
       "mpl.default_extension = \"png\";var comm_websocket_adapter = function(comm) {\n",
       "    // Create a \"websocket\"-like object which calls the given IPython comm\n",
       "    // object with the appropriate methods. Currently this is a non binary\n",
       "    // socket, so there is still some room for performance tuning.\n",
       "    var ws = {};\n",
       "\n",
       "    ws.close = function() {\n",
       "        comm.close()\n",
       "    };\n",
       "    ws.send = function(m) {\n",
       "        //console.log('sending', m);\n",
       "        comm.send(m);\n",
       "    };\n",
       "    // Register the callback with on_msg.\n",
       "    comm.on_msg(function(msg) {\n",
       "        //console.log('receiving', msg['content']['data'], msg);\n",
       "        // Pass the mpl event to the overridden (by mpl) onmessage function.\n",
       "        ws.onmessage(msg['content']['data'])\n",
       "    });\n",
       "    return ws;\n",
       "}\n",
       "\n",
       "mpl.mpl_figure_comm = function(comm, msg) {\n",
       "    // This is the function which gets called when the mpl process\n",
       "    // starts-up an IPython Comm through the \"matplotlib\" channel.\n",
       "\n",
       "    var id = msg.content.data.id;\n",
       "    // Get hold of the div created by the display call when the Comm\n",
       "    // socket was opened in Python.\n",
       "    var element = $(\"#\" + id);\n",
       "    var ws_proxy = comm_websocket_adapter(comm)\n",
       "\n",
       "    function ondownload(figure, format) {\n",
       "        window.open(figure.imageObj.src);\n",
       "    }\n",
       "\n",
       "    var fig = new mpl.figure(id, ws_proxy,\n",
       "                           ondownload,\n",
       "                           element.get(0));\n",
       "\n",
       "    // Call onopen now - mpl needs it, as it is assuming we've passed it a real\n",
       "    // web socket which is closed, not our websocket->open comm proxy.\n",
       "    ws_proxy.onopen();\n",
       "\n",
       "    fig.parent_element = element.get(0);\n",
       "    fig.cell_info = mpl.find_output_cell(\"<div id='\" + id + \"'></div>\");\n",
       "    if (!fig.cell_info) {\n",
       "        console.error(\"Failed to find cell for figure\", id, fig);\n",
       "        return;\n",
       "    }\n",
       "\n",
       "    var output_index = fig.cell_info[2]\n",
       "    var cell = fig.cell_info[0];\n",
       "\n",
       "};\n",
       "\n",
       "mpl.figure.prototype.handle_close = function(fig, msg) {\n",
       "    var width = fig.canvas.width/mpl.ratio\n",
       "    fig.root.unbind('remove')\n",
       "\n",
       "    // Update the output cell to use the data from the current canvas.\n",
       "    fig.push_to_output();\n",
       "    var dataURL = fig.canvas.toDataURL();\n",
       "    // Re-enable the keyboard manager in IPython - without this line, in FF,\n",
       "    // the notebook keyboard shortcuts fail.\n",
       "    IPython.keyboard_manager.enable()\n",
       "    $(fig.parent_element).html('<img src=\"' + dataURL + '\" width=\"' + width + '\">');\n",
       "    fig.close_ws(fig, msg);\n",
       "}\n",
       "\n",
       "mpl.figure.prototype.close_ws = function(fig, msg){\n",
       "    fig.send_message('closing', msg);\n",
       "    // fig.ws.close()\n",
       "}\n",
       "\n",
       "mpl.figure.prototype.push_to_output = function(remove_interactive) {\n",
       "    // Turn the data on the canvas into data in the output cell.\n",
       "    var width = this.canvas.width/mpl.ratio\n",
       "    var dataURL = this.canvas.toDataURL();\n",
       "    this.cell_info[1]['text/html'] = '<img src=\"' + dataURL + '\" width=\"' + width + '\">';\n",
       "}\n",
       "\n",
       "mpl.figure.prototype.updated_canvas_event = function() {\n",
       "    // Tell IPython that the notebook contents must change.\n",
       "    IPython.notebook.set_dirty(true);\n",
       "    this.send_message(\"ack\", {});\n",
       "    var fig = this;\n",
       "    // Wait a second, then push the new image to the DOM so\n",
       "    // that it is saved nicely (might be nice to debounce this).\n",
       "    setTimeout(function () { fig.push_to_output() }, 1000);\n",
       "}\n",
       "\n",
       "mpl.figure.prototype._init_toolbar = function() {\n",
       "    var fig = this;\n",
       "\n",
       "    var nav_element = $('<div/>');\n",
       "    nav_element.attr('style', 'width: 100%');\n",
       "    this.root.append(nav_element);\n",
       "\n",
       "    // Define a callback function for later on.\n",
       "    function toolbar_event(event) {\n",
       "        return fig.toolbar_button_onclick(event['data']);\n",
       "    }\n",
       "    function toolbar_mouse_event(event) {\n",
       "        return fig.toolbar_button_onmouseover(event['data']);\n",
       "    }\n",
       "\n",
       "    for(var toolbar_ind in mpl.toolbar_items){\n",
       "        var name = mpl.toolbar_items[toolbar_ind][0];\n",
       "        var tooltip = mpl.toolbar_items[toolbar_ind][1];\n",
       "        var image = mpl.toolbar_items[toolbar_ind][2];\n",
       "        var method_name = mpl.toolbar_items[toolbar_ind][3];\n",
       "\n",
       "        if (!name) { continue; };\n",
       "\n",
       "        var button = $('<button class=\"btn btn-default\" href=\"#\" title=\"' + name + '\"><i class=\"fa ' + image + ' fa-lg\"></i></button>');\n",
       "        button.click(method_name, toolbar_event);\n",
       "        button.mouseover(tooltip, toolbar_mouse_event);\n",
       "        nav_element.append(button);\n",
       "    }\n",
       "\n",
       "    // Add the status bar.\n",
       "    var status_bar = $('<span class=\"mpl-message\" style=\"text-align:right; float: right;\"/>');\n",
       "    nav_element.append(status_bar);\n",
       "    this.message = status_bar[0];\n",
       "\n",
       "    // Add the close button to the window.\n",
       "    var buttongrp = $('<div class=\"btn-group inline pull-right\"></div>');\n",
       "    var button = $('<button class=\"btn btn-mini btn-primary\" href=\"#\" title=\"Stop Interaction\"><i class=\"fa fa-power-off icon-remove icon-large\"></i></button>');\n",
       "    button.click(function (evt) { fig.handle_close(fig, {}); } );\n",
       "    button.mouseover('Stop Interaction', toolbar_mouse_event);\n",
       "    buttongrp.append(button);\n",
       "    var titlebar = this.root.find($('.ui-dialog-titlebar'));\n",
       "    titlebar.prepend(buttongrp);\n",
       "}\n",
       "\n",
       "mpl.figure.prototype._root_extra_style = function(el){\n",
       "    var fig = this\n",
       "    el.on(\"remove\", function(){\n",
       "\tfig.close_ws(fig, {});\n",
       "    });\n",
       "}\n",
       "\n",
       "mpl.figure.prototype._canvas_extra_style = function(el){\n",
       "    // this is important to make the div 'focusable\n",
       "    el.attr('tabindex', 0)\n",
       "    // reach out to IPython and tell the keyboard manager to turn it's self\n",
       "    // off when our div gets focus\n",
       "\n",
       "    // location in version 3\n",
       "    if (IPython.notebook.keyboard_manager) {\n",
       "        IPython.notebook.keyboard_manager.register_events(el);\n",
       "    }\n",
       "    else {\n",
       "        // location in version 2\n",
       "        IPython.keyboard_manager.register_events(el);\n",
       "    }\n",
       "\n",
       "}\n",
       "\n",
       "mpl.figure.prototype._key_event_extra = function(event, name) {\n",
       "    var manager = IPython.notebook.keyboard_manager;\n",
       "    if (!manager)\n",
       "        manager = IPython.keyboard_manager;\n",
       "\n",
       "    // Check for shift+enter\n",
       "    if (event.shiftKey && event.which == 13) {\n",
       "        this.canvas_div.blur();\n",
       "        // select the cell after this one\n",
       "        var index = IPython.notebook.find_cell_index(this.cell_info[0]);\n",
       "        IPython.notebook.select(index + 1);\n",
       "    }\n",
       "}\n",
       "\n",
       "mpl.figure.prototype.handle_save = function(fig, msg) {\n",
       "    fig.ondownload(fig, null);\n",
       "}\n",
       "\n",
       "\n",
       "mpl.find_output_cell = function(html_output) {\n",
       "    // Return the cell and output element which can be found *uniquely* in the notebook.\n",
       "    // Note - this is a bit hacky, but it is done because the \"notebook_saving.Notebook\"\n",
       "    // IPython event is triggered only after the cells have been serialised, which for\n",
       "    // our purposes (turning an active figure into a static one), is too late.\n",
       "    var cells = IPython.notebook.get_cells();\n",
       "    var ncells = cells.length;\n",
       "    for (var i=0; i<ncells; i++) {\n",
       "        var cell = cells[i];\n",
       "        if (cell.cell_type === 'code'){\n",
       "            for (var j=0; j<cell.output_area.outputs.length; j++) {\n",
       "                var data = cell.output_area.outputs[j];\n",
       "                if (data.data) {\n",
       "                    // IPython >= 3 moved mimebundle to data attribute of output\n",
       "                    data = data.data;\n",
       "                }\n",
       "                if (data['text/html'] == html_output) {\n",
       "                    return [cell, data, j];\n",
       "                }\n",
       "            }\n",
       "        }\n",
       "    }\n",
       "}\n",
       "\n",
       "// Register the function which deals with the matplotlib target/channel.\n",
       "// The kernel may be null if the page has been refreshed.\n",
       "if (IPython.notebook.kernel != null) {\n",
       "    IPython.notebook.kernel.comm_manager.register_target('matplotlib', mpl.mpl_figure_comm);\n",
       "}\n"
      ],
      "text/plain": [
       "<IPython.core.display.Javascript object>"
      ]
     },
     "metadata": {},
     "output_type": "display_data"
    },
    {
     "data": {
      "text/html": [
       "<img src=\"data:image/png;base64,iVBORw0KGgoAAAANSUhEUgAAA+gAAAXcCAYAAACxmKRlAAAgAElEQVR4nOzde1wUZcM+8HsXdjkt55CTsIophAp5yPAEiofEMrXQVFLME5qmqSn661E0UzvYY4dHJUPtTRNN00rLEATNPEX6PpmKaUWZhzzkMVFZ4Pr9wTvTDrOwC1qscn0/n/mD2XtmZ4fZmfva+557BIiIiIiIiIio1ona3gAiIiIiIiIiYkAnIiIiIiIisgsM6ERERERERER2gAGdiIiIiIiIyA4woBMRERERERHZAQZ0IiIiIiIiIjvAgE5ERERERERkBxjQiYiIiIiIiOwAAzoRERERERGRHWBAJyIiIiIiIrIDDOhEREREREREdoABnYiIiIiIiMgOMKATERERERER2QEGdCIiIiIiIiI7wIBOREREREREZAcY0ImIiIiIiIjsAAM6ERERERERkR1gQCciIiIiIiKyAwzoRERERERERHaAAZ2IiIiIiIjIDjCgExEREREREdkBBnQiIiIiIiIiO8CATkRERERERGQHGNCJiIiIiIiI7AADOhEREREREZEdYEAnIiIiIiIisgMM6ERERERERER2gAGdiIiIiIiIyA4woBMRERERERHZAQZ0IiICAKSlpUEIgby8vNreFKJal5ycDCEECgsL/7b3sMfvnD1uExFRXcKATkR1UklJCZYuXYrY2Fh4e3vD0dERfn5+aN68OYYPH45PP/20tjfxH8eKuX1ZsWIFhBBYsWJFbW/KbSksLIQQAsnJybXy/kajEUajsdrLMaDn1famEBHVSQzoRFTnlJSUoEePHhBCwMvLC0lJSUhNTcXIkSPRuXNn6PV6tG/fvrY38x93/vx5FBQU4Pr167W9KQQG9DuFAb16eB4gIqpdDOhEVOesXLkSQghER0fj8uXLqtcvXryI7OzsWtgyor8woN8ZDOhERHQ3YUAnojpn9OjREEJg4cKF1V52zZo1iI+Ph7e3N5ycnGA0GjFgwADk5+eryq5evRqdOnWCl5cXnJycEBERgTlz5uDmzZuqskIIxMXF4fz58xg5ciQCAgKg1+sRGRmJjIwMVflbt27hnXfeQUJCAkJDQ6HX6+Hl5YX4+Hhs3rzZ4rZLQeXy5csYP348QkND4ejoiLS0NABVh4WtW7eie/fu8ue+//77MXXqVFy6dElV9vjx4xg+fDjCwsLg5OQELy8vREREYNSoUbhw4YKVPfyXgoICPPPMMzAajdDr9fDz80OHDh2wePFiuYy18BcXFwchlJe6vLw8CCGQlpaGPXv2oEePHvDy8lKEMWv7CgBMJhMWLVqEhx9+GO7u7nBxccGDDz6Id955B6WlpYr3NN/OwsJCPPXUU/D19YWTkxNatmypuqVC2m5Lk62Bcd++fejfvz+CgoKg1+sREBCAbt26Ye3ataqya9asQYcOHeDh4QFnZ2c0bdoUc+fOxY0bN1RlpX1z/fp1vPDCCwgJCYFer0ejRo0wf/58lJWVyWWlY8rSJP3wUJNjGQB+++03PPfcc7j//vvh5OQEb29vPPTQQ3jppZcA/PV/tjTZ8mOBFNB/+uknvPHGGwgPD4eTkxOCg4Px/PPP48qVK5Vu19ixY9GwYUPo9Xr4+PigV69e+Oabb1Rlzb9z69atw0MPPQQXFxd4e3ujf//++O2331TLfPvttxg/fjyioqIU38eJEyfijz/+UJSdN28ehBB46623LG7riRMnoNVq0bp1a4vbVFF1zgNV/TBS2XtI58FTp05h6NChCAgIgFarvet/pCIiqg4GdCKqc2bMmAEhBMaMGWPzMmVlZXKF/b777sPw4cMxbdo0JCUlISgoSBHcAGDYsGEQQiAkJATDhw/HpEmT0K5dOwgh0KlTJxQXFyvKSy36TZo0QbNmzTBu3DiMGDFCDo7Lly9XlD9z5gy0Wi06dOggb0tycrJc/t1331V9BqPRiICAALRs2RINGzbEyJEjMXHiRLnyW1mledGiRdBoNDAYDBg2bBhSU1PRpk0bCCEQERGBixcvymVPnTol39P/+OOPY+rUqRg/fjx69eoFV1dXfP/99zbt782bN8PFxQVarRY9e/bEtGnTkJKSgpiYGDRo0EAudzsBvVu3btDpdIiPj8fkyZMxePBgnDp1yqZ9VVxcjEceeUTeBykpKZgwYQKioqIghEBSUpLiPaXt7NSpE/z8/PDwww/j+eefx5AhQ+Dk5ASNRoOcnBy5/IoVK9C7d28IIdC7d2+kpaXJk6UwVNHSpUvh4OAAvV6PxMRETJ8+HcOHD0dUVBTi4uIUZadOnQohBPz8/DBmzBi88MILiIyMhBACHTt2xK1btxTljUYjgoKC0L59ezRs2BCjRo3Cs88+i6CgIAghMHPmTMW+njBhgnx8m3+O//3f/wVQs2M5Pz8fPj4+cqCbOnUqxo4di86dO0Or1cr7PC0tDZ6envD09FS898aNG63uQ+n7/vjjj8PLywujRo3C1KlTER0dDSEEWrVqpfoBY//+/fD19YVGo0GPHj0wefJkJCcnw9PTE3q9Hp9//rmivPSd69evH5ycnNCvXz+88MIL6NixI4QQaNKkieoHvZSUFNSrVw/9+vXDpEmTMGHCBLRv3x5CCISHh+Pq1aty2ZMnT0Kr1aJly5YWP+PcuXMhhMA777yj2qbbOQ8ANQ/ozZo1Q2hoKJo2bYpx48Zh7Nixqv1GRHQvY0Anojrnv//9L3Q6HTQaDZKSkvDRRx/h559/rnKZd999F0IItGnTRtUtvqSkBKdPn5b/lromJyYmqirwUsW0Yuu91LI3fPhwlJSUyPMPHz4MBwcHREREKMrfvHnTYuvaxYsX8cADD8Db2xtFRUWK14xGI4QQ6NKlC/7880/VspYqzYWFhdDpdPDw8MAPP/ygKJ+SkgIhBEaMGCHPe+uttyrtnfDnn3+qtsmS8+fPw8PDAzqdDjt27FC9fuLECcX21TSgCyGQnp5ucTlb99WECRMU/6+SkhL5xxnzEChtpxACs2bNUqzryy+/hBACPXr0UMyvaRf3w4cPw9HREd7e3jh06JDqdfP99/XXX0MIAaPRiLNnz8rzTSYTevbsCSEEXn75ZcXy0r5JSEhQ/D/Pnj0LT09PeHh4KH6AsvY/qu6xfOvWLTRo0ABCCKxevbrKzydt7+10cff19cUvv/wizy8tLcUTTzwBIYTcWg+U77NGjRrB2dkZO3fuVKzr1KlTCAoKgr+/v+KcIB1H7u7uOHjwoGKZgQMHQgiBNWvWKOb/8ssvimNOkp6eDiEE5s+fr5jfrVs3CCEs/jgWEREBnU6n6NlyJ84DQM0DuhACgwcPhslksrgsEdG9jgGdiOqkdevWITAwUNHt1dfXF0888YTF1ppmzZpBCIEDBw5YXfeDDz4InU5nsaWzpKQEvr6+ii6lQHnF1NXVVdH6JYmNjYUQwuJrlixYsABCCFW4lYKV1HJZkaVK85w5cyCEwIsvvqgq/8cff8BgMMDZ2Vlu5Xv77bcrbfW0lbT948ePt1r2dgJ6dHR0peutal+VlpbC19cXgYGBFoPSpUuXoNFokJiYqNrOBg0aWFwmNDQUvr6+ink1Dejjxo2DEAL//ve/rZYdPnw4hBB47733VK8dPXoUWq0WDRs2VMyX9s2PP/6oWmbIkCGqMHg796BbOpbXr18vt2zb4nYDunkIl/z000/QarWK3hyffPIJhBCYMmWKxfW9+eabEEIouu1L37l//etfqvK5ubkQQmDy5Mk2bW9ZWRk8PDzQuXNnxfxVq1ZBCIEXXnhBMX/v3r0QQqBv376K+XfiPADUPKDr9XrFj0VERHUNAzoR1VnFxcXIysrCjBkz8Nhjj8ldaoUQGDZsmHwv7Z9//gkhBPz9/a2u8/r169BoNPDz81N0qTWfgoKCYDAYFMsJIfDggw9aXGdSUhKEEKqWwUOHDiE5ORkNGzaEs7Oz6j7biq2LRqMRTk5OinuEzVmqNEsthebdr81JPx5IQfaXX36BwWCAo6MjEhMT8e677+LQoUOVvqcliYmJEEJgy5YtVsveTkAfNWpUpeutal8VFBRACIHGjRtX+j92dXVFs2bNVNvZp08fi+/Xvn17uWu2pKYBvXXr1hBCoKCgwGrZli1bVhq2gfIfDoQQih+bjEYjvLy8LJZ/8cUXIYTAV199Jc+zJaBX51h+4YUXIITAkiVLrH4+aXtvJ6Bb6sUhrdd836Smpsrd1S0dE4MGDYIQAgsWLJDXIX3nPvnkE9X6jx8/Lp+LzBUXF+Odd95B+/bt4e3tDa1Wq9hXTZo0UZQvKiqCh4cHAgICFD8OPfvssxBCqMY/uBPnAWn/1CSgV9x+IqK6hgGdiOj/lJSUYO3atXBzc1NUmk+ePAkhRKX3cZqTytoymRNCqO4NllgaTXrPnj1wcXGBTqdDjx49MGHCBMyYMQNpaWnyvcsVg53RaERoaGil226p0tylSxcIISx2lQaAp556CkIIbN++XZ535MgR9O/fHx4eHvJnDQkJUdznWpWuXbtCCKHq8mvJ7QR083ulK6pqX0ndwq1Nt3uvfE0D+v33329zj4tGjRpBCGGxGz8APPzwwxBCKLp4Vzd4Wfvs1T2WR4wYASEEPvvsM6ufz9r2VkX63h09etTi6xX3jbRd1ibzWxyqGpCtsv3Wt29fCCEQFhaGoUOHYtq0afKPAJ6enhY/q9RT4osvvgBQfpuAj48P/Pz8VONh3KnzQE0DemxsrMVliIjqCgZ0IqIK/vWvf0EIgeeeew5A9VrQr127BiEEWrRoUa33rG5Af/TRRyut2EsjN1sK6FUFlTvVciYxmUz49ttv8corryA4OBhCqAe7s6Q6Lei//vorhFAPyiaRBvQyZz6Ke2Wq2lfff/+9xa7BVfknA/o/0YJ+JwN6dY9le21Bnzx5ssUW6apUN6Dn5+dDiPKxESoG69LSUri4uFj8rF999RWEEHjqqacAAB9//DGEKB9DwZZtqsl5oGHDhggODrZYXho4sLJR3ImI6jIGdCKiCl599VUIITBu3Dh5nnQPemX3b5tr2rQp9Hq96pFHValuQA8PD4ePj4/F8tLo4ncioEv3nlq6R/bSpUvyY7ksPTrOnBQQevXqVWU54K/7jp9//nmrZa9evVppq9uVK1fg4uJyxwO6yWSCl5cXAgMDVSGpMjUJ6B988AGEEBYfs1cV6R70N99802pZqWXV0nscP3680nvQqxPQT5w4ASEEnn76aYvLVPdYlu5Br+x2gYrCwsJQv359m8qaq+496OvWrYMQ6nu9q1LdgJ6ZmQkhBN5++21V+T179kAIUen/RhrA7vLly3j88cchhOUxNe7UeaBly5ZwdHS0+B2RRp1nQCciUmNAJ6I6Z/Xq1di6davqWdVA+SOfpC7CH330kTx/6dKlEEIgJiZG9fzjiqO4L1u2DEKUPx7L0kBxFy9exP79+xXzqhvQpeDy3XffKcpmZGTIXWnvRECXRm/29PTE8ePHFeWlIGg+evO+ffvw+++/q9YthZd+/fpV+v4SaRR3vV6Pr7/+WvV6xRG/H3jgATg4OODw4cPyvJKSEjl83umADvz1qL7Ro0dbHJn+9OnTiu2pSUD//PPPrW6nJdIo7j4+PhZb0c33365du+Tu+OfOnZPnl5SUyN3LLY3iXp2Afu3aNWg0mkqP7+oey+ajuFt6pvvJkycVfz/00ENwcnKy+Ez3qtgyivvs2bPl+cXFxWjUqBFcXFwqfSzY7t27cf36dfnv6gZ0KYQ/8cQTirJnz56Ve0NU9r+ZPXs2hBCYN28edDodoqKiLJa7E+cBABgzZgyEUA8YKfUMYUAnIrKMAZ2I6hype2VAQAASExMxZcoUTJkyBYmJiXKLa+/evRUDhJWVlckjVPv5+WHEiBGYPn06hgwZgpCQEFWIkgZg8vHxwcCBA5GamoqRI0eia9eu0Ov1SElJUZSvbkDfsmULhCh/PJP0nPXY2FhotVq5i/idCOhA+fOPzd9r2rRpaNu2LYQof/6xeU+BCRMmwNHREV26dEFKSgqmTZuGfv36wdnZGU5OThYDtyWbN2+Gs7MztFotHnvsMUyfPh3PPvssOnTooGi1BID3338fQgh4eXlh5MiReO6559CsWTOEh4f/LV3cgfIwJrVCBgcHY/DgwZg2bRqGDRuGjh07QqvVKh53VZOAfvHiRbi6usLT0xPjxo3DnDlzMGfOHNVj/ixZunQptFqt/Gzt//f//h9GjRqFFi1aoFOnToqy0nPQ69Wrh2effRZTpkyRe4x06NDB4nPQq3tvcUxMjPxYw1mzZmHOnDlyIK/JsZyfnw9vb28IIdC5c2ekpqZi/Pjx6NatGxwcHBRlp02bBiHKn0E/Y8YMzJkzx6b716XvXe/eveHl5YWUlBSrz0H/7rvvEBAQACEE2rVrh2effRYvvPACnnrqKYSFhUEIgTNnzljdX4DlY6akpERufW7bti2mTJmCIUOGwM/PDx06dEBQUFCl/5vCwkJoNBrodDoIIfDGG29YLHcnzgNA+WCK0ne4f//+mDx5Mrp27QpXV1c89thjDOhERJVgQCeiOufEiRP4z3/+gz59+qBJkyZwd3eHTqdDQEAAEhISsHLlSout60D5I4tiY2Ph4eEBJycnNGjQAIMGDVK1iAPApk2b8Oijj8LPzw86nQ7+/v546KGH8OKLL6paNqsb0KX1P/zwwzAYDPD09ES3bt2wY8eOSu9drmlAB4CsrCx069YNXl5e0Ov1aNSoEaZMmaLqIbB3716MHj0aUVFR8Pb2hrOzMxo1aoShQ4dafA5zVQ4dOoTBgwcjKCgIOp0O9erVQ2xsrMVHuC1fvhyRkZHQ6/Xw9/fHqFGjcOHChSoHibudgA6U/2jzwQcfID4+Ht7e3tDpdAgKCkL79u0xd+7c235eO1AeXmNiYuSBCy0dB5XZvXs3nnjiCfn4CwwMxCOPPIJ169apymZmZqJ9+/YwGAxwcnJCZGQkXn75ZYutzjUJ6MePH8djjz0GHx8faDQa1fFZ3WMZKB9/YMyYMWjQoAF0Oh18fHzQpk0bVYv/n3/+idGjRyM4OBgODg5V/h/MSd+7n376CQsWLEB4eDicnJwQFBSECRMmqHrSSM6ePYvU1FQ0bdoULi4ucHNzw/33348nn3wSK1euVDzfuyaDxP3xxx8YM2aM/KSBsLAwTJ8+HdevX7d63ErHmaOjo8WeLta2ydbzgGTXrl2IjY2Fi4sL3N3d0bNnT3z33XdVDhLHgE5EdR0DOhEREREREZEdYEAnIiIiIiIisgMM6ERERERERER2gAGdiIiIiIiIyA4woBMRERERERHZAQZ0IiIiIiIiIjvAgE5ERERERERkBxjQiYiIiIiIiOwAAzoRERERERGRHWBAJyIiIiIiIrIDDOhEREREREREdoABnYiIiIiIiMgOMKATERERERER2QEGdCIiIiIiIiI7wIBOREREREREZAcY0ImIiIiIiIjsAAM6ERERERERkR1gQCciIiIiIiKyAwzoRERERERERHaAAZ2IiIiIiIjIDjCgExEREREREdkBBnQiIiIiIiIiO8CATkRERERERGQHGNCJ6qiSkhLcuHGDEydOnDhx4lRHp5KSktqujhBRBQzoRHVMWVkZTp8+jYKCAhw5coQTJ06cOHHiVEengoICnD59GmVlZbVdPSGi/8OATlTHXLp0CUeOHMH58+dRVFRU67/ec+LEiRMnTpz++amoqAjnz5/HkSNHcOnSpdqunhDR/2FAJ6pDysrK8MMPP+DkyZO1vSlERERkB06ePIkffviBrehEdoIBnagOMZlMOHLkCK5evVrbm0JERER24OrVqzhy5AhMJlNtbwoRgQGdqE65ceMGjhw5gqKiotreFCIiIrIDRUVFOHLkCG7cuFHbm0JEYEAnqlOkgM6LMBEREQGsGxDZGwZ0ojqEF2EiIiIyx7oBkX1hQCeqQ3gRvvscPnwYaWlpKCwstKl8WloahBA4f/78HduG5ORkuLm53bH1VYfRaERycnKtvHdt+vPPP/HUU0+hSZMmMBgMcHV1RWRkJObMmYM///xTVf7s2bNITk6Gr68vXFxcEBMTg5ycHFW5xYsXw2g0wsvLC0lJSaqRm00mE6KjozFjxoy/7bPVdXv37kWfPn0QEhICvV6PevXqISYmBpMmTVKUi4uLgxBCnhwdHWE0GjFs2DD88ssvVt+nsLBQXjYtLc1imWeeeUYuUxtu99yyc+dODB8+HC1btoRer4cQwuZz5T9l9erV6NixI+rVqwe9Xo/AwEA89thj2LVrl8XymZmZiI6OhpOTEwIDAzFhwgRcu3ZNUebEiRNISEiAu7s7IiIi8Mknn6jW89FHH8HHxwfnzp2zuo2sGxDZFwZ0ojqEF+G7z7p16yCEQF5enk3l77WAfuDAAfz444+18t616dKlS+jfvz/S09ORlZWF7OxszJgxAzqdDl26dFGUvXnzJpo1a4b69etj1apV2Lp1K3r37g1HR0ds375dLrdjxw44ODjgzTffxObNm9G4cWMMHz5csa5XX30VjRs3xs2bN/+Rz1nXbN68GVqtFvHx8cjMzMT27duRmZmJyZMnIzg4WFE2Li4OYWFh2LNnD/bs2YMdO3Zg0aJFqFevHkJCQnD9+vUq30sK6O7u7jAajSgtLVW8fu3aNRgMBnh4eNy1AX3WrFkwGo3o06cPOnXqZJcB/Z133sG0adOwfv16+f/90EMPwcHBQfH9BIBVq1ZBCIERI0YgNzcX6enp8PT0RLdu3RTlOnfujHbt2iErKwvTp0+HXq9XnCcvX76MwMBALF++3KZtZN2AyL4woBPVIbwI357KBtcrKyv72wbeq+sBvbZYCz+3Y8WKFTUORFOnToUQAj/99JM8b9GiRRBCYPfu3fI8k8mEyMhItGnTRrFs9+7d5b8//PBD+Pv7y3///PPPcHV1RW5ubo22jayLjY1Fo0aNLI6WXTFAx8XFoWnTpqpyy5YtgxACWVlZVb6XFNBHjBgBIQS2bt2qeD0jIwMuLi54+umn72hAr85353bPLeb77PXXX//HA7rRaKy0d0JVLl++DJ1Oh8GDB8vzSkpKEBgYqPiOAuXfUyEEvvjiCwDl+1ej0Si+740bN8aSJUvkv1NSUtCpUyebt4d1AyL7woBOVIfc6xfhgoICDBgwQO5KGBISgsGDB8utgVJ4rUgKTOYVO6PRiEcffRQff/wxHnzwQTg5OSE1NRUAIITA2LFjsWTJEkRERECn08mVo1u3bmHOnDkIDw+HXq/Hfffdh6FDh6q6GUrr37JlC1q0aAFnZ2eEh4dj2bJlqu2qOK1YsaLSfSB9xgMHDqBv375wd3eHh4cHkpKSLHZ1XLNmDWJiYuDq6go3Nzd0794dBw4cUJSRKtHHjx9HQkIC3NzcUL9+fUyaNEnV0jpr1iy0adMG3t7ecHd3R4sWLZCRkaF4vm7v3r0RGhqqCiQA0KZNG7Ro0UKxnyp2cf/111+RlJQEPz8/6PV6REREYMGCBYr15eXlWfxhQwot5vtQ+nwHDx5Et27dYDAYEBMTU+k+vl23E9ClEPLrr7/K87p27Yrw8HBV2Xnz5kEIgZMnTwIAxo8fj759+8qvf/rpp/D09JT/fuSRR/DMM8/UaLvINk2bNsXDDz9sU9nKAvr69eshhLD6Q4p0rL/++uto164dBgwYoHi9Xbt2SEpKwtixY1XH45o1a9CtWzcEBATA2dkZERERSE1NVd1eYe27s2XLFsTHx8PDwwMuLi6IiIjAvHnzVMvbcm6x5m4K6KWlpXB3d1d8377++msIIZCZmakoW1xcDIPBgJEjRwIo710jhMB3330nl2nRogUWLlwIANi1axdcXFzwww8/2Lw993rdgOhuw4BOVIfcyxfh//73vzAYDGjQoAHS09Oxbds2rFq1Cv3795ef+17dgB4YGIiwsDAsX74ceXl5+OabbwCUB/Tg4GBERUVh9erVyM3NxaFDh1BaWooePXrAzc0Ns2fPRnZ2NjIyMhAcHIzIyEhFK7vRaET9+vURGRmJDz74AFlZWejXrx+EENixYwcA4Ny5c3LIWrRokdzVtap7CqXPaDQaMWXKFGRlZeHf//433Nzc0KJFCxQXF8tl586dC41Gg2HDhmHz5s3YsGED2rZtCzc3Nxw+fFgul5ycDL1ejwceeAALFixATk4OZs6cCY1Gg9mzZyvef+jQoVi2bBmys7ORnZ2NOXPmwMXFRVHu008/hRAC2dnZimULCgoghMDbb7+t2E/mAf3cuXMIDg6Gn58f0tPT8eWXX2LcuHEQQmDMmDFyueoGdJ1OhwYNGmD+/PnYtm2b1dbJ21GdgF5WVgaTyYQrV65gy5YtCAgIwMCBAxVlAgIC0K9fP9WymzdvVrS0rlmzBm5ubti9ezfOnj2LLl26ICEhAUB5K52fnx8uXLhwm5+OqiK1Zj/33HPYu3ev4vtYkRTQTSYTTCYTrl+/jn379iEqKgphYWFWA6x5QF+2bBmcnZ1x8eJFAMDRo0flkG8poM+ZMwcLFy7E559/ju3btyM9PR0NGzZE586dFeWq+u5kZGRAo9GgU6dOWL16NXJycrB48WI8++yziuVtPbdYY+8BvaSkBMXFxSgsLMSoUaNgMBjw7bffyq+np6dDCKE490pat26Ntm3byn9HRERgyJAhuHjxIjZu3AitVot9+/ahuLgYTZs2xUsvvVStz3Ev1w2I7kYM6ER1iLWL8Bu730DwG8FWp16re6mW7bW6l03LvrH7DcVyV29erfJ1W8XHx8PLy8um8FpRZQHdwcHBYiuEEAKenp5yZVeSmZkJIQQ+/vhjxfz8/HwIIbB48WLF+p2dnRUtoTdu3ICPjw9SUlLkeTXt4j5x4kTFfKmb5KpVqwCUDzLk6OiI5557TlHu2rVrCAgIQP/+/eV5ycnJEELgo48+UpTt2bOnxZZbSWlpKUwmE1566SX4+vrKregmkwn+/hb8mroAACAASURBVP4YNGiQovzUqVOh1+sVIbFiQJ82bRqEENi3b59i2TFjxkCj0cj/r+oGdCGEzfdrVldJSYkcskwmk9xF2XyeyWSy2KNAOqak6ZlnnlF1j9bpdIpjRrJ7924IIbB69WoA5WFf+qxCCISHh+PYsWP4448/UK9ePaxcufJv+fx31JE3gA3B1qft6nMUtveybdkjFc5BxVerfr0aLly4gA4dOsj/A51Oh3bt2mH+/PmqgcAqDhInTU2aNEFBQYHV9zIP6NL95v/5z38AAFOmTEHDhg1RVlZmMaCbk34k2rFjh6rltrLvzrVr1+Dh4YEOHTooes9UVNNziyV/d0CX9oP5ZDQaMWPGDNV8S8LDw+X/YWBgIL7++mvF63PnzoUQAmfOnFEt2717dzRp0kT+e9euXQgICIAQAlqtFjNnzgRQ/sNKZGQkbt26Va3PxoBOZF8Y0InqEGsX4bS8NIhZwuoUk6Hu/huTEWPTsml5aYrlrty8UuXrtrh+/TocHBwwatSoKstVN6Cbd7U2J4RQdBWWJCUlwcvLC8XFxaoKW8XQazQaLXajjomJQY8ePeS/axrQzVtmgPJQ7OjoKA8K9t5770EIgfz8fNW2PvXUU6hXr568bHJyMjQajeq4mTZtGpydnRXztm3bhi5dusgDT5lPv//+u1xu8uTJcHZ2xuXLlwH8df9lxZbgigG9TZs2iIyMVH3uffv2QQgh32pQk4B+5coVS7tUpeL+qiqASJ/BUtCqOFlqibt48SLy8/ORm5uLuXPnwsPDA48//rgizOt0OowePVq1rBTQK3aZPXfuHI4fPy6vY9iwYfIgVAcPHkRsbCy8vLzQqlUrfPXVVzbtk3/Md2nAh8L69KWFWxS+jLFt2e/SlMsVX6n69RrIz8/HK6+8gsTERNx3330QQqBBgwaKsSPi4uLQqFEj5OfnIz8/H3v27MHq1asRHR2NoKAgHDt2rMr3MA/oQPmI7S1btpR/IJNaWS0F9J9++gkDBw6Ev78/NBqN4jhds2aNXK6y705WVpbix6HKVOfcYk11A7r0A6I0lZSUVFm+sluOLE2WHDp0CPv27cO6devQpUsXuLu7K85PUkA3P09KunfvrvrBori4GEePHpXPoceOHYOLiwt27tyJ0tJSzJw5EyEhIfD398fYsWOrDN8M6ET2hQGdqA65V1vQT548CSGE1W591Q3oPXv2tLgeIYSim6aka9euVVba4uPjFet/9NFHVeuIi4tDXFyc/HdNA7p037E5f39/9OnTBwDw8ssvV7mtWq1WXq6ygZwq7s99+/bBwcEBXbp0wdq1a7Fr1y7k5+fjxRdfVO3fw4cPQwiB9PR0AMDnn38OIf4aCMl8P5kH9EaNGqlGMQeA3377DUIIvPzyywCqH9BdXV1V67TE/NFV0mTtf3Pw4EE5ZOXn58v7zXxefn4+Tp06ZfX916xZAyEENmzYIM+ztYu7Jdu3b4erqyt+/PFHFBcXIywsDDNnzkRRURHeffddeHt7448//rC6Xf+Yu7wF3ZLi4mJMnDgRQghMmTJFnl/ZPeinT5+GRqNR3VNeUcWALt3jPGvWLGi1Wpw4cQKAOqBfu3YNQUFBCAsLw3vvvYcdO3YgPz8fGzZssPm7I41Gbu0HHlvPLbaobkA3700ihFCcdy25cOGC6jsbGBiIkSNHquZbYzKZ0KxZM0RFRcnzqtPF3ZL4+Hj5R+qMjAyEhITg2LFjOH36NKKiouRWdksY0InsCwM6UR1yr16Ei4qKbGpBnz9/PoQQqns3LVXsKgvQwF+DxFU0YMAA+Pr6qipr0nT06FGr679TAd1aC7pUGVy/fn2l2yuxtRI9ceJEODs7q44vSwEdKG8NlwbMSkxMRFBQkKoVq7ot6FLg37NnD4QQ+PLLLxXlpNsNLA0SZ4tbt26p9pM0xoGtbmeQuJ9//hlCCLzyyivyvG7duiEiIkJVVjreKwv+N2/eRHh4OObPnw8A+P777yGEUHweHx8fbN68uUbbSra7fPkyhBDymABA5QEdAPz8/PDAAw9Uuc6KAR0o72at1WrxyCOPyPMqBnRpjIiKjwDLzs62+btTnRb02grohYWFlZ6fbVXTQeIAYMiQIYpeArt27VL1UADKz93mg8RZsmLFCgQEBODSpUsAgCeffBKTJk2SX3/rrbfQunXrSpe/V+sGRHcrBnSiOuRevgjHx8fD29u7yseLSffzSoO9SWJjY+9IQJdajfbu3Wt1e20N6J999pnFluXKWLsHXbrPuLCwEI6Ojnj11VetrtPWSvSkSZNgMBgUA18VFRUhNDTUYsV5yZIlEEJg586dcHJywvTp01XvUTGgT58+HUII7N+/X1Fu7NixinvQz5w5AyEEXnvtNUW5GTNm3FZAvxNuJ6BL96+vX79enrd48WLVcWcymayOGD5z5kw0b95cvmf24MGDEOKve2CLi4vh5uaGTZs21WhbSe306dMW50s/KJk/l76ygP7bb79Bo9FYbfG1FNBXrlyJ3r17Kx65VjGgS+ecPXv2KNaXmJho83fn2rVr8PT0RGxsrNV70GsroN8JNQ3oN27cQJMmTdCsWTN5nnSbj/ktTsBf160tW7ZYXNf58+fh6+uLtWvXyvOeeOIJxbgUc+fORatWrarcnnu1bkB0N2JAJ6pD7uWLsDSKe1hYGJYuXYrc3FxkZmZi4MCBcovglStX4OPjg+bNm2Pjxo3YtGkTnnzySTRs2PCOBPSSkhIkJCTAx8cHs2fPxpYtW5CTk4P3338fycnJim7JtgZ0qcW0T58+2LlzJ/Lz86scabviKO5bt27FwoULYTAYEB0drRg8aN68eXB0dERKSgo2btyI7du3Y+3atZg8ebKiO6Stleht27ZBCIHExERs3boVmZmZaNWqFRo3bmyx4nz58mW4uLigfv36EEJYHJCvslHcAwICsHTpUmRlZWH8+PHQaDSq2w66du0Kb29vvPfee9i6dStSU1PlbbH3gJ6eno6kpCT8z//8D3Jzc7Fp0yZMnToVLi4uaNeunWIgqps3b6Jp06YICQnBhx9+iOzsbPTt2xeOjo6qVlBJQUEBnJ2dFSHs1q1bMBqN6NOnD7KzszFixAh4enpW+aMXVU/z5s2RkJCAxYsXIzc3Fzk5OViwYAECAwNhMBhw8OBBuWxcXBzCwsLkpzd8/fXXWLlyJZo3bw6NRoONGzdW+V6WArolFQP6hQsX4O3tjejoaGzYsAGbNm3CgAEDqv3dycjIkG/tyczMRG5uLpYuXao4d95uQD937hzWrVuHdevWYciQIRCifDDOdevWVXrs30m2BPS2bdti/vz5+OSTT5CXl4cVK1agTZs2cHBwwGeffaYou3LlSgghMGrUKOTl5WHp0qXw8vKSx4iwZPDgwarbsd59910YDAa8//77WL9+Pfz9/fHiiy9Wuo57uW5AdDdiQCeqQ+71i/CRI0fQr18/+Pr6Qq/XIzQ0FEOHDlV0af/mm2/Qrl07uLm5ITg4GGlpaXJF8nYDOlDecrlgwQJER0fD2dkZBoMBERERSElJwfHjx62uv2JAB4A333wTDRs2hIODg6qCXJFUsd2/fz969eoFg8EAd3d3DBw4EGfPnlWV/+STT9C5c2d4eHjAyckJRqMRiYmJyMnJkctUpxK9fPlyhIeHw8nJCWFhYZg/f77c6mupZWvQoEEQQqB9+/YWP09lz0EfNGgQfH19odPpEB4ejtdff101CvqZM2eQmJgIHx8feHp64umnn8a33357VwT0Xbt24bHHHkNQUBD0ej1cXV0RHR2NOXPm4Pr166ryv//+O4YMGQIfHx84OzsjJiZG9Rg7SVlZGTp27GjxGN6/fz9iYmLg5uaG5s2bK44Dun1r167FoEGD0LhxYxgMBuh0OoSGhmLw4ME4cuSIomzFUdy1Wi2CgoKQkJBgU/isaUAHygcYbNu2LVxdXeHn54cRI0bgwIED1f7ufPHFF4iLi4ObmxtcXV0RGRmp6LVzuwFdGmvC0mSth8GdYEtAnzx5MqKjo+Hp6QlHR0cEBASgb9++2LVrl8Xyq1evRlRUFPR6PQICAjB+/HjVCP+SnJwcuLm54ZdfflHMLykpQWpqKgICAuDj44ORI0cqHvNZ0b1eNyC62zCgE9UhvAgTERGROdYNiOwLAzpRHcKLMBEREZlj3YDIvjCgE9UhvAgTERGROdYNiOwLAzpRHcKLMBEREZlj3YDIvjCgE9UhvAgTERGROdYNiOwLAzpRHcKLMBEREZlj3YDIvjCgE9UhvAgTERGROdYNiOwLAzpRHcKLMBEREZlj3YDIvjCgE9UhvAgTERGROdYNiOwLAzpRHcKLMBEREZlj3YDIvjCgE9UhvAgTERGROdYNiOwLAzpRHcKL8N3n8OHDSEtLQ2FhoU3l09LSIITA+fPn79g2JCcnw83N7Y6trzqMRiOSk5Nr5b1rmxDC4jR//nxV2bNnzyI5ORm+vr5wcXFBTEwMcnJyVOUWL14Mo9EILy8vJCUl4dKlS4rXTSYToqOjMWPGjL/tc9V1e/fuRZ8+fRASEgK9Xo969eohJiYGkyZNUpSLi4tT/N8dHR1hNBoxbNgw/PLLL1bfp7CwUF42LS3NYplnnnlGLlMbbvfcsnPnTgwfPhwtW7aEXq+HEMLmc+U/RTonV5ycnJwsls/MzER0dDScnJwQGBiICRMm4Nq1a4oyJ06cQEJCAtzd3REREYFPPvlEtZ6PPvoIPj4+OHfunNVtZN2AyL4woBPVIbwI333WrVsHIQTy8vJsKn+vBfQDBw7gxx9/rJX3rm1CCCQmJmLPnj2K6dSpU4pyN2/eRLNmzVC/fn2sWrUKW7duRe/eveHo6Ijt27fL5Xbs2AEHBwe8+eab2Lx5Mxo3bozhw4cr1vXqq6+icePGuHnz5j/yGeuazZs3Q6vVIj4+HpmZmdi+fTsyMzMxefJkBAcHK8rGxcUhLCxM/r/v2LEDixYtQr169RASEoLr169X+V5SQHd3d4fRaERpaani9WvXrsFgMMDDw+OuDeizZs2C0WhEnz590KlTJ7sO6F9++aXie7xv3z5V2VWrVkEIgREjRiA3Nxfp6enw9PREt27dFOU6d+6Mdu3aISsrC9OnT4der1ecJy9fvozAwEAsX77cpm1k3YDIvjCgE9UhvAjfnqKiIovzy8rKKn3tdtX1gF5brIWf27FixQqbApEQAmPHjrVabtGiRRBCYPfu3fI8k8mEyMhItGnTRp43depUdO/eXf77ww8/hL+/v/z3zz//DFdXV+Tm5tr6UaiaYmNj0ahRI5hMJtVrFQN0XFwcmjZtqiq3bNkyCCGQlZVV5XtJAX3EiBEQQmDr1q2K1zMyMuDi4oKnn376jgb06nx3bvfcYr7PXn/99X88oBuNxkp7J0hsPSeXlJQgMDBQ8R0Fyr+nQgh88cUXAMr3r0ajUXzfGzdujCVLlsh/p6SkoFOnTjZ/DtYNiOwLAzpRHXKvX4QLCgowYMAA1KtXD3q9HiEhIRg8eLDcGihVlCqSApN5xc5oNOLRRx/Fxx9/jAcffBBOTk5ITU0F8FdwWrJkCSIiIqDT6eTK0a1btzBnzhyEh4dDr9fjvvvuw9ChQ1XdDKX1b9myBS1atICzszPCw8OxbNky1XZVnFasWFHpPpA+44EDB9C3b1+4u7vDw8MDSUlJFrs6rlmzBjExMXB1dYWbmxu6d++OAwcOKMpIlejjx48jISEBbm5uqF+/PiZNmqRqaZ01axbatGkDb29vuLu7o0WLFsjIyEBZWZlcpnfv3ggNDVUFEgBo06YNWrRoodhPFbu4//rrr0hKSoKfnx/0ej0iIiKwYMECxfry8vIs/rAhhRbzfSh9voMHD6Jbt24wGAyIiYmpdB/frjsd0Lt27Yrw8HDV/Hnz5kEIgZMnTwIAxo8fj759+8qvf/rpp/D09JT/fuSRR/DMM8/Y8hGohpo2bYqHH37YprKVBfT169dDCGH1hxTpWH/99dfRrl07DBgwQPF6u3btkJSUhLFjx6qOxzVr1qBbt24ICAiAs7MzIiIikJqaij///FNRztp3Z8uWLYiPj4eHhwdcXFwQERGBefPmqZa35dxizd0e0L/++msIIZCZmamYX1xcDIPBgJEjRwIALl26BCEEvvvuO7lMixYtsHDhQgDArl274OLigh9++MHmz3Gv1w2I7jYM6ER1yL18Ef7vf/8Lg8GABg0aID09Hdu2bcOqVavQv39/XL16FUD1A3pgYCDCwsKwfPly5OXl4ZtvvgFQHpyCg4MRFRWF1atXIzc3F4cOHUJpaSl69OgBNzc3zJ49G9nZ2cjIyEBwcDAiIyMVrexGoxH169dHZGQkPvjgA2RlZaFfv34QQmDHjh0AgHPnzskha9GiRXLXyKruKZQ+o9FoxJQpU5CVlYV///vfcHNzQ4sWLVBcXCyXnTt3LjQaDYYNG4bNmzdjw4YNaNu2Ldzc3HD48GG5XHJyMvR6PR544AEsWLAAOTk5mDlzJjQaDWbPnq14/6FDh2LZsmXIzs5GdnY25syZAxcXF0W5Tz/9FEIIZGdnK5YtKCiAEAJvv/22Yj+ZB/Rz584hODgYfn5+SE9Px5dffolx48ZBCIExY8bI5aob0HU6HRo0aID58+dj27ZtVlsnb0d1Arq3tzecnZ2h1+vRsmVLi11WAwIC0K9fP9X8zZs3K1pa16xZAzc3N+zevRtnz55Fly5dkJCQAKC8lc7Pzw8XLly4zU9HVZFas5977jns3btX8X2sSAroJpMJJpMJ169fx759+xAVFYWwsDCrAdY8oC9btgzOzs64ePEiAODo0aNyyLcU0OfMmYOFCxfi888/x/bt25Geno6GDRuic+fOinJVfXcyMjKg0WjQqVMnrF69Gjk5OVi8eDGeffZZxfK2nlussfeAHhAQAK1Wi3r16mHw4MH49ddfFeXS09MhhFCceyWtW7dG27Zt5b8jIiIwZMgQXLx4ERs3boRWq8W+fftQXFyMpk2b4qWXXqrW57iX6wZEdyMGdKI65F6+CMfHx8PLy8um8FpRZQHdwcHBYiuEEAKenp5yZVeSmZkJIQQ+/vhjxfz8/HwIIbB48WLF+p2dnRWVtBs3bsDHxwcpKSnyvJp2cZ84caJivtRNctWqVQDKBxlydHTEc889pyh37do1BAQEoH///vK85ORkCCHw0UcfKcr27NnTYsutpLS0FCaTCS+99BJ8fX3lVnSTyQR/f38MGjRIUX7q1KnQ6/WKkFgxoE+bNg1CCNX9m2PGjIFGo5H/X9UN6EIIm+/XrK6SkhI5ZJlMJrmLsvk8k8mk6lEwaNAgfPjhh/jqq6+wfv16JCQkQAiBf/3rX4pyOp1OccxIdu/eDSEEVq9eDaD8VgzpswohEB4ejmPHjuGPP/5AvXr1sHLlyr/l89NfLly4gA4dOsj/A51Oh3bt2mH+/PmqgcAqDhInTU2aNEFBQYHV9zIP6NL95v/5z38AAFOmTEHDhg1RVlZmMaCbKysrg8lkwo4dO1Qtt5V9d65duwYPDw906NBB0XumopqeWyz5uwO6tB/MJ6PRiBkzZqjmm/vggw8wd+5cfPHFF8jNzcUrr7wCHx8f+Pv7y71bgPIfTIUQOHPmjOq9u3fvjiZNmsh/79q1CwEBARBCQKvVYubMmQDKf1iJjIzErVu3qvXZ7uW6AdHdiAGdqA6xdhF+4w0gONj61KuXetlevWxb9o03lMtdvVr167a4fv06HBwcMGrUqCrLVTegm3e1NieEUHQVliQlJcHLywvFxcWqClvF0Gs0Gi12o46JiUGPHj3kv2sa0L/99lvFfJPJBEdHR3lQsPfeew9CCOTn56u29amnnkK9evXkZZOTk6HRaFTHzbRp0+Ds7KyYt23bNnTp0kUeeMp8+v333+VykydPhrOzMy5fvgzgr/svK7YEVwzobdq0QWRkpOpz79u3D0II+VaDmgT0K1euWNqlKhX3V1UBRPoMlY3Ibj5Za4kDgMceewyOjo6KH6J0Oh1Gjx6tKisF9IpdZs+dO4fjx4/LPwgMGzZMHoTq4MGDiI2NhZeXF1q1aoWvvvrK6jb9o+7Wk1QF+fn5eOWVV5CYmIj77rsPQgg0aNBA0Q06Li4OjRo1Qn5+PvLz87Fnzx6sXr0a0dHRCAoKwrFjx6p8D/OADpSP2N6yZUv5BzKpldVSQP/pp58wcOBA+Pv7Q6PRKI7TNWvWyOUq++5kZWUpfhyqTHXOLdZUN6BLPyBKU0lJSZXlK7vlyNJkzb59+6DVajF+/Hh5nhTQzc+Tku7du6t+sCguLsbRo0flc+ixY8fg4uKCnTt3orS0FDNnzkRISAj8/f0xduzYKsM3AzqRfWFAJ6pDrF2E09IAIaxPlm7PjYmxbdmKGeTKlapft8XJkychhLDara+6Ab1nz54W1yOEUHTTlHTt2rXKSlt8fLxi/Y8++qhqHXFxcYiLi5P/rmlAN2+Zkfj7+6NPnz4AgJdffrnKbdVqtfJylQ3kVHF/7tu3Dw4ODujSpQvWrl2LXbt2IT8/Hy+++KJq/x4+fBhCCKSnpwMAPv/8cwjx10BI5vvJPKA3atQIXbp0UW3Lb7/9BiEEXn75ZQDVD+iurq6qdVpi/ugqabL2vzl48KAcsvLz8+X9Zj4vPz9fNTq7JWvWrFHtJ1u7uFuyfft2uLq64scff0RxcTHCwsIwc+ZMFBUV4d1334W3tzf++OMPq9v1j7lbT1JVKC4uxsSJEyGEwJQpU+T5ld2Dfvr0aWg0GtU95RVVDOjSPc6zZs2CVqvFiRMnAKgD+rVr1xAUFISwsDC899572LFjB/Lz87FhwwabvzvSaOTWfuCx9dxii+oGdPPeJEIIxXnXkgsXLqi+s4GBgRg5cqRqvi0iIiIUgzhWp4u7JfHx8fKP1BkZGQgJCcGxY8dw+vRpREVFya3sljCgE9kXBnSiOuRebUEvKiqyqQV9/vz5EEKo7t20VLGrLEADlQ/eNWDAAPj6+qoqa9J09OhRq+u/UwHdWgu6VBlcv359pdsrsbUSPXHiRDg7O6uOL0sBHShvDZcGzEpMTERQUJCqFau6LehS4N+zZw+EKH+0kTnpdgNLg8TZ4tatW6r9JI1xYCtb70G3RLqNwvxzdevWDREREaqy0vFeWfC/efMmwsPD5eeqf//99xBCKD6Pj48PNm/eXKNt/VvcrScpKy5fvgwhhDwmAFB5QAcAPz8/PPDAA1Wus2JAB4Dw8HBotVo88sgj8ryKAV0aI8L8EX0AkJ2dbfN3pzot6LUV0AsLCys9P9vKlnvQKxMeHq7oRbVr1y5VDwWg/NxtPkicJStWrEBAQAAuXboEAHjyyScxadIk+fW33noLrVu3rnR5BnQi+8KATlSH3MsX4fj4eHh7e1c5Uq4UbqTB3iSxsbF3JKBLrUZ79+61ur22BvTPPvvMYstyZazdgy7dZ1xYWAhHR0e8+uqrVtdpayV60qRJMBgMioGvioqKEBoaarHivGTJEgghsHPnTjg5OWH69Omq96gY0KdPnw4hBPbv368oN3bsWMU96GfOnIEQAq+99pqi3IwZM24roN8JtxPQe/bsCZ1OpzjOFy9erDruTCaT1RHDZ86ciebNm8v3zB48eBBC/HUPbHFxMdzc3LBp06YabSupnT592uJ86Qcl8+fSVxbQf/vtN2g0GqstvpYC+sqVK9G7d2/FI9cqBnTpnLNnzx7F+hITE23+7ly7dg2enp6IjY21eg96bQX0O6GmAX3Pnj3QarV4/vnn5XnSbT7mtzgBf123tmzZYnFd58+fh6+vL9auXSvPe+KJJxTjUsydOxetWrWqdHvu5boB0d2IAZ2oDrmXL8LSKO5hYWFYunQpcnNzkZmZiYEDB8otgleuXIGPjw+aN2+OjRs3YtOmTXjyySfRsGHDOxLQS0pKkJCQAB8fH8yePRtbtmxBTk4O3n//fSQnJ2PDhg1W118xoP/8888QQqBPnz7YuXMn8vPzqxxpu+Io7lu3bsXChQthMBgQHR2tGDxo3rx5cHR0REpKCjZu3Ijt27dj7dq1mDx5sqI7pK2V6G3btkEIgcTERGzduhWZmZlo1aoVGjdubLHifPnyZbi4uKB+/foQQlgckK+yUdwDAgKwdOlSZGVlYfz48dBoNKrbDrp27Qpvb2+899572Lp1K1JTU+VtsfeA/tprr2Ho0KFYuXIl8vLysHbtWnTv3l3uomzu5s2baNq0KUJCQvDhhx8iOzsbffv2haOjo6oVVFJQUABnZ2dFCLt16xaMRiP69OmD7OxsjBgxAp6enlYfD0W2a968ORISErB48WLk5uYiJycHCxYsQGBgIAwGAw4ePCiXjYuLQ1hYmPz0hq+//horV65E8+bNodFosHHjxirfy1JAt6RiQL9w4QK8vb0RHR2NDRs2YNOmTRgwYEC1vzsZGRnyrT2ZmZnIzc3F0qVLFefO2w3o586dw7p167Bu3ToMGTIEQpQPxrlu3bpKj/07yZaAHhUVhddeew2bNm1CdnY25s6dCy8vLwQFBal+sFm5ciWEEBg1ahTy8vKwdOlSeHl5yWNEWDJ48GDV7VjvvvsuDAYD3n//faxfvx7+/v548cUXK13HvVw3ILobMaAT1SH3+kX4yJEj6NevH3x9faHX6xEaGoqhQ4cqurR/8803aNeuHdzc3BAcHIy0tDS5Inm7AR0ob7lcsGABoqOj4ezsDIPBgIiICKSkpOD48eNW118xoAPAm2++iYYNG8LBwUFVQa5Iqtju378fvXr1gsFggLu7OwYOHIizZ8+qyn/yySfo3LkzPDw84OTkBKPRiMTEROTk5MhlqlOJXr58OcLDw+Hk5ISwsDDMnz9fHrXcUsvWoEGDIIRA+/btLX6eyp6DPmjQIPj6+kKn0yE8PByvv/66ahT0M2fOIDExET4+PvD0nyClaQAAIABJREFU9MTTTz+Nb7/99q4I6J999hk6dOgAPz8/ODo6wt3dHR07dlQN+Cb5/fffMWTIEPj4+MDZ2RkxMTGqx9hJysrK0LFjR4vH8P79+xETEwM3Nzc0b95ccRzQ7Vu7di0GDRqExo0bw2AwQKfTITQ0FIMHD8aRI0cUZSuO4q7VahEUFISEhASbwmdNAzpQPsBg27Zt4erqCj8/P4wYMQIHDhyo9nfniy++QFxcHNzc3ODq6orIyEhFr53bDejSWBOWJms9DO4EWwL6gAEDcP/998PNzQ06nQ5GoxGjR4+utDfF6tWrERUVBb1ej4CAAIwfP141wr8kJycHbm5u+OWXXxTzS0pKkJqaioCAAPj4+GDkyJGKx3xWdK/XDYjuNgzoRHUIL8JERERkjnUDIvvCgE5Uh/AiTEREROZYNyCyLwzoRHUIL8JERERkjnUDIvvCgE5Uh/AiTEREROZYNyCyLwzoRHUIL8JERERkjnUDIvvCgE5Uh/AiTEREROZYNyCyLwzoRHUIL8JERERkjnUDIvvCgE5Uh0gX4aqeh0pERER1R1FREQM6kR1hQCeqQ0pKSnDkyBFcuHChtjeFiIiI7MCFCxdw5MgRlJSU1PamEBEY0InqnNOnT8shvaioCDdu3ODEiRMnTpw41bGpqKhIDuenT5+u7eoJEf0fBnSiOqasrEwO6Zw4ceLEiROnuj2dPn0aZWVltV09IaL/w4BOVEeVlJTU+q/3nDhx4sSJE6fam9itncj+MKATERERERER2QEGdCIiIiIiIiI7wIBOREREREREZAcY0ImIiIiIiIjsAAM6ERERERERkR1gQCciIiIiIiKyAwzoRERERERERHaAAZ2IiIiIiIjIDjCgExEREREREdkBBnQiIiIiIiIiO8CATkRERERERGQHGNCJiIiIiIiI7AADOhEREREREZEdYEAnIiIiIiIisgMM6ERERERERER2gAGdiIiIiIiIyA4woBMRERERERHZAQZ0IiIiIiIiIjvAgE5ERERERERkBxjQiYiIiIiIiOwAAzoRERERERGRHWBAJyIiIiIiIrIDDOhEREREREREdoABnYiIiIiIiMgOMKATERERERER2QEGdCIiIiIiIiI7wIBOREREREREZAcY0ImIiIiIiIjsAAM6ERERERERkR1gQCciIiIiIiKyAwzoRERERERERHaAAZ2IiIiIiIjIDjCgExEREREREdkBBnQiIiIiIiIiO8CATkREZCMhBOLi4mp7M2rMaDTCaDT+re9RWFgIIQSSk5MV85OTkyGEQGFh4d/6/rZasWIFhBBYsWJFbW8KERGRjAGdiIj+dkIICCEQGhqKGzduWCxjNBohhIDJZPqHt85292JAv9NB1V4Cel5eHoQQSEtLs/g6AzoREdkjBnQiIvrbSQFdCIH58+dbLMOA/vf78ccf8eOPPyrm/VMB/fTp0ygoKEBxcfEdeR9rrAX0y5cvo6CgAJcvX/5HtoeIiMgWDOhERPS3E0LA29sbPj4+8PDwwPnz51VlGNBrxz8V0P9p1gI6ERGRPWJAJyKiv50QAsHBwVi4cCGEEBg3bpyqTFUBfe/evXjyySfh7+8PnU6H+vXrY9SoUTh16pSi3IABAyCEwPHjxxXzBw4cCCEE4uPjFfOvXr0KR0dHdOzY0ebPERcXh/Pnz2PkyJEICAiAXq9HZGQkMjIyLC5TWlqKRYsWoXXr1nBzc4OrqytatWqFRYsWobS0VFU+Ly8Pjz76KIKDg6HT6XDfffehdevWqqApdRn/6aef8MYbbyA8PBxOTk4IDg7G888/jytXrqjWXbGLe1xcnKJ3g/kkdUU/deoUZs+ejXbt2sn7PzAwEAMGDMChQ4dU71GdLu7S/7yyyXwdP/zwA1JTU9GqVSvcd9990Ov1CA0NxYgRI/Drr79afC9LU15eHoCqf5jIz89H37594efnJ7/P6NGjVcdbxc+Vnv7/2bvz8KjpRX3gme6FI5u9iHJAcCkoeDwKIvo7yOWggCuiggsIKrIcBBGVRdSDCgKiqKigwrWoLchWurK1LAWkZd/3RShbWdpCoS3d398foZNOk2ln2k7yzeT9PE+e+5AMM99kfM/lnSTf/ITWrVsjMDAQDRs2xJtvvolLly6p/s727dvRq1cvNG3aFAEBAWjQoAHuuecevP3227pdYUBERGJiQSciIo8rLegFBQW4/fbb4e/vj0OHDjm8xllBDwsLg6+vL2rXro2XX34ZI0eOxLPPPgsfHx/cfPPNDuVs1qxZkCQJP/30k8N7NGrUCJIkISgoyOEe+Li4OEiShE8++cTl/bj33nsRGhqK1q1bY+jQoXjzzTdRr149SJKEsLAw1d958cUX7fffDx8+HO+88459X1988UWH1y5ZsgQ2mw316tVD37598cEHH2DQoEF45JFH0LBhQ4fXlhbDZ555BvXq1cPAgQMxatQo3HvvvZAkCW3atFHd71++oM+ePRvdu3eHJEno3r07xo0bZ19Ki+Uff/yB4OBgPPHEExgyZIj9+Pv5+aFWrVrYsWOHw2e4U9C/+eYbh88sXe6//35IkoT//Oc/9tdOmjQJdevWxbPPPothw4bhvffeQ9euXWGz2dCwYUOcOnXK/tqoqCj753Xs2NHhvUs/31lBj46Ohr+/PwICAvDKK69gzJgxePTRRyFJEm6++WYcO3ZMc7969uyJOnXqoHfv3nj33Xdx3333QZIkPPLIIw6v37FjBwIDAxEcHIwXX3wRY8aMwZAhQ9ClSxf4+/vj6tWrICIi62JBJyIijyst6ACwcOFCSJKEHj16OLxGq6AfOnQI/v7+uPPOO3H27FmH169atQo+Pj7o3r27fd2xY8fsZanU3r17IUkSHnvsMUiShJUrV9q3vfPOO5AkCevWrXN5PyRJQv/+/VFUVGRfv2/fPvj6+qJly5YOr58zZw4kSULbtm2RnZ1tX5+dnW0voREREfb1PXr0gCRJqtILQHVbQGkxvPHGG3HixAn7+uLiYjz33HOQJAmfffaZw9+pyiRx58+fx5UrV1Trt23bhlq1aqFr164O66s7SVxCQgL8/Pxwxx13OOzz6dOnkZeXp3r90qVL4ePjg0GDBjmsr8okcVevXkWDBg3g6+uLDRs2OLx+4sSJkCQJjz76qOZ+NW3a1OHHosLCQnTo0AGSJGHjxo329SNGjIAkSYiKilKNKTMzU/OqCiIisg4WdCIi8riyBR0AHnroIUiShPXr19vXaRX00gK9ZMkSzfctPZNe9nLuZs2aISQkBCUlJQCAadOmQZIkbNq0CT4+Pvjggw/sr73nnntQu3Zt5Ofnu7wftWrV0iysjzzyCCRJctjWuXNnSJKExMRE1esTEhIgSRI6depkX1darMtfXaCltBiWL+GA/EOFj48PmjVr5rC+pmdxf+qppxAYGOhwWXZ1CvqePXtQp04d3HjjjTh8+LDL42jdujWaN2/usK4qBT08PBySJKF3796q1xcUFNj/Gy37g0jpfmnd4hAWFgZJkvD999/b17377ruQJAkrVqxwef+IiMg6WNCJiMjjyhf05ORkSJKEdu3a2Yu0VkF/8MEHIUkSRo4cqXkp9MMPPwxJkrB161b733njjTcgSRJ27twJAOjevTuaNGkCAGjbti3atWsHALhw4QJsNpvqDHBl+/HPf/5Tc1vv3r0hSRJOnjxpX9egQQP4+Pho3ldcWFgIX19f1K1b174uMjISkiShXr16GDx4MObPn+9w6XZZpcVw7dq1mttLj2fZe6CrWtDj4+Px1FNPoVGjRvDz81Pd11326oaqFvSzZ8+iadOmCAwM1LyioaSkBOHh4ejcuTNCQkLg6+vrMIaAgACH11eloJeWZ2fzCfTt21d19rt0v0r/eysrMTFR9SPK5s2b4evri+DgYPTt2xe//fabamZ9IiKyLhZ0IiLyuPIFHQBeeOEFSJKEefPmAdAu6HfccUeFk4iVLklJSfa/U3pZ+dSpU1FUVIR69erhtddeAwCMHj0avr6+uHz5MubNmwdJkjBlyhS39sPZLO5aBdTX1xchISFO3++mm26CzWZzWBcfH49OnTrB39/fvn9t27Z1uDS/7OcdPHhQ871Lf9woe7a3KgW99AqE+vXro1evXnj//ffx3//+F+PGjbPf7152n6tS0Esv+bfZbJg7d67mOEqvprj55pvRu3dvjBo1yv5DTel/O2VVpaD3798fkiQhPj5e8++MHj0akiTh119/dWm/nI0hOTkZTz75JIKDg+3fccuWLe1ZICIi62JBJyIij9Mq6EePHoW/vz+aN2+O/Px8zYLepk0bSJKkOSO5M2lpaZAkCU888QQ2bdoESZIQHh4OQLmsPCoqCgMGDFCdfXdlP9wp6O6eQS8rOzsbq1atwogRIxAUFITAwEDs379f9XmePINeWFiIevXqoVGjRqo5AACgS5cu1S7oxcXFePrppyFJEj7//HPNfTl//jx8fHzQunVrzdsLQkNDa6SgV+cMujsFvVReXh42bNiAjz/+GPXq1YPNZsOqVas0X0tERNbAgk5ERB6nVdABYPjw4ZAkCV999ZVmQX/rrbcqPKPpzN13340bbrgBn332GSRJsj8eKzc3F4GBgRg6dChuv/121K9f361Judwt6KX3oJc/+w3Ik9yVvwfdmdL9mDp1qurzqnsP+u+//+60lJb+2PHcc8+ptl29ehUhISHVLujDhg2DJEl44403nOw9kJKSAkmS8O6776q2nTp1yn7ZfVnr1q2DJEn46KOPNN+zonvQ+/Tpo3p9YWEhbrvtNkiS5DAZXHUKelml38OwYcMqfS0REXkvFnQiIvI4ZwU9IyMD9erVQ/369XHjjTeqCvqBAwfss7hrTZyWn5+veb/y0KFDIUkSGjZsiLvuusth2//+7/+iYcOGkCT1TPKu7Ic7Bb30cvsHHngAOTk59vU5OTl44IEHIEmOs7ivXLkSubm5qvcu/aFi+vTpqs+raBb3Tz/91OF9tAr6kiVLnJbI4uJi1KpVC02bNnV4/FdBQYH9Xv/qFPRvvvkGkiShc+fOFT7/u/SHgnbt2jnMnn/16lV069bNPo6y9u3bpzmOUpXN4p6SkuLw+i+//BKS5HwWd1cL+rp163D58mXVa0vff+TIkU6OAhERWQELOhEReZyzgg4AU6ZMcbifvPxz0MPDw+Hv7w8/Pz889dRTePfddzFs2DB0794dDRo0QIsWLVTvGRUVZX+/oUOHOmwbP368fdsPP/zg9n64U9ABoFevXpAkCc2aNcM777yDESNGoHnz5pAkCb169XJ47b333ou6deuie/fuGD58OEaOHIl///vfkCT5MV4ZGRmqz+vevTvq1auHQYMGuf0cdEB+tFetWrVQt25dDB06FOPHj8f48ePtJXLMmDH28Q8fPhz/+c9/0LJlSzRs2BCdOnWqckFPS0uDj48PbDYb3nnnHc1JAMteSv7SSy9BkiS0bt0a7777Lvr374+mTZsiNDQU//znP1UFvaioCI0bN0ZgYCDefPNNfPbZZxg/frz9xwxXnoPeu3dvfPDBB/ZL+Rs1auT0OeiuFvTu3bsjODgYjz/+ON566y2MHj0aTz31FHx9fVGvXj0cOXJE9T5ERGQdLOhERORxFRX0vLw8NGvWzGlBB4Ddu3ejX79+aNq0KQICAlC/fn20atUKAwcO1Lxn99KlS/Dx8YEkSVi8eLHDttIZ5CVJcrin29X9cLegFxcXY/r06WjTpg2Cg4MRHByM+++/Hz/88IPq8vr58+fjpZdewh133IHatWvjhhtuQKtWrTB27FhcuHBB8/OOHTuGr776Ci1atEBgYCBuueUWDB8+XPO+fa2CDgDLli1D+/btUbt2bdVZ8cLCQkydOhV33XUXgoKCcNNNN6FPnz44ceKE5j67WtBLX1fRUvY9cnJyMHbsWNx+++0IDAzE3//+dwwZMgTp6eno2LGjqqAD8ozp//73v1GnTh3YbDZIkoQ1a9YAqPje+82bN+PZZ59FSEgI/P390aRJEwwePNh+q0RF+1WWVkFfsWIFXnvtNdx1112oU6cOatWqhdDQUAwbNszhSggiIrImFnQiIiITcuW54kRERGQuLOhEREQmxIJORETkfVjQiYiITIgFnYiIyPuwoBMREZkQCzoREZH3YUEnIiIiIiIiEgALOhEREREREZEAWNCJiIiIiIiIBMCCbjElJSXIyspCSUmJ0UMhIiIiIiKiMljQLSYrKwuSJCErK0uXz8vMzERmZqYun0XkDZgZ87tw4QIkSXJYLly4YPSwvBLzQuQeZoZIfCzoFsOCTiQ2Zsb8WND1w7wQuYeZIRIfC7rFsKATiY2ZMT8WdP0wL0TuYWaIxMeCbjEs6ERiY2bMjwVdP8wLkXuYGSLxsaBbDAs6kdiYGfNjQdcP80LkHmaGSHws6BbDgk4kNmbG/FjQ9cO8ELmHmSESHwu6xbCgE4mNmTE/FnT9MC9E7mFmiMTHgm4xLOhEYmNmzI8FXT/MC5F7mBki8bGgWwwLOpHYmBnzY0HXD/NC5B5mhkh8LOgWw4JOJDZmxvxY0PXDvBC5h5khEh8LusWwoBOJjZkxPxZ0/TAvRO5hZojEx4JuMSzoRGJjZsyPBV0/zAuRe5gZIvGxoFsMCzqR2JgZ82NB1w/zQuQeZoZIfCzoFsOCTiQ2Zsb8WND1w7wQuYeZIRIfC7rFsKATiY2ZMT8WdP0wL0TuYWaIxMeCbjEs6ERiY2bMjwVdP8wLaSooAC5cAI4cAfbvl//v2bNGj0oIzAyR+FjQLYYFnUhszIz5saDrh3khu+Ji4PRpICUFiIsDYmPVy5Ytcnm3MGaGSHws6BbDgk4kNmbG/FjQ9cO8EACgqAhITtYu5eWXxEQgLc3oERuGmSESHwu6xbCgE4mNmTE/FnT9MC/kVjkvu6xdC1y8aPTodcfMEImPBd1iWNCJxMbMmB8Lun6YF8Lmze6X89IlPh64csXoPdAVM0MkPhZ0i2FBJxIbM2N+LOj6YV4s7vLlqpfz0mXNGvn+dYtgZojEx4JuMSzoRGJjZsyPBV0/zIvFbdtW/YIeGwvs3m30nuiGmSESHwu6xbCgE4mNmTE/FnT9MC8WlpvrfLb2qiwZGUbvkS6YGSLxsaBbDAs6kdiYGfNjQdcP82Jh+/bVXDmPjZXPxlsAM0MkPhZ0i2FBJxIbM2N+LOj6YV4sqrAQWLq0Zgt6fDyQl2f0nnkcM0MkPhZ0i2FBJxIbM2N+LOj6YV4s6vjxmi3npcvhw0bvmccxM0TiY0G3GBZ0IrExM+bHgq4f5sWi1q71TEFfuRIoKTF67zyKmSESHwu6xbCgE4mNmTE/FnT9MC8WlJXlmXJeupw/b/QeehQzQyQ+FnSLYUEnEhszY34s6PphXixo717PFvSUFKP30KOYGSLxsaBbDAs6kdiYGfNjQdcP82IxxcXA8uVVL98ffww0bAjceiswZAiweLH269LSjN5Tj2FmiMTHgm4xLOhEYmNmzI8FXT/Mi8WkpVXv7PiUKYAkKUujRnJpL/+6hAR5pngvxMwQiY8F3WJY0InExsyYHwu6fpgXi9m82fUyPnIkEBHhuC4yEvDxcSzpNpt8Nr3839+zx+i99Qhmhkh8LOgWw4JOJDZmxvxY0PXDvFhIXh4QF+daOR81Si7et9wCzJzpuC06Wj6Tfs89jkW9Tx8gJkZ5XVwccPmy0Xtd45gZIvGxoFsMCzqR2JgZ82NB1w/zYiFHj7pWzidPBvz9leLdr5/262JigOeeU5d0L58wjpkhEh8LusWwoBOJjZkxPxZ0/TAvFrJmTeXlfPZsoE4dpXB37ux4Vlxree01x5L+7ruO29PTjd7zGsXMEImPBd1iWNCJxMbMmB8Lun6YF4u4dKnych4dDdx7r1K0//lP57O0l1/69VP+3hNPOG7780+j975GMTNE4mNBtxgWdCKxMTPmx4KuH+bFInbvrrxkv/66UrIbNFBPEFfREhMDdOsmF3WtM+7nzxt9BGoMM0MkPhZ0i2FBJxIbM2N+LOj6YV4soLgYWLas4oL97beAn58yK/v48a6X87Il3dm2deuMPgo1hpkhEh8LusWwoBOJjZkxPxZ0/TAvFnDmTOXlum1b5ez5c8+5X85dWbxkRndmhkh8LOgWw4JOJDZmxvxY0PXDvFjA1q0VF+cfflDK+f/8j/ys85oo5OPHA4MGKX/evdvoI1EjmBki8bGgWwwLOpHYmBnzY0HXD/Pi5UpKKr+8fe5c4NVXgfr1gf79q1/MY2KUM/L+/kBYmLx+2TL5cnuTY2aIxMeCbjEs6ERiY2bMjwVdP8yLl0tPd71YR0YCCxfWzNnzss9H79ZNWX/6tNFHpNqYGSLxsaBbDAs6kdiYGfNjQdcP8+Ll9u71zP3klS0REUBwsHIW/ddf5fUpKUYfkWpjZojEx4JuMSzoRGJjZsyPBV0/zIuXW7XKmIIeGwv06KGcRe/RQ14XFwfk5hp9VKqFmSESHwu6xbCgE4mNmTE/FnT9MC9eLDu74gI9ZgzQsyfw88+eKei//iqfPZck+Wz63Lny+kOHjD4y1cLMEImPBd1iWNCJxMbMmB8Lun6YFy927FjFBfquu5Qz3N9/734BX7IEOH9eXg4eBJKS1K/p1k35jN695XWrVxt9ZKqFmSESHwu6xbCgE4mNmTE/FnT9MC9eLDnZebmeMUMpzk2ayDOvu1vO09PVn3n+PLB+vfK6mTMBHx/5c264AViwQF5v4meiMzNE4mNBtxgWdCKxMTPmx4KuH+bFS+XnA/Hxrt0f7u6j1RISgIsXnX92YaHjo906dlQ+a8QIed2+fbodiprGzBCJjwXdYljQicTGzJgfC7p+mBcvdfy484IdGQnUrSsXZj8/ecZ1V4r5+vXAuXPys9Urc/Cg8vcmT1YKeufOSsl35X0ExMwQiY8F3WJY0InExsyYHwu6fpgXL1X2MnOtyeFKC/O//uVaOV++XD4r76r8fPky+NhY+fL5nj2BKVMcL6XXukTeBJgZIvGxoFsMCzqR2JgZ82NB1w/z4oVyciou223bKgX9009dK+gnT7o/jj17Kn7PnTtrft91wMwQiY8F3WJY0InExsyYHwu6fpgXL3TokPNSHB6uTNoWEgJER1dezjdsqNo4cnMrvg9+2TKguLhm910HzAyR+FjQLYYFnUhszIz5saDrh3nxQqtWOS/FAwcqZ8+ff77ych4fD1y9WvWx7Nyp/b5RUfL/PXu25vZbJ8wMkfhY0C2GBZ1IbMyM+bGg64d58TKXLlVcuP/xD/eefX7qVPXGU/Ys+rx58g8EoaHyLPKxscDmzTWz3zpiZojEx4JuMSzoRGJjZsyPBV0/zIuX2bev4sK9cCEwahTw1FOVl/MDB2pmTKX3okdEAL6+jpfXx8cDBQU18zk6YWaIxMeCbjEs6ERiY2bMjwVdP8yLl1m3zrVJ3ypbtmypuTHl5Skzurdpo5zBnzJFXnf8eM19lg6YGSLxsaBbDAs6kdiYGfNjQdcP8+JFiooqnpTNnSUnp2bHtn+//L7DhysFvXt3ed369TX7WR7GzBCJjwXdYljQicTGzJgfC7p+mBcvkp5eM+W8qrO2VyQvD4iLA+bOBfz81LPIZ2fX/Gd6CDNDJD4WdIthQScSGzNjfizo+mFevMjhw85Ld//+QKdOwPvvAwsWeHZiOGfWr5ffv+xz2Esvcz90yDOf6QHMDJH4WNAthgWdSGzMjPmxoOuHefEiGzc6L9133qmU4rAw569bulS+VN4TSn9AKHuZ+zPPyOvWrvXMZ3oAM0MkPhZ0i2FBJxIbM2N+LOj6YV68REkJsGyZdun+/XfAZpML8a23Vnz2fOdOz40xK0v+jLKXud94o3KZe16e5z67BjEzROJjQbcYFnQisTEz5seCrh/mxUuUll+tZcQI5Yz1889XXNA9/d9CQoL8OQ88oIzpiy/kdSdPevazawgzQyQ+FnSLYUEnEhszY34s6PphXrzE8ePOS3eHDkoZnjjR+etWr/b8OHftcrzM3WYDBg6U123d6vnPrwHMDJH4WNAthgWdSGzMjPmxoOuHefES27Zpl+6oKOBvf5PLcK1awOLFzgv6gQOeH+e5c/JnRUQA77wjX35f+vnLlsmX6guOmSESHwu6xbCgE4mNmTE/FnT9MC9eIjFRu3R/8YVy9vzhhyu+vP3yZc+Ps6gIWLLE+RgyMjw/hmpiZojEx4JuMSzoRGJjZsyPBV0/zIsXuHbNeeHt1Usp6G+/7fx1iYn6jXfTJmPP4lcTM0MkPhZ0i2FBJxIbM2N+LOj6YV68wJkzzgvv7bcrBf3XX52/bs8e/cZb0f3yJnjcGjNDJD4WdIthQScSGzNjfizo+mFevMDevdpl99dflXJ+220VX95+8aJ+483JUT7388+Bxx8HGjcGFiyQ1127pt9YqoCZIRIfC7rFsKATiY2ZMT8WdP0wL17gzz+1S3d0NDB1KvDKK8Bbbzkv50ZMzrZqlfzZXbsqPyJ89JG87vhxfcfiJmaGSHws6BbDgk4kNmbG/FjQ9cO8mFxxMRAfX/HZ8cqWHTv0H/fu3fJnf/ihUtC7dZPXJSfrPx43MDNE4mNBtxgWdCKxMTPmx4KuH+bF5C5dql45j40F0tL0H3fp49YWLAD8/eWCHhICxMQAcXFAfr7+Y3IRM0MkPhZ0i2FBJxIbM2N+LOj6YV5M7q+/qlfOlyyRH32mt6Ii5cz//fcrZ9GnTZPXpabqPyYXMTNE4mNBtxgWdCKxMTPmx4KuH+bF5LZt0y7eQ4cC/foB338vn5V2VtC3bDFu7MnJ8hgGDlQKep8+8rqNG40bVyWYGSLxsaBbDAs6kdiYGfNjQdcP82JyK1dqF+9mzeTCa7MB4eHOC/rp08aN/cgReQwzZyoFvWVLeV18PFBYaNzYKsDMEImPBd3c2zSNAAAgAElEQVRiWNCJxMbMmB8Lun6YFxPLy9Mu3bNnK4X3zjudl3OjS3BWljKWJk2UHxQiIoz/8aACzAyR+FjQLYYFnUhszIz5saDrh3kxsbQ07eI9bJhS0F96yXlB37TJ6D0AEhLksTz3nDLmESPkdZs3Gz06TcwMkfhY0C2GBZ1IbMyM+bGg64d5MbH9+7WLd8eOStn94gvnBV2Eidh27ZLHMnGiMuZOncQ4w+8EM0MkPhZ0i2FBJxIbM2N+LOj6YV5MbMMGdemOiQHq15eLbnAwsHixdjkX5VFm58/L44mKAnr2lIt6VJQyzlOnjB6hCjNDJD4WdIthQScSGzNjfizo+mFeTKqkRH5EWvni/cMPypnotm2dnz1PTjZ6D2TFxdr7UboIOJs7M0MkPhZ0i2FBJxIbM2N+LOj6YV5M6vJl7UI7YIBS0N94w3nx/esvo/dAsXlzxRPZFRQYPUIHzAyR+FjQLYYFnUhszIz5saDrh3kxqePHtQttu3ZKQZ82zXnxzc01eg8UqanOxynKvfJlMDNE4mNBtxgWdCKxMTPmx4KuH+bFpLZtUxfZqCigVi25nNepA0RHaxfetWuNHr2jvDz5nvjYWGDWLGDgQOCBB4BffxXrcvzrmBki8bGgWwwLOpHYmBnzY0HXD/NiUitXqot3ZCQwdCjQoQPwxBPOz0gfPmz06NXWr5fH1quXcgXA8OHKhHZ5eUaP0I6ZIRIfC7rFsKATiY2ZMT8WdP0wLyaUl1fxJeGVLVeuGL0HaocPy2ObPFkp6B06CDmbOzNDJD4WdIthQScSGzNjfizo+mFeTCgtrerlfNUqo0evLT1duUy/dm25oN9wg/LIte3bjR6hHTNDJD4WdIthQScSGzNjfizo+mFeTGj//qoX9H37jB69tqIiecb22FjgoYeUs+hffSWvW7HC6BHaMTNE4mNBtxgWdCKxMTPmx4KuH+bFhP78U128/+//gM8+A+bPr7igZ2QYPXrn1q2Tx/jWW0pBf+UVZew6/burMswMkfhY0C2GBZ1IbMyM+bGg64d5MZniYuVMc9nltdfkQuvjA4wZo13Oly8HSkqM3gPn9u6Vx/nLL0pBb9lSGf+xY0aPEAAzQ2QGLOgWw4JOJDZmxvxY0PXDvJjMpUuVP/98+nTt12zbZvToK3b2rDLWJk2UHxzmzpXXbdxo9AgBMDNEZsCCbjEs6ERiY2bMjwVdP8yLyfz1l7p4R0fLE6qVTqwWE6Nd0AWaCV3TtWvKWLt3V35wGDVKXrdkiXwFgcGYGSLxsaBbDAs6kdiYGfNjQdcP82Iy27api/cPPyhl9sEHtct5XByQn2/06CtX+nz3Tz9V9umxx5T9uHjR6BEyM0QmwIJuMSzoRGJjZsyPBV0/zIvJrFqlLt9Dhihl9vXXtQv6unVGj9w127fL4124EGjfHhg8GJg5U9mPAweMHiEzQ2QCLOgWw4JOJDZmxvxY0PXDvJhIfr52+e7YUSnoX36p/ZqDB40evWtOnKh4FnoBfmhgZojEx4JuMSzoRGJjZsyPBV0/zIuJnD+vXVobNpTLeUAAEBmp/ZpLl4wevWuysiou6PHx8jPTDcTMEImPBd1iWNCJxMbMmB8Lun6YFxM5eFBdWMs+kuyee8z5eLWySkqAZcsqLunp6YYOkZkhEh8LusWwoBOJjZkxPxZ0/TAvJpKSoi6r772nFPQXX9QutNu3Gz1y92zZoow9MhKYMAF4/nlgwQJ53ZEjhg6PmSESHwu6xbCgE4mNmTE/FnT9MC8monVm+b33gKZN5YL+6afaBf3kSaNH7p6y96E/8YTyA8R//yuv27TJ0OExM0TiY0F30Y4dO/DEE0+gSZMmCAoKQv369dG+fXuEh4erXrtt2zZ07twZtWvXRt26ddGjRw8cO3ZM832/++47tGjRAgEBAWjWrBk++eQTFBQUqF53/vx59OvXDzfeeCOCg4PRvn17rFy50u39YEEnEhszY34s6PphXkwiO7viy77nznV+/3lurtGjd09OjjL2MWOUgv7008ol+wZiZojEx4LuojVr1mDQoEEIDw/H6tWrERcXh5deegmSJGH8+PH21x04cAA33HADOnTogCVLliAyMhKtWrXCLbfcovoH2oQJE2Cz2fDBBx9gzZo1mDJlCgICAjBgwACH1+Xl5aF169b4+9//joiICCQkJKB79+7w8/NDUlKSW/vBgk4kNmbG/FjQ9cO8mMSpUxUXdGdLFU5ECKH0eehz5wI2m1zQmzdX9uvqVcOGxswQiY8FvZoefPBBNGnSxP7nnj17IiQkxKEAnzhxAv7+/hg1apR9XXp6OoKCgjBw4ECH9/v8889hs9mwb98++7rp06dDkiQkJyfb1xUWFuLuu+9Gu3bt3BovCzqR2JgZ82NB1w/zYhK7d1etoO/cafTIq2bXLmUfbr9dLug2GzBnjuGX7TMzROJjQa+mJ598Es2bNwcgl+bg4GAMGjRI9bouXbrgzjvvtP85IiICkiQhJSXF4XVnz56FJEn4/PPP7eseffRRtGjRQvWeEydOhCRJOH36tMvjZUEnEhszY34s6PphXkxi7Vp1+Y6Kqrygu/HvG6GkpSn70L27cpn72LGG//DAzBCJjwXdTcXFxSgsLMSFCxcwffp0+Pn54aeffgIAHDx4EJIkYfr06aq/9/7778Nms+HatWsAgDFjxkCSJGRnZ6teGxISgpdfftn+50aNGqFnz56q18XHx0OSJKxYscLl8bOgE4mNmTE/FnT9MC8mUFQExMWpy3e7dkDjxkDnzsC8edoF/fq/mUynoEDZ5w8/VN+HvmaNYUNjZojEx4LupkGDBtn/wRUQEIAZM2bYt23YsAGSJOGPP/5Q/b3Ss91nz54FAAwYMACBgYGanxEaGoouXbrY/+zv7695Vj45ORmSJGHu3LlOx5uXl4esrCz7curUKUiShBMnTtj/R9qTS2pqKlJTU3X5LC5cvGFhZsy/HD58WFXQDx8+bPi4vHFhXkyw/PUXMmNiHJfoaBTXqQNIEopvuAGZ0dHq1yQmGj/26ixr1iAzJgaX5sxByfX70AubN1f278IFQ8bFzHDRWkgsLOhuSk1NxZYtW7BkyRIMHjwYPj4++PLLLwEoBX3evHmqv1da0NPS0gDIBT0oKEjzM0JDQ9G1a1f7n/39/TF48GDV60oLutYPAqXGjRun+ociCzoXLuIuzIz5FxZ0/RbmxQTLrl2q8n35p5/sZ5UL2rRRl/OYGGRu3mz82Kuz7Nhh35fC224DJAklNhsuRUTI648cMWRczAwXrYXEwoJeTYMHD4afnx8uXLhQpUvcc3JyVK+tyUvcnZ1B5yXuRGJiZsyPl7jrh3kxgY0b1ZeujxihXPbdu7f25e3Xrzg0rfT0iu9D37rVkGExM0TiY0GvprCwMEiShI0bN9onidM62921a1eHSeLmzJlj/3tlpaWlqSaJe+yxx9CyZUvVe06aNAmSJOHMmTMuj5f3oBOJjZkxPxZ0/TAvJrBsmbp8P/64UljHj9cu6Pn5Ro+8eoqKgPh45T70Jk2Abt2Ab76R18XHG7KPzAyR+FjQq+nVV1+Fj4+P/R9fvXr1QsOGDXHlyhX7a1JTUxEQEIDRo0fb12VkZCAoKEhV5idNmqR6zNqMGTNUZb6wsBCtWrXCgw8+6NZ4WdCJxMbMmB8Lun6YF8Fdvapdvps3l8u5j4/2BHFJSUaPvGasXy/vT0yM9nE4dkz3ITEzROJjQXfRgAED8N5772H+/PlISkrCokWL8OKLL0KSJIwcOdL+ugMHDuBvf/sbHnnkESxduhSLFy9G69atccstt6j+gTZhwgTYbDaMHTsWSUlJ+PLLLxEYGIgBAwY4vC4vLw+tWrVCkyZNMGfOHCQmJqJHjx7w8/NDkpv/T4wFnUhszIz5saDrh3kRXGqqupTOny8Xc0kCmjXTLq579hg98pqxb1/Fj5EzYDZ3ZoZIfCzoLgoLC0OHDh0QEhICPz8/1KtXDx07dkR4eLjqtVu3bkXnzp1Rq1Yt1KlTB88++yyOHj2q+b7Tpk1DaGgoAgIC0LRpU4wbNw4FBQWq1507dw59+/ZFgwYNEBQUhPbt2yMxMdHt/WBBJxIbM2N+LOj6YV4Et3OnupR+/rlyeXu3btrF9fqEuqZX9nnozhad//tlZojEx4JuMSzoRGJjZsyPBV0/zIvgVq9WF9K+fZWCPny4entcnPwccW+Qn6/ev99/B6ZNU/68c6euQ2JmiMTHgm4xLOhEYmNmzI8FXT/Mi8AKCrTPGLdvrxT0GTPU29euNXrkNWvNGnm/IiOBW2+V97t5c2V/ly0DSkp0Gw4zQyQ+FnSLYUEnEhszY34s6PphXgR2/rx2QV+wAJg4EXj9dSA6Wr19716jR16zdu1S9u3689BhswFz5ijrL1/WbTjMDJH4WNAthgWdSGzMjPmxoOuHeRHYwYOV33+ttZw7Z/TIa9apUxU/Dz02FnAyT5EnMDNE4mNBtxgWdCKxMTPmx4KuH+ZFYJs2uV/O4+KAwkKjR16zcnKU/fvwQ6WgP/OMsn7TJt2Gw8wQiY8F3WJY0InExsyYHwu6fpgXgSUkuF/Q160zetSeUXos5s6VL28vfx/60qW63YfOzBCJjwXdYljQicTGzJgfC7p+mBdBXbumXcBfegkYOBCYOlV7+/79Ro/cM7ZtU/axeXPlPvS5c5X1ly7pMhRmhkh8LOgWw4JOJDZmxvxY0PXDvAhK6/nfkZGAv79cTm+5xRr3n5dKTVX28ZlnlMvcP/xQ9/vQmRki8bGgWwwLOpHYmBnzY0HXD/MiKK0J4r76SimmnTppF3Rvef55ednZyj6OHat9H/rGjboMhZkhEh8LusWwoBOJjZkxPxZ0/TAvgtq4UV2+Bw5UiumgQerta9YYPWrPEuQ+dGaGSHws6BbDgk4kNmbG/FjQ9cO8CGrFCnUB79hRKehff63evmuX0aP2rLL3od9xB+DnB7RuLV/6X7peh/+WmRki8bGgWwwLOpHYmBnzY0HXD/MioNxc7cvXGzWSy3lAALB4sXr7qVNGj9yzTpxQ9vWnn4AFC9TH4MgRjw+DmSESHwu6xbCgE4mNmTE/FnT9MC8C0pogLjxcOXt+993aBT4nx+iRe1bZ+9CdLTrch87MEImPBd1iWNCJxMbMmB8Lun6YFwEdOKAunh9/rBT0Z59Vb09IMHrU+qjs2fDLlnn8PnRmhkh8LOgWw4JOJDZmxvxY0PXDvAhIa4K4Xr2Ugj56tHr71q1Gj1ofZe9DL11iYhwv+ffwv8+YGSLxsaBbDAs6kdiYGfNjQdcP8yKg5cvVJfTee5WCHham3v7XX0aPWh9l70P/5hugQwegbl3g7bd1OxbMDJH4WNAthgWdSGzMjPmxoOuHeRGMswnihgyRy2iLFtrbdfo3ieGuXlX2efJk5UeLjh2V9Vu2eHQIzAyR+FjQLYYFnUhszIz5saDrh3kRzNmzlU+EVn7R6fnfwih9BF1kJBAUJBf0Bg3kS91jY+XtHsTMEImPBd1iWNCJxMbMmB8Lun6YF8Hs3+9+Qd+wwehR62vLFmXf27RRzqJPn66sv3rVYx/PzBCJjwXdYljQicTGzJgfC7p+mBfBpKS4X9D37jV61Po6dkzZ99dfVwr6wIHK+tRUj308M0MkPhZ0i2FBJxIbM2N+LOj6YV4Es2yZuoB//TWwcKHzgn76tNGj1tfly44TxZUW9PbtlfXbt3vs45kZIvGxoFsMCzqR2JgZ82NB1w/zIpCcHHX5njcPsNkAX1+gUyftgu7By7mFVFKi/JARHQ3ccINc0GvXBqKi5PUrV3rs45kZIvGxoFsMCzqR2JgZ82NB1w/zIpAzZ9Tle8IE5Qzx449rTxBnRWWfFf/ww8oxmjpVWZ+d7ZGPZmaIxMeCbjEs6ERiY2bMjwVdP8yLQPbtUxfwV19Vyuc776i3//mn0aM2xpEjyjEYPFg5Rv36KeuPHfPIRzMzROJjQbcYFnQisTEz5seCrh/mRSDJyeoC3q6dUj5nzOAEcaUyMpRj8OOP2vehJyd75KOZGSLxsaBbDAs6kdiYGfNjQdcP8yKQ8hPExcQAdevKxfNvf5Pvty5f0E+dMnrUxiguBpYsUY7ToEHAt986HqP4eKCwsMY/mpkhEh8LusWwoBOJjZkxPxZ0/TAvgsjOVpfvmTOVM8P3388J4srbsKHyR9CdOVPjH8vMEImPBd1iWNCJxMbMmB8Lun6YF0GcPq0ul++/rxT0l17SniCupMTokRvnwIHKC7oHHrfGzBCJjwXdYljQicTGzJgfC7p+mBdB7NmjLpdPP60U9HHjOEFceRcuVF7Qly+v8R8xmBki8bGgWwwLOpHYmBnzY0HXD/MiiHXr1OUyNFQp6HPmqLfv2WP0qI1VWAjExSnHY9o0oE8f4B//kJ8fX7q+hv/7ZmaIxMeCbjEs6ERiY2bMjwVdP8yLAIqKHItmbKw82dmtt8rlvHFj7bPDVp0grqykJOV4PPGE8oPGRx8p6w8cqNGPZGaIxMeCbjEs6ERiY2bMjwVdP8yLANLTnV+iHREhnxnW2nbtmtEjN97u3crxGDtWKehPP62sT0qq0Y9kZojEx4JuMSzoRGJjZsyPBV0/zIsADh+u/F7q8suaNUaPWgxlJ9ebOxfw8ZELetOmHvsxg5khEh8LusWwoBOJjZkxPxZ0/TAvAti0yf2Cvnev0aMWw7Vrzu/b/+03ZX1qao19JDNDJD4WdIthQScSGzNjfizo+mFeBLB8ufsFnXlQJCYqx6VnT6Wgv/uusn7z5hr7OGaGSHws6BbDgk4kNmbG/FjQ9cO8GOzqVXX5nj1bniCua1fgk0/U2+Pj5YnlSLZtm3JsJkxQCnrnzsr6JUuA4uIa+Thmhkh8LOgWw4JOJDZmxvxY0PXDvBgsNVVdwMeMUUpmz57q7SkpRo9aLMePK8dm0SIgIEA+diEhQExMjV91wMwQiY8F3WJY0InExsyYHwu6fpgXg+3cqS7g3bsrBf3jj9Xbjx41etRiuXLF8fj885/K8fvxxxq/b5+ZIRIfC7rFsKATiY2ZMT8WdP0wLwZbvVpdwFu0UApmRIR6u07//jCVhATl+PTrpxy/gQOV9atW1chHMTNE4mNBtxgWdCKxMTPmx4KuH+bFQAUF6vK9aBHg5yeXy8aN1dtXrDB61GLatUs5Rt9/D3TqJE8SV/4Hjuzsan8UM0MkPq8u6MXFxcjJyTF6GEJhQScSGzNjfizo+mFeDHTunLqAf/GF9iRnpcuWLUaPWkxpaa7Nfl8Dj1tjZojE51UF/dq1a5g9ezZeeOEF3HzzzfD19YWPjw+Cg4PRpk0bjBw5Ejt37jR6mIZiQScSGzNjfizo+mFeDHTggLpAvv66UtCHDOH9564qKpJnt6+soG/bVu2PYmaIxOcVBT03NxeffPIJ6tevDx8fH9x9993o06cP3n33XYwdOxaDBw9Gly5dUK9ePfj4+OBf//oXkpOTjR62IVjQicTGzJgfC7p+mBcDbdigLpAPPaQU9O+/V29PTzd61OLauLHygp6QUO2PYWaIxOcVBb1x48YIDQ3F1KlTce7cOaevKykpwapVq9CnTx8EBgZi1qxZOo5SDCzoRGJjZsyPBV0/zItBSkrkZ3OXLY8xMUD9+nI5r1ULiI523B4Xx+efV6Ts49ZiY4F584CxY4FXXqnR+9CZGSLxeUVB/+WXX1Dk5v/oHzt2DGvWrPHMgATGgk4kNmbG/FjQ9cO8GOTSJfXZ3VmzlLPn992n3p6UZPSoxZaT43i8QkOV4zl7do3dh87MEInPKwo6uY4FnUhszIz5saDrh3kxyF9/ac/gPn68fMb3vffU2y0+B5BL1qxRjlevXkpBHz5cWb99e7U+gpkhEp/XF/S1a9ciuwYeS+EtWNCJxMbMmB8Lun6YF4Ns3erarOM1PAO519u/XzlekycrBb1DB2V9YmK1PoKZIRKfVxf0oqIi+Pj4YFsNzHrpLVjQicTGzJgfC7p+mBeDJCS4X9B1+neHqV24oByvqCigdm25oN9wg/znGrgPnZkhEp/XF3SbzcaCXgYLOpHYmBnzY0HXD/NigNxc98v5kiXyxHJUseJix8etlZ0V/6uvauRqBGaGSHxeX9B5Bt0RCzqR2JgZ82NB1w/zYoAzZ9QF/IcfgP/8B5g2zfFMb+ny559Gj9o8UlKU4/bWW0pBLzubezXuQ2dmiMTn9QWdZ9AdsaATiY2ZMT8WdP0wLwbYu1ddwPv00Z7QrHTZt8/oUZvH0aPKcfvlF+W4tmyprF+xospvz8wQic+rCzoAnDhxAgUFBUYPQxgs6ERiY2bMjwVdP8yLAdatUxfwtm2VIvnTT+rtZ84YPWrzyMpyPHZNmsjH1ccHmDu32vf0MzNE4vP6gk6OWNCJxMbMmB8Lun6YF50VFTneIx0bC8TEyJOYSRJQp4785/IFPTfX6JGby4oVyrF75hnlx4/Ro5X1R45U6a2ZGSLxsaBbDAs6kdiYGfNjQdcP86KzjAx1+Z4xQymQ7dqpt1fjcmzL2rZNOX6ffgrcdhvwwgvA9OnK+uTkKr01M0MkPq8o6K1atcLixYtdfv3Zs2cxbNgwTJo0yYOjEhMLOpHYmBnzY0HXD/OisyNH1AX87beVgt63r3r75s1Gj9p8Tp6sfGb8+Hj5igY3MTNE4vOKgv7pp5/ib3/7G5o0aYIxY8Zg+fLluHDhAkquP9IjNzcXe/bswaxZs/DUU0/B398fDz/8MPZZcNISFnQisTEz5seCrh/mRWebN6uLYpcuSkGfOFG9/fBho0dtPteuufb4uvPn3X5rZoZIfF5R0AH5rPioUaMQEhICm80GHx8f+Pr6IigoCD4+PvDx8YHNZsMjjzyCyMhIo4drGBZ0IrExM+bHgq4f5kVnZe+N1prEbMEC9faLF40etTmtWVN5Qd+zx+23ZWaIxOc1Bb1UQUEB1q9fjylTpuCdd97BoEGD8OGHHyI8PBynTp0yeniGY0EnEhszY34s6PphXnSUna0uiOHhytnz0FD19rg4oLDQ6JGbU/nH2cXEyDPkjx2rrFu92u23ZWaIxOd1BZ0qxoJOJDZmxvxY0PXDvOjo1Cl1Af/gA6Wg9+ih3r5mjdGjNq/z5x2PZevW8nH29wcWLqzyDPnMDJH4WNAthgWdSGzMjPmxoOuHedHR7t3qAj5xIvDww0DdusDHH6u379hh9KjNq/wj7cre6z9unLL+xAm33paZIRKf1xf0Y8eOYcyYMRg9ejRmz56Nbdu2IS8vz+hhGYYFnUhszIz5saDrh3nRUVKS83uhY2KAqCj1ejfLI5WTkqIcyzFjlIL+9NNVniWfmSESn9cX9FatWqFPnz4YN24cXnjhBYSGhiIgIAB333230UMzBAs6kdiYGfNjQdcP86KTwkL5fnJXZhYvu1y+bPTIze3oUeVYzp0rT8QnSUDjxsr6pUuB4mKX35KZIRKf1xf0evXqqdbl5uZiy5YtBozGeCzoRGJjZsyPBV0/zItOyt8P7cqyZAlw/XG3VEVZWY7H9K67lLPos2Yp69PTXX5LZoZIfF5f0N944w1s2rTJ6GEIgwWdSGzMjPmxoOuHedHJvn3qAj5rFrBokfOC/uefRo/aO5R9tF3v3kpBHzJEWb9/v8tvx8wQic/rC/rLL7+MJk2aICwsDGlpaUYPx3As6ERiY2bMjwVdP8yLTrTuPw8NlWcUb9UKiIxUbz9wwOhRe4ft25VjOnWqUtDbt1fWJyW5/HbMDJH4vL6gT506Fa+99hratGmD4OBg3HTTTejatStGjRpl9NAMwYJOJDZmxvxY0PXDvOggP19dvufPV+6HbtJE+ww6/5uvGWUfbxcdDdSpIx/34GBg8WJl27VrLr0dM0MkPq8t6FeuXFGtKy4uxsGDB7Fo0SKMGzdO/0EJgAWdSGzMjPmxoOuHedHBmTPq8v3pp8qZ3G7d1Nvj4+XHhFH1XbvmeGw7dlSO/aRJyvrUVJfejpkhEp/XFvSbb74ZADBgwAB89913SEpKwqVLlwwelfFY0InExsyYHwu6fpgXHezcqS7gvXopJfG999TbN2wwetTeZfVq5di+84589rxdO2DKFGX91q0uvRUzQyQ+ry3o+fn5AIBp06ahf//+eOCBB1C7dm00btwYjz/+OEaPHm3wCI3Bgk4kNmbG/FjQ9cO86GDlSnUBv/tupaDPnq3efuiQ0aP2Lnv2KMd20SLte/5dfNwaM0MkPq8o6CUuPsajpKQEhw8f5iXuLOhEwmJmzI8FXT/Mi4fl5KiL4KJFgJ+fXM4bNdK+/zwjw+iRe5e0NNcebefCZMjMDJH4vKKg165dGw899BCGDh2KsLAw7Ny5E0W890kTCzqR2JgZ82NB1w/z4mGpqeoSOHGicvb80Ue1n3/uwplcckNBARAXV3lB37at0rdiZojE5xUFvWfPnrjjjjvg4+MDm80GHx8fBAUF4YEHHsCgQYMwc+ZMbN26FQUFBUYP1XAs6ERiY2bMjwVdP8yLh23bpi6Br7yiFPThw9XbU1KMHrV3WrdOfawjI4Hp0926zJ2ZIRKfVxT0UllZWUhKSsLEiRNhs9lw8803O5T2gIAA3HfffUYP01As6ERiY2bMjwVdP8yLhyUkqEvhvfcqBX3WLPX2I0eMHrV32r9fPZt7UBBQt678+DUXL3NnZojE51UFvdTly5dhs9mwdu1aXL16FevWrcM333yD3r1746677jJ6eIZiQScSGzNjfizo+mFePCg7W12+Y2KA226Ty3lIiPzn8q/hE3M84+JFx+Pcrp3yQ8k337h8mTszQyQ+ry/o5IgFnUhszIz5saDrh3nxoBMnnN/r/Ouvjo/4KnuJtYsT95Kbiovl58uXHuvBg5WC/uqrLl/mzswQiY8F3WJY0InExsyYHwu6fpgXD9K6/7yyhfefyz0XhtEAACAASURBVEpKgMJc4Np5IOswkLEduLABSFsFXEgGLu8Dsk8oS84ZIP8SUJRf8ftu2qQc65kzlYLeqpXLs7kzM0TiY0G3GBZ0IrExM+bHgq4f5sWDtO4/r2yx8vPPi4vkMn5uNXA6HjgVW7XldDxwNkF+r/JXI5SfVf+WW+SC7usLzJunrN+zx+kwmRki8XlFQQ8PD8e+ffvsz0NnQXeOBZ1IbMyM+bGg64d58RCt+89dWdLTjR65MbJPyqW6qqXc2XJ+PVCYrXxOfr7j49aefFI5iz52rLJ+zRqnQ2VmiMTnFQW9dJb20ueh9+/fHz4+PoiIiEAxn8XpgAWdSGzMjPmxoOuHefEQreefT50KNG0ql8Ivv1Rvj48HioqMHrm+8jKA8+tqvpirivpa4PIBIPccsDYBiF4sH/OPP1YKerdujt9Hvvbl8swMkfi8oqAvXboUEyZMwHPPPYdbb70VNpvNXtpr1aqF9u3b46233kJYWBh27txp9HANxYJOJDZmxvxY0PXDvHjI9u3qAt6vn1IGhwxRb1+/3uhR6yvrkOeLudby50xg9jhg8XxgwQLAz0/+Tho2dJxV/8wZzWEzM0Ti84qCXl5GRgYSExMxefJk9OrVC3fccYfD89CtjAWdSGzMjPmxoOuHefGQxER1Ab/vPqWg//ijevv+/UaPWh8lJcCl3e4X65MxwOGZwL4vgUMzql7QDy8Ewj4CfvsMiIp0fC79jBnK97F7t+bwmRki8XllQdeSlZWF1atXY+rUqUYPxVAs6ERiY2bMjwVdP8yLB+TkqMt3ZCQQGCiXwBtv1H7++blzRo/c84quAembXS/TR2YBW4YBiR2BhQ2AOZK8JHZSv3bpfUD8PcDaHsDOj4Djc52/78KJckn/fRLQr6/8vTRqBEyYoHwfq1dr7gIzQyQ+yxR0krGgE4mNmTE/FnT9MC8ecPKkunxPnqycpf3f/9WeIK6gwOiRe05JMXDlCHBmaeWl/OD3wNrngMhGSiEvvyx/UP335tV2fM1cP2DF/wN2jQNSFzu+du2PckEP+wj44b/AjzO0v5O8PNWuMDNE4mNBtxgWdCKxMTPmx4KuH+bFA3bsUBe9V15RCvrbb6u3JyUZPWrPytzh2hnzdc87L+V/BMpnydc8JZ9VL/93/why/nfn1wYSOgDb3gdORgF75yoFPewjIHwKEB2l/l407kNnZojEx4JuMSzoRGJjZsyPBV0/zIsHrFqlLnr33KMU9Fmz1Nud3O/sFa7+5fol7bv+W+YMuC8Q3xr48xVg72QgNbLye9SPhQM7xsolfkFd7bK+Y6z82t/HlSvpk4GoRY7fy65dqt1hZojEx4JuMSzoRGJjZsyPBV0/zEsNu3ZNXb4XLgT8/eVyftNN2pdSp6UZPXLPyEsHTsdpF+pDPwJHfy1XsqOApfcDGwfKZbs6s7WnLpbLeEIH+Qz6HAmIbg6cjJa3x37lWNDDPpJnd//1B+V7WbVKtUvMDJH4WNAthgWdSGzMjPmxoOuHealhp0+ry/f48crZ80cfVW+Pi/O++8+LC4Csg9r3nJ+MAlL6y5ekx98j/7k6RdyV5WQUsPszYO8Xyro/Z14v5S8DYR8Az3cCmt4E1L8BmPOt8v1cvuywa8wMkfhY0C2GBZ1IbMyM+bGg64d5qWG7d6sLeK9eSkEfMcL7n3+emwacWaZdlA98C8Tc7njJ+caBni/oWsv+ecDs14AICfj9TuAftyvf03/7A/N/lr+fvXsddo+ZIRIfC7rFsKATiY2ZMT8WdP0wLzVszRp1AV+0CPjsM6BHD+C339TbDx40etQ1p7gAOLtCuxDv/Bj4I8CxnK/uBpxYYExBPxkDRNykjOX1BkpBf6YDMPtjYOFvwIoV8rPbr2NmiMTHgm4xLOhEYmNmzI8FXT/MSw3Kz9e+v7yyJSPD6JHXnMyd2mV4y9vAHB+lDEfd6ni5uTvLmeVA+hbg8n7gYop8tv7McuBCsvz5GVvl9aeXVP5eUf8BIq7/aPCDpBT0pjddv/z9v0BkhMMz6pkZIvGxoFsMCzqR2JgZ82NB1w/zUoPS0twv50uXOpydNbW8dO0SvHGg41nzhH9VPiN7+eV0nFzK89z4MaMoD8jc5XySulOxwIaZwOw3gIhgeWy3lSnpXw5RJo5LViaLY2aIxMeCbjEs6ERiY2bMjwVdP8xLDdq71/2Cvnmz0aOuGUXXgLRV6gK8+S3Hcr7mKWUW9UpLebx8VvzKUaAwp+pjK8wBrh4H0jerz6ofmHe9hA8CwkOAF8oU9L43AmGj5e2/fQJclWfaZ2aIxMeCbjEs6ERiY2bMjwVdP8xLDVq71rF8R0cDnToBQ4ZoP/s8Nhb46y+jR119BVeBtETte7xXPKSU83U95XWunC3P3CmX/ppWXAhknwQubFA+L+LT649ZGwOMv08p6K0lILyZUtI3/QJk7kBm+nlmhkhwLOgWw4JOJDZmxvxY0PXDvNSQ3Fx1+f7mG6XstWunXdCvXjV65NWTf8n5jO2nYuVnkSd0AJK6V17OzyyVL0kv0OmYFObKZ+cTf1Seg/7Lh8CNteXvzFcCZvoAs/vJ22K/Ak7FIvNQPDIvnNFnjERUJSzoFsOCTiQ2Zsb8WND1w7zUkGPH1OX71VeVgj54sHp7YqLRo66ekmLty9pVZ9KjKi7np+OBq38BxUXG7Me5VODXT5WS/ugDyvc25CFl/W//BVKjkXkwBpl/rTNmrETkEhZ0i2FBJxIbM2N+LOj6YV5qyIYN6gLeqpVS9GbOVG/ftcvoUVdP1mGNCeEGAAd/cGNG9mXy5HJGWxYLzP5ELuLv95a/Mz9f4IV/KwU97CNgZ7hc0A/GyM97JyIhsaBbDAs6kdiYGfNjQdcP81ID8vOBuDjH8j1vHuDrKxe9W27Rvrw9zcQFrzBHPeHanonyo9QWNgCOzKq4mJ9NkB+Hptfl7JXZvx9YPB+ImArMGgsMeR6YPtKxnId9BCwZjswD8ll0pK2UryIgIuGwoLvhypUrGDlyJB577DGEhIRAkiSMGzdO9bp+/fqp/nEmSRJatGih+b7fffcdWrRogYCAADRr1gyffPIJCgoKVK87f/48+vXrhxtvvBHBwcFo3749Vq5c6dY+sKATiY2ZMT8WdP0wLzUgNVVdvseOVc6eP/mkent8PFBYaPTIq+7iJsfCfSxcLualE8KlvO78jHn+ZaNHr3blivLdREUCc79Vl/Pf/g3MkZC7qqdc0E/FAlmHjB45EWlgQXfD8ePHUbduXTzyyCN48803KyzowcHBSElJcVh27typeu2ECRNgs9nwwQcfYM2aNZgyZQoCAgIwYMAAh9fl5eWhdevW+Pvf/46IiAgkJCSge/fu8PPzQ1JSksv7wIJOJDZmxvxY0PXDvNSATZvUBbxbN6Wgf/yxevuGDUaPuupyzqjvMV/WVinn8ffI67RmZ7920ejRO5eUpHw/MTHy2fTScj77TYfHxeWsfUO5f17EHxyILI4F3Q0lJSUoKSkBAFy8eLHCgl67du1K3y89PR1BQUEYOHCgw/rPP/8cNpsN+/bts6+bPn06JElCcnKyfV1hYSHuvvtutGvXzuV9YEEnEhszY34s6PphXqqpsFA+G162fMfEAA0bXr+P2Q9YsEBd0I8cMXrkVVNcAJxd4fgotVVdlPK6oC5w9Ffts+fZqUaPvmJHj5b7HqOB8MnyJe+/fAj82tXxme7b3pf369xq4ya4IyJNLOhVVBMFPSIiApIkISUlxWH92bNnIUkSPv/8c/u6Rx99VPMS+YkTJ0KSJJw+fdqlcbOgE4mNmTE/FnT9MC/VdPasunzPmKGcPb/3Xu37z3X6N0SNy9juWM7X9lAK61xfYPen2uX80l6jR165nBzH72jiRKBjR6B2MPDZwOuXuT+i7O8fAcA++dFryDT5hH9EXoYFvYoqK+g+Pj646aab4OPjg8aNG+Ott95CRkaGw+vGjBkDSZKQnZ2teo+QkBC8/PLL9j83atQIPXv2VL0uPj4ekiRhxYoVLo2bBZ1IbMyM+bGg64d5qaadO9Xle8AApaC/9pp6e0KC0aOummvnHUt3yutlzijbgG3vaZfzCxuA61dPCm/VKu3vscdj1y93/xB5EWUu519YHzgaJu9n7lmjR09E17GgV1FFBf3rr7/G119/jYSEBCQkJODDDz9ErVq10LJlS1y9qsz4OWDAAAQGBmq+f2hoKLp06WL/s7+/PwYNGqR6XXJyMiRJwty5czXfJy8vD1lZWfbl1KlTkCQJJ06csP/DxpNLamoqUlNTdfksLly8YWFmzL8cPnxYVdAPHz5s+Li8cWFeqrmsWIHMmBiH5fLMmch5800UtGmDy999p9qeuWmT8eN2d7l4FpmHltofMZa1/RuUzPG1F9Xs9UPs2xyWI8uRmX7e+PG7umzebP+eLoWFocRmAyQJRbfcgsw/fkTmbxORGjEF1xa2tO97YdSdyDwQicxD8ci8cMb4feBiyEJiYUGvoooKupZFixZBkiR8/fXX9nUDBgxAUFCQ5utDQ0PRtWtX+5/9/f0xePBg1etKC/off/yh+T7jxo3TnFGeBZ0LFzEXZsb8Cwu6fgvzUo3lzBl1+XZlMdt/yxkXkXk00aF4567uZS+o11Y+p13OjyYi88Jp48fvznLkiMN3VXDPPfaz6FlffYXMud8jNeJrnIr9GkULG9mPQe7qF5V9zkg3fj+46L6QWFjQq8jdgl5cXIzatWujV69e9nWll7jn5OSoXl9Tl7g7O4POS9yJxMTMmB8vcdcP81INx49r319e0WK2x6uVlAAXN2pfur59NLDkXiA1stxs7fHy48fM+Izw8pP+DRlS5jL3HkB0FDIjpiJzzhfy/edzfOSSPi8Y+GuOvP8Z24zeCyLLY0GvoqoU9Fq1auGll16yr5szZw4kScLGjRsdXpuWlqaaJO6xxx5Dy5YtVe87adIkSJKEM2fOuDQO3oNOJDZmxvxY0PXDvFTD5s3uF/Ryk9oKL+uQdjkvO1Fc+XVXjxs96ur580/l+4qIAHx95YIeEgJERyMzahEyw6cAu+cAf74MxIYCh2Y4HoPcNKP3gsjSWNCryN2CPn/+fEiShG+//da+LiMjA0FBQapL1ydNmqR6zNqMGTNUZb6wsBCtWrXCgw8+6PK4WdCJxMbMmB8Lun6YlyoqKQGWLVMX8H79gMmTgago7YJ+/LjRI3ddfqb87PKyzzuvqKyfigXOrzd61NV3+LDjd9a2rXIWffJk+fL3xfOBpJ/lY6J1XM4myI+kIyJDsKC7aenSpVi4cCHCwsIgSRJ69uyJhQsXYuHChcjJycGJEyfw8MMP47vvvsPSpUuxbNkyjBkzBkFBQWjVqpVqxvYJEybAZrNh7NixSEpKwpdffonAwEAMGDDA4XV5eXlo1aoVmjRpgjlz5iAxMRE9evSAn58fkpKSXB4/CzqR2JgZ82NB1w/zUkWZmery/fPPSpFr00a7oOfmGj1y1xQXAmkrlcJ5fB4QczuwZbjzcn46Digw6ePjyrp0yfE7GzFC+V6feMJ+fzpWxACnlzg/Hpk7jN4TIstiQXfTrbfeqjnpmiRJOH78ODIzM9GjRw80a9YMwcHBCAgIwJ133olRo0bh8uXLmu85bdo0hIaGIiAgAE2bNsW4ceNQUKD+5fLcuXPo27cvGjRogKCgILRv3x6JiYlujZ8FnUhszIz5saDrh3mpokOHKn68Wt++6u1unAwwXOYOx7KZ8C/l0WLJr2kX0sv7jR51zSh/dcS8eUBAgPy91q2LzMWL5YIeGwtcPOp4DE4sBFb+G9g7Wf7ztYtG7w2RJbGgWwwLOpHYmBnzY0HXD/NSRWXvUy5d7rtPKejffafefuCA0aN2Tf4lx9K5Y4xSzufXBg7/pC7nF1PMOSmcM9u2OX53Dz8sf6+NGuHyzz8rBf3YMSBjq3wMjv0GRDdTno9+7Dfg3GrzPAOeyIuwoFsMCzqR2JgZ82NB1w/zUgUFBUBcnGOBmz8f8POTS9z//A9QWuDKLmY5zhf+LHNp+1y5bJYW9G0j1eX8wgaguMjoUdesCxccv7tp04CpU4Eyj2BDbCywfj1QlAecWS7fi77kH8qxWvJP4GQ0cPWY0XtDZDks6BbDgk4kNmbG/FjQ9cO8VMHp0+ryPXascvb88cfV21esMMeZ1JwzjuV7VRelcC5rp561/fw6+X51b1NSAiQmas4j4FDQY2OBnBwg55RyFr3sDxob+gBnlsolnoh0w4JuMSzoRGJjZsyPBV0/zEsVlL/8OTYW6NJFKegff6zevn270aOuXEmx48Rwuz9Tiua8YOBoWLlJ4ZYAhTlGj9pzDhxwraAfPiy/Pn2zfFz2TFCejz7HB9g7iRPGEemMBd1iWNCJxMbMmB8Lun6YFzdpPV4tJgZo0EAu5wEBwMKF6mJ3+rTRI6/c5f1K+T72u+OZ4E2DNZ53/pfRI/asnBynBf1SeLiybvVq+fXFBUBaonxs/nxFOXZRTYDUxUBeurH7Q2QhLOgWw4JOJDZmxvxY0PXDvLgpPV1d2qZOVc6et22r3h4XB+TnGz3yipV95vnJaGDp/UrBXHqfvM7hvvM/jR6xPjZscPwuhw5F4Z13oiQwEFiwQFlf+pSh/EzgdLx8P3psC+UYprxxfcI4L5pIj0hgLOgWw4JOJDZmxvxY0PXDvLhp7151AX/+eaWgDxmi3r5+vdGjrlhxEZC2SinfR/4PWNhALpYL6sn3VZct52eWAYXZRo9aH6dOOX6X3bop3/V77ynr9+1T/s7VY/Jx2j8VmGNTbhE49huQddC4fSGyEBZ0i2FBJxIbM2N+LOj6YV7ctGqVuoB/8YVc3Bo0AMpe+ly6HDpk9Kgrdmm3+vL1vyLkSeF2f6q+7zwvw+gR66eoCFi6VPkuJ07UvloiIcHx75Ue07KT7K17Xj67XnDVmH0hshAWdIthQScSGzNjfizo+mFe3HD1quY9yfYlOlp7/aVLRo/cubwMdTl3tpyOB65ZMIc7dzp8x8UhIXJB9/UFIiKUbRllfrgoKZEnjTsWDixqCKT0l+9Dt9LtAUQGYkG3GBZ0IrExM+bHgq4f5sUNR49WXNC1luXLjR61cyXFwLk1rhf07JNGj9gY5eYduPbcc8pZ9MGDlW179jj+veIi4FySUswdjuUJY/aFyCJY0C2GBZ1IbMyM+bGg64d5ccP69e4XdJEfr5Z1SCmMJxYAa5+Vz/hqlfOLKUaP1lgrV9q/06xp05SC3rKl42Xu5Z91n5eufTzPLAWKrhmzL0QWwIJuMSzoRGJjZsyPBV0/zIuLrl1Tl++ffwaGDXO8zNksj1crzJYvWS8tjGufle+Tnl8b2PmxxvPOLTIpnDMHDzo8Zq3o1luVkj5zpvZl7qVKn49euuz7Ejj4g7yeiDyCBd1iWNCJxMbMmB8Lun6YFxcdP64u3y+/LBc0Hx9gzBj19iVLgMJCo0euLWO7Uhj3TFRmG5/rBxya4Vgosw4bPVrjlXkmemZMDHJefVUp6L17O7/MHVB+DDmxEEh6Wj7WsaHyo9iyU/XfFyILYEG3GBZ0IrExM+bHgq4f5sVFKSnqAl72LGpYmHr7tm1Gj1pbYa7yzPPj84DIm5SZxpNfcyzn59epL9u2quvPRM+MicHlWbOU775xYyAmxvll7gBwaS+QughY3Fg51hsHyFcnFFzRf1+IvBwLusWwoBOJjZkxPxZ0/TAvLigoAOLjHcv3jBna9yGXXc6dM3rk2i7tUQp42ceAxd0tn9W13ye9nPdJl5Waai/omTExQOvW8kzu7dsD8+ZVfJl7cQGQthLYO0k53n8EAUd+kSfqKy7SfXeIvBkLusWwoBOJjZkxPxZ0/TAvLjh1Sl2++/RRCvobb2jP3l5cbPTI1Yry5bO2p2KBPZ87lsXDM8vcdx4HXLto9GjFcv2HGntB//574Lff1N+91mXuAJCfKV/qvrqbctyXtQVOxgCZu/TdFyIvx4JuMSzoRGJjZsyPBV0/zIsLtmxRl7DmzZWC/n//p96+S9DClXVQLuCpkUBUE6UobhrM+85dsWWLUtArerSesx9nrhwFjv8BLGygHPtt78nHnD+IENUYFnSLYUEnEhszY34s6PphXipRVCRP9lZ+9vbScn7nndolTesyZ6MVXQPOLJPLYHI/pSDGhgIno5VynpYoPyOd1NLSKi/olc3efzEF2DFWOf4L6gJ/RciXwPNSd6IawYJuMSzoRGJjZsyPBV0/zEslzpxRl69+/ZSC3q+fentiotGj1nYhWS7gR38F/gi8XhB9gP1fO549zz5p9EjFVVyMzCVL1AU9MhL45BPlzxs2OH+Pgiz5FoIVDyslfeW/5WN/ycnl8UTkFhZ0i2FBJxIbM2N+LOj6YV4qsXmzuoDfeadS0H/+Wb193z6jR6125ahSwE/GAFtHyGdu1zzpWM7Preas7ZXI3LzZsaAPHAjUqSP/9/Dt/2fvvOOaut4HjHt2j2+X9adtrbXaauuoe2vVqlWrtu49qnVr3bZq1Vp3XRdkyRBkyQZxgaI4UMEBiIiKCIqCiiAreX5/XOESAhYVAiHn+Xzyabk3JifkvCTPPe95303K8cfP6B1//6x8ocSuhiLpoX+Kvf8CQREhBN3AEIIuEJRuRMzoP0LQdYeIl2eQmaldvT13e626dfNPby5tv8/0B3JxstwiHuMG0bZym7Xcx1JiS3q0pZ7E69c1BX3SJGVO9O5duAs1mSnye3JqqrLNILtI321fyErT3QsSCMogQtANDCHoAkHpRsSM/iMEXXeIeHkG+VVvt7WFcePg00/lSu6lPb1drYb4I9pynt/t7rGSHq1ekJiYSKKfn+acqFhRFvTXXgMXl8JV8k+6IGcznJoCN5w134uEEyKTQSB4CYSgGxhC0AWC0o2IGf2nsIJubm7Oa6+9VgIjfDZGRka4uLgU63McPnwYIyMjkpKSXupxRLw8g6CgZxcCyxax3LeLF0t61JrkTm2P3FWwnN/2FT3PC0liYiKJFy9qvu+tWimr6EuXKsdjn5GRkJUu95ov6D0RlfQFghdGCLqBIQRdICjdiJjRfwor6Kmpqdy5c+e5Hrt9+/ZMnz69qIaaL0Ut6PmNOT09nbi4ONQvucom4qUA0tO109sLcytNv8vMVKXn+ZWdYFsJ9reFq+aaInjLHdLulfRo9YbExEQS794FLy/lfV+4UBH0du0KVywOIOVWPlsP7OR0d7EfXSB4YYSgGxhC0AWC0o2IGf2nOFPcCyPoarWazMzMF34OXQh6USHipQBu3Hh+OS9t6e0JJ5WicF5NlGJkAT9pCuGjyJIeqV6REzMhIZpV3F95RRb0ypXBzk459+jRsx/w3mnlvQjbDM4fgPNHcN1eXmEXmQ0CwXMjBN3AEIIuEJRuRMzoPy+a4r5s2TK+/vprdu/eTe3atXn11VcZPHgwj55+QR45cqTW40ZHR+eki/v4+PDtt99SqVIlDh06BMD27dupW7culSpVol69euzevVtjDFeuXKFt27ZUqVKFL774gv3792sIen6p6OfOnct57myOHTtGu3btqFatGq+//jrdunUjMTHxP8ec+3EdHR1p0KABlStXpnbt2qxbt05jrLVr1+avv/5i9OjR1KxZk1q1arFhwwYRL/kRGKidzj5gAKxfDwX1wC5N6e2ptxXpOztfkXOHt2Xxy6nafkTsdX5Ocj5jHj3SfP979FBW0adPV46Hhj77AbPS5S0GN13B7XPlvfJrLx+7e0z0pRcInhMh6AaGEHSBoHQjYkb/eRlBr1mzJv379+fChQsEBATw3nvvsXDhQgAePHhAy5YtGT9+PHFxccTFxZGVlZUju1999RX79+/n6tWr3Lt3D2dnZypVqsS2bduIiIhg/fr1VKhQIUfeVSoVDRs2pEOHDpw7dw5/f3+aNGny3IJ+7tw5qlSpwuTJkzl//jwXL17k33//JSEh4T/HnP24Z86coXz58ixfvpyIiAjMzc2pVq0a5ubmOc9bu3Zt3nzzTbZt20ZkZCSrV6+mfPnyBAUFFen7p/c8eQLu7pry9ccfinz17Jm/oL9kPYAiQ5UJt/fLAn7dHhzeUqTv3HzN1fO0+yU9Wr1D4zMm94WctWuVOfLVV8pxLy+5I8CzSI2X34+IHWBXTXm/Tk2Rjz8IK/4XJhCUIYSgGxhC0AWC0o2IGf3nZQS9evXqOSvmAHPnzqVFixY5P+eXLp4tu/v27dM43qpVK8aPH69xbODAgfTs2RMAX19fKlSoQExMTM55b2/v5xb0X375hdatWxf4+3jWmLMfd8iQIXTt2lXjPnPnzqVBgwY5P9euXZthw4bl/KxWq3nnnXdYv359gc9tkFy9qi3f7dsr8jV/vvb5w4dLetQKSRcVAff/UZE9r2/kFdnsc/eDS3qkeonGZ0xsrDIHXF3hvffkOVKuHOzcqZzLlS1TIA/CnmY8zFPeM9tKELZJ3o+eLj7XBILCIgTdwBCCLhCUbkTM6D8vI+i5hRRgw4YN1KlTJ+fnZ8nurVu3NI6/8cYbWFhYaBzbtGlTzuPl/v9sHjx48NyC/sUXX7B06dICfx+FEfQmTZrwxx9/aNxn3759VKpUiaysLEAW9LVr12rc58svv2T+/PkFPrdB4u+v3VqtcmVZvGrUkPcb5xX0a9dKetQy6Q9kmYtxg4trwKacInpXdipyHusl9ja/IBqfMSoV+Poq82DECHkv+qBBYG39fBdw1Gq4e1x+fw73UiTd6X2I3gNxB0GVVayvTSAoKwhBNzCEoAsEpRsRM/rPy+5Bz83GjRupXbt2zs+Fkd1s3njjDSwtLbUer27dujn/n1fQsz8jsgXd398fIyMjjTl56tQpDUH/5ptvXlrQGzduzJ9//qlxHxcXFy1B37hxo8Z9GjZsyLx58wp8boMjOVlbvidOVFbPe/XSPu/hARkZ28F+HQAAIABJREFUJT1ymbvHlNR2p/cUyTs+UjO1/fGNkh6p3qL1GXP5sjIX9u4FB4f8t0AUpuNEVhrE+cENJ3D9VHn/fFvJ2Q+JIcX3wgSCMoQQdANDCLpAULoRMaP/FKegd+3alalTp2rcpyBBLyjFvVevXoCS4h6bq9exj4+PhqBfvnwZIyMjLl26lHMfY2NjDUEfNWrUM1PcCzPmglLcv/zyy5yfhaAXgvBwTalydYU6dRRB37xZW7zOni3pUcukxCoCfqiHInfu9eGmi3Iu8VxJj1Sv0fqMSUkpXJX//2q5lk1Gsly9/Yox2NVQ3seTk+T3L+UZvdUFAgEgBN3gEIIuEJRuRMzoP8Up6OPHj6dZs2ZER0eTkJCASqUqUNCzV6B37NjBlStXcorEHX6arqpSqWjQoAGdO3fm/PnzBAQE8O2332oIekZGBrVq1WLgwIFERETg4eHB559/riHoERERVK5cmcmTJxMSEkJYWBjbt28nISGh0GMODg7WKBJnYWGRb5E4Iej/wcGDmlK1fr0i5/Xq5S9e90pBD3G1Sl55jXGTZdy3pSx1e6poprbHHxFp0i9Jvp8xJ04UTtILW0gwPUnehnBuoSLoeyrL0h7rJUu8QCAoECHoBoYQdIGgdCNiRv8pTkGPiIjgu+++o1q1as9sWZbNf7VZi4iIoE2bNlSuXJl69eppraCD3EKtUaNGVK1albZt2+Lg4KDVZu3IkSO0atWKKlWq8Prrr9O9e/ec8RR2zNlt1ipVqsTHH3/MP//8ozFWIej/QWKitlB166YI+pQp2uefVvQvcR5Faqaw33SFMzPh9G+a+84zH5f0SPWefD9j4uK054a5OQwcCAsXKsfOnCn8E6XGPc2G6Am2FeVtCtmZEPGHxYUWgeAZCEE3MISgCwSlGxEz+k9hBV3w8oh4ycW5c5qCZW8P1arJcl61KtjZaUvY1aslPWq52Fusl6ag53dLufXfjyX4T/KNGbUa9u9X5sX27VCxojx3Pv1U3irh5ia370tJeY4nOwfXHSBss/b7mXBS9EcXCApACLqBIQRdUNKkpKSQnJyMSiU+mPNDxIz+IwRdd4h4eUpGBnh6asr3zJnK6nm3bvkXh0tLK+mRy6L2X3KeeL6kR1lmKDBmwsI0axfUravMnzVrlHMXLhT+yVQZSk/7/G73TssXBwQCgQZC0A0MIeiCkuLq1as4OTkhSRKSJGFlZcWZM2dyKjQLZETM6D9C0HWHiJenREVpC/i+ffDnn9C6tbwXPe/5U6dKetRyNfYYN7nqt9c3cH6RtsTFHxLp0EVIgTGTmiqvkOd3gee775Tjnp7PV/X/yV3t9zR4NoSuEP3sBYICEIJuYAhBF5QEZ8+eRZIkvLy8iIqK4ubNmxw9epRdu3bh4eEhJD0XImb0HyHoukPEy1MOHSpcka/nbZtVnGSmKqntx4YoxcSODlZE7pYHZOjm+4qh8MyYOXlSmR9OTvDmm7KglysHkqScu3Ll+Z406YLynp4YI7/PdtUgbJN87MGl/34MgcCAEIJuYAhBF+iapKQkJEni9OnTWudu376NsbExFy9eLIGRlU5EzOg/QtB1h4gXICHh+eV8//6STy2+e1yWs/CtchExGyOwKQ9hGxWZe1QK9siXMZ4ZM/HxmvNk+HBlFb13b+W4ry88zzY1tQru+MPNfeDdTLkY4/A2RFnK73VydJG8PoGgLCAE3cAQgi7QNSdOnMDS0rLAVXI/Pz8cHBx0PKrSi4gZ/UcIev7krVpfFIh4Qa6s/byCHhZWsmNOvqa0VHOvrwhbwIBcRcROlOwYyyjPjBm1Gvz8lHliYwNVqiiFBm1tlXM3bjzfE2c+ljMmrjuAWz3lPXerJx+75Q6p8S//AgWCMoAQdANDCLpA13h7e+Pj41Pg+UuXLmFsbKzDEZVuRMzoP2VF0J/Vvu1FSE1N5U4Rp1UbfLykpGjuG3Zzg9mzoVEj+b+Ojtpy/ryVuIuazMdwy1OW8JOTFFFz/kAWtRg3iPWWq7sLipz/jJmICM350rOnsoo+dKhmi77nzcJIvS2LeJQlOL6tvPf728mt9USPdIEAEIJucAhBF+gaPz8/jZ7KeTl9+jTm5ua6G1ApR8SM/mNogp6enq6jEWlj8PESGqot4F9+qQjV6tWlqzicWg13j8kSHrUb7GsoknZhlbJ6/vh6yY2xjPOfMZOeDl5eynwxNoby5eX59MorsHevci4m5vkH8PimLOlhm2FPVeX9PzZUfu/jDsrV3wUCA0YIuoEhBF2ga6KiopAkiYSEBK1zmZmZWFtb4+/vXwIjK52ImNF/Civo2SnfPj4+1K9fnxo1atC9e3du376tcT8zMzPq169PlSpV+Pzzz9m2bVvOuf79+zN16tScn6dPn46RkVFOXYfMzExq1qxZYBbL9evX+eGHH3j99depXr06DRo0wNPTk+joaK3XMHLkSADat2/PlClTmDlzJm+99Rbt2rUDYP369TRs2JDq1avz0UcfMXnyZJKTldWwvCnuy5Yt4+uvv2b37t3Url2bV199lcGDB/Po0aNC/64NOl7S07Vbq23erMj5Rx8p/atz3+7dK7kxJ0crEn6gsyJnBzopx+8eK7nxGQCFipncLdfc3KB9e3lOvfaaZkeAgwdfrJZBdvX+cwvBppwyD87+rmxvKOkaCQJBCSIE3cAQgi7QNSqVCgcHB6ytrbl161bO8QcPHuDh4YGpqWmRpdCWBUTM6D/PI+iVKlWiS5cunD59muDgYL744guGDBmScx9jY2Pef/99nJycuHbtGk5OTrz55ptYWFgAsGXLFho2bJhz/8aNG/P222/nSPzx48epWLGihijnplevXnTt2pXQ0FCioqJwd3fH39+frKwsnJycMDIyIiIigri4OB48eADIgl6zZk3mzp1LeHg4YU/3M2/cuJFDhw5x7do1Dh48yOeff87kyZM1Xm9eQa9Zsyb9+/fnwoULBAQE8N5777Fw4cJC/64NOl7ySpSbG3Tpogj6xIna50vyYmhWmpy6HuMGl9YqUmZXQykUdssDMgp/gUbw/BQqZjIywNtbmTdbt8rzycFBe05df8Fsh+Qo+T0/PlKZC3sqw+UN8vEkUTxWYLgIQTcwhKALSoKUlBRcXFyQJAlra2vs7e2RJAlLS0tiY2NLenilChEz+s/zCLqRkRFXryqVqrdt28b//ve/nJ9r1aqFra2txr9bsWIFLVu2BCA0NJRy5cqRkJBAYmIilSpVYuXKlQwcOBCAVatW0aJFiwLH2qhRI/744498zxWU4t6+fXsaN278H78F2Lt3L2+99ZbG680r6NWrV9dYMZ87d+4zx5sXg42XzExNgXJzAysrqFRJlvMaNcDeXlumXiQluai4f1ZZJff8WpGyoAnK8YfhJTc+A6HQMZN3L/qzOgI8T0X33CSFynvP/TrKc8H+Fbj4d66tDjdf7HEFAj1HCLqBIQRdUBRkZmaieoEP5Nu3bxMUFERgYCBXrlwR/c/zQcSM/vM8gl69enWNY87OzpQrV07jcapVq0aNGjVyblWqVOHdd98FQK1W8/bbb+Po6IirqytNmzYlNDQ053y3bt2YN29egWM1MTGhYsWKtGrViqVLlxISEpJz7lmCPm7cOK3HOnToEF26dOGDDz6gZs2aVK1aFSMjIx4/fpzzevMKeoMGDTQeY8OGDdSpU6fA8ebFYOPl2jVtURo6VFk9//HHohWplyXtniJdMW5w1QK8msC+OnIl9xg3uHNUpDXrgELHTH4XgQq6RUW92GDUajmd/YYT7G8PEds158ktD0i7/2KPLRDoMULQDQwh6IIXRaVSERISwp49e5AkCWNjY3x8fIiLiyvpoZUpRMzoP8+7Bz03Li4uGBnJH83x8fEYGRlhbW1NZGSkxu3atWs5/yZ7H/qsWbOYM2cOarWat956i9DQUGrWrImXl9czx3vz5k127NhBv379qFSpElu2bAGeLejTp0/XOHb9+nWqVq3KjBkzOHHiBBEREZiammr8+4L2oOdm48aN1K5d+5njzY3BxsuhQ5qC5OQEb74py3n58mBioi1RV66UzFhVWRB/SFO8YtzkntjZqe2xXnJ1d0Gx81wxc+VK/kJuYgKrVmn2RX/RC+6qDIg7oD0/sm+xPqKyu8DgEIJuYAhBF7wIKpUKT09PTExMOHToEFeuXOHChQs4ODhgbGzMyZMnuXDhApcuXdLZ3CqriJjRf4pK0AE+/PBDli9f/szny96H/s033+Dh4QHAjz/+yIgRI6hQocJzxeT8+fNp1KgRAIGBgRgZGXEvT1Gx/ATd0dGRihUramTWrFixQgh6cXD3rrYwzZqlrJ63bKl93stL3ldcEiSeL1i+RCqzznmumMm7iu7iAt9/DxUqwNtva7bxy7VV57lJuy9Xdte4gOMKIcvk/8b5ibZ7AoNCCLqBIQRd8CKcP38eExMTrf3iDx48YPny5QwfPpzt27djYmKCJEn4+vqSlpZWQqPVb0TM6D9FKegmJiZUq1aNTZs2ERERQWhoKGZmZqxfvz7nPtn70CtVqpTzt33Tpk1UqFCBZs2aPXOs06dPx8fHh2vXrhEcHEzz5s0ZNGgQALdu3aJcuXJYWFhw9+7dnEJz+Qn6uXPnMDIyYtOmTURFRbF7924+/PBDIejFwcmTmvLt6gr/93+KoOde2cy+XbpUMmNNuaUI18lJcM1GW87vlWDbNwPkuWMm7yp6s2bKXJswQTnu4yML/YvyMFyZE9cd5JT33DUK4o+A6iUeXyDQI4SgGxhC0AUvgo2NDS4uLty+fZvU1FQAUlNTsba2Zvfu3axZs4bz58+TmZlJREQEFhYW7Nu374X2qRs6Imb0n6IUdJDjr3HjxlSuXJk33niDdu3a4ezsnHNerVbzzjvv0LRp05xj2cI8Z86cZ4516tSpfPLJJ1SpUoV33nmH4cOHa6yYL1++nPfee49y5cpptFnLK+gg7x9///33qVatGt27d2f37t1C0IualBRwd9cUpj174LvvoFw5qFdPu7Wahwc8KYHVx8wUOXU9xg2C58iy5fAWhK7Ilb7sJVZGdcxzx0zeVfSNGxVBf+MNzcruL7ONQq2Gu4HyvDi/RCkiaFMeLqwU7dcEBoUQdANDCLrgeQkJCWHs2LGsWLECSZIwMTHBz8+PgIAAzMzMSElJwdXVlYMHDxITE8PBgwexsrJi1qxZnDx5sqSHr3eImNF/CivogpfH4OLl0qWCC3Vt367Zozr7lqvwn065e1yWqkhTsK+hCNeZWYqgJ1/778cRFCkvFDN5V9FbtlQkfdgw5bi398ttpVBlKvPGv3+uVnzV4dI6+Xji+Rd/fIFATxCCbmAIQRc8D8HBwezYsYOZM2dy5MgRkpKSuHDhArt27eKngT8xe95stkhbmDJtCjNnzWTHjh04ODjg5+fHnDlzmD59On5+fmIl/TkQMaP/CEHXHQYVL89TVTv75u4Oj0ug+Nrjm0/3EbuARyNFtPa3U+T8ToBYDS0BXihmsrLkQnDZ82rbNrkYoZERVK0KlpbKufCXbJWnVsnbHm66gNc3ytyxrwGXNz5tx1dCBQ8FAh0hBN3AEIIuKCzJyckYGxtz+vRpvLy8cHJyIi3tEaERR1jw50QaNf6Un4d0ZM1fo2nZphEt2zZhxuJpHA0P5mbSLXz3+2JsbIyJiQknTpzQeOyMjAzCwsIICgoiODhYq0q0ISNiRv8Rgq47DCperl59Pjl3c4Nz53Q/zqx0ufJ2jBscHawIluPbcM1WaZ+V8Uj3YxO8eMzcuKE5t3r2VFbRu3Ur2oKEarW8kn7dATwa5pL0VyBssygsKCjzCEE3MISgCwpLcHAwZmZmZGRkEHPjJvPnzmDx75OYPPYXfps4nP59utO5fUvGjhhIp3YtmT9zAuNGDGLJ/JlsM7Fi0pwZbDRbj9cRL0xNTUlPTwcgMjISc3NzjI2N2bNnD+bm5kiSxIEDB8h8mQIzZQQRM/qPEHTdYTDxolLJfcxzC9LmzTB1qlxZOz859/CApzVDdMr9s7JAhSzLs494Va7U9hfsmy14aV44ZtRqOHJEmV9WVlC9uizo5crJ8zH7XFjYyw80K12u3n7dHtwbKHNp76sQ/q9c9T01/uWfRyAohQhBNzCEoAsKy5EjR3BxceFWdDz79pixdsXv/DzgB9o2bczs3l34uWkT6r79Db0bDmFMm+9xnT2J9aMGM6NPd/6dNp4xQ/vz79ql7JDWM/q3mXgFBBF9IxpJkjh48GBOReisrCzCw8MxNTXlwIEDJfyqSx4RM/qPEHTdYTDxknf10s0NmjaV5ejDD+X953nPh4bqfpyPbzzdd75LXu3MlqrjIxU5v3tc9+MS5PBSMZO3xd+oUcoq+ldfKQUKPT3h6UX5lyI9Sc62iLYD9/q5JP01iNgOtzzhScLLP49AUMoQgm5gCEEXFJaAgCD+XLwGW5NNWBmvw37dn6wf9hOjmzdhXd/uzGzXlo/fukqvJu50abifbo28aPPJIeq86cJ3tf9lTrcJOP69hF3/rmL0sJ/4869NTFuyiM0Wm7iTfIeMLM0UuPDwcCRJKlS6e2ZmJnFxccTFxeWszJcVRMzoP0LQdYdBxItaDQcPaorRmjWKGOXtR50tSLpudZmeKMvUDSdw/VSRKZ8Wci/rGDeI9RZV20uYl46ZoCBlnjk5wf/+J8/Djz+WV9Wzz124UDQDTr0tV/uP3gNu9eQ55VoXrlkr2yVSYv/7cQQCPUIIuoEhBF2QG7VazcOHD3n48CFZWVmkpqaSlZXF42QVzpaejB02kCk/b+Gb/7vM4h6bMB7Um3md2rB/0ggWd2vPb11XQTsj6G0Eo41ggRHRf37MrvFj6P2NK80+PsvkdusY3aUTa2ZM5OeffuDfTXPxO70V98tOHI4+zON0uYBRVlYWZmZmHD9+nIwC9q+pVCpOnjyZkxYvSRKmpqYcO3aszKTHi5jRf4Sg6w6DiJfYWO2+5w0bKoI+dar26vnly7odY9YTuO0rC9OZmYqcO70H0bn2nYvVzhLnpWPm0SPNVn9LlsC4ceDsrF2gsKhiM/Mx3PGX59LBrkotg9w30RFAUIYQgm5gCEEXgCzm58+fx8bGhi1btjB37lwmTJjA4sWL2bl9B1v+WsuWP1bTsFYgDT68iO2Un1GtNcJp8FdMbNWUWR1aMbdja1b+PA3eMlK+KGbfXjWCNkYkT6nBrpGj6d1mNFPaNKfTF58x/scebFw9F0+31ew/uxPfSC+SUpI4e/YsU6ZMYf78+UiShLu7OzExMRpj9vX1xcTEhKCgIO7du8f9+/c5c+YMpqamuLm5lYlq8SJm9B8h6LqjzMeLWg2HDmmKz59/Kn9rP/hAew/6y7a6eu4xquDOUU1ZOv2bXHU7bKNyTBT1KhUUScyEhBSuSOHBg3IF+KJArVJasOW9ZWdoCEkXlBGEoBsYQtAFAAcPHsTY2BgvLy82b97Mpk2b2LlzJ6tWLmfprOkM7L6I916NYsuIqajWGUFrIyhnxM3aVejbsD59G9bH7OcfOTy7L7fqV9IW9Ny3qkaktjTCeUBrJrduxrS23zG9YxuMJ4/EZcNi9jn/xcots1izYTVz5szBz8+PsLAw9u3bhyRJXH66EnTjxg0kSSI6Olrr9cTFxSFJEuEv296lFCBiRv8Rgq47yny8xMRoCs++fVC3rvL3de5cbSm6ouMWVEmh+UtTtJ3y/w/1/29zWaFIYiYtTa7WXhhJv3ixaAYOkJUGt/drzrNr1vL+9Itrnl4IulF0zycQlBBC0A0MIeiCbNGNjIzE29sbW1tbUlJSQK3C39mK7u3X0LpeAFf++QT6G0F5RbZV5Yyw79+DZd07MLtTS1b17ozp9+2w/LYhdp/W4chH7xPx9qukVSqnJeqhPTqxsV8P5nduS+s6e+necBe7Bi9gbb+e/NSmKUMHd2by9CHcTriVM9ajR49iYmJCSkoKvr6+ODk5Ffi6vLy8cHV11cWvsFgRMaP/CEHXHWU6XlQqOHBAU3ZmzlT+rtatKwt77vO+vkW3YlkYUmLyl/Pct/tndTcewX9SZDETGZm/kG/YAD/8oBSMc3eHhCLc2pBd6yDGTa53kF3h3bYiBM+Vq7snRxfd8wkEJYAQdANDCLrAx8cHJycnkpOTNVadr4WcY8lMV3o32UfG5grwpaZgP65agesdvubiogFcXPMT+3/vgcnYtmwf1ZrdkzpwbElvLq4aTNCiX9jQpwOLP3yPwP+9zpMq5XhSsTybe3fFbdwQZrbvS+23IslYV4HzExsxouMCmtb6gR8a1mfYD+2Z93s/9h225MGTB6Snp2NqakpwcDBOTk4cPXpU47VkZGQQHh7O6dOn2bNnD6ampiXxKy1SRMzoP0LQdUeZjpfr1zXFx8FBLgiX/Xd5xQptOconw6jYSH8gV9G+6QoHu8HZ+dpyfve4nJosKDUUWcyoVBAQoDn/Ro6E8uXl+TljhnJ8//6iLVr4+LqSpeHZOFc7v3JwZpZ8LvEcqHR4sUogKEKEoBsYQtAF9vb2HD9+nJs3byJJEsnJyVy5fJ2lcx3o/KUfT1ZXhjcUMc8qZ8TxxrUInPc94esGc3HjaE6bzePEnmUE7VlCkP1Sjjv/yTHPvzjhvIAts7szZ2BTJnVuwP7ZP3J42kD29WjPvE5tWN6jE3/1/It1w36Dlk+f4xsjbo//H6t+msWW/gtZNeInfpvYG+v9Gzgdexrnfc4cOHAADw8PPDw8cl5HWFgYZmZmGBsbY21tzezZs5k0aRInTpxArVaX4G/45RAxo/8IQdcdZTZe8ut7PnKkIudNm+a/31dXdTiyniipxifGKoJ0dLAi5/GHQaXDvfCCQlGkMZOWpjlPly5V5ugrr2hWdT9xomieM5uHEU9X0Z3lwnE5kl4ezs57OgePQGZq0T6vQKADhKAbGELQBS4uLvj5+XH79m0kSSI4+Aom/+6kXf0AHq2pAW8qch5Xw4ht7eqybkgLlg5qw5rF4/A/60bMwxgepj0kLTMNlVqVc7sQdoG1m1bj5WfKokVD8No1lsvbhhHxzyCO/P4jc7t+h8WQ/uwdU0d7r/pbRtwd8hYLeq9gRoehLB/eF++DW1i8ZSH7vPcRERGBJEncu3ePqKgoJEniyJEjJCcn8+jRI3bs2IGdnR3GxsacPHmypH/NL4yIGf1HCLruKLPxcvWqtoAPHAgVKsgrlFu3ap+P1VGrKVWWXFE7xk1eNbcpp8jRuQVP26n5QGaKbsYjeC6KPGYePJDb+mXPw7Ztlc/19u2Ltz5C0kWlSNyhHso8tK0gdxOIcZO7C6SXwb8RgjKNEHQDQwi6ICQkBEmSuHv3LtIOU/5cuADPhdPZO6kT/E8R5otvlWNU01rsm92Dk8Zz8fTbw3bj7fj4+BT42J6enjn7wB0cHHDe50RkzHFOu/7B5Y3DMR7blo0/t2Neu+Zsf/8tHr1SUVvU6xlxZlxjBrecw9aBvZg8sCPWXmsIi7+Mo6Mju3fvZvPmzXh6eqJSqYiOjsbW1hZbW1tSU1NxdHRkypQpGBsbY2VlRWBgoM7me1EgYkb/EYKuO8pkvGRkyJXY89vfu2MH/Pqr9vGAAN2N794pWXwurgbbSooUBQxU2qml3dfdeATPRbHETHS0MhctLaFGDeUzffp0zdZrRbkfHeDRVblP+s19eVbSjeBwb3mF/ZaHKB4n0CuEoBsYQtANmwcPHuDr68v48eMZO2Ysg/r2o1/r5vzbvxfrf+hCyGfyh2rU6+WZ17E+s35szZ/Tx+Lt44FarSYyMhJJkrh/P/8vXw4ODgQGBgJw8+ZNjI2N8fb25lbcLS5dP8P29TMY368ZozvWZ1a3JgRMG87BLt9x7uPKWqKubmnE8v6v8MOXn7NiYDdc9vzOyQhvbPfYMnToUP7++2927dqFJEm4urry8OFDvL292bp1K9OmTcPV1ZUTJ05gaWmJubk58fHxuvxVvzAiZvQfIei6o0zGS1hY4apj577du6ebsT24LEt4+Fa5jVq2CPl1VFpdiXZqpZpiiZm8WzJmzVI+z6tU0cz48PWFJ0+K9vmz0uQ95zdd4ND3mpLu3kCW9Bg3SAgSKe8CvUAIuoEhBN1wuXfvHubm5tjY2OB/5Ai/T51B/85taV3nY7783zvUf/dtOnxSC/O6VVnSsQEmc8eSEH6Oq1ev5lR9V6lUmJubc/Zs/lV58+4Tv379OjY2NkiShCRJTJ8+nalTp2JuvpHlU/pwbvUAQlb8gvPEfmz9ph7xr1fQkPSE6pUxG9SHP77vyNxObXBc8ytuPmv5c/UyTpw4wYULF0h4ejU+ODgYExMTYmJiMDMzIyQkBJALybm6umJlZaUXfdJFzOg/QtB1R5mLl7Q0zXThwtyCgnQztsc3ZcmJNAWHtxUB8mqiCND9M7oZi+CFKbaYuXZNc15266Z8nteqBXv3KueOHi2eeglJF+R5eOpXuaq7jRH499MsXBjrJVbTBaUeIegGhhB0w8XR0REnJyfS09OJPn+JXm1O8EefJWzs24Pv639Km08+ZvPQlozr9CWeG5eQ9UiZIx4eHjmp6zY2Npw6dSrf58jeJ55bRtRqNTExMQQFBbFq1SpCQ0NzqrO7Ollxzn8Hp/fNJXDDcCZ99xXWn7xHSnX5Qz2kRycOTRmN3+SR/PT1MhZ0G8G+meOZOroP1t6m3H0sP49KpcLKyoqAgADu3bun1S89MTERSZK4evVqMfxmixYRM/qPEHTdUebi5dw5TclZuxZGjQJHx/zl3NMTkpOLf1xP7sppwtdsweVjRc5dP4Xr9sq+86wirNQtKBaKLWbyrqI7OEDt2oqkt2untF4r6v7oubkfLM/HS2vBp4Xcii2/9n8JJ8V8FZRahKAbGELQDZP4+HgkSSImJob7MbcYNziAY0tbktmvAtt7j2V2p+8Y1uozgpY/iylcAAAgAElEQVT3Z9XMMZzKU201NDQUU1NTkpKSnim6WVlZODs7Y2lpSVhYGBkZGWRmZhIREcHu3btxcHAgMzMTgMjISIyNjXF2dubQqUOst1rF0P4tmfd9c9Z0bUdI5zYcmjKaQ1NGYzxoKZ/9L5zUv6pweFQzlvQYxPy+32O78x88Aly5GH0ZSZK4fv063t7eWFlZkZmZSVRUFH5+fnh7e7NixQr8/PyK/Xf9soiY0X+EoOuOMhUv8fGa8u3sLPc6NzKCd9+FnTtLpq3akwS5nVqMmyw82XLu9B5EWSrCk3Kr+McieGmKNWaiojTn5/btUK2aPIerVpVrKOQ+Xxxbz9QquH82fymPcZPbsF1e//SikjckR4lWgIJShxB0A0MIumFy+bIssKkPH7B01mF2Tx4KA562UXvViC0D6vJz6y8IcJI4evQo5ubmGu/bmTNnMDMzw8vLi927d5OVVXBv0bS0NPbv35+T1p598/b2JjVVc+9XbGwsnp6eSJLEokWLGDVmFM4uuwgymcWZJcPwnz6KQ1NG0/L/gvGY0xMaGUE5I9JaVWJtn5+Z0b4fpkP7s2vaOIaNHsKmrZswMTEhPDwcBwcHJEnCxcUFHx8fJk6cyPz58wtMzy8tiJjRf4Sg644yEy/p6fLe3NzyMmyYsvpYuza4uGie10W3irR7ipzHuEHYZrCvCXtfgyuScvxe/llVgtJHscZMVhYcOqQ5TxcsgA8+gH//1b7A5ONT9PvRs3lyF+IOaMp5+JanhQ3LywXlrprLx+MOQoqOuiAIBIVACLqBIQTdMLl48SKLFi5i6pgd/DVoPozVLMjm26M5fbt1IDw8nLS0NBwcHDAzMyMwMJDIyEjWrFnD0qVL2bVrFzExMYV6zkePHhEREUFERMR/zreMjAzOnj3Lzp07SU1N5XH6Y06cduTMzpmcmD+CHQP7sf37bzULyVUx4laH95jWYTJT2nShx1cN6N+vJ57HvbDda4u1tXXO/vTY2Fh27NiBl5dXqU91FzGj/whB1x1lJl5On9YUl61boeLTLhfly8P69ZrnfX3l/erFScZDeb9u3hXIyxsgbKPyc1IoqNXFOxZBkVHsMfPkCRw4oDlfnZwKrqFw7Jgs9sWBKgsSzytz9UAnzQJye6pA4DClhkL8YVnUxXwWlDBC0A0MIeiGw+PHjwkKCmLTpk0MHz6cL+v3ZHKXDTBTXoXOFt1LfZtjvX4ZkyZNwt7enqSkJNLT0zl58iS7du1ixowZDB8+HCcnpxzhLQ7S0tLYtWtXTg9zlVrFpTsXMTFewtSerRnbtBH2X39IehXNQnJUNeJm6w9Y0X0iY9u2Z9aowUyYORSP0x7EJ8dz7/49bGxscHJyAsDLyyvn/0sjImb0HyHouqNMxMvt25rC4uIC9eopf+MGDNB9z/OsJxDnB9G2cvuq/FKFb7lDcnTxjkNQ5OgkZh4/1tyPnvfm6gp2dpptAovzglPKLfli0w1nOD4S7Kprivq+Okrae/aKenK0SH0XlBhC0A0MIeiGwb1797C0tOTff//l999/Z870NQz8zoysxeWgkiK3fg3/h+PWlUg7dxIQEJBTcd3FxQV3d3dMTEzYuXOnzlacg4ODkSSJ48ePk5SUxLFjxxj8y2A6ft+R7u0aM69HM6wHdeXst++hLp+nf3p1IyL7v0qnr97m64/eZ8qAjixZO4VpK6axcddGHj16BJBTlT5vun1pQcSM/iMEXXfofbxkZmqLzOjRyt+1Dz/ULhBX3Kntqiy4EyDvL3f5GA5205b0Wx6QGle84xAUCzqLmUePwNtbW86dnaFzZ/jkE01JP3BAFvviIiMZ4g/J8/eaNRz+QU51zy3qXt9CyDJlvsf5idoKghJBCLqBIQS97KNWq9mzZw9OTk74+vqyevm//NzWhZQ/qkJ1RWiPf/oafbq2ZtkfcssykIu8XblyhYMHD+Ln58f58+d5Ulz7wwrg3Llz7Nq1iylTptC/f3++//571q1bx8lTJ3G13MHfw7tiOrozx8b25lzjt1BV0BR1v08+4Icv69H/qwYMb/4VuxaNw/W4BcduHCM1I5UbN24gSRLJuqh8/AKImNF/hKDrDr2Pl0uXNOVlxw6oXFn+e1auHPz9t+Z5Ly8ozouLafdkiblqDs4fKeISMEizTdWT4sumEhQvOo2ZxER5zuaew127Kp/ZDRtqtl/z8yu+PekAqky5envOdo31sO//NCXdxgjOL9G8IHX3GKQ/KL5xCQR5EIJuYAhBL/tkC+idO3dYtXwdQzubc2/Rm/CKIrEn36/MjlUzWbduXalM9w4NDWXlypVYW1uzZs0aMjIycs5FhIayftEMDv8zFr/Z/Rjw5Qec/eL1nNfm3bU9szq0wnr4AJrVsmZRj+n4zRjHPvO/cQ91w9rNGnNLc27evImPjw+WlpZYWlpy4MAB7ty5U4KvWkbEjP4jBF136HW8PHoE7u6KnOzbBw0aKPLSp4/26uO1a8UzFrVa2asbaQpO7yuy4viOUhAu1gvS9fT3LQBKIGYSEsDDQ7O+Qo0aBUv6kSOQ6zO/WEhPhAdhcir7DWc4MRYc332a7l47/20dt9zlGMksndl3grKFEHQDQwh62SI9PZ1Lly5x4sQJgoODefDgAadPn8bKyopL56P49ZcBWI1qibqmIueRH1bhjwk/EZ8Qz/79+/H09Czpl6GFi4sL3t7exMXFIUkSsXn2W9rb2+Pr58vG9Qvo0/ILvKb9xLF+HYj57GP8Jo1gfue2/Nr6V5r8XzCqyUbcaPABO7qPxmz6RCZMGs7M1TNZ8s8SrPZYERwczOnTp7Gzs2P79u2cP3+e69evEx0dzePiTLcrABEz+o8QdN2ht/GiVsvFsXLL94wZirS8956mtGQX0yqu4lXZcn7FGJz+l0vO34VIk6eC4imvsAv0mhKJmVu3NOfy+vXPlvTAwOIrHJcbtQqSLsjz+6YLnFsIF1Zqy/nx0XJf9Wxxv+0rr8SnJxX/GAUGiRB0A0MIetkhLCwMU1NTTExMsLOzw9zcHEmS2LlzJ3+vXMXef9fwZ6+urOrVhQNtaoOREVc/qsKBjXPYtn0rCQkJWFhY5KS3lyYsLS1z2qHZ29vj5uaGSqUUazl8+DBOTk4sW7aMqbOncsjfjDNbp3Fy4XAOTx3N3lGD+eajvbjP6QV15S8A6nJGRNX/iBnNRzKpe1fWrPgdu1Pu+IX54eTjxA5pB7/88gutWrVi2rRpbNmyBWNjY/z8/HSa5i9iRv8Rgq479DZerlzJf2/ukCFy9faVKzXPeXgU3/7chxGydFz4C+xf0exzHmmq7Dl/IuZwWaDEYibvnM8r6Y0aaUq6v3/xdyrIJjVOuyVb9u3SOiUmHN6Cw70gYoeyqv4gTBSTExQ5QtANDCHoZYPo6GgkScLf35+UlBRA3j9++fJllvw+jx/adsR21GCshg7ISff279+AUOMl7Pf1wdbWlsDAQIyNjXU2F56HPXv2EBAQAMgt0kxMTHBxcSEqKorExESMjY1ZvHgxc+bMwdjYmNSMVK7fv8blQCfObZ1B0MJRuI4bwqZR36KqUU5jj7q6ghGXG3zKyk4Lsf51KmOHjWXMnFmMmT+WCXMnMHLsSObNm4epqSknT57E0tISBwcHjTT74kTEjP4jBF136GW8JCVppvzmvVlYaB8rrkKdyVGyaJz6FWwrKCLi/JFmj2ix/7bMUKIxc/7880m6nx/osl5M2n05m+SWhyLo+9to71G3KQ9+7SF869MV9f2QGAJP7ogWbYIiQQi6gSEEvWzg6OionZquVhMdcoafWu9l28CfmN6uA85jfmbDj9+zqHcLts8awT4HB5YuXcqmTZuQJImLFy+WzAv4D06fPo2ZmVlOpfW4uDhcXV2RJIn169czdOhQdu7cydmzZ5EkiVu3lCqrWVmZREWe4tCeVSzs3ZlN/doR1PFjbVGvaETk5//HP991xfSXfvz2fWds/57JapPFrN6xmi3SFtatW4erqyvz58/H399fJ69dxIz+IwRdd+hdvGRlwaFDBct5frejR4v+S79aBYnnnsr51DyVrJvI7dVi3ODeabmwlqDMUKIxo1ZDaKjm/F63TlPS69UDa2vlvI+PfFFLl2Q+hvtn5Bi47iDHiHdTsK2oLevuDeDMTPl+MW7ySvzjG0LUBS+FEHQDQwi6/vPw4UMkSSI6Olo5qMoiNCCAiV0teTyxOlQ1wqVDO2Z1aMWGX9qzcsyP/DZpIkOHDmXu3Ll4enoSExNTUi/hP0lJSWH37t04ODhw+/ZtAFQqFaGhoWzdupXdu3eTlZWFWq3G1dUVCwsLIiMjc9Lg79y5g6OzI39uWIaN6Xo8f5+N+4Q+nG37LuqqedqzGRlx541KLP++I4emjGbdgB6MHdSDoZMH06lfJxZtWsSE6RMYO34svr6+ZGZqf1nNysoiKSmpSOJKxIz+IwRdd+hVvGRmyntrcxeF69oVVqwoWM79/Io+zTczVW6jlr1CGG0nt1OzMYIjfeW9uDFu8OBS0T6voFRQKmImb7p7bkmvX1+7taCXF9wrgfoHGQ/li1S33J/Gyh4IHKG5FST7drCbZmp8nB88ugoq3WTfCcoWQtANDCHo+ktaWhqXL1/Gz8+PZcuWcePGDQBUmZn47T3Ab922kvljhRzpzKpsxJ5RzZBmjsTRwowjR45w+/Zt1HpyVTcpKYm9e/ciSRIWFhY5e+zd3Nxy0vpBLpTn7e2NJEmYmppiaWmJJEnY2tpy584dbty7wTqbdUybN5rZQ3swqXVdzjR/BVWulnPnP3iHjf164DtpBB0++Z0uDRfxx/dD+a1nB8z+msm2LXMYN/Vn5q+Zh62bLRlZ8gduZmYmJ06cwMLCAkmSkCQJe3t7IiIiXvh1i5jRf4Sg6w69iZeMDHklPLd0DBok/w0qXx6mTtWWc2/vok/vTY2DWG/tfbZXjOHMDGVfbXIxVYsXlDilJmZu3tTsYrB5s1wszsoq/4tVnp5QUp1WMh/LMXH/rJzOft0egsaBSy1F0C+u1oypG07yqvotT0gKlR9DICgkQtANDCHo+kloaGhOQThzc3NGjBjBsmXLOBoQyM5/PFjUYznqZpqrwscbvkKkxd+oHuh3ldHY2FjOnj3LuXPnSEgouPduYmIi58+fJzg4mBs3bqBWq0lPT2fv3r1YWloScDIAv7N+zF/xG00//4QWtd/EpnNVIutWxaZFE5Z2a89fPTvzerWzhP75JVmvlCeu7psc7Vgfy/7NWNmnAzbTfmbW2L64HDPh9M2T2Oy1wdTUlKCgIG7duoW/vz9//fUXkydPZtu2bS+UpSBiRv8Rgq479CJe0tPl1lG5ZWPuXOXvdfnysGyZdlG4olwxzEqT99becIZjv0DE9vwLYsV6y/toBWWWUhUzd+9q90nPe7O314yLPF1ddI5aBY9vQvwhuOkKF9eAfz/5/3PH0unpYF8TjvSW96rfcpdX458U/D1GIMhGCLqBIQRd/zh9+jTLly9nz549xMfHA+Dj48PMWb/To90qrH76GT7Otbe6nBFr61dl9i8/Ym5iwpEjR7h//34Jv4qS4cyZM5iampKUlMT9+/exsLDAwtICY2tjfujTnVrvvUvbT+rwY8P6dP6sLoMbd6HlZ4Hwq3YafMZHFbjUqhZbu3/HqsEDMBvdj3m9O+Cz4jfO7F3H5r9/Z/naZZjtMWPzts2MHj2aJUuWYGNjo7Hi/1+ImNF/hKDrjlIfL2lpcPiwpnCsWgWVKil/X8aM0Tzv7g5Pt/a8NGqVXKU91gvCNsO+OvJqn2tdeYUvt1DEH4HMwv+tEugnpS5mHjwAX9/85dzGBj78EPr2BScnJT6eZhCWOGn3IemivKqe92KX2+d59qp/IWepXHeQCy8+vAIZOiyAJ9ArhKAbGELQ9YfU1FQ8PT0ZM2YMs2bNykmh9vb2xcnlBEM7/sXtIf+DaopEPqlixJQvXmX84B9ZungxW7duxcrKil27dnHz5s2Sfkk6x9raOqca/N69e3FyciLt6X7Ohw8fMnrMaDp160Snti3p2fQbxrdqypSeLbnc+11Ur5fTkvSciyCvGHHvq0p4NP+AQ1NGs+aHrizs1gaXycPYu3AxcyfMon2b9vT+oQc/9O/FxBkTsXKx4mHKf8ediBn9Rwi67ijV8fLkiXZBuC1bNAtide4Mrq6a97l+vWieX5UBdwPl3s2BIzSrtNuUh9DlT1fNvWRZEK2iDIJSGTOPH8v1FnLHgYuLnPKeHSuffQbGxsr54GC5rkNpQK2SC8PFHVTS2/06wp7K2nvV7WvA4d5KBfj4I5ASI4rKCTQQgm5gCEHXDzIzM3FwcGDLli0sX76c27dvk5GRQdCJEAYPHMH0rn1RtdYUyLtvlmNqizp425kDcis2Y2Njzp8/j7e3N+bm5jprFVYaUKlUSJJEeHg4sbGxSJKUU3AuG3d3d/755x8WL17M4GE/88voYXzx6f/R4tOPGdDkc+a1/g6frxqR9P4r+Yp61Ptv4DZuCLM6tGJ8y83M7bOCI40b4d7gG7Z+1ZaVLToxoW0bWjSsT/tOLeg7oCPGO+YSGuRI7K1LJD68Q5YqS2NM9+/f59KlSxw8eBBvb2+OHz8uYkjPEIKuO0rtZ8zdu3L16dzCYWwMb76p/A355hu593nu+7xE/QoNsp7IX/yjLOWq7LkFwaU2XN4gy0HiOTn9XWAwlNqYefJEO9tk0iSoWFGJmWrVYMIEWd7d3ODAATnWSgtqtbxFJPGcvF3kmi0ETVCKMGpVgK8PYZueivphWfJFPAoQgm5wCEHXDy5evMg///yDh4cH69atI+VxCmHnLvPHlElM6NiaiU0/I+MVpSDcoc8qM7ZdY1ztbTUe58CBA9jZ2ZGcnIyxsTGXLhlWVV4zMzNOnTpFSEgIZmZmWuft7Ozw9/cnMjKSefPmsXfvXv5e+zdzFs7G1Hwlk0f8wJbfRuL3+684DxvE3hZfE/3p26iqyBdHjn78IWa/9GN2x9Z0rhfIsaUtobqmxGdVKU/C+69ytn4tbL/+nFXN6jPnu8+xHd2bwIXjCfjrNwKlJQQ5bebwfhs279zMP1vXs8t6F07uTuwy28WOHTvw9vbG398fDw8PrKyscHR0xM/Pj0uXLpGenq7xulQqFSkpKS91QUalUnHz5k3CwsKIjo4mKyvrv/9RHrKysoiIiMDd3Z29e/fi6empUW2/rCIEXXeUus+YrCy4fFk7VXfDBnjtNc3VwNx7a93c5H/3sqjV8pf8WB8Ingt7X88lBOUgYIC8uhfrDSklvJdXUCKUupjJTVaWdq/0DRvg/fc1L5B/8olc+T37PidOyKnypQlVppyZEuv9dK/633CgU55V9fJw1Uw7Pf6OPzy+LrJaDBgh6AaGEPTSz9WrV5k5cybTpk1jw4YNDBw4hNE/zWPbyMHM6tAK62E/sapXF7Z3aMSTquVY2fgNDvz7J8OHDNHqjR4ZGYkkSaSnp+Ps7MyRI0dK6FWVDAEBAVhZWXH27FlMTEw0WqTduHEDSZKIjY0lPj4eSZK4e/cuqamp7NmzhyVLljBvwTxcjrpg5mXG/NVzGTqsD3OHfs+Cni34pc67dH77DUY1a8zAr7/k83fDuL/69QLT4vPeltT+iD++74jr2CEMa+qC8S+/sLLFD4xqPYYFg2axZ/pMvFfNx2X9EiYO60ents0ZM/QnRv7yE0N/HsDECeNZtWoVO3buYJfZLqJuRBGbGIvvIV9MzUxzbYnw5s6dOyQkJBAREUFUVJSW0OclOjoaGxubnMeQJAlLS0tOnTrFqVOn8PPz48iRI4SGhhIfH8+TJ0+0ugOkpaXh7OyMJEl4enoSGBiIu7s7O3fuZNeuXXh6euLo6IiHhwcRERH/eQEgOTmZkJAQTp06RXh4eKnOBhGCrjtKzWdMVhZcvZr/XlonJ3jrLSX+a9XSrlR94cLLjyE9Uf5iH2mivWru8AaErpC//N89JrdaExgkpSZmnsXt27B/vxIfdnZyS8Lcn6PlysH334OtrbI3/cKF0pP2no0qQ74YlnwNki7IbQ2DJsiZLN7NteX82BA5Bf7yeoj1lWtIZOjmO7ug9CAE3cAQgl66iYiIQJIkFixYgIeHN/4H4hnSbiOXh9djbqu2zGzfkkNTRvPvgJ4s79uemX3b8OvY0WRkZDBz5kw2bdqk8XiXL19GkiQyMzOxt7fn6NGjJfTKSoaHDx9iYWGBlZUVa9euJTw8nMzMTMLCwjAzM8u5oOHv74+VlVXOyu6TJ0/YvHkzM2fOzBHU1atXs379eqztrJm/eA79e7Xnkw/fpvVntejweW3Gt2zCb30+RxrUEK8enxDW6n88/KI66rcLEPTGXzKnQ2tmtu9Jk/8Lhgm59riXNyL99Yo8rFWTuHpvcbXRhwR/+wmH2r2GTYv6eE0chs2Yvkzv0pU/+k9g7o9DmdqnO/OG9GTe8F5snj0Biz+Ws3PFGiaPm0i37t0ZO3IIv/82mkVzJrFk2Vx225pwJOgAHgc88Dniw/Ezx4mIiuDU2VNs37Edd093omKiuBR9CWtHa4aOHErzFs0ZMWIEf/31F9OmTWPIkCH8/PPPjBs3jpkzZ7J9+3YOHDjA3bt32b9/PxYWFhpiqlKpsLW1ZcSIEaxYsYKjR4/i4eGBJEk4Ojry5MkTrfdQpVJx7NgxjI2NMTU1xcbGBmNjY8zMzAgPD9fNRHpOnlfQHz9+THJyst60QCxNPNdnjFotp9Hevw/x8XKV9AcP5FtSknz8zh25SvTdu/K+2NwXjlQqePRI/rexsXDrFkRGyqt3np7PrkS9cqWcqtuggVz4KndBuJdNa1er5J7l2b2aI7bJK3PZcu7THKJ2K73NxTwzaPTme1lmJoSFyZXbs+NlzRqoXVvz87RePc1Y8/MruiKLxUFmCiSckFfVo+005fymi2bWi0ttODFGXmW/vR8ehEHWsy+wC8oGQtANDCHopZesrCwsLS05ePAgluYO/PqzhNvgXqi/kj+Ekuq9wg8NvsJ90iAW/NiaCSMGsGrVKv7++28SEhLYvHkz06ZN03hMV1dX3N3duXPnDpIkcb2oig/pEQkJCdjb2zNjxgzGjBnD33//jSRJHDhwgLS0NC5cuIAkSYSEhGj8O39/f+zs7EhLSyM4OBgTExNu3LiBg4MDdnZ2BAQE8M8//zBr1izad2hPvwF9afrt13Tr0I4ZI39hcv9eWM+byKjOzfi1S3Ps+rfjQKcGXG1dneufvMH8ti0wGdyHId8MZkBzB+hfuJX3m69WxWvCcA5NGc3gxltYOXAhaQ0qkVW9POlvVySlVhUSPn2NqPrvc/HrjznTvA5H29TBqU0VtjRrzMIu7ej31RfUfrMvg9q2Z0WHRszp+CXDWjWkf8umdP+2CQO7tMX8rwVsW7GAiSN+ZtSg3gzu0Z5ffmhPu+++plPbpvw6ph9TRvWhQ8uv6dWtI8MGD2PY8FHMXzqf2UtmMGPuVAICD/DwyQMepz8m/l48O3fuZNKkSSxYsIDff/89pyZAQkICu3fvxtvbW+v9CwwMxMTEhJCQkJxV8+TkZI4cOYIkSURHRxf7HHpeCivo4eHh7N27N+cikLW1NefOnSvzWwBeCLValugbNyA8HEJC4MwZEo8eJTEgAE6dkotGBQXBwYPyl/r9+8HfHwIC5P/P/UX/eW7u7nIrqNw9m//rZmenfWz1anB0VH729YVntI4sFGn35HZPeVfhDvcCx7fh3EL557iD8ERkcQj08HvZ48dw7JgSN87OcueDatXkz8XZs/OPwcOH5YtopfWC1JO7cP8M3PJQ4jZsE9hWzH+/uttnEDgcruyExBA59kvraxO8NELQDQwh6KUDtVpNTEwMISEhXL58mZSUFM6ePcuM6TMYMUhiZfdppLWtDOU05ey3r2swqU9rBvTrg4mJCXFxcdjZ2WFnZ4eZmRnjxo0jKCiItLQ0Tpw4gSRJhIaGsmfPHuzt7Q16hS46OpotW7awbNkyLCws8Pb2xsrKCkmSCAwM1Lp/TEwMkiQRExODjY0N/v7+GsdsbW05fPgwiYmJLF26lGnTptG7d2+6du2Kvb09v037jb/X/c2s+bNYJ/2DvZs5U8cNxnTJRFwXTua3Lh2xHDGUcd+1pV+rXuz98Qsim77Jw4ZVSf+oAqqa+Qt6xBs1Wda9Iwd+HcWIZjaYTxwJdQsn96ZvvE6fLz9nZLPGvPfqKeL/eUfzPhWM4FUj1B8YkVmnAmmfViKlfkXCPqmE1KkNDqMG0/mzT2lRZx/7Rzbh0re1ON+8DsGt6hDcsS7+HT/Hs2NjbNo3Z0e7ZrgN+ZQDQzqxa+JoJvbuQbuvOzDy+0ksGjWWLi06Mq5vT8xXLMbDzAyTTTtYMHcRYRejSE2RVy1TUlIwMTHh/Pnz+b6nXl5eODg4FOe0eSEKI+hBQUFIkoSvry/Xrl3jxo0b+Pv7Y2Jigo+Pj2FIuloNKSnyavXt2/J/79+Xv1SHh8PZs3DyJBw9WuAKdaKrK4l5q6CX5G3jRmjeHD76SClkld/t4EFIfYk088xUSAiCU1PA7XO5dVNuQY/eA9ft4ZannCIr9rIKnqK338uiojR7ppubw08/wb59mrG1c6e80p471m7eLL0yq8qQe6MnR0PiebjhDKemym3Z8hN1GyNw/ujpqrqvXJDu8XXIeFTSr0RQhAhBNzCEoJc8UVFRmJmZsWPHDkxNTTE2NmbxosV0aTeGqe3mEtf5XaiiKVZJr5XHtmcd2jZvzPTp03BwcMj5Av/w4UPMzc0ZMWIEs2fPZvr06YwfP57p06ezZcsWJEliz549PHok/nhnXxg5fPgw3t7eBAYGcu/evQLv6+rqirGxMStXruTatWs5UuXu7o6pqWnO3N67dy+HDh1i3759dO7cmZEjRzJ06FAsLS3Zu3cvZmZmWFhY4OLiQnpmOjsOFUkAACAASURBVF77vZg+ZzabdljRs3dfhg7vj4vNcpZO7s/RnX9ivWgyfw7sjOXYnoxr8gGmfRqzoe1nmHeqydHObXJqEczttIGdk/rw+KsqZL5THlX1cqjLFSzoTrU/Yug3XzGs6dd8+V4YSWtfLfSeea8fuiIN6kPnz76kad1TGin5z7qlVKvI7I6tWdq9A72/nMeKgYugixG8YUTm+xV4UqcyjxtU437j17jcpDZHvvkaq7Zd2DjiGyb/1Jf+XTpivHwx++0tiY+JIubmTby9vbGwsGDDhg1MmjSJgIAAYmJiiIqKIioqiuTkgnvLJiQkcOrUKQIDA7l06RLJycmEhob+P3vnHVXVgXXxZ/rEmDpJxmSSSYwtahJjYjf23kusSEeqFGnSpUmVJvU9ekc6CKI0USkioiAqWFABFQWxYUEQft8f9/MlBM2QKZkU9lpnLXzvnvtu9+5T9iE5OZnY2Fh27979i4XsWltbaWhooLGxkc7Ozn9K0Juamp5atdHV1cX58+fx9fWlsLCQs2fPUlxcTF5eHgcPHqS+vv6ZQbbGxkbKy8s5duwYjY2Nvd72/zra2qCxUSDcp0/DqVNCprug4F/PaP+WCHpsLLi5CWrTgwd3v/51dJ5Nzp/SzvFP0dUpjGO6XgjHDCFp4A8v7CVK3Qn65Qy4daJPEboPPfC7fi9rbxeeJVlZz74nJ0wQ7r+vvwYHhx/GGObmChU4v1Wi/mM8uiVkyc8GQOF6SP20p6ZEfWr3e/58qDAy8dYJYT57H37X6CPofzL0EfRfD62trdTU1FBdXU1LSwsXLlwgPDwcOTk5NDU18fb25tDBYpKCQnFfvJQ7U1/rQcwfvdwP3zEvY6W2Elsba2bMmIGuri6VlZU8evSIzs5OamtriY6OZseOHezevZuEhASCgoJITEwkOzubs2fP/ksK3H34QehMRkYGFxcXbGxsUFZWJjIystvItpiYGEpKSqivr8fb25ukpCTMzc2RkZFBVlYWFRUVcnJyePjwIQkJCWzcuBFLS0sSEhKYP38+GzZsICMjg7CwMFJTUwkLC+PIkSNcbbyKiooSO3c4oqywEXVNFXKLM3HcZoKlhgrqK5Yy69vRLJ3wLR++/SYjP3yfeV8MZ93YYXgs/waX2aMInz+O2Nkj8RrzGlEzpyA3djQbv/mKzVM88dw4i6qRH1M79G80/uMtbv/tVR6+8SKPX+w5A37f8gVsXzib+cPG8d3wA6DcO4J+/ZXnWTN6FH7fL2bRCEtsVlnCt73zzXljAF8MfI/ZQwcx6RMzDFco4rZkCnbrluGsporamlWM+fILJk2YzNKlS1FTU8PZ2RmJRMK+fftoaWnhzJkzVFdXc+XKFbKysqSCd76+vqipqTF9+nRWr16Nh4cHu3btwtbWFkVFRXR1daUie5WVldy/f7/btdHZ2cn58+eJjIzE29tbWqb+pDrj5wj6gQMHiI6OlpLttrY2SktLCQ8Px8LCgjlz5jBjxgzWrFmDnJwc27Ztw83NDX19fSwtLSkoKODWrVuA8ExPSkqS/nZYWBhisZjk5ORfJyj3+LFQpn32rNAvWlMjkPDDh3vONf4v2BOC3pWSyoOQGO75hnHfJ5iH3hLavf3p9PYRstpJSVKfztR0Hnn68kBejdb1m7i7RonW1Qq0rpLj7jIZ7ixez615a2ie8T2Nc2W54JVOU3A6tyLSuRmezr0Nm2gfMoLOAW8889rtePMd7qgZcSM0neYQwf9KQDqXwgs4U/mQCxeEQoHLl6GhQRh9XlsrHMaaGuFQnj4tWPXpLi6cauBaRQ53DlnSkfhJj4xaV+4s2i+k8/B8BnfrK2lpuk9Li1CQcOuWUCX8U23I9na4eRPu3BHiKJ2dwmcPHwr26NFvT2+rD/8+/hDvZe3tcPJkzyCfq2vP+3HwYFBWFjLuT4h6dbWgQfFbr1TqbIfWWmguFTLmJUqwewTkL+jZ1pLxhaAQn/kVFG2Ei9Fw/7Kwjj787tBH0P9k6CPo/308evSInJwcJBIJAQEBODo6IiMjw/z581m7di0mJiacPnWWoJ3+yE6dwqRPP6JxUPcXvc7nRJROfJ1iHz08nR3Yu3cvISEhREZGkpeXh0Qi6aawnZ6e3pch/y8iLCwMb29vUlNTsbe35/r169LvGhsbpWXvBQUFUuJ1+/Zt4uLiMDIyQkZGBl9fX+m18ERZ/8qVK6xYsQJtbW0MDAxwcnIiKCgIfX19YmNjqaioYOnSpaxatQqJRIKfnx+VlZUEBQWhpqaGhYUF1tbWWFpasnTZUszNzdispYmRsRGSEAmKKork5u8jKDCANWtWUFqYhq6OIpvUZImI82fpolnE+diRH7UTI3U54sXuLJ81k3njx6MwfyHzvv6SEL1NWK6ch5++Enqr5rNi3FfkG2lhOO1rXCeNInXJdHwnjCFy8kTCvxlJ5JefsPvrj8n84u/s//oVoj9+F/mxo9GdOoGlI9eyeYkeF758l7bXX6DzpZ6BgB9b9ocDURg3GqfFc/j4zTzqPT+EV/7/+wEiOoY8x+Vx77Fv+hhc585jy1pZ9OVlCXGxRmeTMqqqm/Dz80MsFqOtrc3mzZs5fvw4Bw8eRCwWY2hoiJKSEnp6ehgaGiIrK4ufnx+enp4sXLiQZcuWoaqqyvbt25FIJBw5cgSAyspKAgMDUVRUREVFBTs7OyIiIggNDUVNTY2xY8f2IOgRERE8+P+S5rS0NPLz8wFBkHDXrl2EhoYiFouxt7dny5YtTJw4ET09PTIzM9HT00NZWRlfX1+MjIzQ0dFBLBZTUlJCdHQ0cXFxXL58GRACB0eOHMHNzQ1vb++nCu/9S+jqgtZWQRytulro+c7P/2V92c+ymBiQSHjgGcB1Kx+ajF24pbeNu+pGtMppcn+NPPcWrabZ0Ik6n3Qu+aRzyTudS5aBPHrrXTpeeZUu0c9fSyc0/Ti6LZ1Sy3RKLdKpXbS5V0GiRwPeptQivZvdGDHlmcvf+9sgLs5X58jWhB5++72rSE/t/EWHZm/qNYqScjmbYExrzNAexPxO7BecTnKhJHkv+SnVZKS1/ez6MjIEfpKb+8tOUWbmDy39xcVCe29WllBxnJ0t/LuoCMrKBN5UWyt0LdTWwvHjgo5eRYUQfLhwQag4bmwUAgT37gkBgkePumvy9eG/gz/Ue9m9e0IrzJMWmJQU2LwZ3n+/5/3Zr5+QVd+69YeAXVaWcGG2/A4yzl1dQmb81klBMO7H5PxCVHdhSGnf+lAoURQy8S3HBcLeN8Hhd4E+gv4nQx9B/+/i8ePHhIaG4uTkRG5uLpmZmXh6erJhwwYUFBT4bspytOZsxnT5SrxWLkR90ljGffwhPlNHC1mXF/uxb8TLbF00gepjR+js7CQqKgo7OzskEgkNDQ2AkJ1/khls+T38x/I7x5NxdWVlZURHR5OUlMTDhw+5efMmMTExJCQkUFtbi0Qi6dEvffv2bfz9/dHX10dFRYXQ0FBu3LjBgQMHUFdXZ8WKFWzevBkvLy/k5OTw8vLC3NwcQ0NDzMzMkJeXx8rKitDQUEJCQrCysmL8+PEsXLgQc3NzVFVVcXR0JDU1FbFYzNatW1FSUqK5uRkjIyN0dXUxMzPD0NCQjo4OXF1dpcRPRkaGuro6Ll68iLu7O4GBgaxdu5alS5eyZs0aRo8ejbOLM5GRkejr62NjY4OdnR1nz57FxMQEM3MzdiXvwsnFCT9fX1SUlNiwbh3hAT7oqSsjs3opUyePw8RQA2dHM+bPnszimROxUV+HrfJasmy3Eq27CdslszGf9QU20z8hbfEIiif8lVOfvUDFrImYzP4O5yVzGfDyJdocX/x5QvWCCD4Sceqz5zEePZK1336Fr54mVtrJrJdRQUdXF1NTM3bu3ElRURFisZgLFy4QEhKChoYGO3fuxMbGBh8fH8LCwpBIJOTn5+Pn5ycVpXuSod65cye+vr40NjaSlZWFoqIimpqaWFtbo6+v34Oge3p6kpiYSGdnJ3v27CEjIwOAgoICwsPDuXTpkrTs3cXFBV1dXdLT0zEwMCAgIABPT09KSkq4fPkyzs7OUsE9CwsLaUn/j8fjeXp6Iisri4ODw8+r3Xd1Cb3QN28KCubXrgl28aIgxFZYKDCwX0rE09LojI2jwyeAzu2OPDY0pk1eldubDGiUCFnllrB0GiXpdLz1bq/Ict0shW6E95heeK9bNKqU3bv51i7R7R1B7/9mT4I+cqrw3WtvcefjkVwfPYe6mfJUqXj0WLbUIp0iuzz2hl/7hcS8iUPJhZxM3EFbzHs9XrxbYwZzOsGWQ8lFZKfWk572y4j/b9mysoRAQGGhEAPKzhYsN1cIBDz57vhxIQBw5YpQeVBRIQQHLl0SkqP/qdjUHw1/yPeyjg7hxBcU/EDU9fWFeelPu7ffeEMQm/vxhZedLVxEV6/+PkpHHrfBg2vC6LbzoZAzXRCGfFbfetxfIOtbOCsRRCNvVQm977+Hkv8/IfoI+p8MfQT9l6Gzs5N79+7R1vb0Pr6uri46Ojro6uri9OnTuLi4SMuhzc3NUVFRwdXJG421bsTPXMLtEQPgeRG7Jn/DslHD8ft+Meu+HoXq5K/IWToUPxMlAsX+aGpqSktstbW12bp1K3V1db/y3vfhxzh69ChisRh/f3+MjY2lWe/t27cTFxeHWCwmJyfnqb3LXV1dFBQUoKioiJOTE/7+/mhoaGBtbS1tUYiMjGTbtm2IxWKsrKxQVVXF2dmZ8vJyWltbKSoqIiwsDAUFBYYPH466ujo6OjqYmJhI1flPnjyJo6Mj48ePZ9u2bRgaGjJt2jQpuS4rK8PGxoZ169axfft2zM3NOXDgACkpKWhra+Pq6oq7uzunTp3C1NSUSZMmMW/ePNavX4+2tjZOTk64urqiqqqKjIwM69atw9jYWErcdXR08Pf3l4oS3r59G01NTVasWEFERATa2toYGhpK7fDhw5iammJoaIiNjQ0hISF0tN1HX1cTU91NXNofQ454GyZyy5j+5XSsF43l+LCPaPjgDR4M+HmyrjFqOCu/HMGiz6cy78ss0BXx8POXqJv0Hvvnfk7ImmnYyS8gOcgOx22mbFi3kdNVF5GXU5AGUcRiMVeuXCE8PJzi4mIyMjJYuXIlkZGR2NnZUVRURHt7O6GhoaSmpmJsbIytrS2XLl3qQdC3bduGvLw8u3btIiEhATU1NXbu3Im6ujpxcXEUFhYSHh7O7du3UVBQIDY2lurqamRkZDh06BAlJSX4+vqSmJiIsrIyW7duZdGiRcycOZOIiAipPsLevXtpamqis7OThIQE7LZtQ+zmRvWBA8IL7NmzAospLxfYzr/SB/6Tnu/HKek81DOh7ZsJPBw0jEfvvMfjF1966nlpHjiIuM1exGp6EK3pTqyWJ81/G9Qrslwzdj6pumIytgSxRz+MdE0xD/q/wa23/saVtwdz7t0xVL0/mYq/TaV84EyOfDCHik9mcfGLaRQou5BvHMP+rXEYLyjFbnIqESNtCR3pgP9wVzyGeOM4SIz9IAnWnwWybXAoe+a5cUreWUq0U7RyWPb1JRRGHGbNqFMs+rKOhV/UM39UA/NHNTB3ZANzRlxmzojL7DfOpMRmHzmSC6SndmJoKGjHffMNfPUVjBwJw4f/xIZ1MW/WfQqTD1GanE5pcjrlSVE8inhF+pJ9zvNztq4J4dvRdxk/7jEzZgijoBcuBEvL7qcpKQmWLYPly2HFCsFWroRVqwRtrdWrYc0awYKCuvv6+YGMDMjKgoqKkJTU1f3B9PQEe5qAdmgo+Pg824KCICHh1yH7mZlCy//Bg0LXRXm5MCr7zBnhdrh6VejQuHVL0Cv8PfCyfxe/9/eyf4qWlu5ZdT8/WLeue1b9q696Xiz6+sJNFBMjPBdLS4We9We8//2m0NUpzFpvOQYXIqBYsWfferRIyLJfjP1J73oQ1Cf/r/egDz9BH0H/k+HPQNCvX7/O/v37SUhIIDk5WUpwnoXOzk5qamq6CYLZ2dlhbm6Ovr4+jo6OUmGwy5cv09XVRWNjI7m5uQQFBWFlZSUtYV+8eDEaGhocP16BqYYN0XPm0jjmXbr6d3/RvDOkP7OHfUqGzkqslZYgs3ox11saCQ4O5vjx45w4cQJHR0eOHj3Kjh07OHbs2K94BPvwLLS0tFBYWEhCQgLe3t54eXkRGRlJRkYGtbW1P6uS39TUhL+/P9XV1ZSVleHn5yftS25tbSU7OxtFRUUcHBwwMjJi1apV0lnh9fX11NbWkpWVJSXW9+7dIz09nby8vG6/c//+fTZu3IiysjLbt29n+/bt7N69m02bNjF9+nSWLVuGhoYGFhYWSCQSVFVVWb58ObKysnh7e5OXl0dOTo404ODk5MTatWvx9PTE39+fTZs2MXv2bJYtW4aCggKLFy9mwoQJ6OjooKSkhLm5Obt27ZK2XBQXFyMnJ8e+ffvIzs4mJSWFwMBArKyssLS0RE1NjdzcXAICAqQEf8mSJSgoKEgF/K5cuYKSkhJz5s7BYKsBkyaOw0BNEXflDSStmcDR2UM4NfSv3Hz7L3Q+L6K9nwi/VYuwnDedYe+tRWeeJyx4BvHrJ4I3RbR/9AJNI58n6OO/YamwimQ3E9YvssBeYxvOq5eiO38+62dNZfa4IdhpzEd97VTszTcTItmBm6sV504Vo6enxVaLrdQ21PYg6AcKD2BmZsasWbNYtWoVenp60goId3d3LC0tCQkJYdeuXcjLy1NVVcXRo0fZtGkTR48e5URlJYpyckQHByP28iI6JATZNWuYPG4cG5YuZe6kSZjIydGQmirUGZeXU7xzJ7uMjcm1syNEV5v7CXHcT4zlTlQwtyU7aQn150ZcKFejxVyM2Emt73ZuyK/hztoV3F4wh1sTxnH788+59/ePePTmW3T85VXaX36FjhdeJEXbiQR9F3bpuhCluYNjExb2imTfff0dItV3EKm+A/vvw1nxTRGhf9Mkb8B89ry2lJT+3xPeX4md/bdg198a/Vc90XpDTM5iNZJlzKS+EwZX9yp5PmXoSanPE3vt5Qe98tWclUGspgcxmh5Eabph931sbxP2RDqdJjruJlEJd4iMv82qtQ9/dvlB753HYrktYrUtUnL+xOK2KJFptIBZI3MQibqeuY41a7rzjV27el1g0E30Oj0dTEx65/eXv/TkObNn9873u+96+g4eDO++CwMHwkcfwaefCmOuR4yAL76AMWMEDTAbm+5+UVGwcSMoKgp6fbq6wj7Y2YG7uyDsHRXVM2n6c6S+pEQoIjlzRuBpV64IZfnXrwuk/ubN32eW/g9P0J+go0PopSgqEk5sairY2sK0aaCh0f2kp6TAgAH//39CPxg0CJYsAVNT4cIpLBQCm3V1QjTnt96L0d4qTG+oDYcjGpD9nTBfPW1wz9713FkCee/Dbwp9Z+RPhj8aQW9paaGoqIikpCR8fHwwMjJCSUmJrVu3EhYWhoeHB4qKiigoKODr60tZWRmPfqSU8+jRI6nAWmhoKJaWlhgZGbFs2TJWrFjBtm3bcHBwwNvbGzs7OzZu3Ii6ujobNmxAUVERDQ0NDAwMUFBQQEFBGbllMsQvnELThLfg9ae/lTwa8DyFE99jw7LplBUdJCsrC1lZWSIjI5FIJNy7d4/Gxkb8/PxITEwkODj4P9dH2of/GR49ekRQUBDHjh2joKCgx3iwpqYmvL29KSwsJC8vDz8/P8rKyqSj4MRiMYmJidJM/oULF8jLy+uxnsbGRvz9/UlJScHQ0BAVFRUCAwNxc3NDW1sbS0tLAgMDcXJyQllZmSVLljBu3DgWLVqEvb09YrGYiIgIzp07BwgCZoGBgZiampKenk5JSQk3b97k7t27VFVVERwcjL6+Pnv37sXExISkpKRuVQTNzc3Y2dnh7u6OkZERrq6u7Ny5Ex0dHSQSiVRBffv27RgYGHDs2DE2bdrEqlWrCAoKkrZ1eHl5sWnTJo4dO4a8vDx79uwhKyuL1NRU2tra0FFXxclQhxArQzTnTCXF3R6NxbOYO2oxxiuVaP58QK9Yw6HXX8Nx8Rx8Vy1m1N9iyDefDm/9aJnnRfCaQOp5S0TXeyL4VETD0Bdw/HwIcuPHEL1JrgdBPzzqHU59/R4VX79P+ZiBlH7zIYXffkTBpNdJ+fo95o0aysRhg7BZswbFubp4rZhMysSRhHz9GfFTviRy3HDEoz4lffJowkZ+Qtjwjwgb8Saegz7AV0OemV9+jv7yhajJLCBv0lBOj/g7xz74K6ff+SsNb77DtVde5d5LL/O43w+92qfnLyTdfDvJxo44bQhl6xynXjO63av1iVTfgY+8L++9fgvVF8XS726I3uakaAS5oplEiTawQ6SPociF5LHK7F2iKiXKajP29Orn+r/8oAfJnjL0ZK98Jw851cN3wCv3e03Qf+xnszKy14RX36UcC79Sqc1YVt9jmXdfv87muTsptp4gzXDdD32VvVF+7IkKZW90ODmxUQwb1NSr31y7tjvniIv71wn61q3/G4L+9tu98928ubufj0/v91Ui6e5raSlsy/z5QmWBgoKwfhMTsLcHT08h6/+00fZPSvILC4WEa3m5QOpPn4bz54V++7o6oWuk/Tei1fWnIeg/xr17ggBCYeHTq4aeJi73Y/v4Y5g1S5i/HhUltPzk5wt9FvX1gj7Hb+UE/xRdXfD4oVDO3lwC1w/B5d0COa9PE8ri4/7yv97KPvwEov/1BvTh18VviaC3t7dz48YNqRoxCD3cLS0t3Lx5k+bmZs6dO0d+fj7p6emkpaVx8OBBysrKSE9Px9LSko0bN6KqqoqysjKysrLMnj0bLS0tAgICkJeXx9TUlEOHDuHr64uOjg6Wlpa4uLhQW1tLYWEhZmZmyMnJ4eDggLKyMm5ubhQUFODv709gYCBxcXF4e3uzYcMGNm3axPLlyxk9ejTr16/Hy0uM7AZV5FZuQHbOAsIVFciYMOSpD/fHL/XjzMg3id74BeqKMmy3t2f58uVkZ2fj7++PtrY2MjIyODs7U1paSlRUFIqKivj7+1NfX/+rnKs+/PfxpN84LS2NtLQ06ecdHR2kp6cTHR1NS0sLlZWViMViOjo66OzspLW1tZuKeGpqKomJiVy4cAGxWCwtce/s7GT37t3ExcVx+/ZtfH19SU5O5tSpU1LV+Zs3b1JWVkZRUREnTpzgxo0bhIaGkpCQwMmTJ7l48WKPMv2SkhLi4uKeuk9VVVUEBQXR3t4uFcn7sf/FixcRi8VUV1djbGyMq6srvr6+GBgYcPLkSUpKSggJCaGxsZHw8HBSU1MxMzPD1NSU5ORkaX+2h4eHNMssLy9PcnIytbW1+Pj4SO/3yspKPDw80NTU5OrVq8jJyREXG8OFUxWsXb6YIP3NBM6eROKXQ6ga9RnnPn6PG+8PoG3Ai3Q9J9yrKW++jvmcqWz+bjz/eDuDE06jekxXeJb5DRnEmtGjsJk/kx4q7v/E13TKWCZ9+jHmc7SRmRwJK3r3myf6v4Tn8vksHjGMecPFuMls4eFHL/fKt3rcZJI1zEjSMGPoe3WsGfV0RvdY9BxN/f5K7XOfUvPqO1z461/Yt1SDSPUdSJR2IhLB66Lb/F1Uz0uitmf/pMJ3bNFVlBJe3XmpP7+Jz7XT78VWnhtwmX+Yf4BYy5kgPX8CjIJYOq2c9/9+njc+LeOdoUUMHLOHT6fHMWxeOKPmhTN6XhhjFkQxQ9abTbY2uNin4+ywGyfHTNZtqGD+moPMX3eARRuKWC1/CCWVPHTUc9DRKEBH6yCbtYswt87Hfkcudm552LnlYeZahKr5CVQtTqBmWYm6VSUa2yrRtK5A07oCLdsndhwzn9JuBN3I/QhmzrmEeTlSIlnK1fDP6Ix6iqhTtIjcYBUiJTsIEfvg5p+MgXMpuo7H2OJcjr5LOQY7jmLodhQ9x2NobKtE2aQKFdNTGLmexCn4FK4hNXiEnWdH8Dk2m9Wz2bQBbbMr6Jo1omd2nS1mzeiZNqNj0sRm42tsMb2JJOwuiSmPSEhuY1fSA4KCO7C0BDMzoYx982Yh6aihIWSon5iWVk+uo6MjkPQf25w5gs2eDZMmCdnw77/v6TtoELz1lpDM/Mtf4MUXhYTmT6+Nn5bWu7n1nqBHRXX3lZXtnd9HH/Xc3rVrhYTswoVCBYOyspC9NzMTJnx5ewsl/4mJAqcrKPih1P4JkT979gcif+WKUKH94IGQAH78+D/fIvynJOg/RkeHEDE5ceIHtcTYWCEis2SJULbxtIvuiT1Rg39i27cLUR1zcxCLBeL+RCX+t9oz0dkBD5vgZhWUb4Ei2f/1FvXhJ+gj6H8y/LsE/eHDh1RWVpKTk0Nubi41NTV0POMB9GQEWFlZGTk5OaSnp5OVlUVVVRX79+8nODgYPz8/tm3bhr6+Pnp6ehgYGLB161bU1NRYu3YtS5YsQVZWlq1bt2Jubs7KlSuZMGECCxcuZPXq1QQEBGBkZISamhrW1tZERERIBa38/Pzw8/OjuLiYyMhINm7ciKGhIQsWLOCbb75h6tSpzJ07F0dHRzIzMzEzM8PHxwc9PT2Ki4upr69HS0sLb29v7O23oyRrSLCmPqnffcOFrwbyaOCLREwfjfW8GcweOogUpfU4z5sqfYh3vtCP04PfJlVxPPIyi7GyssLJyYnDhw8TGhrKt99+y7Jly5CVlUUsFnPgwAGys7OJiIhAV1cXd3d3bt++/e+c7j78xvDw4UPi4+OxsbHBxMSEkydPcvz4cWJiYggODqaxsZGbN2+yb9++ZxJiELLSISEhxMXFIZFI8PDwIDU1lejoaPz8/Dhw4ACRkZHExcV1qxh5FrKzs3tk4n+MhIQE9u3b99Tv7t27h0QiobKykpaWFgIDA8nNzaWtrY2uri52795NdHQ0KSkphIeH8+jRI7q6ukhNTSUkJARnZ2eKi4sBXzhiuAAAIABJREFUOH78OFpaWigpKWFmZoaNjQ3y8vJYW1uTmJhIYmKidGydnp4eTk5OqKqqsm7dOjQ0NIiPj8fJyQltbW2sra1RU1Pj4sWLADg6OrJ161YUFBRQU1MjPT0dKysrli5ezJoV3yPz/Srk5k9h2ddfsHrudxjKLEVhwVYsNq2gYtjfuDj4r1z96E2a3x3AnTde5f7rr9A24CU6/vK8dPa89+BBzB32GUtHDfvFBD1g6TxWfPE5S0fKoDQtCJb3jm3UvPkqGpPHMW3wJ4z/2JfYzWvh458s97JIyPgPFMGnIhgh4sqX/Tg5dxr5Workayky+sPT3Ax4Q5hvrysCcxE4iyBABJHdCaSb4wfkaKqSo6nKXg0Nxg4qo9xxJEedPueo83BKnYazz2YMcWaTCTOZQrDpBCTm3+Lv/jrG1jKEWXsQYu2Fm0EIxtomaFh+ipL1Byy3fofpNq8xZftLTHHsx0QnEaMdRQzbLuJvdiKsffdg67cfS79iLPxKmeQih8ha9E/t4+1fdyPLFn6lDLQf/tRl+1k/x4vWr/AXm9cZYPsu83YYdifaPnkMdpjEcMfpjHScx2inZYxzXscUFyVmum5mwQ5jlrptY6W7A4Y++3Dw34t3QBRREmfuR772TAGnmxEDORq6iBiJA54B8dj75WDhd7jHdv+ati3gKA6BVTgGCcTfKfiU9G+30DN4R1xCHH2V0F03iE64Ky3nj0q4Q0JyG6lpnaSmdZKU0k5SSjspqY9JS+v6l3rJU1KEvvWYGIEfxcd3/z4mBiwswNhYIMjq6iAnJ/TbL1gAU6fCt9/C55/3LHNfubJ3BH3EiJ7bNXRo73xXr+7ul5QEY8fCjBkCJ1y3DjZtgi1bhIy+k5NQFRAaKlRmHzgg9M6fOydwv5Mnhb8bG+H27aeP0XsW/vQE/ae4f1+IjlRVCZGToiKhXMLCQhBuGDIEnntOOJH9+/fQ4GDJku4n+/nn4cMPhQtu2TLhgvTxEYh7XR00NQkn7Lc04q3rN7QtfQD6CPqfDk8IemZmJmVlZVRVVUlH/3R1dfHw4cOnzsxubW0lKysLS0tL7O3tSUtLIzExETs7OxwdHdm/fz8VFRVkZ2cTHx/Pjh07MDAwwNDQEC0tLTZt2oStrS0WFhZMnTqVadOmYWpqKl2fnJwc8+fPR15enu+//x4dHR1UVVVRV1dHLBajo6ODoqIiW7ZskYpcGRkZ4eDggKOjI2VlZcjIyLB7927p3xUVFWRlZaGlpUVcXBw7d+7EyMgIY2NjZs6ciba2NqtWrcLPzw8jIyOioqI4f/48MjIyRPv6E6e7mYTZE6icMoS7I/rT9VrP/3WPjvmEePk1zB02GOdlM9ljoUbuVx8hWfwtRptVUFRUpLi4GFNTU1RUVFBTU8Pf3x9dXV2WLFnCmjVrCAsL4/bt2zx+/JiGhgZSUlIIDg6W9t/24Y+FtrY2Dh48iLKyMlu2bEEsFpOfny99YaqpqSEkJISqqqqfXU9LSwtZWVn4+/tjZGSErKwsWlpauLq6SsXCfjq7+1m4fPmyNMv9U1RXV0vHyD0Lhw4dIjAwkBMnTnDmzBmCgoLw9fXFyckJLS0tnJyciIiIoLm5udtxSExMREZGhh07dhAeHo5YLCYoKIi0tDRpZcmsWbNQUVHB39+fkJAQ9u/fz+HDh/Hz82PLli2Ympqirq7O+PHjWb16Nba2thgaGqKtrY2+vj4lJSU0NzdjbW2Nubk5RkZGmJqasmHDBqZNm4ahoSF+fn7IyMgwY8YM5OXlUVVV5fvvv0dBQYFt27ahp6dHUFCQNCgSHBxMXGws7juciQkN5LuJE5n2xRd8P38Bius38v3SFT0IuvmMDTjM3kCGlhWpSlsIXLCSlLWyZK6fQPCc8VjIrmfJlIl8P3sDK6aYE/T9d+yeO5q9c78gd85wChYMpWjZcI6sHk7ZuiFUyA3mhOabFGrIEaCuyNjBnzDsQwNidJZww20A99xeoT3guR7kWpql9f6AvZY67LHUJdNcD91FMTwIe+nZCsA/smDXMaTabSXF3oRkBzMKPOR65Ue0CFsfNSIlO6R2KOibXvkVB4mIELtK/cIknpwIeYObESKawkVcCRdRFybidKiwbJZERKpYRKJYxGaPjwkQBxEoDkAsDkISICbArz9O3iLsvEVY7RRh6iXC0FOErqcITQ8Rm9xFKLiLWO+2Hlf/NFz9U3HxT8fRdyeznEVMdRYx0UnEFCcRC1xErHcTYewlws9XRKZERJCfCHtfg277ejn8jW77dC5UhIO3iFEOIl60flkaFPjAfmQPsjx7hy4jHGfzhdNCvnZazjjntUx0kWWKixLTXdWZ5bqZuTv02ejp28NX3isQRa8QNu2MQn3nLjR3JrLZOxVd7wy2+OzFyCcfU9+iXz0AYOl/BDtJBc7Bp3EJqcY5+HS3CgCf/w8AhMQ1ExLXTHBsE8GxTUQl3CE+6SGp/yHl+l27hLJ3Dw+hZ93YGDQ1QV5eIO9z5wpZ/5/2+Kenwwcf9I6gKyp29wvv/QAC3N17luQPGybonE2YANOnC+X5K1YIffja2mBlJZTmHz4MR48K3LOmRhiRt2/fLQ4dusn58wLBv3Pnt5vo/Z/h8WPh4Jw4IURHEhOFE/FTJcb0dGF0W29O5KRJPX319YVoTFqaMJKgT1G9D/+PPoL+O0Jrayu6uroMHDiQl19+ma+++orY2NhftI4nBH3t2rXo6OhgZ2eHsbEx5ubmuLi44O3tjbW1Nba2tvj4+ODp6YmZmRkqKiosW7YMQ0NDfHx8sLOzw8nJCRcXFxYuXMjEiROlwlFP+re1tbVRVVXFzc2NlJQUFBUVWb9+PQYGBtjY2LB+/XpUVFRwc3PD39+fPXv2oKKigq+vL6amplhZWXHixAk2b96Mn58frq6uaGhocOPGDRQVFYmNjcXNzQ0tLS0eP36MtrY2np6eVFZWsmnTJkpLS9m9ezdycnI0NzdjZmaGpaUl8fHxKKuoERcWifWKBcTJfo+Wqi6KazZwKCSEFZMmcW3wW//0Ydv1nIjTX7xPdZArWxTWYmNhJu3/fTK7+InK8ty5c/H19SU2NhYzMzOsra0pLy+nrKxMOv/4iSUkJHSbs92HPybOnz+Pv78/cXFxVFZWUlNTQ05ODiEhIWRmZj5VDf5puH//Ps3Nzdy4cYOLFy9SW1srFWj7JTh06BBisZjs7GzOnz9PbW0t2dnZiMViDh48+LO+nZ2dHDp0CIlEQnBwMMHBwVKRxZCQEE6dOkX7U/rz7t27h7u7O5mZmRw7doz6+vpuQntdXV34+fmRkpLCpUuXelQDPH78mAsXLnDy5Ek8PDwICgqS7v/Ro0fR19dHTU0NExMT5OTkyMjI4P79+zx8+JC8vDwMDAyIjo5m9+7dVFZW0tTUxOHDh4mOjmb9+vVs2LABNzc3Nm7cSFBQEC0tLXR0dJCfn4+pqSnKysrs3LmT5cuXs2bNGkxMTJBIJBgbG/cg6AcPHiQ4OJjy8nIKCgqIioqis7NTKjpYWlqKubk5e/bsIS8vj6KiIk6dOsW1a9dobm6Wzl1/Mh2isLBQWr1UU1ODo6MjdnZ2eHt74+DgwOXLl2lsbGRv1h5CxJ5cPJEN1/YL83OvZgszcR80wv3LPLh9jsarFTQXbqZ5vyLNeeu5mfc9d/KX05q3iNbs2bRmfsfdtLHcTf6CUzl2HCkIpzRfwpF8f6r36NEZ/Tyd0c/RGf08XdH9nkm0M+JcSYt1IynalV0RzpyOnN4rgn41YrCU6EYFuRIT4kJz5Pu98k2XfNONKCcEWvU6oGDtPfuH3w10ZW/Iol75nQ8V4ROhT1KME/ERzuyKcGZ3yDBSxSI0PEQM2v7sjP+b29/DO30/Prvz8UguYEf8Qb5wm9qraoGxHotwiT2ES+wh3BMP4J2+n1ds+/fKd2OQFZ4pBexM249XagGGUcEMdBzEx86f85nrVwzbMZYROyYyym0qX3vMZNzOuUz0XsSUnStwiM3BIbIQm+BitgWWoOwTxEIPQ5Z7m7A2wAK5IGsUgx1QDnZlU5AXqgEBqPmHoCeOxy60GNuQYmyCStgWWIJ5QCEW/iVskxzGJrgY+7AirANLfkTsD2MdKHxvHVDO9sATOIdW4RFVhUfUKdzDq3ELPYNb6Fk8ws7jHnoOt9CzuIeewz/qMhHxt4hNvEd0wl0i428Tm3iPpJT2fym7Hx0tCNC5uQnCdYaGQvZ+40aBMM+eLZDobdu6+/n69p6gBwR091VX753fO+/03N7x43/4/oUX4PXXBUG+wYPhyy8FDjlnjlCtfeCAkEwuKYEjR4SyfTs78PIS9js7WwgAHD8uZPXr64Vs/m9dP+1fQmen0Hdw545QHl9TI+x8fr5Q1m5gIPQ7TJ4slMi//JQ2o5Ure5aFvPDCT6qdXhay76NHw7x5Qum8hQUcOiQc4JaW326vex/+o+gj6L8jzJkzhzfffJOAgADy8/NRUVFBJBIRHR3d63U8IejFxcXo6+sjKyvL6tWrmTp1qvSFVF9fH0VFRebMmcO8efOYM2cO69evR1FRkfDwcHJyctiyZQsGBgbS2ckKCgrIy8tjZmaGvr4+Tk5O6OjosGvXLsLCwtDX1ycxMRElJSVCQkI4fvw4MjIy7NmzR1pGXldXJxV/cnR0xMTEhFu3bqGiokJ4eDjR0dFs3ryZCxcuYGxsjI+PD1lZWaioqHDp0iW8vb3R0tLixIkTqKqqsjs8iPhVs8iYMZry70ZRPepDGj97h/sDX6Hz9X6CerNIRNfLIpwXz2L20EHEyH6P5pRxHB/99x4P145Xn6N+8FtkjPuEaK3lxEaKkZOTo6mpCbFYjL6+Ps7Oznh7e9Pc3IyLiwsODg4YGBjg6+tLdHQ0iYmJVFRUdBvb1tHRwcWLFzl79mwfMf+T4dq1a2RnZxMYGIhYLGbXrl2UlZX9z2bbV1dXEx8fLw0WxcfHc/r06V77t7a2UllZSVlZGWfOnHlm+8uPkZSUxJ49e5763ZP+9Sdq9z+HJ8vm5+dLW3hqa2vR1dVFQUGB3bt3A4L2xZO++fz8/Geu7+jRowQEBNDU1ER6ejpxcXHS+7arq4uQkBBCQ0ORSCR4eXnx+PFjmpubKS0tJT09vQdBb2pqoqCgACsrKxwdHaUVEmlpaURFRRESEvKz29Pe3k5CQgKhoaHY29uTkZFBc3MzRUVFSCQSCgoKaGhowMTEBDU1Nek5jI2N5cKFC//0+P1H0dUJj25B6wW4UwO3Tgrjf5qPQMcD4bv7l+m6c5bO+lQ6T7nSfsKWtqP6PChW4n7hRloPrOXu/uXczZnP7awZNOXLcKZmFzVnoqg6GcDxCg9upY3kfvx7PNj1V9p2vcmjuAF0xL7cgyxfzJpNSYkFh0ssKCmxoPygdq8JenmuOkWFlpQUW1B62ILz+xb2yu9B9AvsLbLgQLkb+cd9yDkRjP3+bcwIm8Hk4MmMk4zjK/+vGOE7giE7h/APj38wcMdA3nF+h6E7h5Jek97NvhV/2yuSvTBqYQ/fF2xf6JWvWa5ZNz+Hgw698hNZi0g4mdDNd3X86l75jfAZ0WN7h+wcgshaxEt2L9F/e3/edHqTvzr/lXdd3uNvrgP50O1DPvb4GM0MTdKq00k9LfjFn4xnZthM5kXOY3H0ElbErmR13FrWxckhE7sJ2RgtlOP10Eo1QlwYR9jBfUhycwgpyEZ8MAHH7AAcMyJxTE7BMyOLsP37iS8+TExuJUGppwlJOU9MRgMJe66xa3cz0cktRCfdJjaplfikhySmPCI5pYOU1Mckp3SQnNLxsyX7ERHCBDAXFyHjra8PqqqwYQMsXSpokk2YIJTv/9hXSal3BP3jj3v+7pgxvfNdsqS7X1raD1Xe/8ysrAQdtj17hBbvgAD45BNhlODo0cI+TZsm8M8lSwTeun69sF9PyvifCOsdPCgEAxIThW3IyRF48RN1/UuXhOXu3ft1H3FPRVubQOCvXBHEBTIyhGiGnp7Qa/HT0QNBQb2P0jg7d/e1sxPKN774QiihWL1aKPuws4PgYNi3D06dEgh9H36X6CPovxNkZmYiEomIiYnp9vmcOXP44IMPnlqW/jQ8IehhYWEEBwejoaGBnZ0d+/btQ0FBAQMDA2xtbXF3d8fV1RV5eXliY2NRVFQkKiqKuLg41NTUyM/Px8/PD3V1da5fv46enh6enp64u7ujpaVFXV0dsrKyZGVlkZGRwcaNG7l06RL6+vq4u7tz/PhxVFRUOHLkCKamptjb21NTU4OWlhb79u0jODgYAwMDqqqqMJDbhJ+eCWFa2uxcOJss2WVkzhvDoVnDOT19EPVj3uH28P6Eyq5kydwF+NptZ+748fgvnN7rh1/AinnMH/k5W5YswkpJHs8pX3Ji2EAyxg0mT30F2xXWsc3KiuDgYJycnAgODiY6OhoVFRVCQ0PZsWMHISEhqKioYGBggKqqKkpKSkRERFBbW/vfuCT68AdCV1eXNGP+W+gPfPjw4a82OaC2thaxWMzhw4e7ZdkbGhoIDw8nIyOj1+s6c+aMtCIlIiKCwMBAnJ2dsba2JiAggPDwcIKCgqSE9ueem/fv3yc4OJisrCyuX79OWFgYsbGxVFVVkZ6ejoODA9HR0YjF4h73eFNTUw+C7uPjQ3BwMNra2lK1+4SEBDQ0NLC3tyc9Pf2pVQY/RltbG/v378fW1hYZGRn09fXx9fWltLSUq1evkpmZiUQioaKigosXL9LY2Pizo//+CHjq/dLZQVdbC213L9HacpKbt2q5ef8GNx/cpOV+Mzdu19FyIYmrNSHUVXlSV+FM3fHt1JVbc+HIVs4W61JzSJ2aA4rsP+5NXoU/Bce82H/MiyMlW7mQvZCLe+dSnzWDuqxZnM9ZSnX+eo4XalN0xJ7syhDSq9N6EM9/x6IrowkqD8LviB9eJV64FLrgcNABm/02WORZsDVnK/p79XEtcu3ml1adxsq4lSyOXszciLnMDJvJtNBpTA6ezISgCXwr+VYIFPiMwKXQpZuvXYEdL9m91CuinVqd2s13eezyXvl96fdlj339h8c/euUrnyLfzS+8IrzXAQWPEo9uvluytjxz2X7W/aTBgo/cP+qxvbLJsnwd8DXjJOOZFDiFacGzmBWygLkhS1kasZr1u+RRTtbALtuDzPJyMssq2VNaTdbh8zhkhOOYEcWOjCTc0/fglbYfccZhwrIqiM2pJjX/EnsOXCOn4D57s9vJyupizx6BrMbHQ2SkkMD18BBE6SwsBD64aZMg1vdTgr5uHXz77SNGjWrn00+F0eCvvdaTfP802Zuc3HsuaWfXsyS/N379+v3z9u5n2dixwnTJ48ehokIg8GPHCsJ+gwfDqFFCS/jEiYIewezZQlvAkiXCMWxuFrL/t28LpH/rVqHqwdFRaBUICICQECFYkJAgbOfevT0DA3fuwMWL0NAgVMg3NwtT2e7fh65H7cIPXL8uZMMrKgTirakp9Ko/2eBXXum5g2Jx9wOjqdm7A/P220IpRFnZD8IFhoaCMMP69YL6o4WFUL7fh98U+gj67wQqKiq89tprPTJSMTExiEQiioqKerWeJwTdRVONvJAgzGQ34qS9mdSAANSXryDO25ctsgpY6xqQtTsTWVlZqqur0dPTY4etBVke27BaOYsMW0OC1Dfgvnoe6cbq+KyaQ7T8CuI2LCFk8TTOnDmDrq4uoaGh5Obm4r1gFodnfEvxuM858s0QTnw7mFNf/Z0LXw3k8ufvcOOz17n70asc/eZTwkMjkOz0YeXCBaT5+/D49d6FbVOnjEJj8liWjRrO5E8/RnvsV09drut5Ee1vPs+tD/tz7vOB5I8bwQ4jQ+Tk5FBTU2PWrFksXryYJUuWMGXKFBYsWICJiQmysrLY2dlx/fp14uPjkZOTQ0tLi4ULFzJ9+nRUVFSwtbXFxcUFT09Pqqur//Avx334z+O3QNB/bVRWViKRSAgJCZGq0IvFYtLS0rpVm/QGHR0dnD17lvLyck6dOsWDBw/o7OzkwoULHDt2jKqqKlpbW3u1roaGBoKDgwkJCSEtLQ1nZ2cUFRXZuHEjtra2JCUlPXXKwtMIura2NjExMVy+fJlTp07h7++PlpYWNjY21NbW9rqlAYQAyoEDB/D29sbf379btryurq7X6/kj4Ne4X9oft3O//T732+/z6PEjOrs66ezqpKOzg7aONu603aH5fjNX716l7nYdF29d5NKtS9TdruN8y3lON52m8lolJ66doOp6FSeunaDyWiUVjRUcuXyEovoiDtUdorCuUPr3gUsHyK3NJeNMRjcyuPvM7h4E8afL/KctrTqNpFNJxFXFEVUZRejxUAKPBgrBgsNeuBW79fDxKPZAL0sPrUwtVNNVUUxVZGPSRtYlrGPVrlUsjVnKgqgFKKcp9/CdFjqNoTuH8onnJ3zo9iHvubzHO87v8KbTmwxwGED/7f15xf4V1HardfMLKg/qNUH3LfXt5quVqdUrv3ec3+mxvZODJ/fKd1b4rB6+/bf3rv3AcJ+h1Gff+X0ElAXwhuMbvOP8Du+5vscHOz7gI/eP+cTjUz7zGsKwncMZvnMUI71Hs7v8CPmVZ8ivOMeBqnNYpDnxXcAsZgUtYl7IChaErGZR8AYWBaiy0NOQhU62LPc2wyDBjeLSNg4WtZGb34aVVSdLNIuZppDLhNXFjFlwnC9nnmLkd2cZPuECg8c08MmoRjY5ZSNOPi2dZmZuDq+80kW/fl0/+xr30kudhCZeISn1kZSHzp/fOx46fnzPYMT77/fOV02tu19AQO+DEVFRgjJ/QYHQ329i8vMBiP794dVXYeRIoeW8oUHQjLtxA2Rk4B//gMGfdTF2yC1WflaB1ie72f6RLzO+vsmM8feZM6kVX9MGMDIS+hP+yQZee30w29bVYCdTjZP8Kc4F5D67jKIPvyn0nZHfCSZMmMDYsWN7fH7y5ElEIhFisbhX65GquPfiyRMju5qNa9eQFh2JvZkpvrMn9OqJ1fW8iFQPF1SWL0dfWRmJjS1VX37YK9/rQ95g27wZuCyZy7zhg7FfOJO2917olW/O10ORWb4I+bUrUZZbz5LpU8n7ZhixU74mfNVCbFfNxUprHQX795KQkMCOHTvYvn079fX1JCcno6amxubNm5GVlcXLy4uYmBjc3NzQ0dHB3t6euLg4nJycMDQ0RENDA3V1dQwMDLC0tCQmJoZ9+/ZRVFTEpUuX+oh5H/5l/BkJOgjl8UePHiUvL4+DBw9y+fLl//UmAUKffFlZGSkpKSQnJ5OXl8fZs2d/dsLC0wh6SkqKtJXhiRjewYMHe9UG8Cx0dnbS0NDA2bNnuXr16p/yufNnuF/aOtpof9wuPb+dXZ20P26no7Oj2zl/EjRof9xOW0cb99vvc7ftLi0PWmhsbaTudh3XWq9xp+0OrY9aabrXRP3tehruNHCt9RpN95pobG2k4U4D9bfrqb9dLw0yVDdXU91czbmWc1y8dZH62/VcvnOZy3cuc+nWJWpv1nL2xllqmmuky1Y3V1PTXMOZG2c4e+Os1E41neJ443GOXD5C2ZUyjl09RvnVcsqulHHk8hGOXjlKRWMFFY0VlF8t58jlI9Jlj1w+QklDiTSYUdJQwuGGwxTXF1NwsYDwinDEZWI8SzxxPuSMbYEtlnmWmOaaYpxtjG6WLuoZ6uw6uYuMMxnSgIfDQQfmRMxheuh0JgVPYqxkbI8WhA/dPmSEb8+S/HGScb0i2fOj5vfw7W2FgkmOSTc/x4OOvQ5G7Kra1c13TcyaXvl97vN5j+0d6j20V76KqYoU1RdReKmYA+dL2H0yB9E2ESLzlxFtfQORwfuIdP+BSGsYIrXRiJQnIFL4DpG1iMiyVI6ebeDomcv4hzezUP0QopmmiKbaIJrkjGicF6IxYkRfhtNvZDyiYek8N8uSd50GUlHVRmn5A4pKHzBseCcvvXYX0Ut3ET3X/szXxwErjfk+eDMHDkBeniAY2FuC/onZIqyidkvJvbJy7/xefreBb90XEp3c8ovbDz6als16iRVZWZCd8YhDcZcZ06+ceaIsZEXhGIpccBEZEi6SxU20pZvvHDUvGj/7tMdKH4pe/l893vrwDPQR9N8JhgwZwrx583p8fvXqVUQiEQ4ODk/1a2tr486dO1JraGjoPUFfPhvZxQsQG+vjZ6CL14zxvXt6iETEONhipamGsZYmAQ72HBvzj175tQwawHYba0yNjdjh4oKejg6V4z6i7qu/Uv3NBxyd+Bm5k0aROn0C0fPn4zZ7IUaLVqOxQQUzM3Pc3d2Jiopi7969nDlzhpqaGjw9PaUjzlxdXdm7d690rJqFhQXOzs7o6uri4OBAYmIi9fX10pe+mzdvcuHCBfbt20doaCiBgYF4eXkRFhZGXl4eNTU10rntfdZn/wmrq6ujrq7uf74dffav29mzZ3sQ9LNnz9LY2Mjp06c5ffo0165d+59v5x/B+u6XPvt3raWlhRstN2i60fRUu9Z8jatNV7nadJXGpkauNV+jsamRq01XuXL9Cuevnqeqroqy2jIO1hwk91QumScyST6eTOzRWMJKw5AUS8g8kUldYx0Xr17k3JVz1DTUoJOuw6bkTcgnyLM+bj2rYlaxJHIJc8LmMD14OpMDJzMuYByhh0M5VntMsAvHCC8N5+87/s77Lu/zttPbvOH4BgMcBvCq/au8bPcyz9s8LyXL+0/vp/BMIYdqDlF4phCZaJlekeyvfL9i/+n97D+9n/zT+ew/vZ+hXr0j6EqJSuSdziP3VC45p3JIPJbY64CCz0Ef9lXtY2/VXrJOZGGUYdQrvwHbB5BRmdHNZgTP+GEZq+cQmb+CyOR1RIbvItryISKdTxGZvM60oGlkVGawu2I3cUUZ2Pgdpr/cOkSrVyFauR7RMgVEi1URLdiMaI6BEDCYZo3IZACWQRFrAAAgAElEQVTGmcbkn84n50Q+Nl4n+GbmeUQj4hENT0Y0NB3R4D2IPslH9EEpondPInrvhPC5tYj44j3kHisl91gp0+fe4JXX7yJ6pUUIKrzwAFG/jp6vyhN3MMhtKNmHT7Cv+ARZhVW9DiiINs5FTizPwdT/Y+/O46OoD/+PT0IICQGRoyggilUBAa8qh36rtloEj0ppRbAo1INDAbWCyFFBi4K3ggUp/hCVu4ByiwFJlNsLFJBLIMh9hRtCQvL+/TEmm2U2kA3J7GdnXs/H4/N4yOzs7mdmeUfe2TkWaMEHMzWy0xTdac3SX63JJdxiEC4KepS44oor1Lx5c8fy3II+aNCgkM/r37+/4x+KlmVp1ZVVtLVBVW2tV0Xb6lXR9isra3vdStp5ZSXtrFNRu2qfr5n/su9N/umnn+qzzz7TG/9or5/r1dDaejX001U1tfKqS7T8qkv0/XWX6dvra+vrG+pqceN6SmlSX0PefluvvvqqRowYoX79+ulfLZvp/915o0a2/KNGtb1H77a6U0Mf/rueb9lSj995t3o88pie7tpNPXv21KOPPqoHH3xQXbp00TPPPKM+ffqoc+fO6tSpk/r166dhw4bpzTffVL9+/TR06FAtWrRI27dvL/B/vnv37tVXX32ljz76SAMGDFC3bt3Uo0cPDR48WMOGDdOgQYM0ZswYbdiw4az/E9+7d2/E/zHB8PagcET/KKigR3peXhzkhcEIPfbv36+9+/Y6vkRY/fNqfb3ma/245Uct37xc32z6Rkt+XqKF6xcqdW2q5q2Zpzmr52jh+oWO15z6w1SNWjZK7y99X/9d/F8NXTRUgxcM1ltfvqXXUl7TwPkD9e95/9bnqz8Pet6WXVvUbXo3PT71cXX8tKMemfKI2k9ur7b/a6s2E9rovvH36S9j/6J7Rt+j5ZuXBz13yoopunHEjWr838Zq9N9GumH4Dbr+vev1u/d+p+uGXadrhl6jq/5zlf7v/f9zzLfb9G66/J3L9du3f6tL375Ul7x1iS5+62Jd9OZFqvFGDVV7vZqqvV5Nj055VPv37w8al71zmc4beF7eaRVlXyqrxJcSVWZAGcX/O15x/45TqRdLadiiYUHPS1mbUuhfRqzeulq79+3W7r326DOnj3O9/pas5+Nk9UmU1au8rD6JavCfBnnP2bVntxYu3qdr+j1oH43wWENZj9wo6x+3yGp3m6y2zWQ9cLes1n+R1aOquk7vmvfc75bv1cuv7pd11xMlXWMQJgp6lCjqIe4FfYPetm1b/fOf/9Srr76qTp06qWfPnnrjjTf04Ycfql+/fnr66ac1aNAgffjhh3rppZf0xBNPaNasWXrjjTd077336qabbtLtt9+ubt26acCAAZo0aZKeeuop3X///erfv7/atm2rFi1aqFu3burcubPatWunZs2aqW3btnr55Zc1ceJEvfbaa3ruuefy7oE8duxYffjhh5o6daqWLl2qr7/+WitXrtSmTZt06tQpZWZmau3atXn3by/sPZ5zZWVlae/evUpLS9O3336rhQsX6vvvvy/0+aiAG3L/YYHoFeoQ98JciR7hIy9AeMhMycrJydHJUyeVkZWh45nHdSzzmI6cPKLDGYd18MRBHThxQOnH07Xv2D5l5wRfe+RwxmFtPbRVWw5uUdqBNG1K36SN6Ru1Yf8Grdu3Tmv3rtVPe37SxnTnxYfX7VuXdxrI0q1LtWTrEi3+ZbEWblmYd12L1M2p+nn/z0HPy87J1uz1oe+kgsihoEeJDh06hLxI3Pjx41WUi8TdeeeduvPOO9WtWze98MIL+te//qWuXbvqj3/8o5o3b67WrVurdevWeu6559StWzc99thj+sc//qF27drp9ddf1/jx4zVmzBi99957eu6559S+fXt16tRJzz77rLp166Z+/fpp1KhRmjJlihYvXpx3fmRaWppSUlI0d+5cffPNN5Rj4DT84yn6UdDdQ16A8JAZwHwU9Cgxe/ZsWZalCRMmBC1v3rx5kW6ztnPnTi1dulRjxozRf//7X7377rsaMGCAhgwZovfee0/vvfee3nzzTfXv319vvPGGxo4dq7lz52rz5s1BV1VOT0/X9u3btXfvXu3cuVM7duzQyZMngx7nfwRA4ZGZ6EdBdw95AcJDZgDzUdCjSNOmTVWxYkWNGDFC8+fPV4cOHWRZlsaMGVPo18i7ivuhQ3nLjh07piNHjoR1m5/C4n8EQHjITPSjoLuHvADhITOA+SjoUeTIkSN68skndeGFFyo+Pl5XX321xo8fH9ZrhCroJYn/EQDhITPRj4LuHvIChIfMAOajoPsMBR0wG5mJfhR095AXIDxkBjAfBd1nKOiA2chM9KOgu4e8AOEhM4D5KOg+Q0EHzEZmoh8F3T3kBQgPmQHMR0H3GQo6YDYyE/0o6O4hL0B4yAxgPgq6z1DQAbORmehHQXcPeQHCQ2YA81HQfYaCDpiNzEQ/Crp7yAsQHjIDmI+C7jMUdMBsZCb6UdDdQ16A8JAZwHwUdJ+hoANmIzPRj4LuHvIChIfMAOajoPsMBR0wG5mJfhR095AXIDxkBjAfBd1nKOiA2chM9KOgu4e8AOEhM4D5KOg+Q0EHzEZmoh8F3T3kBQgPmQHMR0H3mYMHD8qyLG3dulWHDh0q8ZGWlqa0tDRX3ovB8MIgM9E/Nm7c6CjoGzdujPi8vDjIC4MR3iAzjIJGTk5OpGsKfkVB95mtW7c6/uHIYDAYDAaDwWAw/DsOHXLn6FqcHQXdZ7Kzs7V161YdPHjQld/G5f5CwK1v7BmMaB9khsEo/CAvDEZ4g8wwChp8g24OCjpK1KFD7p7zDkQ7MgMUHnkBwkNmAPNR0FGi+B8BEB4yAxQeeQHCQ2YA81HQUaL4HwEQHjIDFB55AcJDZgDzUdBRojIyMtS/f39lZGREeipAVCAzQOGRFyA8ZAYwHwUdAAAAAAADUNABAAAAADAABR0AAAAAAANQ0AEAAAAAMAAFHQAAAAAAA1DQAQAAAAAwAAUdAAAAAAADUNABAAAAADAABR0AAAAAAANQ0AEAAAAAMAAFHQAAAAAAA1DQAQAAAAAwAAUdAAAAAAADUNABAAAAADAABR0AAAAAAANQ0AEAAAAAMAAFHQAAAAAAA1DQAQAAAAAwAAUdAAAAAAADUNABAAAAADAABR0AAAAAAANQ0AEAAAAAMAAFHQAAAAAAA1DQAQAAAAAwAAUdAAAAAAADUNABAAAAADAABR0AAAAAAANQ0AEAAAAAMAAFHQAAAAAAA1DQAQAAAAAwAAUdAAAAAAADUNABAAAAADAABR0AAAAAAANQ0AEAAAAAMAAFHQAAAAAAA1DQAQAAAAAwAAUdAAAAAAADUNABAAAAADAABR0AENVmzJghy7L0+uuvR3oqhfbuu+/KsixNmjQp0lMpditXrpRlWerSpUuJvUf37t1lWZa++eabEnuPkuTW5/+3v/1NlmVp7969Jfo+AIDiQ0EHAEiSLMsKa4waNapI71Pc5crEgn62OUWyoF9//fVKSkoqsdenoJ9dQZ9/5cqVVb9+/WJ7Hwo6AEQfCjoAQJLUv39/x6hQoYIsy9JTTz3leGz58uVFeh8KunTgwAGtWbNGhw8fdnlmJV/QT548qTVr1mjXrl0l9h7RXtAL+vwp6AAACjoAoECXXHKJLMvS5s2bi+01KeiRVdIF3Q3RXtALQkEHAFDQAQAFKmxBX7Vqldq0aaMLL7xQpUuXVo0aNfSPf/xDmzZtClqvcuXKIQ+Xz18YV69erR49eui6665T5cqVFR8fr1q1aqlz587asWOH473DLcP5Dy+ePHmyGjZsqLJly6pSpUpq06ZNyG0NZ065pSjUyC2UZzrEffPmzerYsaMuueQSxcfHq3LlymrZsmXIIxbyF9UxY8bod7/7nRISElS5cmW1bds26Fvs3EPPQ4277747b71ly5bpr3/9q2rWrJn3/tdee62eeeaZQu3fgg5xz90ve/bs0TvvvKMrr7xSZcqU0YUXXqgnnnhCR44cKdTrh7vd+RX276kk7d+/X3369FHdunWVlJSkcuXKqVatWmrTpo1+/PHHkNu7YsUK3XXXXTr//POVlJSkW2+9VampqY7XPv3zz/07HGrk348TJ05UmzZtdNlllykxMVFJSUm64YYbNGzYMOXk5Djeh4IOANGHgg4AKFBhCnpqaqrKli2rUqVK6b777lOvXr10zz33yLIsVaxYUStWrMhb99VXX9WNN94oy7LUoUOHvMPlX3755bx1+vbtq0qVKumvf/2rnnrqKT3zzDO67bbbZFmWLrroIu3evTvo/Yta0O+9916VLl1aDzzwgHr37q0//elPsixLF1xwgWN7w5nTxIkT9cADD8iyLDVt2jTotIDt27cHzeH0gr5o0SJVqFBBsbGxuueee9SjRw899NBDKleunBISEjR//vyg9XOLaqtWrZSYmKg2bdqoe/fuatKkiSzL0tVXX62srCxJ0u7du9W/f39Vq1ZNpUuXDprX2LFjJUmLFy9WXFycypUrp7///e/q3bu3Hn/8cd1+++2Ki4sr1P49W0Fv1aqVKlWqpIceekj//Oc/1aBBA1mWpbvuuqtQrx/uducK5+9pVlaWrr76almWpZtvvlnPPPOMevToofvvv1+/+c1vgq6/kLu9t912m5KSknTbbbepV69eatu2reLj4xUXF6fp06cHzeX0z3/dunXq37+/EhMT9Zvf/Cbos5k1a1be82rUqKEGDRrooYce0nPPPaeOHTuqVq1aeXk6HQUdAKIPBR0AUKCzFfSsrCxdfPHFsixLM2fODHpsxIgRsixL1157bdDysx2e/Msvv+jkyZOO5ZMnT5ZlWerevXvQ8qIW9JiYGEfhfemll/LKe0nOKVRBP3HihGrUqKFy5co59s3mzZtVpUoVXXLJJUHFM3dfVqpUSevWrctbnpOTo3vvvTfk53KmQ9w7dOggy7I0d+5cx2OFLXlnK+hXXHFF0FEHJ0+e1PXXXy/LsrRq1apCvUe42x3u39NFixbJsiy1bdvW8d5ZWVk6cOCAY3sty1L//v2D1v3qq68UExOjqlWr6sSJE3nLi3qRuJ9//jnkfFq2bCnLsrRy5cqgxyjoABB9KOgAgAKdraB/9tlnsixLzZo1czyWk5Oja665RpZl6bvvvstbfi7nD9eqVUtXXXVV0LJz+Qb9dCdPnlSNGjUUGxurPXv2lNicQhW0MWPGyLIsvfjiiyGfk/vLg/yHTOfuy1deecWx/vTp00OWxjMV9I4dO8qyLC1atCjk44VxtoI+YcIEx3OGDBkS1p0Bwt3ucP+eLl68uMBvpU+Xu72nl/Bcuds9efLkvGXFfRX31NRUWZalN998M+R7U9ABIHpQ0AEABTpbQR84cGCBRUmSnnnmGVmWpffffz9v2dkKenZ2tkaOHKk//OEPqly5skqVKhV0Tm6lSpWC1i9qQT+9zOTKLTX5v0Uu7jmFKmhdunTJ+9Y21BX177vvPlmWpeHDh+c9J3dfzps3z/Eey5cvl2VZevLJJ4OWn6mgp6amKiYmRuXKldMjjzyiMWPGhDw/+0zOVtBDfQv86aefyrIsvfXWW4V6j3C3O9y/pxkZGapbt64sy9If//hHvfnmm1q6dKnjsPn82/vnP/855GvnftZ9+/Z1LAu3oO/atUvPPPOM6tWrp7JlyzrOVz/9OgEUdACIPhR0AECBzlbQn3vuOVmWpQ8//DDk46+//rosy9Ibb7yRt+xsBf2xxx7LO7c791zb3JJarVo1R7ksakEfM2ZMyMdzi3L+bzyLe06hClqbNm1CXiTs9FHYfVlQUT7bVdxTUlLUvHlzlSlTJu89GzRooKlTpxb4nMK875nKYrifYbjbXZS/p3v27FGXLl1UrVq1vP1w/vnn69lnnw36pjz3/R577LGQrz1p0iRZlqWuXbvmLStKQd+9e7dq1Kghy7J04403qkuXLurbt6/69++vxx9/POx9DgAwEwUdAFAgt79B37x5syzL0g033KDjx487Hq9evXqxFfTCfoNeEnMKVdA6deoky7L0xRdfFGo7pJIp6LlOnDihr776Sr169VL58uUVGxurJUuWnPV5Jhb0ovw9zW/t2rUaPnx43qHwTzzxhOP9Svob9P79+xe4j5KTkynoAOARFHQAQIEKew568+bNQz7+u9/9znEOes+ePWVZlpYuXepYf+7cubIsS/369XM8tn79elmWVWwFvbDnoBdlTrNnzz5jIQxV0EaNGiXLsvTCCy8UajukohX0Ro0aKSEhodDvIUnDhg2TZVnq3bv3Wdc1saAX5e9pKIcOHVLp0qVVrVo1x/sVxznoVatWVd26dUO+d9u2bWVZVshTDvr27UtBBwCPoKADAAoUzlXcZ8+eHfRYbuE8/Srur776ashyIkkbNmyQZVm69dZbg+7rfPDgQf3hD38o1oJ+pqu45/82tChzWrZsWcjCdPoc8u+D48ePq0aNGipfvnzIb9FzcnL01VdfKTMzM29ZUQr6nXfeWWBpS0lJ0eHDhx3Lc7+9LegCdoV530gW9HD/nq5bt05r1651vPbGjRsVExOjSy+91PF+lhX6Ku6xsbGFvor7lVdeqQoVKoQ81z23hI8cOTJo+eLFi5WYmEhBBwCPoKADAApU2PugJyYmqlSpUmrVqpV69+6te++9VzExMY77S0vSN998I8uyVLNmTfXo0UMDBgzQq6++mvd47r2pr7vuOnXv3l0PP/ywqlevrquvvlp169YttoLeokWLoPugN23aVJYV+j7o4c4pIyNDVapUUdmyZdWpUyf9+9//1oABA/JuL1ZQQVu2bJkqV64sy7J0yy23qGvXrurevbtatWqV91kcOXIkb/2iFPQ33nhDlmWpcePG6tu3rwYMGJB3ZfXbb79dSUlJuueee9StWzf17NlTzZs3V0xMjH7zm99o69atZ92/JhZ0Kby/p6NHj5ZlWWrUqJEefvhh9e7dW4888ogqVaokywq+UF/++6CXK1dOt912m3r37h3WfdBzde3aVZZlqWnTpurXr58GDBigOXPmSJI2bdqk8uXLKy4uTvfdd5969uypFi1aqFSpUmrdujUFHQA8goIOAChQYQq6ZJeU1q1bq2rVqipdurSqV6+u9u3ba+PGjSHXf//999WgQYO8C5HlL7iHDx9Wjx499Nvf/lZlypTRxRdfrKeeekoHDx4Mef50UQv6pEmTNGXKFDVs2FCJiYmqWLGiWrduHXJbw52TJC1YsEC33HKLypcvn/cNa26hLKigSdKOHTvUvXt31a1bVwkJCSpXrpyuuOIKtW7dWuPHj1d2dnbeukUpqidPnlT37t118cUXKy4uTpZl6e67787blw899JDq1Kmj8uXLKykpSXXr1tU///lPbdu2rVD719SCnvtYYf6ebtq0ST179lTjxo1VtWpVxcfHq2bNmvrzn//suHJ8/vf74YcfdNddd6lChQoqW7asbrnlFqWkpDjmUdDnf/DgQT366KOqVq1a3p0C8m/H8uXL1bx5c1WuXFlJSUlq2LChPv744yLtcwCAmSjoAABfOVM5BsJ1pl8IAAAQLgo6AMBXKOgoThR0AEBxoqADAHyFgo7iREEHABQnCjoAwFco6ChOFHQAQHGioAMAAAAAYAAKOgAAAAAABqCgAwAAAABgAAo6AAAAAAAGoKD7TE5Ojg4dOqScnJxITwUAAAAAkA8F3WcOHToky7J06NAhV94vPT1d6enprrwX4AVkxgP27JEsK3js2RPpWXkSeQHCQ2YA81HQfYaCDpiNzHgABd015AUID5kBzEdB9xkKOmA2MuMBFHTXkBcgPGQGMB8F3Wco6IDZyIwHUNBdQ16A8JAZwHwUdJ+hoANmIzMeQEF3DXkBwkNmAPNR0H2Ggg6Yjcx4AAXdNeQFCA+ZAcxHQfcZCjpgNjLjARR015AXIDxkBjAfBd1nKOiA2ciMB1DQXUNegPCQGcB8FHSfoaADZiMzHkBBdw15AcJDZgDzUdB9hoIOmI3MeAAF3TXkBQgPmQHMR0H3GQo6YDYy4wEUdNeQFyA8ZAYwHwXdZyjogNnIjAdQ0F1DXoDwkBnAfBR0n6GgA2YjMx5AQXcNeQHCQ2YA81HQfYaCDpiNzHgABd015AUID5kBzEdB9xkKOmA2MuMBFHTXkBcgPGQGMB8F3Wco6IDZyIwHUNBdQ17givXrpfnzpblzpeRkKSVFWrhQ2rBBysqK9OzCQmYA81HQfYaCDpiNzHgABd015AUlbtUqafr0gsecOdLGjZGeZaGRGcB8FHSfoaADZiMzHkBBdw15QYlaseLM5Tz/+O47KTs70jM+KzIDmI+C7jMUdMBsZMYDKOiuIS8oMStXFr6c544FC6TMzEjP/IzIDGA+CrrPUNABs5EZD6Cgu4a8oESsWxd+Oc8dy5ZFevZnRGYA81HQfYaCDpiNzHgABd015AXFbsuWopfz3LFhQ6S3okBkBjAfBd1nKOiA2ciMB1DQXUNeUKwOHpRmzjz3gj5jhrRvX6S3JiQyA5iPgu4zFHTAbGTGAyjoriEvKDaZmdK8eedeznNHcrKR56OTGcB8FHSfoaADZiMzHkBBdw15QbH5+uviK+e5Y/nySG+VA5kBzEdBP837778vy7KUlJQUtLx9+/ayLMsx6tSpE/J1hgwZojp16ig+Pl61atXSCy+8oMwQv0ndvXu32rdvr8qVKysxMVFNmjTRvHnzQr7m3Llz1aRJEyUmJqpy5cpq3769du/eHdb2UdABs5EZD6Cgu4a8oFjs2RNe8f70U+nf/3YuHzdOmjAheNmuXZHeuiBkBjAfBT2fbdu2qUKFCqpevXrIgp6YmKglS5YEjRUrVjhe56WXXlJMTIx69+6tlJQUvfbaa4qPj1eHDh2C1svIyFCDBg100UUXacyYMUpOTlaLFi0UFxen1NTUoHVTU1MVFxenFi1aKDk5WWPGjFGNGjXUoEEDZWRkFHobKeiA2ciMB1DQXUNeUCy+/LJwxXzqVKlnT+mii6T4eGnatODH27WTypSRWreWJk408lB3MgOYj4Kezz333KM///nPat++fciCfvqyUPbt26eEhAR17NgxaPnLL7+smJgYrV69Om/Z0KFDZVmWFi9enLcsKytL9erVU6NGjYKe37BhQ9WrV09ZWVl5yxYtWiTLsjRs2LBCbyMFHTAbmfEACrpryAvO2bZthSvn48ZJV18dnOtx44LXadgw8FjFinaZnz5dWrJEysmJ9JZKIjNANKCg/2r06NEqX768tm7dek4FfcyYMbIsS0uWLAlavmPHDlmWpZdffjlv2Z/+9KeQh8gPHDhQlmVp27Ztkuxv9i3L0qBBgxzr1q5dW02bNi3UNkoUdMB0ZMYDKOiuIS84J9nZhbsw3IgR9rfm+TN95ZXSxx8Hr9eihVSqVPB6Xbvaj61aFemtlURmgGhAQZd9HnjlypU1dOhQSaHLePv27RUbG6sLLrhAsbGxqlGjhrp06aL9+/cHrderVy9ZlqWjR4863qdKlSp64IEH8v584YUXqlWrVo71Zs6cKcuy9Pnnn0uS5syZI8uyNGvWLMe69913n6pVq1bobaWgA2YjMx5AQXcNecE52bz57OX83XelChUCWa5QQerXz3l4e+4YPlxq1Cg4/1262I9t3RrpLSYzQBSgoEv629/+pptuukk5vx5+FKqgv/XWW3rrrbeUnJys5ORk9e3bV2XLllXdunV15MiRvPU6dOigMmXKhHyf2rVr64477sj7c+nSpdWpUyfHeosXL5ZlWRo3bpwkaezYsSG/lZekjh07Kj4+vsBty8jI0KFDh/LG1q1bZVmW0tLS8n5Il+TYsmWLtmzZ4sp7MRheGGQm+seB9esdBf3A+vURn5cXB3lhFHns36/0zz9X+rRpBY9x43SqWrW8HJ+66CIdHDHizM+ZNk3pU6fqRIsWQT8Djj79tNJnzFD69u0R3W4ywwg1YBbfF/TJkycrPj4+6Nzwwh7OPnnyZFmWpbfeeitvWYcOHZSQkBBy/dq1a6tZs2Z5fy5durQ6d+7sWC+3oI8fP15SoKAvXbrUsW7Hjh0L/IWAJPXv3z/k1ecp6AyGmYPMRP+goLs3yAujyGPdurOW7JM33piX4azf/lYHxo49eznPX9L/8pe85+fExenQoEFKT0mxfzkQoe0mM4xQA2bxdUE/cuSILrjgAnXv3l0HDhzIGw888ICSkpJ04MCBkIeq58rOzlZSUpLuv//+vGW5h7gfO3bMsX4kDnEv6Bt0DnEHzERmPIBD3F1DXlBkX3115kPbn3gikN+kJPs89HDvgz5tmtS8eeB1zj/fvrr7xo0R22wyA5jP1wV98+bNIb9dzj9atGhR4POzs7NVtmxZtWnTJm9ZQd9279y503GRuKZNm6pu3bqO1x00aJAsy9L27dslBS4S98orrzjWrVOnDheJAzyEzHgABd015AVFsndv4a7anntV9uefD7+c545PPpGuvVZKTJT+9S972axZ0hm+ACpJZAYwn68L+okTJ5SSkuIYzZo1U0JCglJSUrRy5coCnz9x4kRZlqV33nknb9n+/fuVkJDgOHR90KBBjtusDRs2zFHms7KyVL9+fTVu3Djo+Y0aNVKDBg106tSpvGVLliyRZVl67733Cr3NFHTAbGTGAyjoriEvKJKlSwt/3/OBA4tezvOX/SFDgpd9801ENp3MAObzdUEvyOnnoKelpemmm27SkCFDNHv2bH322Wfq1auXEhISVL9+fcdh8C+99JJiYmLUp08fpaam6vXXX1eZMmXUoUOHoPUyMjJUv3591axZU2PHjtXcuXPVsmVLxcXFKTU1NWjdlJQUxcXFqWXLlpo7d67Gjh2rmjVrqkGDBsrIyCj0tlHQAbORGQ+goLuGvCBsR4+ee+EurnHwoOubT2YA81HQQ0xLvacAACAASURBVDi9oKenp6tly5aqVauWEhMTFR8fryuuuEI9e/bUwQJ+uA4ePFi1a9dWfHy8Lr74YvXv31+ZmZmO9Xbt2qV27dqpUqVKSkhIUJMmTTR37tyQr5mcnKwmTZooISFBlSpVUrt27bR79+6wto2CDpiNzHgABd015AVh++mnggvzhAn2ONfiPXPm2e+v/uqrUoi785Q0MgOYj4LuMxR0wGxkxgMo6K4hLwhLdrb0+ecFl+a//EWqXFnq2bPg+5yHGnPnSitWSFu2SIcO2e8jSenp0rJlwet++KH0+9/bPxeeekrav9/VXUBmAPNR0H2Ggg6Yjcx4AAXdNeQFYdmxo+CSPXKkVLq0ndf4eLtIF6acf/ONlO/6QCHt2yfNn2+v/8ILgZ8LFSva5d5FZAYwHwXdZyjogNnIjAdQ0F1DXhCWM10c7k9/CuT1b38rXDlfs6bw752dba8/fbqU7/7quv9+V38+kBnAfBR0n6GgA2YjMx5AQXcNeUGhHT8uzZgRumgPHSrFxgbueT5u3NnLeVHvZb5unTR8uBQXF/i2ftKk4t3WMyAzgPko6D5DQQfMRmY8gILuGvKCQlu3ruCynf8b7YceOns5X7fu3Oby449SixaB9/zDH6SdO4tnO8+CzADmo6D7DAUdMBuZ8QAKumvICwrtiy9Cl+3Bg4PPCf/f/85czletOve55OTY556XLx947/fft5eXMDIDmI+C7jMUdMBsZMYDKOiuIS8olPT0ggt3s2aBnHbocOZyPm9e4Art5+rECaljx8B7//730rZtxfPaZ0BmAPNR0H2Ggg6Yjcx4AAXdNeQFhbJyZejCPW6cVKaMndHExLPfA724D0NfvVqqUMF+/5gYafTo4n39EMgMYD4Kus9Q0AGzkRkPoKC7hrzgrHJyCr73+WOPBTJ6111nLudLl5bM3PJ/i37//dLevcX/PvmQGcB8FHSfoaADZiMzHkBBdw15wVnt2VNw6R482L69Wny89J//FLzezJnS0aMlM7+0NOnaa6U+faSpU6Vly0rmfX5FZgDzUdB9hoIOmI3MeAAF3TXkBWf1/fdnvyr72Q5tX726ZOeYmhr8fkeOlNhbkRnAfBR0n6GgA2YjMx5AQXcNecEZnTolzZ599oJ+pjFnjpSZWbLz3LAh+D1XrCixtyIzgPko6D5DQQfMRmY8gILuGvKCM9qx49zK+fTp0qZNJT/P48eD33PiROnkyRJ5KzIDmI+C7jMUdMBsZMYDKOiuIS84o+++C126e/eWunaVxo8/czn/4oviu63a2SxcKL34onTddVKVKsVzv/UQyAxgPgq6z1DQAbORGQ+goLuGvKBA2dkFH95++eV2LuPjpVGjCi7oO3a4N9+0NKlRo8DPjOeeK5FfDpAZwHwUdJ+hoANmIzMeQEF3DXlBgXbuDF26//OfQC4vu6zgcj5/vrvzzcyUBg0KntuWLcX+NmQGMB8F3Wco6IDZyIwHUNBdQ15QoIIOb2/ZMpDLDh0KLuglUI7PaulSu5jnzm/IkGJ/CzIDmI+C7jMUdMBsZMYDKOiuIS8IqaDD2z/9VKpUyc5kqVLS6NGhy3lysnvnnue3c6f0zDOBnxu33CLt3Vusb0FmAPNR0H2Ggg6Yjcx4AAXdNeQFIe3aFbp4v/hiIJONGxf87fmGDZGZd06ONGOGdN559hzj4uxfFhQjMgOYj4LuMxR0wGxkxgMo6K4hLwhp+fLQxfv22wOZ7NUr9DqzZ5f8fc/PZM2a4MPwH37Yvg1bMSEzgPko6D5DQQfMRmY8gILuGvKCkD7/3Fm8p0yRkpLsPCYmSpMmhS7oK1dGdu7HjknDhwd+dlSvbpf2YkJmAPNR0H2Ggg6Yjcx4AAXdNeQFDgcPhi7ezz8fyOOttxZ8ePuRI5HeAmnJEunqqwPzffVV+/D3YkBmAPNR0H2Ggg6Yjcx4AAXdNeQFDuvXhy7ef/hDII//+lfodRYtivTsbdu3Sz172nOtV8++/Vox3ZOdzADmo6D7DAUdMBuZ8QAKumvICxwWLgxdvt9/X2rfXmrQwD7cPdQ627ZFeva27OzAPdtz57ZkSbG8NJkBzEdB9xkKOmA2MuMBFHTXkBcEycy0r4Je0OHrZxpz5kTm1moF+eEH5xyPHj3nlyUzgPko6D5DQQfMRmY8gILuGvKCINu2Fa2cT58u/fRTpGcfbN8+5xx/+OGcX5bMAOajoPsMBR0wG5nxAAq6a8gLgnz/fdELejF8O13s5s615zZtmn0e+qhR0smT5/SSZAYwHwXdZyjogNnIjAdQ0F1DXhAk1O3VXnlFat1aeustu+iGKucLFkR65qGtXi299pp0wQX2z5FWraS1a8/pJckMYD4Kus9Q0AGzkRkPoKC7hrwgT0G3V2vWLJDD558Pvc7mzZGefWiHDkkffSTFxtrzr1JFmj1bOnWqyC9JZgDzUdB9hoIOmI3MeAAF3TXkBXlC3V5t6lSpYkU7g/Hx0v/+51xn5sxzPmy8RKWkSDfcEPhZMmCAlJZW5JcjM4D5KOg+Q0EHzEZmPICC7hrygjyLFzvL92uvBTLYqFHob8+XLYv0zM9s/frAPdEtS7rtNik1tcgvR2YA81HQfYaCDpiNzHgABd015AWS7EO+Z850lu+//S2QwW7dQhf07dsjPfszO3pUmjxZSkqytyMhQZo40T78vQjIDGA+CrrPUNABs5EZD6Cgu4a8QJK0e3fo8l2zpp2/mBjp44+dj5/j+dyuSU0NPpf+n/8s8m3hyAxgPgq6z1DQAbORGQ+goLuGvECStGqVs3y/914gf1deGbrAL18e6ZkXzvr19tXoc7fnmmuk5GQpJyfslyIzgPko6D5DQQfMRmY8gILuGvICSfaF1E4v3w8/HMjfP/4RuqDv2hXpmRfOkSP2LeIuvDBwRMDIkdLevWG/FJkBzEdB9xkKOmA2MuMBFHTXkBfoxInQ5fuqqwL5GzYs9OHt2dmRnn3hpaZKf/97YJvatSvSEQBkBjAfBd1nKOiA2ciMB1DQXUNeoK1bneV7/HipVCk7exdeaH/7fPo6334b6ZmHZ906acQI+2JxTZtKb75ZpF8ykBnAfBR0n6GgA2YjMx5AQXcNeYG+/95ZvidNsm9NdtttUps20Xn19tMdOWLPe8qU4O3YsSOslyEzgPko6D5DQQfMRmY8gILuGvICJSeHLuBnGjNnSllZkZ55+EKdax/mkQBkBjAfBd1nKOiA2ciMB1DQXUNefO7w4fDL+fTp0tdfR3rmRbNmjXNbZs0K61ZxZAYwHwXdZyjogNnIjAdQ0F1DXnxu06aiFfRffon0zIvm4MHANowbJz39tDR8eFiH65MZwHwUdJ+hoANmIzMeQEF3DXnxua+/dpbvf/3LPv98/PjQ5XzGDCkzM9IzL7q5c6Xnn5fi4uyfLfffL33zTaGfTmYA81HQfYaCDpiNzHgABd015MXHcnKkzz5zFvA6dezMlSolffyx8/HFiyM983OzapX00Uf2vdAtS6pRwz6nvpCHuZMZwHwUdJ+hoANmIzMeQEF3DXnxsQMHnOV77NhAcb344tDfoG/cGOmZn5t9++ztaNAg8PNl8OBCH+ZOZgDzUdB9hoIOmI3MeAAF3TXkxcfWr3eW7169Aplr0SJ0QT92LNIzPzc5OdKcOVKnToFtDeMwdzIDmI+C7jMUdMBsZMYDKOiuIS8+tnixs3zfeWcgc/36OR9PTY30rIvHihXOw9wLeW49mQHMR0H3GQo6YDYy4wEUdNeQF5/KzrbPuz69gFevHjj/fOJE5+Nr10Z65sVj9257e+rXDz7MfcuWsz6VzADmo6D7DAUdMBuZ8QAKumvIi0/t3ess3yNHBvJWr17ow9sPHoz0zItHdrZ9gbyOHYMPc1+06KxPJTOA+SjoPkNBB8xGZjyAgu4a8uJTa9c6y/eTTwby9sADzseTkyM96+L13XfShx8GH+Y+bZp0/PgZn0ZmAPNR0H2Ggg6Yjcx4AAXdNeTFpxYtchbwW28N5O2VV5yP//hjpGddvHbutLerXr3Adg8ZYl887wzIDGA+CrrPUNABs5EZD6Cgu4a8+FCo88+nTZMqVLCzlpgoffKJs6Dv2hXpmRev7Gxp9mz7MPfLLpPatbMvHJeScsankRnAfBR0n6GgA2YjMx5AQXcNefGh3PuA5x+TJkmtWkm1a0uNGjkfnzlTysqK9MyL37ff2r+cCONcezIDmI+C7jMUdMBsZMYDKOiuIS8+tG5d6AvA5Y5PP3UuK8TF06LS9u2h98Hq1QU+hcwA5qOg+wwFHTAbmfEACrpryIsPhbr/+dnGWc7LjlqnTkmzZjm3d+7cAp9CZgDzUdB9hoIOmI3MeAAF3TXkxWeys0MX0rONAwciPfOS8/XXgfPwBw+WHn3U/nMBuSAzgPko6D5DQQfMRmY8gILuGvLiM/v3O8v3qFHSe++FPhd7+nRpzhwpJyfSMy85W7bY23nzzYGfN0OHSqtWhVydzADmo6D7DAUdMBuZ8QAKumvIi8+sX+8s4A88YGesShVp0CDn499+G+lZl6wTJ+ztfPTRwM+btm0LvO87mQHMR0H3GQo6YDYy4wEUdNeQF59ZssRZwPPfB3zkSOfjW7ZEetYlLzXV3vbc/XDppfa279/vWJXMAOajoPsMBR0wG5nxAAq6a8iLj+Tk2Pf9zl++J06USpWyM1a9euhD3I8fj/TMS96aNfa21q4d+JkzfLi0cqVjVTIDmI+C7jMUdMBsZMYDKOiuIS8+cuCAs3z36xfI2J13Oh+fPz/Ss3ZH7rn5Dz8c2B/t2kmff+44/57MAOajoPsMBR0wG5nxAAq6a8iLj/z8s7OAt2gRyFivXs7HQ3yD7Ek5OfbF8EaMCOyPK64IeZg7mQHMR0H3GQo6YDYy4wEUdNeQFx/JvZ1Y/lGrlp2vmBhp7Fjn47t2RXrW7vnuO3ubL7008HNn1CjHLynIDGA+CrrPUNABs5EZD6Cgu4a8+MhnnwWX748/DuTr8sud5XzmTCkrK9Kzds+2bfZ2t2kT2C+dOzuu5k5mAPNR0H2Ggg6Yjcx4AAXdNeTFJw4dchbw554L5Ouvf3U+vnBhpGftrsxM+5cS77wT2C/XXWfvi3wZITOA+SjoPkNBB8xGZjyAgu4a8uITmzc7C/hddwXy1a+f8/H16yM9a/ctWSJNm2Yf+n/LLYHz8letyluFzADmo6D7DAUdMBuZ8QAKumvIi098+62zgN99t5SYKMXGShMmOB/349+LtDR726dNC94X8+blrUJmAPNR0H2Ggg6Yjcx4AAXdNeTFJ5KTQ9/j/NNPpf/8x7n8s88ctxfzhYwMacaM0PvqwAFJZAaIBhR0n6GgA2YjMx5AQXcNefGBo0dDF84zjW++ifSsI2fhwtD75KefJJEZIBpQ0H2Ggg6Yjcx4AAXdNeTFB7ZsCb+gp6VFetaRk/9+8f/7n30e+uDB0vz5ksgMEA0o6D5DQQfMRmY8gILuGvLiA8uXhz60/UwF/ejRSM86co4ds/fBK69IpUvbP3+aN7eXHTlCZoAoQEH3GQo6YDYy4wEUdNeQFx+YNy+4fI8dK5Uta99C7KmnnOX8tPt++1JqqjRxYqCgV6okTZ0qrV9PZoAoQEH3GQo6YDYy4wEUdNeQF487ccJZwPv0CeTq3nudj3//faRnHXlr19r7omHDwL564w3pq6/IDBAFKOg+Q0EHzEZmPICC7hry4nHbtjkLeIsWgVz16eN8/JdfIj3ryEtPt/dF166BfdWqlTR9utJ37SIzgOEo6D5DQQfMRmY8gILuGvLicT/84Czgl11mZyomxj7c/fTHjx2L9KzN8Pnn0kcf2fvJsqSaNe2CvmoVmQEMR0H3GQo6YDYy4wEUdNeQF49LSQku3+PGBQpnrVrOcj5vXqRnbI7ci+tdeWXg59Dw4Ur/8ksyAxiOgu4zFHTAbGTGAyjoriEvHnbypLOAP/98IFP33ON8fPnySM/aHDt22PvkH/8I7LOHH1b69OlK5+cRYDQKus9Q0AGzkRkPoKC7hrx42M6dzgLesmUgU716OR/fujXSszZHVpY0c6Y0fHhgn115pdKnTVP6mjWRnh2AM6Cg+wwFHTAbmfEACrpryIuHrVrlLOBXXBHI1JgxzsdPnIj0rM2yeLG9X2rWzDtv/8BHHyl94cJIzwzAGVDQfYaCDpiNzHgABd015MXDvvoquHxPmCDFxtp5uuQSZzn/4otIz9g8Gzfa++a+++x91rq1XdBnzJBOnYr07AAUgILuMxR0wGxkxgMo6K4hLx516pQ0Y0ZwAX/xxUCe7rrLWdBXrIj0rM1z9Ki9bz79NG8/pU+bpvRp0+xz1AEYiYLuMxR0wGxkxgMo6K4hLx61b5+zgE+bJo0YIT35pPTGG87Ht22L9KzN9MUXQfspr6B//32kZwagABR0n6GgA2YjMx5AQXcNefGo9eudBfxsg/PPQzvtXP68gv7ZZ1J2dqRnByAECrrPUNABs5EZD6Cgu4a8eNSyZeGV8/nzIz1jc+3ZE7SvDg4bpsPPP2//mZ9LgJEo6D5DQQfMRmY8gILuGvLiUXPmhFfQf/gh0jM2V3a2NGuWfYpA7dqSZSm7XDn7vPQff4z07ACEQEH3GQo6YDYy4wEUdNeQFw/KvbBZ/tG1q30P9OeflyZNcj6+fXukZ222r7+299PNNwd+Jr30kpScHOmZAQjB1wV9+fLluuuuu1SzZk0lJCSoYsWKatKkiUaPHu1Y97vvvtPtt9+upKQkVahQQS1bttTGjRtDvu6QIUNUp04dxcfHq1atWnrhhReUmZnpWG/37t1q3769KleurMTERDVp0kTz5s0L+Zpz585VkyZNlJiYqMqVK6t9+/bavXt32NtMQQfMRmY8gILuGvLiQVu3Ogt4gwaBLH3wgfPxjIxIz9psaWn2furePbAf//xne9n+/ZGeHYDT+Lqgp6SkqFOnTho9erTmz5+vGTNmqE2bNrIsSwMGDMhbb82aNSpfvrxuvvlmzZo1S1OmTFH9+vVVvXp17TntH10vvfSSYmJi1Lt3b6WkpOi1115TfHy8OnToELReRkaGGjRooIsuukhjxoxRcnKyWrRoobi4OKWmpgatm5qaqri4OLVo0ULJyckaM2aMatSooQYNGigjzP8pUdABs5EZD6Cgu4a8eNAPPwSX7ylTpNKl7RxdcIGznKekRHrG5jt+3N5X48crJy7O3pdVq9qHva9eHenZATiNrwt6QRo3bqyaNWvm/blVq1aqUqVKUKlNS0tT6dKl1bNnz7xl+/btU0JCgjp27Bj0ei+//LJiYmK0Ot8PwaFDh8qyLC1evDhvWVZWlurVq6dGjRoFPb9hw4aqV6+esrKy8pYtWrRIlmVp2LBhYW0bBR0wG5nxAAq6a8iLB6WmBhfwV14J5Oi225wFnfOoC+fX/Zp57bWB/Tl4sFTAkZsAIoeCHsLdd9+tSy+9VJJdmhMTE9WpUyfHenfccYeuuOKKvD+PGTNGlmVpyZIlQevt2LFDlmXp5Zdfzlv2pz/9SXXq1HG85sCBA2VZlrb9ej/Pbdu2ybIsDRo0yLFu7dq11bRp07C2jYIOmI3MeAAF3TXkxWOysqQZM4IL+EMPBXLUtauzoO/YEelZR4c1a6Tp03WsU6fA/nzgAXsfuvRvQgCFQ0GXlJ2draysLO3Zs0dDhw5VXFychg8fLklau3atLMvS0KFDHc/r0aOHYmJidOLXe2/26tVLlmXp6NGjjnWrVKmiBx54IO/PF154oVq1auVYb+bMmbIsS59//rkkac6cObIsS7NmzXKse99996latWphbSsFHTAbmfEACrpryIvH7N3rLODXXx/I0fDhzsdPnoz0rKPDgQPS9Ok6MHJkYH9eeqm9D9eujfTsAORDQZfUqVMnWZYly7IUHx8fdNh47qHk48ePdzwv99vuHb/+9rZDhw4qU6ZMyPeoXbu27rjjjrw/ly5dOuS38osXL5ZlWRo3bpwkaezYsSG/lZekjh07Kj4+/ozblpGRoUOHDuWNrVu3yrIspaWl5f3DpiTHli1btGXLFlfei8HwwiAz0T8OrF/vKOgH1q+P+Ly8OMiLx8YPPyh92rTA+OQT5ZQta98a7PzzlT51avDjc+dGfs7RND77TFumTlXG5Zfn/Ww6+P777EfGGbsE3EdBl7RlyxZ98803mjVrljp37qzY2Fi9/vrrkgIFfcKECY7n5Rb0nTt3SrILekJCQsj3qF27tpo1a5b359KlS6tz586O9XILeu4vBHIL+tKlSx3rduzYscBfCOTq379/3i8f8g8KOoNh5iAz0T8o6O4N8uKxsWBBUAE/9PbbeRk6+X//F1zOp01T+tdfR37O0TS+/lpbpk7VgbZt8/brscces/fl9u2Rnx8jYgNmoaCH0LlzZ8XFxWnPnj1FOsT92LFjjnUjdYh7Qd+gc4g7YCYy4wEc4u4a8uIxn30WfPh6hw6BDHXs6Dy8/dfr9aCQ9u5V+rRpOjhkiBQfLzVpIr34or0vN2yI9OwA/IqCHsIHH3yQ96117kXiQn3b3axZs6CLxBX0bffOnTsdF4lr2rSp6tat63jNQYMGybIsbd++XVLgInGvvPKKY906depwkTjAY8iMB1DQXUNePOTwYWcBv+mmQIbeecf5+K9fkKCQcnKUPmuW0qdOlSZNCt6XCxZEenYAfkVBD+Ghhx5SbGxs3j3O77//flWtWlWHDx/OW2fLli2Kj4/Xc889l7ds//79SkhIcJT5QYMGOW6zNmzYMEeZz8rKUv369dW4ceOg5zdq1EgNGjTQqVOn8pYtWbJElmXpvffeC2vbKOiA2ciMB1DQXUNePCQtzVnAX3xRatFCatBA+vTT4Me++CLSM45K6UuXKn3aNOe+5hcegDF8XdA7dOig7t27a+LEiUpNTdXkyZPVunVrWZalZ599Nm+9NWvWqFy5crrllls0e/ZsffLJJ2rQoIGqV6+eV+JzvfTSS4qJiVGfPn2Umpqq119/XWXKlFGHDh2C1svIyFD9+vVVs2ZNjR07VnPnzlXLli0VFxen1NTUoHVTUlIUFxenli1bau7cuRo7dqxq1qypBg0aKCMjI6xtpqADZiMzHkBBdw158ZDvvw9dGgsaK1ZEesZRKX3DhoIL+ubNkZ4eAPm8oH/wwQe6+eabVaVKFcXFxen888/XrbfeqtGjRzvW/fbbb3X77berbNmyOu+88/SXv/xFP//8c8jXHTx4sGrXrq34+HhdfPHF6t+/vzIzMx3r7dq1S+3atVOlSpWUkJCgJk2aaO7cuSFfMzk5WU2aNFFCQoIqVaqkdu3aaffu3WFvMwUdMBuZ8QAKumvIi4d88UV4BX3r1kjPOCql79un9Pz3mp8yRerfX5o8WQpxxyAA7vN1QfcjCjpgNjLjARR015AXj8jICK+cT58uHT8e6VlHpfT0dKUvWGDvw8cflxIT7Z9Rzz8vzZwphfhCCYC7KOg+Q0EHzEZmPICC7hry4hE7dzoL+HPPSSNHhi7nBRxtiLNLT09X+urV9n7s2zfwM+qOO7gyPmAICrrPUNABs5EZD6Cgu4a8eERuYcwdI0cGsnPzzc6C/v33kZ5x1EpPT1d67i9EJk2yb7dmWVKFCvaF+L75JtJTBHyPgu4zFHTAbGTGAyjoriEvHpF7yHXu6N49kJ02bZwFfcuWSM84auVlJiXF3pdNmgT29auvSrNmSdnZkZ4m4GsUdJ+hoANmIzMeQEF3DXnxgOxs+9zn/AW8efNAdv79b2dBP3Ys0rOOWnmZ+ekne18+9VRgX7dsaS/btSvS0wR8jYLuMxR0wGxkxgMo6K4hLx6wb5+zgNesaeemVCnpf//j/PNilJeZ3P0+ZowUG2vv7+rVpWnTuIUdEGEUdJ+hoANmIzMeQEF3DXnxgPXrgwv4mDGB3NSuzfnnxSwvMzk50mef2fu0QYPAPh86VPr8c/txABFBQfcZCjpgNjLjARR015AXD1iyJLiA9+njPOSa88+LTVBmvv3W3qePPhrY5+3a2cv274/sRAEfo6D7DAUdMBuZ8QAKumvIS5TLyZFmzw4u4C1aBHLTt6+zoB89GulZR7WgzGzdau/TESOcRy2sXh3ZiQI+RkH3GQo6YDYy4wEUdNeQlyh34ICzgF9+eSA3Y8dy/nkxC8rMyZPSjBn2vq1VS7rwQvuohalTpS++iOxEAR+joPsMBR0wG5nxAAq6a8hLlPv55+ACPmFC4IJll1zC+eclwJGZhQvtfTt2rH2BuPz7+/DhyE0U8LGoLOjZ2dk6xi02ioSCDpiNzHgABd015CXKLVsWXAhHjJCuuUYqU0a6807OPy8Bjsyc/kuS/GPdushNFPCxqCjoJ06c0KhRo3TfffepWrVqKlWqlGJjY5WYmKjrr79ezz77rFZwS4hCoaADZiMzHkBBdw15iXK5VxE/fXzyiTRuHOeflwBHZo4eLbigp6ZGbqKAjxld0I8fP64XXnhBFStWVGxsrOrVq6cHH3xQzzzzjPr06aPOnTvrjjvu0Pnnn6/Y2Fj9/ve/1+LFiyM9baNR0AGzkRkPoKC7hrxEsUOHCi6GoUZycqRn7AkhMzN/fvC+HjlSGj6cX4oAEWJ0Qa9Ro4Zq166tN998U7t27SpwvZycHH3xxRd68MEHVaZMGb3//vsuzjK6UNABs5EZD6Cgu4a8RLFNm8Ir6N99F+kZe0LIzKxebe/j//f/pMsus39m3XKLvWz9+shMFPAxowv6yJEjderUqbCes3HjRqWkpJTMhDyAgg6Yjcx4AAXdNeQliuXegzt3TJpkXz28oILO+efFImRm9u8PnFqQlGT/zEpKkqZMkb78MjITBXzM6IKO4kdBB8xGZjyAgu4a8hLFkpODC/iDD0rlykkNG0pDhnD+eQkJmZmcHGnOHHs/33pr4OfWiy/ay7gwM+CqqC3oxxP++wAAIABJREFUX375pY7ywzpsFHTAbGTGAyjoriEvUer4cWcB/93vAnnJPf+Z88+LXYGZWbHC3tc9ewY+h7vuspf9/LP7EwV8LCoL+qlTpxQbG6vvOB8pbBR0wGxkxgMo6K4hL1Fq27bgAv7pp1Jiop2V88933o+bf+8VmwIzs3t34F70cXH2Z1G5sv1ZLFjg/kQBH4vagh4TE0NBLwIKOmA2MuMBFHTXkJco9eOPwQX8zTcDWfn9753frqelRXrGnlFgZrKzpdmz7f19ww2Bz+PNN+1lGRnuTxbwqagt6HyDXjQUdMBsZMYDKOiuIS9RKjU1uIA//HAgK507c/55CTpjZr77zt7fTzwR+Dzuv5+L9AEui9qCzjfoRUNBB8xGZjyAgu4a8hKFsrKkGTOCC3jDhoGs/Oc/nH9egs6YmR077H3+0UdSTIz9eVxyib1s2TJX5wn4WVQWdElKS0tTZmZmpKcRdSjogNnIjAdQ0F1DXqLQnj3O88/LlrVzUqEC55+XsDNm5tQpaeZMe7/XqRP4+fXf/9rLw7z1MYCiidqCjqKhoANmIzMeQEF3DXmJQmvXBhfwt98O5OSmmzj/vISdNTNff23v9/bt7YvFXXedNHiwvWzHDtfmCfgZBd1nKOiA2ciMB1DQXUNeotDixcEF/NFHAznp2NFZ0I8cifSMPeWsmfnlF3u/jxsnjR8f/Fl8/717EwV8zOiCXr9+fX3yySeFXn/Hjh3q1q2bBg0aVIKzim4UdMBsZMYDKOiuIS9RJicncKXw3PHHPwZyMmRI8GOffx7pGXvOWTNz8qTzGgG5Y84c+zMEUKKMLugvvviiypUrp5o1a6pXr16aM2eO9uzZo5xffzgcP35cK1eu1Pvvv6977rlHpUuX1k033aTVq1dHeObmoqADZiMzHkBBdw15iTIHDzpL37Rp0rBhUteu0tSpwY99+22kZ+w5hcrMggWhC/r06dK+fe5MFPAxowu6ZH8r3rNnT1WpUkUxMTGKjY1VqVKllJCQoNjYWMXGxiomJka33HKLpkyZEunpGo+CDpiNzHgABd015CXK/PxzwcUv1OD882JXqMysX++8kN+779r/vXKlOxMFfMz4gp4rMzNTCxYs0Guvvaann35anTp1Ut++fTV69Ght3bo10tOLGhR0wGxkxgMo6K4hL1Fm2bLwCjrnnxe7QmXm0KHAZ9CypVS+vBQfL02aZN/2jsPcgRIVNQUdxYOCDpiNzHgABd015CWKhDr//EyD889LRKEzk5xsfw7NmgV+jvXpw2HugAso6D5DQQfMRmY8gILuGvISRQ4cCC7gU6dKN9wgtWolDRzoLOicf14iCp2ZH36wP4d+/QI/x26/3V72448lP1HAxyjoPkNBB8xGZjyAgu4a8hJFNmwILuDvvhvIR6NGzoK+eXOkZ+xJhc7Mzp325zB5spSYaH9O5cvb56N//jmHuQMliILuMxR0wGxkxgMo6K4hL1Fk6dLgAt6pUyAfjz7qLOiHD0d6xp5U6MycOiXNnGl/Fv/3f4HPKvdoh717S36ygE9R0H2Ggg6Yjcx4AAXdNeQlSoQ6//ymmwL5ePttzj93SViZyb2o3zPPBD6rFi3sZT/8ULITBXyMgu4zFHTAbGTGAyjoriEvUSI93Xnv8woV7GwkJdmHTed//LvvIj1jzworM7/8Yn8e48ZJpUrZn9cFF9ifH4e5AyUmagv6DTfcEOkpRCUKOmA2MuMBFHTXkJcocfr550OHBrJxww3Ow9u3bIn0jD0rrMxkZgYOc7/mmsBnNmQIV3MHSlDUFfTdu3dLksqVKxfy8caNG7s5nahDQQfMRmY8gILuGvISJZYsCS7gnTsHsvHww86CfuxYpGfsWWFnJvfaAR07Bj6zv//dXrZyZclNFPCxqCvo5513nqpWrarSpUurS5cuGjFihJYtW6bjx4/rwIEDKl++fKSnaDQKOmA2MuMBFHTXkJcoEOr885tvDmTjzTeDH5s3L9Iz9rSwM7Nli/25jBxpf16VKwcu6pecXHITBXws6gq6JG3atEkJCQl67bXX9OCDD+qqq65SmTJlVKZMGT388MORnp7RKOiA2ciMB1DQXUNeosDp9z+fNk2qWNHORWKi8/zz5csjPWNPCzszmZnSjBn2Z/P22/b96/N/XuQPKHZRWdAl6aeffgr6c2Zmpvbv3x+h2UQPCjpgNjLjARR015CXKLBxY3ChGzYskIvrr3ce3r51a6Rn7GlFyszppyjkH6tXl8xEAR+L2oIuSePHj1ePHj30+uuva+HChZGeTlSgoANmIzMeQEF3DXmJAl9/HVzoJkyQevaU7rpLeuopZ+E7cSLSM/a0ImUm9zD3UOOLL0pmooCPRW1Bf/rpp3Xdddepb9++6ty5s2rVqqV77rlHx7iwyBlR0AGzkRkPoKC7hrxEgTlzCi53p4/58yM9W88rUmZOngwc5p47Ro2SPv7Y/m+X/k0J+EXUFvQqVaoElczMzEw98sgjevzxxyM4K/NR0AGzkRkPoKC7hrwY7vDhwpfz6dOlH3+M9Iw9r8iZWbzY/owGD5bq1ZNiYqQ2bexla9YU/0QBH4vagl69enUdPHgwaNmBAwdUpUqVCM0oOlDQAbORGQ+goLuGvBhu8+bwCvqOHZGecfTIyZZO7JYOrpb2fyftWSztXmCPPYvsZQdXS8e2S9mZeU8rcmZyP8tRo+xybllSzZr2Rf848gEoVlFb0J9//nm1aNEiqGhu375dVatWjeCszEdBB8xGZjyAgu4a8mK4774LLuCvvCI9+6z00UehC/rJk5GesdkyD0tH0+zyvf0zaev0wo1tM6Q9C6WjaUrfv7domTlxIvA51asX+Nk2ZIi97PDh4t9ewKeitqCfOnVKTz75pCpWrKg777xTDzzwgGrUqKGBAwdGempGo6ADZiMzHkBBdw15MVxycnAB/8MfCr7/eWpqpGdrrqyj0t6lZy7hv0yTNn4krXpVWt5bWtFX+qGftHaI9Muneeulr5uh9LTF0ok99j3qw7Fwof1ZdeoU+Bzvv99etnZtyWw74ENRW9Bzbdu2TePGjdO7776rpUuXRno6xqOgA2YjMx5AQXcNeTHYsWPO+59XqWLnIT5emjIl+PFVqyI9Y/NkHZcO/iRtm3laGf80qHRr63S7lI+1Qo8JidKsq6Wv7tfhZc8r/af/2c/ZOU86vrPw88m9Zd5HH0mxsfZnWb26/dmmpJTYbgD8JmoL+g033BDpKUQlCjpgNjLjARR015AXg/3yS3ABHzEikIdrrnEe3r4zjKLodRn7pb1L7EPT85fw9SOk1BbSxHLSyoHBj615p+CCfto4sHJU8HP3fS2dKsTt7fL/0uWqqwKf59tvc5g7UIyirqDv3r1bklSuXLmQjzdu3NjN6UQdCjpgNjLjARR015AXg51+/vlTTwXy8Pe/Bz82Y4aUmXn21/S6Uyfs88tPP3x97RDp85uksbGBov1Vq+B1Nk+QZv9OSrlLWvSQPRa0sZ83qXLe805Nqqr0tdOCn/vzB9LWGfZh72fz5Zf2Z/b444HP829/s5etW1fy+wjwgagr6Oedd56qVq2q0qVLq0uXLhoxYoSWLVum48eP68CBAypfvnykp2g0CjpgNjLjARR015AXg51+//M//jGQh4EDgx/78stIzzbyTux2Xvht/XDp8/9zfgs+Pt5Z0M82NoyUvu+po4uechb0mfWlyVWl5X2kg2vOfG76hg32ZzZ6dOAw9wsu4DB3oBhFXUGXpE2bNikhIUGvvfaaHnzwQV111VUqU6aMypQpo4cffjjS0zMaBR0wG5nxAAq6a8iLoQ4dCu/889WrIz3jyDq0Lvhw9i1TpEUPSuNKBxfz/51vL984Orxynm+kr50WXNBXDgx+jzmN7Pcv6JD3/Ie5X3ON86J/HOYOnDOjC3rOGX6D99NPPwX9OTMzU/v37y/pKUU9CjpgNjLjARR015AXQ/38c3ABf++9QBauu855/vmvpy/6Tk62tO8b57fmn158WjGvIC15VEqbVIhbqs2y74m+72tp//fS/m/t89l3fyntmq/0DXOUvi7fLwPWDpFmXXvaReWSpB/6Sxn7Qs/7q6/sz61rV/ue6FddJb36qr1szRpXdyHgRUYX9KSkJN14443q2rWrPvjgA61YsUKnTp2K9LSiGgUdMBuZ8QAKumvIi6GWLAku4J07B7LQvr3z/POsrEjP2H2nTkq7FzgLdtpEafJvfi3LsdKXLaW0/xV8f/PdX9kl/+Bq+zD5nOwzvm16errS9++XTh6QjmyUds61b9H2fU9pUsXgov7lX6Qjac4Xyf0FzIQJznvaz5tXQjsM8A+jC3qrVq10+eWXKzY2VjExMYqNjVVCQoIaNmyoTp06acSIEfr222+VyYVFCo2CDpiNzHgABd015MVA2dnSzJnBpe2mmwq+//nChZGesfuyjks7vyj4W/AVz0vTLrevzB7q8T2LpGPbpOzw//3ryExOtnQ0TdqRLG0e5zznfUZdac+C4Bc5ftx5FET+QSaBc2J0Qc916NAhpaamauDAgYqJiVG1atWCSnt8fLyuu+66SE8zKlDQAbORGQ+goLuGvBhozx5nYXv0Ual+fen886VPPw1+zG9X/s48YpfhvDLeV9o01lnCf5ka4hvzmfa33uegwMxkZ0kHVtnvs7SjNC4uUNInlpd2zg9ef8GCggv6ypXnNEfA76KioOc6ePCgYmJi9OWXX+rIkSP66quv9Pbbb6tt27a68sorIz29qEBBB8xGZjyAgu4a8mKg/8/eeUdFda19eCyxpd2YeuNNTG6M5ou5yb0panqzRBNjLxFREUQsqJFIsKLYsCtiQaPEBiiiFBEFa6yxYgUrIiCggliQOjzfH0c8jIMdzgwz77PWWVk5M868MPs3wzNn73cfP353cVu1yrqvtuZehaR1twQ8RNkKbZlOWQN+fvW915Zf3Am5j9+A7b6Zyb0KKVvg+BSls/synXJV/XwIXD2p3u/MGcPXcfVq8PSE4GBYv/7eneAFQbgnZVbQhUdDBF0QzBvJjAUggq4ZkhczpHCf7Ac5IiKsR+TyMuHCevXq+ObmhlPJ9/9WvJin/gVZl0qsjAfKTIEeMo5DnL+yr3pcgFrP1VjlPllZ6uvYty9Ur66813l6KufkPU8QHhkRdCtDBF0QzBvJjAUggq4ZkhczIzf3weU8NBT27jV1xdqQn62uOT+/GiK/NpTzHV2UK9R3NoC7eqLEv8B4qMzkZCjr3e/80iB5k9JrYMcO5XUcMEB9r/vpJ+XcgQMlWrcgWBMi6FaGCLogmDeSGQtABF0zJC9mRnKy8ZR2Ly9lH/TiBD0+3tQVlz76XGWLs9ty/mUROS8Pe/sVI8AbIbt0tg5+pMxkJkHS2lvbwM2DwOqwrSOcvdXN3d8fKlZU3uuqV1emu69dC7LzkiA8EmYt6EuWLOHYsWO390MXQX98RNAFwbyRzFgAIuiaIXkxM44cMRTwceOU8f/ss9Czp7Gg37xp6opLF32eupXanXLuVxGihxlfNc84BvrSE9tHzkxOhnKVP+gV9WfY9BOE3Xot69dX3+/GjVPOJSWV/A8gCFaAWQt6YZf2wv3Q7e3tKV++PEuXLkWvv/c+j0LxiKALgnkjmbEARNA1Q/JiZmzZYijgbduqGfj1V8PbNm26/+OVZfT5cHF7ETn/ylDOD40wlPMLkZBT+mP5sTKTdwP2uyhX/gt/ltVNlRkSLi7qa924sfIa79lTssULgpVg1oK+du1axowZQ+vWralZsyblypW7Le3VqlWjQYMG9OnTh4ULFxIdHW3qcssEIuiCYN5IZiwAEXTNkLyYETk5xlfI33pLzcCiRda1FdflPap87+hyx5Xz4caN4PKzNCnrsTOjz4Wj4wwl3b8trFgBVaoor/WTT8LKlbBmjdKXQBCEh8KsBf1O0tLSiIqKwtPTk/bt21OrVi2D/dCF+yOCLgjmjWTGAhBB1wzJixlx4YKhgC9erI7/N980lveUFFNXXHpcjTUU8HMrYM1/ipfzy3uVrukaUWKZOTbBsNHdip7w7bfqa+7qqrzO5849/nMJgpVRpgS9OK5evcqmTZuYMmWKqUspE4igC4J5I5mxAETQNUPyYkbcuf7811/V8d+mjeFtYWGQl2fqikuHmxeK3y7tXCAcGWd4Lv2g5tvMlWhm9v2qCvrS8jDiF/U1r1dPea137CiZ5xIEK6LMC7rwcIigC4J5I5mxAETQNUPyYkZs3mwo4d98o47/sWMNb9u2zdTVlg6519Ru5+dXFy/qhccV00zxL9HMFBTAX+1USV/8BFR/RnnNK1SAJUusoxmgIJQwIuhWhgi6IJg3khkLQARdMyQvZsKd68+Dg5XO7TodVK0KQUGGt8fEmLrikic/B5I3KPJ90A1CasHpP4uX83TT9U0q8czkZRs2wPvxdXj6aWjWDHx9ldf75MmSez5BsAJE0K0MEXRBMG8kMxaACLpmSF7MhKQkQwGfNs14qnPR49IlU1dcshQUwMWdinzHeoN/FUVWV74IZxbdseZ8j+bT2otSKpnJuQor34FF34C3CyyZYV0d+wWhhBFBtzJE0AXBvJHMWAAi6JoheTEToqMNhczWVh37Tk6Gt4WHg6VtlXvliCLfcf6w6lX1anLU18re4YVyfnGnpg3hiqPUMpN+EfxmwMJhyhHoa/i6Z2SU/HMKgoUigm5liKALgnkjmbEARNA1Q/JiJqxfbyhjnTvDM7fWIs+bZ3jbzp2mrrZkyUy4teY8GNbVU+U8+E2lMdxtOd+h7I1uYko1M1u2gN9MRdB9h8PKOerrfvRo6TynIFggIuhWhgi6IJg3khkLQARdMyQvZsCVK8ZT2AvXoU+fbnzektYj516FxHBFwLfbqHK+/Ck4Oa+InG83CzmHUs7MqVMQEgJLp4DvLzCnMjh9pYyF9etNOrVfEMoSIuhWhgi6IJg3khkLQARdMyQvZkBsbPGCfrfjyhVTV1wy6HPVpnCH3GFZuVuCXg4OjVTlPGUz6M1nS7lSzUxWlrKF3qqZ0LYcVLj1/udhp7z2KSml87yCYGGIoFsZIuiCYN5IZiwAEXTNkLyYAVu3PricR0RYzlXU9IOKgJ+cp1wxL7x6vqOzKudJEZB3w9SVGlDqmdm5U3mtnf+nvv99UwGC58K+faX3vIJgQYigWxki6IJg3khmLAARdM2QvJiYrCxDAQ8JgRUr7i7oe/eauuKSIStVEfD4IAh5S5XzdfWVtegJoZAYBlnml/tSz0xCgvJarwiAKuVvbbWnA99/QthKZUs+QRDuiQi6lSGCLgjmjWTGAhBB1wzJi4mJjzcU8LlzoWJF+M9/YNAgY0E/f97UFT8++ly4EKlI+LlA2PSDIueraihd3Auvnl81z7X2pZ6Z/HylU39oKHz3tfoe2FcH/p/D6dOl99yCYCGIoFsZIuiCYN5IZiwAEXTNkLyYmD17DAXc0VEd8127Gt4WFgbZ2aau+PEpnNpe9DjgBjEz7thOzTyn8muSmQMHlNd89Gh1PPzn1iyDkD6l+9yCYAGIoFsZIuiCYN5IZiwAEXTNkLyYEL1evVJaeHz8sTrmZ8wwvG3bNlNX/PhkJhrL+Z1H0jrIzzJ1pXdFk8xcvKh28n/5ZWU8lNPBdB0srQCn15fu8wtCGUcE3coQQRcE80YyYwGIoGuG5MWEpKYaCnhQEFSurIz3555T1qNb0vZqeZlK07fzwXBqwd0FPSvV1JXeE00yU1AAkZHK6965s/o+2PLWVfSA5yHvZunWIAhlGBF0K0MEXRDMG8mMBSCCrhmSFxNy+LChgHt4qOP9u++M159r9HdHqVBQAKnbFAHf2RUCqsK+X43l/NopU1d6XzTLTEyM8rr/+SeUv9Us7rkKsKgSLG4PGedKvwZBKKOIoFsZIuiCYN5IZiwAEXTNkLyYkKgoQwFv3lwd766uhrdFRZm62sfj6klFwI9NBr8K6n7nsTNVOU+PNnWVD4RmmblxQ33969dXx4ZLO1g4DHYthJyM0q9DEMogIuhWhgi6IJg3khkLQARdMyQvJuLqVePt1QrXGleoAP7+hrcfOmTqih+dvBuQuAbOrYCgV9Qt1f5qWyaawt2JppnZvl15/UeMgDffhJ49YelSWDwGVo6H5CjIt4DGgYJQwoigWxki6IJg3khmLAARdM2QvJiIkycNBdzbWx3rH3xgPL09JcXUFT86F3coEr65uSrnoXUgflWRpnBlRzI1zcz58+oXOEV7EqwKAN/hcNxf6YBfBpYGCIKWiKBbGSLogmDeSGYsABF0zZC8mIjCK6OFR5cu6lh3cDC8LTxc6fheFrkRr0j4kXGqnPtXgpNz1avnNy+YusqHQtPM5OfD2rXGX9iEhsLyObCqgfI7DXtHmsYJQhFE0K0MEXRBMG8kMxaACLpmSF5MQE6Osqd5Udlq3Fgd6/PmGd7299+mrvjRyM9WurbfObV9l70q52kHTF3lQ6N5Zg4dKl7QQwLA72X197qzq3Y1CYKZI4JuZYigC4J5I5mxAETQNUPyYgISEooXrj//hN9+Mz4fH2/qih+NtP3GU9vD/g/Or1bOJ28Afa6pq3xoNM/MlSuG42HqVPjhBxg9GlZ5gV8l9fd7dol2dQmCGSOCbmWIoAuCeSOZsQBE0DVD8mIC9u4tXtDvdmRlmbrihyfrYvFT20/MUc4nrimzHchNkpktW5SxMGqU+p742WfKucjB6u84oJrSMV8QrBwRdCtDBF0QzBvJjAUggq4ZkheN0evvvqa4uGPrVlNX/PAU6CF5oyLih0dB4HPGU9tvnDd1lY+MSTJz7tyt5nCr4B//ULv9L1qkLJfY3EKV9DV1y1TTPUEoDaxe0K9du8agQYNo1KgRL7zwAjqdDnd3d6P7de3aFZ1OZ3TUqVOn2Mf18vKiTp06VKpUiTfeeIORI0eSm2s8FSo1NZWuXbvy/PPPU7VqVRo0aMCGDRuKfcyoqCgaNGhA1apVef755+natSupqakP9fOKoAuCeSOZsQBE0DVD8qIxqamGAr56tWF37juP2FhTV/zwZBxTRTwhFM4ug+2d1Knt6WV4yzhMlJn8fIiIUMZEmzbq+2LXrsq5o/sguKYq6X87alufIJgZVi/ocXFxPPvss3z11Vc4ODjcU9CrVq3Krl27DI7o6Gij+44ZM4Zy5coxePBgNm/ezMSJE6lUqRI9evQwuF92djbvvfce//rXv1i6dCmRkZG0aNGCihUrsmXLFoP7btmyhYoVK9KiRQsiIyNZunQpNWrU4L333iM7+8G/aRRBFwTzRjJjAYiga4bkRWOiow0FfOhQeOEFaN4cZs0yFvSMMjYNPPsyJIYZCnrRI2UT6PNNXeVjYbLMHD2qjIm5c9X3xZdeUr7kiYiAi3vA/wlV0s+t0L5GQTATrF7QCwoKKCgoAODSpUv3FPQnn3zyvo93+fJlqlSpgqOj4bd/Y8eOpVy5chw7duz2uVmzZqHT6di5c+ftc3l5ebz77rvUq1fP4N9/8sknvPvuu+Tl5d0+t2PHDnQ6HbNnz36gnxVE0AXB3JHMWAAi6JohedGY9esNBfy779QxPmKE4W2Rkaau9uHQ5ymN386vhvMhxnJehtedF8VkmblxQ+3+/9FH6rgZMkQ5d+4cxExVBT3k32X+yxBBeFSsXtCLUhKCvnTpUnQ6Hbt27TI4f+HCBXQ6HWPHjr19rmHDhsVOkR83bhw6nY7ExEQAEhMT0el0jB8/3ui+tWvXplGjRvetqxARdEEwbyQzFoAIumZIXjQkPd1QwFetgqeeUsZ31aoQFGR4+6EyNhU8PVoR8S3NYV19OLPIUNAtpHmZSTOze7cyNtzd1ffG999Xzm3aBAUFsPlHWPshnFkC18+Ypk5BMDEi6EW4n6CXL1+el19+mfLly1OjRg369OlDWlqawf3c3NzQ6XTcuHHD6DFeeOEFfvnll9v//8orr9CuXTuj+61ZswadTsf69esBWLduHTqdjvDwcKP7tm3bln/+858P/DOKoAuCeSOZsQBE0DVD8qIhx48bCriHhzq+v/rKeHp7WRrz2WmKhB8dD8vKKVdwA5+H+JXK+dRtijxaACbNTGEPg+BgePVVdfzMnKmcT02FvJtwec+tWQthymsjCFaGCHoR7iXoU6dOZerUqURGRhIZGcnQoUOpVq0a77zzDtevX799vx49elC5cuViH7927do0btz49v8/8cQT9OzZ0+h+O3fuRKfT4efnB8CyZcuKvSoP4OjoSKVKle76M2VnZ3P16tXbR0JCAjqdjnPnzt1+ky7NIz4+nvj4eE2eSw45LOGQzJT948rJk0aCfuXkSZPXZYmH5EXDIyqK9JCQ20f2Dz/cHt/XXV0NbksPDyc9Lc30NT/IkZZG+pmNpB9fSf7KGrenWGdu7U56bAjpJ8JIv5ho+jpL6DB5ZiIjSQ8JIbNHj9vjJ7tJE2XcbNt26zW5RPqpSOX3fzKC9MspJv+9WfohmBci6EW4l6AXx8qVK9HpdEydOvX2uR49elClSpVi71+7dm2aNGly+/+feOIJnJycjO5XKOj+/v6AKui7d+82uq+jo+NdvxAAcHd3L7b7vAi6HHKY5yGZKfuHCLp2h+RFoyMpyVDAV61Cf2u7rIJKlUgPCDC8fdcu09f8wD/bcdJjQ7i5qeNtOc8LrkN6zCpFEBOiTV9jCR4mz8zhw8oY8fenoGpV0OnI+/e/SV+9WjmflKTcL/U86SfCuHJkETkRX5KRsN/kvztLPgTzQgS9CA8r6Hq9nieffJL27dvfPlc4xT0zM9Po/qaY4n63K+gyxV0QzBPJjAUgU9w1Q/KiESdPGk5f9/RUx3b9+sbT25OTTV3xg6HPhQvr4cQs8KuoCLpfBYj1utW1fYuyL7oFYfLM5OZCeLgyTvr0gZEjlSnvhWPn8GH1vkkRylLJ5CEPAAAgAElEQVSDZToIe0eZ/i4IVoAIehEeRdCrVatGx44db5+729Xu5ORkoyZxjRo14p133jF63PHjx6PT6UhKSgLUJnGenp5G961Tp440iRMEC0IyYwGIoGuG5EUjtmwxFPDmzdWxPWCA4W1r14K+jEjtlaNwPhjC3lW7h//VVl3/nHPF1BWWOGaRmTu367tz/OTmKvfLyYDVrxu+NhbSC0AQ7oUIehEeVtCXL1+OTqdj+vTpt8+lpaVRpUoVo6nr48ePN9pmbfbs2UYyn5eXR926dalfv77Bv69Xrx7vvfce+fnqlhO7du1Cp9MxZ86cB/4ZRdAFwbyRzFgAIuiaIXnRgBs3DAUqOBiqV1fGdcWK4OdnePu+faau+MHIvapI+J4+qgAGvQLnAhVBz4gxdYWlgllkJiPj7oIeGgpninRvTz8I/lXU1yhm6t0fVxAsBBF0YO3atQQGBrJw4UJ0Oh3t2rUjMDCQwMBAMjMzOXfuHJ999hleXl6sXbuWiIgI3NzcqFKlCnXr1jXq2D5mzBjKlSvHkCFD2LJlC5MmTaJy5cr06NHD4H7Z2dnUrVuX1157jWXLlhEVFUWrVq2oWLEiW7ZsMbjv5s2bqVixIq1atSIqKoply5bx2muv8d5775Gdnf3AP6sIuiCYN5IZC0AEXTMkLxpw5/R2Hx94+mllXNerZyxXt2b/mT2p25St1AKeVOXv8GiLndpeiNlkZts247Ezb57y3w0bDK+Un16ovkZ+T0DKVtPVLQgaIIIO1KxZs9hGajqdjri4ONLT02nVqhVvvPEGVatWpVKlSrz99tu4urqSkZFR7GPOmDGD2rVrU6lSJV5//XXc3d3JLZyyU4SUlBS6dOlC9erVqVKlCg0aNCAqKqrYx4yMjKRBgwZUqVKF6tWr06VLF1JTUx/qZxVBFwTzRjJjAYiga4bkRQO2bjUWqVWrYNQomDjR8Hx4OOTlmbri+3MjXhHxnXaq+EV9e2tq+xrl6rqFYjaZSUw03LLvP/8x3HItMdHw/rsd1Ndq5UtwM8U0dQuCBoigWxki6IJg3khmLAARdM2QvJQyd05vv9+xd6+pK74/+TmQtE6R8fMhcOB3CK4JZ5cq567GmrrCUsVsMqPXw/r1yrhxdFTfKxs3Vs7dMZMUfS6s/a8q6evqgT6/+McWhDKOCLqVIYIuCOaNZMYCEEHXDMlLKXPq1MMJelmY3p4erYh40eN8yK2p7Zssdmp7IWaVmdhYZdwEBMCtLdeoWBF8fZXzKXdcJb9xHgKrq5K+p5dJyhaE0kYE3coQQRcE80YyYwGIoGuG5KWUubN7e1DQ3eU8PBzyzfyKZk66sZwXPbIvm7rCUsesMpOVBWvWKOOnTRv1/bJlS+Xctm3G/yYhFJaVVwR9UxPIsvzXTLA+RNCtDBF0QTBvJDMWgAi6ZkheSpGrVw0FfPVqeOEF+OgjcHEpe9PbCwogdSvETIODQ4zlPD3a1BVqgtllZv9+ZfwsWgSVKinvl1WqwNKlyvlLl4z/zUE32NNXed2SN4C+DPQ9EISHQATdyhBBFwTzRjJjAYiga4bkpRQ5etRQwEeOVMfzp5+Wvent1+Pg/GoIeevWGuYGcNZPkbwL65U1zlaA2WUmPV0dQ82aqWPsl1+Uc0W2Ir5NgV7pwl/45UraAe3rFoRSRATdyhBBFwTzRjJjAYiga4bkpZQoKFAbeBUe336rjufBg8vW9Pb8HEiKgF326vrl1TUhfpUieJmJ930IS8EsM7NzpzKO/vgDKlRQxthTTylr00ND4do143+Tnw3JUaqkX95ruDWbIJRhRNCtDBF0QTBvJDMWgAi6ZkheSomUFEMBX7FCmXas08GTTxqvRd+3z9QV35v0g3BqPvhXviXo5eDYREXsLhVzhdaCMcvMXL6sjqXvvlPfN+3slHPRd1l+kHsVEsPhgBsEVIXjk7WtWxBKCRF0K0MEXRDMG8mMBSCCrhmSl1Ji3z5DAXdxMd4Gq+iRnGzqiu9OdprSpT3iY/Xq+eZmt/Y8D4e8m6auUFPMNjM7dihjadYsKFdOGWvVqytfBq1ZAzk5xf+75Cj1dfWroPQZEIQyjgi6lSGCLgjmjWTGAhBB1wzJSymQm6t21i48PvpIHcvjxhnetm6dsqe1OVJQAClb4ICrKnGB1SEuQBH062dNXaHmmG1mLl5Ux9Snn8IHH8Do0RASopw7ceLu/3ZnV/X1XfkiZF7QrGxBKA1E0K0MEXRBMG8kMxaACLpmSF5KgXPnDAV88WIoX14Zxy++CMHBhrcfOWLqiu/O9TNwdhmseFYVuIODFTm/uNPU1ZkEs87Mtm3KmFq50niWxvr1d/8iKC8bwv+rvsYRn0hnd6FMI4JuZYigC4J5I5mxAETQNUPyUgps324oRj16qOO4bVtjccrIMHXFxZOfBUlrYcN3qrita6DIeVKE1U1tL8SsM5Oaajy+ih5nztz93147A4HPq6/1nj7a1S0IJYwIupUhgi4I5o1kxgIQQdcMyUsJk5lpLEVvvqmOY29vw9s2bzZ1xXcnbR8cGqkKW8CTcNr3Vtf2BFNXZzLMPjNbtxqPwZAQ5Vi3TlmCcTcSwsCvovqax/lpV7cglCAi6FaGCLogmDeSGQtABF0zJC8lzIkThmIUEADvvquM4dq1jcXp1ClTV1w8WRcVET/tC+vq3bqi2vdW1/a/TV2dSTH7zFy4YCjm7u7K2HN1Vc7FxNz730cPK/KlTDW4ckyTsgWhJBFBtzJE0AXBvJHMWAAi6JoheSlhNm4sfmrx3LkwaZLhubAwyMoydcXG6PMheaO6P/b5EDjsofw3KUKZ+m7FlInMbN6sjDFPT/U99PXXlf4H4eGQnX33f6vXw6YmqqSHvCXr0YUyhwi6lSGCLgjmjWTGAhBB1wzJSwmSnn7v9b93HrvNdP/wK0dVOb/zuBFv6upMTpnITGKiegX9nXfU99HCq+iHD9/73+dcgeA3YfnTcHgUXI3Vpm5BKCFE0K0MEXRBMG8kMxaACLpmSF5KkMOHH07QzXHv85x0OB8EZ/2M5dxKu7bfSZnITEEBbNqkjLNRo9T30Zo1lavoa9bAjRv3foz0g2rPAflyRihjiKBbGSLogmDeSGYsABF0zZC8lBB6PUREGAr4zJnqHtTFbXlVUGDqqg0p0EPKJvirnbLX+cEhqpwlrbXaru13UmYyU7gWPSQE6tRR30t/+005v3///R8jM0kdA4lhkHWp9OsWhBJABN3KEEEXBPNGMmMBiKBrhuSlhEhIMBTwhQuVvc9feQWcnIwF/ZgZNt7KiIGY6bCsvLL22K8inFpw6+rpeVNXZzaUqcz89ZfxVfSXXlL3SX+Qv2UzYtReBDu7QdrB0q9bEB4TEXQrQwRdEMwbyYwFIIKuGZKXEuLOvc/bt1fHbseOxoJ+v+nFWpN7DRJCIOTfanOw7Z0UMbu8x9TVmRVlKjMXL6pX0f/7X3VMdu2qnP/7ATvyX9wBkV8r42JVDci8UJpVC8JjI4JuZYigC4J5I5mxAETQNUPyUgJcu2Yo3ytXwrPPKuO2QgXw9TW8fft2U1dszMXtsLOrKuera0J8ECStg/wcU1dnVpS5zOzYoYw7Ly9lVodOB1WrwuLFyvm0tPs/RlYaBL+hjo/wDyA3s/RrF4RHRATdyhBBFwTzRjJjAYiga4bkpQQ4csRQwAcMUMftl18aXz1PSDB1xYZcj4MTs8HviVsCVh6OTVaunmeaWa1mQJnLTNHdBZo0UcfmDz8o5/7668Ee52osBD6nSvqmpkrvBUEwQ0TQrQwRdEEwbyQzFoAIumZIXh6T/HzD5nAhIVCrljpuPT0N5TwiwrykJj8LEtdA2LuqeG1teatr+w5TV2eWlMnM7N2rjL9Fi5Sr5x9/DLNmqeMyMfHBHid5A/hXVsfKnt6lW7cgPCIi6FaGCLogmDeSGQtABF0zJC+PyfnzhgI+caI6Zv/9b+Mu7kePmrpiQy7vgb+dVOEKegXOBSrSnnvd1NWZJWUyMzduQFiYMgYXLDCe1REV9eBfHJ36A5aVU8fMUc/SrV0QHgERdCtDBF0QzBvJjAUggq4ZkpfHZMsWQ9H5+mt1zPbrZyxC181Iem8mK13aA6qqsnVkjHL1/GqsqaszW8psZg4fLn7Lv8Lj1KkHf6yDv6tjxq8CnJxbenULwiMggm5liKALgnkjmbEARNA1Q/LyGFy+bCg4ixZBxYrKeH36aQgMNLx9hxlNGdfnwYVIOOQOAdUU0drYWJHz1G3KnuhCsZTZzGRnw9q1xmIeFASrVyu33XzAve4LCmBbe1XS/SvBuYDSrV8QHgIRdCtDBF0QzBvJjAUggq4ZkpfHoHBdb+HRqZM6Xtu0MRahB13nqwXphxQZTwiF0wthw/cQ5wdJEZAn3bnvRZnOzKlThv0S3NzglVfAyenhtl0DyM+DjY3Urv9nFimzMgTBDBBBtzJE0AXBvJHMWAAi6JoheXlEbt5U1/QWHt7eSpfsqlXhjz8Mb1u3znyaw2VfVuX8zuOm7G99P8p0ZvR62LhRGZMzZqjvr089BUuWKOeTkh788fKyYIcNnF2mjJ/EcMgpo78bwaIQQbcyRNAFwbyRzFgAIuiaIXl5RI4fv/ta3juntoeGwokTpq5YQZ8PFzYUL+fpB01dXZmgzGcmOVkdl99+q77HNmqknFu/HnJzH/zx9LmQskUdR0kRkHOl9OoXhAdABN3KEEEXBPNGMmMBiKBrhuTlEbhza7X7HeHhkJNj6qoVrhyF3Y63prT7q1J1IVIRLeG+WERmdu1S+yZUq6a+z06cqJyPjn64x8vPguSNyliKC1DGV9r+0qldEB4AEXQrQwRdEMwbyYwFIIKuGZKXR+D06QeX89BQOHLE1BUrZKcp3bb9Kynrhle+qMhUQihkpZq6ujKDRWTm+nVYs0YZnw4O6vvsW28pDeNCQ5UmiA9DfhYkBENobXV8XXqINe2CUIKIoFsZIuiCYN5IZiwAEXTNkLw8JHo9REYaCnjTpmBvDytWGMt5WBhkmkHTNX0eJK2H0Dpq5+3NP8nU9kfAYjITE6OM0dWroWZN9b22a1fl/MaND9834fo5CK6pjrHA5yHVjHYvEKwGEXQrQwRdEMwbyYwFIIKuGZKXhyQuzrgxXOEYffNNpTN20dv3m8k03/SDsKOLKk6rXoVzgcq0ZH2eqasrU1hMZvLzYcMGZZxOnAjlyyvjuGJFmDVLOR8T8/CPe+M8BL9ZRNKrQ+rWkq9fEO6BCLqVIYIuCOaNZMYCEEHXDMnLQ1BQoApN4fHNN+oYtbc3voKu0d8K9+TmBTg+Dfwq3pKm8nBsIiSugVwzqK+MYVGZKdowrlUrdSzXrq1cWQ8Lg4yMh3/czAQIeUuV9BX/UJoTCoJGiKBbGSLogmDeSGYsABF0zZC8PAQJCYbyPW+eetXx6aeNp7g/zJ7SpUVeJsSvhKBXVFn6q40ytf16nKmrK5NYXGb27VN3H6hRQxnPVasq27CFhsKWLcqXUw9LZiKE1Coi6c9AfGDJ1y8IxSCCbmWIoAuCeSOZsQBE0DVD8vKAFBSo+0cXHk2aqOPTxsb46rmpf68FemX7q/Wfq5IUWhvigyBtn2lrK8NYXGZycyEqShmzEybARx/BggWGY/nkyUd77JsXDPse+FeCmOklW78gFIMIupUhgi4I5o1kxgIQQdcMycsDEh9vKCzz50OFCurVRj8/w9t37jR1xXDlMPztpMrR8ifh1HxI3iDrzh8Di8xMWpoynf1uOxGsWQPXrj3aY2ddgoiP1HG4oSFc3qt8gSQIpYQIupUhgi4I5o1kxgIQQdcMycsDoNerVxgLj0aN1LHZoYOx0Fy6ZNqabybD+RCI/EoVo4NDIDEMcuT1fhwsNjOxsffeLvCvvx5tqjtAbiZsbgbhH0D8KmWJReo2yM8p2Z9BEG4hgm5liKALpkav15OXJ1c/7oZkxgIQQdcMycsDcGfndh8fde35k08aXz3fvt209ebnwIX1igSdD4HdPWBrK+X/r50ybW0WgMVmpqAAtm0zHMv+/so2gt7ejzfVHUCfDxe3K+Ow8EjZrOyfLggljAi6lSGCLpiKhIQEwsPD8fHxYerUqYwePZq5c+cSGRnJmTNn0D/sfqUWimTGAhBB1wzJy33Izzfe9/y779Rx2amT8ZXGtDTT1nx5r6EEFR6Xdpu2LgvBojNz4wasXauM45kz4YUXlHH++utKE7k1ax5vZ4KCAmXpReGYjPWGtf+Da6dL7mcQBETQrQ4RdEFrbt68yapVq3B1dWXSpEn4+vri4eGBq6srTk5OdO/ene7du9OnTx+8vb1ZtWoVBw4cMBo3OTk5xMTEsH//fmJjY8nJscypZZIZC0AEXTMkL/fh5ElD+Q4JgTZtoFIleOop5QqjOXVuz0xQmsDdKefJUTKduISw+MwU9lsIDISaNdX34MaN1a7uj3tBICMGziyClS8qyy9WvgSpf5VI+YIAIuhWhwi6oCXR0dHMnDmTLl264OHhwfjx47GxsWHhwoUkJCQwceJEunXrxsSJE2nbti0//vgjdnZ2uLi4MGfOHNatW0dOTg7R0dEsWLCAefPmsXjxYqZPn87o0aNZvXo1aUWu9mRlZXHjxo0yfTVeMmMBiKBrhuTlHmRnq1cT7zwWLQIPD8NzYWGP3kirJMi9DrFesPIFODRKlfPENbLuvASxiszs3auM6VmzoHJl9X3YxUU5f/Dg4z/HhUhFzAt7JARUgzO+j77OXRCKIIJuZYigC1oRExODj48PCxcuZN68eeTl5eHn54ePjw9z585lxIgRhIaG4u/vT+/evVmwYAFTpkxhz549zJ49mwULFjBy5Eh69epFnz59mDx5Mlu2bCEkJAQvLy9cXV3p3Lkzbm5uTJo0iXnz5uHj44OPjw9Llixh//795Ofnm/rX8NBIZiwAEXTNkLzcg+joezfNuvMoCWl5VPR5ioivevWW8JSD6OGy33kpYBWZyc1Vl3YMGKC+D1etCnPmKOfj4h7/edKjDfdK96sA0cNAn/v4jy1YNSLoVoYIuqAFqampDB06lCFDhjBo0CDGjx/PmTNn8PHxIS4ujtWrV2Nra0tKSgoLFy7EwcGB3NxcFi9ejL+/P25ubrRr146WLVvy1ltv0aZNG5YsWUKvXr1wcHBgx44dpKSkMHr0aBo2bMhnn31G48aNmTp1Klu3biUgIIBhw4bh5eXFlStXTP3reCgkMxaACLpmSF7uwrVr9952qrhtqG7eNF29l/dC5Jeq6ITUUqa6p0ebriYLxWoyc+lS8X0X3nwTVq5UxnxJ9FvITIJ1DdSxu0wHW5orOxEIwiMigm5liKALpU1MTAyTJk3C3t6etWvX4uXlxW+//cb06dMZMWIEiYmJbNiwAUdHR2JjYxk+fDju7u7k6fNw93Cn76+9meg1jp9a/sDUmeNp3uon+v/eH9fhrgwfNRzfxb54eXkxd+5cvL29adGiBb6+vkyYMIHRo0fTrVs3Ro8ezcyZM+natSsjRoxg8+bNt6+m6/V6Lly4QFxcHJdMvZVQMUhmLAARdM2QvNyFXbsMBdzNDdq1g4CA4gX92DHT1Xr9LOywNZwqfNJH6Zgte02XOFaVmWPHlPG9fDn861/q+3GzZsr5yEgoiX42uTfhr7aGkh78JiSuVbq/C8JDIoJuZYigC6VBWloax44dIygoiJ49ezJo0CCcnZ05dOgQsbGxzJ07l3Xr1tGtWzfCw8PZtn0btt1sWLXWh1Ztv8HFrTdTZnjz4Yf9aPGzD40bLeSdd6bTpvVq/vPeFFq1WshX34ygZZtuRO0cR+tfvqWPaxf+WDGT1h1bsvvgLvz8/XBycmL8+PHMnj2bzMxM5syZQ7du3bCxscHOzo4hQ4bQu3dvBg0axLRp0/Dx8SEoKIiUlBRT/wpvI5mxAETQNUPyUgzJyYbyvWIFvPiiMg6ffRZ8fQ1vj4hQpgSbgpwrylT2ZeUM9zu/EAn52aapycKxqszo9cq2gaGh4OWlNEcsfE/u1085v2tXyTxXQQEcHQ/+ldSxvOIZSAiDnIySeQ7BahBBtzJE0IWS5Pr164SGhjJr1ix69epFo0aNaNSoEePHj6dnz56MGjWKkJAQli5dytJlS+kzwBGbrh2Z6t2D776ti3Ofn2j0/Ud0+nYey/r8wsYh33Js/DvEj/8XF8c9z+Uxz3F6xJv8/fvHrBnYFD+X7/Ge1Y8WP33KAOfmDB3cii++6MP8+Z44D/yZdraN2HIojBHjRuA50RMPDw/at2+Pvb09n332GQ0bNqRfv354e3szZ84cdu7cSUBAALNnzyY1NdXUv05AMmMRiKBrhuTlDvLzYcMGQwFv00Ydh//7n9LJvejtp0y0t7g+F07Nh4CqqtDs6AyJYZBt4q3eLBiry0xODkRFKWO9Tx81Cz/8oGbgcfZHv5OL22H1a8p4/ttJ6aOQtBayzG/GnmC+iKBbGSLoQkmQn5/P0aNH+f3333FxcWHw4MG3r0gvXrwYX19f3N3d8fb2Zqb3DEaNm8PnXwRT44VDdP1mLPU+eouaNV7hs3drY/tFPdy+d4B/6uBJnbHYFDkKqukI+vo/tPz4vwxo3Yx2Db9l6M/u7BvyP2Z3t8e5xUjcXX35vmE7eg5ohccMN1p1aMXufbuxt7fHw8MDHx8foqOjmT17Nj179mTmzJn07NmT33//ndjYWFP/aiUzloAIumZIXu7gxAlD+fb2hgoVlDFYsaLaIKvwiIxUpF5rCgogaT0EvazKeeSXcD4Erp/Rvh4rwiozc/WquqNB8+Zga2v4RVVYmDLzpKTIToP9Lsp4LrobQWZSyT2HYNGIoFsZIujC45KZmXm7kZuzszMrV67EwcGBkSNHMnr0aDZv3kxSUhITJ06heYv5vF5jLzafL2G9WyNyR1eAZjoWNHieTh/Xpfn7b/HT+2/Q6lMbqHxvOS88Aj9/h6/ffo1OH9elw4etibT5Xrntnzr4RgeOOuLcXudPp070+vF3WjR3Y0HQGFp2bIrf6mVErItg6NCheHt74+LiQkREBJs2bcLZ2ZmJEyeyfft2k/5+JTMWgAi6ZkheipCZCeHhhnue162rjsGOHY3XnieZSBjSD0H4B4ZN4c4FKs3ihFLFajOTnKyI+J0zSIo2SizJmXQFBZBxXBX0hFDY1hEOj4J86fIu3BsRdCtDBF14VPLz84mOjsbFxQU7Ozs6d+58W2jnzp3LoUOHcHNzY9iwsbiPOsnbrx1hXAc3Lk2qDrY6eEOVlcQ6VTkxqT3HPNsS7voj3vZfEf36E8Q/WZ7DL1Rm77+eYXONp9hT95+c+rgmJ995keMvVeb80+Xo8frz/N+rz9Hl87dZ4tSJwx1fKV7mn9HBpzqyHCsT5Nicnp0+YalfL7wWDOTH1j+wc/9OwsLCCA4OJiwsDFtbWwYOHIitrS1BQUGaZeROJDMWgAi6ZkheirBzp6Fw9O2rjr9XXlE6Vxe9fc8e09R57ZQiK9HDlentK/4BpxfCpV3SFE4DrDozp08XL+ezZ0NgoCLpJd08NusiXFh/q9fCrS+k1jWA9CMl+zyCRSGCbmWIoAuPQn5+PmvWrGHq1KkMHDiQzZs3M2bMGCZPnszo0aMZPXo0ubl59Ou3nrdf3cusbr3IHv4EfKKDCsbyfLNqeXYvG8bGjXPZdiiMA/F/E3splqBNQbh6uDLfbz6BoYFMmT6FyV6TGT5mOL1/683vo3+nY/cOtOvSiu+afEbrVt8wukktjr5cibzy97jyXl5H7FvlWOrej/5OP9Oq5cf4h3kxxNMZ+752jJkwhiFDhnDo0CHGjBlDv379mDp1KhcuXND8dy2ZsQBE0DVD8nKLuDhD4Vi4EKpVU8ffyJHGjeGysrSvMzPB8IpirDccmwwXd0i3a42w+swcOmSYhVGjlKw0aACrVyuzUEpi+7Wi5GfB9l8Mu7wvfwqOeECeCbc3FMwWEXQrQwRdeBQiIyP5/fffbwt5VlYWK1asYMOGDaxZswYbm474+4/jt5aeZA+pBHWLF+Vzrz3LcZeuHD+2lZTrKeTp84yeKyYmhiVLluDj44OnpyfOzs707dsXLy8vNm7cSGpqKrm5uWzfsZ0JUyYwbso4xnuNp9+vDvT+7/8x5+2X2FGjCjcrlzN47sP/rIRX62b88tH7dP2yAa0/Dyasb0P6t/8V59/cGOHlim+oL31/7YuDgwOOjo706dOHLVu2kFMS27A8IJIZC0AEXTMkLyhT2wvX1xZObf/4Y3Xsffed8RXD+Hjt67yZrDSAKyroCaGQ+hcU81kglA5Wn5mCAti9W8lBQAA8/bRh47iQEOULrJL+O7mgAE7MhsDnDEV9XQNI21+yzyWUeUTQrQwRdOFhyMrKIiQkBHt7e4YNG8akSZOws7NjwYIFhIWFMX/+fE4c20SbVl/SvmUTZrdqaCQml6uVJ7xebfaELST5ejIFBQX3fV69Xk9iYiJnzpy5517ler2euLg4jhw5wsmTJ7ly5Qpr16/ll66/0MGmNZ6tGhH49otcrF6R3d+/S5+GH/BFrRrYNWjG5I4D4Dkd/FvHjTbVWGrbAqdOQ+jW3wm3aW4sDFrIL51+wdHRkREjRhATE4NeX/rTLyUzFoAIumZYfV4KCoyntg8fro676tXBz8/w9pLaVuphyLoEh0fDji6GjbOSo2Q7NY2x+syA0hjxr7+UPIwcCeXLq5lp2VKR9HXr4Pr1kn/ua2dgw/fGV9MPucvadOE2IuhWhgi68KAkJSXh4eFB79696datGxEREZw7d46ZM2eycuVK3EcsYdjvw+jfpx22PzWiY70PsGlQi0tvVVTWmT9bkcBWjfBb6kt2trZ/gF24cIFZs2bh7e3NvPnz6O/SH1v7TjT58Ws+/qAWtWt8wYmerxpL1Ns6klu8xLSOXbC1GUGjNk0Z4jmE7o7dcXd3J86fSBUAACAASURBVCgoiKxSnhYqmbEARNA1w+rzcvKk8dXx4GBwdITKlWHYMNNPbc/JgGMT1P2hNzWF86shKQJyr2lbiyCZKSQnBzZuVHLh4gLlisy669hRkfTISLhxo+Sfu0APsTOV/gtFRX3t/+BqCW75JpRZRNCtDBF04X4UFBSwdetWJkyYQI8ePQgICKBv3764u7vj7+/Pn38uopfjNjp86od/9x8Z07kNrf9Xi/b13+Sbd2vQ6eN/8ec3H+Hvv4SYmBjy8kwzdfHmzZvs37+flStXMn/+fCZNmsT8+fOZv2g+No42DPvpfeJfqnTXNesF7+s41PxdlsxsyTif3+jn0Rf3Se4sDVhKamoqZ8+eZf/+/ezatYuYmBhyc0vmm2/JjAUggq4ZVp2X9HSlK3VxTa9CQ2HxYuNzCQna1ph3A45PBf8qhlN6E0JkX2gTYdWZuZPMTEXC72yqqNNBu3aKpEdFwc1SWid+PQ42NlazseY/ygyTtH0ys8TKEUG3MkTQhftx+PBhfHx88PPzw8/PD4CIiAgWLVrEwoX+fPP5Aby79gI7HVTSEdDsU3759C26/lgfj3G/czHD/EXk4sWLLFy4kA42HRjt2Jkln7xK0gvFy/qVZ8rj+MOnNP72PZr+XI8677/DV02+okXbFjg5OTF9+nTmzZuHr68vp0+ffuzaJDMWgAi6ZlhtXvLyYMOGu8t5cYfWXdvzs+DELAiopgpIxMdwfhXc1L4Bp6BgtZm5G9evK9PZQ0OhRw/D9+0WLRRJ37ix9CQd4MwiWP0vODlXXf6RFKE0VRSsEhF0K0MEXbgXly9fZtiwYQwdOpQhQ4YwbNgwEhISuHDhAuPH+/FJ3Wj2uH0EH6sfYFef19G1bUN2H9ityRrtkkKv1xMcHIyrqysuLi5MmjGJTStmEvrZq1x99onbP9/GN57Drt7/aPJOLXo1+ZJm//sTr+Y/06btQIZ4jcJ1rCuz/pjF5MmT+e2339i1a9dj/R4kMxaACLpmWGVeCgrg778N5XvCBKUb9d3kPDJSmdKrFflZcGq+sra2UM7DP4D4lXDjnHZ1CEZYZWbuR0aGsvwjNBScnAzfu5s1U85HRZXOdPdC8nPgyhHDBorRw2FzM5n2boWIoFsZIujC3Th79iwzZsyge/fuhISEEBAQgJOTEzNnzuSPP47w/Qd/kTL8RfinoXhs+fJdrl8um1MVCwoK2LFjB2PGjKFr165Mnz4d2y62DB01GN/BXdnwYXVWdfkWuy/fpccXHzC8kTsRvRsrW8e9qCPh838yo1lLvvmuO25Th9G9b3c6d+3MnDlzSExMfKSaJDMWgAi6ZlhlXo4fN5RvX1/4xz/UBldBQYa3h4WV/N7O9yLvJpxeACueLTJ1ty6cWwHXHn+WkfB4WGVmHoSMDPVKurOzsia9fHnDPg7r15d8d/c7ybqkNE+MXwlBryj5CXgS9rtA9pXSfW7BbBBBtzJE0IXiyMzMZPbs2fz5559Mnz6dpKQksrKy+OOPP+jTaz12X/9Bzm8VoVqRK+dVdYS7OD5QV3Zz58qVK0yePBlXV1d69+7Nhg0b2L17N+M9xzN1zlRa/tIcby9nerV0J69beSP5KnhFx9kvXmNa8zZ8+XUnmrRpStvObVm8fDEXH1LMJDMWgAi6ZlhdXhISDOU7KAhq11bH2fvvK3s5F73P8ePa1ZeXCbFesPxpVc5D60BcAFw/o10dwl2xusw8DNeuqWvSf/8devc2no2ydi2kpJRuHfpciPNXxLxoE7ngN5Rp8LI+3eIRQbcyRNCFO0lLS8PLy4suXbowc+ZM7Ozs8PT0JDk5Gfeh8Uy16QddlMZphX8Enn2xMmGzvUzWAK40yM7OZv369bi6utKlSxccHR3p27cvK1asYMaMGUQfjebXIb/i+fP/kVjrWQrKFdNcTqej4AUdFxq8wNgfXubrZp/TqHUjJs6ZyNGTRx+oDsmMBSCCrhlWlZfLl2HNGsP9zhsW2drypZdg6VJDmdi+HbRaepR3Ay5EQkgtVShCakGcn8i5GWFVmXkUMjNh8+a7LxdZtEiZlVICPWfuy7WzsPknQ0kv7OWQFKEsdxEsEhF0K0MEXSjK5cuXWbhwIW5ubsyfP59Lly4RHBxM79698RwzkiX9bOE7Q9HYVbM6+7dssSg5L0paWhqzZs3Czs6OgQMHsmfPHgYNGsTo0aPx9PRk+vTpZFzLwK1Pd5Z89wYX3ni6WFk/8tIT9Gv2GW2b1OezLz/g06/7YNvfCb/1fpxOPU1OfvHrQSUzFoAIumZYTV6uXlXXyBYeNjbq+KpUCaZNM7w9Kkq7deeFcp4QCqcWQOALEP6+Mq0989GW+wilg9Vk5nHIyzPu8xAaCvb28NRTMHas8v/R0dpI8oX1EPZ/d4h6edjcHK4cK/3nFzRHBN3KEEEXCklJScHDwwNnZ2cGDhzIuHHjSElJQa/XEx4cQPsWDXH+rg4FFVXJ2NroM9KsQDTy8/PZuHEjPXv2ZNq0abi5ueHp6Ul6ejoLFy4kKioKe3t7Fi5cSFB4EJ1//JYNHT7k3BvPoK+g/K7C/1OTTh+9j32DD2n+7leMb+/KzfeqsLvBuwz/wYYBo6cxL3Q+vkG+BK8JZuPGjURHR5OSkiKZKeuIoGuGVXzGFN0KqvDo189wfLm4GN4eHl76a2ULyUmHpHWGza1Ozru1lZqMe3PDKjJTEhQUwLFjaqbc3dW90suXVzq+h4TArl1QQtus3rsePcR6w8oXDUV90w9waTfkXiv9GgTNEEG3MkTQBYCjR48ybdo0HBwcWL16NX5+fjg6OjJz5kwO79/B1jXzmNDThg713mbRdy+RU1FHcOc2ZGZmmrp0zSgoKCAkJIRFixaxZ88efHx8CA8PZ8OGDfTt25cmTZowZMgQXFxcsLW1ZdGiRQz6fRDTp3mwfmQHejerj2Orzwh1aUOT/3Mnzvl1gz+o9c+V40zd15j/6be0/6Ezdi69cJ/izkyfmRw4eMDUP77wOIiga4bFf8Zcv65cCS8q38OGKYJQOLa6dTNuCpecrE19mQmw2xHOBRoK+oX1kJOhTQ3CQ2HxmSlp4uOVpSUBAfDhh4bv699+C8uXK9uwXdGogVvOddg3AAKqgl+FW1+GhUJiGKTtV2azCGUeEXQrQwRduHTpElOmTGH+/PlMnTqVGzdukJ2dzaRJgXT8zg9HG3v8B/XkyJiOuLdrwKzJo1g8fhzJWv3BZ0ZkZ2cTHh6Oj48P06ZNo1evXtjY2GBjY0OrVq2oX78+7du3x9bWlvXr1/Pnn3/y999/ExkZSSebToRtDiNk12oaft+N4z+8WuyadXQ6KKcj580nOPb5G8zq+QEOv9ozP2w+MRdjuJYt34qXOUTQNcOiP2OKdpUuehWvYkV1XDVvrlzFK3qfuDht6ru0B9b+V10TG79KEYXkDSIJZoxFZ6a0uHRJyeLq1dCmjeF7+6uvwpQpyhdjJ09qty78xjk4Oh4S1xh+Oba3L+yyg+tx2tQhlAoi6FaGCLp1Ex8fz6hRo7C3t2fChAnY2NjcmrJ9mV9/8ia/YzniPnsV54afM6dXUzq1a82YMWM4dsy61zhdunSJffv2sWvXLrZs2cK+ffs4dOgQy5cvZ8qUKQwcOJAVK1YwefJkxo4dy9ixY3F3d+fGjRvMmzcPR0dH4i7EMdipOau+fZ3kt5+m4IniZf3K0+Xp2OQ7PnmvFi1bfI2t7Uxmuo9m+/G9nE47TeqNVPL0lrn+32IQQdcMi/2MSU1VukXfuQbW2xuefVYZU199ZdyxXYv36gI9nAtQt4BaplOu5B0ZAxd3SIdpM8diM1PaZGUpTRdDQ8HVFapUUd/fK1QAW1sljzt3KvfVivwsZf/0xHBla7bA6re2ZquqiPqNc9rVIpQYIuhWhgi69RIXF4ePjw9ubm6sWrWKq1evMmPGDLrY+jKnSw/4UpWJ0KYvMNp9GEOGDHnobcKsCb1ez5EjR/D09MTGxobOnTvj7OzM9u3bmTp1KiEhITg7O7NgwQIuXrxIly5dCAsLIzwiHDvbtkQN/okD9Wtw/cXK6jr/WtUZ0OJHfnq3Dh3/+z59G0+C13UUPK3jYu1/sOOz91hk2wG/FSs4fOG4CLs5IoKuGRb5GXPmjHI17m5dpL29oVkzYzk/eLD0a8vLhMOjwL+KKucrnoUj4yAjRrpKlwEsMjNaUXRd+ty5hlsc6nRQty4sXqxcbS/trdjuJD8bTi8Ev4qGa9QDqsJuB7h5Qdt6hMdCBN3KEEG3TlJSUhgyZAhDhgxh4MCBzJ07l2vXrjN+ZAxb+30BbxvKxMrv/4uPjw8HDsha6Adlz549t7erc3Z2plOnTnh4eNxeu75kyRK6du3K+fPnmTdvHn379uXmzZvMmDGDPn37cDZ6Ez4N32RW52Ys8x5E96b1aPtJewIdW0NxW7qV05Hz8hPEvVeDiK++wMfpR6Z5j2POojmsjVrLxUsihCZDBF0zLOozJjcXDhwwlO6QEFi16u6yXnho0U36xnn4q63hH/8hteDMYshKLd3nFkoMi8qMqUhJUSR81Spo315tHlezJqxcaZhLLRrIFeXqSdjWoXhR3/4LXN6nbT3CIyGCbmWIoFsf0dHRjB8/Hnt7e8LDw5k1axZdu/ak049hnO/3L3helYicJ3RMbPgJgwcPZu/evaYuvcyRk5PDX3/9hYeHB05OTvTt25fffvsNBwcHfHx8mDx5Mhs2bMDd3Z1BgwZx7do1nJ2d8fb25ujRo9jY2LBt2zYClgfQqWsnfPyXMr5bE5Leepb8auXuvob91jHi/dp0//k7Wjf9nE/qOeLevguT7RyYv8Sfo+djuJJ1Ra62a4EIumZYzGdMSopxp/bAQGWf8/r1ja+W3ynnpUmBHhKCIfhNwz/4o75VtlbLs57moZaAxWTG1GRlwe7dSgbHjYMaNcDLyzifkZHaX00HuBYHO2zB74k7tmcrB5uaQo5GTe2ER0IE3coQQbceMjMzCQ8Px8HBgT59+tCrVy9OnDjBsWMZ2DdZwM22laGCKhCXnymPd6/ueHh4kJoqV0Meh6ysLA4cOMC4ceNwcHCgbdu2+Pj4MGzYMBwcHAgICMDHx4elS5diY2NDVFQU3t7eODo6cvz4cYYPH86kSZPIy8vD2dmZadOmceJMDEO7NCWw6Ycc/t8rXP9XFQoqGEpg/08+oGHtt/j168+oV3Mu2Bauj9OR888nSHr3Rf6u93+sbvgVvl26sHTKDKJPxHI58zJXrl/hypUrZGRkEBcXR1xcHDdv3jT1r7JsIoKuGWX+M+bGDdizx/iP+rlz4c031fHTrFnxcn78eOnWl3sVzi41/CPfr6IyZTbtoCLvQpmizGfG3EhMVBvI3ZnPcePg55/Bzw/27tV2bXohN+IVUfevrGZ4ayulodzlPco2iYLZIYJuZYigWz65ubns3LmTYcOG8csvv+Dq6kpoaCjOzs54enrzp20X+K+hPJx48xn6tG3N1KlTidOqA7CVkJiYyPTp0+nTpw9jxozB3d2d2bNnM2XKFNq3b8/3339P//79cXJywsnJCV9fX4YNG8b+/fs5fvw4nTt3ZteuXezatQsbGxv279/PoEGDGDNmDP7L5jGqVV02tajN2o+rM8CpJeN+bUuXxvVp/uFC+PbeV9zR6eAJHbtqPYWNbSt+7vgTDVt8T+OGE/ittR1d2g+g18CprAyP4PjZ46RcTkGvlz/I74sIumaU2c+Y7Gw4ckTZvunOKe0DBkC1aurYqVQJBg40/uP/zJnSrfH6GbVDdNTXyh/2q1+H2JmQmVi6zy2UGmU2M+ZMTg7s32+Yz9Wr1S/Znn4aevZUekvExkKeCWayZV2Eg24Q9DKc+sOw83viGu3rEe6JCLqVIYJu2Zw9e5YFCxbQo0cPXFxcsLOzY9iwYQQHBzN/ng/zvMZy8t0XDMRh9Re1GDV8OGPHjuXaNdnSqzQoKCjgyJEjLFu2jOnTp9O/f3/s7Ozo27cv7du35+uvv8bZ2RkHBwfWrVvHwoULiY6OZv78+XTr1o2cnBwmTJjAr7/+SnJyMs7OzixbtoyVK1fSr18/4uLi6NOnDzNmzODcuXN06NgBr5lzCPv5v5x+53kyX65sdLW96BH+YkW+ePN1fninFm4Nv8bt5zHwonJbwZPK1fe0N//Bmf+rwd4P6rCu/v9Y+t1XzLb9DN8/JrN251piU2NJupZExs0Mbmbd5Ny5c+zdu5d9+/YRFxdHWloaWaa4emAKRNA1o8x9xmRnK1e9w8ONhXvxYmjQwHDc1KgBM2ca3i8ionT3Oc/Lgou7Df+Aj/ODbR0hZatsoVbGKXOZKUukpEBUlJLTadOUL9eK5vm112D4cCXDZ8+apqligR5yMiDtgPoF3A5b7esQ7okIupUhgm6Z5OTksHnzZvr27cuvv/5Kv379OH78OAsWLCA8PJw/F8zj93729G7xAyMbv0vuU+W5/lR5VvzWnXHjxuHj48PZs2dN/WNYPAUFBVy5coW0tDSuXbtGamoqly9fJjg4mLlz5zJy5EhmzZqFl5cXrq6ujBs3jrFjx7J//34cHBxYunQpJ0+epEuXLmzfvh1fX1/69+/PqVOncHV1Zd68eezZs4du3bpx5MgRJk+ezIABA7h58yYOXW3xd3ckxLEpIV++xcGPapBY6x9cf7kCgR++TtP67/Jbiy+w/6ox8+zsi29MV9y695qv0vCTD/im3gd8/MEANtl9Rnrtp4l/7yWiP3yDjfXfZcUXHzK34ZdMbPEjI21tmTjSg4BVvmzZtYXDRw+TnX33bZlSUlI4duwYsbGxxMfHk5iYqNn71yMjgq4ZZeIzJjcXEhJg167iu7MHBkLnzlC1quGY+fZbCAgwvO+WLcq0+NKgcK152Duwt5+hoCdHwc1S/FJA0IwykZmyjF4PJ04oX8ItWABff238eVC7Nri7w6ZNpv1syM+Ga6dga2vT1SAUiwi6lSGCbnmcPXuWadOm4eDgwNChQ5kzZw69evVizpx5ONksY0b3gQTO8GDAD1/yh913/N6tKQOafoLXMDdsbW0ZPXo0p06dMvWPYdXk5eVx8OBBFixYgIuLC/b29rRo0YIZM2bQu3dvXFxc8PDwYMOGDQQFBWFra0tMTAzTpk2jV69epKamMmDAAP744w9Wr15N7969OXv2LD179uSPP/7g8OHDdOvWjd27d7N8+XLs7Ow4deoUjo6OrFq1irlz59Krdy8OnzxM+07dmO5iz5kPX+HyG0+S81wFCireXdAH//t1mr5Ti0a13+Lfz7tw2bH6A4l9XgUdP3zTgM6dW9ClW1taN1/G1tYfs+fTukR+XZ/ljRsyvfFPDGnZib5d+9G5sxM2Np3p168fgwcPZuTIkaxYsYIjR46Qk5PzQL9nzabni6Brhtl9xuj1cP26coX75EllT+R7bZkWEqJ0fi46Vp55Btzcim8GV1pjOP0IbGqiNJBapoPlTynd2RPDIOMY6PNL53kFzTG7zFgqhbNlIiJg0iSoU8f4c6FOHRg1Stlf3RSN5AqRXhJmhwi6lSGCbhno9XpOnTrFokWLsLOzo0ePHnTo0IEJEyYQFBSE51h//ujem/wvylPwtI6JLdvgafsNK/9U1ph7eHgwdepUJkyYwI3SuhojPBLJycns3buXiRMn0rNnT/r06UP//v1xc3OjS5cuzJw5kwkTJjB8+HC8vLyYNGkSwcHB2NvbM3/+fKZNm4aTkxPbt2+/3RU+JCQEe3t7Ll68yOjRoxk8eDDHjh2jZ8+ebNmyhXnz5uHq6srx48fp3bs3y5cvZ8OGDdjZ2XH69GmGDR3KlKH9ORgwnuk/f0Bk52/Z1PA/RDV4nsglXrRp1QT3QY5886kXGTZPPZCgZ1bRYV//fzSq/W9+qlubr+vMgG/u8W+e0ZH7ekWuvFeVWQ1qYN+vO+1s2tHNoRt2NkOZM2M6x48dJysr6/ZV96ioKIKDg5k+fTqjRo1i2rRpzJkzh8WLF7Nz504uXLhAXl5eyYu7CLpmlPpnTG6u0tjpxg1IT1f+iE5IUNZ/x8bC4cNKk7e//oL16++/HVpxR/v2yhgpXx5++EGZ6l709jVrID6+dH6+7Cvwdy/Dfc2X6WBVDTizSGkSJ1gU8neZxuTlwalTiqgPHgxvvGH42dCggZr1rVtLd/mKUGYQQbcyRNDLNhkZGWzcuJFp06bRtWtXOnToQOvWrQkMDMTT0xMfnwAG/TKBi+2eh2fUD4C495+jn3MfZs2axfTp029fWT1//rypfyThDopmJj4+nrVr197eJq9p06Z069YNd3d3evTogY+PD2vWrMHe3p5mzZrRokULOnfuTIcOHfDw8GDChAm3x0bfvn3JyMigR48eLFiwgIMHD2JjY8PBgweZPXs2ffv25eTJkwwYMIDAwECWLVtG//79iY2NxdnZGV9fX3bu3Im9vT1Hjx5l8uTJDBw4kLi4OOzt7fl/9u47rup68eP4saF1zfbuVrdblrdly6xsq7lRUGQc9t57b2WITBmCgCjKEGUpiiJDEUVBRcG9UIZ7ggMX8Pr98U2MsNvx/kpRP8/H4/OogM/h2+F8zvm+P7OoqIjp06fj4uTEvnVleE74hQJHI/LVR5D7/YdsHv4ZWz99nbr3X+TkO/2ofrsvjuYa6Kr+gt7EoWh+HwefKTatftUb/XAb/i1jPnmfSUO+xG+iFzwno+NZGa1v9aFp4AtUfd2fzJ8H4z9iFMYqBlhZ+mBsbIq5uTmGhoaMHTsWDQ0NjI2N8fLyYvr06aSnp5OXl0dJSQmbNm2iqamJy5cvc/XqVY4ePcrOnTspKytj5cqVlJSUsHHjRurr6zt3v7906dfjpv4koLe3t9PY2Mju3bvZv38/DQ0NNDY20tLSwrlz52htbaWlpYWzZ89y/fp1rl271q0T4dq1a7S1tXHmzBmOHDlCc3Mzly9ffnDW+f9K4c+Y69elEa2WFulvcfiwFLJ375ZC9ubN0hT0NWugpES6mf5vI9+3WxISwNAQPvwQEhO7fi81FYYMgdjY7vUqK6UR+b/a1fOwzQ+yX+gazBf2hY0WcLH+r/+dQo8g7svukuvXpVk1BQXSDJkbM2eiorq2+RvnqB8+/PfNmBF6PBHQHzAioN97Ojo6OHToEFlZWTg7OyOXy1FRUcHU1JTExESmTZtGXNxc9CeEUz3hE3ilazC4/NhDlDtMxsnREScnJ0xMTEhLSxMbwvVQf9Rm2traqKmpISwsjODgYOLj43FwcEAul6Ojo4O1tTWqqqqoq6ujqamJmZkZbm5uqKurEx4eTlBQENOmTcPS0pLMzExycnIwNDRkzZo1REZGYmNjQ11dHfr6+mRkZBAaGoqdnR11dXXI5XJKS0vJzc3FzMyMxsZG3NzcCAkJYfPmzRgbG1NdXU1oaCheXl7U1tZibm5OSUkJKSkp2NnZsWfPHuzt7Zk7d27nY65du5aQkBAcHBzYWLkOd9VvWGw+gfShH1A69AOqv3qLAwOe58zrT3DlqUfo+HVdfOYHryIf+R3R5upM+Hw4yfp6f75m/kkZp998lOnjhxMeE4KFlQVaWi7oy+0YM1YVPX0DRowYgbKyMlpaWujq6qKtrd353xoaGkyePBkDAwNsbGwwNTVFXV0dFRUVtLW1MTU1xc7ODltbW0JdXLr9/g35+eTk5BAVFYWVlRVOTk7Y2tqio6ODlpYW+vr66OjooK+vj4GBAebm5tja2mJiYoKDgwNeXl74+Pjg5+eHh4cHrq6umJiYYGlpib29PcbGxlhYWBAYGMj06dNJS0tj06ZNNDc334VX8R3S3s7ZI0c4e+iQNOrU2CjdANfUSFPLV62SgvZfFbIVKZmZ0g23hwcYGMB338GLL3Z9PUye/OePU1r690x5bW+D7f6Q9dzvzkZ+CMqU4PRmMd31Pifuy+6ya9durlEPDu7e9q2spM3lfvlF6rTbtevv23dC6LFEQH/AiIB+77h27RobN24kLi4OHR0ddHR0UFNTIyUlhcDAQGbOnIm9vSuOJnNZqzEE3ukeSio/eA4XPS0iIyMxMTEhNjaWNWvW0HE3dg4VFPJnbaa9vZ2DBw9SUVFBRUUFNTU1NDQ0cPr0aQBOnDhBaWkpwcHB2NjYYGBggFwuZ/LkySgrK2NnZ4e6ujrTp08nJSUFU1NTfHx8SE5OZurUqaipqeHs7IyXlxcWFhbExsbi4ODAsmXLiIqKwtTUlHPnzqGvr09aWhoFBQXo6Ohw7NgxgoKCcHJyoq6uDlNTUwoKCpg1axbOzs7s2LEDQ0NDCgoKWLx4McbGxtTV1eHm5kZoaCjr1q3D1NSUmpoaXFxcCA0NpaqqCkNDQ7Zu3UpERAQeLi4c37IRN0N9EhIS2L17N8oq5swwsuLcy3251vfhPx19D/v4P6h89j6zreR81t+f02bPQF8Z1956mJOfPU3tj/9mydhBhE4ajq2BBpM0VZmoOgkNDQ08PDyIjo5GT08Pf39/QkJC0NXVxc7ODrlcjqamJnZ2dmgOH97t944eNAglJSXGjRuHl5cXVlZWaGtrk5SUhL29PVpaWjg7O6OmptZ55J6qqio+Pj6oq6t3dr6MGDECXV1dxo8fj52dHc7OzkyePJnAwEBcXFxQUVHB3NwcU1NTPDw8SEhIoLy8/N5r8+3t0k3piRPSbse7dsGWLdIod1kZFBXB0qWcXbKEs0uW/HUBe9EimDkTQkKktaGurmBrCyYmoKsrhWslpVufS36rzaBuVT766Ja/u2NJPu3LC+moOwjt7XR0QFubdD9/o1y9enPG/cWLcOkStLZKX7tyRfr38+ehuVkqLS3SAHzrpTaunKnnakMRbWWTu4TzjuVf0NawlOtXr3P1qvQ4N8rVq9I13Hj5dHSIQb17nbgv6yHa2qROxfLyrntSvPFG1/eLd96R3n+WLpWW19yNI9qEqp/JVgAAIABJREFUO04E9AeMCOg9W3t7O/X19SxduhQnJyfkcjlKSko4Ojoye/Zs3N3dCQsLw9nZmePHjxNmZkfHB91vAA+88Ti5U50IDAxk4sSJmJubk5KSwtGjR+/2/6LwJ/7KNtPa2srevXspLi4mLS2N6dOnY2Fh0Rn2nJyccHNzw9PTExsbG0aNGsXw4cMZMmQISkpKna+dhIQEjIyM8PDwwM/Pj6CgIGxtbYmPjyc+Ph5LS0uqqqoIDAzEzc2NmpoadHV1ycrKIiQkBFtbWyorK5HL5VRVVUlT4V1cOHv2LKampqSnp7NixQqMjIyor68nKCgIV1dXdu3ahbGxMWVlZYSFheHh4cGOHTvQ19dn9erVZGRkYGRkRENDAw4ODiQkJJC/IJ2paqMotdBgxZAB7Pzkn5z811NcefIRkMnwVldCY+gQivys+fC1GND+85H3trd6UfXV08TFRWJmZsratWsx0QvFxdqK3NzF6OsbMGfOHEJDQ3Fzc2P2tGndOwZcXdHV1cXX15fp06czbdo00tPTcXBwIDExkezsbAwMDFi5ciVeXl74+vqSmZmJlZUViYmJeHt74+bmxvz58zEyMuqcPePt7U1mZiY+Pj5EREQQGhpKdnY2u3btIj4+nlWrVpGYmEhlZeVf8pr6y9zYTO3o0Zuj3pWVUvi+jVHvWwb0vDzw95fCtYUFaGuDsjIMGwbffAOffiptzvT661IQ/21dT0+FQnZHr14cnbWEI7PyaYqTyvmfxt3yZ9sf7c2Ftz7kyHBddljEssVvCTX++WwPymfr1Hw2+eSzfmoxJYl1LM27/tcN6C/pYG1uORU5JWzIXUFVbj5VuflU56TRlv44ZxZ8xebsdJYtuXzbj71smfRnKiqSBvvLyqSVAcuXS6W0FCoqpD9pVZW0TL+yUupf2bBB+veNG6G2VlrKv2+f9M89e6TluvX1UnZpaLj574cPSxMlTpyAU6fg9GmpnD0rdVSIjgPFiPuyHqi5WWoMeXkwblz3Ex1kMujVS+rcs7KSGtuvnfLC/UkE9AeMCOg908mTJyksLCQ8PBwdHR3U1dWZNGkSCQkJeHp6EhERgb29PUuWLKW6uhpNdXXmJsaR6mnDtadujhoef7EPSz310dfTw8rKCrlcTlxcnFhrfg/5u9vMjfXPS5cuJT4+noSEhM7N5hYuXEhVVRVVVVWkpaURERGBubk5WlpaaGtrI5fLmTBhAr/88gu6urooKSnh4eFBSEgIBgYGxMbGkp6ejqmpKaamplhZWaGvr4+2tjY+Pj4EBAQQGBiIg4MDISEh1NbWoq2tzYoVKzo3PDxx4gSzZs3CxMSExsZGdHR0WLBgAQEBATg5OVFQUIBcLufo0aO4ubkREBBAU1MTenp6rFy5kmXLlmFlZcXOnTtxd3cnPDyciooKLCwsqN2wAV8fH6ZMmcK2bduYpOTPlpEDuPLUo38ayBpeeBTf8cMY+ekAsnyt0flhBnwogz4y2l+VcWlAH45//iy7vnmdLUM/6lZ///r1yOVyysrK8Pf3x8nJiYsXL6Kvr09qaiqlpaXo6upy4MAB3NzcmDp1Kjt37kQul7N+/XoCAwNxdnZmz549aGtrs27dus5lCFeuXMHY2JhZs2Zx8OBBEhISOHfuHIsWLaK4uJhNmzaRnJz8X4+z+8t0dEjDuS0tUopqbJRS19atUiKrqJBuLhVZ3z1r1h8H7cGD4f33aXvjDVrl8s46bXn5XFuUp9hItkzGEQMvdodIYbnGP589uoEK193kmkWVV35nqRtnS8sbH3Dy459p+l6DA0p2bDeaQZVHXpefu1EqfQpYE7GZwnnHyV/S8ZcF84Il59mWHcP5jAGQLuNo5gQqc/I7A/r63CJWZW0ga+FVFi2is2RlSctfc3KknLB48V83MeFOlaVLpZnDK1ZIx1GvXg1r10qdAps23Sxbt0qTMurqpEHJ48fhzBkpJ124IL2E2+7TjevFfVkP1tYGR45IL1wrK3j77Vu//zz8MPj4SD9XVydNdRHuKyKgP2BEQL+7rl+/zuHDh6mtraWoqIjExETc3Nw6p8cqKSlhZ2dHTEwMXl5eBAUF4enpSXlpPfET1Nn004dsXJmL6neD0R8ykOrppiz+/h1OP9ubOeMG4+ftzfz587GwsCAsLIyVK1fee1NbH3B3ss20t7dz/vz5P9zJ//r161y4cIHGxkY2bdpEcXEx2dnZpKSkMHXqVKytrZHL5RgYGGBiYoKZmRn6+vqd6+JHjRrF6NGjUVJSQkVFBRMTE1RUVLC0tERHRwc3Nzd8fHxwdHQkJiaG6OhoUlJSmDFjBoGBgfj5+WFiYoKjoyP6+vro6uri6uqKtbU1SUlJWFhYkJ6ezsqVK5HL5dTU1JCbm4uOjg6nTp0iICAAV1dXKioq0NHRYefOndjY2BAREUFhYSE6OjocP36cgIAApri4sH9hBrOHDmHD0G/Y+eFbHP3n01x+sjcdvWRsee9FYt2tmPTDVyTbGeAwOqjbfg//rRTHTEFHTYmI4BRSjSdy7tO+HB3yHHt+eoXqMW+zTm0geaofUuo8jtkmP5LgPJ7S3GjMTEyorq4mKCgIHx8fampqMDc3p7y8nNjYWFxdXdm9eze2trYsWLCACxcukJCQQGNjIxUVFSxatIhLly6RkJDAgQMH/pcXiTTX+eJFOHdOSjINDdIaytpaKXSvXy9trvbrtPMuiSk1FYKCwNsbHBzAzEw683vCBBg6tDNo8/nn3dJW+5eDFXpuTw0extap+Wz0vhl+rz/W90/rtfV+nH0T3TrrrHEtYLk8lbp3R7Lz/Yls+ViXik8tKP3CmWVf+pI1OIR5X8Ux65sUtplEdwneIapVqH9Zx8TPDzFuYAMjP2zi5/8c4bv+xxj87xN89uYpPn3jNOrfNLA6epsUyvPayM+XBvXfekvaM+r11+Gf/4TXXoNXXoGXX5aWsD//vNRH8dunaO5ceOIJ6NsXnnmyFfUhWWTbTaR1btcd2U/PepYFkSspz6ti5eJj5C/pwMZGsZfu0093D8FDh0oDfP/4h/S7+/WTToZ76il45hl49lnpeseP717344+hf3/4z3+kwcBPP4UvvpA2sv72W/jxR+nxfz+xYd48kMulVQaGhmBqKj0ftrbSy8rFRVr27+MjdTD8/iUYFyft05ecLD3WggVSJ4QiMwVWrpS2M1i3Tgr327ZJL/+GBilLHT8u9UVduHBvzD4W92X3iMuXpRdaQoK0tOaVV7oG9PT0rj1TWVnS1BWxXv2+IAL6A0YE9Dvn4sWL7Nu3j/LychYvXkx4eDgODg6YmZmhqamJsrIyEyZMwNjYGBUVFby8vHBzc2PmzJlYWFiQvWgVM2wC2TTsQ9re6tX5xpw0cTTRNpPRVh3LwsxMwoKC2FxVhbOzM8bGxujr6zNjxgwOHTp0t58C4X9wL7WZ1tZWGhsbWbduHcuWLSM9PZ309HSKioqorKyksbGRY8eOsW3bNrKzs5kxY0bnjvJjx45FSUkJe3t7TExMiIyMZNGiRRgaGqKlpYWPjw+TJk1CRUWFUaNGMXLkSEaPHs2YMWMYM2YMqqqqhIWFYWZmRnR0NDExMaSlpZGYmIiDgwMFBQUEBwfj5uZGdHR050i8nZ0dU6dOJTIyEgsLCw4dOoSDgwOBgYHU1NR0Bv2ZM2diZWVFS0sLVsbGzP21w8vQ0JBdu/ZgqelBY//nufjcY7Q/2utPk06u2liUP/oP2l9YUGHylcLB3v7nb1i/cBZeFnqM+G4O9fJXOfdmX078+yka3nmeve++zPYP/sWG9//Fus/+w7rvvmD5kA/Z6aJHSW4uuampdJw9S0RAFEWethyc4sgRfxdOBXjQEuhDa9BUrk/xpcPDAxwdpVGbmTOlUe6CAunmLytLWnP9yy/w00/w/fdSqvzySxg4kI7+/el49VU6nn6aK5FhXMrJ7CytlqYK/X9ee/wfFHvHssIjhqXOsYRpLGLz68P+tN6Vh/tQ9/HXpFtEkGYRTqpZOB/+s56Qfh5M6+uFc98IDP4xj3H/KOCbxyt5r88+XnzkJI/2uorb2FwyLCJJt4gg3SICl7E5iv5ZWGgVS5Z1LDnWceTYxDHu01qF6n3w0TVSFzWTkXWBhTmXyMy5xOtvtCtUV0/vd8Fz7kXGf57HfHMtzs9+4nebvkll49Qv0P8hmZlR57vUVTSgP/ts99D63XeK1R06tHvdvn/eb4JMJr0Uf1svPFzhJkNaWte6cvkf/+xjj0mdCq+9JnUQ/P56ra2l/iQTE6kzwM1N2pogNFTav2vOnO5h/7dT/DdtujmN/8ZehmfOSBnq2rW78759L33GCL9qbpZeRElJ0iyiX365dc+ZTCYFeWVliImR1ocI9yQR0B8wIqD/tS5cuMCxY8fYunUrpaWlLFq0iNmzZzN16lTs7OwwNjZGLpczbtw4lJWVsbe3R1VVFV9fX3x8fPD29sbGxobMzExCQkLQ03Ugc1oGZb8M4spnvaF39zuKDV/9i/nz55OYmIivry+TJ0/G2NgYPT094uPjqa6uvttPi/D/cL+3matXr3L16lVaWlpYvnw5M2fOJDIyEisrK7S0tLCyssLd3R1HR0eioqJYvnw51dXV1NfXs3v3bgoLC4mPj8fExARtbW3U1NTw8vJizpw56Ojo4OLiQkFBAebm5ujo6ODk5MTo0aMZNWoUP/74Y+eGax4eHgQFBeHg4EBQUBABAQFERkZibm5OYWFh5+7yFRUVODo6dnYg6OjoUF1djY2NDcHBwSQlJWFkaMieDevw1VAhQW0CxeO6B8uLe3ZhpKOF1qQ5VGp9oXDaUH37TeZrKqM9aCCfvxEPaorVO/FKH6ZOHk2ukwllUxzRGDKbK+/8+VR+ZDJ2jBjE1rgQNkdPJ99vJsM+Wqbw9a6Rm5DjFEyWYzCmw1Yw6ZEFCtW7/OijpJqGkGoWRqpZGAPfqGOiLIsgmRuOslD0ZcmMl+XxnWwN78t28LLsKH1kl/n50y2kukR11ks1C+Phh9oUulz7kXmkmoUxzyKCFKsonJVzFQ6BwZ45RPhlET4lhzD/PH76YZ9C9f71XjNecVVdyitvXOCRR9t5tHcbvR9ro8/j13nsH9d5vO91+va7xhNPXqPfU9cYp3mEabN3ED53J4nzqlg8K+qWofx0wvOk2Rgx4bv19O/fznvvtRMz8yrZeVdZvKSd/Hzw9YWBA6UR7Rvlo4+kU+Def18a4R4wAAYN6p4DJkyQ9rF6/XUp2L76qjTS/9JLN0f7n3vu1iPoTzwhLaX9s+fJza1rveBgxQN6ZmbXuurqitV7773u1ztggGJ1VVW71svJkZ7PwYOlPq3Ro6VBUAMDKeh7eEgTS2JipJ//7Qh9TY00/f7AAWn6/cmT0sZ/f1Wgv98/Y+57V65IS4c2b765X8fixdIUlt+/MHv1gn//GzQ0pCVDDQ13++oFBYmA/oARAb2rjo4OWlpaaG5u5sKFC5w4cYKTJ09SV1fHzp07qaiooLy8nLy8PHJzc0lPTycqKoqwsDCcnJywsLBAU1MTuVyOXC5HT0+PESNGMHr0aCwsLNDQ0CAsLIwpU6YQHByMg4MD8+bN6xxFPHnyJPr6+qSnp1MxYhBXBzwCD9/6DuD0y4+TM/YjkiNDUVdXx9DQsHMH6fDwcKqrq7l2t7rkhb9MT28zf7Xr16/T1NREQ0MDR48epampiePHj//p0oyrV69SW1vL3LlzMTMzw8TEBC8vry47qpubm2NmZoafnx+RkZEEBQXh4eGBs7Mz2traqKqqoqSkhLGxMWpqaqipqWFnZ8ekSZPw8PDAy8sLPT09Zs+eTWhoKNra2ujr66Oqqoquri5aWlo4OjoSFBSEtbU1Pj4+eHl5Ee7m1q39xv96Ln1sbCyezq44TtLHe6w2gd+PI/bLYWR8/h3LPhnM6v98TPV777L3ndfZ1f8JXC3McbG2IsDFhZFfZ3F9/EMKJYaDr/TBW3kURU5GTFMejunQCHhPsYSz5fP3WGFhzTILexLkwaQYaf/Xn+/oJeP6Yw/T/PRDFCmZdgZlve+KiBpmRUX/ryl8dziL3ptE0ruGTO/vhNPb09F5ay4j3ljOwHeXMcx9YJeQ/flbigVe2WeJ6PtbEOWdKQXmqbk82vvqze8/fIVefVro1fcUDz15lEeebeDRFw7Q+5XdvGpghVNsaWdQNvet5c3Pd/P8F6W89HUxr367kjd+KuTfw1fw7ugVvK+0goEqhXyhVoh2+JwuIdvKfysaDhvRdq3CyLMac9+tWAdsxX56NU7hm3GdsRH36I14xFR1C+i3Kt5xG4iYlU1G4jTKkvVomPcRa+dokpiQwPzEcFITw0hLDOFy2j8gXcaVtMfZMfdH0hOD8Ymr+K+P7TtrM1MTtxKQVMu02TsISd5N+Ny9zJhXR+z8euLTDpOYcYzkBSeZt/As8xeeZf6ic6RltbAg+yKLci6Tk3eNvMVt//Na8bw8aWJGZqY04j13LsyeLWWI2FhpVPq3P5+eLq2ScHcHZ2ewt5dGt83NpdFtfX3Q0QFNTcjN7VrX3V0aXPzhB+m4+cGD4ZNPbu4T+Pzz0sj+Z591v87fb6j9R0VHp/u0ekU7FH4/nX/KFKlj4IsvpGseMwbU1KSp/XZ24OcH0dHSc1JdDTt2SGH+8GEpzLe0SBnuj9bQP2ifMfe1jg5pl8Rt26Q1Hx9+CA/9yWeEo6M0rePo0bs3jUP4UyKgP2Du94De2tpKS0sL9fX1bN26lXXr1rFq1SpWr15NXl4ey5cvJyMjg+TkZMLCwnBxccHT0xNra+vONa43zjyeOHEiGhoaTJgwAS0tLZSVlRk3bhxyuZxRo0ZhYmKCqqoqxsbGhIaGYmJigru7O0FBQSQmJmJiYkJ6ejoeHh54eHhw/PhxtLW1SU5aRqRdEEZGRpw6dQoXJycs9HVpGvBCtzfSK48/TNXgN5nvYYGri0tn6NDQ0MDT05PMzEyamprEOvP7iLh5un3t7e3U1dWxdu1aysvLWb9+PXv27KGpqYn2323t3N7eztGjR9m7dy8VFRUsXbqU6OhogoODcXd3x9TUFG1tbTQ0NDA2NsbU1BRdXV00NDTQ0dFBT08PZWVl5HI5xsbGaGhooKamxtixY9HQ0EBZWRnd0aO7tWVTFZXOndiVlJRQVVVl2LBhjB8/HlVVVVRUVNDU1GTSpEloamoyYcIExowZw+TJkxk5ciRyuRxDQ0OUJ0zGVMcc4/FqWI8eh+f40QSM+YGYCT+SpPQVWcpfUSr/gHlWk1i7di0LFixgzpw5RNgmctrsGS7KH6NN9yHQk4Hur8VABsYyMJdxyuRxVsd6s3l5Jhtz55AXPZ9sG2UIkME0GYTKIFIGMTKIl8FsGaTJIF1GauSzLA50JS/AnaxAH2zVcziX1O+Wo7y/L14z3ickajHB0csIjF2Jq+1CziQ/TlPiE+yNf5qtsc9REf08xTNeYHH4i2SEvcjs0BeIjuiHbpRHlwDqGTEFndCHmRwqQylUxvAQGd8Fyxg0TcaHQTLeCZTxzwAZT0+V4Rhb3KXu96HGyPxkf1peCRjQLfi+HvhJ5/d7+T3Eo1Me5x9TnubJqS/xrP8bvBTQn9cCPmR0uHuXetPjs3GO+obouM9YnPgeO+e+SGvqo92eo/0pr5Ewy5/UxDBSEmcQnzCHgiQLUhOm4DOzXKHg/3cU7/iN+M7ajH9iDUGztxOSvJuwuXsJn7uPqHkHiU1tYFbaEZIyjjM38zQpC88wf+FZ0rJayMy5RHbeVfIWt3WO7vekEhIibexvby9tn3DjpL2xY6XQ//XX0kyE34/4JyQoHtDj4rrWtbRUrN5TT3W/3okTu4b7sWOlKf5WVtL6/MhISEo6T2HhOQ4flqbbX7ggBXpxG3EfaGuTjkSIjZV6dd5+u/uUlfDwri+ayEhpMwihRxEB/QFzLwX069evc/HiRS5dutQ5wnbw4EG2b99OcXExS5cuZc6cOURFRREeHo6bmxv29vadu0ZramqiqanJ5MmTGT9+PJqamowcOZJJkyZ13vw6ODgwadIkzMzMcHFxQU1NDQcHB4yMjLCzs8PX1xdLS0t8fX3x9fXFz88PBwcHoqKicHFxYdq0aeTk5KCvr8+aNWtwd3fHy8uLpqYmtLW1KSwsJsgnnqlKckrHDOPwwBdpf74XHQ/JmPzD9yRZGeIz4WfGDv6YIpVvQSbj4jO9qfr2X8QbjycqPBwNDQ0cHR0xMDDA2tqa4OBgNm7cyFWxa+d9SQT0u6e9vZ329naam5tpbGxk48aNlJWVsWrVKiorK9mxYwenTp2io6OD1tZW9u3bx/bt21m/fj3r1q0jLy+P7Oxs0iIju91Nh7u54ezsjKOjI4mJiSxbtoza2loOHjzI3r17qa2tZf369VRWVlJWVkZ5eTnl5eUsXbqU5cuXk5ycTEJCAvPnzycuLo6MjAxKSkpYtWoVW7ZsoaysjOXLlxMdHc20adOIj48nKSmJkpKSW7+e2q7AldNw4RCc2w4n18PRIqn8RkcHtO2Op329AW3lqlwv/YVrhV9zddlHXMv7F9ezXqAt8wk60h/m1OqJtF06xpXz9Zw7vZ8jR3bSnv6wQgE9N308K/JmsjR7BksXhbMu01yheqTL8JzpwKyE2cQnzCVuVgrFs79XqF7FbBl+cUsIiCvGP66UKXFlbEh+lYYUGXvnyqidI6MyWUZZkozCRBmLE2QsmCVjbrwM3Yh/dQmp/nGlBMa8gEeUDJ9oGVOiZQTEyAiOkREaKyNmpoy0eBkFiTLGhWsyJa6MwPgiQuMXszZ5nELXWzNHhnnUdKbElXX+3okRQb92CvTiEb8+PD7lSfpNfZFn/V/nxYB3eC3gA94M/JwB037qFqwnRQTzXYgRP4da8kuYPaPD3VAK92ViRBBqkeHIZ8xEL2o2ljF53ep6zFz/N4X9myP8QUnbCU7eSeicPUSmHCBqvhT2Z6Y2EpfW1DnKfyPwpy5qJj3rPAt/E/rvVrBfsgQWLoSUFCmAh4VJI99OTjf3SVRWhuHDISOja11DQ8UC+j//2f33fqHg6pkRI650q/v229LShsGDpYMSVFSkfQ9sbaVwHx4OiYnSDvgnTkjLokWw7+E6OqR16MnJ0jSPjz/ufjyD9q8zpIQeRfxFHjD/S0C/MTp7/fp1WltbuXz5MseOHeP48eOcP3+e06dPc/HiRc6dO8fZs2c7p4qfO3eOuro69u7dy549e6ipqWHVqlUUFxdTVFREdnY2y5cvZ/78+SQlJREdHd0ZhJ2cnLCxscHCwgI9PT2MjY3R0dFh8uTJjBo1Cg0NDVRVVTuPfhoxYgSmpqZMnDgRQ0NDpkyZgr6+PkFBQfj5+WFra4uXl1dncXd3Z8aMGTg7OxMbG0tYWBgODg6sWbMGS0tLZs6cyYIFC9DT02Pnzp3Y2dkREhLC2rVrkcvl7NmzB3d3d/z9/TuPPVq/fj1R4RFEKSmx5pchHBz4Cpff6A2P3voTMvr7QSRHBlFcuEI6aikxhlh7Q+alpGBmZoaxsTE2NjZoaWnh7OxMcnIyhw4d6jYiKNxfREC/D5w82a29N2zezKlTp+7Ir7/RuXn9Tm4p3dEB7W3dv3aiHI6sgIZsqJsH++JhVxhsmwJbXGCTFWwwgLO1XesdL4Ml70Duq3QsepqOBX3+MLhu276SfXUr2XtgGXv25XKyaKxCgfdE5puUFPpRunIKJSunUFw4hbMLXlCobn7qxywripTKykiKC3wV7lDwnvM1RSumSGX5VDZkjer2M3UpMnITZPhFy1AJk/FagDQy77csjrlriphTVsTcNUUYL3RWaMT/icAnmbeusLPMryhkSMJQhep+NesH5ldIdVLXF5K2oZCngp7hoSkP8Zj/4/QLfIrngl/kldB/8mb4v3lnxgDejx7IwNhBuC8LJm1DYWeJWZ3OuBR1VObpMjnVGHm6JXoL7DBe6IJZpjdWCwNwzJ6O+5JIklYvI6V8JSnlK5m7ZiWJq5YRV7KExJJCEkuKSfpNSSwpJqGohMTiks7vJRaXkFhcyuziNcwtqWBeSRWpxdUsKN3GwtJdLCzZQ1bpfnJXHWRJWQPL1hxh2erjLCs9TUHpWQpXnad4dSulq6+xZo10olVpqXRYwYoVip0U+L+WvDxp6v+sWVK49/WVZib/9hAELa3u9QYOVCygq6hc7lIvN1fxEX9f366/098feveWNhR8/XVpD4Mvv5RCvrKytPzgxtT85mZpc/IbtzGHD0t7nx05Ik3NF7c3d0BbmzQtvr5emuqupCT19gg9igjo95ALFy5ga2vLK6+8Qp8+fRg4cCALFiy4rce4EdAtLS3x8PDA3d0dHx8f/Pz88PT0ZOrUqXh6euLp6YmXlxfOzs64urpiZ2eHjY0N5ubm6OvrY2lpiZmZGbq6uhgaGqKvr4+xsXHnZmWGhobo6el11tHU1Oycwqmurs7EiRNRV1dn2LBhqKqqoqamhrKyMtbW1igpKaGnp4e+vj4TJ07Ey8sLHR0dzM3NsbW1xcLCAj8/P+zt7fHx8cHX15fo6GgcHR0JCwtjzpw5GBsbs27dOry8vPD29mbHjh1oa2tTUlJCSEgINjY2nVPOlyxZwrx58zAyMuLMmTNYWVkRHx9PSUkJ+vr6necSBwQEsHVLDSZaxmR4eJCuNIJY5THs2rULKysr8vPzSZ+bTMcfrCG/UToekXHirSeJm/hD5+ZUCxYswMHBAQ0NDVxcXNDS0sLa2prAwEAqKir+8Bgs4f4jAvp94BYBnZMn7/ZV3fva2+DaBbh84teR/x20HCrt3l5ObZA6AnZHwI4gqPWBLc6wyRoqjemo0KJ9zQSuVDtzpvkQJ8/t4/iZ3Rw9tZ3Ly7/ketbztC3sR/t/6RSoK1FhTXU45dVhlG8OobLSW+GAXlXhRPG2ZFZun8eKHRnu2/gfAAAgAElEQVQUbwpj7bIRLF4xmaSVhvgVOeBY6IhVgRUm+Sbo5umika3BxIUTmVczj/w9+Z3Fd5UvH8V9xLvR7/Jm5Ju8EvYKz05/lieCnqC3f+/OkP389Oe71Mvfk883yd8oFNCHzhvarW7fwL4K1XVc6dilXnhFuEL1ZH4y0mrTutTVytHq/N7DUx7m8YDHeWraUzwf8jyvhr/Km5Fv0j+6P8PmDet2vfqL9RmbPhaVTBXUs9TRydXBaIkRFssssFthh0uRC96l3szaNKtLvSW7lzCvZh4Ldyxk8e7FLN+3nJUHVlJSV8LqQ6tZW7+ODY1VbD68hS2Ht1N7eA87jxxk/7GjNJw8Q8PxFhqOXqK+6QqHGq9yqOEaBw+1c+CAdILW7t2wc6e0hHjLFmmTuKoq6dz2deugrEzqFFi58uahCn9WcnOlNfDx8dJu8zfCvampNN19/PjL+Ph03dU/LU06Ok+RgP77NfOurorV6927a73ly6X19b//uccek/YFeOMN+OADKew7OsLp01LAb22VMmZ8vLTJ3ty5NzcGLC6WnrctW6TntqEBLl26C+9V9xpxj9njiIB+Dxk+fDhPP/00s2bNYtWqVRgZGSGTyUhPT1f4MW4EdBsbG8aNG4eBgQFqamooKSlhbm7e+TVNTU3Gjx+PlZUVSkpKGBgYoKOjw6RJk/Dx8UFTUxNTU1NcXV1RVVXFzs4OHR0dtLW1cXBwQFVVFRsbG+zs7HBxccHFxQVjY2OmTZuGp6cn9vb2eHh44O3tja+vb+fabWdnZ+Lj4wkICMDNzY3c3FzMzc2ZN28e4eHhWFhYcODAAYyMjEhJSWH+/Pno6enR3NyMhYUF0dHRlJeXo62tzf79+/H398fDw4N9+/ZhZGREUVERs2fPxtHRkZ07d2Jra0tGRgZLly7FysqK7du34+npSYSFCfmqYyj89mO2De5P0wcvcOGtx2l/rhf0uvlJcuzdp8mfEYbKd1/hqqrEbHszWl/pfTOM95LR+nxvDvzneUp/eI+ZWj8RPi0AIyMjzM3NO4+b0tbWRk9PDxcXF3x8fFiyZAlHjx79G19NQk8lAvp9QAT0O+Zvby8dHdJygKvN0HpM6hho3g2XT9He0c7Vtqu0Xmvl/KVTXDiQSvOBNM7sT+PkgXSO7U+naX869fvS2b8vg50HFrP1UDEbGtexrmEda+rXUFJXwor9K1i2d1ln+X24/P+UxbsXk7Uji4xtGd2+F10Zje9qX9xL3Lt0COjl6aGZrcmkhZNQylDqFrLz9+TzUdxHvB31Nq9HvM6LoS/ydPDT9A3syyNTH+kSst1L3LvUm1Y+TeGAvnD7wi511bLUFKr3Xsx73a73vZj3FKqrlqXWpd7C7Qu7fP+hKQ/Rx78P/YL68dz053g57GXejHyTd6LfIaoyqmtnxPpwRqSOYFzGOCYunIh6ljq6eboYLTHCssASp5VO+KzyIWRdCJVNlWw+spmaYzXsPLmTysOVrG9cT+2xWvad3seRliOcaT1Dy5UWLl5ppfXKNVpbO7hwAc6dk9aSnzwpHeN25Ii0+3tDAxw8SJfOgB07oKrqLOvXn6WyUgqza9dCebnUGbBihbRBX1KStDQ5MFDacd7eXtqMT0tLOkf+t0Hb2xvefFPawb9v3z/eo+xWa+Z//FGxcP/dd93rPvusYnWnTZOOuGtqkp6fDRukk8jeflvaU+3LL6XrGD1aWsP/22P1zp3r+nawc2fXzoCKCqkzYM8e6fk+dUrqEBAzAYT/LxHQ7xEFBQXIZDIyMjK6fH348OG8+uqrtP3Rdp2/cyOgx8TEkJiYiIuLC8HBwcTFxWFtbc3MmTPx8PAgICCAhIQELCwsmDNnDt7e3vj4+JCdnY2ZmRmpqamEhYXh6OhISUkJlpaWxMXFkZiYiLm5OSUlJVhZWZGQkEB6ejqGhobU1tZib29PSEgIq1atQi6Xs2PHDry9vfHw8GDHjh3I5XLWr19PREQENjY2nDhxAj09PXJycpg/fz4WFhY0NjZibW1NYmIiRUVFmJiYsHfvXry9vfH396empgYTExNWrSgi0sSciEkTWWqqz/xfvmXl2G9Z+9PHVA96i7pPXuPYu8/Q8kZf8rOyMDAwYO/evbi6urJx0DsKvfNffqk3pQWLsbW2Ztq0aWRnZ5M1fBBLh31CtOYIYkL8O0f/DQ0NUVJSQktLCxUVFQwMDLCysiI6OprU1FTWrl0rprALIqDfD0RAv2Pux/bS1t7G5euXuXD1Ai1XWjh3+RynLp3i2IVjHG45TGNzI/Xn6qk7W8e+0/vYfWo3O07soPZ4LVuObmHTkU1UNlWyoWkD6xvXs7ZhLWWHyig9WEpxXTErD6xkxf4VFOwr+Ms7BPL35JO3K49FOxaRVptG9s7sLt/L2JbB1LKpeJd641rsin2hfWfHgP5ifeQ5ciYvmsyEBRPI25XXpa71cms+jvuYAbEDOjsHXg59mWenP0u/oH709u9NL79efBT3UbdremvGWwoFdO1c7S71UmtSFe5QCF8f3qWuY6GjQvX6Bvbtdr1D53VffvDI1Ee6zBp4Lfw1lDOVKdxfSNGBIorriik7VIZKpgpjM8YyaeEktHK0MFpihNVyK1yLXfEr8yOgNIDwsnCqj1bTfLmZC1cv0HqtlebLzWw6sontJ7az9/ReDp07RFPzEY42n+JEcwtnmq/Q3NLepUPg+HEp9B4+LJ38degQ7N8v7S6/erW03Dk1VdqzLCoKNm6EykpYv17qGHB0lNbhf/uttIv+gAE3w36/fvDII9Lb562O/VZ0xN/RsWu98HDFp/MXFEjXvGWLNBvc1laxeh99JE3lv3btZlg3MpI6A77/Xpr+P2aMtM5fQ0Na629iIp1MUFDQ9f3g+nVpH4PZs6XnctEiaY+DwkLpOa6okE5c2769+2yBtjbpGsQ+AfceEdDvEUZGRjzxxBPd1hRmZGQgk8moqKhQ6HFuBPQFw79mtcY4Mn4eTPboH1iqMpK5Pw6mUD6RlOHfkzp6GMvmzEYul1NbWysdH2RmToGJMZFDfyZLX59k1cmEjxxFgYMjISNGMFdHkxR9OdPHDKOpsakz3C9btgzPiWNYbiFn9tgfmD9+GPlayiQP/YZlauPJHPkjmcO+o3DCKKJGDqW0tJTk5GScnZ3Zvn07pd98wLbP/82uT99k74evUv/hKxwe8Dwn3n2Gc2/34+Lrj3HlxUdZNPZ7nJ2dqa+vx9DQkAxXe4XfhWONtBj5zWCSPF3QVxrNsm8/vOXPtf3jIZpf+wd177/EusHvskjpBywsLLCwsMDc3BwlJSXs7e3R09NDW1sbbW1tJk2ahLGxMS4uLiQlJZGbm8vWrVs5KW7YhVu4HwPHA0cE9DtGtJf/v46ODq63X+dq21UuX79M67VWLl69SMuVFs62nuVs61nOtJ7h1KVTnLh4gqPnj3L0/FGOnD/S2WHQ0NzAwbMH2X9mP3tO7WH3qd3sOrmLHSd2sO34NmqO1VBzrIatx7ay5egWNh/ZzKYjmzrLxsMbqWySRo3XNayjvL6cNfVrKDtUxupDq1l1cBUldSUU1xVTdKCIogNFFO4vZPm+5RTsK2Dp3qWdU9J/H+zz9+QTtzGO0IpQgsqDbs4aWOmI9XJrTJeaor9YH81sTYLXBnepl1abxpdJX/JJ/Ce8H/s+70S/w5uRb/Jy2Ms8N/05+gX1o49/H3r59SKmMqZbh4IiAf2Z4Ge6Xe93c75TqO5PKT91q9svqJ9Cde1X2HepF7E+QqF6D095mOIDxWw9tpXtJ7az+9RuppRN4e2ot/lP7H8YGD+QQYmDGJI8hB9TfmT4/OGMTh/NhAUTcCpy4uLVi1y+fplrbddo72gntioWlyIXPEs98VvtR2B5INPXhRBWEcGM9THMWJtIVFkKaw9sobn55oyBlHltWE6txdh9N7r2+9E0P8QkgyaUNI8xUuUkP40+w5ChzYQm1bOpppWaGmmDu9RUePHFDp58qp0+fTr+6+3hjSC8YoU0JV9NTbHbyvfe69opsHSp9DVF6pqYSJ0BO3dKMx9qahTvUCgpkTbuu9ExkJV183u9e8MTT0gzD156Sdov4MbGgF9/fbffhYTfEwH9HvHVV18xaNCgbl/fsWMHMpmMhIQEhR6nc5M4BVp6nr46xobGbFi7nsCAQBKUflH4XaJmy1bcXF1JTEigpLiYbZ8qdpjoiXeeYm5sLDOCgtCePJlVudlcfeERheoWfvshk0eNJC9mBhN+/gl/zYkKX2+4xnhcXV07p+2HaqlS/NUAFv4ymLCR3+E8YTj2poaMGzcOU1NT5HI548ePR0dHBzU1NXR1dZHL5ZiZmeHk5MT06dNJTU2loKCAvXv3ckksghIUJALHfUAE9DtGtBfhtzo6OmjvaKetvY1rbdc6Ox1ulEvXLnXOTGi+3MzZ1rOcvnSakxdPcvzCcY5fOM6xC8e6dEAcbjlMU0tTZ0dE/bl6Dp07xMGzBzlw5oA0i+Gk1CGx6+Qudp7cyY4TO1jXuI6sHVmk1qSSuDmRmKoYQitCCVgTgPcqb5yLnLFZYYNDoQPrGtaxtmFtZ8eEZYEl38/5nsFJg/l01qe8P1PqHHgj8o3OWQN9A/syOn10t4Dex7+PQkHbpcilS72QdSEKzxZYsG1Bl7oa2RoK1Xs3+t1u1zsgdoBCdfUX67PpyCaqj1ZTc6yGDY0bFL7exbsXc+zCMY5fOM7JiyeZs2XOze/7ypB5PobM5Vlk9q/Ry/o9HrH4nN4mP/BSyCu0tbfR3iENg1dUwI8m+Tw1OoSnhsfy1I/JPDlkAU9+mUe/Twt54oMy+r5bxXM/ZGKT78rp09La+VOn4JNPFAz3KguYW1bKrl3SkoQ1axQP6MO9Z1BQeo6yMml03dNTsXp9+rbe3YYrdCMC+j2if//+jBgxotvXjx49ikwmIygo6Jb1rly5QktLS2dpampSOKBnak7AVFeX7OTZTHVzIWHUDwq/SxRlZmBvbkqo/xSyU+ZS89mbCtU78+9+zIqOYk7CLCzNTKlau5bWl3v/1zodvWR0PCaj6PtPiY6Oxt3dHV9fX1ytLTn08Qvs+PyfbPjybUq+/ZCcHz5nzs/fED9xLL4qo3HVUcPcUArX5ubmGBsbY2lpiaWlJTY2Ntja2uLo6IiHhweenp4EBwczffp0YmNjWbBgAYsWLWL16tVs3bqV48ePc/r06c4bRlFE+V9KQ0MDDQ0Nd/06RPnfy7l9+7q9T53bt++uX9f9WER7EeVBL2fOnOlSqg9WU7G/gpLdJSzdtpSsLVmkbUojaUMSMWtjCCgMwKvAi/K95dQfq6f+WD2Hjh6ibE8ZWou0mLxgMsrpyoyZP4bhc4fzY/KPDEkcwpezvuSTuE/4IOYDth7cyq7GXVJp2IVNvg19A/t22ZjwVuWTmZ+wuW4zm+o2sfHARjYe2Mj7Me8rFLINcwxZu3dtZ1m+bbnCAT12bSylu0op2VlCyc4SPAs9Far3j4B/sGLbii7ll7m/KFT3x+QfKd9T3qU8F/w8Mq/eyNz6IXN+HpnDq8hs3kJmOQCZ6UBkRoOQ2b+GZ6Enm+o2sbluMxU7t2DhV4VsrDGyUZbIfnFA9rM7sh98kX0bhOyrcGSDYpF9lojM7nVW7V7F7sbd7G7cTeL8Rv75wUFkr1Uie3kLshe2I3t2L7KnDiF74giyx08h69OM7Kn6vzfECLdNBPR7RP/+/Rk5cmS3r98I6NOmTbtlPV9fX2QyWbeS89PnrBn7Hct/+ITioZ+zevgXFH33ARW/fMHqHz5gzfcfsCQqFCsrK9asWcPMmTMJ0Ndg8w//oerrf7P52/5Uf/M21V//i+3fvsOWwf+i5qu3qR38Nls+f4vqzZvw8/MjNjaW5cuXM2vsUCq/+ZB1X79P+TcfsO6HgZR++wGrfxxI6U8DKfp5IEXDP2We8s+EhIQwbdo0QkND8fLyIkprIjM1xhOmrkSsmQ5TtSfibaCBj4URhpqq2NvZYWpqiqmpKba2tp0bsJmZmWFra4uDgwNubm64ubnh6+tLYGAg/v7+zJw5k5SUFBYtWkRpaSmlpaWsX7+eqqoqampq2LFjBw0NDRw5coQTJ050fhDe7Q9jUe7vIgLHvV9EQL9zRbQXUUS5vfJ3t5kzZ85w8vRJmk40UX+snv1H9rOraRfbGraxs3Fnt58v31vO0m1Lya3JZeGWhaRvTidlYwpJlUnMWj+LmHUxRJRHsGrPqi71Dp84jPNyZxwLHLFdaotVvhVmi80wyTPBIMcA3Wxd5IvkaCzUYMuhLV3q5m/LZ9jcYfw05ye+n/09Q5KGMDhhMF/M+oJP4z7l45kf837M+wyaNajb9ZotNuOlkJd4YfoLPBv8LE9Pe5p+Qf14IvAJHg94nD7+fXhk6iNMzJjYre5LIS8pFO5j1sVw+szpzlK+t1zhzoja+lpOnD7BiVNS8Vnpo1A9oWcRf5F7xP86xf2PRtAjIiLw8PDAz8+v8+xxLy8vpkyZgq+vr7Tm3Mur85++vr74+/tjY2ODq6srLi4uODs74+zsjJmZGVOmTMHZ2RkHBwf8/PwwNzfHx8eHwMBAHBwc8Pf3R09PDx0dHUxMTJgwYQJOTk5oaGigqamJlZUVI0eORF1dHVVV1c7N1JSUlFBTU0NFRYUJEyYgl8sxNDTExsYGMzMzXF1dmTJlClFRUaSkpJCWlsbq1aupra3l8OHDnD59mqtXr3Lx4kXa2tq4du3anT0bWBBu040PcuEeJqa43zGivQjC7RFt5u65scTixvKK3+7r0NTS1LmXw/kr57vUu3z9MttPbKf2eC01x2o693HYeHgjVYer2NC0gYrGCtY2rOVq29UudQ+dO9Rlz4YbG0Mu2bOEvN155OzKIWtn1p18GgQFiIB+jzA2Nr7lJnELFizgf9kkTlVVlZEjR6Ktrc3kyZNRVlZGV1eXUaNGoa6ujoaGBmPHjkVHR4dx48YxadIk5HI5SkpKaGhoMHr0aMaNG4e6ujoTJkxAU1OTiRMnoqKigrq6OuPHj0dNTa1zuriWlhZaWloYGxtjaGjYuamam5sbXl5eeHp6MmPGDGJiYpg7dy7Z2dksXLiQVatWsXbtWrZs2cKePXvYv38/dXV1HDlyROx2LtyXxM3TfUAE9DtGtBdBuD2izQhCzycC+j1i+fLlyGQyMjMzu3x95MiR/9Mxa4mJieTk5JCUlERKSgqpqanEx8eTkZFBcnIyc+fOZdGiRcyZM4ecnBxyc3PJzs5m9erVlJaWsnHjRqqrq9mwYQObNm1izZo1bNiwgcrKSsrLy6murmbjxo1s2LCBjRs3UldXx/Hjxzlz5gxtbW1cuXKF9vZ2Ll++zLVr1/6Op0wQ7kni5uk+IAL6HSPaiyDcHtFmBKHnEwH9HjJ8+HCeeeYZEhMTWbVqFcbGxshkMtLS0hR+jM5d3Fta/sYrvUl8EAjC7RFt5j4gAvodI9qLINwe0WYEoecTAf0ecuHCBWxsbHj55Zfp3bs3H3/8MQsWLLitxxABXRB6NtFm7gMioN8xor0Iwu0RbUYQej4R0B8wIqALQs8m2sx9QAT0O0a0F0G4PaLNCELPJwL6A0YEdEHo2USbuQ+IgH7HiPYiCLdHtBlB6PlEQH/AiIAuCD2baDP3ARHQ7xjRXgTh9og2Iwg9nwjoDxgR0AWhZxNt5j4gAvodI9qLINwe0WYEoecTAf0BIwK6IPRsos3cB0RAv2NEexGE2yPajCD0fCKgP2BEQBeEnk20mfuACOh3jGgvgnB7RJsRhJ5PBPQHjAjogtCziTZzHxAB/Y4R7UUQbo9oM4LQ84mA/oARAV0QejbRZu4DIqDfMaK9CMLtEW1GEHo+EdAfMCKgC0LPJtrMfUAE9DtGtBdBuD2izQhCzycC+gNGBHRB6NlEm7kPiIB+x4j2Igi3R7QZQej5REB/wDQ3NyOTyWhqaqKlpeVvL/X19dTX19+R3yWKKPdDEW3mPih1dbTIZF1LXd3dv677sIj2Iooot1dEmxHlj0pHR8fdjinCr0RAf8A0NTUhk8lEEUUUUUQRRRRRRBFFFFGQye7c7Frhz4mA/oBpb2+nqamJ5ubmO9Ibd6ND4E6N2Isiyr1eRJsRRRTFi2gvoohye0W0GVH+qIgR9J5DBHThb9XScmfXvAvCvU60GUFQnGgvgnB7RJsRhJ5PBHThbyU+CATh9og2IwiKE+1FEG6PaDOC0POJgC78rcQHgSDcHtFmBEFxor0Iwu0RbUYQej4R0IW/1ZUrV/D19eXKlSt3+1IE4Z4g2owgKE60F0G4PaLNCELPJwK6IAiCIAiCIAiCIPQAIqALgiAIgiAIgiAIQg8gArogCIIgCIIgCIIg9AAioAuCIAiCIAiCIAhCDyACuiAIgiAIgiAIgiD0ACKgC4IgCIIgCIIgCEIPIAK6IAiCIAiCIAiCIPQAIqALgiAIgiAIgiAIQg8gArogCIIgCIIgCIIg9AAioAuCIAiCIAiCIAhCDyACuiAIgiAIgiAIgiD0ACKgC4IgCIIgCIIgCEIPIAK6IAiCIAiCIAiCIPQAIqALgiAIgiAIgiAIQg8gArogCIIgCIIgCIIg9AAioAuCIAiCIAiCIAhCDyACuiAIgiAIgiAIgiD0ACKgC4IgCIIgCIIgCEIPIAK6IAiCIAiCIAiCIPQAIqALgiAIgiAIgiAIQg8gArogCIIgCIIgCIIg9AAioP8fe3ceF0X9+HH8Ayoq5n2S5VUqqaWZmllqaWna8dNK61uZ5VFqppm3goAHnqik4q15gAcisiDggYAcCyiIIIc3eOaB94nA+/eHMTnuLuzCLsy27+fj8fmj3ZnZRWcaX8xFREREREREpAAMdCIiIiIiIiIFYKATERERERERKQADnYiIiIiIiEgBGOhERERERERECsBAJyIiIiIiIlIABjoRERERERGRAjDQiYiIiIiIiBSAgU5ERERERESkAAx0IiIiIiIiIgVgoBMREREREREpAAOdiIiIiIiISAEY6EREREREREQKwEAnIiIiIiIiUgAGOhEREREREZECMNCJiIiIiIiIFICBTkRERERERKQADHQiIiIiIiIiBWCgExGRRTl79iyEEBg4cGBpfxVF+/vvv/Hjjz/ipZdegrW1NYQQuHnzZml/LYvEdZaIyHIw0ImISEYIIRvW1taoWbMmunXrhi1btpT21ys2xo5+evXqBSsrK3z77beYNm0anJyc8PDhw9L+WorQtWtXCFFy/4TiOktEZDkY6EREJJMf5k5OTnBycsKUKVPw5ZdfokyZMhBCYNy4caX9FYuFsVO4x48fw9raGh999FFpfxVFKulAz87ORlpaGi5dulRin0lERKWDgU5ERDL5gf68/fv3w8rKCtbW1sjIyCiFb2YcDPTCZWZm8s+oACUd6EREZDm4dyEiIhldgQ4Ar732GoQQ8Pb2BiCP3bS0NHz55ZeoVasWrKysEBoaKs2XlZWFSZMmwd7eHhUqVECVKlXQrVs37NmzR7Z8V1dXCCHg7u6u9fPPnTsHa2trtGvXTnrt4sWLcHFxQadOnVC3bl2UK1cOdnZ2+Oabb3Ds2DGNZRQU6Pfv34erqytat24NW1tbVKpUCR07doSXl5fGtKGhodKZBkeOHEHv3r1RtWpVVKxYEZ07d0ZkZKTWnyEnJwfLly9Hp06dUKVKFVSoUAGvvPIKBg8ejBMnTsimffLkCZYtW4a3334blStXRsWKFdGmTRssWbIEubm5Wpevy/Hjx/H999/Dzs5O+jP6/vvvcfz4cdl0DRs21LjMQd9YF0Kga9euuHbtGoYOHYp69erBxsYGLVq0wJo1a3TOFxwcjF69eqFmzZqwsbFBkyZNMG7cOI1r3jt27AgbGxvcv39f9vo777wDIQQGDRokez0lJQVCCAwYMKDQ7w4AO3fuxPvvv4+6devCxsYGdevWxbvvvoulS5cC+Hfd0Ta6du0qLadhw4Zo2LAhbt26hVGjRqFBgwYoW7YsnJycABhvnR04cCCEEDh79ixWrFiBVq1aoXz58qhTpw6GDBnCewYQEZkhBjoREckUFOj29vZaA/3dd99F1apV0aFDB/z+++8YMmQIDh8+DADIyMhAo0aNIIRAly5dMGbMGAwdOhR2dnawsrLCypUrpeVfuHAB1tbWaNu2rdbPnzVrFoQQWLJkifTali1bULFiRfTu3RsjRozA+PHj0adPH5QtWxa2trY4cuSIbBm6YufmzZt48803IYTAW2+9hZEjR2LEiBF45ZVXIITA1KlTZdPnB/onn3yCihUrolu3bhg7diz69esHa2trlC9fHqmpqbJ5Hj9+jA8//BBCCLz88ssYPnw4JkyYgP79+6NGjRpYv369NG12djZ69uwJIQTs7e3xyy+/YPTo0XjjjTcghMB3332n9c9Im5iYGFSuXBlWVlbo06cPJk+ejD59+sDKygqVK1dGTEyMNO2iRYswevRoCCHQunVr6VIHX1/fQj8nf55mzZqhVatWGDlyJIYMGYJq1apBCIF169ZpzOPi4gIhBGrWrIkffvgB48aNQ48ePSCEQIsWLXDr1i1p2qlTp0IIgeDgYOm1u3fvomzZshBCoGHDhrJlL1myBEII/PXXX4V+dw8PDwghUK9ePQwdOhSTJ0/G4MGD0b59e+kXQjdv3oSTk5P0S4z8PxsnJyfZ313Dhg1Rr149tG3bFo0bN8bQoUMxZswYaRpjrbP5gd6vXz9UqVIF3333Hf744w9pPe7SpUuhPzcRESkLA52IiGR0BfqBAwdgbW0NKysrnD17FoD8iOLkyZO1Lq9r166wsrLC9u3bZa/fvHkTrVu3RoUKFXD58mXp9Y8++ghCCCQnJ2ssy97eHuXKlcP169el165cuYI7d+5oTBsfHw9bW1v07NlT9nphsbNgwQLZ6w8fPkTPnj1hZWWFhM2S9vEAACAASURBVIQE6fX8QNcWgCtWrIAQAsOGDZO9PnnyZAgh8Nlnn+HRo0ey9x49eoSrV69K/+3k5AQhBEaPHo2cnBzp9ZycHAwaNAhCCL2iOTc3F82bN4cQAlu3bpW95+XlBSEEmjVrJjsiX9TLAPL/PAYPHiz7zikpKShTpgzs7e1l0x84cED6Bc+zIQ4A69evl37+fCEhIRBCYPz48dJrAQEBEEJI682pU6ek9/r06QMhBM6dO1fod3/zzTdhY2ODK1euaLx37do12X8Xdop7fsB3794d9+7d03jf2OtsgwYNkJmZKb3+5MkTdO7cGUII2S9fiIhI+RjoREQko+0mcV999ZV0lHLMmDHStPnhULduXY3gBIDExETpCJ82u3btghBCOoUYADZv3qz1ZnQxMTEQQqBv3756/yyffvopypcvj+zsbI3v/GzsXL9+HWXKlEH79u21Lif/53j2O+UH+nvvvacxfXZ2NsqWLYu33npLei0nJ0c6Bf7ixYsFfu/c3FzUrFkTdnZ2stDNd/PmTVhZWeGrr74qcDkAEBERIUWwNp06dYIQAuHh4dJrxQl0W1tbrfHZpUsXCCFk7+UHdEpKitbltWnTBrVr15b+++HDh6hQoYLsDIsxY8agXLlyiIqKghBCOiMjNzcX1apVQ9OmTfX67m3btoWtrS1u3LhR6LT6BvrzR8L1oe86C/wb6NouH1i3bp3G2SZERKR8DHQiIpJ5/tpaKysrVK9eHe+//z42bdokmzY/HHr06KF1WcuXL5eObj57OnD+GDFiBIQQGDlypDTPgwcPUKVKFdSrV08Wp/nT+vn5aXxOQEAAPv30U9SrV0/6RcKz49m7X2uLnaCgIAgh0L59e63fc8qUKRBC4NNPP5XmyQ/033//XevPXr9+fTRp0kT672PHjkEIgbffflvHn/y/0tLSIIRA06ZNtX4fJycn2NraolWrVoUu688//4QQAg4ODlrfnzZtGoQQWLRokfRacQK9TZs2Wt/77rvvNI5m519/retnbNGiBYQQsjMmunXrBmtra2RlZQEAWrdujc6dOyMvLw+1a9dG//79AQCHDh2CEAK//PKLXt/dzc0NQgjY2dlhzJgx8PX1lZ3R8Cx9Ar18+fLIy8vTOU1x11ng30BPTEzUWP6+ffsghMD06dML+cmJiEhJGOhERCRT0DXoz8sPhx9++EHr+zNnztR5U61nx48//iibb/DgwRBCIDAwEMDTa7dr1KiB2rVry44sAoC7uzuEEKhevTr69++PcePGSc/tbt26tXQTree/87Oxk3/UvrDx/vvvS/M8e5M4bfJvFJYvMjISQgh88cUXhf655k9b2GjUqFGhy5oxY4bGWQrPyv8lirOzs/RacQL92ZulPevZG5rl0xam2sazTw3Ivw+Bj48Prl27BisrK+m7f/3116hVqxby8vIwZ84cCCE0Lq0oyIYNG/D222/D2tpa+uVUt27dEB8fL5tOn0Bv0KCBzveNsc4C2v9M8xW2fhIRkTIx0ImISKYoga4r5PJv0qXrruy6HDx4EEIIfP311wAAHx8fCCG/Hhl4eq1ttWrVUK9ePa3PiM6/2VhhsePv769x+n5hDA10Q46gJycnG3w6vy4lfQTdkECvWbMmqlevbtBnqNVqCCEwYsQIbNu2DUIIREREAABWrVolnVr+0UcfwcrKSuP6cX3cvHkTu3fvxpAhQ2BtbY2aNWvKjqbrE+jP37Aun7HWWYCBTkT0X8RAJyIiGWMGev5pxvpcK/28V155BRUqVMCtW7fw+eefQwghu0kbAFy+fFnnUem7d++iVq1aesXOlStXNB7fVhhDAz0nJwfVqlVDxYoVtYbZs/Ijzs7OTuOMAUPlX4Ou7Vp54N9rw411Dbohgf7JJ59ACKH10WK65OTkoEqVKtKd7StVqiT9GZ0+fRpCCMyaNQu2trZo3bq1Qd9fm/wb8vn4+EivdevWDUIIrfcHAAoOdGOtswADnYjov4iBTkREMsYMdADo3LkzrK2tsXbtWq3vJyUlab1zdv7jt1xdXVGuXDm88cYbGtPk5ubC1tYWDRo0wN27d6XXs7OzpbDSN3YGDBggXbP75MkTjc86deoUzpw5I/23oYEOQLqWvU+fPnj8+LHsvcePH8uO0jo6OkKIp3eCf/DggcbyL126pPPmas/Ky8uT7uKe/3i8fN7e3hDCuHdxNyTQ9+/fDyEE3nnnHa03zrt37x7UarXG659++imEEKhduzZ69eole69Ro0aoU6eOwWdEBAUFaf17z/+s3bt3S6/169dPZxgDBQe6MddZBjoR0X8PA52IiGSMHejnz59H06ZNIcTTZ2T//PPPmDBhAr799lu0atUKQgitEXb27FlYWVmhXLlyEELAzc1N6/InTZokXY89evRoDB8+HPb29qhTpw4++OADvWPn9u3b6NixI4R4enO2n376CZMmTcIPP/yA9u3bQwiBLVu2SNMXJdAfP36M7t27Q4inz+weMWIEJk6ciG+//Ra1atXSeA56/pkD9evXx4ABAzBp0iQMGjRI+qXH7Nmzdf65Pyv/OejW1tbo27cvJk+ejC+++ALW1tYaz0Ev6M+oMIYGOgDMmTMHVlZWsLW1xVdffYXx48dj+PDh6N27NypVqqTxyDHg6bPa89fT5x+Ll3//AiEEAgIC9P7uVatWRd26dfHll19i7Nix+OOPP6S/97Zt28p+oZL/GL0333wTU6ZMwYwZM7Bx40bp/YICHTDeOstAJyL672GgExGRjLEDHQDu3LmDWbNmoW3btqhUqRIqVKiARo0aoXfv3li5cqXWZ0UD/17rW7ZsWfz9999ap3ny5Anc3Nzw2muvoUKFCqhbty6+//57ZGRkaA2Ygr7z48ePsWTJErzzzjuoUqUKbGxs8PLLL6Nbt25YtGiR7G7iRQn0/O+7ZMkStG/fHpUqVYKtrS1effVVDB06FCdPnpRNm5eXh40bN6Jbt26oXr06ypUrhxdffBHvvvsuZs2apdfzvfOlp6fj+++/l+4aXq9ePXz33XdIT0/XmLYkAx14ehp+v379YGdnh3LlyqFWrVpo3bo1xowZg0OHDmlMn5SUJK2nz1/2kP9s97Jly2p93Jsuy5cvR58+fdC4cWNUrFgR1atXR5s2bTB37lyN5eTk5GDy5Mlo3LixdKO7Z3/uwgLdWOssA52I6L+HgU5ERERERESkAAx0IiIiIiIiIgVgoJvAnTt3MH78eHz00UfS3Vh1nWIWHx+P7t27o1KlSqhatSr69u2L06dPa532zz//RPPmzWFjY4NGjRrB2dm52Hf3JSIiIiIiImVgoJvA2bNnUbVqVXTp0gVDhgzRGehpaWmoXLkyOnfujN27d8PHxwctW7bEiy++KLuTLwDMnDkTVlZWmDx5MkJDQzFv3jzY2Nhg6NChJfRTERERERERkSkx0E0gLy8PeXl5AIBr167pDPR+/fqhVq1auH37tvRaRkYGypUrhwkTJkivXb9+HRUqVMDPP/8sm3/WrFmwsrLS6zE7REREREREpGwMdBPTFehPnjxBxYoV8csvv2jM06NHDzRt2lT6782bN2t9DNGlS5cghMCsWbNM8t2JiIiIiIio5DDQTUxXoKenp0MIgWXLlmnMM27cOFhZWeHhw4cA/n1eqrbHENWqVQv/+9//TPLdiYiIiIiIqOQw0E1MV6BHRUVBCIEtW7ZozOPq6gohBC5dugQAGDp0KMqXL691+c2aNUOPHj10fv6jR49w+/Ztady6dQtXr16VTsEnIiIiIiIiZWCgm1hhgb5161aNefID/fLlywCeBnqFChW0Lr9Zs2bo2bOnzs93cnKCEEJjZGRk4MaNGyYfmZmZyMzMLJHP4uD4LwxuM+Y/Tpw4ofH/3BMnTpT69yr2yMrCjcuXceP8edw4exY3Tp7EjePHcSM1FTeSk3EjKQk3jhzBjYQE3IiPx43Dh5GljkHW+s24OWoc7vb6HI+avYbTu8Jwwj8a6buikeYbjav9fgKEKHTcb9QMh1QpiPNPR2zgScQEncbNNzroNe+JL3/Czt0pGD3+HGxtc1BGPNFrPgiBkFnLsW3PYXT7+CqEAD4R/nrNl1emDEKTIqBO2IFv3t+FP3ovwLEWr+n3uW0E4PncqKff98UPz823SM/5hAAWPDfvT3rOV1vL922n57zdtMxro+e8vz83n6MBP+u65+b9Pz3na67l+zbWc96vnptvhQHfd8Zz847Qc74XtHzfznrO+46WeavqOe8vz83nasDPuuy5eb/Rc74GWr5vSz3n/eS5+TYa8H0nPzfvWD3ns9byfXvoOa+x/x9BisK/ERMz5inu9+/f15i2sFPcnz+Cfv78eQghZDemM6X8f9gRkX64zZi/q1ev4vlAf/7JHIqVkwNcvw6cOQMkJwMxMUBoKBAYCKhUWkfuLhXueqlwda0KGUtVOD53JzJ+cMT117si27aqxj8OE0esRKyDShqnPxmp8x+SOWXK4XGFSnjwQnWcb9YO89amYdbqJLisTIDj8jgcfr8vLjRugczGrZDR5A2cfaU1TjVui6O130a0bWccf7UDTtp3gO+3k+HgEYuvh6f/8+/iHPiJz3QOf6tPcaFzB1x6vwPCdrlDla5C/+HH8WLDu/js5QPY+0Iv7HuhF/ZV7oX9VXphf5WPEVL1Y0TU/ACnmrXE/Y61kd3BFjleNvJ/CA8WQFuBI/Xa4WD1bjhY4+lIfbkV0Fb8O54POU8BfCiQ/WZZhNXqKRvnmzXAo9bl8aSdDZ60L48Hk2vijs9L+HtjY5xcYo9TM5vjzuuVkfHqKwit/bFsXGtRB7der44Hb7+Aq29aIXSeQPAqgeC5TRA8vQ0OD2iCv1+riog69tj5QgfsfKED9tX4ELF2nXG9ZS3cblMDd9pXQmZngYBV/wzntvB3egup3evjsn01qKq8hZ0vdMCuyh2htuuDE03aI6tlPWS/XQ+321dC2g/lEbL+BexdbocA504IcO6Eiy1r4tQrL8K/6nvwr/oe9tboDrVdH1xo1gxZLe2A9+yQ1a4CEp2rI3JzHexf3Aq7XToj/Ne2uGxfE0debo7d1Tpjd7XOCKvdC7F2nyOrpR3utLHDk3fr4Hq78oj+qw6iPOsieHZH7HbpgiNfNsdl+5o4WOct7K7WBburdUFUvc+R3KArslra4WF7OzzoWB0XPq8EtWc9RG54CYEuXRDo0gWnO72ES81rI7BaFwRW64I91T+A2q4PzrzSGlkt7fCkkx3udHgBx0dVg9rTDmHL7RHo0gV7pnTCZfuaSG/cSJr3QK0eUNv1wd+vNcLN1+2Q9149ZLUrjwS32lB72mG/W1sEunSB+qc3cNm+JuJebCXNG1HnE8TX/xhZLe1wr60dHneqhavvVoTa0w5qTzsEzXgPu126IOXjV3DZviZCanb8Z96uUNv1QVqjd5DV0g6PO9jh3ttVcfa7ylB72iFibWPpZz3fpi4ymtpJn7nvn7+bc01fQ1ZLO+S+a4eb7W2RMqUG1J52OLCkFQJduiD09/a4bF8TyQ2aSvOG1f4Yars+uN7iRdxubYecd+siq115xK2qC7WnHfbO7YBAly6I/6YFLtvXRFTdN6V5I+t+hqMvd0NWSzs8aGeHh+/UwKWPK0HtaYfoTfWl73uyawNctq+JoOqdEVitC4L/+bs5+UpbZLW0Q/Y7drjboTJO/lIVak87hK9s+nRep864bF8TJ5s0kD4zpOZHUNv1wSX7V3Cj1b/r4dHZtaD2tEPIojYIdOmCyJ/fxGX7moiv30Ka92Cd3oh78RNktbTD3TftkN2pNq63ryD93QTP6oRAly5I+qwpLtvXRGjtDtK80fX+DykN30VWSzs8am+H+x2r4dxXL0DtaYfI9Q2lnzWjvR3ON6srzbe3Rjeo7fog49VWyGpph5x37Z5uc+OqQ+1ph9BlryHQpQv2j+9Y2nseeg4D3cQKu0ncsGHDNObp2bOn7CZxnp6eEEIgJiZGNt3ly5dh6E3ibt++zUAnUjBuM+bPrAI9L+9pkKekAGFhgL+/zhB/dtzbosJ5DxVS5qgQ5/g0tOPHbMLFTl9qjfL8kSeskDJwDtQuexC6JBmB6y9g59IkBI/dgO1TtmKN8064uQZghlsIHJeq4eARW+BwXR0B19URcPCIxU/jj6FV+2soUzZX+shPB5yWTT/c6Siq136IJq/dwtvdL+GLIScwwiURjstjMNcrAh6BB7AhMhjeR3ZDla4qeKT5ITBlK/YlrUVogjsOqSdqRrWOkRgxAoEpW+Cf5gtVugoHEj2QfuAbHAsfhCORI3FIPRHRcdMRHu+GkEQP7Etai+DkDQg85lX49ypgbEnagtGBo+ES5iJ7fWfqTtjMsIFwFlpH1dlV0XhxY7Rb1Q7uMe6IuxCHE9dP4Mq9Kzhz4wxU6SqEZ4Tj6N9HcfrGaVy4fQHX7l/DnUd38DjnMS+rUxDuY4iUj4FuYgU9Zq1///6oU6cO7ty5I72WmZkJGxsbTJw4UXotKysLFSpU0Ij52bNnG/yYNQY6kbJxmzF/ZhHoDx4AaWnA3r16BTlUKjzZqcLlVSokzlDJjoDHOqgQ/8dm5NhU1AjyJ+VtcaNZB2T0GIJjP81H+KxQbFt9Eks3nIXr6mQ4Li84wPUJ9LGzDqF56yytvxNo/c5V2fQua6OxIjgEPkkBRQrcgFQf7Du6BpFxs5AQ+RtiYxxk4+G26rIQf7i9Oq75tcLpvZ8gIXIUwuMXIuiYF1RpfsUKbUOGX5ofXEJd0GlNJ5SbXg7CWaDj6o4a03VY1QH2S+zx0caPMGjXIDiFOmHV4VXwTfVF7IVYnL15Fvcea96slswL9zFEysdAN5HAwEB4e3tj3bp1EEKgX79+8Pb2hre3t3SqelpaGl544QV06dIFgYGB2LlzJ1q1aoUXX3xR4x9zM2fOhJWVFaZMmYKwsDDMnz8f5cuXx9ChQw36Xgx0ImXjNmP+FB3ojx8DSUl6HynPP4X9vIcKh6Zphvmz43qLzoAQyC1TFtdbvIf0rx0RN3knoqf4wnfWPiz2iIfj8rhiBfmzY8rSWHT7NBNlyuTKorxipSfo+OElDJmcjKnLnk7rvFqNNSH7sCu1CJGb5ou9SWsRcXgu4iPH4FJARzzZUh63fRpoBHpm8Ie4EPgejh4chr2Jq0oswrWNnak7MXL3SLy88GWNI+IVZ1aET4pPgfNHZkbi/O3zeJL7pLTXWjIi7mOIlI+BbiINGzbU+Ada/jh79qw03eHDh9G9e3fY2tqiSpUq6NOnD06dOqV1me7u7mjWrBlsbGzQoEEDODk5ITs726DvxUAnUjZuM+ZPsYF+9iwQFKR3mEOlws2N2o+YaxtHhy3D32/1RsKo9YiZ6ocDE7zgPW4d5swNNlqU548xc+PR2P6WLMxfqPIYvb89g4mL5b8EWOwbBp8k/yIdLT9wZCnUsU6Ii56Ic0HvI8ernOwI+bGwQVKcR8dNx76jq6FK21WqYe6X5oeJ+ybiRbcXtZ6q/qnnp5gbORe7tHxP/+P+SLyciDuP7hS6OpF54j6GSPkY6BaGgU6kbNxmzJ/iAj0nB4iPNyjMoVLhwnIdMT7FF1fe7ImUH+dpvKee4ovgsRuw9Vd3LJ+wDtOWRBk9zh08YvHThGOw/ufIubV1Hjr1vIjxCw/JpnFcEYN1YXsNDlz/tJ04kOiBmNhpiI1xQOqB7/BoWxVZmOd6lsEVVRscifgV6lhn7Du6pkRPW9c1NhzZgFbLWmmEeYtlLTBp3yT4pvrqnDf+UjxPYbcA3McQKR8D3cIw0ImUjduM+VNUoD969PQu7AaEee4uFU4u1B7ncZN8kNW84z/Xl1dC8pBFiHVQIXqKLwL/WA/PEQuxadgCLJu0AQ7LYkwS5/mj1zdn8UKVxxg6/qjGe86r1fCMCTI4cPckb0B0nAtiYxwQp56ESwEdZWGe52mFv/3fQkLk74iNcUBogjv803aWepjnD+9j3qjvVl8K81bLWmFe5LwC59l/ej+u3b9WOusnlTjuY4iUj4FuYRjoRMrGbcb8KSbQs7MNjvM8PxWOu+k4cj7VD1mvdZLOKc8tUxZp/aciaOxfUphvGrYAS6Z6mjTM88fUZbFwXBwt3cU9fzitisHWw4EGHjX3RXjCIul09fjI33F3x4uyOL/t0xBHD/6C2BgHqGOdEZy8sdSDXNuYFzkP9RbUg+MBR/gVclQ/6e8k5OTmlPy6SaWG+xgi5WOgWxgGOpGycZsxf4oI9CdPgIgIg09rz1ii+xrzzO4//ft88rI2SOg/GVt/dZfCfNOwBVgxfq1JYnz8wkMYPClZ4/VnH7Pm4BELx+Ux2BAZbFDQ7k7ZjqhDs2Q3ezuzt7fsdPbM4A8Rq56K2BgHRByeg4DUHaUe4qp0FdbEr8HGRM1fFBR0KrsqXYWA4wHIvJVZsuskKQL3MUTKx0C3MAx0ImXjNmP+FBHocXEGx/nlVbrjPHWAK/KsrKVAj/5shCzMNw1bgHWjlprsmvPW71yFtXUu3v/8HKYs1R3oq/btNyhwg45thjrWSeNu7LHqqbgc0B6PtlZGcvgQ6fWD8QtK/SZw+WNZ7DJUn1MdLZa1KPSO7LKf+WQQbjzg/2MsFfcxRMrHQLcwDHQiZeM2Y/5KPdDPnTM4zu9vUyHOUXucx4/ZiMeVqklxnvTWhxpxvnG4G2a4hZgkzr8aekK6U7tN+Rz8NvOI1kB38w43OM7zbwSndainID5yjPTf4QmLFHEjOFW6Cktjl6LanGrSteZfe3+td5zfflQy+39SJu5jiJSPgW5hGOhEysZtxvyVaqA/eAAEBhp83XnKHN1Hz6+2/lCK80v1m2Lzz/M0An2h8w6TxPko1wRUrPRECvTPBpzWeoq706oY7DgaUOQ4T4gcheTwwTpjPTx+YalHef7wiPOQxfkr7q/A86inXnF+6+GtklkPSbG4jyFSPga6hWGgEykbtxnzV6qBHhVl+Kntq3XH+bFBbsgTVoAQeGxTAdsHOmk9td1xqdokgW7/ZpYU56+9mYWpy7Rfg27Iqe27U7Yi5pnT2g9FT8D97bWR42WD1NDvNeI84vAcxZzWvvnoZtSbX0+K81fdX4VXkleh8wUcD0DWg6ySWQdJ0biPIVI+BrqFYaATKRu3GfNXaoF+8aLBcf54hwqHnbTHuXqKL4516S8F+qFOn2vE+aZhCzDXNcAkcf7T+GNSnFeq8hh/zIvXepO4hZ6h8EvTL3D903YiKm6GLMCvqt6Qbgh3f3ttxKqnSO9Fxc2Af6r+13ebcvik+KDlspZSnDde3FivOFelq5BxM8P06x+ZBe5jiJSPgW5hGOhEysZtxvyVSqDn5Rn8SLWC7toeOdkH20cuwaZhCxDw1Ricat4Om4fO1YjzVWNXmSTOpy6LRcOmt6VA7/XNWa3Tua6OgNdBPR+pluaHg/HzZXF+eu9nUpzneNng6MHh0nsxsY7YnbK11MM8f/TY2EOK8+pzqmNt/Fq95ku8nGjadY/MCvcxRMrHQLcwDHQiZeM2Y/5KJdAvXDA4zrN9VDg0TTPOD0zYInuueUFj5oJ9Jgn0//2aLsV59doPMXlJnNbpFnmFwu+IfjduC0lcIYvzoweHIcernBToJ/f1kb2//+jKUo/y/DE2eKwU5zYzbLAgaoFe84WdDUNuXq5p1z0yK9zHECkfA93CMNCJlI3bjPkr8UDPywNCQgwO9PMemnEePHYDNg8vPMxNevR8aSzqvnRPCvQvBp/UOe3GkCC9An13yjbExDrKHqN2x+clKc6vqNo8d935XMXcsd0vzQ/N/mwmBfqY4DF6zed/3B83H9403XpHZon7GCLlY6BbGAY6kbJxmzF/JR7o588bHOc5vvJrz2Om+kE1ZrUU33s/G6b1bu3ya8/9TRLow52OolLlbAgB2DW4h6lLtU83fV00diX46RXoEYfnPHdq+6dSnD/YXgOHoic+c2q7EwJSvUs9zJ8d249tR6/NvfD++vf1niflaorp1jkyW9zHECkfA93CMNCJlI3bjPkr8UAPDzf8zu2rnrkZ3NRd8B29XArvwC9GAULgTpWaOPjhd1rjfP1Id5Pdud3BIxaT3OPQ56eT+OGPFJ3TrNq3H35HCg/0fUdXy+L8cNRYZG+xlQI97cC38lPbE1eUepDrGr6pvnpNF3ImBDm5OaZb58hscR9DpHwMdAvDQCdSNm4z5q9EA/32bYPjHCoVEmc8jfPoKb7Y8dsyWXyfadpWeu65ums/rYG+eNo2k8W5PsNptRq+x/wLDXT/VB/ZI9ViYxzwt/9bUpxf39VC9l503AzFPFKtOOPKvSumWd/I7HEfQ6R8DHQLw0AnUjZuM+avRAP92DGD4/yu17+PUfMeuVQW3jsGOCLX2hoQAg8r2MJryGyNON843A3Oi8NLNdDdd4VBla4qNNAPHFmq8Vzz03s/Q/YWW+R4lUNC5CjZe3uS1pd6XOePoaqhWBO/xuD5IjMjTbOu0X8C9zFEysdAtzAMdCJl4zZj/kos0HNzgeDgIj1aTT3FF96/LdWI78T2PaWj50ltu2s9er58wnqTRPfExXEY5Zqg17SbooMLDfSA1B3yG8M9d5r786e2RxyeU+pRnj9mhc+S7tg+VDXUoHmzHmQZf12j/wzuY4iUj4FuYRjoRMrGbcb8lVigX7pkcJzn+alw2Fl7nG8atgA3q9eVAt3nu6klenO4zwachpV1HuzfzMLPU5N0Tue8Wg2/NFWhgR6W4K41znWNoGOepR7mqvSn15k3XNRQumv7r7t/1XvemPMxxl/P6D+F+xgi5WOgWxgGOpGycZsxfyUW6DExBgf6rU1+shvCPTtU/cdJcX6lbiOt02wc7oZpS6JMEugvNb4jPVrtx/HHCj29vaBA352yHTEx2o+eaxtKOnr+6+5fpTh/9c9X9b4xnCpdhduPSmbfTuaL+xgiDw/QFQAAIABJREFU5WOgWxgGOpGycZsxfyUS6I8eAf7+Bgd61MwVOh+bdvStj6RAj3v3/7ROs3LcGpPE+W8zj0hxXvvF+5i6rPDT2wsK9LCExbIAP3pwOP72b6dxzbl07XnyhlIPc1W6Cj4pPqg1r5YU6HMj5+o9b+yFWOOuY/SfxH0MkfIx0C0MA51I2bjNmL8SCfTMTIPj/NLm1fAaqePZ5r/Mx61qtQEhkCessGOAo9bp3KbvNEmgf/RlhhToXT89r9fp7boC/emd2+VHz6+q3gA8BXI9yyD9wP9k70UdmlnqYZ4/fvH/RYrzdivbGTTv1XsmfJQf/WdwH0OkfAx0C8NAJ1I2bjPmr0QC/dAhw+7c7u2F0HkuOo+e+/f7Qzp6/rddE53TuZjo7u3Pnt4+bNpRvU5v1xXoIYkrZAEeH/UHcr3KAJ4CT7ZUwKHo8bL39yWtLfUwV6Wr4H3MGzXm1JACfWH0Qr3nDT0batz1i/6zuI8hUj4GuoVhoBMpG7cZ82fyQM/NBQID9Y7zbF8fHFk1HQGOM3WGt983E3DSvgMela+I2Pf6ap1mze/LS+T09oKm3RgVLAtTjUBP80N03HRZgGcGfyg99/xSwNuy99RxLop57vlgv8FSnHdc3dGgeTNuZhhv/aL/NO5jiJSPgW5hGOhEysZtxvyZPNCvXTPo6Hn6uvmI9XDA9jFzdQZ6/vAcOkfrs883DVuAxdO2meb09q/+Pb29SwGntzuuiIFvijxMnw/0Pcl/ya8vV0/Fw+01pEA/enC47P0DiR6lHuaq9KfXnlefU10KdPcYd73nDToZhJzcHOOtX/Sfxn0MkfIx0C0MA51I2bjNmD+TB3pKit5xfsVrDWI9HBD1p/Zryg0ZMxfsN83p7U3+Pb39F0fdp7fP8YrQiNPnAz3i8FxZgKce+E6K81s7G2ncHG53yvZSj3NVugruMe6oNqfa06Pnaww7ep5yNcV46xb953EfQ6R8DHQLw0AnUjZuM+bP5IEeGqpXnD/23YHDK5wQ6+GAfa66rz/XZ/w10t0kcT5qVoIU57XsCj693SPwQIGBvjtlm0aAX9/1mhToJ/d/odhHq6nSVdiRsgO/Bf5m0LXnqnQV7j6+a7x1i/7zuI8hUj4GuoVhoBMpG7cZ82fSQH/wQO+j58fXL0CshwNiPRygmjpLZ3wH9h2FrYN0X5++adgCLJ+wziSBPnBsCmrb3YcQQOfeFwqc9tnHq2kL9JBED1mAJ0T+jlxPa8BTIHtrJcSpJyvy5nDFGeEZ4cZZr8hicB9DpHwMdAvDQCdSNm4z5s+kgX72rF5xfn3beinOYz0csHW09uvPN/88F49tKiDXyhrnGrXUGegLnXeYJNCfPZI+Zm68QdefPx/oUXEzZAGeEfyRdPT84u5OsvdiYqfBP8231AO7uOP0jdPGWa/IYnAfQ6R8DHQLw0AnUjZuM+bPpIEeF1donOf67cKRVdOlOI9y1339eVCfkdLj1c6+0kbndLPm7zVpoBc2tF1//mygBx7z0ji9/bZPg2duDjdM9l54wqJSj2tVugpr49dibXzRjuT7H/fHwycPjbNekcXgPoZI+RjoFoaBTqRs3GbMn0kDPTi40EC/5LlSdvS8oOvPE9v1kAI9ums/rdNsHO4Gx6XqUg10bdefPxvoB44s1Qj0Q9HjcWpfH/zt307jveDkTaUe56p0FT7e9DHKuJRB1/VdseHIBoPmjT4XbZx1iiwK9zFEysdAtzAMdCJl4zZj/kwW6PfuFRrnT3x3SjeGyx9+U1x1BvqVeo2lQPf5bqrWaVb9sdIk0T1x8SG9p9V2/bkU6Am7EB3nohHhuoY61gmqNL9ix3Vxx9bkrag4syKEs0DFmRWxNXmrQfNn3sos/jpFFof7GCLlY6BbGAY6kbJxmzF/Jgv08+cLDfSMjUtlcf70+vN5WsN7y6CZyLW2BoTA7aq1dEa8u+MWkwT6i43uombdB+jwwWVMWap7Ol3Xn+cHeuBhzdPbCxphCjm9fUTACOm55z039TRo3oDjAcjOyS7+OkUWh/sYIuVjoFsYBjqRsnGbMX8mC/SkpEIfqxa33FEW5wU9//xAr0HS0fP0lp10TjdndqDR43zs/MMQVnkQAqj9YsGPV5vjGakzVP2O+GGferlBgb4n+a9Sj3O/ND80cW8iBfqiaMN+aRB7Ibb46xNZJO5jiJSPgW5hGOhEysZtxvyZLNDDwwsM9MxNmkfPD8xz1hneqa93lgI9tOePOqdzco8weqB/Mfik9Pzzt7tfKnDaJarQAgM9PHKeLMDP7umFa36v43jI1xqPVouJdYRKAXdvd4tyk+K86Z9NDZ4/42ZG8dcnskjcxxApHwPdwjDQiZSN24z5M0mg5+QA/v464zxnl6/GteexHg4IcpmhM7yv1X5ZCvRtP07XOs3a0ctMcnp7m05XpED/38i0AqddG7pX96ne8dsQEeEqi/C7O16U7t6eeHCE7L2D8QtKPc5V6Sp8uOFDKdBH7h5p8Py8ezsVFfcxRMrHQLcwDHQiZeM2Y/5MEujXrxt05/b8sWuS9hvEeQ2ZLV1/fqtaHZ0Rv3TyJqPH+dRlsahS4xGEAMqWy8XExXEFTr/1cKDOUN0bu0YW6PGRv0txfs+7rsbp7fuSivZIM2OOrclbUX5GeQhnAdtZtth+bLtB84edDTPOikoWifsYIuVjoFsYBjqRsnGbMX8mCfSTJwt87nnCShetgb519Fyt4e377WTcrF4XecIKJ5u31xnoC2b4Gj3QR844Ih09b9T8VoHTOq6Iwa5U3bEaGr1YFuin9n0uBfrF3Z3kp7fHOCIg1afUA31U4Cjp6PnHmz42eP60a2nGWVHJInEfQ6R8DHQLw0AnUjZuM+bPJIEeF6cz0K9tXac1zqOX6L5BXP7Y+tMM7Bige7pZ8/caPdA/H3hKCvQun5wvcFrXjVE6Q9U/bSciImbLAv26X0sp0FNDB8gCPfLwnFKPc1W6Cq2WtZICfV7kPIPnv/GA/3+gouM+hkj5GOgWhoFOpGzcZsyfSQI9OFhnoKesnaM10EPnORUa6IWNaUuijB7ob7777/Xn341OLXDaxb5hOkN1T9J6RES4/hvo6inI3lIR8BR4sqW8xg3iQhKXl3qc+6X54WfVz3jF/RXUd6sPPwOfxx58Mhh5eXnGWVHJInEfQ6R8DHQLw0AnUjZuM+bP6IF+/77OOH/gs01rnMd6OCB4uu4bxOkz1o1aYvQ4d/CIRc26DyAEYG2di4mLDxU47ar9+3TGaljCIlmgHwv7STp6nrXLXuP686BjnqUe6M8OryQvg+dJuJRgvBWVLBL3MUTKx0C3MAx0ImXjNmP+jB7oFy8a9Gg16QZxk7XfIE7fsXzCOqPH+bgFh2FdJhdCAPUb3y10es+YIJ2xqo5zkQX6+cAuUqCf2dv7ucerOUGVtqvUo7y448LtC8ZbUckicR9DpHwMdAvDQCdSNm4z5s/ogZ6erjXO8/z8dN4cLtbDAdt+136DuLAeA3GrWh2cat4OgX1H6Qx0d8etJjmCPmHRIXw3OhXf/lbw49UcPGLhe8xfa6gGpmxBbIyDLNDv7HhJCvQjkb8993i1+aUe18YYj3MeG29FJYvEfQyR8jHQLQwDnUjZuM2YP6MHuo4bxN3YtlFnnKuXOmDz8PlawzuldVfp+ecHeg3SGehzXf1NEuj6jhnro3WG6v6jq2SBfjhqLPI8rQBPgfvba2uc3r7/6MpSj+uJ+yZiYfRCg687zx+hZ0ONtYqSBeM+hkj5GOgWhoFOpGzcZsyf0QM9JERroB9f76Yz0MMW6L5B3JW6jaRA3z7QWed0M9xCSjXQ3bzDdcZqeLyb/Ai6egpSwgbiQuB7OLunp0agB6ZsKdU490nxQWXXyhDOAk3cm2BXEU63T/o7yXgrKVks7mOIlI+BbmEY6ETKxm3G/Bk10HNyAH9/jTjP9vVB3HJHnYG+Z8Z0rdHtOXQOcsqUBYTA7Sq1dMb5xuFucFyqLtVAXxEcojNW1bHOGqe46xrqWCeoinjU2ljDMcRRerRal3VdirSMi3cuGndFJYvEfQyR8jHQLQwDnUjZuM2YP6MG+q1bWo+eX92yVmecx3o4QDV1ltbw3v3l79LR8zNN2+oM9DW/exg9uAeMSUWLdtfx8ddn8dvMI4VOvyEyWGuo7k7ZKsW3PoEeHu9WqnGuSleh6/quUqA7hDgUaRmPnjwy7opKFon7GCLlY6BbGAY6kbJxmzF/Rg30c+e0Bnr6uvkFBrrP+Nlawzu6az8p0A+987nOQF82aYPRA/3djy9Izz/vO+hkodN7JwZoDdV9R1cbFOj7jq4q1Tj3PuaNCjMrQDgLvOD6AnxSfAxeRsiZEOOupGSxuI8hUj4GuoVhoBMpG7cZ82fUQE9J0YjznF2+BZ7eHuvhgC2j5mkN77RW70qBvvezYToDfaGzt9EDvVHzW1Kgj5qVUOC001bG6IzV8PiFskA/sn8Ezu75GEnhQxGrnqoR6LtTtpZqoI/fO146et5jY48iLSPxcqJxV1KyWNzHECkfA93CMNCJlI3bjPkzaqDHxGgE+vWt6wuMc/VSB903iKv37w3itv2k/Tr1TcMWYPacQKPG+ZSlsbApnwMhgMrVHhU6vevGKJ2xGh3nIgv086r3pMerHQ/pp3n9eSnGuSpdhbdXvy0F+szwmUVaxvnb5427kpLF4j6GSPkY6BaGgU6kbNxmzJ9RA33vXo1AP7l+YYGBfnChjju4/zIP2eXKA0Lg7gvVdcb5pmEL4LI43KiBPnRKknT0/LW21wudXtcd3HenbJcFeESEK+54//v88/ioPxT1/HOvJC+UnV4Wwlmgxpwa8E31LdJyHmQ/MO5KShaL+xgi5WOgWxgGOpGycZsxf0YL9OxsjTjP9duFwyucCgz0fa4uWqPb93+TpKPnmY1a6YzzDb8uMvrp7b2+OSMF+kdfZhQ6vUfgAa2hui9prSzAo8KdkOdp/c/zz2tpnN4ekri8VAN95O6R0tHzz70+L9Iy9p/eb/yVlCwW9zFEysdAtzAMdCJl4zZj/owW6FlZGoF+Y9vGAuM81sMBQc4ztIa315DZ2PvZLzj8zqcI6zlQZ6CvHrPC6IH++tvXpED/cfyxQqdfG7pXa6yGJSyWBXjSvkHS0fMr/m01Aj04eVOpBnrr5a2lQF8QtaBIy0i4lGD8lZQsFvcxRMrHQLcwDHQiZeM2Y/6MFuhnz2oE+pkN7oUG+q7JrgWevl7Y8Jj0l9EDvUadhxACKFM2F5Pc4wqd3jMmSGusRsXNkAV4pn83KdBP7fs/jUD3T9tZqoE+7cA0dF3fFY0XN4ZfEZ/FfvbmWWOvomTBuI8hUj4GuoVhoBMpG7cZ82e0QE9K0gj0hJUuhQa69x9zihXo7o5bjRrnf8yLl46ev9T4jl7z+CRpPmLNP22nRoDf3NFECvQjEb/JT38/VLQbspli7ErbVeR5bz68afyVlCwW9zFEysdAtzAMdCJl4zZj/owW6FFRsjh/4LOt0DiP9XCA50jtj1jTd8yf6WfUQP96+HEp0N/ufqnQ6Z1Wq7WGavCxzbIAj1NPRo5XOcBT4NG2qhrxHpawuNTDvLgj4HgAcvNyjb+SksXiPoZI+RjoFoaBTqRs3GbMn9ECfc8eWaBf9lpdaJxH/emoNbq3/TQdMZ2/QFDf3+A1eFaBge46b49RA33kjCP48MtMvPZmFr75Nb3Q6WdvjtQaq/sTV8gCPDl8iHT0/LpfC41A33d0TakHdnHHwYyDxl9ByaJxH0OkfAx0C8NAJ1I2bjPmzyiBnpOjcXr78fVuhQZ62Hztj1jb/8lQ6Q7uqa93LjDQnY38iDVDxyIf7Y9YC493kwX4mb2fSIGeGfyhRqAHpmwttbCeuG8ixgaPxbbkbcVaTtLfSaZZSclicR9DpHwMdAvDQCdSNm4z5s8ogX77tizO8/z8Cn28WqyHA/bOnK41uuPf/kQK9MgPvtEZ5xuHu8FhWUypBvryoBCtsRr93A3i0kO+wfWdLfBoaxWkhP4gey8mdhpURbwpmzFGw0UNIZwFKsysgM1HNxd5OedunTPNSkoWi/sYIuVjoFsYBjqRsnGbMX9GCfTLl2WBftfbS6/rzwMcZ2oN7zOvvikFun+/P3QG+trRy0o1zh08YrE+XPMRa/6pPhpHyGNjHBAR4YqICFfEqqfKXz88t9TifEnMEunRavZL7Iu1rDuP7phmJSWLxX0MkfIx0C0MA51I2bjNmD+jBPqpU7JAv7B5uV6B7jtR+yPWbtSoBwiBHOsy2Dx0rs5AXz5hnVFje8jkZAwcm6LXo9Xyh1dcoEaoBidvLDjQn3v9wJFlpRbo/bb3kwL9Z9XPRV5O4IlA5OXlmWYlJYvFfQyR8jHQLQwDnUjZuM2YP6ME+tGjskBPXTtXr0DfNlozvjcPnYsc6zKAELhRo16B15//6eBl1EBv1eGa9Pzznx2S9JpnZ7K/RqyGJC43KND3JK0vlTj3S/ND3fl1IZwFrF2ssSFxQ5GXFXUuyjQrKFk07mOIlI+BbmEY6ETKxm3G/Bkl0NVqKc5zdvkibrljoXEe4+GAzSPma0S3qv846fT2s6+0KTDQF0z3NWqgV6/9UAr0yX8WfhTdZY32R6w9f4O4w1FjEaeerDPQd6cU7+ZsRR3zIudJR8/bLG9TrGWlXE0xzQpKFo37GCLlY6BbGAY6kbJxmzF/Rgn0/fulQL+1fZNeR88j3bU/Yi38owFSoCe271lgoM+eE2i0OB8zN156/vlLTe7oNc8crwitsRod5yIL8KuqN5DrVQZ3vF9CXOgExdwg7jOvz6RAHxU4qljLunTnkmlWULJo3McQKR8D3cIw0ImUjduM+St2oOfmAv7+UqCf3+yhV6DresTa0bc+kgI9rOfAAgN9+sJQowV6/2HHpUDv2P2SXvMs9g3TCNWA1B0aR8jvb68FeArkepZB5MHpsvciD88plTj3TfVF9TnVIZwFyk4vC68kr2It70H2A9OtpGSxuI8hUj4GuoVhoBMpG7cZ81fsQL93T3b9edq6eXoF+j5XF63RndHkdSnQd30zscBHrDkuVRst0Dv1uCgF+pdDT+g1j7ZHrAUnb5AF+KHo8cj75/nnd7e/qHGKe2iCe6kEukuYi3T0vOPqjsVaVtDJINOtoGTRuI8hUj4GuoVhoBMpG7cZ81fsQL9yxeDnn8d6OCDIeYbW8E5r9S7uVKmJJ2XLYfPP83QG+rpRS4x6/XmDprelQB/tmqDXPGtDNR+xFpK4QhbgqaEDgH8C/ZJfB41A33d0dakE+gd/fSAF+sR9E4u1rMjMSNOtoGTRuI8hUj4GuoVhoBMpG7cZ81fsQD9zRgr0+z5b9YrzWA8HqKbOKvD0dc8hswt8f+XY1UaL8ylLYlHOJgdCAFVqPNJ7vs3qYI1YDY9fKAvwzOAPpUA/EdRXI9CDjhXv1PKijlWHV+HbHd+i6Z9N4ZPiU6xlJf2dZLoVlCwa9zFEysdAtzAMdCJl4zZj/ood6MeOSYF+xWuN3oHuM6HgAC9sLJ2yyWiBPnhSsnT0vMVb1/Web3vCbo1YjTo0Sxbg1/xaSYGeEDJSFugxMY5QpfmWSqAbc2TczDDdCkoWjfsYIuVjoFsYBjqRsnGbMX/FDvTYWCnQT/21SO9A1/YMdEPGQmdvowX6x1+flQK9x1cZes+3K/W5WE3bhZgYR/kN4rzr/HODOGtEHpwuC/SouBmlHtfGGDce8P8BZBrcxxApHwPdwjDQiZSN24z5K3agHzggBXri6hl6B7q2Z6AbMua6Bhgt0Ht/e0Z6BvpPE47pNY+2Z6AHpmyVxXmcejJyPa0BT4H73rU1noMeHr+w1OPaGCMnN8d0KyhZNO5jiJSPgW5hGOhEysZtxvwVK9Dz8oCAAEClQravj95xHvWn9megn3n1TVyvVR+nmr2FLYNmFhjos+bvNVqg54/RsxMwZYl+087eHKkRqnuT1skCPSl8qHR6+zW/lhqBHpK4osRjenTgaPTf3h/L45YbZXkhZ0JMu4KSReM+hkj5GOgWhoFOpGzcZsxfsQL9wQPp6PmNbRv0DvRwN+3PQL9dpRYgBJ6ULYdNv+i+g/umYQvgvDjc6IFuyHDzDteI1QNHlsoC/eS+PlKgnwvqphHowckbSzTO/dL88PLCl6W7t6+NX1vsZR66eMi0KyhZNO5jiJSPgW5hGOhEysZtxvwVK9CvXZMC/dymZXoHesgczWegew12RZ6wAoTA9dovFRjnG4e7wWFZTKkG+lL/AxqxejB+vizQY9VTkRA5Cukh3yAxYoRGoAek7ijRQJ8bOVeK89eWvmaUZR6/fty0KyhZNO5jiJSPgV6KBg4cqPGPuGeHWq0ucLrmzZsb/JkMdCJl4zZj/ooV6JmZUqCnrJ2jd6AHT9d8BvruL39H/p3aTjVrV2Cgr//tT6OF9iT3uCLNt2rffo1YjY5zkQf6c+PZQFfHOpdonKvSVei+obsU6L8H/W6UZV6+e9m0KyhZNO5jiJSPgV6KTp06BbVarTFq1aqF+vXrIyfn6U1iBg4ciIoVK2pMl5iYaPBnMtCJlI3bjPkrVqAfPw6oVMjz88PhFU56B3qAo+b15ZHd/icFenzHTwoM9NV/rDBaoNeo8wB16t9Hx+6XDJrvr4N7ZKHqn7azwDh/PtAjDs8p0TjfkrQFNjNsIJwFKs2qBO9j3kZZ7r3H90y7gpJF4z6GSPkY6AoTFhYGIQQcHByk1wYOHIhKlSoZZfkMdCJl4zZj/ooV6ImJgEqFBz7b9I7zWA8H+E501YjupLbdpUA/0GtQgYHuMfEvo8T5aNcE6fFqL79yx6B5veICZaEadGyzQYEemuBeooE+zH+YdPS8t2dvoywz8ESgaVdOsnjcxxApHwNdYQYMGAArKyucOXNGeo2BTmQ5uM2Yv2IFuloNqFS4vnW9QYHu/cccjejOaPK6FOi+/5tUYKD/6eBllEDvO+ikFOjv9rxo0Lw+SQGyWN13dLUsxpPDh+ByQAec3vspjkSM1Aj0/UdXlWigN3FvIgW6u9o4vxyIyIww7cpJFo/7GCLlY6AryK1bt1CxYkV8+OGHstcHDhwIa2tr1K1bF9bW1qhfvz5+/fVXZGVlGfwZDHQiZeM2Y/6KFej/PAM9c9NSgwLda6TmHdpvVq8LCIEc6zLY/PPcAgPdzcXHKIH+Vpe/pUD/38h0vedzXBGjEauhCe6yQM8I7iHdwf303k80Aj04eVOJxblbtJsU503/bGq05R79+6hpV06yeNzHECkfA11Bli9fDiEEtmzZInt94cKFWLhwIfbu3Yu9e/di6tSpsLW1hb29Pe7evVvgMh89eoTbt29L4/z58xBCICMjQ/qftClHZmYmMjMzS+SzODj+C4PbjPmPEydOaAT6iRMn9Js/IAA3/PyQsMEdEatd9RoHV7rCc8IS2fAatxg5ZcoCQuBmLTuN958f7gtVcF0dUexRr/49CAFYWeXBaUm03vMt2BQGvyN+shEavVgK8IgIV1ze9ZYU6Ef2P72De2joQoSGLkREhCv8E3ZoLMNUo+uarlKg/7rrV6Mt91jmsVJffzn+24P7GA5tg5SFga4g7dq1Q82aNfHo0aNCp92xYweEEFi4cGGB0zk5OWm9AzwDnYNDmYPbjPmPIgf61au44eeHG35+iF4zV+9AP7BsjkZw+w2dJp3entm8TaGB7vZnULHj3GGRWjp6Xr/hHYPmdd8aqhGrByPmygL9jnd9wFMgz9MKUeHOzwX63BKL8x2Hd6DO3DoQzgKVXStj++HtRlv26YunS3395fhvD+5jOLQNUhYGukIcPXoUQgiMHj1ar+lzc3NRqVIl9O/fv8DpdB1B5ynuRMrEbcb8FfkU99u3AZUKj3Z6G3R6+4F5zhqnrG8ZPAsHeg3C4Xc+RWjPHws8vX3TsAVwWRxu1OvPDb2D+2LfMNmp3gGpPs89/3wKcr3KAp4CD7bX0LhJXOSh2SV6/blPig/GBI/ByN0jjbrcB9kPTL+CkkXjPoZI+RjoCjFq1CgIIZCcnKzX9Lm5ubC1tcU333xj0OfwGnQiZeM2Y/6KHOhXrgAqFW5s22BQoO+dOb3QAC9obBzuBsel6mIH+hsdr0qB/u2oNIPm9QgMkYXq83dwP3pwuHR6e9Yue41AD0tYXKKBborBO7hTSeA+hkj5GOgK8OjRI9SoUQMdOnTQe55t27ZBCIHFixcb9FkMdCJl4zZj/ooc6BkZgEqF85s9DAr03U6az0A3ZKwf6V7sOJ+6NBaVqjyGEEC58jmY5B5n0PxrD+yTxeq+o2tkgX48pJ8U6BcCO2sE+v6jK0s9sIs7wjPCTb9yksXjPoZI+RjoCrB161YIIbBq1SqN9zIyMtCpUyf8+eefCAwMRFBQECZNmoQKFSqgZcuWuHfvnkGfxUAnUjZuM+avyIGelgaoVDi+foFBge43RfMZ6IaM1X+sKHagj3BORJmyuRACaPr6DYPn3xQdLIvVA0eWygL9XNAHUqCf3NdXI9CDkzeYPKB3pu7EkpglJlt+/KV406+cZPG4jyFSPga6Anz00UeoVKkS7ty5o/HejRs30LdvXzRq1AgVK1aEjY0NmjZtigkTJuDWrVsGfxYDnUjZuM2YvyIHekICoFIhYaWLQYHuM362PLp/mY+Ibt8isO8obB1U+NH15RPWFzvQHTxiMWHRIXw9PB0//JFi8Lzb4nfLYvVg/HxZoF/ze10K9KTwoRqBvjvV2+SBPnL3SFg5W6Hzus5YcWiF0Zd/4voJ06+cZPG4jyFSPga6hWGgEykbtxnzV+RAj45Gtq+PQXEe6+GA7WPkzzjfPtBJuoP7pfpNCw30Px28jBLoxRm+KfJYjY6bIQv0uzte/OcO7gJx0ROfC/Q5UKX5mTTOfVJ8UGdeHenRanMj5xr9My7duWSayy0zAAAgAElEQVTydZOI+xgi5WOgWxgGOpGycZsxf0UO9JAQ3Nq+yeBA9xo5Txbcez4fLgV6Wqv3Cg30hc47SjXOnVar5bGatgsxMY6yQD8f2AU3fJvitk9D2esREa4Ii1po8qPnw/yHSXHedmVbk3zGnUeaZ9ERGRv3MUTKx0C3MAx0ImXjNmP+ihzoAQG45LnSoDhXL3PQCG51l6+kQI99r2+hgT7X1b9UA33mX1GyUN2dslX+iLUCRkSEK0LUy0wa5ztSdqDm3JpSoLtFuRn9M/yP+yM3L9f0KydZPO5jiJSPgW5hGOhEysZtxvwVKdAfPwZUKpzesNigQI90d9QI7tTXO0uBvvezXwoN9Fnz9hYrsN/ufgkt3rqOzwacxsTFht293cEjFvO2RMhidU/yXwYF+t7YNSYN9IG+A6U477C6g0k+I+RMSMmsnGTxuI8hUj4GuoVhoBMpG7cZ81ekQL91C1CpcGzNbIMCPczNSSO4L7zcXAr0HQM0A/754bI4vMhxPsk9DhUqPpEer1aUQF/kEy6P1cQVBgV60KFNJovztfFrUX5GeQhnAWsXa7ir3U3yOXEX4kpm5SSLx30MkfIx0C0MA51I2bjNmL8iBfrly4BKhUMrphkU6CFzXDSC+27l6oAQeFyuPDb9Mr/QQHdcqi5yoH/184n83wWgVYdrRVrG0oADslgNS1gki/DDUeMQq56qM9AD4reZLNDfWfOOdPS8t2dvk31O6tXUklk5yeJxH0OkfAx0C8NAJ1I2bjPmr0iBfvYsHu30NvgGcXtmTJfFttdgV+QJK0AIXKvzcqFxvn6ke7FOb7d/M0sK9P/9ml6kZazcu18Wq5GHZssi/LZPA+R4lcM973qyO7jnB7pfgq9Jotkp1EmK86qzq8IryctkgX7u1rmSWTnJ4nEfQ6R8DHQLw0AnUjZuM+avSIGemoob2zYaHOi7nWbIgtv/qz+k09tPNXur0EBfPWZFkeN8nNthlCmbCyGASpWzMWVJ0ZazPnyvLFZjYp1kEZ69tRLgKZC9tZLGEfTwyHnwO2KaR6x9te0rKdDHBI0xWZyr0lW48YDbPJUM7mOIlI+BbmEY6ETKxm3G/BUp0OPjcdFzhcGBrpriKgvugx9+LwV6QodehQb68gnrihzon35/Wjp63v79y0VezmZ1sBSqAak7nju9fSzgKQBPgds+DTQCPTTa3WSBrkpXYUzQGLRb1Q5+Jn7OenZOdsmsnGTxuI8hUj4GuoVhoBMpG7cZ81ekQI+MxKm/Fhkc6D4TZsuCO/KDb3DvhWqAEAjrObDQQF86ZVORw7pR81tSoP80/liRl7MtfrcUqkHHNssCPCV0oBTof/u31Qj0/erlJg10VbrK5HG+59SeElkviQDuY4jMAQPdwjDQiZSN24z5K1Kg79+P5DWuBgf69jFztIb3lsGz4DlkdqGBvnjatiJF9SjXBAirPAgBVK/9EFOXFf069p3J/lKs7ju6RhbgZ/Z+IgV6RnAPjUDfE7vGqIHuk+Jj0hjXNiIzI0tmxSQC9zFE5oCBbmEY6ETKxm3G/BUl0PP8/Q2+g3ushwO2jJxXaIQXNBZM9y1SVHfqcVE6et6594Uix/m0lTGyWD1wZKkswC8FvC0FetqBbzUCPejQJqMF+voj62G3wA5jgk17vfnz48jlIyW0ZhJxH0NkDhjoFoaBTqRs3GbMn8GBnp2Nhz7bDY7zGA8HbB5e+GPUChpzXQOKFNYt2l2HEIB1mVyMdk0ocqDPWB8ti9XweDdZgN/0fVUK9ITIURqBHhC/zSiB7pXkhYaLGko3hfs96PcSC/QT10+U3MpJFo/7GCLlY6BbGAY6kbJxmzF/Bgf6nTu4sW2DwYEe5e5YrDjfNGwBZs3bW+S4HjolCZ98d7rI8zt4xGKOV4QsVqMOucoC/OH2GoCnQI5XOa3PQvdL8C12oG9N3ooWy1pIcV53fl1sOLKhxAL94p2LJbdyksXjPoZI+RjoFoaBTqRs3GbMn8GBfu0aLm42/A7u4W5Ostje+9kwXK3bEKeat8Oez4frFegui8KKFdjFHW7e4bJYjYmd9m+Aq6cg19Ma8BS4711HI86j41zgd8SvWIG+4cgGNF7cWIrzKrOrYMWhFSUW56p0FW49vFVyKydZPO5jiJSPgW5hGOhEysZtxvwZHOgXLhTpDu4hc5xlsX2o0+fSI9aiPvhar0CftiSqVAN9iSpUCtWAVB9ZgCdGjJBOb8/aZa8R6BGH5xYr0JfFLkPd+XWlOK/sWhlu0W4lGueqdBWe5D4puZWTLB73MUTKx0C3MAx0ImXjNmP+DA70U6eQvNrwO7jvmTFdFtsnXusoBXpg398KjfMNIxYaFNOTl8Th0+9PY/KSOKMF+orgEClUg455yiNcPQWJESOQHvINUsIGagR6WIJ7kQLdL80PowJHofyM8lKc155XGx5xHiUe53zEGpU07mOIlI+BbmEY6ETKxm3G/Bka6HnHjiFuuaPBgR7oNEMW3H/bNZECfetPM/6fvfsOj6pK+Dh+E0A6uguiYn9VEHGta1fsHVdZkRVFsROQIiBFMiETAkkIEwgkGSCBUEIgECAwKaT3NrRQTUBQmiBIFaST3/sHcmB2SmYm5Z678/s8z/nDmYnJ8z7nePb73jv31BjosYMiXYrpV3vshKIA7W76E5/V4tzzq8esvEwRq5kbY60i3NHIXj/drUD/xvSNCHNFr+CO8Dswe93sBo9zUxWPWKOGxz2GSH4MdA/DQCeSG9eM9rka6KfMxS7Hudmog8l3vEVwn2reClAUnGrR2qnb26OHznA6pIdMWIumzc9f6n+vanwxsm4CfV5JuojVnPVGlwI9Y9NctwJ9TsUctBjfAopewetxryNxc6IqcW6qMmHdvnUNODOJuMcQaQED3cMw0InkxjWjfa4G+pGcVLcCfdmIYBHbiz4bK66e7+9wl1OBPm3EbKdD+uFnDohzzx986mCd3eKesCZNxGrBuskuBXrqloQaA3155XKbt64PSB2AEZkjVAvzy4NHrFFD4x5DJD8GuodhoBPJjWtG+1wN9H2mBW4FeuLQEBHbK98bIAK96r6nnAr0iNHznYroz0dshuJVDUUBmjY7j+9C1tZZoC/dmHLldu81IRYBvmvly9iR+Q42539uM9BNlUl2A33Zj8swLH0Y7gy/E83HNcf8DfNVj3FbY+/xvQ04M4m4xxBpAQPdwzDQieTGNaN9rgb6LwunuRXoCweGitgueaGnCPRVz7zrVKCH+y+uMaBHTF6Nv7c/Ja6ev/LvXXUW537Tyi1itcysF/G9quwHVMd7AfEKTibeaOOItbEwVZmsAj1hUwI+X/452oW2s/ie+b8T/q16jNsaR08fbcCZScQ9hkgLGOgehoFOJDeuGe1zKdAvXkRlbKjLcV5u1GF+v4kitjc/+III9Oy3v3Yq0A2BSTVG9KPP/SbivMPtJ+r0Ce4Bs0pFqCZXLrMI8A2FPuKItUMr7rN5xNrVgR67LhbdE7qL75ZfPe6eejf0eXrVY9zWOHfhXMNOTvJ43GOI5MdA9zAMdCK5cc1on0uBfuoUKqLHuhzoJVP9LGJ7z+33iUBf+rGvU4EeEpzmMKA/7F8l4rxxkwvo57+hzuJcZzQjeH6xCNW0LQstAnxrTk8R6HvTnrVxxFo4TFUmRBRE4MVZL6JRQCOrMH8s+jEEFQZhRaV756TX90j/Kb1hJyYRuMcQaQED3cMw0InkxjWjfa4E+sXDh2B244i1wkn+FrGd1a0v1j3xFn6693HE9Q11KtDHGbLsxvPQ0LVo2easCPQ3P/ylTuNcZzTDsLhQxGrGxtmW3z9Pf0UE+vasf1kFes766TBVmfDVkq8sorzJ2CZ4bd5riDJHqR7gNY2iXUUNPDOJuMcQaQED3cMw0InkxjWjfa4E+h87t7n1/fPcUL1TEe5oBIQX2I3n0RFmdH17D7y8q3FXl6PwjarbONcZzZiyIk/Eavb66RYB/lvyIyLQN+d/duW752WjYS7XIXPjpXPLE1YnoNX4VmgV1Ao9F/fE3PVzVQ9vZwePWCM1cI8hkh8D3cMw0InkxjWjfa4E+oHNq9wK9KyggFoHul9kaY0R/fmIzRgcvK7O41xnNMOYliNiNX/dFItAP7bsDhHoa0uGIil3AJ43dkKv2U/AXK7Dys0LYKq69B30CTkTsHjzYtWD29Wx9dDWBp6ZRNxjiLSAge5hGOhEcuOa0T5XAv2XsnS3Aj19bGCt4nzut5PrJbpdGTHZWVdu914zwSLQzyxqA8QrOLewGfrFv4CmYxtD0Su4ZmwjmPIGIuXHpSLQHZ2DLvPgEWukBu4xRPJjoHsYBjqR3LhmtM+VQK/MWeRWoKf6jxOxber5PVJ6DMGCL4OcDvRZg6Osgtk3yoz+AesbLNDnFGaIWC1dNfbKEWulo1D919Xz9XOaWHzHvG1wK0xb2Uf8nJYD/cgprnNqeNxjiOTHQPcwDHQiuXHNaJ8rgV5hinYr0E2jr8T4z/c8Ip7gvuI/w50K9Ohh0VbB/PbHP8O70UV07bYHP0ytu+PU7I35ZSsvxWrlcpSX+4lA31jYV9zeHjftUph7673w4ezHkVM8HCWrx/9PBPqZ82caeGYScY8h0gIGuodhoBPJjWtG+1wJ9PIFBrcCPWnklUA/dP0tgKLgopcX4r8KdirQjSPnWMTyoKB1aNrsvHhqe+/BP9Z7oC9amwpTlQmpWxZbPARu+JwuyIxRsGOOAt8pCu6Y2BZzM74Unylca9B8oKduS23gWUl0CfcYIvkx0D0MA51Iblwz2udsoJ+7cA6lsa6fgW426pA4LORSbPediHONrwEUBX+0aev0Le4RvvEWsdzxgSMizv/xxO8Ncov70o3JMFWZkL4pDuZyHfKKR+DZqHssbml/b+bDyC8eYfH99LyKCM0Het4veQ0/MYnAPYZICxjoHoaBTiQ3rhntczbQj5w6gvLprp+BbjbqkDB4AuJ8DFjaWydub99zW2enA32SPlGE8keDKkWct2xzFsMmrqn3OPebVi5iNWvjLJjLdUjM6Y92wa2g6BU0CvCG75JuVuefm8t1yN4QrflAN+81qzAzibjHEGkBA93DMNCJ5MY1o33OBvrug9vdinOzUYf4bycizseArG7fiEDf8uDzTgf6xHEroDOa4Rtpxo23nhSB/q8+2xvk6nnAzDIRq7nrjSK+E3P6425De0Sl9rYZ5+ZyHTI2XTnrXKuBvunAJhVmJhH3GCItYKB7GAY6kdy4ZrTP2UDf+ssat+K8LEonQnvVM++JQC97/gOnAz04JA06oxndv/hJxPkNt5yEb2T9x7nOaEbQvBIRqwXrJlsEeHmZr904N5frkLYlQfOBvuPIDhVmJhH3GCItYKB7GAY6kdy4ZrTP2UDfsCnbrUAvnuInQruqy9Mi0NPf/dbpQB9nyMYPU1fhunanRaD3GlDVIHGuM5oRmlCIFZUrMCprFApXB10J8LLROJvQGieWdMCvqU/bDPTkyiTNB/r+E/tVmJlE3GOItICB7mEY6ERy45rRPmcDvbxsiVuBXhDmL0J73813i0Bf9FmA04EeEF6AN/7zi4jzOzodg29Uw8S5zmjG5KUF+CzpMyh6Bc9P64y8vx4EV1E8UByxdiSpo1Wcl5n1FqGr1UA/fqZh9mCi/8Y9hkh+DHQPw0AnkhvXjPY5G+gF2bFuBXruBL0I7T9btAEUBaebtXQ6zuN8DPCLLLX47vmXozY1WJzrjGb0mx8EL72XeFp7eHIvmMt1+DGvtwj0/SlPWAV68erg/4lAP3/xvAozk4h7DJEWMNA9DAOdSG5cM9rnTKCfu3AOuSmRbgV65vhLV8rjvwrGqRatAUXBgRvvcDrO5/afBJ3RjOFhq/H6Bzvx8LMHGjTOB0ekoEVgaxHnX8/vKgJ8R2Y3Eei/ZLxuFegFaydpPtDTf0pXaWYScY8h0gIGuodhoBPJjWtG+5wJ9GOnjyE/KdytQF8ZEGgR3AmfB2LZR6OdDvTYQRENGuRXD9+ocvxf0JMizp+OfhRlVz0U7tfUZ0SgV+V8aBXoueuNmg/0wp2FKs1MIu4xRFrAQPcwDHQiuXHNaJ8zgf7rH7+icNFEtwI9xW+cS7ez//eIGTJdtUB/0zBCxPnfQ/6OpavDLQL80Ir7RKBvKOxnFehZG2dpPtDX/LpGpZlJxD2GSAsY6B6GgU4kN64Z7XMm0H86/BOK5we7FegrRgfVKtAjh85WJc77T12CJvpmItD98/yRWxFlEeAnlnQA4hVUxytYVTbKKtDTN8/XfKBX/l6p0swk4h5DpAUMdA/DQCeSG9eM9jkT6Ov3r0dp7Fi3An3piGC34zz6i6lo3eIUHn72AL7RbWzQW9vvCnpKxPlrc96CqcqEgrWTLAL83MLmQLyCM4va2DxiLXXLYs0H+q5ju1SamUTcY4i0gIHuYRjoRHLjmtE+ZwK9dHcpymeMcSvQFw8JQZyPAT/d+zi2dX4Cq5551+lA93kpVTy5/ZEGfDhcz8kGEeetx7bHgvWXQrt4dbCI7zUl34vb248vvd1moJsql2s+0A+etH6iP1FD4R5DJD8GuodhoBPJjWtG+5wJ9Oyt6W7Fudmow8JBoYjrG4rzjZsAioLj117vdKA/csdPItA/HbqlwQJ9YIQJ9wW/AkWv4N+Tx4lYLVsVIOJ7U8FXItAPmh60ivPSVQFWsavFQP/z3J8qzUwi7jFEWsBA9zAMdCK5cc1oX02BfrH6IlLXJ7od6PP7T8Syj0fjcmnvuf0+p29vb9LoPBQFaHXtWfhGNvz30L+cMgcBs0ouxWplkkWAryn5Htuye2BX+iuoyu1lfQb6mhDNB3ry1mRUV1erODvJ03GPIZIfA93DMNCJ5MY1o301BfrJsyex0rzArTgvi/RDnI8B2W9/LQJ984MvOHl7e4q4ev7P539r8Di/PILiimGqMiF1S4LN29jtjYJ1kzUf6Nk7slWcmUTcY4i0gIHuYRjoRHLjmtG+mgL9wMkDSC+e61agF00egzgfA1Y9854I9NLnP3D59vZPhvzYIDHuG1Vu9drERYUwVZmQvmmeS4GeWxGl+UAv2V2i4swk4h5DpAUMdA/DQCeSG9eM9tUU6D8f+RlZubPcCvR8gz/ifAyo6vK0CPT0d7916fb21m3OYHQD3N7+XUQarg+8C++E+WF0VIl4PTwpH6YqE7I2xLgU6FkbZmo+0Cv2V6g4M4m4xxBpAQPdwzDQieTGNaN9NQX65gObkZ0x3a1AzwkJQJyPAftuvkcE+uI+epdub3+s674GuXr++IQPxZPbu078WrwemZILU5UJuRWRFgFelfMhNhV8ibUlQ20GevqmeZoP9Krfq1ScmUTcY4i0gIHuYRjoRHLjmtG+mgJ91d5VyE2OdCvQM8eNRZyPASdbXgsoCs40bY64vhNrDPR/3rm1QW9vHxyRgkb6a6DoFTTWN8V3EWnivRmZ2TBV/dcZ6GWjcTHeG4hX8GdieztnoCdoPtB3H9ut4swk4h5DpAUMdA/DQCeSG9eM9tUU6Hm/5CF/2WS3An2lPhALvhwvrp4fvOH2GuN8Xl8D2rY6funp7c1ONcjt7VdfPX8y9GOL92blZcJUZULxmhAR3+uKB4kj1o4kdbRzBnqS5gP99z9/V3FmEnGPIdICBrqHYaATyY1rRvtqCvTUbakoTAh1K9BT/MYhpccQEejbO/3TqQfEzf56Esa8Fw+ftzPqPc6/j8zBNQEtxNXzIZErLd6fV5IOU5UJpVedgb4l71MR6PtTHreK8zKz3mbwai3QeQY6qY17DJH8GOgehoFOJDeuGe1zFOinz5++dPU4LsitQF8+KghLP/bF+n++hp/vfhglL/7HqUC/PKYPn1nvgf6KYZC4ev5ISHer9xeuToOpcrlFgG/PelcE+s70V63PQF8dpPlA5xnoJAPuMUTyY6B7GAY6kdy4ZrTPUaAfOXXk0tXjWQFuBfrS4cEuBfl/j6hRc+s1zkdHlaDN2BtEoPtMXWT1mcT1KUjdstgiwPekPS8CfWvOB9ZnoK8N03ygZ+3IUndiEoF7DJEWMNA9DAOdSG5cM9rnKND3Ht8LU5UJ5dP93Ar0xUNCahXoU3UL6jXQu08aJ+L87qBnbH5m+Y8mpG+ebxHgB00PikDfWPC1jTPQIzUf6MW7ilWemUTcY4i0gIHuYRjoRHLjmtE+R4G+7dA2JG9OcivOzUYdFg4KdSnI/bvH48HbdqDXU3kI+ygGk/SJ9RbnvlHl6DDuPhHoH4dHWX3GP7ocpioTMjfOsgjwY8vuEIG+puR7G2egR2s+0NftW6fyzCTiHkOkBQx0D8NAJ5Ib14z2OQr09fvXI3XdYrcDfX6/UJh6fo/4r527kt790RJxvNo3L6ZhYuDyegv0EVH56Bz8Erz1jXDDuI7wjSq3+kzg7FKYqkzIWT/NIsBPL7oOiFdwfmEzm09wz9g0V/OBzjPQSQbcY4jkx0C/ysWLF/Hnn//bT1hloBPJjWtG+xwFetmeMqw0L3ArzssidVjaWwcoCi56eeGnex+vMdA73bRHBHp47xkICU6t11vcdUYzvotIw9dT4my+Fzy/GKYqE/LXTbF5BvrJxBtsBnqajTPQtRbou47tUnlmEnGPIdICjw7006dPY/bs2ejRowduuukmNGrUCN7e3mjevDkeffRRDB8+HOvXr1f7z6xTDHQiuXHNaJ+jQM/5OQcZRXPdCvTiKX7I6tZXHLG25YGuDuM85stwNPK+AEUBbrz2MOJ8DBg/MbPeA93RMCwuhKnKhMI1oSK+1xZ/h3MJLYF4BYeXd7IZ6MmVyzQf6DwDnWTAPYZIfh4Z6KdOnYJer8ff/vY3eHt747777kPv3r0xdOhQjB49Gj4+Pnjttddw3XXXwdvbG88++yxKS0vV/rPrBAOdSG5cM9pnL9Crq6uRsjUFWbmz3Ar0gjB/mJ/tLgK9rGsPh4E+stticfX8pfvWI87HgLGT8lQN9PCkfJiqTChZFWgV4atLR2JtyRCr18vN/najV0uBfvLsSbWnJhH3GCIN8MhAv/nmm9GxY0eEhYXht99+s/u56upq5OTkoHfv3mjatCliYmIa8K+sHwx0IrlxzWifvUC/fAZ6Tvp0twI9N1SPyvufFYGe8a9+DgP9g8cLRaD7vJR66aFxU4vrPLp9o8rxn8lhGBVVVONnI1NyYaoyodzsZ/NKua1RYucMdC0FevLWZFysvqj21CTiHkOkAR4Z6LNmzcKFCxdc+pkdO3YgLy+vfv6gBsRAJ5Ib14z22Qv0w6cOw1RlQm5ypFuBnhUUgF9v6SgCPfHTMQ4D/dE7tolAD/1wFub1C6uXq+JfTJkNRa+gRcB1eMMw3OFnp2dkI+XHpU7Hublch8K1Bs0Heub2TLWnJREA7jFEWuCRge7JGOhEcuOa0T57gb7n+B6YqkwoWDrZrUBPDxyLE63+BigKzl7TDHF9JzoM9L+1/AOKAjS/5gzm9jVg9oAp9RLoD4e8K45WezvM1+FnZ+VmIW3zApcCPa9iquYDnWegkyy4xxDJj4HuYRjoRHLjmtE+e4G+9dBWmKpMKEwIdSvQV44eg2rFC1AU/N7+VodxHvHJNHH1vHOHXYjzMWDmd8Y6j/ORUQVoGtASil7BNQEtMCLS8Xfc5xZlIGPTHIsA35/yBA6aHsSetOdhLvO1CvTs9dM1H+hr961Ve1oSAeAeQ6QFDPSrnD17Fnq9Ho8//jgee+wxjBkzBmfOnFH7z6pTDHQiuXHNaJ+9QK/YXwFTlQkl84LcCvS8rwaK29t3dHzUYaAPeWOZCPS3HzIjzseAGcNi6jzQu08aJ66ePxDydo2fjy9fiewN0RYBfmbRtX+dgd7c5hX0zI2zNR/olb9Xqj0tiQBwjyHSAgb6VQYMGIAHH3wQU6dOxfjx43HjjTfCx8dH7T+rTjHQieTGNaN99gK9ZHcJTFUmlM4KcCvQV73XSwR6xWNvOAz08N4z0Oe5LHTttAkjuy1GnI8BxpFz6jzQ7w56WgR67/CoGj+/eF0qcisiRXyvKvsB1fFef52BfqPNQF+5OV7zgc4z0EkW3GOI5OeRgX7o0CGbr990000WT3VfsmQJ2rVr11B/VoNgoBPJjWtG++wFevaObJiqTCif7udWoG967g0R6AWvfuIw0G3e9j56fp3G+XeRafDSN4KiV9Bm7A3wjSqr8WeWbUpGwdowEd8VRd8C8cpfZ6DfazPQU35M1HygHzx5UO1pSQSAewyRFnhkoLdt2xZz5861ev22227Djh07xD/PnTsXHTp0aMg/rd4x0InkxjWjfbYC/cCBA0jemozkTcvcinOzUYfF34VgcR890t/9Fos+C3A50MPHLKrTQH/V8J24ev5M6Gc1ft5vWjlMVSYUrw4S8f1jXm8R6PtSnrQ+A73cD6ZK+wGulUDnGegkC+4xRPLzyEBfvHgxOnTogJdeegnbt28Xr48ZMwa33347vv/+e/Tr1w9t2rTBDz/8oOJfWvcY6ERy45rRPluBvvPXnTBVmZC6brHbgb5wYKjLUX71CBu7rE4D/cZxnUSg+0ytOf4DZpbBVGVCmVkvAnxHZjcR6L9kvG4V6KWrxjoMX60EOs9AJ1lwjyGSn0cGOnApVPv27YuWLVti/PjxOH/+PKqrqzFz5kz06NED77//PqKjo3Hx4v/WpspAJ5Ib14z22Qr0qp1VMFWZsNK8wO1An9/f8bFql0fIf2IxqttiTP88wuL1CUHJdRbnfacuFHHeYVwXp35m/NwSmCqTLAJ8b9qzItC35vzHKtCL1oRoPtAztmeoPSWJBO4xRPLz2EC/rKSkBPfffz/uv/9+lJaWqv3n1DsGOpHcuGa0z1agV2y/9AT39OK5bsV5WaSf01fK33pwlXiC+4i3E8XrQRPS6yzQB0aswJOhH6PN2BvwumGYU0Sjuz4AACAASURBVD8zYUERUrcssgjw31f8QwT6xsK+VoFesG6y5gO9aFeR2lOSSOAeQyQ/jw90ADh//jwCAwPRokUL9OvXD3/88Yfaf1K9YaATyY1rRvtsBXppZSlMVSZk5s1yK9DXjeiLyvufwapn3oWp5/cOA71zh10i0CM+mSZeDwzLqdNb3HVGM3yjyvBDVLFTnw1LLED6pjiLAD++9FYR6KtLR1gFem5FlOYDfc2va9SekkQC9xgi+XlsoP/888+YMWMGpkyZgjVrLm2e27Ztw0svvYQOHTpgyZIl9f435OXlWf2PuMujrKzM4rNr167Fyy+/jJYtW+Laa69F9+7dLR5o5ywGOpHcuGa0z1ag52zKganKhOzMGW4FelXPd8QT3M3Pvmc3zuf1NaBV01NQFOC6Fics3tOHF9R5oLsypqzIQ9bGWZZnoCe0BuIVnFvYwuYT3LM2xGg+0Lcc3KL2lCQSuMcQyc8jA33FihVo2rQpOnbsiEceeQSNGzdGQECAeH/27Nlo164d3nnnHezZs6fe/o7LgR4UFISysjKLceLECfG5yspKtG7dGs899xxSU1OxdOlSdOnSBR06dMDBg64d3cJAJ5Ib14z22Qr0lIoUmKpMyE2NcivQd77wjAj07Le/tn+U2qdGcfX8H7f8YvGeX2SpqoFuTMtFznqjRYDvSXseB00P4EDyIzYDPX3TXM0H+i9Hf1F7ShIJ3GOI5OeRgd65c2eMHj1a/HNSUhIaN25scWv7oUOH8Mknn6B169b19ndcDvTExESHn/vggw/Qrl07i6jeuXMnmjRpghEjRrj0OxnoRHLjmtE+W4GeuOrSWd75y6e4FegHunQWgZ700Q92A31kt8Ui0N94YPWVK+v9wurolvZyvGkYgUERJpd/NjorG/nrwm2GuL2RuiVB84H+24nf1J6SRAL3GCL5eWSgt2nTBllZWeKfjx49Ci8vL2zbts3qszk5OfX2dzgT6OfPn0fz5s3Rt29fq/dee+013HPPPS79TgY6kdy4ZrTPVqDPL5sPU5UJBYlhbgX6HzfcACgKLng3wvxvJtgN9N5P54hA//L5dPH67IFT6yTQP5syUzy9/ckJH7n0s7MLMlG0JtSlQE+uTNJ8oB8/0zD7LZEzuMcQyc8jA/3NN9/Es88+C7PZjE2bNuGzzz5Dhw4dcOHChQb9Oy4Hevv27dGoUSO0bt0ar732GoqKrjzxtaqqCoqiICoqyurnv//+e3h5eeH06dNO/04GOpHcuGa0z1agx5XGwVRlQtGCENcDPdIXFxo3ARQFx6673uED4l7ovEEEun/3ePH6zO+m1UmgPz7hQxHo3cJ0Lv1sXGk6SlYFOh3nZWb/GuNXC4F+/uJ5tackkcA9hkh+Hhnoe/bswYsvvghvb294eXmhc+fOqhyxtm7dOgwePBhJSUkoLCxEbGwsOnfujEaNGiE9PR3ApWPgFEXBwoULrX4+KCgIiqJg3759dn/HmTNncPz4cTH27NkDRVGwc+dO8R/p+hy7du3Crl27GuR3cXD8LwyuGe2Pbdu2WQX6vJx5WFGxAvlxYSiKCXJpmCeMFLe3773rfsSPiLA77rl5nwj0mMHTxeuz9HMQFFNUqzEuugBtxl4PRa+gkb4x/GakufTzCSUpKCoKQVFREIqKglCWr0NxYYD45/8e+SWTRIDbG8vLl2N5+fIaP6fWSN2Yqvp85OC4enCP4bA1SC4eGeiXnTp1CseOHVP7z7Bw9OhR3HLLLXjggQcAXAn0hIQEq89eDvT9+/fb/ff5+/vbfEo8A52DQ87BNaP94SjQC2dPcDnQNw77UgR65T9ftBvn84dHoEXTM1AUoG2b4xbvxQTG1TrQv46MFFfP7w152uWfX1KWZBHgB5IeAuIVnElojVV5w60CPbc0QvOBnr0lW/X5yMFx9eAew2FrkFw8OtBl5ePjA0VRcOrUqVrf4m7vCjpvcSeSE9eM9tm9xb1yBcqn+bl8i/vPH70lAr38uX/bvb19+ucRuPHaw/DyuogHbt1h+XR33/ha397+6IT3RaC/OynA5Z9P3rjQ4hb2P5bectUZ6COtbnHPq5iq+VvcV+1dpfZ0JLLAPYZIfh4Z6F26dMGyZcuc/vy+ffswcOBABAcH1+NfdUXfvn2hKApOnz4tHhLn4+Nj9bnXX3+dD4kj+h/DNaN99gI9eeNStx4Qt++VJ0WgZ739jcPvoMf5GDDrq8mI+NRo8Vq4/+JaxfnoqBK0DPgbFL2CxvqmGB6Z69LPj5lRjoxNcy0C/OzlM9ATWtr8Dnr2+umaD/RNBzapPR2JLHCPIZKfRwZ6QEAAWrVqhVtvvRWjRo1Ceno6Dh48iOrqagCXbn3ftGkTYmJi0K1bNzRp0gRPP/00tmzZUu9/25EjR3DzzTfjoYceEq/17NkT7du3tzgGbteuXbjmmmswcuRIl/79DHQiuXHNaJ+9QE9du8itQN/e513suusfONy2A5Z+7FtjoNsahrFJtQr0j8Ovur09+AWXf35sbCmyNkSL+F5VNgrVf109P7Gkg81Az9w4W/OBvv3wdrWnI5EF7jFE8vPIQAcuXRUfMWIE2rVrBy8vL3h7e6NRo0Zo1qwZvL29xQPkunbtiqVLl9bL39CrVy+MHDkSiYmJyMvLQ3R0NDp16oTGjRtbHANXWVmJVq1aoWvXrkhLS8OyZctw//33o0OHDjh48KBLv5OBTiQ3rhntsxfoK8vj3Qp0s1GH+f0muhXml8eEoORaBfrDIe+KQP/3pPEu/3xQXDFyKyJFfK8v7C9ubz+0/D6bgb5yc7zmA33fH/Yf4kqkBu4xRPLz2EC/7Ny5cygqKkJoaCi+++479O3bF76+voiLi8OePXvq9XcHBwfjoYcewrXXXotGjRrh+uuvR/fu3bFqlfV31tasWYOXX34ZLVq0QJs2bfDee+9h+3bX/z/zDHQiuXHNaJ+9QM8omutWnJdG+NUqzuN8DAiakO52nP8QVYLmAW2g6BU0CWiOEVH5Lv87QhMKUbB2kojvytyPRKD/mvq0zUBP+TFR84F+9PRRtacjkQXuMUTy8/hA9zQMdCK5cc1on71Az8qd5VagF00eU2OAz+trwN03/Iqn7v4Rnz2XafV+YFiO24E+KqoQb4X9gDvGP4b7g99w698xeWkBiteEiPj+OfMtEeg/Z7xpFefl5X4wVdYc3rIH+pnzZ9SejkQWuMcQyY+B7mEY6ERy45rRPnuBnp0x3eU4XzVlFPIn1nwFffLHM8T55w/dtt3qfX14Qa1ucb88fKPK3Pq5yORclK4KEAH+a+rTItCrcntZBXrpqrFOBbDMgZ66LVXtqUhkhXsMkfwY6B6GgU4kN64Z7bMX6Lkpka4fsfbhm7jYyBvHrmuP7Le+shvow95cKgL97YfMVu/7RZbWSaC7O6avzEZ5uZ8I8EMruohA31DoYxXoRWtCNB/ouT/nqj0ViaxwjyGSHwPdwzDQieTGNaN99gI9Pync9SPWXn5CHLGW+U5fu4H+0VN5ItC/eTHN4r25/SepGuc6oxmzs1Msz0BfcuUM9FU2zkAvWDdZ84FetqdM7alIZIV7DJH8GOgehoFOJDeuGe2zF+iFiw0uB/qRf9wjAn1pb53dQH/pvgoR6GPei7d4L3ZQhNth/XbYaPQOj8LoqNpdgV+Ql2gR4GtLhmJz/hfYmvOBzQfE5VZEaT7QN/y2Qe2pSGSFewyR/BjoHoaBTiQ3rhntsxfoxfEhLgf6qRvaAoqC840aI65vqN1A73LzThHoxj5RFu/FDJnuVlSPiMpHE30zKHoF7QPvhm9UuduBvrQozmaI2xtZG2I0H+jbDm1TeyoSWeEeQyQ/jw/04OBgnD59Wu0/o8Ew0InkxjWjffYCvWROoGuBHjEaFxt5A4qCI3+/0eFD4tq1OgZFAVpccxrz+lq+N334TLeiuvukceLs84dD3qvVFfSU0hiXAj1901zNB/re43vVnopEVrjHEMnP4wO9S5cuuOWWWxAbG4vq6mqL9/bs2YMZM2ao9JfVDwY6kdy4ZrTPXqCXxfi7FOjrx34rbm/fdef9duN81leT4aVUQ1GA/7t+n9X7UaPmuhXVnYKeF4HeOzyqVoGetSrSpUBP25Kg+UA/fOqw2lORyAr3GCL5eXygV1dXIzY2Fm3btsX999+PFStW4Ndff8XevXvh5+eHpk2bqv0n1ikGOpHcuGa0z2agl8xz+fb2qgG9RKBvfugFu4Ee0jNW3N7+1N0/Wr0/VbfA5aD+PjIHjfRNoOgVtBrbttbfQS9YYxDxvSWvD3amv4qtOR9gbckQm4GeXLlM84F++rzn3J1H2sE9hkh+Hh/oS5cuRevWreHl5SWGt7e3GH379lX7T6xTDHQiuXHNaJ+tQI/Pj3U50H/p+boI9LLnP7Ab6N+9niQCvfujJdZnpPsnuhzU74SNEVfPH5vQs1Zx7h9ThpLVQTbPQK+0cQZ6udnf6QiWNdBTtqZY3ZVHJAPuMUTy8/hAv/vuu/Hqq6+iqKgImzdvxoYNG9C/f380adIEH330kdp/Xp1joBPJjWtG+2wF+oKsaJcDff8Lj4lAz/hXP7uBbug1E72eysNL91VgVLfF1u8HJrkc1XcFPSUCvc+UmFoFeuCcEpSZ/a86A/2+q85A72cV6CWrx2k+0LN3ZKs9DYls4h5DJD+PD/RmzZohJyfH6vU1a9agQ4cO0Ol0KvxV9YeBTiQ3rhntsxXoCWlGlwP9aJe7RKAv+cTP4UPiHI0JQSkuBfXQyAx46xtB0StoM/ZG+EaV1SrQJ8TnWQT4iSU3XzkDvWyUVaAXrgnVfKCX7i5VexoS2cQ9hkh+Hh/o//jHPxAWFmbzvYULF6Jt27YN/BfVLwY6kdy4ZrTPVqAvWjHF5UBfFzQYWwb2RlnXHojrO9HtQA8KzXApqN8KGyWunj8V2rtWca4zmjF18UqLAD+b0BKIV3A2obXN75/nr5ui+UCv2F+h9jQksol7DJH8PD7Qp02bhpYtWyIhIcHqvQULFqBZs2Yq/FX1h4FOJDeuGe2zFeiJSya5HOhmow7F4WPcDvPLIzAsx6Wgvn38oyLQv5wyp9aBHp20XMT36tKR4ur5H0tvsRnoOeunaT7Qtx7aqvY0JLKJewyR/Dw+0AHggw8+gJeXFx544AH4+vpi5syZCA4ORvv27fHYY4+p/efVKQY6kdy4ZrTPVqAvXRjqVqDnh/k7jO/ZX0+Cvvt8TP88wu5n9FMKXQrqT8On49EJ7+OW8Q/AN6q81oE+N3mhiO8NhT4i0H9f0cVmoGdunKX5QN99bLfa05DIJu4xRPJjoP8lNjYWjz76KLy9vcXT3Nu3b4/S0v+t75Ex0InkxjWjfbYCfdn8YLcCPTdU7zDQg3vOFk9wf6HzBpuf8Yus3XfIazsS0mJFfFflfCgCfW/qMzYDPX3zfM0H+qE/D6k9DYls4h5DJD8G+n85evQoVq9ejXXr1uHs2bNq/zl1joFOJDeuGe2zFegrYgNdCvMtQz/Fz73exJov+2DhF+PsBvrg15c7PGJt7reTVY1zndGM5ZnTRHz/kvGmCPSfM9+2GeipWxZrPtD/PPen2tOQyCbuMUTyY6B7GAY6kdy4ZrTPVqCbose4FOi/Pf9P8QT39Hf72w30D5/MF4Hu81KK1fuxgyJVD/S0nEkivvelPnXVGegf2Qx0U+VyTQd68tZknoFO0uIeQyQ/BrqHYaATyY1rRvtsBXpy1GjXjli77/9EoCd+av976C92Xi8CXd99vtX7MUOnOx3SbxiG4w3D9xgamVmngZ6THyTie2f6qzix5CacW9gC64v6W8V52aoAl2JYxkDP2pGl9hQksot7DJH8GOgehoFOJDeuGe2zFeip4SNdCvTT7a4DFAXnrmnq8Ii1zh12iUC39aC4aSNinYro0VElaDW2LRS9gmsCWmBkVEGdBXpRob/NK+W2RvHqYM0HevGuYrWnIJFd3GOI5MdA9zAMdCK5cc1on61AX2kY5nScr5r6A6q9vABFwdEbOjh8SNzfW/4BRQFaNTtl8/3IH+KciugPJ08SR6vdG/xCncW5v7EIZSV+Tgd6wdowzQf6un3r1J6CRHZxjyGSHwPdwzDQieTGNaN9tgI9fcIQpwN9g38/cXv77k4P2I3z2K8ni6vn/9d+n83PTPFb6FRI3xf8igj0npMn1lmgj5+e5XScm8t1yK2I1HygV/5eqfYUJLKLewyR/BjoHoaBTiQ3rhntq22gb+33HxHoW554yW6gT/xwpgj0J+6qtPmZSfolNUb00MhMNNJfA0WvoEXA3/BDVEmdBXrYLJNLgZ69IVrzgb7r2C61pyCRXdxjiOTHQPcwDHQiuXHNaF9tA33n+6+KQC979T92A31kt8Ui0N9+yGw74setqDGiXzEMElfPn5jwUZ3Fuc5ohnHe4itnoOf2wunFf8OxZXdia05Pm4GesWmu5gP94MmDak9BIru4xxDJj4HuYRjoRHLjmtG+3w78VqtA/+25R68csfbvb+0G+jcvpolA7/Ncls3PhASnOQxo36gy/D3wVhHo/aYurtNAn7Vw7lVnoL8hjljbkdnNZqCnbVmo+UA/efak2lOQyC7uMUTyY6B7GAY6kdy4ZrTvl72/1CrQj917pwj0xX0CHD4kLubLcIT0jEVUnyib74+f6PjItI/DI0Wc3zH+n3Ua5zqjGfGJM66cgZ7ypAj0H/N62wz05B+XajrQk7cm42L1RbWnIJFd3GOI5MdA9zAMdCK5cc1oX+XOyloF+oFnHsapG9ribOuWDo9Yc2YETM53GND3Br8oAv39SUF1HuhLlk0R8X14+b0i0CuKvrWK83LzGJeDWLZAz9yeqfb0I3KIewyR/BjoHoaBTiQ3rhntq9heUatAvzwKDWNqFedxPgaMibD/wLfhkbm4JqAFFL2CVmPb1unD4S6PZNMEEeAnl9wExCuojveCuWy0VaCXrB6n+UDnGegkO+4xRPJjoHsYBjqR3LhmtK+0srROAj03VF+rOJ/XL6zGgB4amYlXDIPxhuH7Oo9zP2MZMlLHigA/t7A5EK/gzKJrbd7eXrgmVPOBzjPQSXbcY4jkx0D3MAx0IrlxzWhfzqacOgn0rCD73z+f/fUkvHDvBrz/WBGGv7XE9mcGTKnz6HZlBBgLkJUeAHO5DqtLh4vb248vvc1moOetm6L5QK/6vUrt6UfkEPcYIvkx0D0MA51Iblwz2pdakVongZ4RONZuoBt6xVx1BnqVzc/M/M6oaqCPn5aJvGx/mMt12FjwjQj0g6YHbAZ6zvrpmg/03cd2qz39iBziHkMkPwa6h2GgE8mNa0b7lqxa4nag73/pcfx5c3scfvhe5A753m6gj7rqDPS3Hlxl8zMzhsXYDGffqDIMi8yq90APnWZCYf4YmMt12JrTUwT6nrSuNgM9c2Os5gP90J+H1J5+RA5xjyGSHwPdwzDQieTGNaNt1dXVmF823+1AP97x9itnoA/ztRvoX72QfuUM9Gdtn4FuHDnHZjh/MDkUTQKa47EJPTEwYkW9Bfrk6YkoKfaDuVyHnRmvX3UG+js2A33l5njNB/qpc6fUnoJEDnGPIZIfA93DMNCJ5MY1o22nzp1CXGmc24F+5rrWgKLgfMvmWD4qyG6gv/doqQj0YW8utfmZiNHzbYbzLeMfEEerfTh5Ur0FeuT0OJSXXYrv9YX9sSOzG/amPYsNhT42Az3lx0RNB3rK1hRUV1erPQWJHOIeQyQ/BrqHYaATyY1rRtsO/XnI7UBfHT5SXD0/ccfNWDo82G6gP9Nxswj0kJ6xNj8TPmaRVTR/Ej5NxHm7wDvhG1VWb4EeMyvaZojbGuXlfjBVuh7aMgV6zs85ak8/ohpxjyGSHwPdwzDQieTGNaNtu4/tdjvQN/p+IwL998fvR+LQELuB3ummPSLQY74Mt/mZsLHL/uu75+W4dfyDItD/FeZfr99Bj5s71elAL1011q0olinQy/aUqT39iGrEPYZIfgx0D8NAJ5Ib14y2bT201e1A3/Z1DxHoe7p1xcJBoXYDvW2r41AUoHWzP+1+ZkJQskUw95o8RcR528A7MDqqtF4DfXH8BKcDvWhNiOYDff3+9WpPP6IacY8hkh8D3cMw0InkxjWjbRX7K9wO9N3vvSQC/afP38P8/hPtnoHu5XURigLcef1+u4EeNCHd4up5h3H3iUD/96Tx9Rrn/sYiJC0Kgrlch1WlI1GZ+xHWF/XHqrIfbAZ6wbrJmg/0bYe2qT39iGrEPYZIfgx0D8NAJ5Ib14y2le4udTvQDzz9kAj0jcO/sBveYR9dOQP9sf+zfQZ6nI8BgWE5Iph7Tp4o4rz9uLvr9bvnOqMZ44xZMC0d/9cZ6F/XeAZ67nqj5gN97/G9ak8/ohpxjyGSHwPdwzDQieTGNaNt2Tuy3Q7043ffJgK9LGS43fCe9FE0nu24GffetBs9nyi0+zl9eAF0RjN+iCpBu8A7RKD3nDyxXuNcZzRjwrQUpC4P/OsM9A9qPAM9a8NMzQf6kVNctyQ/7jFE8mOgexgGOpHcuGa0q7q6GilbU9wO9LNtWgGKgnOtW6IgzN9ueDs7/CIvfce8W5iviPObx90P36jyeg/0sOlLkZ469tIZ6OmviUDfnvUvm4Gevmme5gP9zPkzak9BohpxjyGSHwPdwzDQieTGNaNdp86dgqnK5F6gR/mi6tte2PnBa9j5/qvIDdXXKs7n9r9yvvnoqBK8bvgezQOuxRdTZtd7nOuMZkRMj0dWegDM5TrsT3lcBPqWvE9tBnrqlgRNB3rqtlS1px+RU7jHEMmPge5hGOhEcuOa0a5Dfx5yP9D/a2QFBdQq0GMHRVhF88ioggaJc53RjGkzYpGX7Q9zuQ5HkjqKQK8oHmgz0JMrkzQd6Hm/5Kk9/Yicwj2GSH4MdA/DQCeSG9eMdu05vqfOAj19bKDd+J7zTViNgR4zZHqDxbitMXPGNBTmj4G5XIeTiTcA8QouxnvDXDbaKs7LzHq3w1iWQDfvNas9/Yicwj2GSH4MdA/DQCeSG9eMdm09tLXOAj3Vf5zd+G7X+hj+1uIPPHTbdrufiRo+A59NmalaoM+JDkdJsR/M5TqcX9gUiFdwetF1Nq+eF68O1nygbzqwSe3pR+QU7jFE8mOgexgGOpHcuGa0q2J/hduB/uOQT7BlWB+sDR0Kc5QvTKOD7F4993biDPR3dD2g6BU8MuHfGB6Z06BxPsZYgvkxE2Eu12FNyTBxe/uxZXfYPgN97STNB/qOIzvUnn5ETuEeQyQ/BrqHYaATyY1rRrtKd5e6HegnbrsJUBRUeylYNWUUkkbaDvRJH0VfdQb6VpufmfDtCDTybwxFr8BL740vp8xp0EAPNOZg4exQmMt12Jz/hQj0A6aHbZ+BXhGp+UD/7cRvak8/IqdwjyGSHwPdwzDQieTGNaNd2Tuy3Qv0KF+cb9YUUBScbnsdzEYdEoeF2Izv0e8kiEB/88HV1lfYfSbg7tG3i2PVngrt3eC3twdPS8PieRNgLtehKudDXFjQGIhXsHvli3bOQI/RfKCfOHtC7elH5BTuMUTyY6B7GAY6kdy4ZrTp8hno7gT62pDvcLm6j973fzAbdVg0eILNQP/6hZUi0D95Jsfq/X8Pe03E+d8Cb2nQJ7dfHoZpSVi6MPhKhJf5Yl3xYKwtGVqnZ6DLEujJW5Nxsfqi2lOQyCncY4jkx0D3MAx0IrlxzWjT5TPQ3Qn0LUM/FYG+/4XHYDbqsGBAqM1A7/5oiQj0IW8ss3jPf+BAePt7Q9Er8NZ7q/aQuCnTF2J5YpDNGLd9BvoiTQd61o4stacfkdO4xxDJj4HuYRjoRHLjmtGmw6cOux3oO3p3E4H+S8/XUW7UYX6/iTYD/blOm0SgB30wR7we3W8c2uvaiqvnLwV9qkqc64xmGKfPQcqycU4HusnNM9BlCfTS3aVqTz8ip3GPIZIfA93DMNCJ5MY1o027j+12O9B/fe1pEeiVA3qhZKqf3aezd+6wSwR69BdTr4T7iH+KOL979O3wm9ywT26/ekTPmIGVpkCn4rxsVUCt4liGQN/w2wa1px+R07jHEMmPge5hGOhEcuOa0aaq36vcDvTDD3YSgV4ROACFk8Y4PANdUYCWTU+J1wYO/kTEebMxTRH27Q/wiyxTLdDnRE9B5soArCr7AUeSOmJ/yhPYlv2+7TPQ14RoPtC3H96u9vQjchr3GCL5MdA9DAOdSG5cM9q0dt9atwP9z5uuBxQFFxs3gjlyNPJC/Ws8A/32dr9dOXrt29HoNPpOKHoFfb/7EHO+DVctzv2MpYiLNiA3S48Nhf3EEWuHVtxn+wz0dZM1H+j7T+xXe/oROY17DJH8GOgehoFOJDeuGW0q2lXkXqBHjsbFxo0ARcGfN10Ps1GH7OAAm4E+95sw+HefjwGvmDD49eWW7/mEYtDgPpjnMxGzBkepFuiBxhzERRtQkOePqpwPRaD/mvqM7TPQ1xs1H+jHzzTMfkpUF7jHEMmPge5hGOhEcuOa0aaM7RluBfraCUNwuu11qPZScPjBTjAbdcgIHGv3FndnRvSwaNUCPWRaGuKiDSgu8sMvGW+IQN+R2c32GegbZ2k+0C9cvKD29CNyGvcYIvkx0D0MA51Iblwz2nPh4gWLYHP1FnezUYdVU0Zh7V+fWakPrDHCw779AdH9xtl8zzhyjmqBHjZtGeKiDSgr02F/yhMi0H/M623nDPQ4TQd65vZMtacfkUu4xxDJj4HuYRjoRHLjmtGeP878UetAv3ok68Y7jPNZPsG41fcmtNe1xZiBA6zej/CNVy3Qp05fgPjYUJjLdTiS1FEEekXxQDtnoC/WdKAX7ypWe/oRuYR7DJH8GOgehoFOJDeuGe3Zf2J/nQb68lFBNsN8xNuJ+O71JDzT5wsofo2g6BXc7nsz5vqEWnxu7H891gAAIABJREFUsn+iaoE+bUYsEuZOgLlchz8TrwfiFVyMbwRz2WirOC8v94OpcrmmA71if4Xa04/IJdxjiOTHQPcwDHQiuXHNaM+OIzvqNNCXDg+u8Qx0ZVQbNPZvhKABw6w+ZwhMUi3QZ84wIjE+BOYyX1xY0ASIV3BqcVubV89La3kGugyBvu3QNrWnH5FLuMcQyY+B7mEY6ERy45rRnk0HNrkd6Ece6IjfH7sfu/79inht8ZAJds5AP3IpzpsdgaJX0GtoN5ufCwlOVS3Q50ZPQtKiIKwr/k7c3n406W6bgV5UyzPQZQj0X//4Ve3pR+QS7jFE8mOgexgGOpHcuGa0x7zX7Fagr5oyCtVely6Jn7i9g3h94cBQq+ie+00YvLzPXwr0G9eh8w93Wd3afnmMn5ipSpz7G4sQF22Aael4bMnrIwL9t+R/2gz0/FqegS5DoB87fUzt6UfkEu4xRPJjoHsYBjqR3LhmtCf351y3An2jri8u37P++2P3i9fn959oFd1ffzFM3N7eqNMKhPfX2X2IXMDkfFUCfZwxC3HRBqQuD8SGwn7Yl/IkDi/vhO1Z79oM9JxanoEuQ6Cfu3BO7elH5BLuMUTyY6B7GAY6kdy4ZrQnZWuKW4G+7ZseItD3dOsKs1GHskg/q+CO6Tcebfq8KQL9Hw+nOnzK+5iIElUCfcK0ZMRFG5CROtZmkP/3yNwYq+lAz9ieofbUI3IZ9xgi+THQPQwDnUhuXDPacvr8aatwczbQd7/3kgj0n77oDrNRh+LwMVbB/ebwrlC69xaB/tHTOXbjfF6/MNW+fz5peiLiog3IzghwKtBXbo7XdKCX7C5Re/oRuYx7DJH8GOgehoFOJDeuGW05fOqw24F+8KkHRaBvGvUlzEYd8sP8raK757C34P3CGBHog19fbjfQYwdFqBbokdPjEBdtQH6Ov1OBnvLjUk0H+sbfNqo9/Yhcxj2GSH4MdA/DQCeSG9eMtuw+ttvtQP/jrltFoK+eNBxmow45IXqb4f1Y51Ui0Mf1mGs30GOGTlct0GfMmIm4aAOK8v1QUTwQ5jJfu3Febvavk0hWM9B/PvKz2tOPyGXcY4jkx0D3MAx0IrlxzWhL1e9Vbgf6udYtAUXB2WtbidcyxwfYDO/7bt4pAn365xF2A33aiFjVAj12RiTiog1YXTwUiFdwcUFjHDA9bDPQS1YHaT7QD548qPb0I3IZ9xgi+THQPQwDnUhuXDPasm7fOrcCfY3he3H1/Pjdt4nXVwYE2gzvR+74Ca2ankLza844fEBc5Og4lQK9HPOiwxAfG4ot+X2uOmLtUZuBXrA2TPOBfurcKbWnH5HLuMcQyY+B7mEY6ERy45rRluJdxW4F+uYRX4hAP/DMQ+L1FL9xiPMx4KOh7+C9719FTL/xFgE+88twh4EePmaRKoEeYCxAXLQBi+dNwI7Md0Sg70x/zWag51ZEaTrQU7elqj31iNzCPYZIfgx0D8NAJ5Ib14y2ZGzPsA704rk1Bvq68YOwq/vLOPDMw+IJ7majDstHBSGyvz+ajrkGil5BW7/rMNMnyGGUXz3Cxi5TJdCDpmUgLtqApQuD8WvqMyLQq3I+tBnoWRtnaTrQC3YWqD31iNzCPYZIfgx0D8NAJ5Ib14x2nL943ma8xefOdOo76LbGkmEhl45V0ytQ9ApeHvGU03Ee52PAhKBkVQJ94rQViIs2wLQkCIeXdxaBvr6ov50j1uZrOtDX7lur9vQjcgv3GCL5MdA9DAOdSG5cM9px9PRRm/G2MHOG24E+/TtfNPFvDEWvoIl/Y0T0tz4X3dEICs1QJdCnTF+IuGgDUpcH4s/E9pceEhfvDXPZaDtHrC3RdKBvPbRV7elH5BbuMUTyY6CrKCcnB59//jk6deqEFi1aoEOHDvjXv/6FNWvWWHyuT58+Vv9jT1EUdOrUyeXfyUAnkhvXjHbsPb7XZrwlpES6Heivj3xGXD1/c3hXxPkY8HnXTPzjll/wYuf1CP1wlsNAHzspV5VAnzZjNuKiDchI0ePCgiZAvIJTi9vaOWLNr85CWa1A//WPX9WefkRu4R5DJD8Guop69OiBF198EUajEfn5+UhMTMSTTz6Jxo0bIycnR3yuT58+aN68OcrKyizG+vXrXf6dDHQiuXHNaMfWQ1ttxtvipHDHgR7li83DP8easO8t4nzF1EHi6vk1Y5ogsr8/4nwMeP7ejeKItcAe8xwGuv/UYlUCfeYMI+KiDSheOUTc3n4k6R47R6yN13ygHz/TMHsoUV3jHkMkPwa6ig4cOGD12okTJ3DDDTfg5ZdfFq/16dMHLVu2rJPfyUAnkhvXjHas3bfWZrwtWWxwGOgV4waKJ7j//vj94vV/B/9TXD1/+/sXRHR3cfIM9Hn9wqCLKlcl0OdFhyEu2oAN6Z+KQN+X8kS9HrGmVqAnb03GxeqLak8/IrdwjyGSHwNdQi+++CI6duwo/pmBTuQ5uGa0o3Bnoc2AWxYf7DDQKwf0EoG+75UnYTbqkB45BNfoL109bzrmGhj7BYjwbt/mCBQFaH7NGczra//q+eyBU1WJc/1fR6zFRRuwfeVbItB/znjTzhFrkZoO9Jyfc2qeHESS4h5DJD8GumSOHTuGa6+9Ft27dxev9enTB97e3rjhhhvg7e2Nm2++Gd9++y0OHz7s8r+fgU4kN64Z7Vj500qbAbd8zjiHgb6zx2si0Hf07gazUYevJ155cvvrw58T0T23rwGNvC9AUYBb/37Q4e3tMUOnqxLoQdPSERdtwPyYiTCXjUZF0QBU5vZCRfFA20esbYjRdKCb95rVnnpEbuMeQyQ/BrpkPv74YzRu3NjiQXGTJk3CpEmTkJmZiczMTPj6+qJFixa49957ceLECYf/vjNnzuD48eNi7NmzB4qiYOfOneI/0vU5du3ahV27djXI7+Lg+F8YXDPaGAcOHRBx+N9j2czxVoFumjQaRTFBKIoJwr6uj4tAXz/KB0UxQfgq7BU01zeFt783wkcGIH5EBOJHRCCiX6y4vf2Ru34Wr9saMWPjEBRT1OAjYmYS4mMjkBA3BUVFQTWOtNXxdv9v5+pYXr4cy8uX19m/z5mxdsda1ecfB4e7g3sMh61BcmGgS0Sn00FRFERERNT42SVLlkBRFEyaNMnh5/z9/W0+AZ6BzsEh5+Ca0cbYuX+n/Wg0jnUY6Mc63ikCvTTcT7yeEBKIIT98bRHdYz5KFIH+2iPrHQb69KAEVQJ9+swExMdGYMnCcKcCPXndEk0HeuXuStXnHweHu4N7DIetQXJhoEtCr9dDURSMHz/eqc9fvHgRLVu2RM+ePR1+zt4VdN7iTiQnrhlt2H1st91boNMmDXd4i/u51i0BRcHZNi0tnuJu8h1vddu6z0spItA/eirP4S3uk/RLVLnFfdqMWMRFG5C0KMjmLe1WR6xV1t0t6Wrc4s4nuJOWcY8hkh8DXQKX41yv1zv9MxcvXkSLFi3w4YcfuvS7+B10IrlxzWhD5e+VtgPux+VInzDEbqCvmThMXD0/fs/tFoGeNDLIKro/eLxQBPqg15Y7DPTQ8SZVAn3WjCjERRuQtXQEfk19Gjsyu2FDoY+dI9bG1WksN3Sg8wnupHXcY4jkx0BX2dixl26F1Ol0Lv3cokWLoCgKwsPDXfo5BjqR3LhmtGH1r6ttBlzK+kSHgb5lWB8R6L899wgmTO6B7MhL56EnDguxiu4XOm8QgT72fcdnoAeFZqgQ6OXiiLW1Sz8ST3Dfm/ZsvR+xpkag5/2Sp/bUI6oV7jFE8mOgq8hguHRW7htvvIGysjKrAQA7d+7E008/jalTpyItLQ0rV67EqFGj0KxZM3Tp0gUnT5506Xcy0InkxjWjDfm/5NsMuJXmBQ4DfUfvblceEPf+s/DSK2imb4IvQp9FwuBQq+ge/nYi3n2kFE/fs8XhGehxPgYETM5v8EAPMOaLI9Z+SnpZBPpPWd3tHLEWpelAX7tvrdpTj6hWuMcQyY+BrqLnn3/e5gPcLg/g0n9Iu3fvjjvuuAPNmzfHNddcg3vuuQcjRozAsWPHXP6dDHQiuXHNaEPqtlSbAZdROMdhoO/p9rwI9JCvOouj1fpPfBHz+090GOA1Db/I0gYP9OBpK0Wg71/6gAj0jQVf2wz0zI2xmg70nw7/pPbUI6oV7jFE8mOgexgGOpHcuGbkd/r8absBl5Ud7TDQzUYdVk8egbUjP8PNo5tB0StorPdG6tShtYrzOd+Gq/L9c8O0JBHoJxbfBMQrqI73wqrSUTYDPW3zAk0H+sGTB9WefkS1wj2GSH4MdA/DQCeSG9eM/H7/83e7AZebZqwx0M1GHfzD/iWunr8e3AVFk8fUKtBnfmdUJdCnTl/wV6CH4sKCxkC8gtOL/273Ke7JlUmaDvTT50+rPf2IaoV7DJH8GOgehoFOJDeuGfntPLrTbsDlJ4U7FegPjL9FBPqM8E+RP9HfKrqNn0XC0GsmZn89qcZAnz58piqBPn3GLMRFG7A8dqS4vf1IUkebcV66KqDOg7khAz39p3S1px5RrXGPIZIfA93DMNCJ5MY1I79NBzbZjbjChNAaA33RVB8R5/8XeD3Ko3yRHRxgFd2fd82AogBeXhfR98U0h4EeOTpOlUCPnRGJuGgDCud9JgL919RnbAZ60ZpQTQd62Z4ytaceUa1xjyGSHwPdwzDQieTGNSO/0t2ldiOuZO54u4FeOehjHHzyASS8eRs6DrgU6IMNr8Bs1CE9cKxVdHd7yCyOWBvxdqLDQA/3X9zgce5nLBVHrG1c8IYI9O1Z79oM9LyKCE0H+uYDm9WeekS1xj2GSH4MdA/DQCeSG9eM/DK2Z9i/yhrjbzfQ9771nHiC+3v/UdBI742VkZeurKf6j7OK7ifuqhKBbug102GgTwxc3uCBHmjMEQ+I273wERHomwq+shnoWRtiNB3oe47vUXvqEdUa9xgi+THQPQwDnUhuXDNyO3vhrP2I+3H5pavhdgL98MP3ikC/Z4CCrkEdxW3vptFBVtF95/X7xS3uNX0PPTgkrcEDPXSaSQT6liVv42jSXTiz6FqsLh1pM9DTN8/XdKAfP9Mw+yZRfeIeQyQ/BrqHYaATyY1rRm6H/jxkN+BSKxIdBvqpG9oCioJzjb3xfwF/R+jkD0SgLxsRbBXdrZqegqIA7Vodq/EhcYFhOQ0e6FOmJ4hAz0oPsPvk9ssj5cclmg30lK0puFh9Ue3pR1Rr3GOI5MdA9zAMdCK5cc3I7Zejv9iNuJXl8XYDPWP8IFR7ewGKgpO33IDyKF+URfmKQE8cGmL5VPbPI8Tt7Z077Kox0P2nFjd4oE+bESsCvSDP32Gcl5v96yWcGyrQC3YWqD31iOoE9xgi+THQPQwDnUhuXDNy2/jbRrsRl1Ew226g53/3ibi9/ffHulgcuWY26rBwUKjlFfEe80Sgd713o8M4n9cvrMHjXGe88gT3uGgDSkv8HAZ68ZoQTQf6xt82qj31iOoE9xgi+THQPQwDnUhuXDNyK9ldYjfisrOi7QZ6ea+3RKDv/tcLFnFebtRhfr+JFtE96LUVItB7PFbkMNBjB0U2eJz7GUtFnCfEjoO5zNdhoOevC9d0oPMBcfS/gnsMkfwY6B6GgU4kN64ZuaX/lG434nJTo+wGeumLD4lA39r3A4tAL57iZxXdHz6ZLwK9/8spDgM9elh0gwf61U9w/3n+o7iw4BqcWNIBFUUDbAZ69vrpmg70k2dPqj31iOoE9xgi+THQPQwDnUhuXDPycvgE9yoT8pdNthvoufe2FYEePOo5i0DPn+hvFd2vdFknAt2/+3yHgW4cNafBA/3qJ7gfjb8ZiFdQHa9gdekI209w3zRXs4G+8qeVak89ojrDPYZIfgx0D8NAJ5Ib14y8HD3B3VRlQtHCULuBvurv3oCi4FRjBUvDfSwCPSsowPp75X0NiPhkGvzeXYCYL8MdBvpU3cIGD/TLT3CfHz0BF+IbA/EKTi1u6+AJ7omaDfTyPeVqTz2iOsM9hkh+DHQPw0AnkhvXjLwcPcHdVGVCyZxxdgO97wsKZj+owPRgc6sHxK0MCKzxKe2ORtjYZQ0e6Jef4J4cMwyIV4B4BYdW3Gczzsvq6QnuDRXoWw9tVXvqEdUZ7jFE8mOgexgGOpHcuGbk5egJ7qYqE8qj/e0GujJcgaJXMMTwmlWgm3zH1yrQQ4LTGjzQLz/BvTj2QxHou1e+ZDPQi9aEajrQD548qPbUI6oz3GOI5MdA9zAMdCK5cc3Iy9ET3E1bkkRw2wt0b70XUiMGWwX6shHBtQr0wLCcBo3zq5/g/uOc50SgV+b2shnouRWRmg70cxfOqT31iOoM9xgi+THQPQwDnUhuXDPycvQE99R1i2sM9MfG32EV52ajDouHTLA6A/3V+9fi02ezEfrhrBoD3S+ytEEDfZwxWwT6/nl3iUBfWzzEZqBnbpyl2UDP/TlX7WlHVKe4xxDJj4HuYRjoRHLjmpHTqXOnHIbcyrL5DgO9xWAFvmFv2wz0+AGhFsHd59ks8QT3z7tmOIzz2QOnNvjt7Vee4D4RZ+c3B+IVnE1obfcBcWlbEjQb6BX7K9SeekR1insMkfwY6B6GgU4kN64ZOe0/sd9hyGXmxzoM9IOKghM3tYU5ytcizssirc9Af+3+tSLQR/8rQboz0KdOX4i4aAOWxfwgrp4fTbrbZpyXm/1gqlyu2UDfeXSn2lOPqE5xjyGSHwPdwzDQieTGNSOnyt8rHYZcTpqxxkA/edtNVlfPCyeNsYruf9z6swj0iE+mOQz0yB/iGjzQZ8yIQVy0AXmzPhOBvjftWZuBXrI6qN7iuSEC/eTZk2pPPaI6xT2GSH4MdA/DQCeSG9eMnMr3lDsMufxlk2sM9INPPWgV6LkT9FbR3a71MSgK0KzJGczr6/j755P9Exs80OdGTxa3uOebhmJbdg9sLOxrM9Dz103WbKBn7chSe9oR1TnuMUTyY6B7GAY6kdy4ZuSUsT3DYcwVLQipMdB3fmB9xFpG4FiL4J71VTi8lGooCnDn9ftrfEDchKDkBo3zAGO+eEBcXLQBOZl6u989N5frkL0hWrOBzu+f0/8i7jFE8mOgexgGOpHcuGbkc/r86RpjrnRWQI2B/uN3n1gFeqr/OIvgDvpgjri9/el7ttQY6OMM2Q0a6BOmJVsEemH+GIeBnr55vmYDfe/xvWpPPaI6xz2GSH4MdA/DQCeSG9eMfH478ZvjmPtxuUV02wv0NYZhVoG+/Icgi+Ae+OoKEejvP1ZcY6D7Ty1u0ECf8tcD4uKiDZgfMxFlZfbj3FyuQ/KPSzUb6GfOn1F76hHVOe4xRPJjoHsYBjqR3Lhm5FP1e5XDkEtdu8giupOCB1gF+p7rWtk8Ym3JsBCL4O7xWJEI9AGvmBzG+Zxvwxv8++eXHxCXNnMQquZ3xfas97CueLDNOC9dFVCvcV6fgZ7/S77a046oXnCPIZIfA93DMNCJ5MY1Ix/zXrPDmEsvmWcR3SPHvmkV6Ns632kz0BMGW56B/kzHzSLQx/WY6zDQY4ZMb/BAnxMdjrhoAzbMflU8wf2nrPdsBnrB2jDNBvrmA5vVnnZE9YJ7DJH8GOgehoFOJDeuGflkbs90GHNZ2TEW0f3E6DutAn3DS09YxXm5UYf5/SdaRPdnz2Xin3duw81/+x0zvwx3GOjGUXMaNM6vfkDcr/M6ikCvKBpg+wFx66drNtAPnDyg9rQjqhfcY4jkx0D3MAx0IrlxzcjlzPkzNcZcbkqkiO7MyGFoNNzLKtDLP+5mFeglU/xq/I65oxE+ZlGDBvqEaSmXvnseHYqz85sC8QrOJrSGuczXZqCv3ByvyUBP2ZqCCxcvqD31iOoF9xgi+THQPQwDnUhuXDNyOXDyQI1BV5AYJqL7h7C3oAxXrAI9y7+fVaDnG/xrFegTx61o0EC//IC45Jih4ur54eX32ozzcrMfTJVJmgz00t2lak87onrDPYZIfgx0D8NAJ5Ib14xcth7aWmPQFccFieh+ZPztNgM9fcIQq0DPCgqoVaCPD81s0ECfMWMm4qINKI99XwT6rvRXbAZ68eqgeo/z+gr0nUd3qj3tiOoN9xgi+THQPQwDnUhuXDNyKdtTVmPQlcX4w2zUITliELz0itOBvjIg0PKhb1+GY+43YU4Hun5KYYMG+uUHxG2f86gI9M35n9kM9LyKCE0GevLWZJy9cFbtaUdUb7jHEMmPge5hGOhEcuOakUd1dTXStqU5DrpNy0Rwf2d4FYoLgW4abXkG+psPrkaTRudx899+x/gP5jiM83n9who0zscac8UD4o7HtQPiFVxc0AirykbZDPTMjbM1Gei8vZ3+13GPIZIfA93D/H97dx4dRZ2vYbzYQVlFFFHGGefihqIXdeR6FVEI4Ao66txxRtERhBkXVBS3YBJB1iCyBQi7IWwBZUlCCCRhzUIAQWIABwjIIouyZcAASd77h6ZN01s1QvevyfM5p87xNKnuStJfyoeqriLQAbMxM+Y4+tNRn0GXnDvDEdw392viV6AnnHUP9Nuv3ea4xdpnfx/nNdAnvDEmoIE+ZMw8xcVGa3ZshOPo+fG517iN85zscCXlJ4RkoHN6Oy527GMA8xHoFQyBDpiNmTHH9sPbfQbd4hVTlBMTrnkjX/05ziMtXfd+I1uBPv1V53ugN6x9TJYl1axWpKndvZ/ePvr9zwMa6KPHTlVcbLQyJr7oCPR9ia3cxnnWmqiAxPn5DvSFWxeq6ExRsN92wAXFPgYwH4FewRDogNmYGXPk7s31GXVLU8c5gnvGiO56cfC9ejMqzGegrx7hfIu1MS+Mchw9v+Gq3T4/fz40am5AA31y7AjFxUZrwfi3lTf1QR2be622pP3FbaAvXzc0JAOd09tREbCPAcxHoFcwBDpgNmbGHIu3LfYZdRnzh7scGU/9+BWfgb5siPMt1t5/bJYj0MNuWecz0PsPXhywOI+KWe74/HlcbLTmzhjg8dT2nOxwLd0wNiQDveBIQbDfcsAFxz4GMB+BXsEQ6IDZmBkzFJ4qtBV1K2YOdgn0VS8/7TPQU/t97BTcz/5PuiPQu7ZJ8RnoESNWBSzQB49Z4BToSfP6eQ30RXnxIRfoSd8m6XTx6WC/7YALjn0MYD4CvYIh0AGzMTNm2HV0l62wWz2lr0ugr3/4Pp+Bntinn1Nw33t9niPQ+/75c69xPvm1EQE9vX3U2DinQM9YGuExzrNzIrRg87yQC/QN328I9lsOCAj2MYD5CPQKhkAHzMbMmGH9vvU+o25h3pfKHP2B/vuT36n7kPs1f+RryokJ19ZbmvkM9Lm9BzhFd9OGB2RZUpXKxZrYdZjXQB/Te1JAA33iuNGKi41W6oQeSpzUS1mZH3oM9BXrogMW5+cz0I8VBWafCAQb+xjAfAR6BUOgA2ZjZsywdPtSn1G3KGe6hg/7q+Pq7ff1v145MeHaXb+2z0Cf2fPXK7hP6jZMVSoXy7Kkppcd9Hl6+2cfzQpYnEfGrCh3//NGUryloln1tCbrfbeBvmRjbMgF+qpdq4L9dgMChn0MYD4CvYIh0AGzMTPBd/L0SVthtyRtgtoNuNkR6IOHPa31A97QQcv7fdCzRoU7BXe/p6Y6Tm//3+vzfAb6wAFJAQv0QWMSFRcbrS/Gf1Du/udNPd///JvZIRfoe4/vDfZbDggY9jGA+Qj0CoZAB8zGzARfwZECe3E3d6CqR1aRFWmpftQlWjX6fW3t8YzPQF/xaYRLdI96PkbvPJKgqCfjfAZ61LBlAQv0kWOnKS42WlmTnnIE+u5F97uN88w1fQMa5+cj0FO3paqktCTYbzkgYNjHAOYj0CsYAh0wGzMTfNm7s23F3VsxnR1Hz/8y6E/KiQnXVx+/ovWPtvYa6Ev6R/mMcE/L1FeGBfTz52X3P9859VZHoOcte9FtoC9bPzzkAn374e3BfrsBAcU+BjAfgV7BEOiA2ZiZ4CouKVbi1kRbcXfzJ1c7Aj1ueDdHgKcMetNroCdF9D3nQI/tFRuwOO8bk6a42GhNix2komm1pHhLZ2bUVE7WB24DffGmKSEV6Eu3L+XoOSoc9jGA+Qj0CoZAB8zGzATX/sL9tuJu1Iqhjji/vt+VTheA8xXo897rf86BPvLD+IAF+rCxCYqLjdaiCa85jp7/MO8m97dXy+6jhZu/CKlA33NsT7DfbkDAsY8BzEegVzAEOmA2Zia4Nu7faCvuHh3/oCPQe0V38CvQZ70x6Ncrsv99nNo1X6+X7l+swf830WegD+k3P2CBPn7cWMXFRitvchtHoO9IfcRtoK9aOzDgcf5bAn35zuXBfqsBQcE+BjAfgV7BEOiA2ZiZ4Erdluoz7mZumqlaH9eQFWmpVlQ1pY16Wzkx4cp75wXlv/GcFn/yusdAz44J17R/DXEE9yvtFjqu4N75jkyfgf7xpxkBifNfb682RIVxDaR4S6XxlbRu9ZtuA33phrEhFeiHThwK9lsNCAr2MYD5CPQKhkAHzMbMBM+xomO24m7AigG69OOasiItPTGwpePI+OEW10uWpe+rVvEY6Gdfwb3tzV85Av2dh+d4jfPJr40I2NHzIWPmKy42WsnlTm8/+sV1nm+vlp8QMoG+cf/GYL/VgKBhHwOYj0CvYAh0wGzMTPB8+8O3tiNv6aSP9P7QhzVzRI+fA33kBzpTq4ZkWdp7aS2Pgb6478dO0d2kwQ+yLKlypRLF/mO410Af/d7UgAX6mHGTFBcbrYXje2nntNtVPL26tqc+atTp7ecS6Gk70lRcUhzstxoQNOxjAPMR6BUMgQ6YjZkJnmUFy+yF3jdfKntMH6fPnef1/ofKDoVvubWZx0Avf4G4UV1GO46eX3fFPp+ntw/utyAgcd4nJlNTYz/95RT3aKUmf6w1me9qTea77k9v3xgbEoG+cOtCHfnpSLDfZkBdYA5WAAAgAElEQVRQsY8BzEegVzAEOmA2ZiY47J7evmDLAiWvme4U5zkx4fqu0wOOQM/t/KDHQJ/Zc7AjuF8Lm+8I9IdvW+Mz0CM/Wx6QQB80ZqEjzuMnDVZWpvvT2suWxPw5IRHo3PMcYB8DhAICvYIh0AGzMTPBkXcgz2fgTVo/SZPXT9aS9IkugX70xj84Aj39nRfdBvrq4X2cgrtd8/WOQO/10FyvcT6x5+iAnd4+btwER6AnftnPa5yvDOLp7f4Eev7B/GC/xQAjsI8BzEegVzAEOmA2ZibwSkpLlPLvFJ+R9+CUB1X146p6bMT/KGXUr7dNWzP8PRVXqypZlorq11HKwDfcBvrSAVFO0X3NZQdlWVKlSiWK/ccIr4E+6oO4gMR5ZMzyn4+cxw5U7pQnlLOyt9dAX7JxvPGBvuH7DcF+iwHGYB8DmI9Ar2AIdMBszEzgfV/4vc8QnLBugqpEVZEVaalOVC2lj3rHEej5bzznOHp+6O5bPd4HPbFPP0dwx5T7/PkfGn3v8/T2Qf0TAxLow8YmKC42WisnPivFW79cHO4xt3GendNHC/PnGh3omw5sUmlpabDfYoAx2McA5iPQKxgCHTAbMxN4uXtzfYbgI/GPyIq0ZEVaemnwfU6nt+956F5HoG97/nGPgZ7w1kBHcL/efp4j0B+6LddnoEcMXxmQQJ80bpTiYqP1Y/w1jturfZPxvNtAX7b+s6DGubdAX7h1oXYe2RnstxZgHPYxgPkI9AqGQAfMxswE1qniU0rcmug1AqdumKrqfavLirRU8+MaSh31llOgn7j6Ckegr//kdbeBnjzwTU371xBHcEf/dbyeuXuFWjTdod6PJHiN8wlvjAlInPcfs1hxsdFKmfTrvc//k3ClcrI+dBvoyd/MMDLQ03ak6ceTPwb7rQUYiX0MYD4CvYIh0AGzMTOBtfWHrT4jsOO0jo6j58+MaO0U52tGvq+9Yf+josvqqfAPVysnJtxtoM+LeNvnUXJPy6eRCQEJ9NFjp2rahCHaP/dWR6B7uvf5yrWDgh7nZwd64tZEbT60WSWlJcF+WwHGYh8DmI9Ar2AIdMBszEzgnCk5o0X/XuQ1AEfljFLlqMqyIi3V6ldTSTFvuVzBPScmXDmjP9S6X26l5i7QZ/R+75wDPRC3V4uKWaa48dFatbiXSuIrS/GWTs+4RGsy33Mb6Is3TQl6nJcF+sINC7Vx/0adPH0y2G8pwHjsYwDzEegVDIEOmI2ZCZxtP27zGYB3jLvDcfT8hfhn3Mf5WYu7QJ/4z/BzivNxvcYH5Oh5zIQ4paVGal9iK8fR871J97iN88w1fbVgs717j1/IZcn2Jfpqx1faf2h/sN9KQMhgHwOYj0CvYAh0wGzMTGCUlJYodVuq1wCMzIh0xHmjwY2UnPjZOQd6zAsRiusRrc+7R+uJO1cr4ol4fd7dd6AP6Tf/gsf54LilWrE8Ql+tfFUl8VWkeEsl06to/arXjbu1Wuq2VH29/2sdOnFIpaWlzAvgJ2YGMB+BXsEQ6IDZmJnA2Hlkp88YbP95e0egv5XyllbFD3QK8W/eel5f9X3VVqCP7hKpuB7RinoyznH19nuafeM1zj//51B9NHL1BQvzPmOzFZOcrvR1w5WTHa5D85v7PHq+OrdfQI+eL/r3ImXvztb2w9t1rMh1v8W8AP5hZgDzEegVDIEOmI2ZufCKS4q1ZPsSn3E4b/M8dVvQTbfG3KoFG2Yre0wfp8+c/3R5fcmydOy/mipn5Ae2Av2hFrmOQH/p/sVeAz3mvSkXLM6HJizX7PVJSsxPUHZOH61d/bZOzbz0l8+e19La1W+7DfSUTVMvaJAv3b5U6/atU8GRAh0rOubzHubMC+AfZgYwH4FewRDogNmYmQvvm4Pf+BWN8zbPU9qiMU5HyfPfeM5xa7WjN/7B1hH0qd2j1eDS47IsqUrlYo15YZTXQB8waNH5P519xkrFZ/96Ybzl64Y64js38x3tSb5XOxY/5OHK7YPPa4wv3LpQK3auUN6BPO07vk9FZ4r8/l0yL4B/mBnAfAR6BUOgA2ZjZi6sY0XHtHDrQv9icvN8ZU6Mcorwozdd5wj0bS90shXoHzw203H0/PZrtwX03ucD41dpWlaK0/e1eNMUtyHubsnO7qPkb2b+5ihfvnO58g/m6+B/Dqq4pPg3/z6ZF8A/zAxgPgK9giHQAbMxMxfWql2rvB4pbzu1rfqk93EO2ZVTnQI8791/OOL8p4b1nU5v9xbotzbd4Qj0f7VN9H70fGDyeQnzT6au1tRVKS7f68LNXyhzTZTtQE/bEHNOQZ78bbJy9+Zq97HdOlV86rz/PpkXwD/MDGA+Ar2CIdABszEzF872w9u9xuQzs5+RFWmpclRl9VjYw/H4illDnAL8x9tvdAT6jr8+ZOsicW91HOuI80Z1jmhyt089xnnsW+N+c5hHTcjSxPQlmr/Z/feasX641mS+p0Pzb9WGFf/yGucr1w7068JwSd8mae3etfq+8HuVlJZc0N8p8wL4h5kBzEegVzAEOmA2ZubCOHTikNdT299MedNxxfbKUZX1UfpHWrBlgRI3JDhdHG5jn+6OOD9Vr7bWDH/PVqBf33idI9C7tVnk9eh5/0Ep535l9jHZGrkgQ1/mef5eU7+eqJysD3Vo/i1SvKXi6dX07dKn3MZ5Vk6EEvMTbIX5ql2r9N3R73Sm5EzAfq/MC+AfZgYwH4FewRDogNmYmfPvxOkTSvm362ne5eO8clRlR6C/NP8lx5+lLxzldOX28kfPdz3ZzvZ90C3roCxLurLuYU15eajHOB/39oRzjvP+n6/WjNxkrxG9KC9e2dnh2r/wTsct1UqmV9XXy192/dx5Th+lbPrc+/P9e5HyDuSp8FRhUH63zAvgH2YGMB+BXsEQ6IDZmJnz63TxaS0rWOYxMP+Z+E9ViqzkiPOO0zpq/i+ncyevnel09Hxbl8cdcX760lrK/bS334He48Ekj3E+5ZXPFPXZcv+Pmo/N1phFaZqX7+PU8/wEZWVHaG/SPY44L42vpK1pz7i9KNziTVM8PteygmXadXTXebnQ22/BvAD+YWYA8xHoFQyBDpiNmTl/fjrzkzIKMtwG5txv5qrTjE6OMLciLT007SHN2zzv56/ZPF+rpg1wCu/997V0BPq3XZ90G+c5MeGa82Fvl0B/s+M4tb7xa031cvR84ICkczpqPnOt96PmC7YsUNI3M5WdHa5D85s74lzxlrYt6eT21PbUrye5Xlhu60Kt2bNGh04cCvav1oF5AfzDzADmI9ArGAIdMBszc36cOH1CS7cvdRurE9ZNULMRzZzi/M+z/uw4cr5gywItXRLrNr63vdhZ37e5y2Ocrx7RR7HdPnJ7FXdvnzsf+cE0vz9rPiox3edR87LT2tevel3/SWjsFOcFizu6/cx5yqapLldi33Rgk/5z6j/B/rW6YF4A/zAzgPkI9AqGQAfMxsycH7l7cz0G65SvpqjegHqyIi1V/biqXl7wsvPR5rUzlR0b4THCPS1Zo8OV0GugRneJ9CvQx74zQX1GZdqO835TVmt6ziJbF25bujFW/17aSSXTqzrC3NNF4VbnfqKkb2b/+vn7HenacXhHQC/65i/mBfAPMwOYj0APIYWFherZs6euuuoq1ahRQ7fddptmzJjh13MQ6IDZmJnf7sTpE05XbJ+1aZZLuEZkRKjJ0CYaljnM+Wjx2pnKGh+pnJhwrY3upa3dn7Yd6PPe66+4HtF6sfU024Ee8+4U9RmVZfuz5jHJ9o6aJ+UnaOXaQcrJDtem5V1VGl9Jirf006z6LheEy87p8/N9zjd/qcStiVq7d61Rp7F7w7wA/mFmAPMR6CEkLCxM9evX19ixY5Wenq6uXbvKsizFx8fbfg4CHTAbM/PbbTqwSV/mf6m+y/qqQ1wH1exXU8OyhrlE7Bf5X7iP89EfaluXTjpVr7ZKK1XSt93+7P3I+ahwzf+gv2K6jFbYLet+uSCc70Af+WG8wkdn24rz6NkrNHt9kvcw3zxfK9YOUt7yfyg7p49ThO9LbKV9iXcrN/MdpwvBLV8/TEn5CVq1a5V2HN6h08Wng/3r8wvzAviHmQHMR6CHiKSkJFmWpenTpzs9HhYWpiZNmqi42N6VdAl0wGzMzG9z6swpvZb8muoOqOv0GfMHpzzoOWzz52np4rFaM/xdbX/+MRX+/mrHxeBkWSpqUNft/c5zYsK1fGiEPns+Vo//d5ZqVjv1yyreA31iz9H6ZHCqrTAfMmuFpmV5OJ1983wt3ThO6zJ76btFbXRydkMp3tKZGbW0Jut951PYsz789XPma6K0bEOMsndmaPvh7Tp5+mSwf23njHkB/MPMAOYj0ENE165dVbt2bZ054/xZwOnTp8uyLK1evdrW8xDogNmYmXN38vRJPTnrSacwtyIt1ehbQ49Pf9zpInALtixQck681ka/rV1PttOR5n9UcfVqTmEuy9LhFtfrq76vuoT5sB5T9PifcnTNZYfOXkVVK+9zG+jj3xyrIf3m+zylPWpClkYuyHC5OntifoLyM/6uXSlt9cO8m3R6Ri2ni76VX7ak/Z/zxd/WDtS6/M+1dW+mDhYeMPpz5f5gXgD/MDOA+Qj0ENGqVSvdddddLo/n5eXJsiyNGzfO1vOUBXpK57Za+XQHr0ve4iTn10pJ1MqnOthaypTtCJYPiLC1XnrPl122OeOlv2jln9v7XDLHjHBa7+CO7bbWW/nn9tq14SundXOmjNfKJ8N8Lsue6+yyvelvv2pr3Yzwd1zWXfHMQ1r1ZFufy9rZztce2LI8Q6ufaGtrOf7jj86vGd3f1noZL//d9Xfz8t9trbsiur/Tesd/+EGrOz9oa9m8LMNp3bUz45XZ+UGfS/n3oWN7P3hLmZ0f8Lmkv/lP19/N/z1qa92sCWOd1itYt1aZndrYWvZv2+b0P0+rhg9VVqc2Ppflzz3p+r32eEFZj7fxuWREvO+yblan+20tGxbOc1pvw4J5yn78fluLy/Z+9J6yH2vtc8no3sV13b89poyH7lJSu+ZaeP9/KeWe65T+p2u15q4/6puW12vH7Tfou+b/paXvvqbEr+dq8cqpypg/Qutfe94lyMuWI5c1UOqjj2l899c16h+9lD70Ay0bGqFFkX2V0GugXg2L04ed+zotfZ6I0qRu/1LS2x1cAv29qLmOAF84oZfWT35YGyeHKW/KA9oy9V4VxN+p/TNv0pHZv9OJ2Zfr1MxLtTX9L1qweZ6S8hOUsilOaV+N9hjkirdUEl9Fx778o3Yve1ZbvhmnHd8t0feHvlbhT4dVWlrq8nO7GBAbgH+YGcB8BHqIaNasmTp0cA2Offt+PlLTv39/N2tJRUVFOnbsmGP57rvvZFmWdluWjvlYvujeRTt37nQsX3Tv4nOdsqVsnby8POXl5SnnjutsrVdwXV2n19y5c6cONKpma90l7e50Wi8tbort7V04pL/TukmPtbG13o/1Krls75YbGtpad0OLJi7rHq1hb3vnPdvJab0v33vD9veam5HmtO7y/73Z1np7rq7lsr17rq5la93l/3uz03q5GWm2t/fL995wWnfes51srXe0huWyvRtaNLG17pYbGrqs+2O9SrbWTXqsjdN6C4f0t/29pk2b4piZnTt3akm7O22td6BRNZftLbiurq11c+64zmVdu9t7Pv6OKFsC8XfEyjZ3K/mzCCV9+pGSPovUl716On9NHUvH2lg69p6lY7GWjo3/dRn1SpRi3/5Usb2HKfbdzxT7yitOf15+2f6p5RLofUdO1sj4uYqZOUd5U+7yuG75Zdvse7Rs+RitWBGrFasmaFXmFP046VLHn/8w9XLtm3OPvkt5SQU5sSrYlufys7nYl/LzwsLC4nthZljcLceOHbto/yE3FBHoIaJZs2bq2LGjy+NlgT5gwAC360VERLj8jyILCwsLCwsLCwsLC0vZEqiPv8I3Aj1EnOsp7mcfQT9y5Ii2b9+uo0ePOj1+oZbdu3fLsizt3r07IK/HwhLqCzPDwmJ/YV5YWPxbmBkWTwtH0M1BoIeIbt26ub1I3IwZM2RZ9i8SF2jHjgX2onRAqGNmAPuYF8A/zAxgPgI9RCQnJ8uyLM2cOdPp8Y4dO/p1m7VAY0cA+IeZAexjXgD/MDOA+Qj0EBIWFqYGDRooNjZW6enp6tatmyzL0rRp04K9aR6xIwD8w8wA9jEvgH+YGcB8BHoIKSws1Ouvv67GjRurevXqatGihWbMmOF7xSAqKipSRESEioqKgr0pQEhgZgD7mBfAP8wMYD4CHQAAAAAAAxDoAAAAAAAYgEAHAAAAAMAABDoAAAAAAAYg0ENEWlqaXnzxRd1www265JJL1KRJEz3++ONau3aty9euW7dObdu21aWXXqp69erpiSee0Pbt252+ZuvWrerVq5datmypevXqqUGDBrrnnnuUkJDg9vUPHDigLl26qGHDhqpVq5ZatWqlpUuX+vU92NkuSdq3b5+6dOmiRo0aqUaNGrr11ls1YcIE269z/PhxvfPOOwoLC9Pll18uy7IUERHh8nXFxcUaOnSoOnTooKuvvlq1atXSjTfeqHfffVdHjhzx63uDWUJ9XlauXKmXXnpJLVu2VPXq1WVZlgoKCly+zt/t8qSwsFA9e/bUVVddpRo1aui2225zewFKu9uF0BPMmdm9e7d69uyp1q1bq169erIsS5MnT/b7e7gQs+yO3X2MJJWWlmr48OG64YYbVL16dTVu3Fg9evTQ4cOH/f7+YJaKMjOSZFmW22XAgAG2XsefmfFnu4CLFYEeIp566ik98MADiomJ0bJly5SQkKBWrVqpatWqSktLc3zd5s2bVadOHd13331KSkrS3Llz1bx5czVp0kQHDx50fN3IkSN144036pNPPlFqaqqSk5PVpUsXWZalqKgop9cuKirSLbfcomuuuUbTpk1TamqqOnXqpKpVq2rZsmW2tt/udh09elTXXXedrrnmGk2ePFkpKSmO7Ro6dKit1yooKFC9evXUunVrde3a1eOOoLCwUHXq1NHLL7+shIQEZWRkaOjQoWrQoIFuvvlmnTx50tbrwTyhPi+RkZG69tpr1blzZ7Vp08ZjCPuzXd6EhYWpfv36Gjt2rNLT0x1zEx8ff07bhdATzJnJyMjQ5Zdfrnbt2umvf/3rOcXGhdguT+zuYyTprbfeUuXKldW7d2+lpqbqs88+U926dXXHHXfo9OnTfn2PMEtFmRnp50B/6qmnlJWV5bTs3bvX1mv5MzP+bBdwsSLQQ8SBAwdcHissLNSVV16ptm3bOh57+umndfnllzvd33Lnzp2qVq2aevfu7Xjs0KFDKi0tdXnORx55RJdcconT7TdGjx4ty7KUmZnpeOzMmTO6+eab9ac//cnW9tvdrgEDBsiyLJd/gW7fvr0uvfRSW0e2S0tLHd/boUOHvB5B/+GHH1weT0hIkGVZiouLs/W9wTyhPi8lJSWO/x4yZIjHEPZnuzxJSkqSZVmaPn260+NhYWFq0qSJiouL/d4uhJ5gzkz591Vubu45xcaF2C5P7O5j9uzZoypVqui1115zenz69OmyLEuxsbF2vz0YqKLMjPRzoL/yyit+PX95dmfG3+0CLlYEeoh74IEHdP3110v6OQJq1aql7t27u3xd+/bt1axZM5/PFxUVJcuytG/fPsdj7dq10w033ODytf3795dlWdqzZ4/X5/Rnux599FFdeeWVLl83YsQIWZbl933ffe0I3Nm1a5csy1L//v39ei2YLxTm5WznEsLutsuTrl27qnbt2jpz5ozT42URsXr16vO2XQg9gZiZ8s4lNgKxXZ5428fMmTNHlmVp0aJFTo8fP35clmWpQ4cOfr0WQsPFODO/NdDL8zYz5+PnBVwMCPQQdvToUcdncyRpy5YtsixLo0ePdvnat99+W5UqVdJPP/3k9TnbtGmjRo0aOR01a9y4sZ5++mmXr01MTJRlWVq8eLHX5/Rnu9q3b6/f/e53Ll83btw4WZal999/3+trne1cAn3y5MmyLEvz58/367VgtlCZl7OdSwi72y5PWrVqpbvuusvl8by8PFmWpXHjxp237UJoCdTMlHcusRGI7fLE2z6m7B+50tPTnR7/6aefVKlSJV111VV+vRbMd7HOjGVZatCggWrWrKnq1aurZcuWmjRpku3XK8/bzJyPnxdwMSDQQ9jf/vY3Va1a1XE6+OrVqz0eZS47euft6MD48eNlWZaGDx/u9Hi1atXc/mtmZmam21Njz+bPdr3xxhuqXLmydu3a5fR1zz33nCzL0ssvv+z1tc7mb6Dv2bNHV155pe68806nU8gQ+kJlXs7mbwh72i5PmjVr5vZI3r59+7yeSUKgX/wCNTPlnUtsBGK7PPG2j9mwYYMsy1Lfvn2dHk9LS5NlWapevbrfrwezXawz8+yzzyo+Pl4rVqzQnDlz9NBDD8myLIWHh9t+zTLeZua3/ryAiwWBHqLCw8NlWZZGjhzpeKzsL7aZM2e6fH3ZX2zff/+92+dLTk5W9erV9dRTT7l8BqpatWrq0aOHyzplwVH2F2lJSYnOnDnjWMr+tdef7crPz1eNGjV07733Ki8vTz/88INGjRrluGJ02XaUlpY6vdbZp+eW8SfQf/zxR7Vo0UJXXHEFVwu9yITSvJzNnxD2tF3e5qVZs2bq2LGjy3OVBbqnq/QS6Be3QM5Med5i43zsY+xu1/nax7Ru3Vp169bV7NmzdeTIEa1evVrNmjVTlSpVVLNmTY8/B4SeijIzZR599FFVrVrVceG28zEz52O7gIsBgR6CIiMjZVmWPvnkE6fHz/XUoJSUFNWsWVOPPPKITp065fLndk/ZLbvaaNly//33n9N2JScnq2nTpo7nadq0qUaOHOl0JCIjI8PptTyFgt1AP3z4sFq2bKmGDRtq48aNXr8WoSXU5uVsdkPY23Z5mxdOccfZAj0z5XmLjfO1j7GzXedrH3PgwAHH0cayo+bvvvuu7rjjDv3xj3/0+rNA6KgoM1PezJkzZVmWkpOTJZ2fmeEUd+BnBHqIKdsJREZGuvxZ2cU13B2969Chg9uLa5TtBDp06ODx6rVhYWG68cYbXR4vu+J62W02CgoKlJub61i2bNlyzttVWlqqb7/9Vvn5+SouLnZ8lm/58uWSfr7ITvnXys3NdbsTsxPoZXHeoEEDrV+/3uPXIfSE4ryczU4I+9oub/PSrVs3txeJmzFjhiyLi8RVNMGYmfK8xcb53Mf8lpkpz+4/Ah84cEAbN27U0aNHderUKdWpU0cvvvii13UQGirKzJytbB+RkpIi6fzMzPnYLuBiQKCHkI8//tjnZ36eeeYZXXHFFTp+/LjjsV27djn+1b68xYsXq2bNmmrXrp3Xf5GMiYmRZVnKzs52PHbmzBk1b95cd999t61t92e7znbq1Cndfffduv322229Vnm+/uepLM7r16+v3Nxcv58f5grleSnPVwjb3S5PkpOT3Z5S2LFjR5fbrPmzXQg9wZqZ8s71llEXers8OZcLkQ4fPlyVK1fWunXrftNrI/gqysy48/DDD6tatWo6dOiQX6/ra2Z+63YBFwMCPURER0fLsix17NhRWVlZLkuZzZs3q3bt2mrdurWSk5P1xRdf6JZbblGTJk0cnxOSpJUrV6pWrVr6/e9/r/T0dJfnK3//yaKiIjVv3lxNmzZVfHy8lixZoieeeEJVq1bVsmXLbG2/3e2SpFdffVVz5sxRRkaGJk6cqNtuu00NGzZUXl6e7Z9XcnKyEhISNGnSJFmWpaeffloJCQlKSEjQiRMnJEknT57UXXfdpUqVKmn48OEuP4Nt27bZfj2YJdTn5eDBg4736/PPPy/LshQTE6OEhASn5/Bnu7wJCwtTgwYNFBsbq/T0dHXr1k2WZWnatGnntF0IPcGcGUmO99WgQYNkWT/f0qnsMTsu1HZ5YmcfI0mxsbGKjY1VWlqa5s6dq65du6pSpUoer+2A0FFRZmbw4MF64YUXFBcXp4yMDM2aNUvt27f3eNaAJ3Znxp//XwQuVgR6iLj//vtdPttTfilv7dq1atu2rS655BLVrVtXnTt3donNiIgIr8+XkZHh9PX79+/X888/r8suu0w1a9ZUq1attGTJEr++BzvbJUmdOnXSVVddpWrVqqlx48Z64YUXtHPnTr9e69prr/X4vZUd8SsoKPD6M+jSpYtfrwlzhPq8uPssn7vPqvu7XZ4UFhbq9ddfV+PGjVW9enW1aNHC7VV07W4XQk+wZ8bua3tzIbbLEzv7GOnnW4TedNNNuuSSS1S7dm3dd999mjdvnu3vCeaqKDOzYMEC3XvvvWrUqJGqVq2qOnXq6L777nO7j/DG7szY3S7gYkagAwAAAABgAAIdAAAAAAADEOgAAAAAABiAQAcAAAAAwAAEOgAAAAAABiDQAQAAAAAwAIEOAAAAAIABCHQAAAAAAAxAoAMAAAAAYAACHQAAAAAAAxDoAAAAAAAYgEAHAAAAAMAABDoAAAAAAAYg0AEAAAAAMACBDgAAAACAAQh0AAAAAAAMQKADAAAAAGAAAh0AAAAAAAMQ6AAAAAAAGIBABwAAAADAAAQ6AAAAAAAGINABAAAAADAAgQ4AAAAAgAEIdAAAAAAADECgAwAAAABgAAIdAAAAAAADEOgAAAAAABiAQAcAAAAAwAAEOgAAAAAABiDQAQAAAAAwAIEOAAAAAIABCHQAAAAAAAxAoAMAAAAAYAACHQAAAAAAAxDoAAAAAAAYgEAHAAAAAMAABDoAAAAAAAYg0AEAAAAAMACBDgAAAACAAQh0AAAAAAAMQKADAAAAAGAAAh0AAAAAAAMQ6AAAAAAAGIBABwAAAADAAAQ6AAAAAAAGINABAAAAADAAgQ4AAAAAgAEIdAAAAAAADECgAwAAAABgAAIdAAAAAAADEBYWBIcAAAMQSURBVOgAAAAAABiAQAcAAAAAwAAEOgAAAAAABiDQAQAAAAAwAIEOAAAAAIABCHQAAAAAAAxAoAMAAAAAYAACHQAAAAAAAxDoAAAAAAAYgEAHAAAAAMAABDoAAAAAAAYg0AEAAAAAMACBDgAAAACAAQh0AAAAAAAMQKADAAAAAGAAAh0AAAAAAAMQ6AAAAAAAGIBABwAAAADAAAQ6AAAAAAAGINABAAAAADAAgQ4AAAAAgAEIdAAAAAAADECgAwAAAABgAAIdAAAAAAADEOgAAAAAABiAQAcAAAAAwAAEOgAAAAAABiDQAQAAAAAwAIEOAAAAAIABCHQAAAAAAAxAoAMAAAAAYAACHQAAAAAAAxDoAAAAAAAYgEAHAAAAAMAABDoAAAAAAAYg0AEAAAAAMACBDgAAAACAAQh0AAAAAAAMQKADAAAAAGAAAh0AAAAAAAMQ6AAAAAAAGIBABwAAAADAAAQ6AAAAAAAGINABAAAAADAAgQ4AAAAAgAEIdAAAAAAADECgAwAAAABgAAIdAAAAAAADEOgAAAAAABiAQAcAAAAAwAAEOgAAAAAABiDQAQAAAAAwAIEOAAAAAIABCHQAAAAAAAxAoAMAAAAAYAACHQAAAAAAAxDoAAAAAAAYgEAHAAAAAMAABDoAAAAAAAYg0AEAAAAAMACBDgAAAACAAQh0AAAAAAAMQKADAAAAAGAAAh0AAAAAAAMQ6AAAAAAAGIBABwAAAADAAAQ6AAAAAAAGINABAAAAADAAgQ4AAAAAgAEIdAAAAAAADECgAwAAAABgAAIdAAAAAAADEOgAAAAAABiAQAcAAAAAwAAEOgAAAAAABiDQAQAAAAAwAIEOAAAAAIABCHQAAAAAAAxAoAMAAAAAYAACHQAAAAAAAxDoAAAAAAAYgEAHAAAAAMAABDoAAAAAAAYg0AEAAAAAMACBDgAAAACAAQh0AAAAAAAMQKADAAAAAGAAAh0AAAAAAAMQ6AAAAAAAGIBABwAAAADAAAQ6AAAAAAAGINABAAAAADAAgQ4AAAAAgAH+H2oGAvG22WX8AAAAAElFTkSuQmCC\" width=\"1000\">"
      ],
      "text/plain": [
       "<IPython.core.display.HTML object>"
      ]
     },
     "metadata": {},
     "output_type": "display_data"
    }
   ],
   "source": [
    "# ----------------\n",
    "# Visualize result\n",
    "# ----------------\n",
    "# Plot\n",
    "fig,(ax1, ax2, ax3) = plt.subplots(3,sharex=True,figsize=(10,15))\n",
    "legend_pos = (0.5, 1.35)\n",
    "legend_col = 2\n",
    "\n",
    "label1 = 'current behaviour - +30%'\n",
    "label2 = 'current behaviour - +50%'\n",
    "label3 = 'SB March 1 - +30%'\n",
    "label4 = 'SB March 1 - +50%'\n",
    "label5 = 'SB May 1 - +50% '\n",
    "\n",
    "# Incidence\n",
    "plot_band_binom(ax1, S1a_time, S1a_H_in_binom, 'green', label=label1)\n",
    "plot_band_binom(ax1, S1b_time, S1b_H_in_binom, 'blue', label=label2)\n",
    "plot_band_binom(ax1, S2a_time, S2a_H_in_binom, 'orange', label=label3)\n",
    "plot_band_binom(ax1, S2b_time, S2b_H_in_binom, 'red', label=label4)\n",
    "#plot_band_binom(ax1, S5b_time, S5b_H_in_binom, 'lightblue', label=label5)\n",
    "\n",
    "ax1.scatter(df_sciensano[start_sim:end_sim].index,df_sciensano['H_in'][start_sim:end_sim],color='black',alpha=0.4,linestyle='None',facecolors='none')\n",
    "ax1.legend(loc='upper center', bbox_to_anchor=legend_pos, ncol=legend_col)\n",
    "\n",
    "# Load\n",
    "plot_band_binom(ax2, S1a_time, S1a_H_tot_binom, 'green', label=label1)\n",
    "plot_band_binom(ax2, S1b_time, S1b_H_tot_binom, 'blue', label=label2)\n",
    "plot_band_binom(ax2, S2a_time, S2a_H_tot_binom, 'orange', label=label3)\n",
    "plot_band_binom(ax2, S2b_time, S2b_H_tot_binom, 'red', label=label4)\n",
    "#plot_band_binom(ax2, S5b_time, S5b_H_tot_binom, 'lightblue', label=label5)\n",
    "\n",
    "\n",
    "ax2.scatter(df_sciensano[start_sim:end_sim].index,df_sciensano['H_tot'][start_sim:end_sim],color='black',alpha=0.4,linestyle='None',facecolors='none')\n",
    "\n",
    "# British variant\n",
    "plot_band_binom(ax3, S1a_time, S1a_alpha*100, 'green', label=label1, axis=0)\n",
    "plot_band_binom(ax3, S1b_time, S1b_alpha*100, 'blue', label=label2, axis=0)\n",
    "plot_band_binom(ax3, S2a_time, S2a_alpha*100, 'orange', label=label3, axis=0)\n",
    "plot_band_binom(ax3, S2b_time, S2b_alpha*100, 'red', label=label4, axis=0)\n",
    "#plot_band_binom(ax3, S5b_time, S5b_alpha*100, 'lightblue', label=label5, axis=0)\n",
    "\n",
    "# Format\n",
    "ax1.set_title('New hospitalizations')\n",
    "ax1.set_ylabel('$H_{in} $(-)')\n",
    "ax1.set_xlim('2020-09-01',end_sim)\n",
    "ax1.axvline(x=pd.to_datetime('2021-01-15'),color='black')\n",
    "ax1.text(pd.Timestamp('2021-01-16'),750, ' introduction \\n new strain', fontsize=10)\n",
    "ax1 = _apply_tick_locator(ax1)\n",
    "ax2.set_title('Total patients in hospital')\n",
    "ax2.set_ylabel('$H_{tot}$ (-)')\n",
    "ax2.set_xlim('2020-09-01',end_sim)\n",
    "ax2.axvline(x=pd.to_datetime('2021-01-15'),color='red')\n",
    "ax2 = _apply_tick_locator(ax2)\n",
    "ax3.set_title('Prevalence of new strain')\n",
    "ax3.set_ylabel('$\\\\alpha$ (%)')\n",
    "ax3.axvline(x=pd.to_datetime('2021-01-15'),color='black')\n",
    "ax3.set_xlim('2020-09-01',end_sim)\n",
    "ax3.set_ylim(0,100)\n",
    "ax3 = _apply_tick_locator(ax3)\n",
    "# date_exceed = get_date_of_exceeding_alpha(out_S1a, ['Nc', 'draws'], 0.25)\n",
    "# ax3.axvline(x=date_exceed, color='gray')\n",
    "# ax3.text(date_exceed+pd.Timedelta('1D'),10, ' exceeding \\n 25% on {}/{}'.format(date_exceed.day, date_exceed.month), \n",
    "#          fontsize=10, color='gray')\n",
    "\n",
    "\n",
    "fig.suptitle('Scenarios current contact behaviour')\n",
    "\n",
    "fig_path =  '../../results/predictions/national/restore_v7.0/'\n",
    "#fig.savefig(fig_path+'Scenarios'+'.jpg', dpi=400, bbox_inches='tight')"
   ]
  },
  {
   "cell_type": "code",
   "execution_count": null,
   "metadata": {
    "ExecuteTime": {
     "end_time": "2021-02-11T09:46:13.421859Z",
     "start_time": "2021-02-11T09:46:13.372532Z"
    }
   },
   "outputs": [],
   "source": [
    "get_date_of_exceeding_alpha(out_S1b, ['Nc', 'draws'], 0.45)"
   ]
  },
  {
   "cell_type": "code",
   "execution_count": null,
   "metadata": {
    "ExecuteTime": {
     "end_time": "2021-02-03T15:01:37.993108Z",
     "start_time": "2021-02-03T15:01:37.728002Z"
    }
   },
   "outputs": [],
   "source": [
    "check_overtake_duration(out_S1a, ['Nc', 'draws'])"
   ]
  },
  {
   "cell_type": "markdown",
   "metadata": {},
   "source": [
    "## Vaccination effect"
   ]
  },
  {
   "cell_type": "code",
   "execution_count": null,
   "metadata": {
    "ExecuteTime": {
     "end_time": "2021-02-11T09:35:11.282400Z",
     "start_time": "2021-02-11T09:35:10.178995Z"
    },
    "scrolled": false
   },
   "outputs": [],
   "source": [
    "# ----------------\n",
    "# Visualize result\n",
    "# ----------------\n",
    "# Plot\n",
    "fig,(ax1, ax2, ax3) = plt.subplots(3,sharex=True,figsize=(10,15))\n",
    "legend_pos = (0.5, 1.35)\n",
    "legend_col = 2\n",
    "\n",
    "label1 = 'current behaviour - +50% - no vaccination'\n",
    "label2 = 'current behaviour - +50%'\n",
    "label3 = 'september behaviour - +30 - no vaccination%'\n",
    "label4 = 'september behaviour - +50%'\n",
    "\n",
    "# Incidence\n",
    "plot_band_binom(ax1, S4a_time, S4a_H_in_binom, 'green', label=label1)\n",
    "plot_band_binom(ax1, S1b_time, S1b_H_in_binom, 'blue', label=label2)\n",
    "plot_band_binom(ax1, S3a_time, S3a_H_in_binom, 'orange', label=label3)\n",
    "plot_band_binom(ax1, S2b_time, S2b_H_in_binom, 'red', label=label4)\n",
    "\n",
    "ax1.scatter(df_sciensano[start_sim:end_sim].index,df_sciensano['H_in'][start_sim:end_sim],color='black',alpha=0.4,linestyle='None',facecolors='none')\n",
    "ax1.legend(loc='upper center', bbox_to_anchor=legend_pos, ncol=legend_col)\n",
    "\n",
    "# Load\n",
    "plot_band_binom(ax2, S4a_time, S4a_H_tot_binom, 'green', label=label1)\n",
    "plot_band_binom(ax2, S1b_time, S1b_H_tot_binom, 'blue', label=label2)\n",
    "plot_band_binom(ax2, S3a_time, S3a_H_tot_binom, 'orange', label=label3)\n",
    "plot_band_binom(ax2, S2b_time, S2b_H_tot_binom, 'red', label=label4)\n",
    "\n",
    "ax2.scatter(df_sciensano[start_sim:end_sim].index,df_sciensano['H_tot'][start_sim:end_sim],color='black',alpha=0.4,linestyle='None',facecolors='none')\n",
    "\n",
    "# British variant\n",
    "plot_band_binom(ax3, S4a_time, S4a_alpha*100, 'green', label=label1, axis=0)\n",
    "plot_band_binom(ax3, S1b_time, S1b_alpha*100, 'blue', label=label2, axis=0)\n",
    "plot_band_binom(ax3, S3a_time, S3a_alpha*100, 'orange', label=label3, axis=0)\n",
    "plot_band_binom(ax3, S2b_time, S2b_alpha*100, 'red', label=label4, axis=0)\n",
    "\n",
    "# Format\n",
    "ax1.set_title('New hospitalizations')\n",
    "ax1.set_ylabel('$H_{in} $(-)')\n",
    "ax1.set_xlim('2020-09-01',end_sim)\n",
    "ax1.axvline(x=pd.to_datetime('2021-01-15'),color='black')\n",
    "ax1.text(pd.Timestamp('2021-01-16'),750, ' introduction \\n new strain', fontsize=10)\n",
    "ax1 = _apply_tick_locator(ax1)\n",
    "ax2.set_title('Total patients in hospital')\n",
    "ax2.set_ylabel('$H_{tot}$ (-)')\n",
    "ax2.set_xlim('2020-09-01',end_sim)\n",
    "ax2.axvline(x=pd.to_datetime('2021-01-15'),color='red')\n",
    "ax2 = _apply_tick_locator(ax2)\n",
    "ax3.set_title('Prevalence of new strain')\n",
    "ax3.set_ylabel('$\\\\alpha$ (%)')\n",
    "ax3.axvline(x=pd.to_datetime('2021-01-15'),color='black')\n",
    "ax3.set_xlim('2020-09-01',end_sim)\n",
    "ax3.set_ylim(0,100)\n",
    "ax3 = _apply_tick_locator(ax3)\n",
    "# date_exceed = get_date_of_exceeding_alpha(out_S4a, ['Nc', 'draws'], 0.25)\n",
    "# ax3.axvline(x=date_exceed, color='gray')\n",
    "# ax3.text(date_exceed+pd.Timedelta('1D'),10, ' exceeding \\n 25% on {}/{}'.format(date_exceed.day, date_exceed.month), \n",
    "#          fontsize=10, color='gray')\n",
    "\n",
    "\n",
    "fig.suptitle('Scenarios current contact behaviour')\n",
    "\n",
    "fig_path =  '../../results/predictions/national/restore_v7.0/'\n",
    "#fig.savefig(fig_path+'Scenarios_vaccination'+'.jpg', dpi=400, bbox_inches='tight')"
   ]
  },
  {
   "cell_type": "markdown",
   "metadata": {
    "heading_collapsed": true
   },
   "source": [
    "# Alternative scenarios A1"
   ]
  },
  {
   "cell_type": "code",
   "execution_count": null,
   "metadata": {
    "ExecuteTime": {
     "end_time": "2021-01-27T09:32:33.725372Z",
     "start_time": "2021-01-27T09:32:33.685124Z"
    },
    "hidden": true
   },
   "outputs": [],
   "source": [
    "start_sim1 = '2020-09-01'\n",
    "end_sim1 = '2021-01-15' # Initiate new strain on 15 Jan\n",
    "end_sim2 = '2021-05-01'\n",
    "warmup = 0\n",
    "n_samples = 5\n",
    "n_draws_per_sample = 50\n",
    "effectivity = 0.9\n",
    "portion_new_strain_introduced = 0.001\n",
    "scenario = '1'"
   ]
  },
  {
   "cell_type": "markdown",
   "metadata": {
    "heading_collapsed": true,
    "hidden": true
   },
   "source": [
    "## A1a - vacc - old strain"
   ]
  },
  {
   "cell_type": "code",
   "execution_count": null,
   "metadata": {
    "ExecuteTime": {
     "end_time": "2021-01-25T12:04:35.340868Z",
     "start_time": "2021-01-25T12:04:25.177737Z"
    },
    "hidden": true
   },
   "outputs": [],
   "source": [
    "model_A1a = vaccin_model(initial_states_sept, scenario=scenario,Nc_fun=report7_policy_function, N_vacc_fun=None)\n",
    "out_A1a = model_A1a.sim(end_sim2,start_date=start_sim1,warmup=warmup,N=n_samples,draw_fcn=draw_fcn,samples=samples_dict,verbose=True)"
   ]
  },
  {
   "cell_type": "code",
   "execution_count": null,
   "metadata": {
    "ExecuteTime": {
     "end_time": "2021-01-25T12:04:35.482019Z",
     "start_time": "2021-01-25T12:04:35.345674Z"
    },
    "hidden": true
   },
   "outputs": [],
   "source": [
    "A1a_H_in_binom = sample_from_binomial(out_A1a, 'H_in', n_draws_per_sample, n_samples, LL, UL)\n",
    "A1a_time = out_A1a[\"time\"].values\n",
    "A1a_alpha = out_A1a['alpha'].mean(dim=\"Nc\").values"
   ]
  },
  {
   "cell_type": "markdown",
   "metadata": {
    "heading_collapsed": true,
    "hidden": true
   },
   "source": [
    "## A1b - no vacc - new strain"
   ]
  },
  {
   "cell_type": "code",
   "execution_count": null,
   "metadata": {
    "ExecuteTime": {
     "end_time": "2021-01-25T12:04:50.728468Z",
     "start_time": "2021-01-25T12:04:35.490290Z"
    },
    "hidden": true
   },
   "outputs": [],
   "source": [
    "model_A1b = vaccin_model(initial_states_sept, scenario=scenario,Nc_fun=report7_policy_function, N_vacc_fun=None)\n",
    "out_A1b = model_A1b.sim(end_sim1,start_date=start_sim1,warmup=warmup,N=n_samples,draw_fcn=draw_fcn,samples=samples_dict,verbose=True)\n",
    "\n",
    "# Average and pass on state variables\n",
    "initial_states_2 = out_A1b.sel(time=end_sim1).mean(dim=\"draws\")\n",
    "# One promille of British variant on January 15th 2021\n",
    "initial_states_2['alpha'].values = portion_new_strain_introduced*np.ones(9)\n",
    "# Re-Initialize\n",
    "model_A1b_part2 = vaccin_model(initial_states_2, scenario=scenario,Nc_fun=report7_policy_function, N_vacc_fun=None)\n",
    "out_A1b_part2 = model_A1b_part2.sim(end_sim2,start_date=end_sim1,warmup=warmup,N=n_samples,draw_fcn=draw_fcn,samples=samples_dict,verbose=True)"
   ]
  },
  {
   "cell_type": "code",
   "execution_count": null,
   "metadata": {
    "ExecuteTime": {
     "end_time": "2021-01-25T12:04:50.835779Z",
     "start_time": "2021-01-25T12:04:50.733020Z"
    },
    "hidden": true
   },
   "outputs": [],
   "source": [
    "A1b_H_in_binom = sample_from_binomial(out_A1b, 'H_in', n_draws_per_sample, n_samples, LL, UL)\n",
    "A1b_H_in_binom = sample_from_binomial(out_A1b_part2, 'H_in', n_draws_per_sample, n_samples, LL, UL, A1b_H_in_binom)"
   ]
  },
  {
   "cell_type": "code",
   "execution_count": null,
   "metadata": {
    "ExecuteTime": {
     "end_time": "2021-01-25T12:01:05.771064Z",
     "start_time": "2021-01-25T12:01:05.672339Z"
    },
    "hidden": true
   },
   "outputs": [],
   "source": [
    "# A1b_H_tot_binom = sample_from_binomial(out_A1b, 'H_tot', n_draws_per_sample, n_samples, LL, UL)\n",
    "# A1b_H_tot_binom = sample_from_binomial(out_A1b_part2, 'H_tot', n_draws_per_sample, n_samples, LL, UL, A1b_H_tot_binom)"
   ]
  },
  {
   "cell_type": "code",
   "execution_count": null,
   "metadata": {
    "ExecuteTime": {
     "end_time": "2021-01-25T12:04:50.960164Z",
     "start_time": "2021-01-25T12:04:50.840293Z"
    },
    "hidden": true
   },
   "outputs": [],
   "source": [
    "A1b_time = out_A1b[\"time\"].values\n",
    "A1b_alpha = out_A1b['alpha'].mean(dim=\"Nc\").values\n",
    "A1b_time = np.append(A1b_time, out_A1b_part2['time'].values)\n",
    "A1b_alpha = np.append(A1b_alpha,out_A1b_part2['alpha'].mean(dim=\"Nc\").values,axis=1)"
   ]
  },
  {
   "cell_type": "markdown",
   "metadata": {
    "heading_collapsed": true,
    "hidden": true
   },
   "source": [
    "## A1c - vaccination - old strain"
   ]
  },
  {
   "cell_type": "code",
   "execution_count": null,
   "metadata": {
    "ExecuteTime": {
     "end_time": "2021-01-25T12:05:01.855812Z",
     "start_time": "2021-01-25T12:04:50.967256Z"
    },
    "hidden": true
   },
   "outputs": [],
   "source": [
    "model_A1c = vaccin_model(initial_states_sept, scenario=scenario, effectivity=effectivity, Nc_fun=report7_policy_function, N_vacc_fun=vacc_strategy)\n",
    "out_A1c = model_A1c.sim(end_sim2,start_date=start_sim1,warmup=warmup,N=n_samples,draw_fcn=draw_fcn,samples=samples_dict,verbose=True)"
   ]
  },
  {
   "cell_type": "code",
   "execution_count": null,
   "metadata": {
    "ExecuteTime": {
     "end_time": "2021-01-25T12:05:01.993746Z",
     "start_time": "2021-01-25T12:05:01.860836Z"
    },
    "hidden": true
   },
   "outputs": [],
   "source": [
    "A1c_H_in_binom = sample_from_binomial(out_A1c, 'H_in', n_draws_per_sample, n_samples, LL, UL)\n",
    "A1c_time = out_A1c[\"time\"].values\n",
    "A1c_alpha = out_A1c['alpha'].mean(dim=\"Nc\").values"
   ]
  },
  {
   "cell_type": "markdown",
   "metadata": {
    "hidden": true
   },
   "source": [
    "## A1d - vaccination - new strain"
   ]
  },
  {
   "cell_type": "code",
   "execution_count": null,
   "metadata": {
    "ExecuteTime": {
     "end_time": "2021-01-27T09:32:51.030056Z",
     "start_time": "2021-01-27T09:32:43.494305Z"
    },
    "hidden": true
   },
   "outputs": [],
   "source": [
    "model_A1d = vaccin_model(initial_states_sept, scenario=scenario, effectivity=effectivity, Nc_fun=report7_policy_function, N_vacc_fun=vacc_strategy)\n",
    "out_A1d = model_A1d.sim(end_sim1,start_date=start_sim1,warmup=warmup,N=n_samples,draw_fcn=draw_fcn,samples=samples_dict,verbose=True)\n",
    "\n",
    "# Average and pass on state variables\n",
    "initial_states_2 = out_A1d.sel(time=end_sim1).mean(dim=\"draws\")\n",
    "# One promille of British variant on January 15th 2021\n",
    "initial_states_2['alpha'].values = portion_new_strain_introduced*np.ones(9)\n",
    "# Re-Initialize\n",
    "model_A1d_part2 = vaccin_model(initial_states_2, scenario=scenario, effectivity=effectivity, Nc_fun=report7_policy_function, N_vacc_fun=vacc_strategy)\n",
    "out_A1d_part2 = model_A1d_part2.sim(end_sim2,start_date=end_sim1,warmup=warmup,N=n_samples,draw_fcn=draw_fcn,samples=samples_dict,verbose=True)"
   ]
  },
  {
   "cell_type": "code",
   "execution_count": null,
   "metadata": {
    "ExecuteTime": {
     "end_time": "2021-01-27T08:49:43.164360Z",
     "start_time": "2021-01-27T08:49:43.112541Z"
    },
    "hidden": true
   },
   "outputs": [],
   "source": [
    "model_A1d_part2.parameters['beta']"
   ]
  },
  {
   "cell_type": "code",
   "execution_count": null,
   "metadata": {
    "ExecuteTime": {
     "end_time": "2021-01-27T09:32:55.404626Z",
     "start_time": "2021-01-27T09:32:55.355098Z"
    },
    "hidden": true
   },
   "outputs": [],
   "source": [
    "A1d_H_in_binom = sample_from_binomial(out_A1d, 'H_in', n_draws_per_sample, n_samples)\n",
    "A1d_H_in_binom = sample_from_binomial(out_A1d_part2, 'H_in', n_draws_per_sample, n_samples, A1d_H_in_binom)"
   ]
  },
  {
   "cell_type": "code",
   "execution_count": null,
   "metadata": {
    "ExecuteTime": {
     "end_time": "2021-01-25T12:02:49.523011Z",
     "start_time": "2021-01-25T12:02:49.403700Z"
    },
    "hidden": true
   },
   "outputs": [],
   "source": [
    "# A1d_H_tot_binom = sample_from_binomial(out_A1d, 'H_tot', n_draws_per_sample, n_samples)\n",
    "# A1d_H_tot_binom = sample_from_binomial(out_A1d_part2, 'H_tot', n_draws_per_sample, n_samples, A1d_H_tot_binom)"
   ]
  },
  {
   "cell_type": "code",
   "execution_count": null,
   "metadata": {
    "ExecuteTime": {
     "end_time": "2021-01-25T12:05:17.785145Z",
     "start_time": "2021-01-25T12:05:17.546313Z"
    },
    "hidden": true
   },
   "outputs": [],
   "source": [
    "A1d_time = out_A1d[\"time\"].values\n",
    "A1d_alpha = out_A1d['alpha'].mean(dim=\"Nc\").values\n",
    "A1d_time = np.append(A1d_time, out_A1d_part2['time'].values)\n",
    "A1d_alpha = np.append(A1d_alpha,out_A1d_part2['alpha'].mean(dim=\"Nc\").values,axis=1)"
   ]
  },
  {
   "cell_type": "markdown",
   "metadata": {
    "hidden": true
   },
   "source": [
    "## Visualise"
   ]
  },
  {
   "cell_type": "code",
   "execution_count": null,
   "metadata": {
    "ExecuteTime": {
     "end_time": "2021-01-25T12:08:36.932017Z",
     "start_time": "2021-01-25T12:08:33.890888Z"
    },
    "hidden": true,
    "scrolled": false
   },
   "outputs": [],
   "source": [
    "# ----------------\n",
    "# Visualize result\n",
    "# ----------------\n",
    "# Plot\n",
    "fig,(ax1, ax3) = plt.subplots(2,sharex=True,figsize=(10,10))\n",
    "legend_pos = (0.5, 1.25)\n",
    "legend_col = 2\n",
    "\n",
    "# Incidence\n",
    "plot_band_binom(ax1, A1a_time, A1a_H_in_binom, 'green', label='no new strain')\n",
    "plot_band_binom(ax1, A1b_time, A1b_H_in_binom, 'blue', label='new strain on 15/1')\n",
    "plot_band_binom(ax1, A1c_time, A1c_H_in_binom, 'orange', label='no new strain - vacc')\n",
    "plot_band_binom(ax1, A1d_time, A1d_H_in_binom, 'red', label='new strain on 15/1 - vacc')\n",
    "\n",
    "ax1.scatter(df_sciensano[start_sim1:end_sim1].index,df_sciensano['H_in'][start_sim1:end_sim1],color='black',alpha=0.4,linestyle='None',facecolors='none')\n",
    "ax1.legend(loc='upper center', bbox_to_anchor=legend_pos, ncol=legend_col)\n",
    "\n",
    "# Load\n",
    "# plot_band_binom(ax2, A1b_time, A1b_H_tot_binom, 'blue', label='H_in')\n",
    "# ax2.scatter(df_sciensano[start_sim1:end_sim1].index,df_sciensano['H_tot'][start_sim1:end_sim1],color='black',alpha=0.4,linestyle='None',facecolors='none')\n",
    "\n",
    "# British variant\n",
    "# ax3.plot(A1a_time,np.mean(A1a_alpha,axis=0)*100,'--', color='green', label='no new strain')\n",
    "# ax3.plot(A1b_time,np.mean(A1b_alpha,axis=0)*100,'--', color='blue', label='new strain on 15/1')\n",
    "# ax3.fill_between(A1b_time,np.quantile(A1b_alpha,UL,axis=0)*100, np.quantile(A1b_alpha,LL,axis=0)*100,alpha=0.20, color = 'blue')\n",
    "plot_band_binom(ax3, A1a_time, A1a_alpha*100, 'green', label='no new strain', axis=0)\n",
    "plot_band_binom(ax3, A1b_time, A1b_alpha*100, 'blue', label='new strain on 15/1', axis=0)\n",
    "plot_band_binom(ax3, A1c_time, A1c_alpha*100, 'orange', label='no new strain - vacc', axis=0)\n",
    "plot_band_binom(ax3, A1d_time, A1d_alpha*100, 'red', label='new strain on 15/1 - vacc', axis=0)\n",
    "\n",
    "# Format\n",
    "ax1.set_title('New hospitalizations')\n",
    "ax1.set_ylabel('$H_{in} $(-)')\n",
    "ax1.set_xlim('2020-09-01',end_sim2)\n",
    "ax1.axvline(x=pd.to_datetime('2021-01-15'),color='black')\n",
    "ax1.text(pd.Timestamp('2021-01-16'),750, ' introduction \\n new strain', fontsize=10)\n",
    "ax1 = _apply_tick_locator(ax1)\n",
    "# ax2.set_title('Total patients in hospital')\n",
    "# ax2.set_ylabel('$H_{tot}$ (-)')\n",
    "# ax2.set_xlim('2020-09-01',end_sim2)\n",
    "# ax2.axvline(x=pd.to_datetime('2021-01-15'),color='red')\n",
    "# ax2 = _apply_tick_locator(ax2)\n",
    "ax3.set_title('Prevalence of new strain')\n",
    "ax3.set_ylabel('$\\\\alpha$ (%)')\n",
    "ax3.axvline(x=pd.to_datetime('2021-01-15'),color='black')\n",
    "ax3.set_xlim('2020-09-01',end_sim2)\n",
    "ax3.set_ylim(0,100)\n",
    "ax3 = _apply_tick_locator(ax3)\n",
    "date_exceed = get_date_of_exceeding_alpha(out_A1b_part2, ['Nc', 'draws'], 0.25)\n",
    "ax3.axvline(x=date_exceed, color='gray')\n",
    "ax3.text(date_exceed+pd.Timedelta('1D'),10, ' exceeding \\n 25% on {}/{}'.format(date_exceed.day, date_exceed.month), \n",
    "         fontsize=10, color='gray')\n",
    "\n",
    "\n",
    "fig.suptitle('Scenarios current contact behaviour')\n",
    "\n",
    "fig_path =  '../../results/predictions/national/restore_v7.0/'\n",
    "#fig.savefig(fig_path+'restore_v7.0_'+'British_variant'+'.pdf', dpi=400, bbox_inches='tight')\n",
    "fig.savefig(fig_path+'A1'+'.jpg', dpi=400, bbox_inches='tight')"
   ]
  },
  {
   "cell_type": "code",
   "execution_count": null,
   "metadata": {
    "ExecuteTime": {
     "end_time": "2021-01-25T10:38:47.401074Z",
     "start_time": "2021-01-25T10:38:47.355453Z"
    },
    "hidden": true,
    "scrolled": false
   },
   "outputs": [],
   "source": [
    "date_exceed = get_date_of_exceeding_alpha(out_A1b_part2, ['Nc', 'draws'], 0.25)"
   ]
  },
  {
   "cell_type": "code",
   "execution_count": null,
   "metadata": {
    "ExecuteTime": {
     "end_time": "2021-01-25T10:35:58.631558Z",
     "start_time": "2021-01-25T10:35:58.585829Z"
    },
    "hidden": true
   },
   "outputs": [],
   "source": [
    "check_overtake_duration(out_A1b_part2, ['Nc', 'draws'])"
   ]
  },
  {
   "cell_type": "markdown",
   "metadata": {
    "heading_collapsed": true
   },
   "source": [
    "# Alternative scenarios A2"
   ]
  },
  {
   "cell_type": "code",
   "execution_count": null,
   "metadata": {
    "ExecuteTime": {
     "end_time": "2021-01-25T12:13:52.125261Z",
     "start_time": "2021-01-25T12:13:52.012131Z"
    },
    "hidden": true
   },
   "outputs": [],
   "source": [
    "start_sim1 = '2020-09-01'\n",
    "end_sim1 = '2021-01-15' # Initiate new strain on 15 Jan\n",
    "end_sim2 = '2021-07-01'\n",
    "warmup = 0\n",
    "n_samples = 5\n",
    "n_draws_per_sample = 50\n",
    "effectivity = 0.9\n",
    "portion_new_strain_introduced = 0.001\n",
    "scenario = '2a'"
   ]
  },
  {
   "cell_type": "markdown",
   "metadata": {
    "heading_collapsed": true,
    "hidden": true
   },
   "source": [
    "## A2a - no vacc - old strain"
   ]
  },
  {
   "cell_type": "code",
   "execution_count": null,
   "metadata": {
    "ExecuteTime": {
     "end_time": "2021-01-25T12:14:06.961439Z",
     "start_time": "2021-01-25T12:13:53.844958Z"
    },
    "hidden": true
   },
   "outputs": [],
   "source": [
    "model_A2a = vaccin_model(initial_states_sept, scenario=scenario,Nc_fun=report7_policy_function, N_vacc_fun=None)\n",
    "out_A2a = model_A2a.sim(end_sim2,start_date=start_sim1,warmup=warmup,N=n_samples,draw_fcn=draw_fcn,samples=samples_dict,verbose=True)"
   ]
  },
  {
   "cell_type": "code",
   "execution_count": null,
   "metadata": {
    "ExecuteTime": {
     "end_time": "2021-01-25T12:14:07.118005Z",
     "start_time": "2021-01-25T12:14:06.965858Z"
    },
    "hidden": true
   },
   "outputs": [],
   "source": [
    "A2a_H_in_binom = sample_from_binomial(out_A2a, 'H_in', n_draws_per_sample, n_samples, LL, UL)\n",
    "A2a_time = out_A2a[\"time\"].values\n",
    "A2a_alpha = out_A2a['alpha'].mean(dim=\"Nc\").values"
   ]
  },
  {
   "cell_type": "markdown",
   "metadata": {
    "heading_collapsed": true,
    "hidden": true
   },
   "source": [
    "## A2b - no vacc - new strain"
   ]
  },
  {
   "cell_type": "code",
   "execution_count": null,
   "metadata": {
    "ExecuteTime": {
     "end_time": "2021-01-25T12:14:26.001631Z",
     "start_time": "2021-01-25T12:14:07.135775Z"
    },
    "hidden": true
   },
   "outputs": [],
   "source": [
    "model_A2b = vaccin_model(initial_states_sept, scenario=scenario,Nc_fun=report7_policy_function, N_vacc_fun=None)\n",
    "out_A2b = model_A2b.sim(end_sim1,start_date=start_sim1,warmup=warmup,N=n_samples,draw_fcn=draw_fcn,samples=samples_dict,verbose=True)\n",
    "\n",
    "# Average and pass on state variables\n",
    "initial_states_2 = out_A2b.sel(time=end_sim1).mean(dim=\"draws\")\n",
    "# One promille of British variant on January 15th 2021\n",
    "initial_states_2['alpha'].values = portion_new_strain_introduced*np.ones(9)\n",
    "# Re-Initialize\n",
    "model_A2b_part2 = vaccin_model(initial_states_2, scenario=scenario,Nc_fun=report7_policy_function, N_vacc_fun=None)\n",
    "out_A2b_part2 = model_A2b_part2.sim(end_sim2,start_date=end_sim1,warmup=warmup,N=n_samples,draw_fcn=draw_fcn,samples=samples_dict,verbose=True)"
   ]
  },
  {
   "cell_type": "code",
   "execution_count": null,
   "metadata": {
    "ExecuteTime": {
     "end_time": "2021-01-25T12:14:26.129311Z",
     "start_time": "2021-01-25T12:14:26.005934Z"
    },
    "hidden": true
   },
   "outputs": [],
   "source": [
    "A2b_H_in_binom = sample_from_binomial(out_A2b, 'H_in', n_draws_per_sample, n_samples, LL, UL)\n",
    "A2b_H_in_binom = sample_from_binomial(out_A2b_part2, 'H_in', n_draws_per_sample, n_samples, LL, UL, A2b_H_in_binom)"
   ]
  },
  {
   "cell_type": "code",
   "execution_count": null,
   "metadata": {
    "ExecuteTime": {
     "end_time": "2021-01-25T12:14:26.274264Z",
     "start_time": "2021-01-25T12:14:26.134697Z"
    },
    "hidden": true
   },
   "outputs": [],
   "source": [
    "# A2b_H_tot_binom = sample_from_binomial(out_A2b, 'H_tot', n_draws_per_sample, n_samples, LL, UL)\n",
    "# A2b_H_tot_binom = sample_from_binomial(out_A2b_part2, 'H_tot', n_draws_per_sample, n_samples, LL, UL, A2b_H_tot_binom)"
   ]
  },
  {
   "cell_type": "code",
   "execution_count": null,
   "metadata": {
    "ExecuteTime": {
     "end_time": "2021-01-25T12:14:26.385523Z",
     "start_time": "2021-01-25T12:14:26.286805Z"
    },
    "hidden": true
   },
   "outputs": [],
   "source": [
    "A2b_time = out_A2b[\"time\"].values\n",
    "A2b_alpha = out_A2b['alpha'].mean(dim=\"Nc\").values\n",
    "A2b_time = np.append(A2b_time, out_A2b_part2['time'].values)\n",
    "A2b_alpha = np.append(A2b_alpha,out_A2b_part2['alpha'].mean(dim=\"Nc\").values,axis=1)"
   ]
  },
  {
   "cell_type": "markdown",
   "metadata": {
    "heading_collapsed": true,
    "hidden": true
   },
   "source": [
    "## A2c - vaccination - old strain"
   ]
  },
  {
   "cell_type": "code",
   "execution_count": null,
   "metadata": {
    "ExecuteTime": {
     "end_time": "2021-01-25T12:14:44.705845Z",
     "start_time": "2021-01-25T12:14:26.394481Z"
    },
    "hidden": true
   },
   "outputs": [],
   "source": [
    "model_A2c = vaccin_model(initial_states_sept, scenario=scenario, effectivity=effectivity, Nc_fun=report7_policy_function, N_vacc_fun=vacc_strategy)\n",
    "out_A2c = model_A2c.sim(end_sim2,start_date=start_sim1,warmup=warmup,N=n_samples,draw_fcn=draw_fcn,samples=samples_dict,verbose=True)"
   ]
  },
  {
   "cell_type": "code",
   "execution_count": null,
   "metadata": {
    "ExecuteTime": {
     "end_time": "2021-01-25T12:14:44.953711Z",
     "start_time": "2021-01-25T12:14:44.716075Z"
    },
    "hidden": true
   },
   "outputs": [],
   "source": [
    "A2c_H_in_binom = sample_from_binomial(out_A2c, 'H_in', n_draws_per_sample, n_samples, LL, UL)\n",
    "A2c_time = out_A2c[\"time\"].values\n",
    "A2c_alpha = out_A2c['alpha'].mean(dim=\"Nc\").values"
   ]
  },
  {
   "cell_type": "markdown",
   "metadata": {
    "heading_collapsed": true,
    "hidden": true
   },
   "source": [
    "## A2d - vaccination - new strain"
   ]
  },
  {
   "cell_type": "code",
   "execution_count": null,
   "metadata": {
    "ExecuteTime": {
     "end_time": "2021-01-25T12:15:07.170053Z",
     "start_time": "2021-01-25T12:14:44.967453Z"
    },
    "hidden": true
   },
   "outputs": [],
   "source": [
    "model_A2d = vaccin_model(initial_states_sept, scenario=scenario, effectivity=effectivity, Nc_fun=report7_policy_function, N_vacc_fun=vacc_strategy)\n",
    "out_A2d = model_A2d.sim(end_sim1,start_date=start_sim1,warmup=warmup,N=n_samples,draw_fcn=draw_fcn,samples=samples_dict,verbose=True)\n",
    "\n",
    "# Average and pass on state variables\n",
    "initial_states_2 = out_A2d.sel(time=end_sim1).mean(dim=\"draws\")\n",
    "# One promille of British variant on January 15th 2021\n",
    "initial_states_2['alpha'].values = portion_new_strain_introduced*np.ones(9)\n",
    "# Re-Initialize\n",
    "model_A2d_part2 = vaccin_model(initial_states_2, scenario=scenario, effectivity=effectivity, Nc_fun=report7_policy_function, N_vacc_fun=vacc_strategy)\n",
    "out_A2d_part2 = model_A2d_part2.sim(end_sim2,start_date=end_sim1,warmup=warmup,N=n_samples,draw_fcn=draw_fcn,samples=samples_dict,verbose=True)"
   ]
  },
  {
   "cell_type": "code",
   "execution_count": null,
   "metadata": {
    "ExecuteTime": {
     "end_time": "2021-01-25T12:15:07.285448Z",
     "start_time": "2021-01-25T12:15:07.173834Z"
    },
    "hidden": true
   },
   "outputs": [],
   "source": [
    "A2d_H_in_binom = sample_from_binomial(out_A2d, 'H_in', n_draws_per_sample, n_samples, LL, UL)\n",
    "A2d_H_in_binom = sample_from_binomial(out_A2d_part2, 'H_in', n_draws_per_sample, n_samples, LL, UL, A2d_H_in_binom)"
   ]
  },
  {
   "cell_type": "code",
   "execution_count": null,
   "metadata": {
    "ExecuteTime": {
     "end_time": "2021-01-25T12:15:07.403353Z",
     "start_time": "2021-01-25T12:15:07.289869Z"
    },
    "hidden": true
   },
   "outputs": [],
   "source": [
    "# A2d_H_tot_binom = sample_from_binomial(out_A2d, 'H_tot', n_draws_per_sample, n_samples, LL, UL)\n",
    "# A2d_H_tot_binom = sample_from_binomial(out_A2d_part2, 'H_tot', n_draws_per_sample, n_samples, LL, UL, A2d_H_tot_binom)"
   ]
  },
  {
   "cell_type": "code",
   "execution_count": null,
   "metadata": {
    "ExecuteTime": {
     "end_time": "2021-01-25T12:15:07.501189Z",
     "start_time": "2021-01-25T12:15:07.407898Z"
    },
    "hidden": true
   },
   "outputs": [],
   "source": [
    "A2d_time = out_A2d[\"time\"].values\n",
    "A2d_alpha = out_A2d['alpha'].mean(dim=\"Nc\").values\n",
    "A2d_time = np.append(A2d_time, out_A2d_part2['time'].values)\n",
    "A2d_alpha = np.append(A2d_alpha,out_A2d_part2['alpha'].mean(dim=\"Nc\").values,axis=1)"
   ]
  },
  {
   "cell_type": "markdown",
   "metadata": {
    "heading_collapsed": true,
    "hidden": true
   },
   "source": [
    "## Visualise"
   ]
  },
  {
   "cell_type": "code",
   "execution_count": null,
   "metadata": {
    "ExecuteTime": {
     "end_time": "2021-01-25T12:15:09.921321Z",
     "start_time": "2021-01-25T12:15:07.510719Z"
    },
    "hidden": true,
    "scrolled": false
   },
   "outputs": [],
   "source": [
    "# ----------------\n",
    "# Visualize result\n",
    "# ----------------\n",
    "# Plot\n",
    "fig,(ax1, ax3) = plt.subplots(2,sharex=True,figsize=(10,10))\n",
    "legend_pos = (0.5, 1.25)\n",
    "legend_col = 2\n",
    "\n",
    "# Incidence\n",
    "plot_band_binom(ax1, A2a_time, A2a_H_in_binom, 'green', label='no new strain')\n",
    "plot_band_binom(ax1, A2b_time, A2b_H_in_binom, 'blue', label='new strain on 15/1')\n",
    "plot_band_binom(ax1, A2c_time, A2c_H_in_binom, 'orange', label='no new strain - vacc')\n",
    "plot_band_binom(ax1, A2d_time, A2d_H_in_binom, 'red', label='new strain on 15/1 - vacc')\n",
    "\n",
    "ax1.scatter(df_sciensano[start_sim1:end_sim1].index,df_sciensano['H_in'][start_sim1:end_sim1],color='black',alpha=0.4,linestyle='None',facecolors='none')\n",
    "ax1.legend(loc='upper center', bbox_to_anchor=legend_pos, ncol=legend_col)\n",
    "\n",
    "# Load\n",
    "# plot_band_binom(ax2, A2b_time, A2b_H_tot_binom, 'blue', label='H_in')\n",
    "# ax2.scatter(df_sciensano[start_sim1:end_sim1].index,df_sciensano['H_tot'][start_sim1:end_sim1],color='black',alpha=0.4,linestyle='None',facecolors='none')\n",
    "\n",
    "# British variant\n",
    "# ax3.plot(A2a_time,np.mean(A2a_alpha,axis=0)*100,'--', color='green', label='no new strain')\n",
    "# ax3.plot(A2b_time,np.mean(A2b_alpha,axis=0)*100,'--', color='blue', label='new strain on 15/1')\n",
    "# ax3.fill_between(A2b_time,np.quantile(A2b_alpha,UL,axis=0)*100, np.quantile(A2b_alpha,LL,axis=0)*100,alpha=0.20, color = 'blue')\n",
    "plot_band_binom(ax3, A2a_time, A2a_alpha*100, 'green', label='no new strain', axis=0)\n",
    "plot_band_binom(ax3, A2b_time, A2b_alpha*100, 'blue', label='new strain on 15/1', axis=0)\n",
    "plot_band_binom(ax3, A2c_time, A2c_alpha*100, 'orange', label='no new strain - vacc', axis=0)\n",
    "plot_band_binom(ax3, A2d_time, A2d_alpha*100, 'red', label='new strain on 15/1 - vacc', axis=0)\n",
    "\n",
    "# Format\n",
    "ax1.set_title('New hospitalizations')\n",
    "ax1.set_ylabel('$H_{in} $(-)')\n",
    "ax1.set_xlim('2020-09-01',end_sim2)\n",
    "ax1.axvline(x=pd.to_datetime('2021-01-15'),color='black')\n",
    "ax1.text(pd.Timestamp('2021-01-16'),750, ' introduction \\n new strain', fontsize=10)\n",
    "ax1 = _apply_tick_locator(ax1)\n",
    "# ax2.set_title('Total patients in hospital')\n",
    "# ax2.set_ylabel('$H_{tot}$ (-)')\n",
    "# ax2.set_xlim('2020-09-01',end_sim2)\n",
    "# ax2.axvline(x=pd.to_datetime('2021-01-15'),color='red')\n",
    "# ax2 = _apply_tick_locator(ax2)\n",
    "ax3.set_title('Prevalence of new strain')\n",
    "ax3.set_ylabel('$\\\\alpha$ (%)')\n",
    "ax3.axvline(x=pd.to_datetime('2021-01-15'),color='black')\n",
    "ax3.set_xlim('2020-09-01',end_sim2)\n",
    "ax3.set_ylim(0,100)\n",
    "ax3 = _apply_tick_locator(ax3)\n",
    "date_exceed = get_date_of_exceeding_alpha(out_A2b_part2, ['Nc', 'draws'], 0.25)\n",
    "ax3.axvline(x=date_exceed, color='gray')\n",
    "ax3.text(date_exceed+pd.Timedelta('1D'),10, ' exceeding \\n 25% on {}/{}'.format(date_exceed.day, date_exceed.month), \n",
    "         fontsize=10, color='gray')\n",
    "\n",
    "\n",
    "fig.suptitle('Scenarios release on  March 1')\n",
    "\n",
    "fig_path =  '../../results/predictions/national/restore_v7.0/'\n",
    "#fig.savefig(fig_path+'restore_v7.0_'+'British_variant'+'.pdf', dpi=400, bbox_inches='tight')\n",
    "fig.savefig(fig_path+'A2'+'.jpg', dpi=400, bbox_inches='tight')"
   ]
  },
  {
   "cell_type": "markdown",
   "metadata": {},
   "source": [
    "# Save data"
   ]
  },
  {
   "cell_type": "code",
   "execution_count": null,
   "metadata": {
    "ExecuteTime": {
     "end_time": "2021-02-08T10:19:25.425795Z",
     "start_time": "2021-02-08T10:18:39.298432Z"
    }
   },
   "outputs": [],
   "source": [
    "results = pd.DataFrame()\n",
    "results['Date'] =  out_S1a['time']\n",
    "for x in ['S1a', 'S1b', 'S2a', 'S2b', 'S3a', 'S4a', 'S5a', 'S5b']:\n",
    "    for var in ['H_in', 'H_tot']:\n",
    "        binom = eval(x+'_'+var+'_binom')\n",
    "        if var == 'H_in':\n",
    "            results[x+'_incidences_mean'] = np.mean(binom, axis=1)\n",
    "            results[x+'_incidences_median'] = np.median(binom, axis=1)\n",
    "            results[x+'_incidences_LL'] = np.quantile(binom, q = LL, axis = 1)\n",
    "            results[x+'_incidences_UL'] = np.quantile(binom, q = UL, axis = 1)\n",
    "        if var == 'H_tot':\n",
    "            results[x+'_load_mean'] = np.mean(binom, axis=1)\n",
    "            results[x+'_load_median'] = np.median(binom, axis=1)\n",
    "            results[x+'_load_LL'] = np.quantile(binom, q = LL, axis = 1)\n",
    "            results[x+'_load_UL'] = np.quantile(binom, q = UL, axis = 1)\n",
    "            \n",
    "results.to_csv('../../results/predictions/national/restore_v7.0/UGent_restore_v7.csv')"
   ]
  },
  {
   "cell_type": "markdown",
   "metadata": {
    "ExecuteTime": {
     "end_time": "2020-12-02T09:47:36.607419Z",
     "start_time": "2020-12-02T09:47:33.398902Z"
    },
    "heading_collapsed": true
   },
   "source": [
    "# Plot saved data"
   ]
  },
  {
   "cell_type": "code",
   "execution_count": null,
   "metadata": {
    "ExecuteTime": {
     "end_time": "2020-12-02T12:05:19.070053Z",
     "start_time": "2020-12-02T12:05:19.026546Z"
    },
    "hidden": true
   },
   "outputs": [],
   "source": [
    "S_results_H_in = pd.read_csv('../../results/vaccinations/national/S_results_H_in.csv', parse_dates=['time'])"
   ]
  },
  {
   "cell_type": "code",
   "execution_count": null,
   "metadata": {
    "hidden": true
   },
   "outputs": [],
   "source": [
    "plot_band_saved_data(ax3, S_results_H_in, 'S1', 'S1_LL', 'S1_UL', 'gray', 'no vaccination')\n"
   ]
  },
  {
   "cell_type": "code",
   "execution_count": null,
   "metadata": {
    "ExecuteTime": {
     "end_time": "2020-12-02T12:05:22.288309Z",
     "start_time": "2020-12-02T12:05:22.083028Z"
    },
    "hidden": true
   },
   "outputs": [],
   "source": [
    "fig,(ax3,ax4) = plt.subplots(figsize=(10,5), nrows=1, ncols=2, sharex=True, sharey=True)\n",
    "\n",
    "ax3.plot('DATE','H_in',data=df_sciensano[start_calibration:end_sim].reset_index(), marker='.', \n",
    "         c='gray', label='data', lw=0, markersize=9, alpha=0.3, markeredgecolor='none')\n",
    "plot_band_saved_data(ax3, S_results_H_in, 'S1', 'S1_LL', 'S1_UL', 'gray', 'no vaccination')\n",
    "plot_band_saved_data(ax3, S_results_H_in, 'S1', 'S1_LL', 'S1_UL', 'gray', 'no vaccination')\n",
    "\n",
    "# plot_band(ax3, y_model_S4a, 'H_in', 'C0', '0% at start')\n",
    "# plot_band(ax3, y_model_S4b, 'H_in', 'C1', '10% at start')\n",
    "# plot_band(ax3, y_model_S4c, 'H_in', 'C2', '30% at start')\n",
    "# plot_band(ax3, y_model_S4d, 'H_in', 'C3', '50% at start')\n",
    "\n",
    "ax3.set_xlim(start_x, end_x)\n",
    "ax3.set_xticks(pd.date_range(start_x, end_grid, periods=4))\n",
    "ax3.xaxis.set_tick_params(which='both', labelbottom=True)\n",
    "ax3.set_title('Vaccination according to age')\n",
    "\n",
    "ax4.plot('DATE','H_in',data=df_sciensano[start_calibration:end_sim].reset_index(), marker='.', \n",
    "         c='gray', label='data', lw=0, markersize=9, alpha=0.3, markeredgecolor='none')\n",
    "# plot_band(ax4, y_model_S1, 'H_in', 'gray', 'no vaccination')\n",
    "# plot_band(ax4, y_model_S5a, 'H_in', 'C0', '0% at start')\n",
    "# plot_band(ax4, y_model_S5b, 'H_in', 'C1', '10% at start')\n",
    "# plot_band(ax4, y_model_S5c, 'H_in', 'C2', '30% at start')\n",
    "# plot_band(ax4, y_model_S5d, 'H_in', 'C3', '50% at start')\n",
    "\n",
    "ax4.set_xlim(start_x, end_x)\n",
    "ax4.set_xticks(pd.date_range(start_x, end_grid, periods=4))\n",
    "ax4.xaxis.set_tick_params(which='both', labelbottom=True)\n",
    "ax4.set_title('Vaccination according to number of contacts')\n",
    "\n",
    "\n",
    "ax3.legend(loc='upper center', bbox_to_anchor=(1, 1.35), ncol=3)\n",
    "ax3.set_ylim(0,800)\n",
    "fig.text(0, 0.5, 'Number of new hospitalizations', va='center', rotation='vertical')\n",
    "fig.text(0.5, 0.01, 'Time', va='center', rotation='horizontal')\n"
   ]
  },
  {
   "cell_type": "code",
   "execution_count": null,
   "metadata": {
    "hidden": true
   },
   "outputs": [],
   "source": []
  },
  {
   "cell_type": "code",
   "execution_count": null,
   "metadata": {
    "hidden": true
   },
   "outputs": [],
   "source": []
  }
 ],
 "metadata": {
  "kernelspec": {
   "display_name": "Python 3",
   "language": "python",
   "name": "python3"
  },
  "language_info": {
   "codemirror_mode": {
    "name": "ipython",
    "version": 3
   },
   "file_extension": ".py",
   "mimetype": "text/x-python",
   "name": "python",
   "nbconvert_exporter": "python",
   "pygments_lexer": "ipython3",
   "version": "3.8.2"
  },
  "nav_menu": {},
  "toc": {
   "base_numbering": 1,
   "nav_menu": {},
   "number_sections": true,
   "sideBar": true,
   "skip_h1_title": false,
   "title_cell": "Table of Contents",
   "title_sidebar": "Contents",
   "toc_cell": true,
   "toc_position": {
    "height": "calc(100% - 180px)",
    "left": "10px",
    "top": "150px",
    "width": "327px"
   },
   "toc_section_display": "block",
   "toc_window_display": true
  }
 },
 "nbformat": 4,
 "nbformat_minor": 4
}
